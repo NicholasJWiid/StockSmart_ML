{
 "cells": [
  {
   "cell_type": "markdown",
   "metadata": {},
   "source": [
    "# Smart_Stock_ML: Classification"
   ]
  },
  {
   "cell_type": "markdown",
   "metadata": {},
   "source": [
    "## Setup and Explore the data"
   ]
  },
  {
   "cell_type": "code",
   "execution_count": 78,
   "metadata": {},
   "outputs": [
    {
     "data": {
      "text/html": [
       "<div>\n",
       "<style scoped>\n",
       "    .dataframe tbody tr th:only-of-type {\n",
       "        vertical-align: middle;\n",
       "    }\n",
       "\n",
       "    .dataframe tbody tr th {\n",
       "        vertical-align: top;\n",
       "    }\n",
       "\n",
       "    .dataframe thead th {\n",
       "        text-align: right;\n",
       "    }\n",
       "</style>\n",
       "<table border=\"1\" class=\"dataframe\">\n",
       "  <thead>\n",
       "    <tr style=\"text-align: right;\">\n",
       "      <th></th>\n",
       "      <th>Year</th>\n",
       "      <th>Outperformed?</th>\n",
       "      <th>Interest Rate (Federal Funds Effective Rate)</th>\n",
       "      <th>CPI</th>\n",
       "      <th>UnemploymentRate</th>\n",
       "      <th>GDPGrowthRate</th>\n",
       "      <th>GICS Sector</th>\n",
       "      <th>GICS Sub-Industry</th>\n",
       "      <th>Founded</th>\n",
       "      <th>Gender</th>\n",
       "      <th>CEO Transition</th>\n",
       "      <th>Tenure Bucket</th>\n",
       "      <th>HQ_US_State_or_Country</th>\n",
       "      <th>Salary_Bucket</th>\n",
       "    </tr>\n",
       "  </thead>\n",
       "  <tbody>\n",
       "    <tr>\n",
       "      <th>0</th>\n",
       "      <td>2015</td>\n",
       "      <td>1</td>\n",
       "      <td>0.11</td>\n",
       "      <td>0.1</td>\n",
       "      <td>5.3</td>\n",
       "      <td>2.9</td>\n",
       "      <td>Health Care</td>\n",
       "      <td>Life Sciences Tools &amp; Services</td>\n",
       "      <td>1999</td>\n",
       "      <td>M</td>\n",
       "      <td>1.0</td>\n",
       "      <td>&lt;= 2 years</td>\n",
       "      <td>California</td>\n",
       "      <td>(15000000, 20000000]</td>\n",
       "    </tr>\n",
       "    <tr>\n",
       "      <th>1</th>\n",
       "      <td>2016</td>\n",
       "      <td>1</td>\n",
       "      <td>0.34</td>\n",
       "      <td>1.3</td>\n",
       "      <td>4.9</td>\n",
       "      <td>1.8</td>\n",
       "      <td>Health Care</td>\n",
       "      <td>Life Sciences Tools &amp; Services</td>\n",
       "      <td>1999</td>\n",
       "      <td>M</td>\n",
       "      <td>0.0</td>\n",
       "      <td>&lt;= 2 years</td>\n",
       "      <td>California</td>\n",
       "      <td>(15000000, 20000000]</td>\n",
       "    </tr>\n",
       "    <tr>\n",
       "      <th>2</th>\n",
       "      <td>2017</td>\n",
       "      <td>1</td>\n",
       "      <td>0.65</td>\n",
       "      <td>2.1</td>\n",
       "      <td>4.4</td>\n",
       "      <td>2.5</td>\n",
       "      <td>Health Care</td>\n",
       "      <td>Life Sciences Tools &amp; Services</td>\n",
       "      <td>1999</td>\n",
       "      <td>M</td>\n",
       "      <td>0.0</td>\n",
       "      <td>&lt;= 2 years</td>\n",
       "      <td>California</td>\n",
       "      <td>(15000000, 20000000]</td>\n",
       "    </tr>\n",
       "    <tr>\n",
       "      <th>3</th>\n",
       "      <td>2018</td>\n",
       "      <td>1</td>\n",
       "      <td>1.41</td>\n",
       "      <td>2.4</td>\n",
       "      <td>3.9</td>\n",
       "      <td>3.0</td>\n",
       "      <td>Health Care</td>\n",
       "      <td>Life Sciences Tools &amp; Services</td>\n",
       "      <td>1999</td>\n",
       "      <td>M</td>\n",
       "      <td>0.0</td>\n",
       "      <td>2 to 5 years</td>\n",
       "      <td>California</td>\n",
       "      <td>(15000000, 20000000]</td>\n",
       "    </tr>\n",
       "    <tr>\n",
       "      <th>4</th>\n",
       "      <td>2019</td>\n",
       "      <td>0</td>\n",
       "      <td>2.40</td>\n",
       "      <td>1.8</td>\n",
       "      <td>3.7</td>\n",
       "      <td>2.5</td>\n",
       "      <td>Health Care</td>\n",
       "      <td>Life Sciences Tools &amp; Services</td>\n",
       "      <td>1999</td>\n",
       "      <td>M</td>\n",
       "      <td>0.0</td>\n",
       "      <td>2 to 5 years</td>\n",
       "      <td>California</td>\n",
       "      <td>(15000000, 20000000]</td>\n",
       "    </tr>\n",
       "  </tbody>\n",
       "</table>\n",
       "</div>"
      ],
      "text/plain": [
       "   Year  Outperformed?  Interest Rate (Federal Funds Effective Rate)  CPI  \\\n",
       "0  2015              1                                          0.11  0.1   \n",
       "1  2016              1                                          0.34  1.3   \n",
       "2  2017              1                                          0.65  2.1   \n",
       "3  2018              1                                          1.41  2.4   \n",
       "4  2019              0                                          2.40  1.8   \n",
       "\n",
       "   UnemploymentRate  GDPGrowthRate  GICS Sector  \\\n",
       "0               5.3            2.9  Health Care   \n",
       "1               4.9            1.8  Health Care   \n",
       "2               4.4            2.5  Health Care   \n",
       "3               3.9            3.0  Health Care   \n",
       "4               3.7            2.5  Health Care   \n",
       "\n",
       "                GICS Sub-Industry Founded Gender  CEO Transition  \\\n",
       "0  Life Sciences Tools & Services    1999      M             1.0   \n",
       "1  Life Sciences Tools & Services    1999      M             0.0   \n",
       "2  Life Sciences Tools & Services    1999      M             0.0   \n",
       "3  Life Sciences Tools & Services    1999      M             0.0   \n",
       "4  Life Sciences Tools & Services    1999      M             0.0   \n",
       "\n",
       "  Tenure Bucket HQ_US_State_or_Country         Salary_Bucket  \n",
       "0    <= 2 years             California  (15000000, 20000000]  \n",
       "1    <= 2 years             California  (15000000, 20000000]  \n",
       "2    <= 2 years             California  (15000000, 20000000]  \n",
       "3  2 to 5 years             California  (15000000, 20000000]  \n",
       "4  2 to 5 years             California  (15000000, 20000000]  "
      ]
     },
     "execution_count": 78,
     "metadata": {},
     "output_type": "execute_result"
    }
   ],
   "source": [
    "# Import dependencies\n",
    "from sklearn.model_selection import train_test_split\n",
    "from sklearn.preprocessing import StandardScaler\n",
    "from sklearn.linear_model import LogisticRegression\n",
    "from sklearn.neighbors import KNeighborsClassifier\n",
    "from sklearn.metrics import confusion_matrix,classification_report\n",
    "from sklearn import ensemble\n",
    "from sklearn.cluster import KMeans\n",
    "import pandas as pd\n",
    "import matplotlib.pyplot as plt\n",
    "\n",
    "\n",
    "#  Import completed dataset\n",
    "sp500_company_ml_df = pd.read_csv(\"data/sp500_company_ml.csv\")\n",
    "sp500_company_ml_df.head()"
   ]
  },
  {
   "cell_type": "code",
   "execution_count": 79,
   "metadata": {},
   "outputs": [
    {
     "name": "stdout",
     "output_type": "stream",
     "text": [
      "<class 'pandas.core.frame.DataFrame'>\n",
      "RangeIndex: 4366 entries, 0 to 4365\n",
      "Data columns (total 14 columns):\n",
      " #   Column                                        Non-Null Count  Dtype  \n",
      "---  ------                                        --------------  -----  \n",
      " 0   Year                                          4366 non-null   int64  \n",
      " 1   Outperformed?                                 4366 non-null   int64  \n",
      " 2   Interest Rate (Federal Funds Effective Rate)  4366 non-null   float64\n",
      " 3   CPI                                           4366 non-null   float64\n",
      " 4   UnemploymentRate                              4366 non-null   float64\n",
      " 5   GDPGrowthRate                                 4366 non-null   float64\n",
      " 6   GICS Sector                                   4366 non-null   object \n",
      " 7   GICS Sub-Industry                             4366 non-null   object \n",
      " 8   Founded                                       4366 non-null   object \n",
      " 9   Gender                                        4366 non-null   object \n",
      " 10  CEO Transition                                4366 non-null   float64\n",
      " 11  Tenure Bucket                                 4366 non-null   object \n",
      " 12  HQ_US_State_or_Country                        4366 non-null   object \n",
      " 13  Salary_Bucket                                 4366 non-null   object \n",
      "dtypes: float64(5), int64(2), object(7)\n",
      "memory usage: 477.7+ KB\n"
     ]
    }
   ],
   "source": [
    "# View data info\n",
    "sp500_company_ml_df.info()"
   ]
  },
  {
   "cell_type": "code",
   "execution_count": 80,
   "metadata": {},
   "outputs": [
    {
     "data": {
      "text/plain": [
       "Year                                              9\n",
       "Outperformed?                                     2\n",
       "Interest Rate (Federal Funds Effective Rate)      9\n",
       "CPI                                               9\n",
       "UnemploymentRate                                  9\n",
       "GDPGrowthRate                                     7\n",
       "GICS Sector                                      11\n",
       "GICS Sub-Industry                               124\n",
       "Founded                                         161\n",
       "Gender                                            2\n",
       "CEO Transition                                    2\n",
       "Tenure Bucket                                     4\n",
       "HQ_US_State_or_Country                           49\n",
       "Salary_Bucket                                     7\n",
       "dtype: int64"
      ]
     },
     "execution_count": 80,
     "metadata": {},
     "output_type": "execute_result"
    }
   ],
   "source": [
    "# Determine the number of unique values in each column.\n",
    "sp500_company_ml_df.nunique()"
   ]
  },
  {
   "cell_type": "markdown",
   "metadata": {},
   "source": [
    "## Supervised learning: Classifiers"
   ]
  },
  {
   "cell_type": "markdown",
   "metadata": {},
   "source": [
    "### Preprocessing"
   ]
  },
  {
   "cell_type": "code",
   "execution_count": 81,
   "metadata": {},
   "outputs": [],
   "source": [
    "# Convert categorical data to numeric with `pd.get_dummies`\n",
    "sp500_numeric_df = pd.get_dummies(sp500_company_ml_df, dtype=int).drop('Gender_M', axis=1)"
   ]
  },
  {
   "cell_type": "code",
   "execution_count": 88,
   "metadata": {
    "scrolled": true
   },
   "outputs": [
    {
     "data": {
      "text/plain": [
       "Index(['Year', 'Outperformed?', 'Interest Rate (Federal Funds Effective Rate)',\n",
       "       'CPI', 'UnemploymentRate', 'GDPGrowthRate', 'CEO Transition',\n",
       "       'GICS Sector_Communication Services',\n",
       "       'GICS Sector_Consumer Discretionary', 'GICS Sector_Consumer Staples',\n",
       "       ...\n",
       "       'HQ_US_State_or_Country_Virginia', 'HQ_US_State_or_Country_Washington',\n",
       "       'HQ_US_State_or_Country_Wisconsin', 'Salary_Bucket_(0, 5000000]',\n",
       "       'Salary_Bucket_(10000000, 15000000]',\n",
       "       'Salary_Bucket_(15000000, 20000000]',\n",
       "       'Salary_Bucket_(20000000, 25000000]',\n",
       "       'Salary_Bucket_(25000000, 50000000]',\n",
       "       'Salary_Bucket_(5000000, 10000000]',\n",
       "       'Salary_Bucket_(50000000, 300000000]'],\n",
       "      dtype='object', length=364)"
      ]
     },
     "execution_count": 88,
     "metadata": {},
     "output_type": "execute_result"
    }
   ],
   "source": [
    "sp500_numeric_df.columns"
   ]
  },
  {
   "cell_type": "code",
   "execution_count": 89,
   "metadata": {},
   "outputs": [],
   "source": [
    "# Split the preprocessed data into features and target arrays\n",
    "y = sp500_numeric_df['Outperformed?'].values\n",
    "X = sp500_numeric_df.drop(columns=['Outperformed?'], axis=1).values\n",
    "X_columns = sp500_numeric_df.drop(columns=['Outperformed?'], axis=1).columns"
   ]
  },
  {
   "cell_type": "code",
   "execution_count": 90,
   "metadata": {
    "scrolled": true
   },
   "outputs": [
    {
     "data": {
      "text/plain": [
       "Index(['Year', 'Interest Rate (Federal Funds Effective Rate)', 'CPI',\n",
       "       'UnemploymentRate', 'GDPGrowthRate', 'CEO Transition',\n",
       "       'GICS Sector_Communication Services',\n",
       "       'GICS Sector_Consumer Discretionary', 'GICS Sector_Consumer Staples',\n",
       "       'GICS Sector_Energy',\n",
       "       ...\n",
       "       'HQ_US_State_or_Country_Virginia', 'HQ_US_State_or_Country_Washington',\n",
       "       'HQ_US_State_or_Country_Wisconsin', 'Salary_Bucket_(0, 5000000]',\n",
       "       'Salary_Bucket_(10000000, 15000000]',\n",
       "       'Salary_Bucket_(15000000, 20000000]',\n",
       "       'Salary_Bucket_(20000000, 25000000]',\n",
       "       'Salary_Bucket_(25000000, 50000000]',\n",
       "       'Salary_Bucket_(5000000, 10000000]',\n",
       "       'Salary_Bucket_(50000000, 300000000]'],\n",
       "      dtype='object', length=363)"
      ]
     },
     "execution_count": 90,
     "metadata": {},
     "output_type": "execute_result"
    }
   ],
   "source": [
    "X_columns"
   ]
  },
  {
   "cell_type": "code",
   "execution_count": 91,
   "metadata": {},
   "outputs": [],
   "source": [
    "# Split the preprocessed data into a training and testing dataset\n",
    "X_train, X_test, y_train, y_test = train_test_split(X, y, random_state=1)"
   ]
  },
  {
   "cell_type": "code",
   "execution_count": 92,
   "metadata": {},
   "outputs": [],
   "source": [
    "# Create a StandardScaler instance\n",
    "scaler = StandardScaler()\n",
    "\n",
    "# Fit the StandardScaler instance\n",
    "X_scaler = scaler.fit(X_train)\n",
    "\n",
    "# Scale the data\n",
    "X_train_scaled = X_scaler.transform(X_train)\n",
    "X_test_scaled = X_scaler.transform(X_test)"
   ]
  },
  {
   "cell_type": "markdown",
   "metadata": {},
   "source": [
    "## Classifier modeling"
   ]
  },
  {
   "cell_type": "code",
   "execution_count": 94,
   "metadata": {
    "scrolled": false
   },
   "outputs": [
    {
     "name": "stdout",
     "output_type": "stream",
     "text": [
      "----------------------------------------------\n",
      "Confusion Matrix: KNeighborsClassifier\n"
     ]
    },
    {
     "data": {
      "text/html": [
       "<div>\n",
       "<style scoped>\n",
       "    .dataframe tbody tr th:only-of-type {\n",
       "        vertical-align: middle;\n",
       "    }\n",
       "\n",
       "    .dataframe tbody tr th {\n",
       "        vertical-align: top;\n",
       "    }\n",
       "\n",
       "    .dataframe thead th {\n",
       "        text-align: right;\n",
       "    }\n",
       "</style>\n",
       "<table border=\"1\" class=\"dataframe\">\n",
       "  <thead>\n",
       "    <tr style=\"text-align: right;\">\n",
       "      <th></th>\n",
       "      <th>Predicted &lt; SP500</th>\n",
       "      <th>Predicted &gt; SP500</th>\n",
       "    </tr>\n",
       "  </thead>\n",
       "  <tbody>\n",
       "    <tr>\n",
       "      <th>Actual &lt; SP500</th>\n",
       "      <td>296</td>\n",
       "      <td>267</td>\n",
       "    </tr>\n",
       "    <tr>\n",
       "      <th>Actual &gt; SP500</th>\n",
       "      <td>253</td>\n",
       "      <td>276</td>\n",
       "    </tr>\n",
       "  </tbody>\n",
       "</table>\n",
       "</div>"
      ],
      "text/plain": [
       "                Predicted < SP500  Predicted > SP500\n",
       "Actual < SP500                296                267\n",
       "Actual > SP500                253                276"
      ]
     },
     "metadata": {},
     "output_type": "display_data"
    },
    {
     "name": "stdout",
     "output_type": "stream",
     "text": [
      "Classification report: KNeighborsClassifier\n"
     ]
    },
    {
     "data": {
      "text/html": [
       "<div>\n",
       "<style scoped>\n",
       "    .dataframe tbody tr th:only-of-type {\n",
       "        vertical-align: middle;\n",
       "    }\n",
       "\n",
       "    .dataframe tbody tr th {\n",
       "        vertical-align: top;\n",
       "    }\n",
       "\n",
       "    .dataframe thead th {\n",
       "        text-align: right;\n",
       "    }\n",
       "</style>\n",
       "<table border=\"1\" class=\"dataframe\">\n",
       "  <thead>\n",
       "    <tr style=\"text-align: right;\">\n",
       "      <th></th>\n",
       "      <th>precision</th>\n",
       "      <th>recall</th>\n",
       "      <th>f1-score</th>\n",
       "      <th>support</th>\n",
       "    </tr>\n",
       "  </thead>\n",
       "  <tbody>\n",
       "    <tr>\n",
       "      <th>Less than SP500 CAGR</th>\n",
       "      <td>0.539</td>\n",
       "      <td>0.526</td>\n",
       "      <td>0.532</td>\n",
       "      <td>563.0</td>\n",
       "    </tr>\n",
       "    <tr>\n",
       "      <th>Outperformed SP500 CAGR</th>\n",
       "      <td>0.508</td>\n",
       "      <td>0.522</td>\n",
       "      <td>0.515</td>\n",
       "      <td>529.0</td>\n",
       "    </tr>\n",
       "    <tr>\n",
       "      <th>accuracy</th>\n",
       "      <td></td>\n",
       "      <td></td>\n",
       "      <td>0.524</td>\n",
       "      <td></td>\n",
       "    </tr>\n",
       "    <tr>\n",
       "      <th>macro avg</th>\n",
       "      <td>0.524</td>\n",
       "      <td>0.524</td>\n",
       "      <td>0.524</td>\n",
       "      <td>1092.0</td>\n",
       "    </tr>\n",
       "    <tr>\n",
       "      <th>weighted avg</th>\n",
       "      <td>0.524</td>\n",
       "      <td>0.524</td>\n",
       "      <td>0.524</td>\n",
       "      <td>1092.0</td>\n",
       "    </tr>\n",
       "  </tbody>\n",
       "</table>\n",
       "</div>"
      ],
      "text/plain": [
       "                        precision recall f1-score support\n",
       "Less than SP500 CAGR        0.539  0.526    0.532   563.0\n",
       "Outperformed SP500 CAGR     0.508  0.522    0.515   529.0\n",
       "accuracy                                    0.524        \n",
       "macro avg                   0.524  0.524    0.524  1092.0\n",
       "weighted avg                0.524  0.524    0.524  1092.0"
      ]
     },
     "metadata": {},
     "output_type": "display_data"
    },
    {
     "name": "stdout",
     "output_type": "stream",
     "text": [
      "KNeighborsClassifier does not have feature_importances_ attribute.\n",
      "                                                          \n",
      "----------------------------------------------\n",
      "Confusion Matrix: ExtraTreesClassifier\n"
     ]
    },
    {
     "data": {
      "text/html": [
       "<div>\n",
       "<style scoped>\n",
       "    .dataframe tbody tr th:only-of-type {\n",
       "        vertical-align: middle;\n",
       "    }\n",
       "\n",
       "    .dataframe tbody tr th {\n",
       "        vertical-align: top;\n",
       "    }\n",
       "\n",
       "    .dataframe thead th {\n",
       "        text-align: right;\n",
       "    }\n",
       "</style>\n",
       "<table border=\"1\" class=\"dataframe\">\n",
       "  <thead>\n",
       "    <tr style=\"text-align: right;\">\n",
       "      <th></th>\n",
       "      <th>Predicted &lt; SP500</th>\n",
       "      <th>Predicted &gt; SP500</th>\n",
       "    </tr>\n",
       "  </thead>\n",
       "  <tbody>\n",
       "    <tr>\n",
       "      <th>Actual &lt; SP500</th>\n",
       "      <td>380</td>\n",
       "      <td>183</td>\n",
       "    </tr>\n",
       "    <tr>\n",
       "      <th>Actual &gt; SP500</th>\n",
       "      <td>196</td>\n",
       "      <td>333</td>\n",
       "    </tr>\n",
       "  </tbody>\n",
       "</table>\n",
       "</div>"
      ],
      "text/plain": [
       "                Predicted < SP500  Predicted > SP500\n",
       "Actual < SP500                380                183\n",
       "Actual > SP500                196                333"
      ]
     },
     "metadata": {},
     "output_type": "display_data"
    },
    {
     "name": "stdout",
     "output_type": "stream",
     "text": [
      "Classification report: ExtraTreesClassifier\n"
     ]
    },
    {
     "data": {
      "text/html": [
       "<div>\n",
       "<style scoped>\n",
       "    .dataframe tbody tr th:only-of-type {\n",
       "        vertical-align: middle;\n",
       "    }\n",
       "\n",
       "    .dataframe tbody tr th {\n",
       "        vertical-align: top;\n",
       "    }\n",
       "\n",
       "    .dataframe thead th {\n",
       "        text-align: right;\n",
       "    }\n",
       "</style>\n",
       "<table border=\"1\" class=\"dataframe\">\n",
       "  <thead>\n",
       "    <tr style=\"text-align: right;\">\n",
       "      <th></th>\n",
       "      <th>precision</th>\n",
       "      <th>recall</th>\n",
       "      <th>f1-score</th>\n",
       "      <th>support</th>\n",
       "    </tr>\n",
       "  </thead>\n",
       "  <tbody>\n",
       "    <tr>\n",
       "      <th>Less than SP500 CAGR</th>\n",
       "      <td>0.66</td>\n",
       "      <td>0.675</td>\n",
       "      <td>0.667</td>\n",
       "      <td>563.0</td>\n",
       "    </tr>\n",
       "    <tr>\n",
       "      <th>Outperformed SP500 CAGR</th>\n",
       "      <td>0.645</td>\n",
       "      <td>0.629</td>\n",
       "      <td>0.637</td>\n",
       "      <td>529.0</td>\n",
       "    </tr>\n",
       "    <tr>\n",
       "      <th>accuracy</th>\n",
       "      <td></td>\n",
       "      <td></td>\n",
       "      <td>0.653</td>\n",
       "      <td></td>\n",
       "    </tr>\n",
       "    <tr>\n",
       "      <th>macro avg</th>\n",
       "      <td>0.653</td>\n",
       "      <td>0.652</td>\n",
       "      <td>0.652</td>\n",
       "      <td>1092.0</td>\n",
       "    </tr>\n",
       "    <tr>\n",
       "      <th>weighted avg</th>\n",
       "      <td>0.653</td>\n",
       "      <td>0.653</td>\n",
       "      <td>0.653</td>\n",
       "      <td>1092.0</td>\n",
       "    </tr>\n",
       "  </tbody>\n",
       "</table>\n",
       "</div>"
      ],
      "text/plain": [
       "                        precision recall f1-score support\n",
       "Less than SP500 CAGR         0.66  0.675    0.667   563.0\n",
       "Outperformed SP500 CAGR     0.645  0.629    0.637   529.0\n",
       "accuracy                                    0.653        \n",
       "macro avg                   0.653  0.652    0.652  1092.0\n",
       "weighted avg                0.653  0.653    0.653  1092.0"
      ]
     },
     "metadata": {},
     "output_type": "display_data"
    },
    {
     "name": "stdout",
     "output_type": "stream",
     "text": [
      "Feature Importances for ExtraTreesClassifier:\n",
      "0.052944: Interest Rate (Federal Funds Effective Rate)\n",
      "0.048522: CPI\n",
      "0.047096: Year\n",
      "0.043427: GDPGrowthRate\n",
      "0.042740: UnemploymentRate\n",
      "0.017238: Tenure Bucket_5 to 10 years\n",
      "0.017085: Tenure Bucket_2 to 5 years\n",
      "0.016292: Tenure Bucket_<= 2 years\n",
      "0.014164: Tenure Bucket_10+ years\n",
      "0.013621: Salary_Bucket_(10000000, 15000000]\n",
      "0.012058: GICS Sector_Information Technology\n",
      "0.011944: Salary_Bucket_(15000000, 20000000]\n",
      "0.010432: Salary_Bucket_(5000000, 10000000]\n"
     ]
    },
    {
     "data": {
      "image/png": "[encoded data removed]",
      "text/plain": [
       "<Figure size 640x480 with 1 Axes>"
      ]
     },
     "metadata": {},
     "output_type": "display_data"
    },
    {
     "name": "stdout",
     "output_type": "stream",
     "text": [
      "                                                          \n",
      "----------------------------------------------\n",
      "Confusion Matrix: RandomForestClassifier\n"
     ]
    },
    {
     "data": {
      "text/html": [
       "<div>\n",
       "<style scoped>\n",
       "    .dataframe tbody tr th:only-of-type {\n",
       "        vertical-align: middle;\n",
       "    }\n",
       "\n",
       "    .dataframe tbody tr th {\n",
       "        vertical-align: top;\n",
       "    }\n",
       "\n",
       "    .dataframe thead th {\n",
       "        text-align: right;\n",
       "    }\n",
       "</style>\n",
       "<table border=\"1\" class=\"dataframe\">\n",
       "  <thead>\n",
       "    <tr style=\"text-align: right;\">\n",
       "      <th></th>\n",
       "      <th>Predicted &lt; SP500</th>\n",
       "      <th>Predicted &gt; SP500</th>\n",
       "    </tr>\n",
       "  </thead>\n",
       "  <tbody>\n",
       "    <tr>\n",
       "      <th>Actual &lt; SP500</th>\n",
       "      <td>380</td>\n",
       "      <td>183</td>\n",
       "    </tr>\n",
       "    <tr>\n",
       "      <th>Actual &gt; SP500</th>\n",
       "      <td>188</td>\n",
       "      <td>341</td>\n",
       "    </tr>\n",
       "  </tbody>\n",
       "</table>\n",
       "</div>"
      ],
      "text/plain": [
       "                Predicted < SP500  Predicted > SP500\n",
       "Actual < SP500                380                183\n",
       "Actual > SP500                188                341"
      ]
     },
     "metadata": {},
     "output_type": "display_data"
    },
    {
     "name": "stdout",
     "output_type": "stream",
     "text": [
      "Classification report: RandomForestClassifier\n"
     ]
    },
    {
     "data": {
      "text/html": [
       "<div>\n",
       "<style scoped>\n",
       "    .dataframe tbody tr th:only-of-type {\n",
       "        vertical-align: middle;\n",
       "    }\n",
       "\n",
       "    .dataframe tbody tr th {\n",
       "        vertical-align: top;\n",
       "    }\n",
       "\n",
       "    .dataframe thead th {\n",
       "        text-align: right;\n",
       "    }\n",
       "</style>\n",
       "<table border=\"1\" class=\"dataframe\">\n",
       "  <thead>\n",
       "    <tr style=\"text-align: right;\">\n",
       "      <th></th>\n",
       "      <th>precision</th>\n",
       "      <th>recall</th>\n",
       "      <th>f1-score</th>\n",
       "      <th>support</th>\n",
       "    </tr>\n",
       "  </thead>\n",
       "  <tbody>\n",
       "    <tr>\n",
       "      <th>Less than SP500 CAGR</th>\n",
       "      <td>0.669</td>\n",
       "      <td>0.675</td>\n",
       "      <td>0.672</td>\n",
       "      <td>563.0</td>\n",
       "    </tr>\n",
       "    <tr>\n",
       "      <th>Outperformed SP500 CAGR</th>\n",
       "      <td>0.651</td>\n",
       "      <td>0.645</td>\n",
       "      <td>0.648</td>\n",
       "      <td>529.0</td>\n",
       "    </tr>\n",
       "    <tr>\n",
       "      <th>accuracy</th>\n",
       "      <td></td>\n",
       "      <td></td>\n",
       "      <td>0.66</td>\n",
       "      <td></td>\n",
       "    </tr>\n",
       "    <tr>\n",
       "      <th>macro avg</th>\n",
       "      <td>0.66</td>\n",
       "      <td>0.66</td>\n",
       "      <td>0.66</td>\n",
       "      <td>1092.0</td>\n",
       "    </tr>\n",
       "    <tr>\n",
       "      <th>weighted avg</th>\n",
       "      <td>0.66</td>\n",
       "      <td>0.66</td>\n",
       "      <td>0.66</td>\n",
       "      <td>1092.0</td>\n",
       "    </tr>\n",
       "  </tbody>\n",
       "</table>\n",
       "</div>"
      ],
      "text/plain": [
       "                        precision recall f1-score support\n",
       "Less than SP500 CAGR        0.669  0.675    0.672   563.0\n",
       "Outperformed SP500 CAGR     0.651  0.645    0.648   529.0\n",
       "accuracy                                     0.66        \n",
       "macro avg                    0.66   0.66     0.66  1092.0\n",
       "weighted avg                 0.66   0.66     0.66  1092.0"
      ]
     },
     "metadata": {},
     "output_type": "display_data"
    },
    {
     "name": "stdout",
     "output_type": "stream",
     "text": [
      "Feature Importances for RandomForestClassifier:\n",
      "0.041571: Interest Rate (Federal Funds Effective Rate)\n",
      "0.038978: Year\n",
      "0.037987: CPI\n",
      "0.037373: UnemploymentRate\n",
      "0.034189: GDPGrowthRate\n",
      "0.014948: Tenure Bucket_5 to 10 years\n",
      "0.014524: GICS Sector_Information Technology\n",
      "0.014498: Tenure Bucket_<= 2 years\n",
      "0.014371: Tenure Bucket_2 to 5 years\n",
      "0.013636: Tenure Bucket_10+ years\n",
      "0.012473: Salary_Bucket_(10000000, 15000000]\n",
      "0.011942: Salary_Bucket_(5000000, 10000000]\n",
      "0.011924: Salary_Bucket_(15000000, 20000000]\n"
     ]
    },
    {
     "data": {
      "image/png": "[encoded data removed]",
      "text/plain": [
       "<Figure size 640x480 with 1 Axes>"
      ]
     },
     "metadata": {},
     "output_type": "display_data"
    },
    {
     "name": "stdout",
     "output_type": "stream",
     "text": [
      "                                                          \n",
      "----------------------------------------------\n",
      "Confusion Matrix: BaggingClassifier\n"
     ]
    },
    {
     "data": {
      "text/html": [
       "<div>\n",
       "<style scoped>\n",
       "    .dataframe tbody tr th:only-of-type {\n",
       "        vertical-align: middle;\n",
       "    }\n",
       "\n",
       "    .dataframe tbody tr th {\n",
       "        vertical-align: top;\n",
       "    }\n",
       "\n",
       "    .dataframe thead th {\n",
       "        text-align: right;\n",
       "    }\n",
       "</style>\n",
       "<table border=\"1\" class=\"dataframe\">\n",
       "  <thead>\n",
       "    <tr style=\"text-align: right;\">\n",
       "      <th></th>\n",
       "      <th>Predicted &lt; SP500</th>\n",
       "      <th>Predicted &gt; SP500</th>\n",
       "    </tr>\n",
       "  </thead>\n",
       "  <tbody>\n",
       "    <tr>\n",
       "      <th>Actual &lt; SP500</th>\n",
       "      <td>376</td>\n",
       "      <td>187</td>\n",
       "    </tr>\n",
       "    <tr>\n",
       "      <th>Actual &gt; SP500</th>\n",
       "      <td>176</td>\n",
       "      <td>353</td>\n",
       "    </tr>\n",
       "  </tbody>\n",
       "</table>\n",
       "</div>"
      ],
      "text/plain": [
       "                Predicted < SP500  Predicted > SP500\n",
       "Actual < SP500                376                187\n",
       "Actual > SP500                176                353"
      ]
     },
     "metadata": {},
     "output_type": "display_data"
    },
    {
     "name": "stdout",
     "output_type": "stream",
     "text": [
      "Classification report: BaggingClassifier\n"
     ]
    },
    {
     "data": {
      "text/html": [
       "<div>\n",
       "<style scoped>\n",
       "    .dataframe tbody tr th:only-of-type {\n",
       "        vertical-align: middle;\n",
       "    }\n",
       "\n",
       "    .dataframe tbody tr th {\n",
       "        vertical-align: top;\n",
       "    }\n",
       "\n",
       "    .dataframe thead th {\n",
       "        text-align: right;\n",
       "    }\n",
       "</style>\n",
       "<table border=\"1\" class=\"dataframe\">\n",
       "  <thead>\n",
       "    <tr style=\"text-align: right;\">\n",
       "      <th></th>\n",
       "      <th>precision</th>\n",
       "      <th>recall</th>\n",
       "      <th>f1-score</th>\n",
       "      <th>support</th>\n",
       "    </tr>\n",
       "  </thead>\n",
       "  <tbody>\n",
       "    <tr>\n",
       "      <th>Less than SP500 CAGR</th>\n",
       "      <td>0.681</td>\n",
       "      <td>0.668</td>\n",
       "      <td>0.674</td>\n",
       "      <td>563.0</td>\n",
       "    </tr>\n",
       "    <tr>\n",
       "      <th>Outperformed SP500 CAGR</th>\n",
       "      <td>0.654</td>\n",
       "      <td>0.667</td>\n",
       "      <td>0.66</td>\n",
       "      <td>529.0</td>\n",
       "    </tr>\n",
       "    <tr>\n",
       "      <th>accuracy</th>\n",
       "      <td></td>\n",
       "      <td></td>\n",
       "      <td>0.668</td>\n",
       "      <td></td>\n",
       "    </tr>\n",
       "    <tr>\n",
       "      <th>macro avg</th>\n",
       "      <td>0.667</td>\n",
       "      <td>0.668</td>\n",
       "      <td>0.667</td>\n",
       "      <td>1092.0</td>\n",
       "    </tr>\n",
       "    <tr>\n",
       "      <th>weighted avg</th>\n",
       "      <td>0.668</td>\n",
       "      <td>0.668</td>\n",
       "      <td>0.668</td>\n",
       "      <td>1092.0</td>\n",
       "    </tr>\n",
       "  </tbody>\n",
       "</table>\n",
       "</div>"
      ],
      "text/plain": [
       "                        precision recall f1-score support\n",
       "Less than SP500 CAGR        0.681  0.668    0.674   563.0\n",
       "Outperformed SP500 CAGR     0.654  0.667     0.66   529.0\n",
       "accuracy                                    0.668        \n",
       "macro avg                   0.667  0.668    0.667  1092.0\n",
       "weighted avg                0.668  0.668    0.668  1092.0"
      ]
     },
     "metadata": {},
     "output_type": "display_data"
    },
    {
     "name": "stdout",
     "output_type": "stream",
     "text": [
      "BaggingClassifier does not have feature_importances_ attribute.\n",
      "                                                          \n"
     ]
    }
   ],
   "source": [
    "# Create a dictionary of different ml models to run in the loop\n",
    "ml = {\n",
    "    \"KNeighborsClassifier\": KNeighborsClassifier(n_neighbors=5),\n",
    "    \"ExtraTreesClassifier\": ensemble.ExtraTreesClassifier(n_estimators=50, random_state=78),\n",
    "#     \"LogisticsRegression\": LogisticRegression(random_state=78, max_iter=1000),\n",
    "    \"RandomForestClassifier\": ensemble.RandomForestClassifier(n_estimators=50, random_state=78),\n",
    "    \"BaggingClassifier\": ensemble.BaggingClassifier(n_estimators=50, random_state=78),\n",
    "#     \"AdaBoostClassifier\": ensemble.AdaBoostClassifier(n_estimators=100, random_state=78, algorithm='SAMME') \n",
    "}\n",
    "report_data = []\n",
    "\n",
    "for x in ml:\n",
    "    model = ml[x]\n",
    "    model.fit(X_train_scaled, y_train)# Create predictions\n",
    "    y_pred = model.predict(X_test_scaled)\n",
    "    tn, fp, fn, tp = confusion_matrix(y_test, y_pred).ravel()\n",
    "    \n",
    "    \n",
    "    # Calculating the confusion matrix and display as a dataframe\n",
    "    cm = confusion_matrix(y_test, y_pred)\n",
    "    cm_df = pd.DataFrame(\n",
    "        cm, index=[\"Actual < SP500\", \"Actual > SP500\"], columns=[\"Predicted < SP500\", \"Predicted > SP500\"]\n",
    "    )\n",
    "    print(f\"----------------------------------------------\")\n",
    "    print(f\"Confusion Matrix: {x}\")\n",
    "    display(cm_df)\n",
    "    \n",
    "    # Calculate report metrics\n",
    "    target_names = [\"Less than SP500 CAGR\", \"Outperformed SP500 CAGR\"]\n",
    "    report = classification_report(y_test, y_pred, output_dict=True, target_names=target_names)\n",
    "    results = {\n",
    "        \"Less than SP500 CAGR\": report[\"Less than SP500 CAGR\"],\n",
    "        \"Outperformed SP500 CAGR\": report[\"Outperformed SP500 CAGR\"],\n",
    "        \"accuracy\": report[\"accuracy\"],\n",
    "        \"macro avg\": report[\"macro avg\"],\n",
    "        \"weighted avg\": report[\"weighted avg\"]\n",
    "    }\n",
    "    # Save report results and display as a dataframe\n",
    "    report_data.append({**results})\n",
    "    results_df = pd.DataFrame(results).transpose().round(3)\n",
    "    results_df = results_df.astype(object)\n",
    "    results_df.loc[\"accuracy\", results_df.columns != 'f1-score'] = \"\"\n",
    "    print(f\"Classification report: {x}\")\n",
    "    display(results_df)\n",
    "    \n",
    "    # Check if the model has feature_importances_ attribute and print if true\n",
    "    if hasattr(model, 'feature_importances_'):\n",
    "        feature_importances = model.feature_importances_\n",
    "        feature_names = X_columns\n",
    "        sorted_importances = sorted(zip(feature_importances, feature_names), reverse=True)\n",
    "        \n",
    "        print(f\"Feature Importances for {x}:\")\n",
    "        for importance, name in sorted_importances:\n",
    "            if importance >= 0.01:\n",
    "                print(f\"{importance:.6f}: {name}\")\n",
    "                \n",
    "         # Visualize the features by importance\n",
    "        importances_df = pd.DataFrame(sorted_importances)\n",
    "        importances_df.set_index(importances_df[1], inplace=True)\n",
    "        importances_df.drop(columns=1, inplace=True)\n",
    "        importances_df.rename(columns={0: 'Feature Importances'}, inplace=True)\n",
    "        importances_sorted_df = importances_df.sort_values(by='Feature Importances', ascending=False)\n",
    "        top_importances_df = importances_sorted_df.head(20)\n",
    "        ax = top_importances_df.plot(kind='barh', color='lightgreen', title= 'Features Importances', legend=False)\n",
    "        ax.invert_yaxis()\n",
    "        plt.xlabel('Importance')\n",
    "        plt.ylabel('Feature')\n",
    "        plt.show()\n",
    "                \n",
    "    else:\n",
    "        print(f\"{x} does not have feature_importances_ attribute.\")\n",
    "    print(\"                                                          \")"
   ]
  },
  {
   "cell_type": "code",
   "execution_count": null,
   "metadata": {},
   "outputs": [],
   "source": []
  }
 ],
 "metadata": {
  "kernelspec": {
   "display_name": "Python [conda env:dev]",
   "language": "python",
   "name": "conda-env-dev-py"
  },
  "language_info": {
   "codemirror_mode": {
    "name": "ipython",
    "version": 3
   },
   "file_extension": ".py",
   "mimetype": "text/x-python",
   "name": "python",
   "nbconvert_exporter": "python",
   "pygments_lexer": "ipython3",
   "version": "3.10.13"
  },
  "vscode": {
   "interpreter": {
    "hash": "31f2aee4e71d21fbe5cf8b01ff0e069b9275f58929596ceb00d14d90e3e16cd6"
   }
  }
 },
 "nbformat": 4,
 "nbformat_minor": 4
}
