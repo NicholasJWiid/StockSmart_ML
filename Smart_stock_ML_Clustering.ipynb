{
 "cells": [
  {
   "cell_type": "markdown",
   "id": "3eb8b00a",
   "metadata": {},
   "source": [
    "# Smart_Stock_ML: Stock Clustering"
   ]
  },
  {
   "cell_type": "code",
   "execution_count": 135,
   "id": "9332687a",
   "metadata": {},
   "outputs": [],
   "source": [
    "# Import dependencies\n",
    "from sklearn.preprocessing import StandardScaler\n",
    "from sklearn.cluster import KMeans\n",
    "import pandas as pd\n",
    "import matplotlib.pyplot as plt\n",
    "import yfinance as yf\n",
    "from datetime import datetime, timedelta\n",
    "from dateutil.relativedelta import relativedelta"
   ]
  },
  {
   "cell_type": "markdown",
   "id": "41577e6b",
   "metadata": {},
   "source": [
    "## Import company data"
   ]
  },
  {
   "cell_type": "code",
   "execution_count": 204,
   "id": "1096d72e",
   "metadata": {},
   "outputs": [
    {
     "data": {
      "text/html": [
       "<div>\n",
       "<style scoped>\n",
       "    .dataframe tbody tr th:only-of-type {\n",
       "        vertical-align: middle;\n",
       "    }\n",
       "\n",
       "    .dataframe tbody tr th {\n",
       "        vertical-align: top;\n",
       "    }\n",
       "\n",
       "    .dataframe thead th {\n",
       "        text-align: right;\n",
       "    }\n",
       "</style>\n",
       "<table border=\"1\" class=\"dataframe\">\n",
       "  <thead>\n",
       "    <tr style=\"text-align: right;\">\n",
       "      <th></th>\n",
       "      <th>Ticker</th>\n",
       "      <th>GICS Sector</th>\n",
       "      <th>Gender</th>\n",
       "      <th>Headquarters State</th>\n",
       "      <th>Salary_Bins</th>\n",
       "    </tr>\n",
       "  </thead>\n",
       "  <tbody>\n",
       "    <tr>\n",
       "      <th>0</th>\n",
       "      <td>A</td>\n",
       "      <td>Health Care</td>\n",
       "      <td>M</td>\n",
       "      <td>California</td>\n",
       "      <td>(15000000, 20000000]</td>\n",
       "    </tr>\n",
       "    <tr>\n",
       "      <th>1</th>\n",
       "      <td>AAL</td>\n",
       "      <td>Industrials</td>\n",
       "      <td>M</td>\n",
       "      <td>Texas</td>\n",
       "      <td>(0, 5000000]</td>\n",
       "    </tr>\n",
       "    <tr>\n",
       "      <th>2</th>\n",
       "      <td>AAPL</td>\n",
       "      <td>Information Technology</td>\n",
       "      <td>M</td>\n",
       "      <td>California</td>\n",
       "      <td>(50000000, 300000000]</td>\n",
       "    </tr>\n",
       "    <tr>\n",
       "      <th>3</th>\n",
       "      <td>ABBV</td>\n",
       "      <td>Health Care</td>\n",
       "      <td>M</td>\n",
       "      <td>Illinois</td>\n",
       "      <td>(25000000, 50000000]</td>\n",
       "    </tr>\n",
       "    <tr>\n",
       "      <th>4</th>\n",
       "      <td>ABNB</td>\n",
       "      <td>Consumer Discretionary</td>\n",
       "      <td>M</td>\n",
       "      <td>California</td>\n",
       "      <td>(50000000, 300000000]</td>\n",
       "    </tr>\n",
       "  </tbody>\n",
       "</table>\n",
       "</div>"
      ],
      "text/plain": [
       "  Ticker             GICS Sector Gender Headquarters State  \\\n",
       "0      A             Health Care      M         California   \n",
       "1    AAL             Industrials      M              Texas   \n",
       "2   AAPL  Information Technology      M         California   \n",
       "3   ABBV             Health Care      M           Illinois   \n",
       "4   ABNB  Consumer Discretionary      M         California   \n",
       "\n",
       "             Salary_Bins  \n",
       "0   (15000000, 20000000]  \n",
       "1           (0, 5000000]  \n",
       "2  (50000000, 300000000]  \n",
       "3   (25000000, 50000000]  \n",
       "4  (50000000, 300000000]  "
      ]
     },
     "execution_count": 204,
     "metadata": {},
     "output_type": "execute_result"
    }
   ],
   "source": [
    "#  Import company dataset\n",
    "company_df = pd.read_csv('data/company_clean.csv')\n",
    "company_df.head()"
   ]
  },
  {
   "cell_type": "markdown",
   "id": "a88e3184",
   "metadata": {},
   "source": [
    "## Extract stock data"
   ]
  },
  {
   "cell_type": "code",
   "execution_count": 99,
   "id": "379857a1",
   "metadata": {
    "scrolled": true
   },
   "outputs": [
    {
     "name": "stderr",
     "output_type": "stream",
     "text": [
      "[*********************100%%**********************]  1 of 1 completed\n",
      "[*********************100%%**********************]  1 of 1 completed\n",
      "[*********************100%%**********************]  1 of 1 completed\n",
      "[*********************100%%**********************]  1 of 1 completed\n",
      "[*********************100%%**********************]  1 of 1 completed\n",
      "[*********************100%%**********************]  1 of 1 completed"
     ]
    },
    {
     "name": "stdout",
     "output_type": "stream",
     "text": [
      "A\n",
      "AAL\n",
      "AAPL\n",
      "ABBV\n",
      "ABNB\n",
      "ABT\n",
      "ACGL\n"
     ]
    },
    {
     "name": "stderr",
     "output_type": "stream",
     "text": [
      "\n",
      "[*********************100%%**********************]  1 of 1 completed\n",
      "[*********************100%%**********************]  1 of 1 completed\n",
      "[*********************100%%**********************]  1 of 1 completed\n",
      "[*********************100%%**********************]  1 of 1 completed\n",
      "[*********************100%%**********************]  1 of 1 completed\n",
      "[*********************100%%**********************]  1 of 1 completed\n",
      "[*********************100%%**********************]  1 of 1 completed\n",
      "[*********************100%%**********************]  1 of 1 completed\n"
     ]
    },
    {
     "name": "stdout",
     "output_type": "stream",
     "text": [
      "ACN\n",
      "ADBE\n",
      "ADI\n",
      "ADM\n",
      "ADP\n",
      "ADSK\n",
      "AEE\n",
      "AEP\n"
     ]
    },
    {
     "name": "stderr",
     "output_type": "stream",
     "text": [
      "[*********************100%%**********************]  1 of 1 completed\n",
      "[*********************100%%**********************]  1 of 1 completed\n",
      "[*********************100%%**********************]  1 of 1 completed\n",
      "[*********************100%%**********************]  1 of 1 completed\n",
      "[*********************100%%**********************]  1 of 1 completed\n",
      "[*********************100%%**********************]  1 of 1 completed\n",
      "[*********************100%%**********************]  1 of 1 completed\n"
     ]
    },
    {
     "name": "stdout",
     "output_type": "stream",
     "text": [
      "AES\n",
      "AFL\n",
      "AIG\n",
      "AIZ\n",
      "AJG\n",
      "AKAM\n",
      "ALB\n"
     ]
    },
    {
     "name": "stderr",
     "output_type": "stream",
     "text": [
      "[*********************100%%**********************]  1 of 1 completed\n",
      "[*********************100%%**********************]  1 of 1 completed\n",
      "[*********************100%%**********************]  1 of 1 completed\n",
      "[*********************100%%**********************]  1 of 1 completed\n",
      "[*********************100%%**********************]  1 of 1 completed\n"
     ]
    },
    {
     "name": "stdout",
     "output_type": "stream",
     "text": [
      "ALGN\n",
      "ALL\n",
      "ALLE\n",
      "AMAT\n",
      "AMCR\n"
     ]
    },
    {
     "name": "stderr",
     "output_type": "stream",
     "text": [
      "[*********************100%%**********************]  1 of 1 completed\n",
      "[*********************100%%**********************]  1 of 1 completed\n",
      "[*********************100%%**********************]  1 of 1 completed\n",
      "[*********************100%%**********************]  1 of 1 completed\n",
      "[*********************100%%**********************]  1 of 1 completed\n",
      "[*********************100%%**********************]  1 of 1 completed\n",
      "[*********************100%%**********************]  1 of 1 completed\n"
     ]
    },
    {
     "name": "stdout",
     "output_type": "stream",
     "text": [
      "AMD\n",
      "AME\n",
      "AMGN\n",
      "AMP\n",
      "AMT\n",
      "AMZN\n",
      "ANET\n"
     ]
    },
    {
     "name": "stderr",
     "output_type": "stream",
     "text": [
      "[*********************100%%**********************]  1 of 1 completed\n",
      "[*********************100%%**********************]  1 of 1 completed\n",
      "[*********************100%%**********************]  1 of 1 completed\n",
      "[*********************100%%**********************]  1 of 1 completed\n",
      "[*********************100%%**********************]  1 of 1 completed\n",
      "[*********************100%%**********************]  1 of 1 completed\n",
      "[*********************100%%**********************]  1 of 1 completed\n"
     ]
    },
    {
     "name": "stdout",
     "output_type": "stream",
     "text": [
      "ANSS\n",
      "AON\n",
      "AOS\n",
      "APA\n",
      "APD\n",
      "APH\n",
      "APTV\n"
     ]
    },
    {
     "name": "stderr",
     "output_type": "stream",
     "text": [
      "[*********************100%%**********************]  1 of 1 completed\n",
      "[*********************100%%**********************]  1 of 1 completed\n",
      "[*********************100%%**********************]  1 of 1 completed\n",
      "[*********************100%%**********************]  1 of 1 completed\n",
      "[*********************100%%**********************]  1 of 1 completed\n",
      "[*********************100%%**********************]  1 of 1 completed\n",
      "[*********************100%%**********************]  1 of 1 completed\n"
     ]
    },
    {
     "name": "stdout",
     "output_type": "stream",
     "text": [
      "ARE\n",
      "ATO\n",
      "AVB\n",
      "AVGO\n",
      "AVY\n",
      "AWK\n",
      "AXON\n"
     ]
    },
    {
     "name": "stderr",
     "output_type": "stream",
     "text": [
      "[*********************100%%**********************]  1 of 1 completed\n",
      "[*********************100%%**********************]  1 of 1 completed\n",
      "[*********************100%%**********************]  1 of 1 completed\n",
      "[*********************100%%**********************]  1 of 1 completed\n",
      "[*********************100%%**********************]  1 of 1 completed\n",
      "[*********************100%%**********************]  1 of 1 completed\n",
      "[*********************100%%**********************]  1 of 1 completed\n"
     ]
    },
    {
     "name": "stdout",
     "output_type": "stream",
     "text": [
      "AXP\n",
      "AZO\n",
      "BA\n",
      "BAC\n",
      "BALL\n",
      "BAX\n",
      "BBWI\n"
     ]
    },
    {
     "name": "stderr",
     "output_type": "stream",
     "text": [
      "[*********************100%%**********************]  1 of 1 completed\n",
      "[*********************100%%**********************]  1 of 1 completed\n",
      "[*********************100%%**********************]  1 of 1 completed\n",
      "[*********************100%%**********************]  1 of 1 completed\n",
      "[*********************100%%**********************]  1 of 1 completed\n",
      "\n",
      "1 Failed download:\n",
      "['BF.B']: YFPricesMissingError('$%ticker%: possibly delisted; No price data found  (1d 2015-01-01 -> 2024-01-01)')\n"
     ]
    },
    {
     "name": "stdout",
     "output_type": "stream",
     "text": [
      "BBY\n",
      "BDX\n",
      "BEN\n",
      "BF.B\n",
      "$BF.B: possibly delisted; No price data found  (1d 2015-01-01 -> 2024-01-01)\n",
      "Error occured in stock download: single positional indexer is out-of-bounds\n",
      "BG\n"
     ]
    },
    {
     "name": "stderr",
     "output_type": "stream",
     "text": [
      "[*********************100%%**********************]  1 of 1 completed\n",
      "[*********************100%%**********************]  1 of 1 completed\n"
     ]
    },
    {
     "name": "stdout",
     "output_type": "stream",
     "text": [
      "BIIB\n",
      "BIO\n"
     ]
    },
    {
     "name": "stderr",
     "output_type": "stream",
     "text": [
      "[*********************100%%**********************]  1 of 1 completed\n"
     ]
    },
    {
     "name": "stdout",
     "output_type": "stream",
     "text": [
      "BK\n"
     ]
    },
    {
     "name": "stderr",
     "output_type": "stream",
     "text": [
      "[*********************100%%**********************]  1 of 1 completed\n",
      "[*********************100%%**********************]  1 of 1 completed\n"
     ]
    },
    {
     "name": "stdout",
     "output_type": "stream",
     "text": [
      "BKNG\n",
      "BKR\n"
     ]
    },
    {
     "name": "stderr",
     "output_type": "stream",
     "text": [
      "[*********************100%%**********************]  1 of 1 completed\n",
      "[*********************100%%**********************]  1 of 1 completed\n"
     ]
    },
    {
     "name": "stdout",
     "output_type": "stream",
     "text": [
      "BLDR\n",
      "BLK\n"
     ]
    },
    {
     "name": "stderr",
     "output_type": "stream",
     "text": [
      "[*********************100%%**********************]  1 of 1 completed\n"
     ]
    },
    {
     "name": "stdout",
     "output_type": "stream",
     "text": [
      "BMY\n"
     ]
    },
    {
     "name": "stderr",
     "output_type": "stream",
     "text": [
      "[*********************100%%**********************]  1 of 1 completed\n",
      "[*********************100%%**********************]  1 of 1 completed\n"
     ]
    },
    {
     "name": "stdout",
     "output_type": "stream",
     "text": [
      "BR\n",
      "BRK.B\n"
     ]
    },
    {
     "name": "stderr",
     "output_type": "stream",
     "text": [
      "[*********************100%%**********************]  1 of 1 completed\n",
      "\n",
      "1 Failed download:\n",
      "['BRK.B']: YFTzMissingError('$%ticker%: possibly delisted; No timezone found')\n"
     ]
    },
    {
     "name": "stdout",
     "output_type": "stream",
     "text": [
      "Error occured in stock download: single positional indexer is out-of-bounds\n",
      "BRO\n"
     ]
    },
    {
     "name": "stderr",
     "output_type": "stream",
     "text": [
      "[*********************100%%**********************]  1 of 1 completed\n",
      "[*********************100%%**********************]  1 of 1 completed\n"
     ]
    },
    {
     "name": "stdout",
     "output_type": "stream",
     "text": [
      "BSX\n",
      "BWA\n"
     ]
    },
    {
     "name": "stderr",
     "output_type": "stream",
     "text": [
      "[*********************100%%**********************]  1 of 1 completed\n",
      "[*********************100%%**********************]  1 of 1 completed\n"
     ]
    },
    {
     "name": "stdout",
     "output_type": "stream",
     "text": [
      "BX\n",
      "BXP\n"
     ]
    },
    {
     "name": "stderr",
     "output_type": "stream",
     "text": [
      "[*********************100%%**********************]  1 of 1 completed\n",
      "[*********************100%%**********************]  1 of 1 completed\n"
     ]
    },
    {
     "name": "stdout",
     "output_type": "stream",
     "text": [
      "C\n",
      "CAG\n"
     ]
    },
    {
     "name": "stderr",
     "output_type": "stream",
     "text": [
      "[*********************100%%**********************]  1 of 1 completed\n",
      "[*********************100%%**********************]  1 of 1 completed\n"
     ]
    },
    {
     "name": "stdout",
     "output_type": "stream",
     "text": [
      "CAH\n",
      "CARR\n"
     ]
    },
    {
     "name": "stderr",
     "output_type": "stream",
     "text": [
      "[*********************100%%**********************]  1 of 1 completed\n"
     ]
    },
    {
     "name": "stdout",
     "output_type": "stream",
     "text": [
      "CAT\n"
     ]
    },
    {
     "name": "stderr",
     "output_type": "stream",
     "text": [
      "[*********************100%%**********************]  1 of 1 completed\n"
     ]
    },
    {
     "name": "stdout",
     "output_type": "stream",
     "text": [
      "CB\n"
     ]
    },
    {
     "name": "stderr",
     "output_type": "stream",
     "text": [
      "[*********************100%%**********************]  1 of 1 completed\n",
      "[*********************100%%**********************]  1 of 1 completed\n"
     ]
    },
    {
     "name": "stdout",
     "output_type": "stream",
     "text": [
      "CBOE\n",
      "CBRE\n"
     ]
    },
    {
     "name": "stderr",
     "output_type": "stream",
     "text": [
      "[*********************100%%**********************]  1 of 1 completed\n",
      "[*********************100%%**********************]  1 of 1 completed\n"
     ]
    },
    {
     "name": "stdout",
     "output_type": "stream",
     "text": [
      "CCI\n",
      "CCL\n"
     ]
    },
    {
     "name": "stderr",
     "output_type": "stream",
     "text": [
      "[*********************100%%**********************]  1 of 1 completed\n",
      "[*********************100%%**********************]  1 of 1 completed\n"
     ]
    },
    {
     "name": "stdout",
     "output_type": "stream",
     "text": [
      "CDNS\n",
      "CDW\n"
     ]
    },
    {
     "name": "stderr",
     "output_type": "stream",
     "text": [
      "[*********************100%%**********************]  1 of 1 completed\n"
     ]
    },
    {
     "name": "stdout",
     "output_type": "stream",
     "text": [
      "CE\n"
     ]
    },
    {
     "name": "stderr",
     "output_type": "stream",
     "text": [
      "[*********************100%%**********************]  1 of 1 completed\n",
      "[*********************100%%**********************]  1 of 1 completed\n"
     ]
    },
    {
     "name": "stdout",
     "output_type": "stream",
     "text": [
      "CEG\n",
      "CF\n"
     ]
    },
    {
     "name": "stderr",
     "output_type": "stream",
     "text": [
      "[*********************100%%**********************]  1 of 1 completed\n",
      "[*********************100%%**********************]  1 of 1 completed\n"
     ]
    },
    {
     "name": "stdout",
     "output_type": "stream",
     "text": [
      "CFG\n",
      "CHD\n"
     ]
    },
    {
     "name": "stderr",
     "output_type": "stream",
     "text": [
      "[*********************100%%**********************]  1 of 1 completed\n",
      "[*********************100%%**********************]  1 of 1 completed\n"
     ]
    },
    {
     "name": "stdout",
     "output_type": "stream",
     "text": [
      "CHRW\n",
      "CHTR\n"
     ]
    },
    {
     "name": "stderr",
     "output_type": "stream",
     "text": [
      "[*********************100%%**********************]  1 of 1 completed\n"
     ]
    },
    {
     "name": "stdout",
     "output_type": "stream",
     "text": [
      "CI\n"
     ]
    },
    {
     "name": "stderr",
     "output_type": "stream",
     "text": [
      "[*********************100%%**********************]  1 of 1 completed\n",
      "[*********************100%%**********************]  1 of 1 completed\n"
     ]
    },
    {
     "name": "stdout",
     "output_type": "stream",
     "text": [
      "CINF\n",
      "CL\n"
     ]
    },
    {
     "name": "stderr",
     "output_type": "stream",
     "text": [
      "[*********************100%%**********************]  1 of 1 completed\n"
     ]
    },
    {
     "name": "stdout",
     "output_type": "stream",
     "text": [
      "CLX\n"
     ]
    },
    {
     "name": "stderr",
     "output_type": "stream",
     "text": [
      "[*********************100%%**********************]  1 of 1 completed\n"
     ]
    },
    {
     "name": "stdout",
     "output_type": "stream",
     "text": [
      "CMCSA\n"
     ]
    },
    {
     "name": "stderr",
     "output_type": "stream",
     "text": [
      "[*********************100%%**********************]  1 of 1 completed\n",
      "[*********************100%%**********************]  1 of 1 completed\n"
     ]
    },
    {
     "name": "stdout",
     "output_type": "stream",
     "text": [
      "CME\n",
      "CMG\n"
     ]
    },
    {
     "name": "stderr",
     "output_type": "stream",
     "text": [
      "[*********************100%%**********************]  1 of 1 completed\n"
     ]
    },
    {
     "name": "stdout",
     "output_type": "stream",
     "text": [
      "CMI\n"
     ]
    },
    {
     "name": "stderr",
     "output_type": "stream",
     "text": [
      "[*********************100%%**********************]  1 of 1 completed\n"
     ]
    },
    {
     "name": "stdout",
     "output_type": "stream",
     "text": [
      "CMS\n"
     ]
    },
    {
     "name": "stderr",
     "output_type": "stream",
     "text": [
      "[*********************100%%**********************]  1 of 1 completed\n",
      "[*********************100%%**********************]  1 of 1 completed\n"
     ]
    },
    {
     "name": "stdout",
     "output_type": "stream",
     "text": [
      "CNC\n",
      "CNP\n"
     ]
    },
    {
     "name": "stderr",
     "output_type": "stream",
     "text": [
      "[*********************100%%**********************]  1 of 1 completed\n",
      "[*********************100%%**********************]  1 of 1 completed\n"
     ]
    },
    {
     "name": "stdout",
     "output_type": "stream",
     "text": [
      "COF\n",
      "COO\n"
     ]
    },
    {
     "name": "stderr",
     "output_type": "stream",
     "text": [
      "[*********************100%%**********************]  1 of 1 completed\n"
     ]
    },
    {
     "name": "stdout",
     "output_type": "stream",
     "text": [
      "COP\n"
     ]
    },
    {
     "name": "stderr",
     "output_type": "stream",
     "text": [
      "[*********************100%%**********************]  1 of 1 completed\n",
      "[*********************100%%**********************]  1 of 1 completed\n"
     ]
    },
    {
     "name": "stdout",
     "output_type": "stream",
     "text": [
      "COR\n",
      "COST\n"
     ]
    },
    {
     "name": "stderr",
     "output_type": "stream",
     "text": [
      "[*********************100%%**********************]  1 of 1 completed\n",
      "[*********************100%%**********************]  1 of 1 completed\n"
     ]
    },
    {
     "name": "stdout",
     "output_type": "stream",
     "text": [
      "CPAY\n",
      "CPB\n"
     ]
    },
    {
     "name": "stderr",
     "output_type": "stream",
     "text": [
      "[*********************100%%**********************]  1 of 1 completed\n",
      "[*********************100%%**********************]  1 of 1 completed\n"
     ]
    },
    {
     "name": "stdout",
     "output_type": "stream",
     "text": [
      "CPRT\n",
      "CPT\n"
     ]
    },
    {
     "name": "stderr",
     "output_type": "stream",
     "text": [
      "[*********************100%%**********************]  1 of 1 completed\n",
      "[*********************100%%**********************]  1 of 1 completed\n"
     ]
    },
    {
     "name": "stdout",
     "output_type": "stream",
     "text": [
      "CRL\n",
      "CRM\n"
     ]
    },
    {
     "name": "stderr",
     "output_type": "stream",
     "text": [
      "[*********************100%%**********************]  1 of 1 completed\n",
      "[*********************100%%**********************]  1 of 1 completed\n"
     ]
    },
    {
     "name": "stdout",
     "output_type": "stream",
     "text": [
      "CRWD\n",
      "CSCO\n"
     ]
    },
    {
     "name": "stderr",
     "output_type": "stream",
     "text": [
      "[*********************100%%**********************]  1 of 1 completed\n",
      "[*********************100%%**********************]  1 of 1 completed\n"
     ]
    },
    {
     "name": "stdout",
     "output_type": "stream",
     "text": [
      "CSGP\n",
      "CSX\n"
     ]
    },
    {
     "name": "stderr",
     "output_type": "stream",
     "text": [
      "[*********************100%%**********************]  1 of 1 completed\n",
      "[*********************100%%**********************]  1 of 1 completed\n"
     ]
    },
    {
     "name": "stdout",
     "output_type": "stream",
     "text": [
      "CTAS\n",
      "CTLT\n"
     ]
    },
    {
     "name": "stderr",
     "output_type": "stream",
     "text": [
      "[*********************100%%**********************]  1 of 1 completed\n",
      "[*********************100%%**********************]  1 of 1 completed\n"
     ]
    },
    {
     "name": "stdout",
     "output_type": "stream",
     "text": [
      "CTRA\n",
      "CTSH\n"
     ]
    },
    {
     "name": "stderr",
     "output_type": "stream",
     "text": [
      "[*********************100%%**********************]  1 of 1 completed\n",
      "[*********************100%%**********************]  1 of 1 completed\n"
     ]
    },
    {
     "name": "stdout",
     "output_type": "stream",
     "text": [
      "CTVA\n",
      "CVS\n"
     ]
    },
    {
     "name": "stderr",
     "output_type": "stream",
     "text": [
      "[*********************100%%**********************]  1 of 1 completed\n"
     ]
    },
    {
     "name": "stdout",
     "output_type": "stream",
     "text": [
      "CVX\n"
     ]
    },
    {
     "name": "stderr",
     "output_type": "stream",
     "text": [
      "[*********************100%%**********************]  1 of 1 completed\n",
      "[*********************100%%**********************]  1 of 1 completed\n"
     ]
    },
    {
     "name": "stdout",
     "output_type": "stream",
     "text": [
      "CZR\n",
      "D\n"
     ]
    },
    {
     "name": "stderr",
     "output_type": "stream",
     "text": [
      "[*********************100%%**********************]  1 of 1 completed\n",
      "[*********************100%%**********************]  1 of 1 completed\n"
     ]
    },
    {
     "name": "stdout",
     "output_type": "stream",
     "text": [
      "DAL\n",
      "DAY\n"
     ]
    },
    {
     "name": "stderr",
     "output_type": "stream",
     "text": [
      "[*********************100%%**********************]  1 of 1 completed\n"
     ]
    },
    {
     "name": "stdout",
     "output_type": "stream",
     "text": [
      "DD\n"
     ]
    },
    {
     "name": "stderr",
     "output_type": "stream",
     "text": [
      "[*********************100%%**********************]  1 of 1 completed\n"
     ]
    },
    {
     "name": "stdout",
     "output_type": "stream",
     "text": [
      "DE\n"
     ]
    },
    {
     "name": "stderr",
     "output_type": "stream",
     "text": [
      "[*********************100%%**********************]  1 of 1 completed\n",
      "[*********************100%%**********************]  1 of 1 completed\n"
     ]
    },
    {
     "name": "stdout",
     "output_type": "stream",
     "text": [
      "DECK\n",
      "DFS\n"
     ]
    },
    {
     "name": "stderr",
     "output_type": "stream",
     "text": [
      "[*********************100%%**********************]  1 of 1 completed\n",
      "[*********************100%%**********************]  1 of 1 completed\n"
     ]
    },
    {
     "name": "stdout",
     "output_type": "stream",
     "text": [
      "DG\n",
      "DGX\n"
     ]
    },
    {
     "name": "stderr",
     "output_type": "stream",
     "text": [
      "[*********************100%%**********************]  1 of 1 completed\n"
     ]
    },
    {
     "name": "stdout",
     "output_type": "stream",
     "text": [
      "DHI\n"
     ]
    },
    {
     "name": "stderr",
     "output_type": "stream",
     "text": [
      "[*********************100%%**********************]  1 of 1 completed\n",
      "[*********************100%%**********************]  1 of 1 completed"
     ]
    },
    {
     "name": "stdout",
     "output_type": "stream",
     "text": [
      "DHR\n",
      "DIS\n"
     ]
    },
    {
     "name": "stderr",
     "output_type": "stream",
     "text": [
      "\n",
      "[*********************100%%**********************]  1 of 1 completed\n",
      "[*********************100%%**********************]  1 of 1 completed\n"
     ]
    },
    {
     "name": "stdout",
     "output_type": "stream",
     "text": [
      "DLR\n",
      "DLTR\n"
     ]
    },
    {
     "name": "stderr",
     "output_type": "stream",
     "text": [
      "[*********************100%%**********************]  1 of 1 completed\n"
     ]
    },
    {
     "name": "stdout",
     "output_type": "stream",
     "text": [
      "DOC\n"
     ]
    },
    {
     "name": "stderr",
     "output_type": "stream",
     "text": [
      "[*********************100%%**********************]  1 of 1 completed\n"
     ]
    },
    {
     "name": "stdout",
     "output_type": "stream",
     "text": [
      "DOV\n"
     ]
    },
    {
     "name": "stderr",
     "output_type": "stream",
     "text": [
      "[*********************100%%**********************]  1 of 1 completed\n",
      "[*********************100%%**********************]  1 of 1 completed\n"
     ]
    },
    {
     "name": "stdout",
     "output_type": "stream",
     "text": [
      "DOW\n",
      "DPZ\n"
     ]
    },
    {
     "name": "stderr",
     "output_type": "stream",
     "text": [
      "[*********************100%%**********************]  1 of 1 completed\n",
      "[*********************100%%**********************]  1 of 1 completed"
     ]
    },
    {
     "name": "stdout",
     "output_type": "stream",
     "text": [
      "DRI\n",
      "DTE\n"
     ]
    },
    {
     "name": "stderr",
     "output_type": "stream",
     "text": [
      "\n",
      "[*********************100%%**********************]  1 of 1 completed\n"
     ]
    },
    {
     "name": "stdout",
     "output_type": "stream",
     "text": [
      "DUK\n"
     ]
    },
    {
     "name": "stderr",
     "output_type": "stream",
     "text": [
      "[*********************100%%**********************]  1 of 1 completed\n",
      "[*********************100%%**********************]  1 of 1 completed\n"
     ]
    },
    {
     "name": "stdout",
     "output_type": "stream",
     "text": [
      "DVA\n",
      "DVN\n"
     ]
    },
    {
     "name": "stderr",
     "output_type": "stream",
     "text": [
      "[*********************100%%**********************]  1 of 1 completed\n",
      "[*********************100%%**********************]  1 of 1 completed\n"
     ]
    },
    {
     "name": "stdout",
     "output_type": "stream",
     "text": [
      "DXCM\n",
      "EA\n"
     ]
    },
    {
     "name": "stderr",
     "output_type": "stream",
     "text": [
      "[*********************100%%**********************]  1 of 1 completed\n",
      "[*********************100%%**********************]  1 of 1 completed\n"
     ]
    },
    {
     "name": "stdout",
     "output_type": "stream",
     "text": [
      "EBAY\n",
      "ECL\n"
     ]
    },
    {
     "name": "stderr",
     "output_type": "stream",
     "text": [
      "[*********************100%%**********************]  1 of 1 completed\n"
     ]
    },
    {
     "name": "stdout",
     "output_type": "stream",
     "text": [
      "ED\n"
     ]
    },
    {
     "name": "stderr",
     "output_type": "stream",
     "text": [
      "[*********************100%%**********************]  1 of 1 completed\n"
     ]
    },
    {
     "name": "stdout",
     "output_type": "stream",
     "text": [
      "EFX\n"
     ]
    },
    {
     "name": "stderr",
     "output_type": "stream",
     "text": [
      "[*********************100%%**********************]  1 of 1 completed\n",
      "[*********************100%%**********************]  1 of 1 completed\n"
     ]
    },
    {
     "name": "stdout",
     "output_type": "stream",
     "text": [
      "EG\n",
      "EIX\n"
     ]
    },
    {
     "name": "stderr",
     "output_type": "stream",
     "text": [
      "[*********************100%%**********************]  1 of 1 completed\n",
      "[*********************100%%**********************]  1 of 1 completed\n"
     ]
    },
    {
     "name": "stdout",
     "output_type": "stream",
     "text": [
      "EL\n",
      "ELV\n"
     ]
    },
    {
     "name": "stderr",
     "output_type": "stream",
     "text": [
      "[*********************100%%**********************]  1 of 1 completed\n"
     ]
    },
    {
     "name": "stdout",
     "output_type": "stream",
     "text": [
      "EMN\n"
     ]
    },
    {
     "name": "stderr",
     "output_type": "stream",
     "text": [
      "[*********************100%%**********************]  1 of 1 completed\n"
     ]
    },
    {
     "name": "stdout",
     "output_type": "stream",
     "text": [
      "EMR\n"
     ]
    },
    {
     "name": "stderr",
     "output_type": "stream",
     "text": [
      "[*********************100%%**********************]  1 of 1 completed\n",
      "[*********************100%%**********************]  1 of 1 completed\n"
     ]
    },
    {
     "name": "stdout",
     "output_type": "stream",
     "text": [
      "ENPH\n",
      "EOG\n"
     ]
    },
    {
     "name": "stderr",
     "output_type": "stream",
     "text": [
      "[*********************100%%**********************]  1 of 1 completed\n",
      "[*********************100%%**********************]  1 of 1 completed\n"
     ]
    },
    {
     "name": "stdout",
     "output_type": "stream",
     "text": [
      "EPAM\n",
      "EQIX\n"
     ]
    },
    {
     "name": "stderr",
     "output_type": "stream",
     "text": [
      "[*********************100%%**********************]  1 of 1 completed\n",
      "[*********************100%%**********************]  1 of 1 completed\n"
     ]
    },
    {
     "name": "stdout",
     "output_type": "stream",
     "text": [
      "EQR\n",
      "EQT\n"
     ]
    },
    {
     "name": "stderr",
     "output_type": "stream",
     "text": [
      "[*********************100%%**********************]  1 of 1 completed\n"
     ]
    },
    {
     "name": "stdout",
     "output_type": "stream",
     "text": [
      "ES\n"
     ]
    },
    {
     "name": "stderr",
     "output_type": "stream",
     "text": [
      "[*********************100%%**********************]  1 of 1 completed\n"
     ]
    },
    {
     "name": "stdout",
     "output_type": "stream",
     "text": [
      "ESS\n"
     ]
    },
    {
     "name": "stderr",
     "output_type": "stream",
     "text": [
      "[*********************100%%**********************]  1 of 1 completed\n"
     ]
    },
    {
     "name": "stdout",
     "output_type": "stream",
     "text": [
      "ETN\n"
     ]
    },
    {
     "name": "stderr",
     "output_type": "stream",
     "text": [
      "[*********************100%%**********************]  1 of 1 completed\n",
      "[*********************100%%**********************]  1 of 1 completed"
     ]
    },
    {
     "name": "stdout",
     "output_type": "stream",
     "text": [
      "ETR\n"
     ]
    },
    {
     "name": "stderr",
     "output_type": "stream",
     "text": [
      "\n",
      "[*********************100%%**********************]  1 of 1 completed\n"
     ]
    },
    {
     "name": "stdout",
     "output_type": "stream",
     "text": [
      "ETSY\n",
      "EVRG\n"
     ]
    },
    {
     "name": "stderr",
     "output_type": "stream",
     "text": [
      "[*********************100%%**********************]  1 of 1 completed\n",
      "[*********************100%%**********************]  1 of 1 completed\n"
     ]
    },
    {
     "name": "stdout",
     "output_type": "stream",
     "text": [
      "EW\n",
      "EXC\n"
     ]
    },
    {
     "name": "stderr",
     "output_type": "stream",
     "text": [
      "[*********************100%%**********************]  1 of 1 completed\n",
      "[*********************100%%**********************]  1 of 1 completed\n"
     ]
    },
    {
     "name": "stdout",
     "output_type": "stream",
     "text": [
      "EXPD\n",
      "EXPE\n"
     ]
    },
    {
     "name": "stderr",
     "output_type": "stream",
     "text": [
      "[*********************100%%**********************]  1 of 1 completed\n",
      "[*********************100%%**********************]  1 of 1 completed\n"
     ]
    },
    {
     "name": "stdout",
     "output_type": "stream",
     "text": [
      "EXR\n",
      "F\n"
     ]
    },
    {
     "name": "stderr",
     "output_type": "stream",
     "text": [
      "[*********************100%%**********************]  1 of 1 completed\n",
      "[*********************100%%**********************]  1 of 1 completed\n"
     ]
    },
    {
     "name": "stdout",
     "output_type": "stream",
     "text": [
      "FANG\n",
      "FAST\n"
     ]
    },
    {
     "name": "stderr",
     "output_type": "stream",
     "text": [
      "[*********************100%%**********************]  1 of 1 completed\n",
      "[*********************100%%**********************]  1 of 1 completed\n"
     ]
    },
    {
     "name": "stdout",
     "output_type": "stream",
     "text": [
      "FCX\n",
      "FDS\n"
     ]
    },
    {
     "name": "stderr",
     "output_type": "stream",
     "text": [
      "[*********************100%%**********************]  1 of 1 completed\n",
      "[*********************100%%**********************]  1 of 1 completed\n"
     ]
    },
    {
     "name": "stdout",
     "output_type": "stream",
     "text": [
      "FDX\n",
      "FE\n"
     ]
    },
    {
     "name": "stderr",
     "output_type": "stream",
     "text": [
      "[*********************100%%**********************]  1 of 1 completed\n",
      "[*********************100%%**********************]  1 of 1 completed\n"
     ]
    },
    {
     "name": "stdout",
     "output_type": "stream",
     "text": [
      "FFIV\n",
      "FI\n"
     ]
    },
    {
     "name": "stderr",
     "output_type": "stream",
     "text": [
      "[*********************100%%**********************]  1 of 1 completed\n",
      "[*********************100%%**********************]  1 of 1 completed\n"
     ]
    },
    {
     "name": "stdout",
     "output_type": "stream",
     "text": [
      "FICO\n",
      "FIS\n"
     ]
    },
    {
     "name": "stderr",
     "output_type": "stream",
     "text": [
      "[*********************100%%**********************]  1 of 1 completed\n",
      "[*********************100%%**********************]  1 of 1 completed"
     ]
    },
    {
     "name": "stdout",
     "output_type": "stream",
     "text": [
      "FITB\n",
      "FMC\n"
     ]
    },
    {
     "name": "stderr",
     "output_type": "stream",
     "text": [
      "\n",
      "[*********************100%%**********************]  1 of 1 completed\n",
      "[*********************100%%**********************]  1 of 1 completed\n"
     ]
    },
    {
     "name": "stdout",
     "output_type": "stream",
     "text": [
      "FOXA\n",
      "FRT\n"
     ]
    },
    {
     "name": "stderr",
     "output_type": "stream",
     "text": [
      "[*********************100%%**********************]  1 of 1 completed\n",
      "[*********************100%%**********************]  1 of 1 completed\n"
     ]
    },
    {
     "name": "stdout",
     "output_type": "stream",
     "text": [
      "FSLR\n",
      "FTNT\n"
     ]
    },
    {
     "name": "stderr",
     "output_type": "stream",
     "text": [
      "[*********************100%%**********************]  1 of 1 completed\n",
      "[*********************100%%**********************]  1 of 1 completed\n"
     ]
    },
    {
     "name": "stdout",
     "output_type": "stream",
     "text": [
      "FTV\n",
      "GD\n"
     ]
    },
    {
     "name": "stderr",
     "output_type": "stream",
     "text": [
      "[*********************100%%**********************]  1 of 1 completed\n",
      "[*********************100%%**********************]  1 of 1 completed\n"
     ]
    },
    {
     "name": "stdout",
     "output_type": "stream",
     "text": [
      "GDDY\n",
      "GE\n"
     ]
    },
    {
     "name": "stderr",
     "output_type": "stream",
     "text": [
      "[*********************100%%**********************]  1 of 1 completed\n",
      "[*********************100%%**********************]  1 of 1 completed\n"
     ]
    },
    {
     "name": "stdout",
     "output_type": "stream",
     "text": [
      "GEHC\n",
      "GEN\n"
     ]
    },
    {
     "name": "stderr",
     "output_type": "stream",
     "text": [
      "[*********************100%%**********************]  1 of 1 completed\n"
     ]
    },
    {
     "name": "stdout",
     "output_type": "stream",
     "text": [
      "GEV\n"
     ]
    },
    {
     "name": "stderr",
     "output_type": "stream",
     "text": [
      "[*********************100%%**********************]  1 of 1 completed\n",
      "\n",
      "1 Failed download:\n",
      "['GEV']: YFChartError(\"%ticker%: Data doesn't exist for startDate = 1420088400, endDate = 1704085200\")\n",
      "[*********************100%%**********************]  1 of 1 completed\n"
     ]
    },
    {
     "name": "stdout",
     "output_type": "stream",
     "text": [
      "Error occured in stock download: single positional indexer is out-of-bounds\n",
      "GILD\n",
      "GIS\n"
     ]
    },
    {
     "name": "stderr",
     "output_type": "stream",
     "text": [
      "[*********************100%%**********************]  1 of 1 completed\n"
     ]
    },
    {
     "name": "stdout",
     "output_type": "stream",
     "text": [
      "GL\n"
     ]
    },
    {
     "name": "stderr",
     "output_type": "stream",
     "text": [
      "[*********************100%%**********************]  1 of 1 completed\n"
     ]
    },
    {
     "name": "stdout",
     "output_type": "stream",
     "text": [
      "GLW\n"
     ]
    },
    {
     "name": "stderr",
     "output_type": "stream",
     "text": [
      "[*********************100%%**********************]  1 of 1 completed\n",
      "[*********************100%%**********************]  1 of 1 completed\n"
     ]
    },
    {
     "name": "stdout",
     "output_type": "stream",
     "text": [
      "GM\n",
      "GNRC\n"
     ]
    },
    {
     "name": "stderr",
     "output_type": "stream",
     "text": [
      "[*********************100%%**********************]  1 of 1 completed\n",
      "[*********************100%%**********************]  1 of 1 completed\n"
     ]
    },
    {
     "name": "stdout",
     "output_type": "stream",
     "text": [
      "GOOGL\n",
      "GPC\n"
     ]
    },
    {
     "name": "stderr",
     "output_type": "stream",
     "text": [
      "[*********************100%%**********************]  1 of 1 completed\n",
      "[*********************100%%**********************]  1 of 1 completed"
     ]
    },
    {
     "name": "stdout",
     "output_type": "stream",
     "text": [
      "GPN\n",
      "GRMN\n"
     ]
    },
    {
     "name": "stderr",
     "output_type": "stream",
     "text": [
      "\n",
      "[*********************100%%**********************]  1 of 1 completed\n"
     ]
    },
    {
     "name": "stdout",
     "output_type": "stream",
     "text": [
      "GS\n"
     ]
    },
    {
     "name": "stderr",
     "output_type": "stream",
     "text": [
      "[*********************100%%**********************]  1 of 1 completed\n",
      "[*********************100%%**********************]  1 of 1 completed\n"
     ]
    },
    {
     "name": "stdout",
     "output_type": "stream",
     "text": [
      "GWW\n",
      "HAL\n"
     ]
    },
    {
     "name": "stderr",
     "output_type": "stream",
     "text": [
      "[*********************100%%**********************]  1 of 1 completed\n",
      "[*********************100%%**********************]  1 of 1 completed\n"
     ]
    },
    {
     "name": "stdout",
     "output_type": "stream",
     "text": [
      "HAS\n",
      "HBAN\n"
     ]
    },
    {
     "name": "stderr",
     "output_type": "stream",
     "text": [
      "[*********************100%%**********************]  1 of 1 completed\n",
      "[*********************100%%**********************]  1 of 1 completed\n"
     ]
    },
    {
     "name": "stdout",
     "output_type": "stream",
     "text": [
      "HCA\n",
      "HD\n"
     ]
    },
    {
     "name": "stderr",
     "output_type": "stream",
     "text": [
      "[*********************100%%**********************]  1 of 1 completed\n",
      "[*********************100%%**********************]  1 of 1 completed"
     ]
    },
    {
     "name": "stdout",
     "output_type": "stream",
     "text": [
      "HES\n"
     ]
    },
    {
     "name": "stderr",
     "output_type": "stream",
     "text": [
      "\n",
      "[*********************100%%**********************]  1 of 1 completed"
     ]
    },
    {
     "name": "stdout",
     "output_type": "stream",
     "text": [
      "HIG\n"
     ]
    },
    {
     "name": "stderr",
     "output_type": "stream",
     "text": [
      "\n",
      "[*********************100%%**********************]  1 of 1 completed\n"
     ]
    },
    {
     "name": "stdout",
     "output_type": "stream",
     "text": [
      "HII\n",
      "HLT\n"
     ]
    },
    {
     "name": "stderr",
     "output_type": "stream",
     "text": [
      "[*********************100%%**********************]  1 of 1 completed\n",
      "[*********************100%%**********************]  1 of 1 completed\n"
     ]
    },
    {
     "name": "stdout",
     "output_type": "stream",
     "text": [
      "HOLX\n",
      "HON\n"
     ]
    },
    {
     "name": "stderr",
     "output_type": "stream",
     "text": [
      "[*********************100%%**********************]  1 of 1 completed\n",
      "[*********************100%%**********************]  1 of 1 completed\n"
     ]
    },
    {
     "name": "stdout",
     "output_type": "stream",
     "text": [
      "HPE\n",
      "HPQ\n"
     ]
    },
    {
     "name": "stderr",
     "output_type": "stream",
     "text": [
      "[*********************100%%**********************]  1 of 1 completed\n"
     ]
    },
    {
     "name": "stdout",
     "output_type": "stream",
     "text": [
      "HRL\n"
     ]
    },
    {
     "name": "stderr",
     "output_type": "stream",
     "text": [
      "[*********************100%%**********************]  1 of 1 completed\n",
      "[*********************100%%**********************]  1 of 1 completed\n"
     ]
    },
    {
     "name": "stdout",
     "output_type": "stream",
     "text": [
      "HSIC\n",
      "HST\n"
     ]
    },
    {
     "name": "stderr",
     "output_type": "stream",
     "text": [
      "[*********************100%%**********************]  1 of 1 completed\n"
     ]
    },
    {
     "name": "stdout",
     "output_type": "stream",
     "text": [
      "HSY\n"
     ]
    },
    {
     "name": "stderr",
     "output_type": "stream",
     "text": [
      "[*********************100%%**********************]  1 of 1 completed\n"
     ]
    },
    {
     "name": "stdout",
     "output_type": "stream",
     "text": [
      "HUBB\n"
     ]
    },
    {
     "name": "stderr",
     "output_type": "stream",
     "text": [
      "[*********************100%%**********************]  1 of 1 completed\n"
     ]
    },
    {
     "name": "stdout",
     "output_type": "stream",
     "text": [
      "HUM\n"
     ]
    },
    {
     "name": "stderr",
     "output_type": "stream",
     "text": [
      "[*********************100%%**********************]  1 of 1 completed\n"
     ]
    },
    {
     "name": "stdout",
     "output_type": "stream",
     "text": [
      "HWM\n"
     ]
    },
    {
     "name": "stderr",
     "output_type": "stream",
     "text": [
      "[*********************100%%**********************]  1 of 1 completed\n"
     ]
    },
    {
     "name": "stdout",
     "output_type": "stream",
     "text": [
      "IBM\n"
     ]
    },
    {
     "name": "stderr",
     "output_type": "stream",
     "text": [
      "[*********************100%%**********************]  1 of 1 completed\n",
      "[*********************100%%**********************]  1 of 1 completed\n"
     ]
    },
    {
     "name": "stdout",
     "output_type": "stream",
     "text": [
      "ICE\n",
      "IDXX\n"
     ]
    },
    {
     "name": "stderr",
     "output_type": "stream",
     "text": [
      "[*********************100%%**********************]  1 of 1 completed\n",
      "[*********************100%%**********************]  1 of 1 completed"
     ]
    },
    {
     "name": "stdout",
     "output_type": "stream",
     "text": [
      "IEX\n"
     ]
    },
    {
     "name": "stderr",
     "output_type": "stream",
     "text": [
      "\n"
     ]
    },
    {
     "name": "stdout",
     "output_type": "stream",
     "text": [
      "IFF\n"
     ]
    },
    {
     "name": "stderr",
     "output_type": "stream",
     "text": [
      "[*********************100%%**********************]  1 of 1 completed\n",
      "[*********************100%%**********************]  1 of 1 completed\n"
     ]
    },
    {
     "name": "stdout",
     "output_type": "stream",
     "text": [
      "INCY\n",
      "INTC\n"
     ]
    },
    {
     "name": "stderr",
     "output_type": "stream",
     "text": [
      "[*********************100%%**********************]  1 of 1 completed\n",
      "[*********************100%%**********************]  1 of 1 completed\n"
     ]
    },
    {
     "name": "stdout",
     "output_type": "stream",
     "text": [
      "INTU\n",
      "INVH\n"
     ]
    },
    {
     "name": "stderr",
     "output_type": "stream",
     "text": [
      "[*********************100%%**********************]  1 of 1 completed\n"
     ]
    },
    {
     "name": "stdout",
     "output_type": "stream",
     "text": [
      "IP\n"
     ]
    },
    {
     "name": "stderr",
     "output_type": "stream",
     "text": [
      "[*********************100%%**********************]  1 of 1 completed\n"
     ]
    },
    {
     "name": "stdout",
     "output_type": "stream",
     "text": [
      "IPG\n"
     ]
    },
    {
     "name": "stderr",
     "output_type": "stream",
     "text": [
      "[*********************100%%**********************]  1 of 1 completed\n",
      "[*********************100%%**********************]  1 of 1 completed\n"
     ]
    },
    {
     "name": "stdout",
     "output_type": "stream",
     "text": [
      "IQV\n",
      "IR\n"
     ]
    },
    {
     "name": "stderr",
     "output_type": "stream",
     "text": [
      "[*********************100%%**********************]  1 of 1 completed\n",
      "[*********************100%%**********************]  1 of 1 completed"
     ]
    },
    {
     "name": "stdout",
     "output_type": "stream",
     "text": [
      "IRM\n"
     ]
    },
    {
     "name": "stderr",
     "output_type": "stream",
     "text": [
      "\n",
      "[*********************100%%**********************]  1 of 1 completed\n"
     ]
    },
    {
     "name": "stdout",
     "output_type": "stream",
     "text": [
      "ISRG\n",
      "IT\n"
     ]
    },
    {
     "name": "stderr",
     "output_type": "stream",
     "text": [
      "[*********************100%%**********************]  1 of 1 completed\n"
     ]
    },
    {
     "name": "stdout",
     "output_type": "stream",
     "text": [
      "ITW\n"
     ]
    },
    {
     "name": "stderr",
     "output_type": "stream",
     "text": [
      "[*********************100%%**********************]  1 of 1 completed\n",
      "[*********************100%%**********************]  1 of 1 completed"
     ]
    },
    {
     "name": "stdout",
     "output_type": "stream",
     "text": [
      "IVZ\n"
     ]
    },
    {
     "name": "stderr",
     "output_type": "stream",
     "text": [
      "\n",
      "[*********************100%%**********************]  1 of 1 completed\n"
     ]
    },
    {
     "name": "stdout",
     "output_type": "stream",
     "text": [
      "J\n",
      "JBHT\n"
     ]
    },
    {
     "name": "stderr",
     "output_type": "stream",
     "text": [
      "[*********************100%%**********************]  1 of 1 completed\n",
      "[*********************100%%**********************]  1 of 1 completed\n"
     ]
    },
    {
     "name": "stdout",
     "output_type": "stream",
     "text": [
      "JBL\n",
      "JCI\n"
     ]
    },
    {
     "name": "stderr",
     "output_type": "stream",
     "text": [
      "[*********************100%%**********************]  1 of 1 completed\n"
     ]
    },
    {
     "name": "stdout",
     "output_type": "stream",
     "text": [
      "JKHY\n"
     ]
    },
    {
     "name": "stderr",
     "output_type": "stream",
     "text": [
      "[*********************100%%**********************]  1 of 1 completed\n"
     ]
    },
    {
     "name": "stdout",
     "output_type": "stream",
     "text": [
      "JNJ\n"
     ]
    },
    {
     "name": "stderr",
     "output_type": "stream",
     "text": [
      "[*********************100%%**********************]  1 of 1 completed\n",
      "[*********************100%%**********************]  1 of 1 completed\n"
     ]
    },
    {
     "name": "stdout",
     "output_type": "stream",
     "text": [
      "JNPR\n",
      "JPM\n"
     ]
    },
    {
     "name": "stderr",
     "output_type": "stream",
     "text": [
      "[*********************100%%**********************]  1 of 1 completed\n"
     ]
    },
    {
     "name": "stdout",
     "output_type": "stream",
     "text": [
      "K\n"
     ]
    },
    {
     "name": "stderr",
     "output_type": "stream",
     "text": [
      "[*********************100%%**********************]  1 of 1 completed\n",
      "[*********************100%%**********************]  1 of 1 completed\n"
     ]
    },
    {
     "name": "stdout",
     "output_type": "stream",
     "text": [
      "KDP\n",
      "KEY\n"
     ]
    },
    {
     "name": "stderr",
     "output_type": "stream",
     "text": [
      "[*********************100%%**********************]  1 of 1 completed\n",
      "[*********************100%%**********************]  1 of 1 completed\n"
     ]
    },
    {
     "name": "stdout",
     "output_type": "stream",
     "text": [
      "KEYS\n",
      "KHC\n"
     ]
    },
    {
     "name": "stderr",
     "output_type": "stream",
     "text": [
      "[*********************100%%**********************]  1 of 1 completed\n"
     ]
    },
    {
     "name": "stdout",
     "output_type": "stream",
     "text": [
      "KIM\n"
     ]
    },
    {
     "name": "stderr",
     "output_type": "stream",
     "text": [
      "[*********************100%%**********************]  1 of 1 completed\n"
     ]
    },
    {
     "name": "stdout",
     "output_type": "stream",
     "text": [
      "KKR\n"
     ]
    },
    {
     "name": "stderr",
     "output_type": "stream",
     "text": [
      "[*********************100%%**********************]  1 of 1 completed\n"
     ]
    },
    {
     "name": "stdout",
     "output_type": "stream",
     "text": [
      "KLAC\n"
     ]
    },
    {
     "name": "stderr",
     "output_type": "stream",
     "text": [
      "[*********************100%%**********************]  1 of 1 completed\n",
      "[*********************100%%**********************]  1 of 1 completed"
     ]
    },
    {
     "name": "stdout",
     "output_type": "stream",
     "text": [
      "KMB\n"
     ]
    },
    {
     "name": "stderr",
     "output_type": "stream",
     "text": [
      "\n",
      "[*********************100%%**********************]  1 of 1 completed\n"
     ]
    },
    {
     "name": "stdout",
     "output_type": "stream",
     "text": [
      "KMI\n",
      "KMX\n"
     ]
    },
    {
     "name": "stderr",
     "output_type": "stream",
     "text": [
      "[*********************100%%**********************]  1 of 1 completed\n"
     ]
    },
    {
     "name": "stdout",
     "output_type": "stream",
     "text": [
      "KO\n"
     ]
    },
    {
     "name": "stderr",
     "output_type": "stream",
     "text": [
      "[*********************100%%**********************]  1 of 1 completed\n"
     ]
    },
    {
     "name": "stdout",
     "output_type": "stream",
     "text": [
      "KR\n"
     ]
    },
    {
     "name": "stderr",
     "output_type": "stream",
     "text": [
      "[*********************100%%**********************]  1 of 1 completed\n",
      "[*********************100%%**********************]  1 of 1 completed\n"
     ]
    },
    {
     "name": "stdout",
     "output_type": "stream",
     "text": [
      "KVUE\n",
      "L\n"
     ]
    },
    {
     "name": "stderr",
     "output_type": "stream",
     "text": [
      "[*********************100%%**********************]  1 of 1 completed\n",
      "[*********************100%%**********************]  1 of 1 completed\n"
     ]
    },
    {
     "name": "stdout",
     "output_type": "stream",
     "text": [
      "LDOS\n",
      "LEN\n"
     ]
    },
    {
     "name": "stderr",
     "output_type": "stream",
     "text": [
      "[*********************100%%**********************]  1 of 1 completed\n",
      "[*********************100%%**********************]  1 of 1 completed"
     ]
    },
    {
     "name": "stdout",
     "output_type": "stream",
     "text": [
      "LH\n"
     ]
    },
    {
     "name": "stderr",
     "output_type": "stream",
     "text": [
      "\n"
     ]
    },
    {
     "name": "stdout",
     "output_type": "stream",
     "text": [
      "LHX\n"
     ]
    },
    {
     "name": "stderr",
     "output_type": "stream",
     "text": [
      "[*********************100%%**********************]  1 of 1 completed\n"
     ]
    },
    {
     "name": "stdout",
     "output_type": "stream",
     "text": [
      "LIN\n"
     ]
    },
    {
     "name": "stderr",
     "output_type": "stream",
     "text": [
      "[*********************100%%**********************]  1 of 1 completed\n"
     ]
    },
    {
     "name": "stdout",
     "output_type": "stream",
     "text": [
      "LKQ\n"
     ]
    },
    {
     "name": "stderr",
     "output_type": "stream",
     "text": [
      "[*********************100%%**********************]  1 of 1 completed\n",
      "[*********************100%%**********************]  1 of 1 completed"
     ]
    },
    {
     "name": "stdout",
     "output_type": "stream",
     "text": [
      "LLY\n",
      "LMT\n"
     ]
    },
    {
     "name": "stderr",
     "output_type": "stream",
     "text": [
      "\n",
      "[*********************100%%**********************]  1 of 1 completed\n"
     ]
    },
    {
     "name": "stdout",
     "output_type": "stream",
     "text": [
      "LNT\n"
     ]
    },
    {
     "name": "stderr",
     "output_type": "stream",
     "text": [
      "[*********************100%%**********************]  1 of 1 completed\n"
     ]
    },
    {
     "name": "stdout",
     "output_type": "stream",
     "text": [
      "LOW\n"
     ]
    },
    {
     "name": "stderr",
     "output_type": "stream",
     "text": [
      "[*********************100%%**********************]  1 of 1 completed\n",
      "[*********************100%%**********************]  1 of 1 completed"
     ]
    },
    {
     "name": "stdout",
     "output_type": "stream",
     "text": [
      "LRCX\n"
     ]
    },
    {
     "name": "stderr",
     "output_type": "stream",
     "text": [
      "\n",
      "[*********************100%%**********************]  1 of 1 completed\n"
     ]
    },
    {
     "name": "stdout",
     "output_type": "stream",
     "text": [
      "LULU\n",
      "LUV\n"
     ]
    },
    {
     "name": "stderr",
     "output_type": "stream",
     "text": [
      "[*********************100%%**********************]  1 of 1 completed\n",
      "[*********************100%%**********************]  1 of 1 completed\n"
     ]
    },
    {
     "name": "stdout",
     "output_type": "stream",
     "text": [
      "LVS\n",
      "LW\n"
     ]
    },
    {
     "name": "stderr",
     "output_type": "stream",
     "text": [
      "[*********************100%%**********************]  1 of 1 completed\n",
      "[*********************100%%**********************]  1 of 1 completed\n"
     ]
    },
    {
     "name": "stdout",
     "output_type": "stream",
     "text": [
      "LYB\n",
      "LYV\n"
     ]
    },
    {
     "name": "stderr",
     "output_type": "stream",
     "text": [
      "[*********************100%%**********************]  1 of 1 completed\n",
      "[*********************100%%**********************]  1 of 1 completed"
     ]
    },
    {
     "name": "stdout",
     "output_type": "stream",
     "text": [
      "MA\n"
     ]
    },
    {
     "name": "stderr",
     "output_type": "stream",
     "text": [
      "\n",
      "[*********************100%%**********************]  1 of 1 completed"
     ]
    },
    {
     "name": "stdout",
     "output_type": "stream",
     "text": [
      "MAA\n",
      "MAR\n"
     ]
    },
    {
     "name": "stderr",
     "output_type": "stream",
     "text": [
      "\n",
      "[*********************100%%**********************]  1 of 1 completed\n"
     ]
    },
    {
     "name": "stdout",
     "output_type": "stream",
     "text": [
      "MAS\n"
     ]
    },
    {
     "name": "stderr",
     "output_type": "stream",
     "text": [
      "[*********************100%%**********************]  1 of 1 completed\n"
     ]
    },
    {
     "name": "stdout",
     "output_type": "stream",
     "text": [
      "MCD\n"
     ]
    },
    {
     "name": "stderr",
     "output_type": "stream",
     "text": [
      "[*********************100%%**********************]  1 of 1 completed\n",
      "[*********************100%%**********************]  1 of 1 completed"
     ]
    },
    {
     "name": "stdout",
     "output_type": "stream",
     "text": [
      "MCHP\n"
     ]
    },
    {
     "name": "stderr",
     "output_type": "stream",
     "text": [
      "\n",
      "[*********************100%%**********************]  1 of 1 completed"
     ]
    },
    {
     "name": "stdout",
     "output_type": "stream",
     "text": [
      "MCK\n",
      "MCO\n"
     ]
    },
    {
     "name": "stderr",
     "output_type": "stream",
     "text": [
      "\n",
      "[*********************100%%**********************]  1 of 1 completed\n",
      "[*********************100%%**********************]  1 of 1 completed"
     ]
    },
    {
     "name": "stdout",
     "output_type": "stream",
     "text": [
      "MDLZ\n"
     ]
    },
    {
     "name": "stderr",
     "output_type": "stream",
     "text": [
      "\n"
     ]
    },
    {
     "name": "stdout",
     "output_type": "stream",
     "text": [
      "MDT\n"
     ]
    },
    {
     "name": "stderr",
     "output_type": "stream",
     "text": [
      "[*********************100%%**********************]  1 of 1 completed\n",
      "[*********************100%%**********************]  1 of 1 completed\n"
     ]
    },
    {
     "name": "stdout",
     "output_type": "stream",
     "text": [
      "MET\n",
      "META\n"
     ]
    },
    {
     "name": "stderr",
     "output_type": "stream",
     "text": [
      "[*********************100%%**********************]  1 of 1 completed\n",
      "[*********************100%%**********************]  1 of 1 completed\n"
     ]
    },
    {
     "name": "stdout",
     "output_type": "stream",
     "text": [
      "MGM\n",
      "MHK\n"
     ]
    },
    {
     "name": "stderr",
     "output_type": "stream",
     "text": [
      "[*********************100%%**********************]  1 of 1 completed\n"
     ]
    },
    {
     "name": "stdout",
     "output_type": "stream",
     "text": [
      "MKC\n"
     ]
    },
    {
     "name": "stderr",
     "output_type": "stream",
     "text": [
      "[*********************100%%**********************]  1 of 1 completed\n",
      "[*********************100%%**********************]  1 of 1 completed\n"
     ]
    },
    {
     "name": "stdout",
     "output_type": "stream",
     "text": [
      "MKTX\n",
      "MLM\n"
     ]
    },
    {
     "name": "stderr",
     "output_type": "stream",
     "text": [
      "[*********************100%%**********************]  1 of 1 completed\n"
     ]
    },
    {
     "name": "stdout",
     "output_type": "stream",
     "text": [
      "MMC\n"
     ]
    },
    {
     "name": "stderr",
     "output_type": "stream",
     "text": [
      "[*********************100%%**********************]  1 of 1 completed\n"
     ]
    },
    {
     "name": "stdout",
     "output_type": "stream",
     "text": [
      "MMM\n"
     ]
    },
    {
     "name": "stderr",
     "output_type": "stream",
     "text": [
      "[*********************100%%**********************]  1 of 1 completed\n",
      "[*********************100%%**********************]  1 of 1 completed\n"
     ]
    },
    {
     "name": "stdout",
     "output_type": "stream",
     "text": [
      "MNST\n",
      "MO\n"
     ]
    },
    {
     "name": "stderr",
     "output_type": "stream",
     "text": [
      "[*********************100%%**********************]  1 of 1 completed\n",
      "[*********************100%%**********************]  1 of 1 completed\n"
     ]
    },
    {
     "name": "stdout",
     "output_type": "stream",
     "text": [
      "MOH\n",
      "MOS\n"
     ]
    },
    {
     "name": "stderr",
     "output_type": "stream",
     "text": [
      "[*********************100%%**********************]  1 of 1 completed\n",
      "[*********************100%%**********************]  1 of 1 completed\n"
     ]
    },
    {
     "name": "stdout",
     "output_type": "stream",
     "text": [
      "MPC\n",
      "MPWR\n"
     ]
    },
    {
     "name": "stderr",
     "output_type": "stream",
     "text": [
      "[*********************100%%**********************]  1 of 1 completed\n"
     ]
    },
    {
     "name": "stdout",
     "output_type": "stream",
     "text": [
      "MRK\n"
     ]
    },
    {
     "name": "stderr",
     "output_type": "stream",
     "text": [
      "[*********************100%%**********************]  1 of 1 completed\n",
      "[*********************100%%**********************]  1 of 1 completed\n"
     ]
    },
    {
     "name": "stdout",
     "output_type": "stream",
     "text": [
      "MRNA\n",
      "MRO\n"
     ]
    },
    {
     "name": "stderr",
     "output_type": "stream",
     "text": [
      "[*********************100%%**********************]  1 of 1 completed\n",
      "[*********************100%%**********************]  1 of 1 completed"
     ]
    },
    {
     "name": "stdout",
     "output_type": "stream",
     "text": [
      "MS\n"
     ]
    },
    {
     "name": "stderr",
     "output_type": "stream",
     "text": [
      "\n",
      "[*********************100%%**********************]  1 of 1 completed\n"
     ]
    },
    {
     "name": "stdout",
     "output_type": "stream",
     "text": [
      "MSCI\n",
      "MSFT\n"
     ]
    },
    {
     "name": "stderr",
     "output_type": "stream",
     "text": [
      "[*********************100%%**********************]  1 of 1 completed\n"
     ]
    },
    {
     "name": "stdout",
     "output_type": "stream",
     "text": [
      "MSI\n"
     ]
    },
    {
     "name": "stderr",
     "output_type": "stream",
     "text": [
      "[*********************100%%**********************]  1 of 1 completed\n",
      "[*********************100%%**********************]  1 of 1 completed"
     ]
    },
    {
     "name": "stdout",
     "output_type": "stream",
     "text": [
      "MTB\n"
     ]
    },
    {
     "name": "stderr",
     "output_type": "stream",
     "text": [
      "\n",
      "[*********************100%%**********************]  1 of 1 completed\n"
     ]
    },
    {
     "name": "stdout",
     "output_type": "stream",
     "text": [
      "MTCH\n",
      "MTD\n"
     ]
    },
    {
     "name": "stderr",
     "output_type": "stream",
     "text": [
      "[*********************100%%**********************]  1 of 1 completed\n"
     ]
    },
    {
     "name": "stdout",
     "output_type": "stream",
     "text": [
      "MU\n"
     ]
    },
    {
     "name": "stderr",
     "output_type": "stream",
     "text": [
      "[*********************100%%**********************]  1 of 1 completed\n",
      "[*********************100%%**********************]  1 of 1 completed\n"
     ]
    },
    {
     "name": "stdout",
     "output_type": "stream",
     "text": [
      "NCLH\n",
      "NDAQ\n"
     ]
    },
    {
     "name": "stderr",
     "output_type": "stream",
     "text": [
      "[*********************100%%**********************]  1 of 1 completed\n",
      "[*********************100%%**********************]  1 of 1 completed\n"
     ]
    },
    {
     "name": "stdout",
     "output_type": "stream",
     "text": [
      "NDSN\n",
      "NEE\n"
     ]
    },
    {
     "name": "stderr",
     "output_type": "stream",
     "text": [
      "[*********************100%%**********************]  1 of 1 completed\n",
      "[*********************100%%**********************]  1 of 1 completed"
     ]
    },
    {
     "name": "stdout",
     "output_type": "stream",
     "text": [
      "NEM\n"
     ]
    },
    {
     "name": "stderr",
     "output_type": "stream",
     "text": [
      "\n",
      "[*********************100%%**********************]  1 of 1 completed\n"
     ]
    },
    {
     "name": "stdout",
     "output_type": "stream",
     "text": [
      "NFLX\n",
      "NI\n"
     ]
    },
    {
     "name": "stderr",
     "output_type": "stream",
     "text": [
      "[*********************100%%**********************]  1 of 1 completed\n"
     ]
    },
    {
     "name": "stdout",
     "output_type": "stream",
     "text": [
      "NKE\n"
     ]
    },
    {
     "name": "stderr",
     "output_type": "stream",
     "text": [
      "[*********************100%%**********************]  1 of 1 completed\n"
     ]
    },
    {
     "name": "stdout",
     "output_type": "stream",
     "text": [
      "NOC\n"
     ]
    },
    {
     "name": "stderr",
     "output_type": "stream",
     "text": [
      "[*********************100%%**********************]  1 of 1 completed\n",
      "[*********************100%%**********************]  1 of 1 completed\n"
     ]
    },
    {
     "name": "stdout",
     "output_type": "stream",
     "text": [
      "NOW\n",
      "NRG\n"
     ]
    },
    {
     "name": "stderr",
     "output_type": "stream",
     "text": [
      "[*********************100%%**********************]  1 of 1 completed\n"
     ]
    },
    {
     "name": "stdout",
     "output_type": "stream",
     "text": [
      "NSC\n"
     ]
    },
    {
     "name": "stderr",
     "output_type": "stream",
     "text": [
      "[*********************100%%**********************]  1 of 1 completed\n",
      "[*********************100%%**********************]  1 of 1 completed"
     ]
    },
    {
     "name": "stdout",
     "output_type": "stream",
     "text": [
      "NTAP\n"
     ]
    },
    {
     "name": "stderr",
     "output_type": "stream",
     "text": [
      "\n",
      "[*********************100%%**********************]  1 of 1 completed\n"
     ]
    },
    {
     "name": "stdout",
     "output_type": "stream",
     "text": [
      "NTRS\n",
      "NUE\n"
     ]
    },
    {
     "name": "stderr",
     "output_type": "stream",
     "text": [
      "[*********************100%%**********************]  1 of 1 completed\n",
      "[*********************100%%**********************]  1 of 1 completed\n"
     ]
    },
    {
     "name": "stdout",
     "output_type": "stream",
     "text": [
      "NVDA\n",
      "NVR\n"
     ]
    },
    {
     "name": "stderr",
     "output_type": "stream",
     "text": [
      "[*********************100%%**********************]  1 of 1 completed\n",
      "[*********************100%%**********************]  1 of 1 completed\n"
     ]
    },
    {
     "name": "stdout",
     "output_type": "stream",
     "text": [
      "NWSA\n",
      "NXPI\n"
     ]
    },
    {
     "name": "stderr",
     "output_type": "stream",
     "text": [
      "[*********************100%%**********************]  1 of 1 completed\n"
     ]
    },
    {
     "name": "stdout",
     "output_type": "stream",
     "text": [
      "O\n"
     ]
    },
    {
     "name": "stderr",
     "output_type": "stream",
     "text": [
      "[*********************100%%**********************]  1 of 1 completed\n",
      "[*********************100%%**********************]  1 of 1 completed\n"
     ]
    },
    {
     "name": "stdout",
     "output_type": "stream",
     "text": [
      "ODFL\n",
      "OKE\n"
     ]
    },
    {
     "name": "stderr",
     "output_type": "stream",
     "text": [
      "[*********************100%%**********************]  1 of 1 completed\n",
      "[*********************100%%**********************]  1 of 1 completed"
     ]
    },
    {
     "name": "stdout",
     "output_type": "stream",
     "text": [
      "OMC\n"
     ]
    },
    {
     "name": "stderr",
     "output_type": "stream",
     "text": [
      "\n",
      "[*********************100%%**********************]  1 of 1 completed\n"
     ]
    },
    {
     "name": "stdout",
     "output_type": "stream",
     "text": [
      "ON\n",
      "ORCL\n"
     ]
    },
    {
     "name": "stderr",
     "output_type": "stream",
     "text": [
      "[*********************100%%**********************]  1 of 1 completed\n",
      "[*********************100%%**********************]  1 of 1 completed\n"
     ]
    },
    {
     "name": "stdout",
     "output_type": "stream",
     "text": [
      "ORLY\n",
      "OTIS\n"
     ]
    },
    {
     "name": "stderr",
     "output_type": "stream",
     "text": [
      "[*********************100%%**********************]  1 of 1 completed\n"
     ]
    },
    {
     "name": "stdout",
     "output_type": "stream",
     "text": [
      "OXY\n"
     ]
    },
    {
     "name": "stderr",
     "output_type": "stream",
     "text": [
      "[*********************100%%**********************]  1 of 1 completed\n",
      "[*********************100%%**********************]  1 of 1 completed\n"
     ]
    },
    {
     "name": "stdout",
     "output_type": "stream",
     "text": [
      "PANW\n",
      "PARA\n"
     ]
    },
    {
     "name": "stderr",
     "output_type": "stream",
     "text": [
      "[*********************100%%**********************]  1 of 1 completed\n",
      "[*********************100%%**********************]  1 of 1 completed\n"
     ]
    },
    {
     "name": "stdout",
     "output_type": "stream",
     "text": [
      "PAYC\n",
      "PAYX\n"
     ]
    },
    {
     "name": "stderr",
     "output_type": "stream",
     "text": [
      "[*********************100%%**********************]  1 of 1 completed\n"
     ]
    },
    {
     "name": "stdout",
     "output_type": "stream",
     "text": [
      "PCAR\n"
     ]
    },
    {
     "name": "stderr",
     "output_type": "stream",
     "text": [
      "[*********************100%%**********************]  1 of 1 completed\n"
     ]
    },
    {
     "name": "stdout",
     "output_type": "stream",
     "text": [
      "PCG\n"
     ]
    },
    {
     "name": "stderr",
     "output_type": "stream",
     "text": [
      "[*********************100%%**********************]  1 of 1 completed\n"
     ]
    },
    {
     "name": "stdout",
     "output_type": "stream",
     "text": [
      "PEG\n"
     ]
    },
    {
     "name": "stderr",
     "output_type": "stream",
     "text": [
      "[*********************100%%**********************]  1 of 1 completed\n"
     ]
    },
    {
     "name": "stdout",
     "output_type": "stream",
     "text": [
      "PEP\n"
     ]
    },
    {
     "name": "stderr",
     "output_type": "stream",
     "text": [
      "[*********************100%%**********************]  1 of 1 completed\n"
     ]
    },
    {
     "name": "stdout",
     "output_type": "stream",
     "text": [
      "PFE\n"
     ]
    },
    {
     "name": "stderr",
     "output_type": "stream",
     "text": [
      "[*********************100%%**********************]  1 of 1 completed\n",
      "[*********************100%%**********************]  1 of 1 completed"
     ]
    },
    {
     "name": "stdout",
     "output_type": "stream",
     "text": [
      "PFG\n"
     ]
    },
    {
     "name": "stderr",
     "output_type": "stream",
     "text": [
      "\n"
     ]
    },
    {
     "name": "stdout",
     "output_type": "stream",
     "text": [
      "PG\n"
     ]
    },
    {
     "name": "stderr",
     "output_type": "stream",
     "text": [
      "[*********************100%%**********************]  1 of 1 completed\n"
     ]
    },
    {
     "name": "stdout",
     "output_type": "stream",
     "text": [
      "PGR\n"
     ]
    },
    {
     "name": "stderr",
     "output_type": "stream",
     "text": [
      "[*********************100%%**********************]  1 of 1 completed\n",
      "[*********************100%%**********************]  1 of 1 completed"
     ]
    },
    {
     "name": "stdout",
     "output_type": "stream",
     "text": [
      "PH\n"
     ]
    },
    {
     "name": "stderr",
     "output_type": "stream",
     "text": [
      "\n"
     ]
    },
    {
     "name": "stdout",
     "output_type": "stream",
     "text": [
      "PHM\n"
     ]
    },
    {
     "name": "stderr",
     "output_type": "stream",
     "text": [
      "[*********************100%%**********************]  1 of 1 completed\n"
     ]
    },
    {
     "name": "stdout",
     "output_type": "stream",
     "text": [
      "PKG\n"
     ]
    },
    {
     "name": "stderr",
     "output_type": "stream",
     "text": [
      "[*********************100%%**********************]  1 of 1 completed\n",
      "[*********************100%%**********************]  1 of 1 completed\n"
     ]
    },
    {
     "name": "stdout",
     "output_type": "stream",
     "text": [
      "PLD\n",
      "PM\n"
     ]
    },
    {
     "name": "stderr",
     "output_type": "stream",
     "text": [
      "[*********************100%%**********************]  1 of 1 completed\n",
      "[*********************100%%**********************]  1 of 1 completed"
     ]
    },
    {
     "name": "stdout",
     "output_type": "stream",
     "text": [
      "PNC\n"
     ]
    },
    {
     "name": "stderr",
     "output_type": "stream",
     "text": [
      "\n"
     ]
    },
    {
     "name": "stdout",
     "output_type": "stream",
     "text": [
      "PNR\n"
     ]
    },
    {
     "name": "stderr",
     "output_type": "stream",
     "text": [
      "[*********************100%%**********************]  1 of 1 completed\n"
     ]
    },
    {
     "name": "stdout",
     "output_type": "stream",
     "text": [
      "PNW\n"
     ]
    },
    {
     "name": "stderr",
     "output_type": "stream",
     "text": [
      "[*********************100%%**********************]  1 of 1 completed\n",
      "[*********************100%%**********************]  1 of 1 completed\n"
     ]
    },
    {
     "name": "stdout",
     "output_type": "stream",
     "text": [
      "PODD\n",
      "POOL\n"
     ]
    },
    {
     "name": "stderr",
     "output_type": "stream",
     "text": [
      "[*********************100%%**********************]  1 of 1 completed\n"
     ]
    },
    {
     "name": "stdout",
     "output_type": "stream",
     "text": [
      "PPG\n"
     ]
    },
    {
     "name": "stderr",
     "output_type": "stream",
     "text": [
      "[*********************100%%**********************]  1 of 1 completed\n"
     ]
    },
    {
     "name": "stdout",
     "output_type": "stream",
     "text": [
      "PPL\n"
     ]
    },
    {
     "name": "stderr",
     "output_type": "stream",
     "text": [
      "[*********************100%%**********************]  1 of 1 completed\n",
      "[*********************100%%**********************]  1 of 1 completed\n"
     ]
    },
    {
     "name": "stdout",
     "output_type": "stream",
     "text": [
      "PRU\n",
      "PSA\n"
     ]
    },
    {
     "name": "stderr",
     "output_type": "stream",
     "text": [
      "[*********************100%%**********************]  1 of 1 completed\n",
      "[*********************100%%**********************]  1 of 1 completed\n"
     ]
    },
    {
     "name": "stdout",
     "output_type": "stream",
     "text": [
      "PSX\n",
      "PTC\n"
     ]
    },
    {
     "name": "stderr",
     "output_type": "stream",
     "text": [
      "[*********************100%%**********************]  1 of 1 completed\n",
      "[*********************100%%**********************]  1 of 1 completed\n"
     ]
    },
    {
     "name": "stdout",
     "output_type": "stream",
     "text": [
      "PWR\n",
      "PYPL\n"
     ]
    },
    {
     "name": "stderr",
     "output_type": "stream",
     "text": [
      "[*********************100%%**********************]  1 of 1 completed\n"
     ]
    },
    {
     "name": "stdout",
     "output_type": "stream",
     "text": [
      "QCOM\n"
     ]
    },
    {
     "name": "stderr",
     "output_type": "stream",
     "text": [
      "[*********************100%%**********************]  1 of 1 completed\n",
      "[*********************100%%**********************]  1 of 1 completed\n"
     ]
    },
    {
     "name": "stdout",
     "output_type": "stream",
     "text": [
      "QRVO\n",
      "RCL\n"
     ]
    },
    {
     "name": "stderr",
     "output_type": "stream",
     "text": [
      "[*********************100%%**********************]  1 of 1 completed\n"
     ]
    },
    {
     "name": "stdout",
     "output_type": "stream",
     "text": [
      "REG\n"
     ]
    },
    {
     "name": "stderr",
     "output_type": "stream",
     "text": [
      "[*********************100%%**********************]  1 of 1 completed\n",
      "[*********************100%%**********************]  1 of 1 completed\n"
     ]
    },
    {
     "name": "stdout",
     "output_type": "stream",
     "text": [
      "REGN\n",
      "RF\n"
     ]
    },
    {
     "name": "stderr",
     "output_type": "stream",
     "text": [
      "[*********************100%%**********************]  1 of 1 completed\n"
     ]
    },
    {
     "name": "stdout",
     "output_type": "stream",
     "text": [
      "RJF\n"
     ]
    },
    {
     "name": "stderr",
     "output_type": "stream",
     "text": [
      "[*********************100%%**********************]  1 of 1 completed\n"
     ]
    },
    {
     "name": "stdout",
     "output_type": "stream",
     "text": [
      "RL\n"
     ]
    },
    {
     "name": "stderr",
     "output_type": "stream",
     "text": [
      "[*********************100%%**********************]  1 of 1 completed\n",
      "[*********************100%%**********************]  1 of 1 completed\n"
     ]
    },
    {
     "name": "stdout",
     "output_type": "stream",
     "text": [
      "RMD\n",
      "ROK\n"
     ]
    },
    {
     "name": "stderr",
     "output_type": "stream",
     "text": [
      "[*********************100%%**********************]  1 of 1 completed\n",
      "[*********************100%%**********************]  1 of 1 completed"
     ]
    },
    {
     "name": "stdout",
     "output_type": "stream",
     "text": [
      "ROL\n"
     ]
    },
    {
     "name": "stderr",
     "output_type": "stream",
     "text": [
      "\n"
     ]
    },
    {
     "name": "stdout",
     "output_type": "stream",
     "text": [
      "ROP\n"
     ]
    },
    {
     "name": "stderr",
     "output_type": "stream",
     "text": [
      "[*********************100%%**********************]  1 of 1 completed\n"
     ]
    },
    {
     "name": "stdout",
     "output_type": "stream",
     "text": [
      "ROST\n"
     ]
    },
    {
     "name": "stderr",
     "output_type": "stream",
     "text": [
      "[*********************100%%**********************]  1 of 1 completed\n",
      "[*********************100%%**********************]  1 of 1 completed"
     ]
    },
    {
     "name": "stdout",
     "output_type": "stream",
     "text": [
      "RSG\n"
     ]
    },
    {
     "name": "stderr",
     "output_type": "stream",
     "text": [
      "\n"
     ]
    },
    {
     "name": "stdout",
     "output_type": "stream",
     "text": [
      "RTX\n"
     ]
    },
    {
     "name": "stderr",
     "output_type": "stream",
     "text": [
      "[*********************100%%**********************]  1 of 1 completed\n"
     ]
    },
    {
     "name": "stdout",
     "output_type": "stream",
     "text": [
      "RVTY\n"
     ]
    },
    {
     "name": "stderr",
     "output_type": "stream",
     "text": [
      "[*********************100%%**********************]  1 of 1 completed\n",
      "[*********************100%%**********************]  1 of 1 completed\n"
     ]
    },
    {
     "name": "stdout",
     "output_type": "stream",
     "text": [
      "SBAC\n",
      "SBUX\n"
     ]
    },
    {
     "name": "stderr",
     "output_type": "stream",
     "text": [
      "[*********************100%%**********************]  1 of 1 completed\n"
     ]
    },
    {
     "name": "stdout",
     "output_type": "stream",
     "text": [
      "SCHW\n"
     ]
    },
    {
     "name": "stderr",
     "output_type": "stream",
     "text": [
      "[*********************100%%**********************]  1 of 1 completed\n"
     ]
    },
    {
     "name": "stdout",
     "output_type": "stream",
     "text": [
      "SHW\n"
     ]
    },
    {
     "name": "stderr",
     "output_type": "stream",
     "text": [
      "[*********************100%%**********************]  1 of 1 completed\n"
     ]
    },
    {
     "name": "stdout",
     "output_type": "stream",
     "text": [
      "SJM\n"
     ]
    },
    {
     "name": "stderr",
     "output_type": "stream",
     "text": [
      "[*********************100%%**********************]  1 of 1 completed\n"
     ]
    },
    {
     "name": "stdout",
     "output_type": "stream",
     "text": [
      "SLB\n"
     ]
    },
    {
     "name": "stderr",
     "output_type": "stream",
     "text": [
      "[*********************100%%**********************]  1 of 1 completed\n",
      "[*********************100%%**********************]  1 of 1 completed\n"
     ]
    },
    {
     "name": "stdout",
     "output_type": "stream",
     "text": [
      "SMCI\n",
      "SNA\n"
     ]
    },
    {
     "name": "stderr",
     "output_type": "stream",
     "text": [
      "[*********************100%%**********************]  1 of 1 completed\n",
      "[*********************100%%**********************]  1 of 1 completed\n"
     ]
    },
    {
     "name": "stdout",
     "output_type": "stream",
     "text": [
      "SNPS\n",
      "SO\n"
     ]
    },
    {
     "name": "stderr",
     "output_type": "stream",
     "text": [
      "[*********************100%%**********************]  1 of 1 completed\n"
     ]
    },
    {
     "name": "stdout",
     "output_type": "stream",
     "text": [
      "SOLV\n"
     ]
    },
    {
     "name": "stderr",
     "output_type": "stream",
     "text": [
      "[*********************100%%**********************]  1 of 1 completed\n",
      "\n",
      "1 Failed download:\n",
      "['SOLV']: YFChartError(\"%ticker%: Data doesn't exist for startDate = 1420088400, endDate = 1704085200\")\n",
      "[*********************100%%**********************]  1 of 1 completed"
     ]
    },
    {
     "name": "stdout",
     "output_type": "stream",
     "text": [
      "Error occured in stock download: single positional indexer is out-of-bounds\n",
      "SPG\n"
     ]
    },
    {
     "name": "stderr",
     "output_type": "stream",
     "text": [
      "\n"
     ]
    },
    {
     "name": "stdout",
     "output_type": "stream",
     "text": [
      "SPGI\n"
     ]
    },
    {
     "name": "stderr",
     "output_type": "stream",
     "text": [
      "[*********************100%%**********************]  1 of 1 completed\n"
     ]
    },
    {
     "name": "stdout",
     "output_type": "stream",
     "text": [
      "SRE\n"
     ]
    },
    {
     "name": "stderr",
     "output_type": "stream",
     "text": [
      "[*********************100%%**********************]  1 of 1 completed\n",
      "[*********************100%%**********************]  1 of 1 completed\n"
     ]
    },
    {
     "name": "stdout",
     "output_type": "stream",
     "text": [
      "STE\n",
      "STLD\n"
     ]
    },
    {
     "name": "stderr",
     "output_type": "stream",
     "text": [
      "[*********************100%%**********************]  1 of 1 completed\n"
     ]
    },
    {
     "name": "stdout",
     "output_type": "stream",
     "text": [
      "STT\n"
     ]
    },
    {
     "name": "stderr",
     "output_type": "stream",
     "text": [
      "[*********************100%%**********************]  1 of 1 completed\n",
      "[*********************100%%**********************]  1 of 1 completed"
     ]
    },
    {
     "name": "stdout",
     "output_type": "stream",
     "text": [
      "STX\n"
     ]
    },
    {
     "name": "stderr",
     "output_type": "stream",
     "text": [
      "\n"
     ]
    },
    {
     "name": "stdout",
     "output_type": "stream",
     "text": [
      "STZ\n"
     ]
    },
    {
     "name": "stderr",
     "output_type": "stream",
     "text": [
      "[*********************100%%**********************]  1 of 1 completed\n"
     ]
    },
    {
     "name": "stdout",
     "output_type": "stream",
     "text": [
      "SW\n"
     ]
    },
    {
     "name": "stderr",
     "output_type": "stream",
     "text": [
      "[*********************100%%**********************]  1 of 1 completed\n",
      "\n",
      "1 Failed download:\n",
      "['SW']: YFChartError(\"%ticker%: Data doesn't exist for startDate = 1420088400, endDate = 1704085200\")\n"
     ]
    },
    {
     "name": "stdout",
     "output_type": "stream",
     "text": [
      "Error occured in stock download: single positional indexer is out-of-bounds\n",
      "SWK\n"
     ]
    },
    {
     "name": "stderr",
     "output_type": "stream",
     "text": [
      "[*********************100%%**********************]  1 of 1 completed\n",
      "[*********************100%%**********************]  1 of 1 completed\n"
     ]
    },
    {
     "name": "stdout",
     "output_type": "stream",
     "text": [
      "SWKS\n",
      "SYF\n"
     ]
    },
    {
     "name": "stderr",
     "output_type": "stream",
     "text": [
      "[*********************100%%**********************]  1 of 1 completed\n"
     ]
    },
    {
     "name": "stdout",
     "output_type": "stream",
     "text": [
      "SYK\n"
     ]
    },
    {
     "name": "stderr",
     "output_type": "stream",
     "text": [
      "[*********************100%%**********************]  1 of 1 completed\n",
      "[*********************100%%**********************]  1 of 1 completed"
     ]
    },
    {
     "name": "stdout",
     "output_type": "stream",
     "text": [
      "SYY\n"
     ]
    },
    {
     "name": "stderr",
     "output_type": "stream",
     "text": [
      "\n",
      "[*********************100%%**********************]  1 of 1 completed"
     ]
    },
    {
     "name": "stdout",
     "output_type": "stream",
     "text": [
      "T\n"
     ]
    },
    {
     "name": "stderr",
     "output_type": "stream",
     "text": [
      "\n"
     ]
    },
    {
     "name": "stdout",
     "output_type": "stream",
     "text": [
      "TAP\n"
     ]
    },
    {
     "name": "stderr",
     "output_type": "stream",
     "text": [
      "[*********************100%%**********************]  1 of 1 completed\n",
      "[*********************100%%**********************]  1 of 1 completed\n"
     ]
    },
    {
     "name": "stdout",
     "output_type": "stream",
     "text": [
      "TDG\n",
      "TDY\n"
     ]
    },
    {
     "name": "stderr",
     "output_type": "stream",
     "text": [
      "[*********************100%%**********************]  1 of 1 completed\n",
      "[*********************100%%**********************]  1 of 1 completed\n"
     ]
    },
    {
     "name": "stdout",
     "output_type": "stream",
     "text": [
      "TECH\n",
      "TEL\n"
     ]
    },
    {
     "name": "stderr",
     "output_type": "stream",
     "text": [
      "[*********************100%%**********************]  1 of 1 completed\n",
      "[*********************100%%**********************]  1 of 1 completed\n"
     ]
    },
    {
     "name": "stdout",
     "output_type": "stream",
     "text": [
      "TER\n",
      "TFC\n"
     ]
    },
    {
     "name": "stderr",
     "output_type": "stream",
     "text": [
      "[*********************100%%**********************]  1 of 1 completed\n"
     ]
    },
    {
     "name": "stdout",
     "output_type": "stream",
     "text": [
      "TFX\n"
     ]
    },
    {
     "name": "stderr",
     "output_type": "stream",
     "text": [
      "[*********************100%%**********************]  1 of 1 completed\n",
      "[*********************100%%**********************]  1 of 1 completed"
     ]
    },
    {
     "name": "stdout",
     "output_type": "stream",
     "text": [
      "TGT\n"
     ]
    },
    {
     "name": "stderr",
     "output_type": "stream",
     "text": [
      "\n"
     ]
    },
    {
     "name": "stdout",
     "output_type": "stream",
     "text": [
      "TJX\n"
     ]
    },
    {
     "name": "stderr",
     "output_type": "stream",
     "text": [
      "[*********************100%%**********************]  1 of 1 completed\n"
     ]
    },
    {
     "name": "stdout",
     "output_type": "stream",
     "text": [
      "TMO\n"
     ]
    },
    {
     "name": "stderr",
     "output_type": "stream",
     "text": [
      "[*********************100%%**********************]  1 of 1 completed\n",
      "[*********************100%%**********************]  1 of 1 completed\n"
     ]
    },
    {
     "name": "stdout",
     "output_type": "stream",
     "text": [
      "TMUS\n",
      "TPR\n"
     ]
    },
    {
     "name": "stderr",
     "output_type": "stream",
     "text": [
      "[*********************100%%**********************]  1 of 1 completed\n",
      "[*********************100%%**********************]  1 of 1 completed\n"
     ]
    },
    {
     "name": "stdout",
     "output_type": "stream",
     "text": [
      "TRGP\n",
      "TRMB\n"
     ]
    },
    {
     "name": "stderr",
     "output_type": "stream",
     "text": [
      "[*********************100%%**********************]  1 of 1 completed\n"
     ]
    },
    {
     "name": "stdout",
     "output_type": "stream",
     "text": [
      "TROW\n"
     ]
    },
    {
     "name": "stderr",
     "output_type": "stream",
     "text": [
      "[*********************100%%**********************]  1 of 1 completed\n"
     ]
    },
    {
     "name": "stdout",
     "output_type": "stream",
     "text": [
      "TRV\n"
     ]
    },
    {
     "name": "stderr",
     "output_type": "stream",
     "text": [
      "[*********************100%%**********************]  1 of 1 completed\n",
      "[*********************100%%**********************]  1 of 1 completed"
     ]
    },
    {
     "name": "stdout",
     "output_type": "stream",
     "text": [
      "TSCO\n"
     ]
    },
    {
     "name": "stderr",
     "output_type": "stream",
     "text": [
      "\n",
      "[*********************100%%**********************]  1 of 1 completed\n"
     ]
    },
    {
     "name": "stdout",
     "output_type": "stream",
     "text": [
      "TSLA\n",
      "TSN\n"
     ]
    },
    {
     "name": "stderr",
     "output_type": "stream",
     "text": [
      "[*********************100%%**********************]  1 of 1 completed\n"
     ]
    },
    {
     "name": "stdout",
     "output_type": "stream",
     "text": [
      "TT\n"
     ]
    },
    {
     "name": "stderr",
     "output_type": "stream",
     "text": [
      "[*********************100%%**********************]  1 of 1 completed\n",
      "[*********************100%%**********************]  1 of 1 completed\n"
     ]
    },
    {
     "name": "stdout",
     "output_type": "stream",
     "text": [
      "TTWO\n",
      "TXN\n"
     ]
    },
    {
     "name": "stderr",
     "output_type": "stream",
     "text": [
      "[*********************100%%**********************]  1 of 1 completed\n"
     ]
    },
    {
     "name": "stdout",
     "output_type": "stream",
     "text": [
      "TXT\n"
     ]
    },
    {
     "name": "stderr",
     "output_type": "stream",
     "text": [
      "[*********************100%%**********************]  1 of 1 completed\n",
      "[*********************100%%**********************]  1 of 1 completed\n"
     ]
    },
    {
     "name": "stdout",
     "output_type": "stream",
     "text": [
      "TYL\n",
      "UAL\n"
     ]
    },
    {
     "name": "stderr",
     "output_type": "stream",
     "text": [
      "[*********************100%%**********************]  1 of 1 completed\n",
      "[*********************100%%**********************]  1 of 1 completed\n"
     ]
    },
    {
     "name": "stdout",
     "output_type": "stream",
     "text": [
      "UBER\n",
      "UDR\n"
     ]
    },
    {
     "name": "stderr",
     "output_type": "stream",
     "text": [
      "[*********************100%%**********************]  1 of 1 completed\n"
     ]
    },
    {
     "name": "stdout",
     "output_type": "stream",
     "text": [
      "UHS\n"
     ]
    },
    {
     "name": "stderr",
     "output_type": "stream",
     "text": [
      "[*********************100%%**********************]  1 of 1 completed\n",
      "[*********************100%%**********************]  1 of 1 completed\n"
     ]
    },
    {
     "name": "stdout",
     "output_type": "stream",
     "text": [
      "ULTA\n",
      "UNH\n"
     ]
    },
    {
     "name": "stderr",
     "output_type": "stream",
     "text": [
      "[*********************100%%**********************]  1 of 1 completed\n"
     ]
    },
    {
     "name": "stdout",
     "output_type": "stream",
     "text": [
      "UNP\n"
     ]
    },
    {
     "name": "stderr",
     "output_type": "stream",
     "text": [
      "[*********************100%%**********************]  1 of 1 completed\n",
      "[*********************100%%**********************]  1 of 1 completed"
     ]
    },
    {
     "name": "stdout",
     "output_type": "stream",
     "text": [
      "UPS\n",
      "URI\n"
     ]
    },
    {
     "name": "stderr",
     "output_type": "stream",
     "text": [
      "\n",
      "[*********************100%%**********************]  1 of 1 completed\n"
     ]
    },
    {
     "name": "stdout",
     "output_type": "stream",
     "text": [
      "USB\n"
     ]
    },
    {
     "name": "stderr",
     "output_type": "stream",
     "text": [
      "[*********************100%%**********************]  1 of 1 completed\n",
      "[*********************100%%**********************]  1 of 1 completed"
     ]
    },
    {
     "name": "stdout",
     "output_type": "stream",
     "text": [
      "V\n"
     ]
    },
    {
     "name": "stderr",
     "output_type": "stream",
     "text": [
      "\n",
      "[*********************100%%**********************]  1 of 1 completed\n"
     ]
    },
    {
     "name": "stdout",
     "output_type": "stream",
     "text": [
      "VICI\n",
      "VLO\n"
     ]
    },
    {
     "name": "stderr",
     "output_type": "stream",
     "text": [
      "[*********************100%%**********************]  1 of 1 completed\n",
      "[*********************100%%**********************]  1 of 1 completed\n"
     ]
    },
    {
     "name": "stdout",
     "output_type": "stream",
     "text": [
      "VLTO\n",
      "VMC\n"
     ]
    },
    {
     "name": "stderr",
     "output_type": "stream",
     "text": [
      "[*********************100%%**********************]  1 of 1 completed\n",
      "[*********************100%%**********************]  1 of 1 completed\n"
     ]
    },
    {
     "name": "stdout",
     "output_type": "stream",
     "text": [
      "VRSK\n",
      "VRSN\n"
     ]
    },
    {
     "name": "stderr",
     "output_type": "stream",
     "text": [
      "[*********************100%%**********************]  1 of 1 completed\n",
      "[*********************100%%**********************]  1 of 1 completed\n"
     ]
    },
    {
     "name": "stdout",
     "output_type": "stream",
     "text": [
      "VRTX\n",
      "VST\n"
     ]
    },
    {
     "name": "stderr",
     "output_type": "stream",
     "text": [
      "[*********************100%%**********************]  1 of 1 completed\n"
     ]
    },
    {
     "name": "stdout",
     "output_type": "stream",
     "text": [
      "VTR\n"
     ]
    },
    {
     "name": "stderr",
     "output_type": "stream",
     "text": [
      "[*********************100%%**********************]  1 of 1 completed\n",
      "[*********************100%%**********************]  1 of 1 completed"
     ]
    },
    {
     "name": "stdout",
     "output_type": "stream",
     "text": [
      "VTRS\n"
     ]
    },
    {
     "name": "stderr",
     "output_type": "stream",
     "text": [
      "\n"
     ]
    },
    {
     "name": "stdout",
     "output_type": "stream",
     "text": [
      "VZ\n"
     ]
    },
    {
     "name": "stderr",
     "output_type": "stream",
     "text": [
      "[*********************100%%**********************]  1 of 1 completed\n",
      "[*********************100%%**********************]  1 of 1 completed"
     ]
    },
    {
     "name": "stdout",
     "output_type": "stream",
     "text": [
      "WAB\n"
     ]
    },
    {
     "name": "stderr",
     "output_type": "stream",
     "text": [
      "\n",
      "[*********************100%%**********************]  1 of 1 completed\n"
     ]
    },
    {
     "name": "stdout",
     "output_type": "stream",
     "text": [
      "WAT\n",
      "WBA\n"
     ]
    },
    {
     "name": "stderr",
     "output_type": "stream",
     "text": [
      "[*********************100%%**********************]  1 of 1 completed\n",
      "[*********************100%%**********************]  1 of 1 completed\n"
     ]
    },
    {
     "name": "stdout",
     "output_type": "stream",
     "text": [
      "WBD\n",
      "WDC\n"
     ]
    },
    {
     "name": "stderr",
     "output_type": "stream",
     "text": [
      "[*********************100%%**********************]  1 of 1 completed\n",
      "[*********************100%%**********************]  1 of 1 completed"
     ]
    },
    {
     "name": "stdout",
     "output_type": "stream",
     "text": [
      "WEC\n"
     ]
    },
    {
     "name": "stderr",
     "output_type": "stream",
     "text": [
      "\n"
     ]
    },
    {
     "name": "stdout",
     "output_type": "stream",
     "text": [
      "WELL\n"
     ]
    },
    {
     "name": "stderr",
     "output_type": "stream",
     "text": [
      "[*********************100%%**********************]  1 of 1 completed\n",
      "[*********************100%%**********************]  1 of 1 completed"
     ]
    },
    {
     "name": "stdout",
     "output_type": "stream",
     "text": [
      "WFC\n"
     ]
    },
    {
     "name": "stderr",
     "output_type": "stream",
     "text": [
      "\n",
      "[*********************100%%**********************]  1 of 1 completed"
     ]
    },
    {
     "name": "stdout",
     "output_type": "stream",
     "text": [
      "WM\n"
     ]
    },
    {
     "name": "stderr",
     "output_type": "stream",
     "text": [
      "\n"
     ]
    },
    {
     "name": "stdout",
     "output_type": "stream",
     "text": [
      "WMB\n"
     ]
    },
    {
     "name": "stderr",
     "output_type": "stream",
     "text": [
      "[*********************100%%**********************]  1 of 1 completed\n"
     ]
    },
    {
     "name": "stdout",
     "output_type": "stream",
     "text": [
      "WMT\n"
     ]
    },
    {
     "name": "stderr",
     "output_type": "stream",
     "text": [
      "[*********************100%%**********************]  1 of 1 completed\n"
     ]
    },
    {
     "name": "stdout",
     "output_type": "stream",
     "text": [
      "WRB\n"
     ]
    },
    {
     "name": "stderr",
     "output_type": "stream",
     "text": [
      "[*********************100%%**********************]  1 of 1 completed\n",
      "[*********************100%%**********************]  1 of 1 completed"
     ]
    },
    {
     "name": "stdout",
     "output_type": "stream",
     "text": [
      "WST\n"
     ]
    },
    {
     "name": "stderr",
     "output_type": "stream",
     "text": [
      "\n",
      "[*********************100%%**********************]  1 of 1 completed\n"
     ]
    },
    {
     "name": "stdout",
     "output_type": "stream",
     "text": [
      "WTW\n",
      "WY\n"
     ]
    },
    {
     "name": "stderr",
     "output_type": "stream",
     "text": [
      "[*********************100%%**********************]  1 of 1 completed\n",
      "[*********************100%%**********************]  1 of 1 completed"
     ]
    },
    {
     "name": "stdout",
     "output_type": "stream",
     "text": [
      "WYNN\n"
     ]
    },
    {
     "name": "stderr",
     "output_type": "stream",
     "text": [
      "\n"
     ]
    },
    {
     "name": "stdout",
     "output_type": "stream",
     "text": [
      "XEL\n"
     ]
    },
    {
     "name": "stderr",
     "output_type": "stream",
     "text": [
      "[*********************100%%**********************]  1 of 1 completed\n"
     ]
    },
    {
     "name": "stdout",
     "output_type": "stream",
     "text": [
      "XOM\n"
     ]
    },
    {
     "name": "stderr",
     "output_type": "stream",
     "text": [
      "[*********************100%%**********************]  1 of 1 completed\n"
     ]
    },
    {
     "name": "stdout",
     "output_type": "stream",
     "text": [
      "XYL\n"
     ]
    },
    {
     "name": "stderr",
     "output_type": "stream",
     "text": [
      "[*********************100%%**********************]  1 of 1 completed\n"
     ]
    },
    {
     "name": "stdout",
     "output_type": "stream",
     "text": [
      "YUM\n"
     ]
    },
    {
     "name": "stderr",
     "output_type": "stream",
     "text": [
      "[*********************100%%**********************]  1 of 1 completed\n",
      "[*********************100%%**********************]  1 of 1 completed\n"
     ]
    },
    {
     "name": "stdout",
     "output_type": "stream",
     "text": [
      "ZBH\n",
      "ZBRA\n"
     ]
    },
    {
     "name": "stderr",
     "output_type": "stream",
     "text": [
      "[*********************100%%**********************]  1 of 1 completed\n",
      "[*********************100%%**********************]  1 of 1 completed\n"
     ]
    },
    {
     "name": "stdout",
     "output_type": "stream",
     "text": [
      "ZTS\n"
     ]
    }
   ],
   "source": [
    "# Extract full dataset for all tickers on daily interval for date range 2015 - 2024\n",
    "bad_tickers = []\n",
    "mean_stocks_df = pd.DataFrame()\n",
    "\n",
    "for index,row in company_df.iterrows():\n",
    "    try:\n",
    "        ticker = row[\"Ticker\"]\n",
    "        print(f'Download complete for ticker {ticker}')\n",
    "        stock_data = yf.download(ticker, start=\"2015-01-01\", end=\"2024-01-01\", interval=\"1d\")\n",
    "        stock_df = pd.DataFrame(stock_data).reset_index()\n",
    "        stock_df['Ticker'] = ticker\n",
    "        stock_df['Year'] =  stock_df[\"Date\"].iloc[0].year\n",
    "        mean_stocks_df = pd.concat([mean_stocks_df, stock_df], ignore_index=True)\n",
    "        \n",
    "    except Exception as e:\n",
    "        print(f'Error occured in stock download: {e}')\n",
    "        bad_tickers.append(ticker)"
   ]
  },
  {
   "cell_type": "code",
   "execution_count": 100,
   "id": "1b948abf",
   "metadata": {},
   "outputs": [
    {
     "data": {
      "text/plain": [
       "['BF.B', 'BRK.B', 'GEV', 'SOLV', 'SW']"
      ]
     },
     "execution_count": 100,
     "metadata": {},
     "output_type": "execute_result"
    }
   ],
   "source": [
    "# Print bad tickers\n",
    "bad_tickers"
   ]
  },
  {
   "cell_type": "code",
   "execution_count": 101,
   "id": "ed93e6da",
   "metadata": {},
   "outputs": [
    {
     "name": "stdout",
     "output_type": "stream",
     "text": [
      "<class 'pandas.core.frame.DataFrame'>\n",
      "RangeIndex: 1097023 entries, 0 to 1097022\n",
      "Data columns (total 9 columns):\n",
      " #   Column     Non-Null Count    Dtype         \n",
      "---  ------     --------------    -----         \n",
      " 0   Date       1097023 non-null  datetime64[ns]\n",
      " 1   Open       1097023 non-null  float64       \n",
      " 2   High       1097023 non-null  float64       \n",
      " 3   Low        1097023 non-null  float64       \n",
      " 4   Close      1097023 non-null  float64       \n",
      " 5   Adj Close  1097023 non-null  float64       \n",
      " 6   Volume     1097023 non-null  int64         \n",
      " 7   Ticker     1097023 non-null  object        \n",
      " 8   Year       1097023 non-null  int64         \n",
      "dtypes: datetime64[ns](1), float64(5), int64(2), object(1)\n",
      "memory usage: 75.3+ MB\n"
     ]
    }
   ],
   "source": [
    "# View dataset\n",
    "mean_stocks_df.info()"
   ]
  },
  {
   "cell_type": "markdown",
   "id": "58afa6f4",
   "metadata": {},
   "source": [
    "## Calculate metrics"
   ]
  },
  {
   "cell_type": "code",
   "execution_count": 162,
   "id": "85e74234",
   "metadata": {},
   "outputs": [],
   "source": [
    "# Calculate mean values on annual data, including annual return and variance\n",
    "mean_stocks_df['Year'] = mean_stocks_df['Date'].dt.year\n",
    "grouped_df = mean_stocks_df.groupby(['Ticker', 'Year'])\n",
    "mean_values = grouped_df[['Open', 'High', 'Low', 'Close', 'Volume']].mean().rename(\n",
    "    columns={'Open': 'MeanOpen', 'High': 'MeanHigh', 'Low': 'MeanLow', 'Close': 'MeanClose', 'Volume': 'MeanVolume'}\n",
    ")\n",
    "\n",
    "annual_return = grouped_df['Close'].apply(lambda x: (x.iloc[-1] - x.iloc[0]) / x.iloc[0])\n",
    "annual_variance = grouped_df['Close'].var()\n",
    "\n",
    "# Create fianl mean_stats dataframe\n",
    "mean_stats_df = mean_values.copy()\n",
    "mean_stats_df['AnnualReturn'] = annual_return\n",
    "mean_stats_df['AnnualVariance'] = annual_variance"
   ]
  },
  {
   "cell_type": "code",
   "execution_count": 163,
   "id": "cea5a1b1",
   "metadata": {},
   "outputs": [
    {
     "data": {
      "text/html": [
       "<div>\n",
       "<style scoped>\n",
       "    .dataframe tbody tr th:only-of-type {\n",
       "        vertical-align: middle;\n",
       "    }\n",
       "\n",
       "    .dataframe tbody tr th {\n",
       "        vertical-align: top;\n",
       "    }\n",
       "\n",
       "    .dataframe thead th {\n",
       "        text-align: right;\n",
       "    }\n",
       "</style>\n",
       "<table border=\"1\" class=\"dataframe\">\n",
       "  <thead>\n",
       "    <tr style=\"text-align: right;\">\n",
       "      <th></th>\n",
       "      <th></th>\n",
       "      <th>MeanOpen</th>\n",
       "      <th>MeanHigh</th>\n",
       "      <th>MeanLow</th>\n",
       "      <th>MeanClose</th>\n",
       "      <th>MeanVolume</th>\n",
       "      <th>AnnualReturn</th>\n",
       "      <th>AnnualVariance</th>\n",
       "    </tr>\n",
       "    <tr>\n",
       "      <th>Ticker</th>\n",
       "      <th>Year</th>\n",
       "      <th></th>\n",
       "      <th></th>\n",
       "      <th></th>\n",
       "      <th></th>\n",
       "      <th></th>\n",
       "      <th></th>\n",
       "      <th></th>\n",
       "    </tr>\n",
       "  </thead>\n",
       "  <tbody>\n",
       "    <tr>\n",
       "      <th rowspan=\"5\" valign=\"top\">A</th>\n",
       "      <th>2015</th>\n",
       "      <td>39.590516</td>\n",
       "      <td>39.941389</td>\n",
       "      <td>39.234643</td>\n",
       "      <td>39.602143</td>\n",
       "      <td>2.560682e+06</td>\n",
       "      <td>0.030819</td>\n",
       "      <td>5.736657</td>\n",
       "    </tr>\n",
       "    <tr>\n",
       "      <th>2016</th>\n",
       "      <td>43.338492</td>\n",
       "      <td>43.731587</td>\n",
       "      <td>42.970437</td>\n",
       "      <td>43.369960</td>\n",
       "      <td>2.083069e+06</td>\n",
       "      <td>0.119685</td>\n",
       "      <td>12.947075</td>\n",
       "    </tr>\n",
       "    <tr>\n",
       "      <th>2017</th>\n",
       "      <td>59.322271</td>\n",
       "      <td>59.725896</td>\n",
       "      <td>58.913386</td>\n",
       "      <td>59.329681</td>\n",
       "      <td>1.850937e+06</td>\n",
       "      <td>0.440525</td>\n",
       "      <td>44.445197</td>\n",
       "    </tr>\n",
       "    <tr>\n",
       "      <th>2018</th>\n",
       "      <td>67.223705</td>\n",
       "      <td>67.864462</td>\n",
       "      <td>66.522908</td>\n",
       "      <td>67.169363</td>\n",
       "      <td>2.592049e+06</td>\n",
       "      <td>-0.002071</td>\n",
       "      <td>9.873542</td>\n",
       "    </tr>\n",
       "    <tr>\n",
       "      <th>2019</th>\n",
       "      <td>75.170714</td>\n",
       "      <td>75.822103</td>\n",
       "      <td>74.499524</td>\n",
       "      <td>75.211825</td>\n",
       "      <td>2.157036e+06</td>\n",
       "      <td>0.298676</td>\n",
       "      <td>24.061491</td>\n",
       "    </tr>\n",
       "    <tr>\n",
       "      <th>...</th>\n",
       "      <th>...</th>\n",
       "      <td>...</td>\n",
       "      <td>...</td>\n",
       "      <td>...</td>\n",
       "      <td>...</td>\n",
       "      <td>...</td>\n",
       "      <td>...</td>\n",
       "      <td>...</td>\n",
       "    </tr>\n",
       "    <tr>\n",
       "      <th rowspan=\"5\" valign=\"top\">ZTS</th>\n",
       "      <th>2019</th>\n",
       "      <td>110.319841</td>\n",
       "      <td>111.279087</td>\n",
       "      <td>109.404920</td>\n",
       "      <td>110.373135</td>\n",
       "      <td>2.109394e+06</td>\n",
       "      <td>0.566643</td>\n",
       "      <td>202.899714</td>\n",
       "    </tr>\n",
       "    <tr>\n",
       "      <th>2020</th>\n",
       "      <td>144.740039</td>\n",
       "      <td>146.621818</td>\n",
       "      <td>142.957194</td>\n",
       "      <td>144.786205</td>\n",
       "      <td>2.024208e+06</td>\n",
       "      <td>0.233786</td>\n",
       "      <td>266.081913</td>\n",
       "    </tr>\n",
       "    <tr>\n",
       "      <th>2021</th>\n",
       "      <td>188.483095</td>\n",
       "      <td>190.247302</td>\n",
       "      <td>186.854960</td>\n",
       "      <td>188.649088</td>\n",
       "      <td>1.701269e+06</td>\n",
       "      <td>0.491717</td>\n",
       "      <td>640.111215</td>\n",
       "    </tr>\n",
       "    <tr>\n",
       "      <th>2022</th>\n",
       "      <td>171.595896</td>\n",
       "      <td>173.568407</td>\n",
       "      <td>169.238367</td>\n",
       "      <td>171.307928</td>\n",
       "      <td>2.188180e+06</td>\n",
       "      <td>-0.373798</td>\n",
       "      <td>402.527451</td>\n",
       "    </tr>\n",
       "    <tr>\n",
       "      <th>2023</th>\n",
       "      <td>173.734520</td>\n",
       "      <td>175.557600</td>\n",
       "      <td>171.952160</td>\n",
       "      <td>173.887840</td>\n",
       "      <td>1.941660e+06</td>\n",
       "      <td>0.344024</td>\n",
       "      <td>112.892183</td>\n",
       "    </tr>\n",
       "  </tbody>\n",
       "</table>\n",
       "<p>4373 rows × 7 columns</p>\n",
       "</div>"
      ],
      "text/plain": [
       "               MeanOpen    MeanHigh     MeanLow   MeanClose    MeanVolume  \\\n",
       "Ticker Year                                                                 \n",
       "A      2015   39.590516   39.941389   39.234643   39.602143  2.560682e+06   \n",
       "       2016   43.338492   43.731587   42.970437   43.369960  2.083069e+06   \n",
       "       2017   59.322271   59.725896   58.913386   59.329681  1.850937e+06   \n",
       "       2018   67.223705   67.864462   66.522908   67.169363  2.592049e+06   \n",
       "       2019   75.170714   75.822103   74.499524   75.211825  2.157036e+06   \n",
       "...                 ...         ...         ...         ...           ...   \n",
       "ZTS    2019  110.319841  111.279087  109.404920  110.373135  2.109394e+06   \n",
       "       2020  144.740039  146.621818  142.957194  144.786205  2.024208e+06   \n",
       "       2021  188.483095  190.247302  186.854960  188.649088  1.701269e+06   \n",
       "       2022  171.595896  173.568407  169.238367  171.307928  2.188180e+06   \n",
       "       2023  173.734520  175.557600  171.952160  173.887840  1.941660e+06   \n",
       "\n",
       "             AnnualReturn  AnnualVariance  \n",
       "Ticker Year                                \n",
       "A      2015      0.030819        5.736657  \n",
       "       2016      0.119685       12.947075  \n",
       "       2017      0.440525       44.445197  \n",
       "       2018     -0.002071        9.873542  \n",
       "       2019      0.298676       24.061491  \n",
       "...                   ...             ...  \n",
       "ZTS    2019      0.566643      202.899714  \n",
       "       2020      0.233786      266.081913  \n",
       "       2021      0.491717      640.111215  \n",
       "       2022     -0.373798      402.527451  \n",
       "       2023      0.344024      112.892183  \n",
       "\n",
       "[4373 rows x 7 columns]"
      ]
     },
     "execution_count": 163,
     "metadata": {},
     "output_type": "execute_result"
    }
   ],
   "source": [
    "# Display results\n",
    "mean_stats_df"
   ]
  },
  {
   "cell_type": "code",
   "execution_count": 182,
   "id": "7677f40e",
   "metadata": {},
   "outputs": [
    {
     "data": {
      "text/html": [
       "<div>\n",
       "<style scoped>\n",
       "    .dataframe tbody tr th:only-of-type {\n",
       "        vertical-align: middle;\n",
       "    }\n",
       "\n",
       "    .dataframe tbody tr th {\n",
       "        vertical-align: top;\n",
       "    }\n",
       "\n",
       "    .dataframe thead th {\n",
       "        text-align: right;\n",
       "    }\n",
       "</style>\n",
       "<table border=\"1\" class=\"dataframe\">\n",
       "  <thead>\n",
       "    <tr style=\"text-align: right;\">\n",
       "      <th></th>\n",
       "      <th>Year</th>\n",
       "      <th>MeanOpen</th>\n",
       "      <th>MeanHigh</th>\n",
       "      <th>MeanLow</th>\n",
       "      <th>MeanClose</th>\n",
       "      <th>MeanVolume</th>\n",
       "      <th>AnnualReturn</th>\n",
       "      <th>AnnualVariance</th>\n",
       "    </tr>\n",
       "    <tr>\n",
       "      <th>Ticker</th>\n",
       "      <th></th>\n",
       "      <th></th>\n",
       "      <th></th>\n",
       "      <th></th>\n",
       "      <th></th>\n",
       "      <th></th>\n",
       "      <th></th>\n",
       "      <th></th>\n",
       "    </tr>\n",
       "  </thead>\n",
       "  <tbody>\n",
       "    <tr>\n",
       "      <th>A</th>\n",
       "      <td>2015</td>\n",
       "      <td>39.590516</td>\n",
       "      <td>39.941389</td>\n",
       "      <td>39.234643</td>\n",
       "      <td>39.602143</td>\n",
       "      <td>2.560682e+06</td>\n",
       "      <td>0.030819</td>\n",
       "      <td>5.736657</td>\n",
       "    </tr>\n",
       "    <tr>\n",
       "      <th>A</th>\n",
       "      <td>2016</td>\n",
       "      <td>43.338492</td>\n",
       "      <td>43.731587</td>\n",
       "      <td>42.970437</td>\n",
       "      <td>43.369960</td>\n",
       "      <td>2.083069e+06</td>\n",
       "      <td>0.119685</td>\n",
       "      <td>12.947075</td>\n",
       "    </tr>\n",
       "    <tr>\n",
       "      <th>A</th>\n",
       "      <td>2017</td>\n",
       "      <td>59.322271</td>\n",
       "      <td>59.725896</td>\n",
       "      <td>58.913386</td>\n",
       "      <td>59.329681</td>\n",
       "      <td>1.850937e+06</td>\n",
       "      <td>0.440525</td>\n",
       "      <td>44.445197</td>\n",
       "    </tr>\n",
       "    <tr>\n",
       "      <th>A</th>\n",
       "      <td>2018</td>\n",
       "      <td>67.223705</td>\n",
       "      <td>67.864462</td>\n",
       "      <td>66.522908</td>\n",
       "      <td>67.169363</td>\n",
       "      <td>2.592049e+06</td>\n",
       "      <td>-0.002071</td>\n",
       "      <td>9.873542</td>\n",
       "    </tr>\n",
       "    <tr>\n",
       "      <th>A</th>\n",
       "      <td>2019</td>\n",
       "      <td>75.170714</td>\n",
       "      <td>75.822103</td>\n",
       "      <td>74.499524</td>\n",
       "      <td>75.211825</td>\n",
       "      <td>2.157036e+06</td>\n",
       "      <td>0.298676</td>\n",
       "      <td>24.061491</td>\n",
       "    </tr>\n",
       "    <tr>\n",
       "      <th>...</th>\n",
       "      <td>...</td>\n",
       "      <td>...</td>\n",
       "      <td>...</td>\n",
       "      <td>...</td>\n",
       "      <td>...</td>\n",
       "      <td>...</td>\n",
       "      <td>...</td>\n",
       "      <td>...</td>\n",
       "    </tr>\n",
       "    <tr>\n",
       "      <th>ZTS</th>\n",
       "      <td>2019</td>\n",
       "      <td>110.319841</td>\n",
       "      <td>111.279087</td>\n",
       "      <td>109.404920</td>\n",
       "      <td>110.373135</td>\n",
       "      <td>2.109394e+06</td>\n",
       "      <td>0.566643</td>\n",
       "      <td>202.899714</td>\n",
       "    </tr>\n",
       "    <tr>\n",
       "      <th>ZTS</th>\n",
       "      <td>2020</td>\n",
       "      <td>144.740039</td>\n",
       "      <td>146.621818</td>\n",
       "      <td>142.957194</td>\n",
       "      <td>144.786205</td>\n",
       "      <td>2.024208e+06</td>\n",
       "      <td>0.233786</td>\n",
       "      <td>266.081913</td>\n",
       "    </tr>\n",
       "    <tr>\n",
       "      <th>ZTS</th>\n",
       "      <td>2021</td>\n",
       "      <td>188.483095</td>\n",
       "      <td>190.247302</td>\n",
       "      <td>186.854960</td>\n",
       "      <td>188.649088</td>\n",
       "      <td>1.701269e+06</td>\n",
       "      <td>0.491717</td>\n",
       "      <td>640.111215</td>\n",
       "    </tr>\n",
       "    <tr>\n",
       "      <th>ZTS</th>\n",
       "      <td>2022</td>\n",
       "      <td>171.595896</td>\n",
       "      <td>173.568407</td>\n",
       "      <td>169.238367</td>\n",
       "      <td>171.307928</td>\n",
       "      <td>2.188180e+06</td>\n",
       "      <td>-0.373798</td>\n",
       "      <td>402.527451</td>\n",
       "    </tr>\n",
       "    <tr>\n",
       "      <th>ZTS</th>\n",
       "      <td>2023</td>\n",
       "      <td>173.734520</td>\n",
       "      <td>175.557600</td>\n",
       "      <td>171.952160</td>\n",
       "      <td>173.887840</td>\n",
       "      <td>1.941660e+06</td>\n",
       "      <td>0.344024</td>\n",
       "      <td>112.892183</td>\n",
       "    </tr>\n",
       "  </tbody>\n",
       "</table>\n",
       "<p>4373 rows × 8 columns</p>\n",
       "</div>"
      ],
      "text/plain": [
       "        Year    MeanOpen    MeanHigh     MeanLow   MeanClose    MeanVolume  \\\n",
       "Ticker                                                                       \n",
       "A       2015   39.590516   39.941389   39.234643   39.602143  2.560682e+06   \n",
       "A       2016   43.338492   43.731587   42.970437   43.369960  2.083069e+06   \n",
       "A       2017   59.322271   59.725896   58.913386   59.329681  1.850937e+06   \n",
       "A       2018   67.223705   67.864462   66.522908   67.169363  2.592049e+06   \n",
       "A       2019   75.170714   75.822103   74.499524   75.211825  2.157036e+06   \n",
       "...      ...         ...         ...         ...         ...           ...   \n",
       "ZTS     2019  110.319841  111.279087  109.404920  110.373135  2.109394e+06   \n",
       "ZTS     2020  144.740039  146.621818  142.957194  144.786205  2.024208e+06   \n",
       "ZTS     2021  188.483095  190.247302  186.854960  188.649088  1.701269e+06   \n",
       "ZTS     2022  171.595896  173.568407  169.238367  171.307928  2.188180e+06   \n",
       "ZTS     2023  173.734520  175.557600  171.952160  173.887840  1.941660e+06   \n",
       "\n",
       "        AnnualReturn  AnnualVariance  \n",
       "Ticker                                \n",
       "A           0.030819        5.736657  \n",
       "A           0.119685       12.947075  \n",
       "A           0.440525       44.445197  \n",
       "A          -0.002071        9.873542  \n",
       "A           0.298676       24.061491  \n",
       "...              ...             ...  \n",
       "ZTS         0.566643      202.899714  \n",
       "ZTS         0.233786      266.081913  \n",
       "ZTS         0.491717      640.111215  \n",
       "ZTS        -0.373798      402.527451  \n",
       "ZTS         0.344024      112.892183  \n",
       "\n",
       "[4373 rows x 8 columns]"
      ]
     },
     "execution_count": 182,
     "metadata": {},
     "output_type": "execute_result"
    }
   ],
   "source": [
    "# Reset index\n",
    "mean_stats_df = mean_stats_df.reset_index().set_index('Ticker')\n",
    "mean_stats_df"
   ]
  },
  {
   "cell_type": "markdown",
   "id": "2940b294",
   "metadata": {},
   "source": [
    "## Unsupervised learning: K-Means"
   ]
  },
  {
   "cell_type": "markdown",
   "id": "ff980ba4",
   "metadata": {},
   "source": [
    "### Preprocessing"
   ]
  },
  {
   "cell_type": "code",
   "execution_count": 185,
   "id": "0accdd53",
   "metadata": {},
   "outputs": [],
   "source": [
    "# Scale numeric values\n",
    "mean_scaled = StandardScaler().fit_transform(\n",
    "    mean_stats_df[['Year','MeanOpen', 'MeanHigh', 'MeanLow', 'MeanClose', 'MeanVolume',\n",
    "       'AnnualReturn', 'AnnualVariance']]\n",
    ")"
   ]
  },
  {
   "cell_type": "code",
   "execution_count": 190,
   "id": "0b9775f1",
   "metadata": {},
   "outputs": [
    {
     "data": {
      "text/html": [
       "<div>\n",
       "<style scoped>\n",
       "    .dataframe tbody tr th:only-of-type {\n",
       "        vertical-align: middle;\n",
       "    }\n",
       "\n",
       "    .dataframe tbody tr th {\n",
       "        vertical-align: top;\n",
       "    }\n",
       "\n",
       "    .dataframe thead th {\n",
       "        text-align: right;\n",
       "    }\n",
       "</style>\n",
       "<table border=\"1\" class=\"dataframe\">\n",
       "  <thead>\n",
       "    <tr style=\"text-align: right;\">\n",
       "      <th></th>\n",
       "      <th>Year</th>\n",
       "      <th>MeanOpen</th>\n",
       "      <th>MeanHigh</th>\n",
       "      <th>MeanLow</th>\n",
       "      <th>MeanClose</th>\n",
       "      <th>MeanVolume</th>\n",
       "      <th>AnnualReturn</th>\n",
       "      <th>AnnualVariance</th>\n",
       "    </tr>\n",
       "    <tr>\n",
       "      <th>Ticker</th>\n",
       "      <th></th>\n",
       "      <th></th>\n",
       "      <th></th>\n",
       "      <th></th>\n",
       "      <th></th>\n",
       "      <th></th>\n",
       "      <th></th>\n",
       "      <th></th>\n",
       "    </tr>\n",
       "  </thead>\n",
       "  <tbody>\n",
       "    <tr>\n",
       "      <th>A</th>\n",
       "      <td>-1.564836</td>\n",
       "      <td>-0.382495</td>\n",
       "      <td>-0.382515</td>\n",
       "      <td>-0.382190</td>\n",
       "      <td>-0.382350</td>\n",
       "      <td>-0.145815</td>\n",
       "      <td>-0.302269</td>\n",
       "      <td>-0.083083</td>\n",
       "    </tr>\n",
       "    <tr>\n",
       "      <th>A</th>\n",
       "      <td>-1.177151</td>\n",
       "      <td>-0.365438</td>\n",
       "      <td>-0.365482</td>\n",
       "      <td>-0.364979</td>\n",
       "      <td>-0.365210</td>\n",
       "      <td>-0.165113</td>\n",
       "      <td>-0.054719</td>\n",
       "      <td>-0.082291</td>\n",
       "    </tr>\n",
       "    <tr>\n",
       "      <th>A</th>\n",
       "      <td>-0.789466</td>\n",
       "      <td>-0.292694</td>\n",
       "      <td>-0.293603</td>\n",
       "      <td>-0.291528</td>\n",
       "      <td>-0.292611</td>\n",
       "      <td>-0.174492</td>\n",
       "      <td>0.839018</td>\n",
       "      <td>-0.078835</td>\n",
       "    </tr>\n",
       "    <tr>\n",
       "      <th>A</th>\n",
       "      <td>-0.401781</td>\n",
       "      <td>-0.256734</td>\n",
       "      <td>-0.257028</td>\n",
       "      <td>-0.256470</td>\n",
       "      <td>-0.256948</td>\n",
       "      <td>-0.144547</td>\n",
       "      <td>-0.393886</td>\n",
       "      <td>-0.082629</td>\n",
       "    </tr>\n",
       "    <tr>\n",
       "      <th>A</th>\n",
       "      <td>-0.014096</td>\n",
       "      <td>-0.220566</td>\n",
       "      <td>-0.221267</td>\n",
       "      <td>-0.219721</td>\n",
       "      <td>-0.220364</td>\n",
       "      <td>-0.162124</td>\n",
       "      <td>0.443879</td>\n",
       "      <td>-0.081072</td>\n",
       "    </tr>\n",
       "    <tr>\n",
       "      <th>...</th>\n",
       "      <td>...</td>\n",
       "      <td>...</td>\n",
       "      <td>...</td>\n",
       "      <td>...</td>\n",
       "      <td>...</td>\n",
       "      <td>...</td>\n",
       "      <td>...</td>\n",
       "      <td>...</td>\n",
       "    </tr>\n",
       "    <tr>\n",
       "      <th>ZTS</th>\n",
       "      <td>-0.014096</td>\n",
       "      <td>-0.060599</td>\n",
       "      <td>-0.061923</td>\n",
       "      <td>-0.058908</td>\n",
       "      <td>-0.060417</td>\n",
       "      <td>-0.164049</td>\n",
       "      <td>1.190335</td>\n",
       "      <td>-0.061445</td>\n",
       "    </tr>\n",
       "    <tr>\n",
       "      <th>ZTS</th>\n",
       "      <td>0.373589</td>\n",
       "      <td>0.096051</td>\n",
       "      <td>0.096907</td>\n",
       "      <td>0.095670</td>\n",
       "      <td>0.096126</td>\n",
       "      <td>-0.167491</td>\n",
       "      <td>0.263121</td>\n",
       "      <td>-0.054511</td>\n",
       "    </tr>\n",
       "    <tr>\n",
       "      <th>ZTS</th>\n",
       "      <td>0.761274</td>\n",
       "      <td>0.295130</td>\n",
       "      <td>0.292960</td>\n",
       "      <td>0.297912</td>\n",
       "      <td>0.295656</td>\n",
       "      <td>-0.180539</td>\n",
       "      <td>0.981620</td>\n",
       "      <td>-0.013462</td>\n",
       "    </tr>\n",
       "    <tr>\n",
       "      <th>ZTS</th>\n",
       "      <td>1.148959</td>\n",
       "      <td>0.218275</td>\n",
       "      <td>0.218005</td>\n",
       "      <td>0.216750</td>\n",
       "      <td>0.216772</td>\n",
       "      <td>-0.160866</td>\n",
       "      <td>-1.429377</td>\n",
       "      <td>-0.039536</td>\n",
       "    </tr>\n",
       "    <tr>\n",
       "      <th>ZTS</th>\n",
       "      <td>1.536644</td>\n",
       "      <td>0.228008</td>\n",
       "      <td>0.226945</td>\n",
       "      <td>0.229253</td>\n",
       "      <td>0.228508</td>\n",
       "      <td>-0.170826</td>\n",
       "      <td>0.570204</td>\n",
       "      <td>-0.071323</td>\n",
       "    </tr>\n",
       "  </tbody>\n",
       "</table>\n",
       "<p>4373 rows × 8 columns</p>\n",
       "</div>"
      ],
      "text/plain": [
       "            Year  MeanOpen  MeanHigh   MeanLow  MeanClose  MeanVolume  \\\n",
       "Ticker                                                                  \n",
       "A      -1.564836 -0.382495 -0.382515 -0.382190  -0.382350   -0.145815   \n",
       "A      -1.177151 -0.365438 -0.365482 -0.364979  -0.365210   -0.165113   \n",
       "A      -0.789466 -0.292694 -0.293603 -0.291528  -0.292611   -0.174492   \n",
       "A      -0.401781 -0.256734 -0.257028 -0.256470  -0.256948   -0.144547   \n",
       "A      -0.014096 -0.220566 -0.221267 -0.219721  -0.220364   -0.162124   \n",
       "...          ...       ...       ...       ...        ...         ...   \n",
       "ZTS    -0.014096 -0.060599 -0.061923 -0.058908  -0.060417   -0.164049   \n",
       "ZTS     0.373589  0.096051  0.096907  0.095670   0.096126   -0.167491   \n",
       "ZTS     0.761274  0.295130  0.292960  0.297912   0.295656   -0.180539   \n",
       "ZTS     1.148959  0.218275  0.218005  0.216750   0.216772   -0.160866   \n",
       "ZTS     1.536644  0.228008  0.226945  0.229253   0.228508   -0.170826   \n",
       "\n",
       "        AnnualReturn  AnnualVariance  \n",
       "Ticker                                \n",
       "A          -0.302269       -0.083083  \n",
       "A          -0.054719       -0.082291  \n",
       "A           0.839018       -0.078835  \n",
       "A          -0.393886       -0.082629  \n",
       "A           0.443879       -0.081072  \n",
       "...              ...             ...  \n",
       "ZTS         1.190335       -0.061445  \n",
       "ZTS         0.263121       -0.054511  \n",
       "ZTS         0.981620       -0.013462  \n",
       "ZTS        -1.429377       -0.039536  \n",
       "ZTS         0.570204       -0.071323  \n",
       "\n",
       "[4373 rows x 8 columns]"
      ]
     },
     "execution_count": 190,
     "metadata": {},
     "output_type": "execute_result"
    }
   ],
   "source": [
    "# Create a DataFrame with the scaled data\n",
    "mean_scaled_df = pd.DataFrame(\n",
    "    mean_scaled,\n",
    "    columns=['Year', 'MeanOpen', 'MeanHigh', 'MeanLow', 'MeanClose', 'MeanVolume',\n",
    "       'AnnualReturn', 'AnnualVariance']\n",
    ")\n",
    "\n",
    "# Copy the tickers names from the original data\n",
    "mean_scaled_df[\"Ticker\"] = mean_stats_df.index\n",
    "# # Set the Ticker column as index\n",
    "mean_scaled_df = mean_scaled_df.set_index(\"Ticker\")\n",
    "\n",
    "# # Display sample data\n",
    "mean_scaled_df"
   ]
  },
  {
   "cell_type": "code",
   "execution_count": 205,
   "id": "e247fca4",
   "metadata": {},
   "outputs": [
    {
     "data": {
      "text/html": [
       "<div>\n",
       "<style scoped>\n",
       "    .dataframe tbody tr th:only-of-type {\n",
       "        vertical-align: middle;\n",
       "    }\n",
       "\n",
       "    .dataframe tbody tr th {\n",
       "        vertical-align: top;\n",
       "    }\n",
       "\n",
       "    .dataframe thead th {\n",
       "        text-align: right;\n",
       "    }\n",
       "</style>\n",
       "<table border=\"1\" class=\"dataframe\">\n",
       "  <thead>\n",
       "    <tr style=\"text-align: right;\">\n",
       "      <th></th>\n",
       "      <th>GICS Sector</th>\n",
       "      <th>Headquarters State</th>\n",
       "      <th>Gender</th>\n",
       "      <th>Salary_Bins</th>\n",
       "    </tr>\n",
       "    <tr>\n",
       "      <th>Ticker</th>\n",
       "      <th></th>\n",
       "      <th></th>\n",
       "      <th></th>\n",
       "      <th></th>\n",
       "    </tr>\n",
       "  </thead>\n",
       "  <tbody>\n",
       "    <tr>\n",
       "      <th>A</th>\n",
       "      <td>Health Care</td>\n",
       "      <td>California</td>\n",
       "      <td>M</td>\n",
       "      <td>(15000000, 20000000]</td>\n",
       "    </tr>\n",
       "    <tr>\n",
       "      <th>AAL</th>\n",
       "      <td>Industrials</td>\n",
       "      <td>Texas</td>\n",
       "      <td>M</td>\n",
       "      <td>(0, 5000000]</td>\n",
       "    </tr>\n",
       "    <tr>\n",
       "      <th>AAPL</th>\n",
       "      <td>Information Technology</td>\n",
       "      <td>California</td>\n",
       "      <td>M</td>\n",
       "      <td>(50000000, 300000000]</td>\n",
       "    </tr>\n",
       "    <tr>\n",
       "      <th>ABBV</th>\n",
       "      <td>Health Care</td>\n",
       "      <td>Illinois</td>\n",
       "      <td>M</td>\n",
       "      <td>(25000000, 50000000]</td>\n",
       "    </tr>\n",
       "    <tr>\n",
       "      <th>ABNB</th>\n",
       "      <td>Consumer Discretionary</td>\n",
       "      <td>California</td>\n",
       "      <td>M</td>\n",
       "      <td>(50000000, 300000000]</td>\n",
       "    </tr>\n",
       "    <tr>\n",
       "      <th>...</th>\n",
       "      <td>...</td>\n",
       "      <td>...</td>\n",
       "      <td>...</td>\n",
       "      <td>...</td>\n",
       "    </tr>\n",
       "    <tr>\n",
       "      <th>XYL</th>\n",
       "      <td>Industrials</td>\n",
       "      <td>New York</td>\n",
       "      <td>M</td>\n",
       "      <td>(0, 5000000]</td>\n",
       "    </tr>\n",
       "    <tr>\n",
       "      <th>YUM</th>\n",
       "      <td>Consumer Discretionary</td>\n",
       "      <td>Kentucky</td>\n",
       "      <td>M</td>\n",
       "      <td>(15000000, 20000000]</td>\n",
       "    </tr>\n",
       "    <tr>\n",
       "      <th>ZBH</th>\n",
       "      <td>Health Care</td>\n",
       "      <td>Indiana</td>\n",
       "      <td>M</td>\n",
       "      <td>(10000000, 15000000]</td>\n",
       "    </tr>\n",
       "    <tr>\n",
       "      <th>ZBRA</th>\n",
       "      <td>Information Technology</td>\n",
       "      <td>Illinois</td>\n",
       "      <td>M</td>\n",
       "      <td>(10000000, 15000000]</td>\n",
       "    </tr>\n",
       "    <tr>\n",
       "      <th>ZTS</th>\n",
       "      <td>Health Care</td>\n",
       "      <td>New Jersey</td>\n",
       "      <td>F</td>\n",
       "      <td>(15000000, 20000000]</td>\n",
       "    </tr>\n",
       "  </tbody>\n",
       "</table>\n",
       "<p>500 rows × 4 columns</p>\n",
       "</div>"
      ],
      "text/plain": [
       "                   GICS Sector Headquarters State Gender  \\\n",
       "Ticker                                                     \n",
       "A                  Health Care         California      M   \n",
       "AAL                Industrials              Texas      M   \n",
       "AAPL    Information Technology         California      M   \n",
       "ABBV               Health Care           Illinois      M   \n",
       "ABNB    Consumer Discretionary         California      M   \n",
       "...                        ...                ...    ...   \n",
       "XYL                Industrials           New York      M   \n",
       "YUM     Consumer Discretionary           Kentucky      M   \n",
       "ZBH                Health Care            Indiana      M   \n",
       "ZBRA    Information Technology           Illinois      M   \n",
       "ZTS                Health Care         New Jersey      F   \n",
       "\n",
       "                  Salary_Bins  \n",
       "Ticker                         \n",
       "A        (15000000, 20000000]  \n",
       "AAL              (0, 5000000]  \n",
       "AAPL    (50000000, 300000000]  \n",
       "ABBV     (25000000, 50000000]  \n",
       "ABNB    (50000000, 300000000]  \n",
       "...                       ...  \n",
       "XYL              (0, 5000000]  \n",
       "YUM      (15000000, 20000000]  \n",
       "ZBH      (10000000, 15000000]  \n",
       "ZBRA     (10000000, 15000000]  \n",
       "ZTS      (15000000, 20000000]  \n",
       "\n",
       "[500 rows x 4 columns]"
      ]
     },
     "execution_count": 205,
     "metadata": {},
     "output_type": "execute_result"
    }
   ],
   "source": [
    "# Select catagorical variables of interest\n",
    "catagorical_variables = company_df[['Ticker', 'GICS Sector',\n",
    "       'Headquarters State', 'Gender', 'Salary_Bins']]\n",
    "\n",
    "# Set ticker as index\n",
    "catagorical_variables = catagorical_variables.set_index(\"Ticker\")\n",
    "catagorical_variables"
   ]
  },
  {
   "cell_type": "code",
   "execution_count": 206,
   "id": "69b4dd4b",
   "metadata": {},
   "outputs": [
    {
     "data": {
      "text/html": [
       "<div>\n",
       "<style scoped>\n",
       "    .dataframe tbody tr th:only-of-type {\n",
       "        vertical-align: middle;\n",
       "    }\n",
       "\n",
       "    .dataframe tbody tr th {\n",
       "        vertical-align: top;\n",
       "    }\n",
       "\n",
       "    .dataframe thead th {\n",
       "        text-align: right;\n",
       "    }\n",
       "</style>\n",
       "<table border=\"1\" class=\"dataframe\">\n",
       "  <thead>\n",
       "    <tr style=\"text-align: right;\">\n",
       "      <th></th>\n",
       "      <th>GICS Sector_Communication Services</th>\n",
       "      <th>GICS Sector_Consumer Discretionary</th>\n",
       "      <th>GICS Sector_Consumer Staples</th>\n",
       "      <th>GICS Sector_Energy</th>\n",
       "      <th>GICS Sector_Financials</th>\n",
       "      <th>GICS Sector_Health Care</th>\n",
       "      <th>GICS Sector_Industrials</th>\n",
       "      <th>GICS Sector_Information Technology</th>\n",
       "      <th>GICS Sector_Materials</th>\n",
       "      <th>GICS Sector_Real Estate</th>\n",
       "      <th>...</th>\n",
       "      <th>Headquarters State_Wisconsin</th>\n",
       "      <th>Gender_F</th>\n",
       "      <th>Gender_M</th>\n",
       "      <th>Salary_Bins_(0, 5000000]</th>\n",
       "      <th>Salary_Bins_(10000000, 15000000]</th>\n",
       "      <th>Salary_Bins_(15000000, 20000000]</th>\n",
       "      <th>Salary_Bins_(20000000, 25000000]</th>\n",
       "      <th>Salary_Bins_(25000000, 50000000]</th>\n",
       "      <th>Salary_Bins_(5000000, 10000000]</th>\n",
       "      <th>Salary_Bins_(50000000, 300000000]</th>\n",
       "    </tr>\n",
       "    <tr>\n",
       "      <th>Ticker</th>\n",
       "      <th></th>\n",
       "      <th></th>\n",
       "      <th></th>\n",
       "      <th></th>\n",
       "      <th></th>\n",
       "      <th></th>\n",
       "      <th></th>\n",
       "      <th></th>\n",
       "      <th></th>\n",
       "      <th></th>\n",
       "      <th></th>\n",
       "      <th></th>\n",
       "      <th></th>\n",
       "      <th></th>\n",
       "      <th></th>\n",
       "      <th></th>\n",
       "      <th></th>\n",
       "      <th></th>\n",
       "      <th></th>\n",
       "      <th></th>\n",
       "      <th></th>\n",
       "    </tr>\n",
       "  </thead>\n",
       "  <tbody>\n",
       "    <tr>\n",
       "      <th>A</th>\n",
       "      <td>0</td>\n",
       "      <td>0</td>\n",
       "      <td>0</td>\n",
       "      <td>0</td>\n",
       "      <td>0</td>\n",
       "      <td>1</td>\n",
       "      <td>0</td>\n",
       "      <td>0</td>\n",
       "      <td>0</td>\n",
       "      <td>0</td>\n",
       "      <td>...</td>\n",
       "      <td>0</td>\n",
       "      <td>0</td>\n",
       "      <td>1</td>\n",
       "      <td>0</td>\n",
       "      <td>0</td>\n",
       "      <td>1</td>\n",
       "      <td>0</td>\n",
       "      <td>0</td>\n",
       "      <td>0</td>\n",
       "      <td>0</td>\n",
       "    </tr>\n",
       "    <tr>\n",
       "      <th>AAL</th>\n",
       "      <td>0</td>\n",
       "      <td>0</td>\n",
       "      <td>0</td>\n",
       "      <td>0</td>\n",
       "      <td>0</td>\n",
       "      <td>0</td>\n",
       "      <td>1</td>\n",
       "      <td>0</td>\n",
       "      <td>0</td>\n",
       "      <td>0</td>\n",
       "      <td>...</td>\n",
       "      <td>0</td>\n",
       "      <td>0</td>\n",
       "      <td>1</td>\n",
       "      <td>1</td>\n",
       "      <td>0</td>\n",
       "      <td>0</td>\n",
       "      <td>0</td>\n",
       "      <td>0</td>\n",
       "      <td>0</td>\n",
       "      <td>0</td>\n",
       "    </tr>\n",
       "    <tr>\n",
       "      <th>AAPL</th>\n",
       "      <td>0</td>\n",
       "      <td>0</td>\n",
       "      <td>0</td>\n",
       "      <td>0</td>\n",
       "      <td>0</td>\n",
       "      <td>0</td>\n",
       "      <td>0</td>\n",
       "      <td>1</td>\n",
       "      <td>0</td>\n",
       "      <td>0</td>\n",
       "      <td>...</td>\n",
       "      <td>0</td>\n",
       "      <td>0</td>\n",
       "      <td>1</td>\n",
       "      <td>0</td>\n",
       "      <td>0</td>\n",
       "      <td>0</td>\n",
       "      <td>0</td>\n",
       "      <td>0</td>\n",
       "      <td>0</td>\n",
       "      <td>1</td>\n",
       "    </tr>\n",
       "    <tr>\n",
       "      <th>ABBV</th>\n",
       "      <td>0</td>\n",
       "      <td>0</td>\n",
       "      <td>0</td>\n",
       "      <td>0</td>\n",
       "      <td>0</td>\n",
       "      <td>1</td>\n",
       "      <td>0</td>\n",
       "      <td>0</td>\n",
       "      <td>0</td>\n",
       "      <td>0</td>\n",
       "      <td>...</td>\n",
       "      <td>0</td>\n",
       "      <td>0</td>\n",
       "      <td>1</td>\n",
       "      <td>0</td>\n",
       "      <td>0</td>\n",
       "      <td>0</td>\n",
       "      <td>0</td>\n",
       "      <td>1</td>\n",
       "      <td>0</td>\n",
       "      <td>0</td>\n",
       "    </tr>\n",
       "    <tr>\n",
       "      <th>ABNB</th>\n",
       "      <td>0</td>\n",
       "      <td>1</td>\n",
       "      <td>0</td>\n",
       "      <td>0</td>\n",
       "      <td>0</td>\n",
       "      <td>0</td>\n",
       "      <td>0</td>\n",
       "      <td>0</td>\n",
       "      <td>0</td>\n",
       "      <td>0</td>\n",
       "      <td>...</td>\n",
       "      <td>0</td>\n",
       "      <td>0</td>\n",
       "      <td>1</td>\n",
       "      <td>0</td>\n",
       "      <td>0</td>\n",
       "      <td>0</td>\n",
       "      <td>0</td>\n",
       "      <td>0</td>\n",
       "      <td>0</td>\n",
       "      <td>1</td>\n",
       "    </tr>\n",
       "    <tr>\n",
       "      <th>...</th>\n",
       "      <td>...</td>\n",
       "      <td>...</td>\n",
       "      <td>...</td>\n",
       "      <td>...</td>\n",
       "      <td>...</td>\n",
       "      <td>...</td>\n",
       "      <td>...</td>\n",
       "      <td>...</td>\n",
       "      <td>...</td>\n",
       "      <td>...</td>\n",
       "      <td>...</td>\n",
       "      <td>...</td>\n",
       "      <td>...</td>\n",
       "      <td>...</td>\n",
       "      <td>...</td>\n",
       "      <td>...</td>\n",
       "      <td>...</td>\n",
       "      <td>...</td>\n",
       "      <td>...</td>\n",
       "      <td>...</td>\n",
       "      <td>...</td>\n",
       "    </tr>\n",
       "    <tr>\n",
       "      <th>XYL</th>\n",
       "      <td>0</td>\n",
       "      <td>0</td>\n",
       "      <td>0</td>\n",
       "      <td>0</td>\n",
       "      <td>0</td>\n",
       "      <td>0</td>\n",
       "      <td>1</td>\n",
       "      <td>0</td>\n",
       "      <td>0</td>\n",
       "      <td>0</td>\n",
       "      <td>...</td>\n",
       "      <td>0</td>\n",
       "      <td>0</td>\n",
       "      <td>1</td>\n",
       "      <td>1</td>\n",
       "      <td>0</td>\n",
       "      <td>0</td>\n",
       "      <td>0</td>\n",
       "      <td>0</td>\n",
       "      <td>0</td>\n",
       "      <td>0</td>\n",
       "    </tr>\n",
       "    <tr>\n",
       "      <th>YUM</th>\n",
       "      <td>0</td>\n",
       "      <td>1</td>\n",
       "      <td>0</td>\n",
       "      <td>0</td>\n",
       "      <td>0</td>\n",
       "      <td>0</td>\n",
       "      <td>0</td>\n",
       "      <td>0</td>\n",
       "      <td>0</td>\n",
       "      <td>0</td>\n",
       "      <td>...</td>\n",
       "      <td>0</td>\n",
       "      <td>0</td>\n",
       "      <td>1</td>\n",
       "      <td>0</td>\n",
       "      <td>0</td>\n",
       "      <td>1</td>\n",
       "      <td>0</td>\n",
       "      <td>0</td>\n",
       "      <td>0</td>\n",
       "      <td>0</td>\n",
       "    </tr>\n",
       "    <tr>\n",
       "      <th>ZBH</th>\n",
       "      <td>0</td>\n",
       "      <td>0</td>\n",
       "      <td>0</td>\n",
       "      <td>0</td>\n",
       "      <td>0</td>\n",
       "      <td>1</td>\n",
       "      <td>0</td>\n",
       "      <td>0</td>\n",
       "      <td>0</td>\n",
       "      <td>0</td>\n",
       "      <td>...</td>\n",
       "      <td>0</td>\n",
       "      <td>0</td>\n",
       "      <td>1</td>\n",
       "      <td>0</td>\n",
       "      <td>1</td>\n",
       "      <td>0</td>\n",
       "      <td>0</td>\n",
       "      <td>0</td>\n",
       "      <td>0</td>\n",
       "      <td>0</td>\n",
       "    </tr>\n",
       "    <tr>\n",
       "      <th>ZBRA</th>\n",
       "      <td>0</td>\n",
       "      <td>0</td>\n",
       "      <td>0</td>\n",
       "      <td>0</td>\n",
       "      <td>0</td>\n",
       "      <td>0</td>\n",
       "      <td>0</td>\n",
       "      <td>1</td>\n",
       "      <td>0</td>\n",
       "      <td>0</td>\n",
       "      <td>...</td>\n",
       "      <td>0</td>\n",
       "      <td>0</td>\n",
       "      <td>1</td>\n",
       "      <td>0</td>\n",
       "      <td>1</td>\n",
       "      <td>0</td>\n",
       "      <td>0</td>\n",
       "      <td>0</td>\n",
       "      <td>0</td>\n",
       "      <td>0</td>\n",
       "    </tr>\n",
       "    <tr>\n",
       "      <th>ZTS</th>\n",
       "      <td>0</td>\n",
       "      <td>0</td>\n",
       "      <td>0</td>\n",
       "      <td>0</td>\n",
       "      <td>0</td>\n",
       "      <td>1</td>\n",
       "      <td>0</td>\n",
       "      <td>0</td>\n",
       "      <td>0</td>\n",
       "      <td>0</td>\n",
       "      <td>...</td>\n",
       "      <td>0</td>\n",
       "      <td>1</td>\n",
       "      <td>0</td>\n",
       "      <td>0</td>\n",
       "      <td>0</td>\n",
       "      <td>1</td>\n",
       "      <td>0</td>\n",
       "      <td>0</td>\n",
       "      <td>0</td>\n",
       "      <td>0</td>\n",
       "    </tr>\n",
       "  </tbody>\n",
       "</table>\n",
       "<p>500 rows × 69 columns</p>\n",
       "</div>"
      ],
      "text/plain": [
       "        GICS Sector_Communication Services  \\\n",
       "Ticker                                       \n",
       "A                                        0   \n",
       "AAL                                      0   \n",
       "AAPL                                     0   \n",
       "ABBV                                     0   \n",
       "ABNB                                     0   \n",
       "...                                    ...   \n",
       "XYL                                      0   \n",
       "YUM                                      0   \n",
       "ZBH                                      0   \n",
       "ZBRA                                     0   \n",
       "ZTS                                      0   \n",
       "\n",
       "        GICS Sector_Consumer Discretionary  GICS Sector_Consumer Staples  \\\n",
       "Ticker                                                                     \n",
       "A                                        0                             0   \n",
       "AAL                                      0                             0   \n",
       "AAPL                                     0                             0   \n",
       "ABBV                                     0                             0   \n",
       "ABNB                                     1                             0   \n",
       "...                                    ...                           ...   \n",
       "XYL                                      0                             0   \n",
       "YUM                                      1                             0   \n",
       "ZBH                                      0                             0   \n",
       "ZBRA                                     0                             0   \n",
       "ZTS                                      0                             0   \n",
       "\n",
       "        GICS Sector_Energy  GICS Sector_Financials  GICS Sector_Health Care  \\\n",
       "Ticker                                                                        \n",
       "A                        0                       0                        1   \n",
       "AAL                      0                       0                        0   \n",
       "AAPL                     0                       0                        0   \n",
       "ABBV                     0                       0                        1   \n",
       "ABNB                     0                       0                        0   \n",
       "...                    ...                     ...                      ...   \n",
       "XYL                      0                       0                        0   \n",
       "YUM                      0                       0                        0   \n",
       "ZBH                      0                       0                        1   \n",
       "ZBRA                     0                       0                        0   \n",
       "ZTS                      0                       0                        1   \n",
       "\n",
       "        GICS Sector_Industrials  GICS Sector_Information Technology  \\\n",
       "Ticker                                                                \n",
       "A                             0                                   0   \n",
       "AAL                           1                                   0   \n",
       "AAPL                          0                                   1   \n",
       "ABBV                          0                                   0   \n",
       "ABNB                          0                                   0   \n",
       "...                         ...                                 ...   \n",
       "XYL                           1                                   0   \n",
       "YUM                           0                                   0   \n",
       "ZBH                           0                                   0   \n",
       "ZBRA                          0                                   1   \n",
       "ZTS                           0                                   0   \n",
       "\n",
       "        GICS Sector_Materials  GICS Sector_Real Estate  ...  \\\n",
       "Ticker                                                  ...   \n",
       "A                           0                        0  ...   \n",
       "AAL                         0                        0  ...   \n",
       "AAPL                        0                        0  ...   \n",
       "ABBV                        0                        0  ...   \n",
       "ABNB                        0                        0  ...   \n",
       "...                       ...                      ...  ...   \n",
       "XYL                         0                        0  ...   \n",
       "YUM                         0                        0  ...   \n",
       "ZBH                         0                        0  ...   \n",
       "ZBRA                        0                        0  ...   \n",
       "ZTS                         0                        0  ...   \n",
       "\n",
       "        Headquarters State_Wisconsin  Gender_F  Gender_M  \\\n",
       "Ticker                                                     \n",
       "A                                  0         0         1   \n",
       "AAL                                0         0         1   \n",
       "AAPL                               0         0         1   \n",
       "ABBV                               0         0         1   \n",
       "ABNB                               0         0         1   \n",
       "...                              ...       ...       ...   \n",
       "XYL                                0         0         1   \n",
       "YUM                                0         0         1   \n",
       "ZBH                                0         0         1   \n",
       "ZBRA                               0         0         1   \n",
       "ZTS                                0         1         0   \n",
       "\n",
       "        Salary_Bins_(0, 5000000]  Salary_Bins_(10000000, 15000000]  \\\n",
       "Ticker                                                               \n",
       "A                              0                                 0   \n",
       "AAL                            1                                 0   \n",
       "AAPL                           0                                 0   \n",
       "ABBV                           0                                 0   \n",
       "ABNB                           0                                 0   \n",
       "...                          ...                               ...   \n",
       "XYL                            1                                 0   \n",
       "YUM                            0                                 0   \n",
       "ZBH                            0                                 1   \n",
       "ZBRA                           0                                 1   \n",
       "ZTS                            0                                 0   \n",
       "\n",
       "        Salary_Bins_(15000000, 20000000]  Salary_Bins_(20000000, 25000000]  \\\n",
       "Ticker                                                                       \n",
       "A                                      1                                 0   \n",
       "AAL                                    0                                 0   \n",
       "AAPL                                   0                                 0   \n",
       "ABBV                                   0                                 0   \n",
       "ABNB                                   0                                 0   \n",
       "...                                  ...                               ...   \n",
       "XYL                                    0                                 0   \n",
       "YUM                                    1                                 0   \n",
       "ZBH                                    0                                 0   \n",
       "ZBRA                                   0                                 0   \n",
       "ZTS                                    1                                 0   \n",
       "\n",
       "        Salary_Bins_(25000000, 50000000]  Salary_Bins_(5000000, 10000000]  \\\n",
       "Ticker                                                                      \n",
       "A                                      0                                0   \n",
       "AAL                                    0                                0   \n",
       "AAPL                                   0                                0   \n",
       "ABBV                                   1                                0   \n",
       "ABNB                                   0                                0   \n",
       "...                                  ...                              ...   \n",
       "XYL                                    0                                0   \n",
       "YUM                                    0                                0   \n",
       "ZBH                                    0                                0   \n",
       "ZBRA                                   0                                0   \n",
       "ZTS                                    0                                0   \n",
       "\n",
       "        Salary_Bins_(50000000, 300000000]  \n",
       "Ticker                                     \n",
       "A                                       0  \n",
       "AAL                                     0  \n",
       "AAPL                                    1  \n",
       "ABBV                                    0  \n",
       "ABNB                                    1  \n",
       "...                                   ...  \n",
       "XYL                                     0  \n",
       "YUM                                     0  \n",
       "ZBH                                     0  \n",
       "ZBRA                                    0  \n",
       "ZTS                                     0  \n",
       "\n",
       "[500 rows x 69 columns]"
      ]
     },
     "execution_count": 206,
     "metadata": {},
     "output_type": "execute_result"
    }
   ],
   "source": [
    "# Encode catagorical variables\n",
    "stock_dummies = pd.get_dummies(catagorical_variables, dtype=int)\n",
    "stock_dummies"
   ]
  },
  {
   "cell_type": "code",
   "execution_count": 207,
   "id": "d66ae4f6",
   "metadata": {},
   "outputs": [
    {
     "data": {
      "text/html": [
       "<div>\n",
       "<style scoped>\n",
       "    .dataframe tbody tr th:only-of-type {\n",
       "        vertical-align: middle;\n",
       "    }\n",
       "\n",
       "    .dataframe tbody tr th {\n",
       "        vertical-align: top;\n",
       "    }\n",
       "\n",
       "    .dataframe thead th {\n",
       "        text-align: right;\n",
       "    }\n",
       "</style>\n",
       "<table border=\"1\" class=\"dataframe\">\n",
       "  <thead>\n",
       "    <tr style=\"text-align: right;\">\n",
       "      <th></th>\n",
       "      <th>Year</th>\n",
       "      <th>MeanOpen</th>\n",
       "      <th>MeanHigh</th>\n",
       "      <th>MeanLow</th>\n",
       "      <th>MeanClose</th>\n",
       "      <th>MeanVolume</th>\n",
       "      <th>AnnualReturn</th>\n",
       "      <th>AnnualVariance</th>\n",
       "      <th>GICS Sector_Communication Services</th>\n",
       "      <th>GICS Sector_Consumer Discretionary</th>\n",
       "      <th>...</th>\n",
       "      <th>Headquarters State_Washington</th>\n",
       "      <th>Headquarters State_Wisconsin</th>\n",
       "      <th>Gender_F</th>\n",
       "      <th>Salary_Bins_(0, 5000000]</th>\n",
       "      <th>Salary_Bins_(10000000, 15000000]</th>\n",
       "      <th>Salary_Bins_(15000000, 20000000]</th>\n",
       "      <th>Salary_Bins_(20000000, 25000000]</th>\n",
       "      <th>Salary_Bins_(25000000, 50000000]</th>\n",
       "      <th>Salary_Bins_(5000000, 10000000]</th>\n",
       "      <th>Salary_Bins_(50000000, 300000000]</th>\n",
       "    </tr>\n",
       "    <tr>\n",
       "      <th>Ticker</th>\n",
       "      <th></th>\n",
       "      <th></th>\n",
       "      <th></th>\n",
       "      <th></th>\n",
       "      <th></th>\n",
       "      <th></th>\n",
       "      <th></th>\n",
       "      <th></th>\n",
       "      <th></th>\n",
       "      <th></th>\n",
       "      <th></th>\n",
       "      <th></th>\n",
       "      <th></th>\n",
       "      <th></th>\n",
       "      <th></th>\n",
       "      <th></th>\n",
       "      <th></th>\n",
       "      <th></th>\n",
       "      <th></th>\n",
       "      <th></th>\n",
       "      <th></th>\n",
       "    </tr>\n",
       "  </thead>\n",
       "  <tbody>\n",
       "    <tr>\n",
       "      <th>A</th>\n",
       "      <td>-1.564836</td>\n",
       "      <td>-0.382495</td>\n",
       "      <td>-0.382515</td>\n",
       "      <td>-0.382190</td>\n",
       "      <td>-0.382350</td>\n",
       "      <td>-0.145815</td>\n",
       "      <td>-0.302269</td>\n",
       "      <td>-0.083083</td>\n",
       "      <td>0</td>\n",
       "      <td>0</td>\n",
       "      <td>...</td>\n",
       "      <td>0</td>\n",
       "      <td>0</td>\n",
       "      <td>0</td>\n",
       "      <td>0</td>\n",
       "      <td>0</td>\n",
       "      <td>1</td>\n",
       "      <td>0</td>\n",
       "      <td>0</td>\n",
       "      <td>0</td>\n",
       "      <td>0</td>\n",
       "    </tr>\n",
       "    <tr>\n",
       "      <th>A</th>\n",
       "      <td>-1.177151</td>\n",
       "      <td>-0.365438</td>\n",
       "      <td>-0.365482</td>\n",
       "      <td>-0.364979</td>\n",
       "      <td>-0.365210</td>\n",
       "      <td>-0.165113</td>\n",
       "      <td>-0.054719</td>\n",
       "      <td>-0.082291</td>\n",
       "      <td>0</td>\n",
       "      <td>0</td>\n",
       "      <td>...</td>\n",
       "      <td>0</td>\n",
       "      <td>0</td>\n",
       "      <td>0</td>\n",
       "      <td>0</td>\n",
       "      <td>0</td>\n",
       "      <td>1</td>\n",
       "      <td>0</td>\n",
       "      <td>0</td>\n",
       "      <td>0</td>\n",
       "      <td>0</td>\n",
       "    </tr>\n",
       "    <tr>\n",
       "      <th>A</th>\n",
       "      <td>-0.789466</td>\n",
       "      <td>-0.292694</td>\n",
       "      <td>-0.293603</td>\n",
       "      <td>-0.291528</td>\n",
       "      <td>-0.292611</td>\n",
       "      <td>-0.174492</td>\n",
       "      <td>0.839018</td>\n",
       "      <td>-0.078835</td>\n",
       "      <td>0</td>\n",
       "      <td>0</td>\n",
       "      <td>...</td>\n",
       "      <td>0</td>\n",
       "      <td>0</td>\n",
       "      <td>0</td>\n",
       "      <td>0</td>\n",
       "      <td>0</td>\n",
       "      <td>1</td>\n",
       "      <td>0</td>\n",
       "      <td>0</td>\n",
       "      <td>0</td>\n",
       "      <td>0</td>\n",
       "    </tr>\n",
       "    <tr>\n",
       "      <th>A</th>\n",
       "      <td>-0.401781</td>\n",
       "      <td>-0.256734</td>\n",
       "      <td>-0.257028</td>\n",
       "      <td>-0.256470</td>\n",
       "      <td>-0.256948</td>\n",
       "      <td>-0.144547</td>\n",
       "      <td>-0.393886</td>\n",
       "      <td>-0.082629</td>\n",
       "      <td>0</td>\n",
       "      <td>0</td>\n",
       "      <td>...</td>\n",
       "      <td>0</td>\n",
       "      <td>0</td>\n",
       "      <td>0</td>\n",
       "      <td>0</td>\n",
       "      <td>0</td>\n",
       "      <td>1</td>\n",
       "      <td>0</td>\n",
       "      <td>0</td>\n",
       "      <td>0</td>\n",
       "      <td>0</td>\n",
       "    </tr>\n",
       "    <tr>\n",
       "      <th>A</th>\n",
       "      <td>-0.014096</td>\n",
       "      <td>-0.220566</td>\n",
       "      <td>-0.221267</td>\n",
       "      <td>-0.219721</td>\n",
       "      <td>-0.220364</td>\n",
       "      <td>-0.162124</td>\n",
       "      <td>0.443879</td>\n",
       "      <td>-0.081072</td>\n",
       "      <td>0</td>\n",
       "      <td>0</td>\n",
       "      <td>...</td>\n",
       "      <td>0</td>\n",
       "      <td>0</td>\n",
       "      <td>0</td>\n",
       "      <td>0</td>\n",
       "      <td>0</td>\n",
       "      <td>1</td>\n",
       "      <td>0</td>\n",
       "      <td>0</td>\n",
       "      <td>0</td>\n",
       "      <td>0</td>\n",
       "    </tr>\n",
       "    <tr>\n",
       "      <th>...</th>\n",
       "      <td>...</td>\n",
       "      <td>...</td>\n",
       "      <td>...</td>\n",
       "      <td>...</td>\n",
       "      <td>...</td>\n",
       "      <td>...</td>\n",
       "      <td>...</td>\n",
       "      <td>...</td>\n",
       "      <td>...</td>\n",
       "      <td>...</td>\n",
       "      <td>...</td>\n",
       "      <td>...</td>\n",
       "      <td>...</td>\n",
       "      <td>...</td>\n",
       "      <td>...</td>\n",
       "      <td>...</td>\n",
       "      <td>...</td>\n",
       "      <td>...</td>\n",
       "      <td>...</td>\n",
       "      <td>...</td>\n",
       "      <td>...</td>\n",
       "    </tr>\n",
       "    <tr>\n",
       "      <th>ZTS</th>\n",
       "      <td>-0.014096</td>\n",
       "      <td>-0.060599</td>\n",
       "      <td>-0.061923</td>\n",
       "      <td>-0.058908</td>\n",
       "      <td>-0.060417</td>\n",
       "      <td>-0.164049</td>\n",
       "      <td>1.190335</td>\n",
       "      <td>-0.061445</td>\n",
       "      <td>0</td>\n",
       "      <td>0</td>\n",
       "      <td>...</td>\n",
       "      <td>0</td>\n",
       "      <td>0</td>\n",
       "      <td>1</td>\n",
       "      <td>0</td>\n",
       "      <td>0</td>\n",
       "      <td>1</td>\n",
       "      <td>0</td>\n",
       "      <td>0</td>\n",
       "      <td>0</td>\n",
       "      <td>0</td>\n",
       "    </tr>\n",
       "    <tr>\n",
       "      <th>ZTS</th>\n",
       "      <td>0.373589</td>\n",
       "      <td>0.096051</td>\n",
       "      <td>0.096907</td>\n",
       "      <td>0.095670</td>\n",
       "      <td>0.096126</td>\n",
       "      <td>-0.167491</td>\n",
       "      <td>0.263121</td>\n",
       "      <td>-0.054511</td>\n",
       "      <td>0</td>\n",
       "      <td>0</td>\n",
       "      <td>...</td>\n",
       "      <td>0</td>\n",
       "      <td>0</td>\n",
       "      <td>1</td>\n",
       "      <td>0</td>\n",
       "      <td>0</td>\n",
       "      <td>1</td>\n",
       "      <td>0</td>\n",
       "      <td>0</td>\n",
       "      <td>0</td>\n",
       "      <td>0</td>\n",
       "    </tr>\n",
       "    <tr>\n",
       "      <th>ZTS</th>\n",
       "      <td>0.761274</td>\n",
       "      <td>0.295130</td>\n",
       "      <td>0.292960</td>\n",
       "      <td>0.297912</td>\n",
       "      <td>0.295656</td>\n",
       "      <td>-0.180539</td>\n",
       "      <td>0.981620</td>\n",
       "      <td>-0.013462</td>\n",
       "      <td>0</td>\n",
       "      <td>0</td>\n",
       "      <td>...</td>\n",
       "      <td>0</td>\n",
       "      <td>0</td>\n",
       "      <td>1</td>\n",
       "      <td>0</td>\n",
       "      <td>0</td>\n",
       "      <td>1</td>\n",
       "      <td>0</td>\n",
       "      <td>0</td>\n",
       "      <td>0</td>\n",
       "      <td>0</td>\n",
       "    </tr>\n",
       "    <tr>\n",
       "      <th>ZTS</th>\n",
       "      <td>1.148959</td>\n",
       "      <td>0.218275</td>\n",
       "      <td>0.218005</td>\n",
       "      <td>0.216750</td>\n",
       "      <td>0.216772</td>\n",
       "      <td>-0.160866</td>\n",
       "      <td>-1.429377</td>\n",
       "      <td>-0.039536</td>\n",
       "      <td>0</td>\n",
       "      <td>0</td>\n",
       "      <td>...</td>\n",
       "      <td>0</td>\n",
       "      <td>0</td>\n",
       "      <td>1</td>\n",
       "      <td>0</td>\n",
       "      <td>0</td>\n",
       "      <td>1</td>\n",
       "      <td>0</td>\n",
       "      <td>0</td>\n",
       "      <td>0</td>\n",
       "      <td>0</td>\n",
       "    </tr>\n",
       "    <tr>\n",
       "      <th>ZTS</th>\n",
       "      <td>1.536644</td>\n",
       "      <td>0.228008</td>\n",
       "      <td>0.226945</td>\n",
       "      <td>0.229253</td>\n",
       "      <td>0.228508</td>\n",
       "      <td>-0.170826</td>\n",
       "      <td>0.570204</td>\n",
       "      <td>-0.071323</td>\n",
       "      <td>0</td>\n",
       "      <td>0</td>\n",
       "      <td>...</td>\n",
       "      <td>0</td>\n",
       "      <td>0</td>\n",
       "      <td>1</td>\n",
       "      <td>0</td>\n",
       "      <td>0</td>\n",
       "      <td>1</td>\n",
       "      <td>0</td>\n",
       "      <td>0</td>\n",
       "      <td>0</td>\n",
       "      <td>0</td>\n",
       "    </tr>\n",
       "  </tbody>\n",
       "</table>\n",
       "<p>4373 rows × 76 columns</p>\n",
       "</div>"
      ],
      "text/plain": [
       "            Year  MeanOpen  MeanHigh   MeanLow  MeanClose  MeanVolume  \\\n",
       "Ticker                                                                  \n",
       "A      -1.564836 -0.382495 -0.382515 -0.382190  -0.382350   -0.145815   \n",
       "A      -1.177151 -0.365438 -0.365482 -0.364979  -0.365210   -0.165113   \n",
       "A      -0.789466 -0.292694 -0.293603 -0.291528  -0.292611   -0.174492   \n",
       "A      -0.401781 -0.256734 -0.257028 -0.256470  -0.256948   -0.144547   \n",
       "A      -0.014096 -0.220566 -0.221267 -0.219721  -0.220364   -0.162124   \n",
       "...          ...       ...       ...       ...        ...         ...   \n",
       "ZTS    -0.014096 -0.060599 -0.061923 -0.058908  -0.060417   -0.164049   \n",
       "ZTS     0.373589  0.096051  0.096907  0.095670   0.096126   -0.167491   \n",
       "ZTS     0.761274  0.295130  0.292960  0.297912   0.295656   -0.180539   \n",
       "ZTS     1.148959  0.218275  0.218005  0.216750   0.216772   -0.160866   \n",
       "ZTS     1.536644  0.228008  0.226945  0.229253   0.228508   -0.170826   \n",
       "\n",
       "        AnnualReturn  AnnualVariance  GICS Sector_Communication Services  \\\n",
       "Ticker                                                                     \n",
       "A          -0.302269       -0.083083                                   0   \n",
       "A          -0.054719       -0.082291                                   0   \n",
       "A           0.839018       -0.078835                                   0   \n",
       "A          -0.393886       -0.082629                                   0   \n",
       "A           0.443879       -0.081072                                   0   \n",
       "...              ...             ...                                 ...   \n",
       "ZTS         1.190335       -0.061445                                   0   \n",
       "ZTS         0.263121       -0.054511                                   0   \n",
       "ZTS         0.981620       -0.013462                                   0   \n",
       "ZTS        -1.429377       -0.039536                                   0   \n",
       "ZTS         0.570204       -0.071323                                   0   \n",
       "\n",
       "        GICS Sector_Consumer Discretionary  ...  \\\n",
       "Ticker                                      ...   \n",
       "A                                        0  ...   \n",
       "A                                        0  ...   \n",
       "A                                        0  ...   \n",
       "A                                        0  ...   \n",
       "A                                        0  ...   \n",
       "...                                    ...  ...   \n",
       "ZTS                                      0  ...   \n",
       "ZTS                                      0  ...   \n",
       "ZTS                                      0  ...   \n",
       "ZTS                                      0  ...   \n",
       "ZTS                                      0  ...   \n",
       "\n",
       "        Headquarters State_Washington  Headquarters State_Wisconsin  Gender_F  \\\n",
       "Ticker                                                                          \n",
       "A                                   0                             0         0   \n",
       "A                                   0                             0         0   \n",
       "A                                   0                             0         0   \n",
       "A                                   0                             0         0   \n",
       "A                                   0                             0         0   \n",
       "...                               ...                           ...       ...   \n",
       "ZTS                                 0                             0         1   \n",
       "ZTS                                 0                             0         1   \n",
       "ZTS                                 0                             0         1   \n",
       "ZTS                                 0                             0         1   \n",
       "ZTS                                 0                             0         1   \n",
       "\n",
       "        Salary_Bins_(0, 5000000]  Salary_Bins_(10000000, 15000000]  \\\n",
       "Ticker                                                               \n",
       "A                              0                                 0   \n",
       "A                              0                                 0   \n",
       "A                              0                                 0   \n",
       "A                              0                                 0   \n",
       "A                              0                                 0   \n",
       "...                          ...                               ...   \n",
       "ZTS                            0                                 0   \n",
       "ZTS                            0                                 0   \n",
       "ZTS                            0                                 0   \n",
       "ZTS                            0                                 0   \n",
       "ZTS                            0                                 0   \n",
       "\n",
       "        Salary_Bins_(15000000, 20000000]  Salary_Bins_(20000000, 25000000]  \\\n",
       "Ticker                                                                       \n",
       "A                                      1                                 0   \n",
       "A                                      1                                 0   \n",
       "A                                      1                                 0   \n",
       "A                                      1                                 0   \n",
       "A                                      1                                 0   \n",
       "...                                  ...                               ...   \n",
       "ZTS                                    1                                 0   \n",
       "ZTS                                    1                                 0   \n",
       "ZTS                                    1                                 0   \n",
       "ZTS                                    1                                 0   \n",
       "ZTS                                    1                                 0   \n",
       "\n",
       "        Salary_Bins_(25000000, 50000000]  Salary_Bins_(5000000, 10000000]  \\\n",
       "Ticker                                                                      \n",
       "A                                      0                                0   \n",
       "A                                      0                                0   \n",
       "A                                      0                                0   \n",
       "A                                      0                                0   \n",
       "A                                      0                                0   \n",
       "...                                  ...                              ...   \n",
       "ZTS                                    0                                0   \n",
       "ZTS                                    0                                0   \n",
       "ZTS                                    0                                0   \n",
       "ZTS                                    0                                0   \n",
       "ZTS                                    0                                0   \n",
       "\n",
       "        Salary_Bins_(50000000, 300000000]  \n",
       "Ticker                                     \n",
       "A                                       0  \n",
       "A                                       0  \n",
       "A                                       0  \n",
       "A                                       0  \n",
       "A                                       0  \n",
       "...                                   ...  \n",
       "ZTS                                     0  \n",
       "ZTS                                     0  \n",
       "ZTS                                     0  \n",
       "ZTS                                     0  \n",
       "ZTS                                     0  \n",
       "\n",
       "[4373 rows x 76 columns]"
      ]
     },
     "execution_count": 207,
     "metadata": {},
     "output_type": "execute_result"
    }
   ],
   "source": [
    "# Concatenate the dummy variables with the scaled data DataFrame\n",
    "sp500_clustering_df = pd.merge(mean_scaled_df, stock_dummies, on='Ticker', how=\"left\").drop('Gender_M', axis=1)\n",
    "# Display data sample\n",
    "sp500_clustering_df = sp500_clustering_df.dropna()\n",
    "sp500_clustering_df"
   ]
  },
  {
   "cell_type": "markdown",
   "id": "62d9582c",
   "metadata": {},
   "source": [
    "### Apply the Elbow method"
   ]
  },
  {
   "cell_type": "code",
   "execution_count": 208,
   "id": "d0f48103",
   "metadata": {},
   "outputs": [],
   "source": [
    "# Create a a list to store inertia values\n",
    "inertia = []\n",
    "\n",
    "# Create a a list to store the values of k\n",
    "k_values = list(range(1, 11))\n",
    "\n",
    "# Create a for-loop where each value of k and evaluate using the K-means algorithm\n",
    "for k in k_values:\n",
    "    k_model = KMeans(n_clusters=k, random_state=78)\n",
    "    k_model.fit(sp500_clustering_df)\n",
    "    inertia.append(k_model.inertia_)"
   ]
  },
  {
   "cell_type": "code",
   "execution_count": 209,
   "id": "1e445af3",
   "metadata": {},
   "outputs": [
    {
     "data": {
      "text/html": [
       "<div>\n",
       "<style scoped>\n",
       "    .dataframe tbody tr th:only-of-type {\n",
       "        vertical-align: middle;\n",
       "    }\n",
       "\n",
       "    .dataframe tbody tr th {\n",
       "        vertical-align: top;\n",
       "    }\n",
       "\n",
       "    .dataframe thead th {\n",
       "        text-align: right;\n",
       "    }\n",
       "</style>\n",
       "<table border=\"1\" class=\"dataframe\">\n",
       "  <thead>\n",
       "    <tr style=\"text-align: right;\">\n",
       "      <th></th>\n",
       "      <th>k</th>\n",
       "      <th>inertia</th>\n",
       "    </tr>\n",
       "  </thead>\n",
       "  <tbody>\n",
       "    <tr>\n",
       "      <th>0</th>\n",
       "      <td>1</td>\n",
       "      <td>46782.423965</td>\n",
       "    </tr>\n",
       "    <tr>\n",
       "      <th>1</th>\n",
       "      <td>2</td>\n",
       "      <td>34094.075179</td>\n",
       "    </tr>\n",
       "    <tr>\n",
       "      <th>2</th>\n",
       "      <td>3</td>\n",
       "      <td>30158.171069</td>\n",
       "    </tr>\n",
       "    <tr>\n",
       "      <th>3</th>\n",
       "      <td>4</td>\n",
       "      <td>26906.184429</td>\n",
       "    </tr>\n",
       "    <tr>\n",
       "      <th>4</th>\n",
       "      <td>5</td>\n",
       "      <td>23470.408528</td>\n",
       "    </tr>\n",
       "  </tbody>\n",
       "</table>\n",
       "</div>"
      ],
      "text/plain": [
       "   k       inertia\n",
       "0  1  46782.423965\n",
       "1  2  34094.075179\n",
       "2  3  30158.171069\n",
       "3  4  26906.184429\n",
       "4  5  23470.408528"
      ]
     },
     "execution_count": 209,
     "metadata": {},
     "output_type": "execute_result"
    }
   ],
   "source": [
    "# Create a Dictionary that holds the list values for k and inertia\n",
    "elbow_data = {\"k\": k_values, \"inertia\": inertia}\n",
    "\n",
    "# Create a DataFrame using the elbow_data Dictionary\n",
    "df_elbow = pd.DataFrame(elbow_data)\n",
    "\n",
    "# Review the DataFrame\n",
    "df_elbow.head()"
   ]
  },
  {
   "cell_type": "code",
   "execution_count": 210,
   "id": "fc3ab9b6",
   "metadata": {},
   "outputs": [
    {
     "data": {},
     "metadata": {},
     "output_type": "display_data"
    },
    {
     "data": {
      "application/vnd.holoviews_exec.v0+json": "",
      "text/html": [
       "<div id='p3803'>\n",
       "  <div id=\"f1e63dff-1b18-4b9c-9392-adfade3a1af8\" data-root-id=\"p3803\" style=\"display: contents;\"></div>\n",
       "</div>\n",
       "<script type=\"application/javascript\">(function(root) {\n",
       "  var docs_json = {\"c2b6097d-071e-413d-a838-11dffa0b444e\":{\"version\":\"3.3.4\",\"title\":\"Bokeh Application\",\"roots\":[{\"type\":\"object\",\"name\":\"Row\",\"id\":\"p3803\",\"attributes\":{\"name\":\"Row09601\",\"tags\":[\"embedded\"],\"stylesheets\":[\"\\n:host(.pn-loading.pn-arc):before, .pn-loading.pn-arc:before {\\n  background-image: url(\\\"data:image/svg+xml;base64,PHN2ZyB4bWxucz0iaHR0cDovL3d3dy53My5vcmcvMjAwMC9zdmciIHN0eWxlPSJtYXJnaW46IGF1dG87IGJhY2tncm91bmQ6IG5vbmU7IGRpc3BsYXk6IGJsb2NrOyBzaGFwZS1yZW5kZXJpbmc6IGF1dG87IiB2aWV3Qm94PSIwIDAgMTAwIDEwMCIgcHJlc2VydmVBc3BlY3RSYXRpbz0ieE1pZFlNaWQiPiAgPGNpcmNsZSBjeD0iNTAiIGN5PSI1MCIgZmlsbD0ibm9uZSIgc3Ryb2tlPSIjYzNjM2MzIiBzdHJva2Utd2lkdGg9IjEwIiByPSIzNSIgc3Ryb2tlLWRhc2hhcnJheT0iMTY0LjkzMzYxNDMxMzQ2NDE1IDU2Ljk3Nzg3MTQzNzgyMTM4Ij4gICAgPGFuaW1hdGVUcmFuc2Zvcm0gYXR0cmlidXRlTmFtZT0idHJhbnNmb3JtIiB0eXBlPSJyb3RhdGUiIHJlcGVhdENvdW50PSJpbmRlZmluaXRlIiBkdXI9IjFzIiB2YWx1ZXM9IjAgNTAgNTA7MzYwIDUwIDUwIiBrZXlUaW1lcz0iMDsxIj48L2FuaW1hdGVUcmFuc2Zvcm0+ICA8L2NpcmNsZT48L3N2Zz4=\\\");\\n  background-size: auto calc(min(50%, 400px));\\n}\",{\"type\":\"object\",\"name\":\"ImportedStyleSheet\",\"id\":\"p3806\",\"attributes\":{\"url\":\"https://cdn.holoviz.org/panel/1.3.8/dist/css/loading.css\"}},{\"type\":\"object\",\"name\":\"ImportedStyleSheet\",\"id\":\"p3863\",\"attributes\":{\"url\":\"https://cdn.holoviz.org/panel/1.3.8/dist/css/listpanel.css\"}},{\"type\":\"object\",\"name\":\"ImportedStyleSheet\",\"id\":\"p3804\",\"attributes\":{\"url\":\"https://cdn.holoviz.org/panel/1.3.8/dist/bundled/theme/default.css\"}},{\"type\":\"object\",\"name\":\"ImportedStyleSheet\",\"id\":\"p3805\",\"attributes\":{\"url\":\"https://cdn.holoviz.org/panel/1.3.8/dist/bundled/theme/native.css\"}}],\"min_width\":700,\"margin\":0,\"sizing_mode\":\"stretch_width\",\"align\":\"start\",\"children\":[{\"type\":\"object\",\"name\":\"Spacer\",\"id\":\"p3807\",\"attributes\":{\"name\":\"HSpacer09608\",\"stylesheets\":[\"\\n:host(.pn-loading.pn-arc):before, .pn-loading.pn-arc:before {\\n  background-image: url(\\\"data:image/svg+xml;base64,PHN2ZyB4bWxucz0iaHR0cDovL3d3dy53My5vcmcvMjAwMC9zdmciIHN0eWxlPSJtYXJnaW46IGF1dG87IGJhY2tncm91bmQ6IG5vbmU7IGRpc3BsYXk6IGJsb2NrOyBzaGFwZS1yZW5kZXJpbmc6IGF1dG87IiB2aWV3Qm94PSIwIDAgMTAwIDEwMCIgcHJlc2VydmVBc3BlY3RSYXRpbz0ieE1pZFlNaWQiPiAgPGNpcmNsZSBjeD0iNTAiIGN5PSI1MCIgZmlsbD0ibm9uZSIgc3Ryb2tlPSIjYzNjM2MzIiBzdHJva2Utd2lkdGg9IjEwIiByPSIzNSIgc3Ryb2tlLWRhc2hhcnJheT0iMTY0LjkzMzYxNDMxMzQ2NDE1IDU2Ljk3Nzg3MTQzNzgyMTM4Ij4gICAgPGFuaW1hdGVUcmFuc2Zvcm0gYXR0cmlidXRlTmFtZT0idHJhbnNmb3JtIiB0eXBlPSJyb3RhdGUiIHJlcGVhdENvdW50PSJpbmRlZmluaXRlIiBkdXI9IjFzIiB2YWx1ZXM9IjAgNTAgNTA7MzYwIDUwIDUwIiBrZXlUaW1lcz0iMDsxIj48L2FuaW1hdGVUcmFuc2Zvcm0+ICA8L2NpcmNsZT48L3N2Zz4=\\\");\\n  background-size: auto calc(min(50%, 400px));\\n}\",{\"id\":\"p3806\"},{\"id\":\"p3804\"},{\"id\":\"p3805\"}],\"margin\":0,\"sizing_mode\":\"stretch_width\",\"align\":\"start\"}},{\"type\":\"object\",\"name\":\"Figure\",\"id\":\"p3815\",\"attributes\":{\"width\":700,\"height\":300,\"margin\":[5,10],\"sizing_mode\":\"fixed\",\"align\":\"start\",\"x_range\":{\"type\":\"object\",\"name\":\"Range1d\",\"id\":\"p3808\",\"attributes\":{\"tags\":[[[\"k\",\"k\",null]],[]],\"start\":1.0,\"end\":10.0,\"reset_start\":1.0,\"reset_end\":10.0}},\"y_range\":{\"type\":\"object\",\"name\":\"Range1d\",\"id\":\"p3809\",\"attributes\":{\"tags\":[[[\"inertia\",\"inertia\",null]],{\"type\":\"map\",\"entries\":[[\"invert_yaxis\",false],[\"autorange\",false]]}],\"start\":15367.033085420291,\"end\":49638.36859067955,\"reset_start\":15367.033085420291,\"reset_end\":49638.36859067955}},\"x_scale\":{\"type\":\"object\",\"name\":\"LinearScale\",\"id\":\"p3825\"},\"y_scale\":{\"type\":\"object\",\"name\":\"LinearScale\",\"id\":\"p3826\"},\"title\":{\"type\":\"object\",\"name\":\"Title\",\"id\":\"p3818\",\"attributes\":{\"text\":\"Elbow Curve\",\"text_color\":\"black\",\"text_font_size\":\"12pt\"}},\"renderers\":[{\"type\":\"object\",\"name\":\"GlyphRenderer\",\"id\":\"p3855\",\"attributes\":{\"data_source\":{\"type\":\"object\",\"name\":\"ColumnDataSource\",\"id\":\"p3846\",\"attributes\":{\"selected\":{\"type\":\"object\",\"name\":\"Selection\",\"id\":\"p3847\",\"attributes\":{\"indices\":[],\"line_indices\":[]}},\"selection_policy\":{\"type\":\"object\",\"name\":\"UnionRenderers\",\"id\":\"p3848\"},\"data\":{\"type\":\"map\",\"entries\":[[\"k\",{\"type\":\"ndarray\",\"array\":{\"type\":\"bytes\",\"data\":\"AQAAAAIAAAADAAAABAAAAAUAAAAGAAAABwAAAAgAAAAJAAAACgAAAA==\"},\"shape\":[10],\"dtype\":\"int32\",\"order\":\"little\"}],[\"inertia\",{\"type\":\"ndarray\",\"array\":{\"type\":\"bytes\",\"data\":\"vo0fkc3X5kAMH95nwqXgQMrtyfKKc91AsLWvzYtG2kDTa1IlmuvWQAHn3PnHa9VAgoQODWRI00ACfnpS57/SQI4q87FeQtJAnpDQkr7L0UA=\"},\"shape\":[10],\"dtype\":\"float64\",\"order\":\"little\"}]]}}},\"view\":{\"type\":\"object\",\"name\":\"CDSView\",\"id\":\"p3856\",\"attributes\":{\"filter\":{\"type\":\"object\",\"name\":\"AllIndices\",\"id\":\"p3857\"}}},\"glyph\":{\"type\":\"object\",\"name\":\"Line\",\"id\":\"p3852\",\"attributes\":{\"tags\":[\"apply_ranges\"],\"x\":{\"type\":\"field\",\"field\":\"k\"},\"y\":{\"type\":\"field\",\"field\":\"inertia\"},\"line_color\":\"#30a2da\",\"line_width\":2}},\"selection_glyph\":{\"type\":\"object\",\"name\":\"Line\",\"id\":\"p3858\",\"attributes\":{\"tags\":[\"apply_ranges\"],\"x\":{\"type\":\"field\",\"field\":\"k\"},\"y\":{\"type\":\"field\",\"field\":\"inertia\"},\"line_color\":\"#30a2da\",\"line_width\":2}},\"nonselection_glyph\":{\"type\":\"object\",\"name\":\"Line\",\"id\":\"p3853\",\"attributes\":{\"tags\":[\"apply_ranges\"],\"x\":{\"type\":\"field\",\"field\":\"k\"},\"y\":{\"type\":\"field\",\"field\":\"inertia\"},\"line_color\":\"#30a2da\",\"line_alpha\":0.1,\"line_width\":2}},\"muted_glyph\":{\"type\":\"object\",\"name\":\"Line\",\"id\":\"p3854\",\"attributes\":{\"tags\":[\"apply_ranges\"],\"x\":{\"type\":\"field\",\"field\":\"k\"},\"y\":{\"type\":\"field\",\"field\":\"inertia\"},\"line_color\":\"#30a2da\",\"line_alpha\":0.2,\"line_width\":2}}}}],\"toolbar\":{\"type\":\"object\",\"name\":\"Toolbar\",\"id\":\"p3824\",\"attributes\":{\"tools\":[{\"type\":\"object\",\"name\":\"WheelZoomTool\",\"id\":\"p3813\",\"attributes\":{\"tags\":[\"hv_created\"],\"renderers\":\"auto\",\"zoom_together\":\"none\"}},{\"type\":\"object\",\"name\":\"HoverTool\",\"id\":\"p3814\",\"attributes\":{\"tags\":[\"hv_created\"],\"renderers\":[{\"id\":\"p3855\"}],\"tooltips\":[[\"k\",\"@{k}\"],[\"inertia\",\"@{inertia}\"]]}},{\"type\":\"object\",\"name\":\"SaveTool\",\"id\":\"p3837\"},{\"type\":\"object\",\"name\":\"PanTool\",\"id\":\"p3838\"},{\"type\":\"object\",\"name\":\"BoxZoomTool\",\"id\":\"p3839\",\"attributes\":{\"overlay\":{\"type\":\"object\",\"name\":\"BoxAnnotation\",\"id\":\"p3840\",\"attributes\":{\"syncable\":false,\"level\":\"overlay\",\"visible\":false,\"left\":{\"type\":\"number\",\"value\":\"nan\"},\"right\":{\"type\":\"number\",\"value\":\"nan\"},\"top\":{\"type\":\"number\",\"value\":\"nan\"},\"bottom\":{\"type\":\"number\",\"value\":\"nan\"},\"left_units\":\"canvas\",\"right_units\":\"canvas\",\"top_units\":\"canvas\",\"bottom_units\":\"canvas\",\"line_color\":\"black\",\"line_alpha\":1.0,\"line_width\":2,\"line_dash\":[4,4],\"fill_color\":\"lightgrey\",\"fill_alpha\":0.5}}}},{\"type\":\"object\",\"name\":\"ResetTool\",\"id\":\"p3845\"}],\"active_drag\":{\"id\":\"p3838\"},\"active_scroll\":{\"id\":\"p3813\"}}},\"left\":[{\"type\":\"object\",\"name\":\"LinearAxis\",\"id\":\"p3832\",\"attributes\":{\"ticker\":{\"type\":\"object\",\"name\":\"BasicTicker\",\"id\":\"p3833\",\"attributes\":{\"mantissas\":[1,2,5]}},\"formatter\":{\"type\":\"object\",\"name\":\"BasicTickFormatter\",\"id\":\"p3834\"},\"axis_label\":\"inertia\",\"major_label_policy\":{\"type\":\"object\",\"name\":\"AllLabels\",\"id\":\"p3835\"}}}],\"below\":[{\"type\":\"object\",\"name\":\"LinearAxis\",\"id\":\"p3827\",\"attributes\":{\"ticker\":{\"type\":\"object\",\"name\":\"BasicTicker\",\"id\":\"p3828\",\"attributes\":{\"desired_num_ticks\":10,\"mantissas\":[1,2,5]}},\"formatter\":{\"type\":\"object\",\"name\":\"BasicTickFormatter\",\"id\":\"p3829\"},\"axis_label\":\"k\",\"major_label_policy\":{\"type\":\"object\",\"name\":\"AllLabels\",\"id\":\"p3830\"}}}],\"center\":[{\"type\":\"object\",\"name\":\"Grid\",\"id\":\"p3831\",\"attributes\":{\"axis\":{\"id\":\"p3827\"},\"grid_line_color\":null}},{\"type\":\"object\",\"name\":\"Grid\",\"id\":\"p3836\",\"attributes\":{\"dimension\":1,\"axis\":{\"id\":\"p3832\"},\"grid_line_color\":null}}],\"min_border_top\":10,\"min_border_bottom\":10,\"min_border_left\":10,\"min_border_right\":10,\"output_backend\":\"webgl\"}},{\"type\":\"object\",\"name\":\"Spacer\",\"id\":\"p3861\",\"attributes\":{\"name\":\"HSpacer09609\",\"stylesheets\":[\"\\n:host(.pn-loading.pn-arc):before, .pn-loading.pn-arc:before {\\n  background-image: url(\\\"data:image/svg+xml;base64,PHN2ZyB4bWxucz0iaHR0cDovL3d3dy53My5vcmcvMjAwMC9zdmciIHN0eWxlPSJtYXJnaW46IGF1dG87IGJhY2tncm91bmQ6IG5vbmU7IGRpc3BsYXk6IGJsb2NrOyBzaGFwZS1yZW5kZXJpbmc6IGF1dG87IiB2aWV3Qm94PSIwIDAgMTAwIDEwMCIgcHJlc2VydmVBc3BlY3RSYXRpbz0ieE1pZFlNaWQiPiAgPGNpcmNsZSBjeD0iNTAiIGN5PSI1MCIgZmlsbD0ibm9uZSIgc3Ryb2tlPSIjYzNjM2MzIiBzdHJva2Utd2lkdGg9IjEwIiByPSIzNSIgc3Ryb2tlLWRhc2hhcnJheT0iMTY0LjkzMzYxNDMxMzQ2NDE1IDU2Ljk3Nzg3MTQzNzgyMTM4Ij4gICAgPGFuaW1hdGVUcmFuc2Zvcm0gYXR0cmlidXRlTmFtZT0idHJhbnNmb3JtIiB0eXBlPSJyb3RhdGUiIHJlcGVhdENvdW50PSJpbmRlZmluaXRlIiBkdXI9IjFzIiB2YWx1ZXM9IjAgNTAgNTA7MzYwIDUwIDUwIiBrZXlUaW1lcz0iMDsxIj48L2FuaW1hdGVUcmFuc2Zvcm0+ICA8L2NpcmNsZT48L3N2Zz4=\\\");\\n  background-size: auto calc(min(50%, 400px));\\n}\",{\"id\":\"p3806\"},{\"id\":\"p3804\"},{\"id\":\"p3805\"}],\"margin\":0,\"sizing_mode\":\"stretch_width\",\"align\":\"start\"}}]}}],\"defs\":[{\"type\":\"model\",\"name\":\"ReactiveHTML1\"},{\"type\":\"model\",\"name\":\"FlexBox1\",\"properties\":[{\"name\":\"align_content\",\"kind\":\"Any\",\"default\":\"flex-start\"},{\"name\":\"align_items\",\"kind\":\"Any\",\"default\":\"flex-start\"},{\"name\":\"flex_direction\",\"kind\":\"Any\",\"default\":\"row\"},{\"name\":\"flex_wrap\",\"kind\":\"Any\",\"default\":\"wrap\"},{\"name\":\"justify_content\",\"kind\":\"Any\",\"default\":\"flex-start\"}]},{\"type\":\"model\",\"name\":\"FloatPanel1\",\"properties\":[{\"name\":\"config\",\"kind\":\"Any\",\"default\":{\"type\":\"map\"}},{\"name\":\"contained\",\"kind\":\"Any\",\"default\":true},{\"name\":\"position\",\"kind\":\"Any\",\"default\":\"right-top\"},{\"name\":\"offsetx\",\"kind\":\"Any\",\"default\":null},{\"name\":\"offsety\",\"kind\":\"Any\",\"default\":null},{\"name\":\"theme\",\"kind\":\"Any\",\"default\":\"primary\"},{\"name\":\"status\",\"kind\":\"Any\",\"default\":\"normalized\"}]},{\"type\":\"model\",\"name\":\"GridStack1\",\"properties\":[{\"name\":\"mode\",\"kind\":\"Any\",\"default\":\"warn\"},{\"name\":\"ncols\",\"kind\":\"Any\",\"default\":null},{\"name\":\"nrows\",\"kind\":\"Any\",\"default\":null},{\"name\":\"allow_resize\",\"kind\":\"Any\",\"default\":true},{\"name\":\"allow_drag\",\"kind\":\"Any\",\"default\":true},{\"name\":\"state\",\"kind\":\"Any\",\"default\":[]}]},{\"type\":\"model\",\"name\":\"drag1\",\"properties\":[{\"name\":\"slider_width\",\"kind\":\"Any\",\"default\":5},{\"name\":\"slider_color\",\"kind\":\"Any\",\"default\":\"black\"},{\"name\":\"value\",\"kind\":\"Any\",\"default\":50}]},{\"type\":\"model\",\"name\":\"click1\",\"properties\":[{\"name\":\"terminal_output\",\"kind\":\"Any\",\"default\":\"\"},{\"name\":\"debug_name\",\"kind\":\"Any\",\"default\":\"\"},{\"name\":\"clears\",\"kind\":\"Any\",\"default\":0}]},{\"type\":\"model\",\"name\":\"copy_to_clipboard1\",\"properties\":[{\"name\":\"fill\",\"kind\":\"Any\",\"default\":\"none\"},{\"name\":\"value\",\"kind\":\"Any\",\"default\":null}]},{\"type\":\"model\",\"name\":\"FastWrapper1\",\"properties\":[{\"name\":\"object\",\"kind\":\"Any\",\"default\":null},{\"name\":\"style\",\"kind\":\"Any\",\"default\":null}]},{\"type\":\"model\",\"name\":\"NotificationAreaBase1\",\"properties\":[{\"name\":\"js_events\",\"kind\":\"Any\",\"default\":{\"type\":\"map\"}},{\"name\":\"position\",\"kind\":\"Any\",\"default\":\"bottom-right\"},{\"name\":\"_clear\",\"kind\":\"Any\",\"default\":0}]},{\"type\":\"model\",\"name\":\"NotificationArea1\",\"properties\":[{\"name\":\"js_events\",\"kind\":\"Any\",\"default\":{\"type\":\"map\"}},{\"name\":\"notifications\",\"kind\":\"Any\",\"default\":[]},{\"name\":\"position\",\"kind\":\"Any\",\"default\":\"bottom-right\"},{\"name\":\"_clear\",\"kind\":\"Any\",\"default\":0},{\"name\":\"types\",\"kind\":\"Any\",\"default\":[{\"type\":\"map\",\"entries\":[[\"type\",\"warning\"],[\"background\",\"#ffc107\"],[\"icon\",{\"type\":\"map\",\"entries\":[[\"className\",\"fas fa-exclamation-triangle\"],[\"tagName\",\"i\"],[\"color\",\"white\"]]}]]},{\"type\":\"map\",\"entries\":[[\"type\",\"info\"],[\"background\",\"#007bff\"],[\"icon\",{\"type\":\"map\",\"entries\":[[\"className\",\"fas fa-info-circle\"],[\"tagName\",\"i\"],[\"color\",\"white\"]]}]]}]}]},{\"type\":\"model\",\"name\":\"Notification\",\"properties\":[{\"name\":\"background\",\"kind\":\"Any\",\"default\":null},{\"name\":\"duration\",\"kind\":\"Any\",\"default\":3000},{\"name\":\"icon\",\"kind\":\"Any\",\"default\":null},{\"name\":\"message\",\"kind\":\"Any\",\"default\":\"\"},{\"name\":\"notification_type\",\"kind\":\"Any\",\"default\":null},{\"name\":\"_destroyed\",\"kind\":\"Any\",\"default\":false}]},{\"type\":\"model\",\"name\":\"TemplateActions1\",\"properties\":[{\"name\":\"open_modal\",\"kind\":\"Any\",\"default\":0},{\"name\":\"close_modal\",\"kind\":\"Any\",\"default\":0}]},{\"type\":\"model\",\"name\":\"BootstrapTemplateActions1\",\"properties\":[{\"name\":\"open_modal\",\"kind\":\"Any\",\"default\":0},{\"name\":\"close_modal\",\"kind\":\"Any\",\"default\":0}]},{\"type\":\"model\",\"name\":\"MaterialTemplateActions1\",\"properties\":[{\"name\":\"open_modal\",\"kind\":\"Any\",\"default\":0},{\"name\":\"close_modal\",\"kind\":\"Any\",\"default\":0}]}]}};\n",
       "  var render_items = [{\"docid\":\"c2b6097d-071e-413d-a838-11dffa0b444e\",\"roots\":{\"p3803\":\"f1e63dff-1b18-4b9c-9392-adfade3a1af8\"},\"root_ids\":[\"p3803\"]}];\n",
       "  var docs = Object.values(docs_json)\n",
       "  if (!docs) {\n",
       "    return\n",
       "  }\n",
       "  const py_version = docs[0].version.replace('rc', '-rc.').replace('.dev', '-dev.')\n",
       "  function embed_document(root) {\n",
       "    var Bokeh = get_bokeh(root)\n",
       "    Bokeh.embed.embed_items_notebook(docs_json, render_items);\n",
       "    for (const render_item of render_items) {\n",
       "      for (const root_id of render_item.root_ids) {\n",
       "\tconst id_el = document.getElementById(root_id)\n",
       "\tif (id_el.children.length && (id_el.children[0].className === 'bk-root')) {\n",
       "\t  const root_el = id_el.children[0]\n",
       "\t  root_el.id = root_el.id + '-rendered'\n",
       "\t}\n",
       "      }\n",
       "    }\n",
       "  }\n",
       "  function get_bokeh(root) {\n",
       "    if (root.Bokeh === undefined) {\n",
       "      return null\n",
       "    } else if (root.Bokeh.version !== py_version) {\n",
       "      if (root.Bokeh.versions === undefined || !root.Bokeh.versions.has(py_version)) {\n",
       "\treturn null\n",
       "      }\n",
       "      return root.Bokeh.versions.get(py_version);\n",
       "    } else if (root.Bokeh.version === py_version) {\n",
       "      return root.Bokeh\n",
       "    }\n",
       "    return null\n",
       "  }\n",
       "  function is_loaded(root) {\n",
       "    var Bokeh = get_bokeh(root)\n",
       "    return (Bokeh != null && Bokeh.Panel !== undefined)\n",
       "  }\n",
       "  if (is_loaded(root)) {\n",
       "    embed_document(root);\n",
       "  } else {\n",
       "    var attempts = 0;\n",
       "    var timer = setInterval(function(root) {\n",
       "      if (is_loaded(root)) {\n",
       "        clearInterval(timer);\n",
       "        embed_document(root);\n",
       "      } else if (document.readyState == \"complete\") {\n",
       "        attempts++;\n",
       "        if (attempts > 200) {\n",
       "          clearInterval(timer);\n",
       "\t  var Bokeh = get_bokeh(root)\n",
       "\t  if (Bokeh == null || Bokeh.Panel == null) {\n",
       "            console.warn(\"Panel: ERROR: Unable to run Panel code because Bokeh or Panel library is missing\");\n",
       "\t  } else {\n",
       "\t    console.warn(\"Panel: WARNING: Attempting to render but not all required libraries could be resolved.\")\n",
       "\t    embed_document(root)\n",
       "\t  }\n",
       "        }\n",
       "      }\n",
       "    }, 25, root)\n",
       "  }\n",
       "})(window);</script>"
      ],
      "text/plain": [
       ":Curve   [k]   (inertia)"
      ]
     },
     "execution_count": 210,
     "metadata": {
      "application/vnd.holoviews_exec.v0+json": {
       "id": "p3803"
      }
     },
     "output_type": "execute_result"
    }
   ],
   "source": [
    "# Plot the DataFrame\n",
    "df_elbow.hvplot.line(\n",
    "    x=\"k\", \n",
    "    y=\"inertia\", \n",
    "    title=\"Elbow Curve\", \n",
    "    xticks=k\n",
    ")\n"
   ]
  },
  {
   "cell_type": "markdown",
   "id": "a78fec3f",
   "metadata": {},
   "source": [
    "### Create Clusters"
   ]
  },
  {
   "cell_type": "code",
   "execution_count": 211,
   "id": "a9d90b23",
   "metadata": {},
   "outputs": [],
   "source": [
    "# Initialize the K-Means model with n_clusters=2\n",
    "model = KMeans(n_clusters=5)"
   ]
  },
  {
   "cell_type": "code",
   "execution_count": 212,
   "id": "a31eb710",
   "metadata": {},
   "outputs": [
    {
     "data": {
      "text/html": [
       "<style>#sk-container-id-14 {\n",
       "  /* Definition of color scheme common for light and dark mode */\n",
       "  --sklearn-color-text: black;\n",
       "  --sklearn-color-line: gray;\n",
       "  /* Definition of color scheme for unfitted estimators */\n",
       "  --sklearn-color-unfitted-level-0: #fff5e6;\n",
       "  --sklearn-color-unfitted-level-1: #f6e4d2;\n",
       "  --sklearn-color-unfitted-level-2: #ffe0b3;\n",
       "  --sklearn-color-unfitted-level-3: chocolate;\n",
       "  /* Definition of color scheme for fitted estimators */\n",
       "  --sklearn-color-fitted-level-0: #f0f8ff;\n",
       "  --sklearn-color-fitted-level-1: #d4ebff;\n",
       "  --sklearn-color-fitted-level-2: #b3dbfd;\n",
       "  --sklearn-color-fitted-level-3: cornflowerblue;\n",
       "\n",
       "  /* Specific color for light theme */\n",
       "  --sklearn-color-text-on-default-background: var(--sg-text-color, var(--theme-code-foreground, var(--jp-content-font-color1, black)));\n",
       "  --sklearn-color-background: var(--sg-background-color, var(--theme-background, var(--jp-layout-color0, white)));\n",
       "  --sklearn-color-border-box: var(--sg-text-color, var(--theme-code-foreground, var(--jp-content-font-color1, black)));\n",
       "  --sklearn-color-icon: #696969;\n",
       "\n",
       "  @media (prefers-color-scheme: dark) {\n",
       "    /* Redefinition of color scheme for dark theme */\n",
       "    --sklearn-color-text-on-default-background: var(--sg-text-color, var(--theme-code-foreground, var(--jp-content-font-color1, white)));\n",
       "    --sklearn-color-background: var(--sg-background-color, var(--theme-background, var(--jp-layout-color0, #111)));\n",
       "    --sklearn-color-border-box: var(--sg-text-color, var(--theme-code-foreground, var(--jp-content-font-color1, white)));\n",
       "    --sklearn-color-icon: #878787;\n",
       "  }\n",
       "}\n",
       "\n",
       "#sk-container-id-14 {\n",
       "  color: var(--sklearn-color-text);\n",
       "}\n",
       "\n",
       "#sk-container-id-14 pre {\n",
       "  padding: 0;\n",
       "}\n",
       "\n",
       "#sk-container-id-14 input.sk-hidden--visually {\n",
       "  border: 0;\n",
       "  clip: rect(1px 1px 1px 1px);\n",
       "  clip: rect(1px, 1px, 1px, 1px);\n",
       "  height: 1px;\n",
       "  margin: -1px;\n",
       "  overflow: hidden;\n",
       "  padding: 0;\n",
       "  position: absolute;\n",
       "  width: 1px;\n",
       "}\n",
       "\n",
       "#sk-container-id-14 div.sk-dashed-wrapped {\n",
       "  border: 1px dashed var(--sklearn-color-line);\n",
       "  margin: 0 0.4em 0.5em 0.4em;\n",
       "  box-sizing: border-box;\n",
       "  padding-bottom: 0.4em;\n",
       "  background-color: var(--sklearn-color-background);\n",
       "}\n",
       "\n",
       "#sk-container-id-14 div.sk-container {\n",
       "  /* jupyter's `normalize.less` sets `[hidden] { display: none; }`\n",
       "     but bootstrap.min.css set `[hidden] { display: none !important; }`\n",
       "     so we also need the `!important` here to be able to override the\n",
       "     default hidden behavior on the sphinx rendered scikit-learn.org.\n",
       "     See: https://github.com/scikit-learn/scikit-learn/issues/21755 */\n",
       "  display: inline-block !important;\n",
       "  position: relative;\n",
       "}\n",
       "\n",
       "#sk-container-id-14 div.sk-text-repr-fallback {\n",
       "  display: none;\n",
       "}\n",
       "\n",
       "div.sk-parallel-item,\n",
       "div.sk-serial,\n",
       "div.sk-item {\n",
       "  /* draw centered vertical line to link estimators */\n",
       "  background-image: linear-gradient(var(--sklearn-color-text-on-default-background), var(--sklearn-color-text-on-default-background));\n",
       "  background-size: 2px 100%;\n",
       "  background-repeat: no-repeat;\n",
       "  background-position: center center;\n",
       "}\n",
       "\n",
       "/* Parallel-specific style estimator block */\n",
       "\n",
       "#sk-container-id-14 div.sk-parallel-item::after {\n",
       "  content: \"\";\n",
       "  width: 100%;\n",
       "  border-bottom: 2px solid var(--sklearn-color-text-on-default-background);\n",
       "  flex-grow: 1;\n",
       "}\n",
       "\n",
       "#sk-container-id-14 div.sk-parallel {\n",
       "  display: flex;\n",
       "  align-items: stretch;\n",
       "  justify-content: center;\n",
       "  background-color: var(--sklearn-color-background);\n",
       "  position: relative;\n",
       "}\n",
       "\n",
       "#sk-container-id-14 div.sk-parallel-item {\n",
       "  display: flex;\n",
       "  flex-direction: column;\n",
       "}\n",
       "\n",
       "#sk-container-id-14 div.sk-parallel-item:first-child::after {\n",
       "  align-self: flex-end;\n",
       "  width: 50%;\n",
       "}\n",
       "\n",
       "#sk-container-id-14 div.sk-parallel-item:last-child::after {\n",
       "  align-self: flex-start;\n",
       "  width: 50%;\n",
       "}\n",
       "\n",
       "#sk-container-id-14 div.sk-parallel-item:only-child::after {\n",
       "  width: 0;\n",
       "}\n",
       "\n",
       "/* Serial-specific style estimator block */\n",
       "\n",
       "#sk-container-id-14 div.sk-serial {\n",
       "  display: flex;\n",
       "  flex-direction: column;\n",
       "  align-items: center;\n",
       "  background-color: var(--sklearn-color-background);\n",
       "  padding-right: 1em;\n",
       "  padding-left: 1em;\n",
       "}\n",
       "\n",
       "\n",
       "/* Toggleable style: style used for estimator/Pipeline/ColumnTransformer box that is\n",
       "clickable and can be expanded/collapsed.\n",
       "- Pipeline and ColumnTransformer use this feature and define the default style\n",
       "- Estimators will overwrite some part of the style using the `sk-estimator` class\n",
       "*/\n",
       "\n",
       "/* Pipeline and ColumnTransformer style (default) */\n",
       "\n",
       "#sk-container-id-14 div.sk-toggleable {\n",
       "  /* Default theme specific background. It is overwritten whether we have a\n",
       "  specific estimator or a Pipeline/ColumnTransformer */\n",
       "  background-color: var(--sklearn-color-background);\n",
       "}\n",
       "\n",
       "/* Toggleable label */\n",
       "#sk-container-id-14 label.sk-toggleable__label {\n",
       "  cursor: pointer;\n",
       "  display: block;\n",
       "  width: 100%;\n",
       "  margin-bottom: 0;\n",
       "  padding: 0.5em;\n",
       "  box-sizing: border-box;\n",
       "  text-align: center;\n",
       "}\n",
       "\n",
       "#sk-container-id-14 label.sk-toggleable__label-arrow:before {\n",
       "  /* Arrow on the left of the label */\n",
       "  content: \"▸\";\n",
       "  float: left;\n",
       "  margin-right: 0.25em;\n",
       "  color: var(--sklearn-color-icon);\n",
       "}\n",
       "\n",
       "#sk-container-id-14 label.sk-toggleable__label-arrow:hover:before {\n",
       "  color: var(--sklearn-color-text);\n",
       "}\n",
       "\n",
       "/* Toggleable content - dropdown */\n",
       "\n",
       "#sk-container-id-14 div.sk-toggleable__content {\n",
       "  max-height: 0;\n",
       "  max-width: 0;\n",
       "  overflow: hidden;\n",
       "  text-align: left;\n",
       "  /* unfitted */\n",
       "  background-color: var(--sklearn-color-unfitted-level-0);\n",
       "}\n",
       "\n",
       "#sk-container-id-14 div.sk-toggleable__content.fitted {\n",
       "  /* fitted */\n",
       "  background-color: var(--sklearn-color-fitted-level-0);\n",
       "}\n",
       "\n",
       "#sk-container-id-14 div.sk-toggleable__content pre {\n",
       "  margin: 0.2em;\n",
       "  border-radius: 0.25em;\n",
       "  color: var(--sklearn-color-text);\n",
       "  /* unfitted */\n",
       "  background-color: var(--sklearn-color-unfitted-level-0);\n",
       "}\n",
       "\n",
       "#sk-container-id-14 div.sk-toggleable__content.fitted pre {\n",
       "  /* unfitted */\n",
       "  background-color: var(--sklearn-color-fitted-level-0);\n",
       "}\n",
       "\n",
       "#sk-container-id-14 input.sk-toggleable__control:checked~div.sk-toggleable__content {\n",
       "  /* Expand drop-down */\n",
       "  max-height: 200px;\n",
       "  max-width: 100%;\n",
       "  overflow: auto;\n",
       "}\n",
       "\n",
       "#sk-container-id-14 input.sk-toggleable__control:checked~label.sk-toggleable__label-arrow:before {\n",
       "  content: \"▾\";\n",
       "}\n",
       "\n",
       "/* Pipeline/ColumnTransformer-specific style */\n",
       "\n",
       "#sk-container-id-14 div.sk-label input.sk-toggleable__control:checked~label.sk-toggleable__label {\n",
       "  color: var(--sklearn-color-text);\n",
       "  background-color: var(--sklearn-color-unfitted-level-2);\n",
       "}\n",
       "\n",
       "#sk-container-id-14 div.sk-label.fitted input.sk-toggleable__control:checked~label.sk-toggleable__label {\n",
       "  background-color: var(--sklearn-color-fitted-level-2);\n",
       "}\n",
       "\n",
       "/* Estimator-specific style */\n",
       "\n",
       "/* Colorize estimator box */\n",
       "#sk-container-id-14 div.sk-estimator input.sk-toggleable__control:checked~label.sk-toggleable__label {\n",
       "  /* unfitted */\n",
       "  background-color: var(--sklearn-color-unfitted-level-2);\n",
       "}\n",
       "\n",
       "#sk-container-id-14 div.sk-estimator.fitted input.sk-toggleable__control:checked~label.sk-toggleable__label {\n",
       "  /* fitted */\n",
       "  background-color: var(--sklearn-color-fitted-level-2);\n",
       "}\n",
       "\n",
       "#sk-container-id-14 div.sk-label label.sk-toggleable__label,\n",
       "#sk-container-id-14 div.sk-label label {\n",
       "  /* The background is the default theme color */\n",
       "  color: var(--sklearn-color-text-on-default-background);\n",
       "}\n",
       "\n",
       "/* On hover, darken the color of the background */\n",
       "#sk-container-id-14 div.sk-label:hover label.sk-toggleable__label {\n",
       "  color: var(--sklearn-color-text);\n",
       "  background-color: var(--sklearn-color-unfitted-level-2);\n",
       "}\n",
       "\n",
       "/* Label box, darken color on hover, fitted */\n",
       "#sk-container-id-14 div.sk-label.fitted:hover label.sk-toggleable__label.fitted {\n",
       "  color: var(--sklearn-color-text);\n",
       "  background-color: var(--sklearn-color-fitted-level-2);\n",
       "}\n",
       "\n",
       "/* Estimator label */\n",
       "\n",
       "#sk-container-id-14 div.sk-label label {\n",
       "  font-family: monospace;\n",
       "  font-weight: bold;\n",
       "  display: inline-block;\n",
       "  line-height: 1.2em;\n",
       "}\n",
       "\n",
       "#sk-container-id-14 div.sk-label-container {\n",
       "  text-align: center;\n",
       "}\n",
       "\n",
       "/* Estimator-specific */\n",
       "#sk-container-id-14 div.sk-estimator {\n",
       "  font-family: monospace;\n",
       "  border: 1px dotted var(--sklearn-color-border-box);\n",
       "  border-radius: 0.25em;\n",
       "  box-sizing: border-box;\n",
       "  margin-bottom: 0.5em;\n",
       "  /* unfitted */\n",
       "  background-color: var(--sklearn-color-unfitted-level-0);\n",
       "}\n",
       "\n",
       "#sk-container-id-14 div.sk-estimator.fitted {\n",
       "  /* fitted */\n",
       "  background-color: var(--sklearn-color-fitted-level-0);\n",
       "}\n",
       "\n",
       "/* on hover */\n",
       "#sk-container-id-14 div.sk-estimator:hover {\n",
       "  /* unfitted */\n",
       "  background-color: var(--sklearn-color-unfitted-level-2);\n",
       "}\n",
       "\n",
       "#sk-container-id-14 div.sk-estimator.fitted:hover {\n",
       "  /* fitted */\n",
       "  background-color: var(--sklearn-color-fitted-level-2);\n",
       "}\n",
       "\n",
       "/* Specification for estimator info (e.g. \"i\" and \"?\") */\n",
       "\n",
       "/* Common style for \"i\" and \"?\" */\n",
       "\n",
       ".sk-estimator-doc-link,\n",
       "a:link.sk-estimator-doc-link,\n",
       "a:visited.sk-estimator-doc-link {\n",
       "  float: right;\n",
       "  font-size: smaller;\n",
       "  line-height: 1em;\n",
       "  font-family: monospace;\n",
       "  background-color: var(--sklearn-color-background);\n",
       "  border-radius: 1em;\n",
       "  height: 1em;\n",
       "  width: 1em;\n",
       "  text-decoration: none !important;\n",
       "  margin-left: 1ex;\n",
       "  /* unfitted */\n",
       "  border: var(--sklearn-color-unfitted-level-1) 1pt solid;\n",
       "  color: var(--sklearn-color-unfitted-level-1);\n",
       "}\n",
       "\n",
       ".sk-estimator-doc-link.fitted,\n",
       "a:link.sk-estimator-doc-link.fitted,\n",
       "a:visited.sk-estimator-doc-link.fitted {\n",
       "  /* fitted */\n",
       "  border: var(--sklearn-color-fitted-level-1) 1pt solid;\n",
       "  color: var(--sklearn-color-fitted-level-1);\n",
       "}\n",
       "\n",
       "/* On hover */\n",
       "div.sk-estimator:hover .sk-estimator-doc-link:hover,\n",
       ".sk-estimator-doc-link:hover,\n",
       "div.sk-label-container:hover .sk-estimator-doc-link:hover,\n",
       ".sk-estimator-doc-link:hover {\n",
       "  /* unfitted */\n",
       "  background-color: var(--sklearn-color-unfitted-level-3);\n",
       "  color: var(--sklearn-color-background);\n",
       "  text-decoration: none;\n",
       "}\n",
       "\n",
       "div.sk-estimator.fitted:hover .sk-estimator-doc-link.fitted:hover,\n",
       ".sk-estimator-doc-link.fitted:hover,\n",
       "div.sk-label-container:hover .sk-estimator-doc-link.fitted:hover,\n",
       ".sk-estimator-doc-link.fitted:hover {\n",
       "  /* fitted */\n",
       "  background-color: var(--sklearn-color-fitted-level-3);\n",
       "  color: var(--sklearn-color-background);\n",
       "  text-decoration: none;\n",
       "}\n",
       "\n",
       "/* Span, style for the box shown on hovering the info icon */\n",
       ".sk-estimator-doc-link span {\n",
       "  display: none;\n",
       "  z-index: 9999;\n",
       "  position: relative;\n",
       "  font-weight: normal;\n",
       "  right: .2ex;\n",
       "  padding: .5ex;\n",
       "  margin: .5ex;\n",
       "  width: min-content;\n",
       "  min-width: 20ex;\n",
       "  max-width: 50ex;\n",
       "  color: var(--sklearn-color-text);\n",
       "  box-shadow: 2pt 2pt 4pt #999;\n",
       "  /* unfitted */\n",
       "  background: var(--sklearn-color-unfitted-level-0);\n",
       "  border: .5pt solid var(--sklearn-color-unfitted-level-3);\n",
       "}\n",
       "\n",
       ".sk-estimator-doc-link.fitted span {\n",
       "  /* fitted */\n",
       "  background: var(--sklearn-color-fitted-level-0);\n",
       "  border: var(--sklearn-color-fitted-level-3);\n",
       "}\n",
       "\n",
       ".sk-estimator-doc-link:hover span {\n",
       "  display: block;\n",
       "}\n",
       "\n",
       "/* \"?\"-specific style due to the `<a>` HTML tag */\n",
       "\n",
       "#sk-container-id-14 a.estimator_doc_link {\n",
       "  float: right;\n",
       "  font-size: 1rem;\n",
       "  line-height: 1em;\n",
       "  font-family: monospace;\n",
       "  background-color: var(--sklearn-color-background);\n",
       "  border-radius: 1rem;\n",
       "  height: 1rem;\n",
       "  width: 1rem;\n",
       "  text-decoration: none;\n",
       "  /* unfitted */\n",
       "  color: var(--sklearn-color-unfitted-level-1);\n",
       "  border: var(--sklearn-color-unfitted-level-1) 1pt solid;\n",
       "}\n",
       "\n",
       "#sk-container-id-14 a.estimator_doc_link.fitted {\n",
       "  /* fitted */\n",
       "  border: var(--sklearn-color-fitted-level-1) 1pt solid;\n",
       "  color: var(--sklearn-color-fitted-level-1);\n",
       "}\n",
       "\n",
       "/* On hover */\n",
       "#sk-container-id-14 a.estimator_doc_link:hover {\n",
       "  /* unfitted */\n",
       "  background-color: var(--sklearn-color-unfitted-level-3);\n",
       "  color: var(--sklearn-color-background);\n",
       "  text-decoration: none;\n",
       "}\n",
       "\n",
       "#sk-container-id-14 a.estimator_doc_link.fitted:hover {\n",
       "  /* fitted */\n",
       "  background-color: var(--sklearn-color-fitted-level-3);\n",
       "}\n",
       "</style><div id=\"sk-container-id-14\" class=\"sk-top-container\"><div class=\"sk-text-repr-fallback\"><pre>KMeans(n_clusters=5)</pre><b>In a Jupyter environment, please rerun this cell to show the HTML representation or trust the notebook. <br />On GitHub, the HTML representation is unable to render, please try loading this page with nbviewer.org.</b></div><div class=\"sk-container\" hidden><div class=\"sk-item\"><div class=\"sk-estimator fitted sk-toggleable\"><input class=\"sk-toggleable__control sk-hidden--visually\" id=\"sk-estimator-id-14\" type=\"checkbox\" checked><label for=\"sk-estimator-id-14\" class=\"sk-toggleable__label fitted sk-toggleable__label-arrow fitted\">&nbsp;&nbsp;KMeans<a class=\"sk-estimator-doc-link fitted\" rel=\"noreferrer\" target=\"_blank\" href=\"https://scikit-learn.org/1.5/modules/generated/sklearn.cluster.KMeans.html\">?<span>Documentation for KMeans</span></a><span class=\"sk-estimator-doc-link fitted\">i<span>Fitted</span></span></label><div class=\"sk-toggleable__content fitted\"><pre>KMeans(n_clusters=5)</pre></div> </div></div></div></div>"
      ],
      "text/plain": [
       "KMeans(n_clusters=5)"
      ]
     },
     "execution_count": 212,
     "metadata": {},
     "output_type": "execute_result"
    }
   ],
   "source": [
    "# Fit the model sp500_scaled_df DataFrame\n",
    "model.fit(sp500_clustering_df)"
   ]
  },
  {
   "cell_type": "code",
   "execution_count": 213,
   "id": "6281c5e6",
   "metadata": {},
   "outputs": [
    {
     "data": {
      "text/plain": [
       "array([0, 0, 0, 0, 1, 1, 1, 1, 1, 0, 0, 0, 0, 0, 1, 1, 1, 1, 0, 0],\n",
       "      dtype=int32)"
      ]
     },
     "execution_count": 213,
     "metadata": {},
     "output_type": "execute_result"
    }
   ],
   "source": [
    "# Predict the model segments\n",
    "stock_clusters = model.predict(sp500_clustering_df)\n",
    "\n",
    "# View the stock segments\n",
    "stock_clusters[0:20]"
   ]
  },
  {
   "cell_type": "code",
   "execution_count": 214,
   "id": "80e91460",
   "metadata": {},
   "outputs": [
    {
     "data": {
      "text/html": [
       "<div>\n",
       "<style scoped>\n",
       "    .dataframe tbody tr th:only-of-type {\n",
       "        vertical-align: middle;\n",
       "    }\n",
       "\n",
       "    .dataframe tbody tr th {\n",
       "        vertical-align: top;\n",
       "    }\n",
       "\n",
       "    .dataframe thead th {\n",
       "        text-align: right;\n",
       "    }\n",
       "</style>\n",
       "<table border=\"1\" class=\"dataframe\">\n",
       "  <thead>\n",
       "    <tr style=\"text-align: right;\">\n",
       "      <th></th>\n",
       "      <th>Year</th>\n",
       "      <th>MeanOpen</th>\n",
       "      <th>MeanHigh</th>\n",
       "      <th>MeanLow</th>\n",
       "      <th>MeanClose</th>\n",
       "      <th>MeanVolume</th>\n",
       "      <th>AnnualReturn</th>\n",
       "      <th>AnnualVariance</th>\n",
       "      <th>GICS Sector_Communication Services</th>\n",
       "      <th>GICS Sector_Consumer Discretionary</th>\n",
       "      <th>...</th>\n",
       "      <th>Headquarters State_Wisconsin</th>\n",
       "      <th>Gender_F</th>\n",
       "      <th>Salary_Bins_(0, 5000000]</th>\n",
       "      <th>Salary_Bins_(10000000, 15000000]</th>\n",
       "      <th>Salary_Bins_(15000000, 20000000]</th>\n",
       "      <th>Salary_Bins_(20000000, 25000000]</th>\n",
       "      <th>Salary_Bins_(25000000, 50000000]</th>\n",
       "      <th>Salary_Bins_(5000000, 10000000]</th>\n",
       "      <th>Salary_Bins_(50000000, 300000000]</th>\n",
       "      <th>StockCluster</th>\n",
       "    </tr>\n",
       "    <tr>\n",
       "      <th>Ticker</th>\n",
       "      <th></th>\n",
       "      <th></th>\n",
       "      <th></th>\n",
       "      <th></th>\n",
       "      <th></th>\n",
       "      <th></th>\n",
       "      <th></th>\n",
       "      <th></th>\n",
       "      <th></th>\n",
       "      <th></th>\n",
       "      <th></th>\n",
       "      <th></th>\n",
       "      <th></th>\n",
       "      <th></th>\n",
       "      <th></th>\n",
       "      <th></th>\n",
       "      <th></th>\n",
       "      <th></th>\n",
       "      <th></th>\n",
       "      <th></th>\n",
       "      <th></th>\n",
       "    </tr>\n",
       "  </thead>\n",
       "  <tbody>\n",
       "    <tr>\n",
       "      <th>A</th>\n",
       "      <td>-1.564836</td>\n",
       "      <td>-0.382495</td>\n",
       "      <td>-0.382515</td>\n",
       "      <td>-0.382190</td>\n",
       "      <td>-0.382350</td>\n",
       "      <td>-0.145815</td>\n",
       "      <td>-0.302269</td>\n",
       "      <td>-0.083083</td>\n",
       "      <td>0</td>\n",
       "      <td>0</td>\n",
       "      <td>...</td>\n",
       "      <td>0</td>\n",
       "      <td>0</td>\n",
       "      <td>0</td>\n",
       "      <td>0</td>\n",
       "      <td>1</td>\n",
       "      <td>0</td>\n",
       "      <td>0</td>\n",
       "      <td>0</td>\n",
       "      <td>0</td>\n",
       "      <td>0</td>\n",
       "    </tr>\n",
       "    <tr>\n",
       "      <th>A</th>\n",
       "      <td>-1.177151</td>\n",
       "      <td>-0.365438</td>\n",
       "      <td>-0.365482</td>\n",
       "      <td>-0.364979</td>\n",
       "      <td>-0.365210</td>\n",
       "      <td>-0.165113</td>\n",
       "      <td>-0.054719</td>\n",
       "      <td>-0.082291</td>\n",
       "      <td>0</td>\n",
       "      <td>0</td>\n",
       "      <td>...</td>\n",
       "      <td>0</td>\n",
       "      <td>0</td>\n",
       "      <td>0</td>\n",
       "      <td>0</td>\n",
       "      <td>1</td>\n",
       "      <td>0</td>\n",
       "      <td>0</td>\n",
       "      <td>0</td>\n",
       "      <td>0</td>\n",
       "      <td>0</td>\n",
       "    </tr>\n",
       "    <tr>\n",
       "      <th>A</th>\n",
       "      <td>-0.789466</td>\n",
       "      <td>-0.292694</td>\n",
       "      <td>-0.293603</td>\n",
       "      <td>-0.291528</td>\n",
       "      <td>-0.292611</td>\n",
       "      <td>-0.174492</td>\n",
       "      <td>0.839018</td>\n",
       "      <td>-0.078835</td>\n",
       "      <td>0</td>\n",
       "      <td>0</td>\n",
       "      <td>...</td>\n",
       "      <td>0</td>\n",
       "      <td>0</td>\n",
       "      <td>0</td>\n",
       "      <td>0</td>\n",
       "      <td>1</td>\n",
       "      <td>0</td>\n",
       "      <td>0</td>\n",
       "      <td>0</td>\n",
       "      <td>0</td>\n",
       "      <td>0</td>\n",
       "    </tr>\n",
       "    <tr>\n",
       "      <th>A</th>\n",
       "      <td>-0.401781</td>\n",
       "      <td>-0.256734</td>\n",
       "      <td>-0.257028</td>\n",
       "      <td>-0.256470</td>\n",
       "      <td>-0.256948</td>\n",
       "      <td>-0.144547</td>\n",
       "      <td>-0.393886</td>\n",
       "      <td>-0.082629</td>\n",
       "      <td>0</td>\n",
       "      <td>0</td>\n",
       "      <td>...</td>\n",
       "      <td>0</td>\n",
       "      <td>0</td>\n",
       "      <td>0</td>\n",
       "      <td>0</td>\n",
       "      <td>1</td>\n",
       "      <td>0</td>\n",
       "      <td>0</td>\n",
       "      <td>0</td>\n",
       "      <td>0</td>\n",
       "      <td>0</td>\n",
       "    </tr>\n",
       "    <tr>\n",
       "      <th>A</th>\n",
       "      <td>-0.014096</td>\n",
       "      <td>-0.220566</td>\n",
       "      <td>-0.221267</td>\n",
       "      <td>-0.219721</td>\n",
       "      <td>-0.220364</td>\n",
       "      <td>-0.162124</td>\n",
       "      <td>0.443879</td>\n",
       "      <td>-0.081072</td>\n",
       "      <td>0</td>\n",
       "      <td>0</td>\n",
       "      <td>...</td>\n",
       "      <td>0</td>\n",
       "      <td>0</td>\n",
       "      <td>0</td>\n",
       "      <td>0</td>\n",
       "      <td>1</td>\n",
       "      <td>0</td>\n",
       "      <td>0</td>\n",
       "      <td>0</td>\n",
       "      <td>0</td>\n",
       "      <td>1</td>\n",
       "    </tr>\n",
       "  </tbody>\n",
       "</table>\n",
       "<p>5 rows × 77 columns</p>\n",
       "</div>"
      ],
      "text/plain": [
       "            Year  MeanOpen  MeanHigh   MeanLow  MeanClose  MeanVolume  \\\n",
       "Ticker                                                                  \n",
       "A      -1.564836 -0.382495 -0.382515 -0.382190  -0.382350   -0.145815   \n",
       "A      -1.177151 -0.365438 -0.365482 -0.364979  -0.365210   -0.165113   \n",
       "A      -0.789466 -0.292694 -0.293603 -0.291528  -0.292611   -0.174492   \n",
       "A      -0.401781 -0.256734 -0.257028 -0.256470  -0.256948   -0.144547   \n",
       "A      -0.014096 -0.220566 -0.221267 -0.219721  -0.220364   -0.162124   \n",
       "\n",
       "        AnnualReturn  AnnualVariance  GICS Sector_Communication Services  \\\n",
       "Ticker                                                                     \n",
       "A          -0.302269       -0.083083                                   0   \n",
       "A          -0.054719       -0.082291                                   0   \n",
       "A           0.839018       -0.078835                                   0   \n",
       "A          -0.393886       -0.082629                                   0   \n",
       "A           0.443879       -0.081072                                   0   \n",
       "\n",
       "        GICS Sector_Consumer Discretionary  ...  Headquarters State_Wisconsin  \\\n",
       "Ticker                                      ...                                 \n",
       "A                                        0  ...                             0   \n",
       "A                                        0  ...                             0   \n",
       "A                                        0  ...                             0   \n",
       "A                                        0  ...                             0   \n",
       "A                                        0  ...                             0   \n",
       "\n",
       "        Gender_F  Salary_Bins_(0, 5000000]  Salary_Bins_(10000000, 15000000]  \\\n",
       "Ticker                                                                         \n",
       "A              0                         0                                 0   \n",
       "A              0                         0                                 0   \n",
       "A              0                         0                                 0   \n",
       "A              0                         0                                 0   \n",
       "A              0                         0                                 0   \n",
       "\n",
       "        Salary_Bins_(15000000, 20000000]  Salary_Bins_(20000000, 25000000]  \\\n",
       "Ticker                                                                       \n",
       "A                                      1                                 0   \n",
       "A                                      1                                 0   \n",
       "A                                      1                                 0   \n",
       "A                                      1                                 0   \n",
       "A                                      1                                 0   \n",
       "\n",
       "        Salary_Bins_(25000000, 50000000]  Salary_Bins_(5000000, 10000000]  \\\n",
       "Ticker                                                                      \n",
       "A                                      0                                0   \n",
       "A                                      0                                0   \n",
       "A                                      0                                0   \n",
       "A                                      0                                0   \n",
       "A                                      0                                0   \n",
       "\n",
       "        Salary_Bins_(50000000, 300000000]  StockCluster  \n",
       "Ticker                                                   \n",
       "A                                       0             0  \n",
       "A                                       0             0  \n",
       "A                                       0             0  \n",
       "A                                       0             0  \n",
       "A                                       0             1  \n",
       "\n",
       "[5 rows x 77 columns]"
      ]
     },
     "execution_count": 214,
     "metadata": {},
     "output_type": "execute_result"
    }
   ],
   "source": [
    "# Create a new column in the DataFrame with the predicted clusters\n",
    "sp500_clustering_df[\"StockCluster\"] = stock_clusters\n",
    "\n",
    "# Review the DataFrame\n",
    "sp500_clustering_df.head()"
   ]
  },
  {
   "cell_type": "markdown",
   "id": "311937f7",
   "metadata": {},
   "source": [
    "### View Clusters"
   ]
  },
  {
   "cell_type": "code",
   "execution_count": 215,
   "id": "d2a624ec",
   "metadata": {},
   "outputs": [
    {
     "data": {},
     "metadata": {},
     "output_type": "display_data"
    },
    {
     "data": {
      "application/vnd.holoviews_exec.v0+json": "",
      "text/html": [
       "<div id='p3867'>\n",
       "  <div id=\"dcacd99d-c112-405f-a386-a7a84668b3b8\" data-root-id=\"p3867\" style=\"display: contents;\"></div>\n",
       "</div>\n",
       "<script type=\"application/javascript\">(function(root) {\n",
       "  var docs_json = {\"5f755d40-32dc-4449-b145-6e8fe88451ca\":{\"version\":\"3.3.4\",\"title\":\"Bokeh Application\",\"roots\":[{\"type\":\"object\",\"name\":\"Row\",\"id\":\"p3867\",\"attributes\":{\"name\":\"Row09871\",\"tags\":[\"embedded\"],\"stylesheets\":[\"\\n:host(.pn-loading.pn-arc):before, .pn-loading.pn-arc:before {\\n  background-image: url(\\\"data:image/svg+xml;base64,PHN2ZyB4bWxucz0iaHR0cDovL3d3dy53My5vcmcvMjAwMC9zdmciIHN0eWxlPSJtYXJnaW46IGF1dG87IGJhY2tncm91bmQ6IG5vbmU7IGRpc3BsYXk6IGJsb2NrOyBzaGFwZS1yZW5kZXJpbmc6IGF1dG87IiB2aWV3Qm94PSIwIDAgMTAwIDEwMCIgcHJlc2VydmVBc3BlY3RSYXRpbz0ieE1pZFlNaWQiPiAgPGNpcmNsZSBjeD0iNTAiIGN5PSI1MCIgZmlsbD0ibm9uZSIgc3Ryb2tlPSIjYzNjM2MzIiBzdHJva2Utd2lkdGg9IjEwIiByPSIzNSIgc3Ryb2tlLWRhc2hhcnJheT0iMTY0LjkzMzYxNDMxMzQ2NDE1IDU2Ljk3Nzg3MTQzNzgyMTM4Ij4gICAgPGFuaW1hdGVUcmFuc2Zvcm0gYXR0cmlidXRlTmFtZT0idHJhbnNmb3JtIiB0eXBlPSJyb3RhdGUiIHJlcGVhdENvdW50PSJpbmRlZmluaXRlIiBkdXI9IjFzIiB2YWx1ZXM9IjAgNTAgNTA7MzYwIDUwIDUwIiBrZXlUaW1lcz0iMDsxIj48L2FuaW1hdGVUcmFuc2Zvcm0+ICA8L2NpcmNsZT48L3N2Zz4=\\\");\\n  background-size: auto calc(min(50%, 400px));\\n}\",{\"type\":\"object\",\"name\":\"ImportedStyleSheet\",\"id\":\"p3870\",\"attributes\":{\"url\":\"https://cdn.holoviz.org/panel/1.3.8/dist/css/loading.css\"}},{\"type\":\"object\",\"name\":\"ImportedStyleSheet\",\"id\":\"p3996\",\"attributes\":{\"url\":\"https://cdn.holoviz.org/panel/1.3.8/dist/css/listpanel.css\"}},{\"type\":\"object\",\"name\":\"ImportedStyleSheet\",\"id\":\"p3868\",\"attributes\":{\"url\":\"https://cdn.holoviz.org/panel/1.3.8/dist/bundled/theme/default.css\"}},{\"type\":\"object\",\"name\":\"ImportedStyleSheet\",\"id\":\"p3869\",\"attributes\":{\"url\":\"https://cdn.holoviz.org/panel/1.3.8/dist/bundled/theme/native.css\"}}],\"min_width\":700,\"margin\":0,\"sizing_mode\":\"stretch_width\",\"align\":\"start\",\"children\":[{\"type\":\"object\",\"name\":\"Spacer\",\"id\":\"p3871\",\"attributes\":{\"name\":\"HSpacer09878\",\"stylesheets\":[\"\\n:host(.pn-loading.pn-arc):before, .pn-loading.pn-arc:before {\\n  background-image: url(\\\"data:image/svg+xml;base64,PHN2ZyB4bWxucz0iaHR0cDovL3d3dy53My5vcmcvMjAwMC9zdmciIHN0eWxlPSJtYXJnaW46IGF1dG87IGJhY2tncm91bmQ6IG5vbmU7IGRpc3BsYXk6IGJsb2NrOyBzaGFwZS1yZW5kZXJpbmc6IGF1dG87IiB2aWV3Qm94PSIwIDAgMTAwIDEwMCIgcHJlc2VydmVBc3BlY3RSYXRpbz0ieE1pZFlNaWQiPiAgPGNpcmNsZSBjeD0iNTAiIGN5PSI1MCIgZmlsbD0ibm9uZSIgc3Ryb2tlPSIjYzNjM2MzIiBzdHJva2Utd2lkdGg9IjEwIiByPSIzNSIgc3Ryb2tlLWRhc2hhcnJheT0iMTY0LjkzMzYxNDMxMzQ2NDE1IDU2Ljk3Nzg3MTQzNzgyMTM4Ij4gICAgPGFuaW1hdGVUcmFuc2Zvcm0gYXR0cmlidXRlTmFtZT0idHJhbnNmb3JtIiB0eXBlPSJyb3RhdGUiIHJlcGVhdENvdW50PSJpbmRlZmluaXRlIiBkdXI9IjFzIiB2YWx1ZXM9IjAgNTAgNTA7MzYwIDUwIDUwIiBrZXlUaW1lcz0iMDsxIj48L2FuaW1hdGVUcmFuc2Zvcm0+ICA8L2NpcmNsZT48L3N2Zz4=\\\");\\n  background-size: auto calc(min(50%, 400px));\\n}\",{\"id\":\"p3870\"},{\"id\":\"p3868\"},{\"id\":\"p3869\"}],\"margin\":0,\"sizing_mode\":\"stretch_width\",\"align\":\"start\"}},{\"type\":\"object\",\"name\":\"Figure\",\"id\":\"p3891\",\"attributes\":{\"width\":700,\"height\":300,\"margin\":[5,10],\"sizing_mode\":\"fixed\",\"align\":\"start\",\"x_range\":{\"type\":\"object\",\"name\":\"Range1d\",\"id\":\"p3872\",\"attributes\":{\"tags\":[[[\"AnnualReturn\",\"AnnualReturn\",null]],[]],\"start\":-3.435182555198896,\"end\":20.619280007877055,\"reset_start\":-3.435182555198896,\"reset_end\":20.619280007877055}},\"y_range\":{\"type\":\"object\",\"name\":\"Range1d\",\"id\":\"p3873\",\"attributes\":{\"tags\":[[[\"AnnualVariance\",\"AnnualVariance\",null]],{\"type\":\"map\",\"entries\":[[\"invert_yaxis\",false],[\"autorange\",false]]}],\"start\":-3.2342036626055854,\"end\":34.571705614482376,\"reset_start\":-3.2342036626055854,\"reset_end\":34.571705614482376}},\"x_scale\":{\"type\":\"object\",\"name\":\"LinearScale\",\"id\":\"p3901\"},\"y_scale\":{\"type\":\"object\",\"name\":\"LinearScale\",\"id\":\"p3902\"},\"title\":{\"type\":\"object\",\"name\":\"Title\",\"id\":\"p3894\",\"attributes\":{\"text\":\"Scatter Plot by Stock Segment\",\"text_color\":\"black\",\"text_font_size\":\"12pt\"}},\"renderers\":[{\"type\":\"object\",\"name\":\"GlyphRenderer\",\"id\":\"p3931\",\"attributes\":{\"name\":\"0\",\"data_source\":{\"type\":\"object\",\"name\":\"ColumnDataSource\",\"id\":\"p3922\",\"attributes\":{\"selected\":{\"type\":\"object\",\"name\":\"Selection\",\"id\":\"p3923\",\"attributes\":{\"indices\":[],\"line_indices\":[]}},\"selection_policy\":{\"type\":\"object\",\"name\":\"UnionRenderers\",\"id\":\"p3924\"},\"data\":{\"type\":\"map\",\"entries\":[[\"AnnualReturn\",{\"type\":\"ndarray\",\"array\":{\"type\":\"bytes\",\"data\":\"yepB0V5Y079dGFlGIwSsv3ayY1c72eo/UTHvmG812b83M+khvojvv/ldGnu9U3Y/8kVoSio1pr+1I/D3pcX3v+yrRytD2ea/AiqEKe55379B/yoCdXy8v9vkBDgVUew/faALGPfu4789OFVokGrlv31zVdfSq8K/B303Dw5J8j+cck+ByA3iv5H4Q+DAzNi/A//7RBrO5b+LfcMf9rbsP0ZevolmONA/k1Peg3b2wj8p2d26yVHUP4N7YB2ia82/8G9TUR6j5L8yqQ8bRli6PwPa84U5J58/Hb7sWAs83z8HvZ+bl9rjv3xTS0ieZNw/rQHxGDtxrL+WjHpMqrL4P/6j5lrd29c/INmYbrOL2b/HONsTHlnhPzclfmhdjs8//NSJREXQ4L8/NK0qW1rzv8nJdVxm9dc/ZUUoyw026L8+H4ESGe3Uv6zK20hVx9W/aiWTFQkm1D9was0QPiKUv1fGNo9TWZm/vgClUpWl1L+LBWz3H1HPP+GzjYKuGuU/1q0CgD/axT9r6qn38cThv5pJ/uH0dcw/GydauQ+8or9wNk1/S6Svv0EGkrQ1nuC/eUuAK3Zgxb8wh5Ee1ni3P1A0HKNVGtO/MA5HTVul87/je+y8T5DQP6zjNjXaw+K/uy7SiUPp4D+Uaz32n0jcv7XCMlfwM7o/vZKNzzYu1T/ExaoDq3TSv8hTFdit4bi/eQYPB5/ixL+ezdTn0gDkv+z/Ib4/QvW/nU9PtAyCwT8diA+/veC+P/CQ+4qqOMi/9Q4LWNo25b+P6WtyS+Hnv+PobaZeUNs/3byOxGisyT8PTuQMvXLAP9tE5SoFY+u/zPfYTKsi2D+OqSOZyIPfv0E5NlHVguK/nK6l7njG4r+d7dycGEnyP9fCT0zS6es/HMOE0v+p+L98/xcRqDTiv918N3saF7c/qq+PfM3E7z/oZtA/ca0JQHUEOZC8oOa/IsjCRPddzT96kvhOwEjoP8tUZj55Su2/YcUPbd+5xD8dGMatw03av4RgQ4BhG9A/VzrkhSVJ2b8u5QuGD3Hxv4G1bjFEF/s/UhMHVe2N9D+hSQ8OpET3v5nybHmOwei/+pVq9wrwur+i2VckN960v1wz/ZEpTu+/wzCfWHC6sj+bKwP0cfjGvwb4aDDedSBABwwVQ2pj5b+f+Zb3Iif4PwKWsKCXjdW/mIprO9RG47+Z/hmU6K/tP+8CQ6mDm+K/jQeI0W4e1r/f4ovPnj/jv+zFpmTohaQ/1ihsO8QqvL+7l+HYMb7tv1QI/FEzzMq/lmujZiHA8D9IhvJz6Wb3v3DUS65stN2/+I1rXTqRwL8Hgpbafz/iP7SC7Rp7T6q/MfSgU01uB0Cmy6/hOAO7PwF20koeYfI/10jbqOkV1j/ECtAGokfSP8Yz9pDGxtM/CPbBRgGzDEAaTBG3iUPkv4MTn3vH5N6/f6bJUMH8kb/x6yzYRhzUv7N6G7Ter/M/BuCZzX+S37804oO5otjcv/dxdlJoFNA/beUtgQ8OxD8SUehlziK4v+Lt7N14XeQ/Rfb8LBxz1T8cDtZ1X+HaPzJT6A5/2fO/6OPxu2q68794+Vd2ucfpPyMyOqSyRvW/JH7oPq9e+L9gp2ua6mrhv7/O7eVbz+W/onEZ+ebZxj9Y5l1GsNuLP9K3JT6EuN6/J446fZ2G3b/69zeOBjLgPx2OtR5nBN0/se0DfqBN47+tgBXUdbq9P1UuZZp9FO6/9PbMawIB8D970LJVX+nyv9NlRZEwtde/ifJUfxk30z+1ptXlLa+9P9B5uQt8f+a/RpOkl6iLoL+wt3tgVqrBP5MMYzWNO6I/XDUrxF16wb8m20V9KJG0vzow0F1/XNy/kJutOl4I17/9x237WAzcv9fA0Zvmtes/B85yS41g0j+5wq3+0tjqP2lD3iBrq+C/qiGzz2YoyT9Xw67pSvuWPwa/3uAENfY/hcjecWYr8L8GchJ/4Iu2vw48x56xfcU/lI07nsyi1j/62GLDDnXVv9oIYx4EtvW/G3uigsPT6j93H63mzdPFv0R5Oj3/qfY/6UwPdJN08b/ibU3+XeK+v7BdpPWw2d8/9KhKncVc378u5PAl3gSzv/6Wk4mRT7a/mBWlxXR6AEC4mcH0i7/hv4mC73OqV+I/3AuQZeh43j/bih6K6RnsvxhdB++Zm8q/Hu429nuF0b/IR1MeC/XYv5XZY1SNKcI/+2OxOuco4L9uCy+MtBnDP6BvbkEuGew/tVZMKjFs3L8aUslZO2SyvyCaov7Xj/O/8awNL03v5L9Qnl7iIK3/v486p/p/FfS/WyzD5s2V77+gisGJxonmP3GbmU2flvQ/CWhf+2Cm8L//2S3hUc26v0Wub3NbDa2/Pgg9YXv12z/a7Ud/yLfSvxsBKMirNPW/Mm43ZOcrwL+qgIYrqDLIv3jQgtHxNvS/D1OMmwH6579s5zVGeGXxv4h94DzdwcS/jkOnacPq47/6nGRz8X7vv1zEjAUghd+/4j/r/wrZwL9ccaOAakWiP8penPpQv+E/9GZEwUmC3T8Eb/HMJKLfvyiGOM6efdW/IVl3KVVswD940L3Y8EKnv9ceWEp5mee/kjAw2jZS7L9ixHaUkgLlP935qD80GP2/GsqfOU8M9b9I6bn4gmH2P5IGxRTDxNq//9oqS9BTAEDuI71oW638v5xeEFBneOC/+/07KxOxpz/rmP8k2tfnvw2qxSQIWtO/2QhAXR786b+U+Xwelsi7Pxril5jMftY/Uey/OnHo5D/fUXmWEkfMv/YPgsK0W9u/lq0uEXjd6D8j0Dc3GiiZPxqNl8pqesW/5sZDvxXH5j/Im2BXHHfGP0S6b4vZDpK/w+3e74UN5z8ZwL0RtCnvv4KsmWEtWeK/Dvws5NMw2D+NiJlQjeD0v8Er+oz7MOm/JpeKYeVU4r8kazVYgRldv14NHPYb2eO/j7AkY1/k3b9HxRK1UJLWv9+3460r2NS/IA+E2ov0578Q5IfAEovgvy7qHOFHZ7A/h5Ms2xamzz9ZUG3XeJPzvztHIRV13Lo/wGwsU7b9zT+ruO+E/Rrhv8WBZOEDaPm/Kms6DCnEtb9gJwaZrp3sv9o8qVbZOuy/MYNd8YZX879wl/SQLdDxv6pSM0uAB+Q/4EFGJcXx9z/GTVmldW7tv+iXBVPKFdW/epx3qJXnrz/AJ5r4oUi1v2FVXadvo+S/fC5T//jz0b/H03KAmQS3P4WLE+wEH/o/0KbnB1a47b8Wp8M+Y03ZvxsjITDlN+O/EPPIBZe65D8f5oRo8Bvkv6myikiRjsK/Yus/ZVT11b850Wtcv+LYPyz+ja6cVNm/5R1cSK6pwz8E9Cwt7ODfvyySXXkB0dc/ar815orc8b9TWzNyr1XVvyLh4ltnX7i/ZUrOV4zGzz+KTfdnwsb2PxgGCQPYxtK/DkOEEabCxz9sQ3/a1qjXP0kiWe4QoOI/4FlChrMNsD8Q1vpV7DWovwsqZ1C/T8I/d4u0L0h94j+BVEJCTHDqv7z3AN/UDfK/WGYZxeUi8L/m3Re/jmzhPxf0zaZ6T9e/IshmMg0Wzb8Qlw7eEIvlP5Sp7KFsWLY/fobLH7u7879prQyQfJPHv3OfchDE4sy/lW1+Vadglr/VZWEWbwfhP5/mKz5bsOq/UmiY+zaCwD9PLYLeec7NP91SzY4vCOK/HxtawzDuu780deNNEYH1P/Rn7+j2Sek/lu6uxqVs5L81SbwJDtTvP26h+llx++G/9kFQsU1olD/23Gtx5pTfP8lbDUG1xNq/L1gDjgqBzL/CORhqrhbfv5sSvY8M1Na/JMG4xkbwoD+Nm58bNfPuv9U0x3gHI80/XjuP3pEp4L/5MEwH9f3PP3HEPghoLcu/EFwABQ+z279jumwK2yDSP6FwKlrqha0/5UbdqP6n67+OOyDiG93Tv7tbtfWgzdw/M5gxucZ72D+Ex/9MPYPcP/KwriAcQfO/70gedmCe6r8m9s0HF2jwv1c3kh+00+0/9gDsm2D997+w321It+zwP9BA3CghKNY//rV3gsAj8b+p/MIXDBLUv6uQXNU5/7Q/7ZFN4cbxUb96thsojCzNv0zmqbGQjtU/U3vk+otF6b8igJvsOFT6P84ozXyIBKa/yYQdBmIm8L8AY53R3qjiPys2nedU8qM/tPGqfd2A179I8owzznzdvxGD5lqWj+e/CQhSaHS+0D97AjvY99WqvwJAi1Me9fC/HnDzvdgT678x2ZBzRbLgP++hO29up9I/iaST1qhOpD8Sd+MG+JX0vynguh9Z4si/hMsOkoKGw79WVlWduHihv21Rkf7CMtS/voW6QklhlD9Og5EY/5Hwv7+bN1Gl2rO/5rVc/U8J778bUqPnZrlpPxG2ULzaM9i/wu3NqPZ1sj8To4M0QorEv8l02yCoxOC/ATNaMxS217+zQ49YQQbhP4iVcHPEKuC/JKs1eWCbwz9D2T54g0G2P5BWm5my1u6/kT5hZ8LA87+1FUhTwt7Rv8OoUTkdj+0/fJgYNpVQ8j/w2TmTgP2+v4wRvycXQ9W/PvELeUxztb8cw33Xjn2/vy+5N6rAj9+/BRK6sMo81T/N/ab0aojdv65x5USq7Ok/XZq9U1/D1L/j3MxBJ2ngP9yPYzCuAea/YnWFBE+g6z+h4+pGrsHePwwTLmgq6ui/nB/pr8W+27+IJvyX2CaMP53ttQnJddQ/DgU65EVUsb9WE2+unimXP6bEgnzpgOC/XSBcDalR9D+ij4cwaM9+v7skvbiUhPK/azdikrug5j8tlT0DxYjxP55XHClaErq/WBfzwstarj9BlTsSuDneP33X4eup2+E/kPdwkOJayL+R6fEjpHTkvyOKxg5LN7i/h2xLA1MI8T9yKgZfMrnxvyYBo8Txlfi/AVPEjA/S4D8v9Aj6+h3ZP/2Dwsi1T/C/8Wii6V7N8b+R7M928wNEPxe7k/WwR9+/hUCZZ8Hl1D/cAWDKDM7lv6FsPpf13Nu/yvwkyJll1b8d9VGLjdXTv2fKke1Oo+y/DaJ/teUg5b+dkSsjkh7mv0dLSQqAVO6/xFEBZDyG4D/6ygjruXjLv0kocLpcjOm/+piUx7ukEUDWpVdcrY70Pxvyol438AFA1s89S7YUiz/AG0DWJ8Dnv3h7vLFQuIe/m0eJZsMvy78ADEESkTbmv5boSt2eXdO/9GD0vdDl1r/TyMGzdI+VvxXShPxhKue/MjksUMJpuL9ESTiXJeicv68laYKlCpM/Z4kc4PJQ0T9+BkaF0qDxv+9tFEUuz+u/qXkO/VqZ6L8+GMftDSvjP6+0BAbsQvA/DhIZaiFo4b/rL+Qyb1b7v1836Pl9RLk/MZA0urXT5j9Xf5QcO0j0P/3Xe2Rdbuy/qfmMYL9a5D/RmrGGNiPNv+7WE0K3mfC/tbYoVxIY1r9qdsloocDUv10ktY6eYtQ/qagYWHu9mz8DeXLz9TrTvxVPTrY0bNw/KeBFeFJiyr8LcL943YHqv+glshOmqNk/BEDGBjVl5b+VtH/Nds//P63H+AF8hvS/8IshVnzlw78VH9H2q7urv51kC+V/u7s/GWNtaOL3sL9GRpf4u1mqv2ymnexcsda/hspbL61v1r/ZOBgQmkTcv4Ge94rjb12/qyyOSdDF2j/+f7cBO/2TP0Iw2ioRQeG/71kVjv23vb+PVIz13Ibcv3rpmtF38uU/b1IDJEx867+lvedDpY7pvyF/5CeeeOm/DetYZbF+578WVGA9geHFv0HFC4Eqoum/Un7jqJMyyz+IHQ+kZT3gPyq9ZfpZkOi/lg0ppDrpvD9olTS6Y2TsPzGK2wkcOMM/LqP2k+2w4D8fIRQki0jMP5eOj3wS5Ks/d5yfdSQ44T/vjnzzi0nSv21KiFYdaOO/gr97n6jL0j/Pk7lKgquxvzw5CpZfzNW/1Ed5/67Y6b8Juo9UV3nBv+Od0P26acS/JYoPTndD0r9HzQliLJ3jv6smVKvjOOK/EWV8Q/LptL+9bI1obSnzv82CTGAuYvu/vEGxQ2tm6D8++j/YkSznv7xi6qGq/fq/KOO2W7kdrb+Ar9UJey/wP38HNY0v4fC/6VCF3Lx4278mheEd5KUEQPy+RMu/Iu0/WX9TerKcwj8ILAAsBrvgP6K4kWhzpfK/XDiZWK68rz+Gtt7FGsymv7hnYTv1W9Y/5O38m5ro8b/mTkO3oIO+v7Hr6zzaV9G//qPP9sGdfb/NbgmJMzq/v/SoKBEBZ96/hvjCRBg3iz8MHQiGWY6kP6DS6sdtA+S/Lc7vLRiF5D9HNLR4eRPFv4iYbh+7Gdq/QDAVkYUO8L/PtevgMorDv1xEWDRZ3sM/RbQ7xSmI1L+oK1eV8MbXv72xbI4B/uS/3GRCDocxzT9GuHyRB/7mv+YxIkpcjeW/VldB8M1Isj/h19rdgWDnvw9p641mjvY/MbRvpRJV1b/IHOibL+Wzv/z/QCHv/9K/B+MwPro78z8vETQhWDmwP0/qxV7k3+a/20u3E9cdnr/+mS/awdjMPwYrVm7QNvC/uuNuRodH8L9fh3aM1wm8P8y8UXfJFc4/NNpxT7BE6r+btWX2o+IDwOJVcwTQ8ALAQ6CSCGjCCUAtO1lSnU3+P8ePZPAMk/C/njsOn2nG6z9A2eltp1DRvxL+HX9wb+6/xQ5LFZso479YMqJFJaD4P3l1cxjmQem/g7nFMEBv+D/UIBMUw6XIvyfDcqlHX+E/JdlFfWPls78mh3zRwMHtv/0JRux/cti/pepqklzS0b/4YXywy870vymNTFwXQNA/NP1/rBJe5r8QOExTYWX4v14IuYT8Xfq/jSxP/zrZ4L9cY5Kz5DHDv3np7VCgDJY/mFVGHPuA07/8T2Bh++Jqv8paATvdddy/8Q9LshTUzr/HzgOosQfVv5Tmy7yzovC/fAOIhETt2T8vcSjscmSjPwZcq9sK8+e/Y4Ny8ucK8L8XEIxfTEHIv0ryMQuHvrC//bWAM5xZ0b/n2S9mDUEDwPrvBRQy4Ok/usud5Cbx+T/sWC8tYorhvwF70FdLeNO/yEG7LvL94D8Iex0wBNDhv+GoZFCJUsm/lYRTuBRf0T9k0b/4vobBPxuBzQr4+bw/7sFpRFTO5D+Hgpzz9dXxvzTNaYK5F9c/Zm9A2l6uq7/s++liadA7vzsfvt7GsNK/36hf7j4c1r83nJNoiWjEP7NrIhl0Jcw/0w2V1ZFO0L+oWhrwnaPrP4rRDZIH+OG/Mo3F6VBvyr86Zypks9vivyqcxJ0C2e8/+XpgFKUo57+aXCOAg9OIv9QP9+cltM2/zafCT0DK478bhwXBEinov888u7RsQdq/w9dcnAXZ97/Qcq2ZdgS7P1cgGN2va7C/uGFoWUda8T/oAjdEjb/NPwArvbacePK/2OUrfkXL6L+DAxJMIR+1Px+bS2g4NLI/ST/gh94Y4L+5gAwjy/sCwFW5sXF5fANAvXjt4KoW5T8dTrkbZon7v2xva6l7Q6g/yVfHqHUW0b8/LSzamOmzP8qdJwaD7tC/NDlBrtmL6L++ZH/MjVLcP1VDizDM8uA/oHwPY9Pd9r+8byZVB2jtv281VGvS1tu/VsyOzIq92r82X7oOUy7MP1biOMEln/G/s6TAHIiH7z/W95dimsfkv0a4hSoFhs0/Cxwvg1rF2z/optF5vivBP+/VRpiWWM0/wJew0ubBoL/fAaHs/ofdP1jEit3JRtk/ERorLp0p2D/ksbCIyHLMP71S1OiLAt6/ScqT7D341T97wF1zYZLNP5eE6Xh4AMC/3VZotFLP2b/q2yP9j2nlP2N0WoRjP6m/GndiXOxQ8L8A5+ZttSr0v+z6c0waMO8/kW3oPdgy9z8vs0i3dVjwv6wiaNviM92/JB4Hhi93xr9A02jtVDncv8LoCJivAOO/t3Z8SNPj5r8w/uZlu3ruP15amXXdV/2/o7mRSe14A0CJj14k9+j3v4Wo11mlo9a/kaHiufx82b9NookNk73rP0N1gi3c//M/LHGTuj2Nub88wXfOsHjiP8K93buRO+K/OJs09jo+2r/ya2441RnXP4dg65iI5aw/dOFHMZip778Pz2RNcar0P69GW9g8bMq/7wbctTrq5z+1kjSwDaXhPxwbT/RFfNI/Uf1pPj6s079ECYfyzTz6v40iCdnlAQDAa+g7ppNo7L8WCyAMVAmUP5zYF5g77rQ/TrfojV+k9b+GrB1oExbKvwTP9n4aN/K/AVanisfl3r9nM2kdZFDqv4KDSg4Eg9S/7pl8c9Qhw7+VsyRYGO/Gv+8uSjGJcOC/pM3sujJi9b8LgIENv+3Nv/GElB7OXd4/qpkmxhhPzz//IgCU6+nrv1dx2Ulcvu6/Rmh3wA484z/qTmuYPJTfPxrOcctoAeO/S8SeDAlv3b8UjvkwMxbdv2FiKb+XptC/dOQIdYUfsz+OGXWA9Tnuv5CH/OohTsK/gIWsTVwq9r8vgvnebQ7oP0PWzMXthr0/2inaPQek0r/SLJhiYmftP1AWTgMiF9G/fhCb/q1N3T/fOtQxSIjdv/iQvAMHr+2/fIDUY9Xber+HM0Nzz/7Zv5isuhWN39m/TyzTA2KF9D9x/QPKLYe1v5v1+xbwLuk/dc46vGFy0r/VoD1MtkXzv4JcJIsay98/HSE728WPyT9obqHU0ArLv3m9gYvn6+K/G9uaeonv4j/GTKA74zXOv2mxZjudqPW/N3QSMjrN7r/i0epTMsmbP3ydDwqEeNe/xidFos+46L9YvjfMfCPzPwydlGB1Uue/FnJdx3Hm+r9TaBIUB6nlv/k/vxIbsM4//YmXNRT2rz8jlQ5+gEVQvzl3qpxp5+a/83wWuJqpzr/9Vt5r2iXRP1AWs/dcfMC/PtudoEzI7L+EQo6+Wg/kv/MfaTXAM7C/Ce/uCfLIvD8TQixHMWDmP5MfqXo41tg/PF63CtC+1L/ntGjfozroPx0Zh5S+GuS/LtIH+7ei9b8aHKjGGl/bP2OcdOq5GfG/oAJDp7Ec6r+WuifgFLfRv57tQajVgLC/oje9qFYIvD/dXg4lzt7tv5CStT5moJC/62Gd1FCd7j9jSBvtHSfTP8cweC+RKOu/1PDzT10F7L/bo2x0Xs/aP24qv+QgGek/V3IoODw85b+1mIfzNC3tPzRqHNZYGMy/Kn7LjNqWyr8JXs08ohngv6UsSLkN5tK/t/NQXI7lhb/XkoxBWhvgP2i6rfxhnuW/TfOyo+Sw478zTa1uzmLxP7ETDD/Ug8q/8saxCin25L8peUAPnMu7P3dk5mwa5/W/wkhDaLL02D9XpLK5iI7oP7rK0iH1A+C/TMDBVOaH2b9WqU3N7n/xP0LgHS9pOOa/G7hNalFI0791A1AvKZi4P4JR4PmHEcG/OWXMd8jOpz9lE1ggdurcvzZn3KHhqeW/fazKKJgDvb9JjUkymxD2vwwybhjUb9I/2ML2Xyoh0r+fZHEwuQnrv3LhIVHcgpW/u0b1tcLU6L/Td2flr8a5P3hOo0paxsC/PDJ7mvNW4L8Nd1a0wMzhvylxFuBomYw/9OziR5O/nz8QCHBDlcnxv5gn4zpectM/17S5soJCiL9xwB+kOa/UP5kXve+Qa9y/OHSfrRgF6T8mJSJ817X3v7XRqCXg3Om//cEx0Y0bzT+66doU7sLjvxh3635w7/G/YH7gIyQvuz97iV1zYXyov5OUKK9YotQ/RzLfz5+0xb9/vm/NfKTav/BdBjgxtvY/DBprKaX54D9AowuoWh68PwBD+Xoqv9u/yKLINSK8wT959oqpp2brPxJ8EYi6FuC/QB4ynfnAwD9198A4QCTZvw1PRI2JFd0/1mY1qiUf6L8NQkbP5oDtP5RYvTkyGt6/qrLjjasM478K/1xFFLD2v4HUwiwwGuG/qs/NcfXCyb/9ZHtLQLrVP65u90L7iNi/S1VtSNH/zL+05byNh7/KP/7z4C64AeU/Qavgn0n90T8+Lpv4Au+7P4nNzb8qXOm/J4bG/h04879qSmiHhv/nP8PidBLXSsO/pEmPUwmv9L9X/pLQ9mGdP/Ow1B7tOtS/X65eWxwf6b+rBFmreH7Vv5e/bW8+inY/YpjVjSG2rz+gNuNASiKMvx58HzPHwdc/BRc0ojzysT/GAWraI+T0PyngoyXfvfe/kOo85m3h87/sD10eCz/JPz1vGtZ2HVk/mqhMw4y+6L98DiUF7R3av92H0pnq2tG/16/aqSlkqz/VK3/+WUD5P8n53+bladg/DTPf9KZlw7+IJDHphGSVP8nW32NzvdA/jFCs+ueR1L/Mb6hq/5rcv1gDYrhwUeI/YHu6qCvV4z9pQ6aZNp3wv3r1nc5oT+m/tbUv9/kS5L+uGeMvS/y9P67rCbUcQf6//skAFpqKyb/AiCJek8rhv6D6dGCTpeM/pokZdi+ljL+OZb2abKHnv4GweLMs++a/C5FEw5rD4z94BTqw7WrBPxfMIv9kHu6/uzyNJSAjxr9fj/sE7jPUv7ys7JZG2r+/ZTL7zuLL4r8o+hVaFzDyvwyZ5Tk3e9E/uxq/y9l+5b8yn6M3dzbwvyGbZOs9ldQ/i0tPKC2UrT/0Cx8yUnXfP155veyO+sG/DvyTnObo278IaF5/5LqUP719wt0N08c/PMRJp/Xv4r+kE/5dvw7QPy/jPOaaT9O/xeUPAH922b9jV+QIt/rhv9eZVNJf6eO/rkkhgvR6zb/ki6OYBljjPx4GK3wa484/n+AU2CPz5L8F3nubH2m5v3fOqrSCnNO/lOqwVeD34r/gPMKWGMvqv8n8cs108dw/YyxFyuDa278UaU7hOlnJv5y2XGdxZAPAJwfGiJS64L+RzkjEUhroPxwVPvkDxLi/s8IO7Mce8r+pqak+Af/pv4n/UIhQUd8/nmpTz8/YlD9gdlPRi7rtP58BSuoFVNm/6J35mHUGxj8xMN0ElF7mvwEWg5yY3/m/7Urrv+288b+VB+feUNbRv7arz8ej7Ny/IRODSRHo8r/EPpoqen3tv4swd/IHM/W/Sn62yeM+3b/1Nhq23gfhP3jOxBLwNeS/vc4IoUM5279qs25smGuRP+EhKN1fYuA/xxSgT1ll6r82jQWpvde6v+8EPyF6IeW/slKV8Xaxzr+1//y0n0Lgv1be/36LnwHA0jtVJTBW4z+LP1MJpAXrvwhWETS4ouy/fDDRuNQu7b+kDSrdURTQPwxnftq+vNq/+ctUh49t3r9RSR5t0V7Vvwi0WpO9yty/E1hUj47Avb/PWsHA9cDRv50eH9Bept8/YhakCVXS6r9nQNx/pP7sv0I+DrIU4d2//Ja5eTaby7+Krinceo3jv3y8J7jQ3dE/PvsNnPNMzL/IdyRcTjrkv65RbFdHYd0/vw8yIfdX4b8r9kPvgNHWPxCLF8ByIey/2NYoSon4uL8P5AmGJaLjv02jE8P2AfA/udlbjmbe97+ZMhc5jCW1v6KlYZAB4NC/+J613cY00T+ILw2MWxTwv9L/fXhsZMo/Au20p5k3tT8m7BnfDF3lP9rPM7RJE+G/xD0egVxR779Gy8muCgCjP1ybH51+Y+A/fqfr/b8C2b/MWGvoIO/Jv8qSzlslTcu/m0yb1s2L3j8wymsHszP5vyW4MPf0lsY/b/cI8uRx5r8OBnIRgmqUvycqB85JQeQ//GYGjDfTpr/ogFBg8H23P4K8BD7/1dY/LKJ3STzZ4b8P8A/wH5zLP8kcNlZRvaa/HQzAti4/2L9VLRWtXASnvyhr0tZ8WOG/uLHKtHhq3j/ls7UyS2bXv1UjfSkm6Ni/+sD7bLiw4z8Sm+xGBbX5PyEiWaI6t/K/u+cxsusK4b+TBIH1djKxPwqtY/mz4Lk/07LTKFE88T9YiHZNWUvXvyYIUhU3SME/zy14baBX3j+AX19Tcofzv++mwIjnEvC/L4kQ3aJH0D955/DKvi7dP/16YFwNNfG/IulzeO9c0z+shRnUp1TwP5V24pU93eA/ExixOa5Dw7+jT2jS1LPbv8z4/qeIQtc/dfcuAiTB8b/ENuEdcdbhv56oyexBHbW/HVul7Vt38j8JNsw1vf2lP0035PqmKIG/Y/apJiTwwb/UBiltTHbqP6S+g5QwR9I/YW7CdsL2wj8IL/PyWm7Cv/pfKhh559K/dOTcnwLS379T98Ub3rLov0kvFVukVdY/u1smzxOM9j8Q7YZtQjXtv3o4qAejc9o/KSBGjZjkdb9zxC1OkvfjP6sIHEZZCPW/N01cON241j+5mBxj8Y/Sv0coFXPrs+o/E30xbclc1L+UIIJHRTTSv1PZkURJzuY/+4qWJssg5T9Y9iifZqbuv+a4awl/teC/cDKfJaWf8r8uEf6fyhLNv5fXe8BC0PO/kiVureeQ0L8bkwlNyT/ev9rVSiOtIfI/EYle+Xoi4L8SA52u61bMP2HS8F0bpNa/ExO354B+4L/A2QJpFGzhv8Ep/Yuerci/gqa9+MbC4b80otmAJGaIP3TrKjEbdbe/0lrdUjzY5b9OaUgn6DhWv87pmXJSzNC/I2Ew/Nue7L/TEzYvmVzhP0KjuLIxtKO/1TrrSnWF8D+CVwbrF5Pyv/73ak2Z18S/BGyonhni2z+MSLBjFxqTv+ZjE6ZIg/K/yurA1aOkzj9CgtIN52DIv5QxDsGYV+Q/oci8fXrk/7++9QLuRzOpP5R+nESByLa/RBG+GED7wb9DF5c99QzlP6ZUJc7j6vM/IxqdxoJI4j8yHW6xljDiPymJc1+ZHdK/Dsd2hb6K0D8WPzcn7ev1PwDFJcXmqtq/FEs+0Py78L+fcLonnZjdvwF4GGmFttI/s7RkO2FZxT/YCC/s5Efav77xA58atuO/IMst+2dtyz/aH63i90bgP6CCxyAGe+2/SD8u/Jo05T9NnSWPH2njv7Wevh30UuY/vZYg12OY77/tNZAVXJnBP2900Rkgwrs/jeElfQPAzb+sugdbWKnzv5XUSDKUq9a/mHhOKUl9lT+l6SB7kRfkvyEhf+rF/Ok/Qh8NAT9C7z/Wbr32x+n3v5AEEMiMIdO/NlqZ/RAa6L/Ao8ZsGdu+v/ALThsBuvG/UDqfL92plr/IfgkLpe/bv5DQIQOgHdM/l1ikJqhC57+3DHXKHATXv8H+sUUSft4/6+ajCG854j9pHe6iUjviP52F1pF17ti/a7LS2Ck74794cA8pdQ6pv/3qZmt1K+K/J/GD57KX4z+Hv+Nn8GDsv4z0L2zhKP+/82MQItDM4j+7ya2W7JXgv0TILA30Auy/loDl2cBS478wSRbkDU/sv/5FYOWyE+I/SyBVrHZXzD++qUbRQOvwv3vJ54uTofA/E7EYAZHYsL+ISr7gxN/0P9ZjuE875qU/x+oqpEzQwD8AfUB09ruOv/jJNGToSOQ/BB/EDVY9vj/I7vvUraPTv+mn9UXSA9E/6pRUo7juxL8CUxR/sWDXP0ESCPNG096/+qWXfFki4T8mG0J1MUPBv4pU/oXiB+u/FGMqN5dp779chuKWcRHZP/xmtMSQvv0/LWEKr+Qu4D8pJjIraxmnvyHah5EmTwDARpKbG55l8T/5B9wBXX7+P1yDjs1bZfK/GYgIy9+W1D/VkkFGlRfyv5yRIgKrvdI/grSs5k5n8L+WG+t3iCHLP0BB3sO2CsE/GqdqcZdioj8ZyaxBvDzLv3s7Y5tle+y/a+6d65MN/D/OczNCDwDbP0YxfiSKZO2/QnGuBrKE3b8u/mGY6xmkP43+1mOzbd8/F/OZPKh4qr+vKHV4XKTiv0SW2CB2kf8/PZ8lLkDsw7+QVY3Zcp7kvwq40Y55vglA9D4HWkQ0o78fC9SSG1TwP4IcYuUApbU/1Cauk40jjb9Opc3u/PSoP5DP193p6Ni/HkFTq6qQtL9Zl1lhomLfP4PCIYO76Ou/DG5u0Y/Txj877Q2VN0O0Pymq7twctto/tPUOmgsD0j9QAszJt9LdPwkPnSWX6Nk/waiwXI285r8i/4sL0wf6P45pEgai7OI/aar8XzG0/79PxqW1qBrLvzWnFFSyNQpAzlTnUGWV5D8bfXCk5CrRv5cnrZYWPfC/LVp9/2ox4D8YLwT/VCrjP9DpW1GutdW/d8HDHoFC9r+vt/av4kTjP360U4+KifI/tqo2Ii5fx7+5ricAPjLTv2arAZsDt8m/50oe7U7I1T804u8CytCxv+cET8OfpOq/osPNhPdC7L9cWuF/ekvwPymd0dKs7sm//CU+zd8Q8L/CHMnwnCvpv3YOVlSFOui/c3WFO/AL5j8bqLj2j/3zv1xd1x6dSL6/yoW+rhJ9rj+LrwfLqkLFPyszGYPiFve/BloB0tqay7/mgf11Rienv8Ccad0ITNq/4mRSUdR/sr/25NnwMtDwv/70tZm1V+0/B/9LPqrI8D+JhUZTG67jvzJz1sI/w/y/U6CKdCcUCUBeBc52GHbkv2CWU0GBH9u/OHdlYTR52b/l5W7v9f+oP5oLhzXOPum/Yko+kySw17+ABo0MtNTfv380FkG8Zt8/xerYlg7E9j8CdOiEbArxvwiFEaasGuy/E5gVGQTAxr882G35LRHPP5qax097f96/bOGzZUEH4D+eulffORGXv3ehzE6qNOm/FCZhehvV6r/NbMO69NTMv1mmcBIbadW/hya0Ggua678hFf4guif1vxiiS6GtwOs/NQ4n7QRJ8r9cUFSg0S98P8aN8vH+7NY/En/52NDh6L+eUrKBwwHkPxGO9kqs4eO/KAQo1P3Y8b/Dw58wop/jv13HENj5J+s/n7FdYEpY1j/v3xGVAUT6P/S4svweEfE/DWNuaYuXiT+1yis9eLW9P89CbDUgX7G/TlGl+YCP3r8ATUeQw8fzvzrpcBizOOM/MaHHQrc8wr8lPgzpL87vv134blpDV9m/jl2WZ1V1mD8JPHIKyK7xv2uh/km1/Pq/jt4aSnhs/r/qomIOtT/jvxqGmHyPQY+/WLLVUh33wD9tNLAzRyvVvwQqfeA+/cy/j7LELUKGzL8FFhlZVcmSP+kFNC+YJOK/W1cHkgNv07+wGt0K1OHVv8wGVLZixr2/Rk30DqDexD/Fq6n35M7kvwnrCoe+K+i/ppqxiAwb3z+oF3IFXj3HP3QpdRLbzva/s1K1notK579vvmVlRrPHvzTso4QgKMG/KoRdsIJX1r/FW15WFi26P7CI2/e0KXA/6yhCWafe8z+EtIOhJavBv6YUn7t8UPG/DLpiJGOM6z/p9AFXED7nP7C8O8sohvG/uL8kQNjX6r8+uX7ZSVTIv2ztHLQUHP0/09q1ARsR8L8uKYfqlMXtv/5y66x0tOM/KuNfDZfc6D/r2Kwgza/0v+ZgQL7d7tq/+PmhBwZ/1T8/wEHJGmbNP2AfFf1cyeO/L4UimF9bw79tJ/L7/EbPv7QOdpzGt6o/WjX2AbdG9r/lqeznkAbQv4QcnLHVtNQ/Gon1rT7fzT/I5yjl23/tvylcVAVXrPG/3jVHv5Ogcb+qZ2qIKUfMP2thBaWJKO6/tt7Jr3nS4b9i/qoBV/HLP0jIj22a3bq/8Dy2UjkO1r8K6r/K8fXqv7u0p1Zi29W/bATVUOeO/z+Z65hv5jKdPyymKyVgL9k/lpL4GPzW3z/ofj6yZsXRPzuNWs4lTpG/WrEOHdHC6L/KdnXly6nev0/uFsz0EM8/wIS6YjBV6L8ApSNqu3LXv0DDn1uI4da/ZvmxINd85L/4lJ7aTAjjv04XlNKtBuW/00LKmCo+3T+f9aKUA4m+v75nVy0PTPO/UMwErbFe4D9yB60NWAjkv9m74/PYNeK/4UD5Cdc33L9t/md/3S2WvyOELweUfsW/5uJs2eChsj9XdpDmHhbqvxosPAA9o+C/DdMhG2W45D8iSG7YASzdP6yO60AYROM/KGhKzL8R5L/MvliDs/Hyv2oT7saosvk/7g++Mlggq7/2N1wyY5fwv7S9y3H4UNu/hT8NGN75g7/noKwo3L3+P6bzXHn3g1e/QLzDktXI9L8c4ev5B83cP/xZzhn1mdy/2fhDs+7A57/N0eJpJI7yvwWztyRAxtG/wD5XQMpU1T+yEb03iffmvxpGXMmzz8w/s/XF4RML67+9dnTFFTfpP7loy6e5Je2/3KED3Pp3z79fxkeAHx7Vv4jljnjKFti/l1CU9jRX6r8svsndSiPkvwxRbxz1BPE/HCwF7Em+xD9dFEUoqHLwv5RZ1SwRSNa/5jT5/VgT0D+S4mZN9VvZPx5R7ShP6uq/CfUPSr2k97858z2cI2Ttv0UL5RafO4s/PSK+3ddA27/GeyM7htjhv9RTEGOHhcE/4ARlQgNN5D8sUSuZyR3hP5ysJNPnL+O/bM+fRlpz4D88dvsCzMboPw4ihpww2fC/LF3KhdmkxD/JAEiIPHXhP/KQ047jSeY/lvnbtCOVrj/YlyojiOziv+CPmBTf1ck/oKhrNT8e3L/aUkm8jkjnP9WhT1j3wtS/hkrm5tdHmT8w3+B0rvfHPwIqCSPp4c0/UCajESbc0r8vc3PtGp/Dv//ERN6GUuA/I7sEUmmowT/JnYELyyvEv1y1yuRsHuu/Kj+qF/fqlT/0rmwMs7SgP2slaRC9f+u/7tL3Eov8yj+sejnPpsrZvwH+48JlceU/wpDbMmlLy7/XhdMguyjhv27vUtPDDd2/jGhtktk28j9F91tt6nDXv6PQUJID2u0/CWn8dq+c4L8jTwN20iPSvzo+k3DCK6+/8++8EU20wb8QI26hSerQP7tlf9aIstg/J0lOFLuX7b8bjob0zsTav50tGNAVGc6/yL0EeVGT7z/KudCY5sfgv4dg05DocM8/qzMqWaeQ0L8nXBNZwmDfv4bzjvylGfG/8OAwDAz87L9O7V4bXnLKP5q9xfeDuO6/IziGKwmm+79c1Ncdm+zEvyTG911SU/O/zcNffViowD8DOigNov3xv5fCw7n+Gva/wE1kB3Yg1T/BY9VD5fDVvwXHi9LrjtW/30JUXglY7L9viUYWCOrMv5oSB/dmfN4/VhshbhZs6j8wJGm/hozcv5bDQS38E+G/nYWPTsam0L9ZsCSBC0vcv6wVhoq8j+K/5tEY0w4W0L8cwJyZ8zfjv8trsJr/uuG/pFqxUIlr3b+Hiz1VjZGzvyeNHB/LL4y/X6954J3g8j/49D+Y1ujWv4R55IlEzOq/tSs3wAIixb9MZMG50UPNv46sRreSCNS/+MgRTCEbqD+YFPuGNsnkv+3P60B0d9k/awAmUogtyT8xFWhkToPlv4nnjkFcQQNAVL2mEU92wj/5Y5b1He/0v8nh2euZD+q/mT4Yoj0uwz/IW4Tuf3bQP4FMToZdt/W/7XPfat4H+r8b5u7YLwDPv6XtNLA+s82/znXWA2xu5b//V5N1t6rsP6B1q2UFssG/ZzUJUjca7j/xZJ9rfiTzv4rpAyg40bO/ahLRjHhKwL8pfxNlqx7tP86IJcL4G/O/Q0+bTQpO0L+xepIy/ijgv0kvzC/jIdY/AsT3YL5u9L+/gA3AITfTv/5VP5yttMk/rpoVVRVi0b/ORJDeaN/3v1vHJMnF1Nq/sGB4IjgU4T8Be8l22ATcP9cf5ORPI9q/qUP5PNax07+KFVaFkPrjP9TzwNtlELm/AzP8KXh50r+Ov+OCRf/Vv0KIO+6NndE/Ac7poIH/5L/134eaQ8bxv1QNRzGRlNc/pRSWC9FIzr/RVuE1adHqv0xu8k0LWPS/itgSfY1m4b+Kh/djybOmP7to1e8RDcS/sGH1D4nRvr/7nBoHECrov9KKr7ztkuc/SuCH1eSp7D/f5hwTqdqmv/7GydCmpdu/hivJTHqlsj/AFRpopvfVP01XIPWEbbu/jIvY7ofG1L8maM51FNvAv6UjUx/FSuU/ymcqCknV7r+S9qZNsA/QvwBo027jgtM/l1J4do+/9j9BrF1Acx/zv5pKtkTTtty/AsSll6ma2T8V3K4aLuLMv4k7cMB/NOi/pXFRcJeMlD+RWOFfhFnVP9Lns3KGB/M/3fjLFQg31r+c7FXV3Ebfv163P1UCCty/1eIF7QOc5b9ndtS9LObcvxIfHF3LGdG/OMwPjmQIzL+C29Oo93PWv8wqx/2TkrM/O8cPBr/vtr8ZyiRV69HVv8melD1NQOA/CT+icvr8rD/qdKW/wyzqP6rOd/5dDu4/lI7ja7zywb+RScDBXQnav0IpkQK2XOe/dhwZ8aiG0b/FL8ghj/DSP8gKKvlci/G/BnYLZHix77/QOvum28EDwEyTefzgOwVABxUX5xYe67+iEpnokBPyv7sbGZu/+LO/MenECJCB7r/YIis4IuzmP2+bZy46HuI/mFV8T/Yc7r/Xf4gajUDrv6st/qaB7Me/mMZ2EI3F5T8eOv+qgLnlv5PbW6dalsi/K74rM72fsr+oRlROrdSov4Vysz4RruS/6qVqd2V9v7/s3nmc6d7kv1oEvTJtitu/9fgvx6o8ur+1vq9DRAbAv/zW6xVKTOC/FdMy8O5X6j9SNmWd0QPSv3r1OfZRb+E//RlFuw0Psj/Aehi/19XbP+WQwa0XQvW/0N5OAHum57+sN6uuMsDjP2OEEJNaLbk/0suN9ZPb0789EXecF+zRP1h/mjwoBus/f8bQK3lQCEClqKoX7UTkv1wX6P/lZ9S/qVjCdB0k4j+ODwRmVvfoPwHV9t9TxOW/r94LnxSE2b+XPtrMRPW1Pz6vfbocsJs/77AJL64D7r/KcNeYW5rev2KPyC9pQvU/O0rx+eFd6b8asG98F9PNP6UNi37TudG/W6TBUw+R6L+Y7jQTuIbeP49Kj/X77eK/kwAXjbLQyj8yhbP4wuTyv3qvpCavysQ/6IuQTNMz27/NZsjtcjDIv+RqxEI/iNG/jY9EIKVNxr+XYxgFrCTlvyYCrHMCfsu/m2KUGudb17+pCv8JHnTsPwuHfExsb+c/Qo/Ryw7j579vuF+gxg/Kv0GR+3B38bM/Erryntfv5D/tCshqLynkP3ReWguzZ6K/iHpOvwpl9b8D/TXN4fHeP6JM0AfME94/ndjus2af1b/z+lPRztjnv82NW8TGwsg/67ZWUMuI0r9FdipH20Lvvy3QH7W5kfO/IH+nf9hx7z9UbALjh1DzP8C39rYLdPi//wlU3fa24L92RS3H2arRP9UtvWmyftG/UUZCQasp6r9rwH48fja2P/mpIqkvYNO/QlQOKTdJ6j/oJuuVfGCiP63vHmQSRuK/a3uoyomm5z8xjEUkDvjcv+3Xs2HhkN0/UZgR/OiL7b/m0TihndToP58BjdMKJuM/w3RsORmB078tgVOeEmPxv4UC84aGR8Y/1Zgphi7ixb92403LCWC9P4SM26ja5HC/9bsL2XJN8T+xY/OOcsnkv6TUJqJOZO4/HsVpttgw4z/cvePNY9fUv5MtdtmhD/i/C3GSSS40A0CdJALK59TDv+FQvpvq1ti/Q1Oo724Iwz+v94DYfWzSP5cZUKzw+tO/1vvfqZu89L80MfPWxra6v3VlhLU77N6/I1b+K3ZU3L9Ql2ltxwbgv/xT2rTQ3fK/nJNzzVGBxL+us3Hmr3P2vzp7N3p7sfK/SFBdhhum279KUf8IdmWxP0eMPVmkOt6/PL34/tjCz79mnDW1SMjsv+izNOBrWr8/kN/+/8xV3r//A0humwzqvyafCWEKRL4/mUR3fGNQ079ldHVUcKroPx15Z8TQQN+/F01zmB/Rqr8g8ALdSHbZv+u77j6uh+e/GjQDUAdL5L+Pi5RNyFDov7jFfe/aSvC/XB/iSMwW0r+nN14NoDXuv57JLIS1h8i/phz+sR2L+r9jfN6VwG+kv8JhAPibhJE/Lbc0RT6I/r/+rlesCyTfv6MSP/pH+IM/xtfuelhrhL8gsQshNsLOv/nGAme3wOa/RYdIrzyl3L/NuG/xRU7fv191uwNDuMO/UQnehJny2b8llr4OOG3Rv7zzrx3N8cO/5FpIOC0p8b8Ol9D/MkLTv2oUjNsR9OI/Emqqt2Mbzj/d7d2z/trSv7jSBAoDc/m/m36ORnLnwD8NgEvQHFbev2JZuYhdOPO/D0b+bRsBzb/yrn+lSvnyvzLRGI5k9aS/Uw7IaT2l6j/DCNppnFbhv4JwB+3+0MS/B2b8UINY0z8l67l0CSnHvwcamUhG+s2/MBDbmDGspT8CMdGAcrjtP6Md4yNOfLg/lEeByzB527+Utvp7MYHBv21E/w3wsNy/WJ8oh1m9zT+N1Scgz+7SvwQuydhTjeu/YouxXh5J179SfgU/QHmvP7j7ITrlLfe/FowshTHJ/b8QhKVhVybVPzYq1WMvkQFA5nqc08Xy97/PWX8IQ+DZv4dVLe66l2A/+aM+XFIRwD+Dq4cfMmXTvyJEFHxQteq/zDphh397sj9ywZZIuIfjv70/ezveEu6/8it+FEoe4L8JJPhBC8nkPwpNxBRe4uQ/bZ4QaRBg3L/FwglBWB3Xv7JB1xVUvsw/0VkOrHYO2z+xY/iSyVaiv6FFGURDVuS/O2Ktfc1n1r+fntL1zk+0P5GJ0AHVCOu/MsNlvFdg5b+R+v6ERNTaP7x2zKmB38Y/eI5YbW+m8T/KkQbXznO3vxVmEkFQrZO/aAMTg/VE4j/ICrefRLvCPw==\"},\"shape\":[1931],\"dtype\":\"float64\",\"order\":\"little\"}],[\"AnnualVariance\",{\"type\":\"ndarray\",\"array\":{\"type\":\"bytes\",\"data\":\"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\"},\"shape\":[1931],\"dtype\":\"float64\",\"order\":\"little\"}],[\"Ticker\",[\"A\",\"A\",\"A\",\"A\",\"AAL\",\"AAL\",\"AAL\",\"AAL\",\"AAL\",\"AAPL\",\"AAPL\",\"AAPL\",\"AAPL\",\"ABBV\",\"ABBV\",\"ABBV\",\"ABBV\",\"ABT\",\"ABT\",\"ABT\",\"ABT\",\"ACGL\",\"ACGL\",\"ACGL\",\"ACGL\",\"ACN\",\"ACN\",\"ACN\",\"ACN\",\"ADBE\",\"ADBE\",\"ADBE\",\"ADBE\",\"ADI\",\"ADI\",\"ADI\",\"ADI\",\"ADM\",\"ADM\",\"ADM\",\"ADM\",\"ADP\",\"ADP\",\"ADP\",\"ADP\",\"ADSK\",\"ADSK\",\"ADSK\",\"ADSK\",\"AEE\",\"AEE\",\"AEE\",\"AEE\",\"AEP\",\"AEP\",\"AEP\",\"AEP\",\"AES\",\"AES\",\"AES\",\"AES\",\"AFL\",\"AFL\",\"AFL\",\"AFL\",\"AIG\",\"AIG\",\"AIG\",\"AIG\",\"AIZ\",\"AIZ\",\"AIZ\",\"AIZ\",\"AJG\",\"AJG\",\"AJG\",\"AJG\",\"AKAM\",\"AKAM\",\"AKAM\",\"AKAM\",\"ALB\",\"ALB\",\"ALB\",\"ALB\",\"ALB\",\"ALGN\",\"ALGN\",\"ALGN\",\"ALL\",\"ALL\",\"ALL\",\"ALL\",\"ALLE\",\"ALLE\",\"ALLE\",\"ALLE\",\"AMAT\",\"AMAT\",\"AMAT\",\"AMAT\",\"AMCR\",\"AMCR\",\"AMCR\",\"AMCR\",\"AMCR\",\"AMD\",\"AMD\",\"AMD\",\"AMD\",\"AME\",\"AME\",\"AME\",\"AME\",\"AMGN\",\"AMGN\",\"AMGN\",\"AMGN\",\"AMP\",\"AMP\",\"AMP\",\"AMP\",\"AMT\",\"AMT\",\"AMT\",\"AMT\",\"AMZN\",\"AMZN\",\"AMZN\",\"AMZN\",\"ANET\",\"ANET\",\"ANET\",\"ANET\",\"ANET\",\"ANSS\",\"ANSS\",\"ANSS\",\"ANSS\",\"AON\",\"AON\",\"AON\",\"AON\",\"AOS\",\"AOS\",\"AOS\",\"AOS\",\"APA\",\"APA\",\"APA\",\"APA\",\"APA\",\"APD\",\"APD\",\"APD\",\"APD\",\"APH\",\"APH\",\"APH\",\"APH\",\"APTV\",\"APTV\",\"APTV\",\"APTV\",\"ARE\",\"ARE\",\"ARE\",\"ARE\",\"ATO\",\"ATO\",\"ATO\",\"ATO\",\"AVB\",\"AVB\",\"AVB\",\"AVB\",\"AVGO\",\"AVGO\",\"AVGO\",\"AVGO\",\"AVY\",\"AVY\",\"AVY\",\"AVY\",\"AWK\",\"AWK\",\"AWK\",\"AWK\",\"AXON\",\"AXON\",\"AXON\",\"AXON\",\"AXP\",\"AXP\",\"AXP\",\"AXP\",\"BA\",\"BA\",\"BA\",\"BAC\",\"BAC\",\"BAC\",\"BAC\",\"BALL\",\"BALL\",\"BALL\",\"BALL\",\"BAX\",\"BAX\",\"BAX\",\"BAX\",\"BBWI\",\"BBWI\",\"BBWI\",\"BBWI\",\"BBWI\",\"BBY\",\"BBY\",\"BBY\",\"BBY\",\"BDX\",\"BDX\",\"BDX\",\"BDX\",\"BEN\",\"BEN\",\"BEN\",\"BEN\",\"BEN\",\"BG\",\"BG\",\"BG\",\"BG\",\"BIIB\",\"BIIB\",\"BIO\",\"BIO\",\"BIO\",\"BIO\",\"BK\",\"BK\",\"BK\",\"BK\",\"BKR\",\"BKR\",\"BKR\",\"BKR\",\"BLDR\",\"BLDR\",\"BLDR\",\"BLDR\",\"BLK\",\"BMY\",\"BMY\",\"BMY\",\"BMY\",\"BR\",\"BR\",\"BR\",\"BR\",\"BRO\",\"BRO\",\"BRO\",\"BRO\",\"BSX\",\"BSX\",\"BSX\",\"BSX\",\"BWA\",\"BWA\",\"BWA\",\"BWA\",\"BX\",\"BX\",\"BX\",\"BX\",\"BXP\",\"BXP\",\"BXP\",\"BXP\",\"C\",\"C\",\"C\",\"C\",\"CAG\",\"CAG\",\"CAG\",\"CAG\",\"CAH\",\"CAH\",\"CAH\",\"CAH\",\"CAT\",\"CAT\",\"CAT\",\"CAT\",\"CB\",\"CB\",\"CB\",\"CB\",\"CBOE\",\"CBOE\",\"CBOE\",\"CBOE\",\"CBRE\",\"CBRE\",\"CBRE\",\"CBRE\",\"CCI\",\"CCI\",\"CCI\",\"CCI\",\"CCL\",\"CCL\",\"CCL\",\"CCL\",\"CCL\",\"CDNS\",\"CDNS\",\"CDNS\",\"CDNS\",\"CDW\",\"CDW\",\"CDW\",\"CDW\",\"CE\",\"CE\",\"CE\",\"CE\",\"CF\",\"CF\",\"CF\",\"CF\",\"CFG\",\"CFG\",\"CFG\",\"CFG\",\"CHD\",\"CHD\",\"CHD\",\"CHD\",\"CHRW\",\"CHRW\",\"CHRW\",\"CHRW\",\"CHTR\",\"CHTR\",\"CI\",\"CI\",\"CI\",\"CI\",\"CINF\",\"CINF\",\"CINF\",\"CINF\",\"CL\",\"CL\",\"CL\",\"CL\",\"CLX\",\"CLX\",\"CLX\",\"CLX\",\"CMCSA\",\"CMCSA\",\"CMCSA\",\"CMCSA\",\"CME\",\"CME\",\"CME\",\"CME\",\"CMG\",\"CMG\",\"CMG\",\"CMG\",\"CMI\",\"CMI\",\"CMI\",\"CMI\",\"CMS\",\"CMS\",\"CMS\",\"CMS\",\"CNC\",\"CNC\",\"CNC\",\"CNC\",\"CNP\",\"CNP\",\"CNP\",\"CNP\",\"CNP\",\"COF\",\"COF\",\"COF\",\"COF\",\"COO\",\"COO\",\"COO\",\"COO\",\"COP\",\"COP\",\"COP\",\"COP\",\"COP\",\"COR\",\"COR\",\"COR\",\"COR\",\"COST\",\"COST\",\"COST\",\"COST\",\"CPAY\",\"CPAY\",\"CPAY\",\"CPAY\",\"CPB\",\"CPB\",\"CPB\",\"CPB\",\"CPRT\",\"CPRT\",\"CPRT\",\"CPRT\",\"CPT\",\"CPT\",\"CPT\",\"CPT\",\"CRL\",\"CRL\",\"CRL\",\"CRL\",\"CRM\",\"CRM\",\"CRM\",\"CRM\",\"CRWD\",\"CSCO\",\"CSCO\",\"CSCO\",\"CSCO\",\"CSGP\",\"CSGP\",\"CSGP\",\"CSGP\",\"CSX\",\"CSX\",\"CSX\",\"CSX\",\"CTAS\",\"CTAS\",\"CTAS\",\"CTAS\",\"CTLT\",\"CTLT\",\"CTLT\",\"CTLT\",\"CTRA\",\"CTRA\",\"CTRA\",\"CTRA\",\"CTRA\",\"CTSH\",\"CTSH\",\"CTSH\",\"CTSH\",\"CTSH\",\"CTVA\",\"CVS\",\"CVS\",\"CVS\",\"CVS\",\"CVX\",\"CVX\",\"CVX\",\"CVX\",\"CZR\",\"CZR\",\"CZR\",\"CZR\",\"D\",\"D\",\"D\",\"D\",\"DAL\",\"DAL\",\"DAL\",\"DAL\",\"DAY\",\"DD\",\"DD\",\"DD\",\"DD\",\"DD\",\"DE\",\"DE\",\"DE\",\"DE\",\"DECK\",\"DECK\",\"DECK\",\"DECK\",\"DFS\",\"DFS\",\"DFS\",\"DFS\",\"DG\",\"DG\",\"DG\",\"DG\",\"DGX\",\"DGX\",\"DGX\",\"DGX\",\"DHI\",\"DHI\",\"DHI\",\"DHI\",\"DHR\",\"DHR\",\"DHR\",\"DHR\",\"DIS\",\"DIS\",\"DIS\",\"DIS\",\"DLR\",\"DLR\",\"DLR\",\"DLR\",\"DLTR\",\"DLTR\",\"DLTR\",\"DLTR\",\"DOC\",\"DOC\",\"DOC\",\"DOC\",\"DOV\",\"DOV\",\"DOV\",\"DOV\",\"DPZ\",\"DPZ\",\"DPZ\",\"DPZ\",\"DRI\",\"DRI\",\"DRI\",\"DRI\",\"DTE\",\"DTE\",\"DTE\",\"DTE\",\"DUK\",\"DUK\",\"DUK\",\"DUK\",\"DVA\",\"DVA\",\"DVA\",\"DVA\",\"DVN\",\"DVN\",\"DVN\",\"DVN\",\"DVN\",\"DXCM\",\"DXCM\",\"DXCM\",\"DXCM\",\"EA\",\"EA\",\"EA\",\"EA\",\"EBAY\",\"EBAY\",\"EBAY\",\"EBAY\",\"ECL\",\"ECL\",\"ECL\",\"ECL\",\"ED\",\"ED\",\"ED\",\"ED\",\"EFX\",\"EFX\",\"EFX\",\"EFX\",\"EG\",\"EG\",\"EG\",\"EG\",\"EIX\",\"EIX\",\"EIX\",\"EIX\",\"EL\",\"EL\",\"EL\",\"EL\",\"ELV\",\"ELV\",\"ELV\",\"ELV\",\"EMN\",\"EMN\",\"EMN\",\"EMN\",\"EMR\",\"EMR\",\"EMR\",\"EMR\",\"ENPH\",\"ENPH\",\"ENPH\",\"ENPH\",\"EOG\",\"EOG\",\"EOG\",\"EOG\",\"EOG\",\"EPAM\",\"EPAM\",\"EPAM\",\"EPAM\",\"EQIX\",\"EQR\",\"EQR\",\"EQR\",\"EQR\",\"EQT\",\"EQT\",\"EQT\",\"EQT\",\"EQT\",\"ES\",\"ES\",\"ES\",\"ES\",\"ESS\",\"ESS\",\"ESS\",\"ESS\",\"ETN\",\"ETN\",\"ETN\",\"ETN\",\"ETR\",\"ETR\",\"ETR\",\"ETR\",\"ETSY\",\"ETSY\",\"ETSY\",\"ETSY\",\"EVRG\",\"EVRG\",\"EVRG\",\"EVRG\",\"EW\",\"EW\",\"EW\",\"EW\",\"EXC\",\"EXC\",\"EXC\",\"EXC\",\"EXC\",\"EXPD\",\"EXPD\",\"EXPD\",\"EXPD\",\"EXPE\",\"EXPE\",\"EXPE\",\"EXPE\",\"EXR\",\"EXR\",\"EXR\",\"EXR\",\"F\",\"F\",\"F\",\"F\",\"F\",\"FANG\",\"FANG\",\"FANG\",\"FANG\",\"FAST\",\"FAST\",\"FAST\",\"FAST\",\"FCX\",\"FCX\",\"FCX\",\"FCX\",\"FDS\",\"FDS\",\"FDS\",\"FDS\",\"FDX\",\"FDX\",\"FDX\",\"FDX\",\"FE\",\"FE\",\"FE\",\"FE\",\"FFIV\",\"FFIV\",\"FFIV\",\"FFIV\",\"FI\",\"FI\",\"FI\",\"FI\",\"FICO\",\"FICO\",\"FICO\",\"FICO\",\"FIS\",\"FIS\",\"FIS\",\"FIS\",\"FITB\",\"FITB\",\"FITB\",\"FITB\",\"FMC\",\"FMC\",\"FMC\",\"FMC\",\"FOXA\",\"FRT\",\"FRT\",\"FRT\",\"FRT\",\"FSLR\",\"FSLR\",\"FSLR\",\"FSLR\",\"FTNT\",\"FTNT\",\"FTNT\",\"FTNT\",\"FTV\",\"FTV\",\"FTV\",\"GD\",\"GD\",\"GD\",\"GD\",\"GDDY\",\"GDDY\",\"GDDY\",\"GDDY\",\"GE\",\"GE\",\"GE\",\"GE\",\"GEN\",\"GEN\",\"GEN\",\"GEN\",\"GILD\",\"GILD\",\"GILD\",\"GILD\",\"GILD\",\"GIS\",\"GIS\",\"GIS\",\"GIS\",\"GL\",\"GL\",\"GL\",\"GL\",\"GLW\",\"GLW\",\"GLW\",\"GLW\",\"GLW\",\"GM\",\"GM\",\"GM\",\"GM\",\"GM\",\"GNRC\",\"GNRC\",\"GNRC\",\"GNRC\",\"GOOGL\",\"GOOGL\",\"GOOGL\",\"GOOGL\",\"GPC\",\"GPC\",\"GPC\",\"GPC\",\"GPN\",\"GPN\",\"GPN\",\"GPN\",\"GRMN\",\"GRMN\",\"GRMN\",\"GRMN\",\"GS\",\"GS\",\"GS\",\"GS\",\"GWW\",\"GWW\",\"GWW\",\"HAL\",\"HAL\",\"HAL\",\"HAL\",\"HAL\",\"HAS\",\"HAS\",\"HAS\",\"HAS\",\"HBAN\",\"HBAN\",\"HBAN\",\"HBAN\",\"HCA\",\"HCA\",\"HCA\",\"HCA\",\"HD\",\"HD\",\"HD\",\"HD\",\"HES\",\"HES\",\"HES\",\"HES\",\"HIG\",\"HIG\",\"HIG\",\"HIG\",\"HII\",\"HII\",\"HII\",\"HII\",\"HLT\",\"HLT\",\"HLT\",\"HLT\",\"HOLX\",\"HOLX\",\"HOLX\",\"HOLX\",\"HON\",\"HON\",\"HON\",\"HON\",\"HPE\",\"HPE\",\"HPE\",\"HPE\",\"HPE\",\"HPQ\",\"HPQ\",\"HPQ\",\"HPQ\",\"HPQ\",\"HRL\",\"HRL\",\"HRL\",\"HRL\",\"HRL\",\"HSIC\",\"HSIC\",\"HSIC\",\"HSIC\",\"HST\",\"HST\",\"HST\",\"HST\",\"HST\",\"HSY\",\"HSY\",\"HSY\",\"HSY\",\"HUBB\",\"HUBB\",\"HUBB\",\"HUBB\",\"HUM\",\"HUM\",\"HUM\",\"HWM\",\"HWM\",\"HWM\",\"IBM\",\"IBM\",\"IBM\",\"IBM\",\"ICE\",\"ICE\",\"ICE\",\"ICE\",\"IDXX\",\"IDXX\",\"IDXX\",\"IDXX\",\"IEX\",\"IEX\",\"IEX\",\"IEX\",\"IFF\",\"IFF\",\"IFF\",\"IFF\",\"INCY\",\"INCY\",\"INCY\",\"INCY\",\"INTC\",\"INTC\",\"INTC\",\"INTC\",\"INTU\",\"INTU\",\"INTU\",\"INTU\",\"INVH\",\"INVH\",\"IP\",\"IP\",\"IP\",\"IP\",\"IPG\",\"IPG\",\"IPG\",\"IPG\",\"IPG\",\"IQV\",\"IQV\",\"IQV\",\"IQV\",\"IR\",\"IR\",\"IRM\",\"IRM\",\"IRM\",\"IRM\",\"IRM\",\"ISRG\",\"ISRG\",\"ISRG\",\"ISRG\",\"IT\",\"IT\",\"IT\",\"IT\",\"ITW\",\"ITW\",\"ITW\",\"ITW\",\"IVZ\",\"IVZ\",\"IVZ\",\"IVZ\",\"IVZ\",\"J\",\"J\",\"J\",\"J\",\"JBHT\",\"JBHT\",\"JBHT\",\"JBHT\",\"JBL\",\"JBL\",\"JBL\",\"JBL\",\"JCI\",\"JCI\",\"JCI\",\"JCI\",\"JKHY\",\"JKHY\",\"JKHY\",\"JKHY\",\"JNJ\",\"JNJ\",\"JNJ\",\"JNJ\",\"JNPR\",\"JNPR\",\"JNPR\",\"JNPR\",\"JNPR\",\"JPM\",\"JPM\",\"JPM\",\"JPM\",\"K\",\"K\",\"K\",\"K\",\"KDP\",\"KDP\",\"KDP\",\"KDP\",\"KEY\",\"KEY\",\"KEY\",\"KEY\",\"KEYS\",\"KEYS\",\"KEYS\",\"KEYS\",\"KHC\",\"KHC\",\"KHC\",\"KHC\",\"KHC\",\"KIM\",\"KIM\",\"KIM\",\"KIM\",\"KKR\",\"KKR\",\"KKR\",\"KKR\",\"KLAC\",\"KLAC\",\"KLAC\",\"KLAC\",\"KMB\",\"KMB\",\"KMB\",\"KMB\",\"KMI\",\"KMI\",\"KMI\",\"KMI\",\"KMX\",\"KMX\",\"KMX\",\"KMX\",\"KO\",\"KO\",\"KO\",\"KO\",\"KR\",\"KR\",\"KR\",\"KR\",\"KR\",\"L\",\"L\",\"L\",\"L\",\"LDOS\",\"LDOS\",\"LDOS\",\"LDOS\",\"LEN\",\"LEN\",\"LEN\",\"LEN\",\"LH\",\"LH\",\"LH\",\"LH\",\"LHX\",\"LHX\",\"LHX\",\"LHX\",\"LIN\",\"LIN\",\"LIN\",\"LIN\",\"LKQ\",\"LKQ\",\"LKQ\",\"LKQ\",\"LLY\",\"LLY\",\"LLY\",\"LLY\",\"LMT\",\"LMT\",\"LMT\",\"LNT\",\"LNT\",\"LNT\",\"LNT\",\"LOW\",\"LOW\",\"LOW\",\"LOW\",\"LRCX\",\"LRCX\",\"LRCX\",\"LRCX\",\"LULU\",\"LULU\",\"LULU\",\"LULU\",\"LUV\",\"LUV\",\"LUV\",\"LUV\",\"LVS\",\"LVS\",\"LVS\",\"LVS\",\"LW\",\"LW\",\"LW\",\"LYB\",\"LYB\",\"LYB\",\"LYB\",\"LYV\",\"LYV\",\"LYV\",\"LYV\",\"MA\",\"MA\",\"MA\",\"MA\",\"MAA\",\"MAA\",\"MAA\",\"MAA\",\"MAR\",\"MAR\",\"MAR\",\"MAR\",\"MAS\",\"MAS\",\"MAS\",\"MAS\",\"MCD\",\"MCD\",\"MCD\",\"MCD\",\"MCHP\",\"MCHP\",\"MCHP\",\"MCHP\",\"MCK\",\"MCK\",\"MCK\",\"MCK\",\"MCO\",\"MCO\",\"MCO\",\"MCO\",\"MDLZ\",\"MDLZ\",\"MDLZ\",\"MDLZ\",\"MDT\",\"MDT\",\"MDT\",\"MDT\",\"MET\",\"MET\",\"MET\",\"MET\",\"META\",\"META\",\"META\",\"META\",\"MGM\",\"MGM\",\"MGM\",\"MGM\",\"MHK\",\"MHK\",\"MHK\",\"MHK\",\"MKC\",\"MKC\",\"MKC\",\"MKC\",\"MKTX\",\"MKTX\",\"MKTX\",\"MKTX\",\"MLM\",\"MLM\",\"MLM\",\"MLM\",\"MMC\",\"MMC\",\"MMC\",\"MMC\",\"MMM\",\"MMM\",\"MMM\",\"MMM\",\"MNST\",\"MNST\",\"MNST\",\"MNST\",\"MO\",\"MO\",\"MO\",\"MO\",\"MO\",\"MOH\",\"MOH\",\"MOH\",\"MOH\",\"MOS\",\"MOS\",\"MOS\",\"MOS\",\"MOS\",\"MPC\",\"MPC\",\"MPC\",\"MPC\",\"MPC\",\"MPWR\",\"MPWR\",\"MPWR\",\"MPWR\",\"MRK\",\"MRK\",\"MRK\",\"MRK\",\"MRNA\",\"MRO\",\"MRO\",\"MRO\",\"MRO\",\"MRO\",\"MS\",\"MS\",\"MS\",\"MS\",\"MSCI\",\"MSCI\",\"MSCI\",\"MSCI\",\"MSFT\",\"MSFT\",\"MSFT\",\"MSFT\",\"MSI\",\"MSI\",\"MSI\",\"MSI\",\"MTB\",\"MTB\",\"MTB\",\"MTB\",\"MTCH\",\"MTCH\",\"MTCH\",\"MTCH\",\"MTD\",\"MU\",\"MU\",\"MU\",\"MU\",\"NCLH\",\"NCLH\",\"NCLH\",\"NCLH\",\"NDAQ\",\"NDAQ\",\"NDAQ\",\"NDAQ\",\"NDSN\",\"NDSN\",\"NDSN\",\"NDSN\",\"NEE\",\"NEE\",\"NEE\",\"NEE\",\"NEM\",\"NEM\",\"NEM\",\"NEM\",\"NFLX\",\"NFLX\",\"NFLX\",\"NI\",\"NI\",\"NI\",\"NI\",\"NI\",\"NKE\",\"NKE\",\"NKE\",\"NKE\",\"NOC\",\"NOC\",\"NOC\",\"NOW\",\"NOW\",\"NOW\",\"NOW\",\"NRG\",\"NRG\",\"NRG\",\"NRG\",\"NRG\",\"NSC\",\"NSC\",\"NSC\",\"NSC\",\"NTAP\",\"NTAP\",\"NTAP\",\"NTAP\",\"NTAP\",\"NTRS\",\"NTRS\",\"NTRS\",\"NTRS\",\"NUE\",\"NUE\",\"NUE\",\"NUE\",\"NWSA\",\"NWSA\",\"NWSA\",\"NWSA\",\"NXPI\",\"NXPI\",\"NXPI\",\"NXPI\",\"O\",\"O\",\"O\",\"O\",\"ODFL\",\"ODFL\",\"ODFL\",\"ODFL\",\"OKE\",\"OKE\",\"OKE\",\"OKE\",\"OMC\",\"OMC\",\"OMC\",\"OMC\",\"ON\",\"ON\",\"ON\",\"ON\",\"ORCL\",\"ORCL\",\"ORCL\",\"ORCL\",\"ORLY\",\"ORLY\",\"ORLY\",\"OXY\",\"OXY\",\"OXY\",\"OXY\",\"OXY\",\"PANW\",\"PANW\",\"PANW\",\"PANW\",\"PARA\",\"PARA\",\"PARA\",\"PARA\",\"PARA\",\"PAYC\",\"PAYC\",\"PAYC\",\"PAYC\",\"PAYX\",\"PAYX\",\"PAYX\",\"PAYX\",\"PCAR\",\"PCAR\",\"PCAR\",\"PCAR\",\"PCG\",\"PCG\",\"PCG\",\"PCG\",\"PCG\",\"PEG\",\"PEG\",\"PEG\",\"PEG\",\"PEP\",\"PEP\",\"PEP\",\"PEP\",\"PFE\",\"PFE\",\"PFE\",\"PFE\",\"PFE\",\"PFG\",\"PFG\",\"PFG\",\"PFG\",\"PG\",\"PG\",\"PG\",\"PG\",\"PGR\",\"PGR\",\"PGR\",\"PGR\",\"PH\",\"PH\",\"PH\",\"PH\",\"PHM\",\"PHM\",\"PHM\",\"PHM\",\"PKG\",\"PKG\",\"PKG\",\"PKG\",\"PLD\",\"PLD\",\"PLD\",\"PLD\",\"PM\",\"PM\",\"PM\",\"PM\",\"PNC\",\"PNC\",\"PNC\",\"PNC\",\"PNR\",\"PNR\",\"PNR\",\"PNR\",\"PNW\",\"PNW\",\"PNW\",\"PNW\",\"PODD\",\"PODD\",\"PODD\",\"PODD\",\"POOL\",\"POOL\",\"POOL\",\"POOL\",\"PPG\",\"PPG\",\"PPG\",\"PPG\",\"PPL\",\"PPL\",\"PPL\",\"PPL\",\"PRU\",\"PRU\",\"PRU\",\"PRU\",\"PSA\",\"PSA\",\"PSA\",\"PSA\",\"PSX\",\"PSX\",\"PSX\",\"PSX\",\"PTC\",\"PTC\",\"PTC\",\"PTC\",\"PTC\",\"PWR\",\"PWR\",\"PWR\",\"PWR\",\"PYPL\",\"PYPL\",\"PYPL\",\"PYPL\",\"QCOM\",\"QCOM\",\"QCOM\",\"QCOM\",\"QRVO\",\"QRVO\",\"QRVO\",\"QRVO\",\"RCL\",\"RCL\",\"RCL\",\"RCL\",\"REG\",\"REG\",\"REG\",\"REG\",\"RF\",\"RF\",\"RF\",\"RF\",\"RJF\",\"RJF\",\"RJF\",\"RJF\",\"RL\",\"RL\",\"RL\",\"RL\",\"RMD\",\"RMD\",\"RMD\",\"RMD\",\"ROK\",\"ROK\",\"ROK\",\"ROK\",\"ROL\",\"ROL\",\"ROL\",\"ROL\",\"ROL\",\"ROP\",\"ROP\",\"ROP\",\"ROP\",\"ROST\",\"ROST\",\"ROST\",\"ROST\",\"RSG\",\"RSG\",\"RSG\",\"RSG\",\"RTX\",\"RTX\",\"RTX\",\"RTX\",\"RVTY\",\"RVTY\",\"RVTY\",\"RVTY\",\"SBAC\",\"SBAC\",\"SBAC\",\"SBAC\",\"SBUX\",\"SBUX\",\"SBUX\",\"SBUX\",\"SCHW\",\"SCHW\",\"SCHW\",\"SCHW\",\"SHW\",\"SHW\",\"SHW\",\"SHW\",\"SJM\",\"SJM\",\"SJM\",\"SJM\",\"SLB\",\"SLB\",\"SLB\",\"SLB\",\"SLB\",\"SMCI\",\"SMCI\",\"SMCI\",\"SMCI\",\"SNA\",\"SNA\",\"SNA\",\"SNA\",\"SNPS\",\"SNPS\",\"SNPS\",\"SNPS\",\"SO\",\"SO\",\"SO\",\"SO\",\"SPG\",\"SPG\",\"SPG\",\"SPG\",\"SPGI\",\"SPGI\",\"SPGI\",\"SPGI\",\"SRE\",\"SRE\",\"SRE\",\"SRE\",\"STE\",\"STE\",\"STE\",\"STE\",\"STLD\",\"STLD\",\"STLD\",\"STLD\",\"STT\",\"STT\",\"STT\",\"STT\",\"STX\",\"STX\",\"STX\",\"STX\",\"STZ\",\"STZ\",\"STZ\",\"STZ\",\"SWK\",\"SWK\",\"SWK\",\"SWK\",\"SWKS\",\"SWKS\",\"SWKS\",\"SWKS\",\"SYF\",\"SYF\",\"SYF\",\"SYF\",\"SYK\",\"SYK\",\"SYK\",\"SYK\",\"SYY\",\"SYY\",\"SYY\",\"SYY\",\"T\",\"T\",\"T\",\"T\",\"TAP\",\"TAP\",\"TAP\",\"TAP\",\"TAP\",\"TDG\",\"TDG\",\"TDG\",\"TDY\",\"TDY\",\"TDY\",\"TDY\",\"TECH\",\"TECH\",\"TECH\",\"TECH\",\"TEL\",\"TEL\",\"TEL\",\"TEL\",\"TER\",\"TER\",\"TER\",\"TER\",\"TFC\",\"TFC\",\"TFC\",\"TFC\",\"TFX\",\"TFX\",\"TFX\",\"TFX\",\"TGT\",\"TGT\",\"TGT\",\"TGT\",\"TJX\",\"TJX\",\"TJX\",\"TJX\",\"TMO\",\"TMO\",\"TMO\",\"TMO\",\"TMUS\",\"TMUS\",\"TMUS\",\"TMUS\",\"TPR\",\"TPR\",\"TPR\",\"TPR\",\"TPR\",\"TRGP\",\"TRGP\",\"TRGP\",\"TRGP\",\"TRGP\",\"TRMB\",\"TRMB\",\"TRMB\",\"TRMB\",\"TROW\",\"TROW\",\"TROW\",\"TROW\",\"TRV\",\"TRV\",\"TRV\",\"TRV\",\"TSCO\",\"TSCO\",\"TSCO\",\"TSCO\",\"TSLA\",\"TSLA\",\"TSLA\",\"TSLA\",\"TSN\",\"TSN\",\"TSN\",\"TSN\",\"TT\",\"TT\",\"TT\",\"TT\",\"TTWO\",\"TTWO\",\"TTWO\",\"TTWO\",\"TXN\",\"TXN\",\"TXN\",\"TXN\",\"TXT\",\"TXT\",\"TXT\",\"TXT\",\"TXT\",\"TYL\",\"TYL\",\"TYL\",\"TYL\",\"UAL\",\"UAL\",\"UAL\",\"UAL\",\"UBER\",\"UDR\",\"UDR\",\"UDR\",\"UDR\",\"UHS\",\"UHS\",\"UHS\",\"UHS\",\"ULTA\",\"ULTA\",\"ULTA\",\"ULTA\",\"UNH\",\"UNH\",\"UNH\",\"UNH\",\"UNP\",\"UNP\",\"UNP\",\"UNP\",\"UPS\",\"UPS\",\"UPS\",\"UPS\",\"URI\",\"URI\",\"URI\",\"URI\",\"USB\",\"USB\",\"USB\",\"USB\",\"V\",\"V\",\"V\",\"V\",\"VICI\",\"VLO\",\"VLO\",\"VLO\",\"VLO\",\"VMC\",\"VMC\",\"VMC\",\"VMC\",\"VRSK\",\"VRSK\",\"VRSK\",\"VRSK\",\"VRSN\",\"VRSN\",\"VRSN\",\"VRSN\",\"VRTX\",\"VRTX\",\"VRTX\",\"VRTX\",\"VST\",\"VST\",\"VST\",\"VST\",\"VTR\",\"VTR\",\"VTR\",\"VTR\",\"VTRS\",\"VTRS\",\"VTRS\",\"VTRS\",\"VTRS\",\"VZ\",\"VZ\",\"VZ\",\"VZ\",\"WAB\",\"WAB\",\"WAB\",\"WAB\",\"WAT\",\"WAT\",\"WAT\",\"WAT\",\"WBA\",\"WBA\",\"WBA\",\"WBA\",\"WBA\",\"WBD\",\"WBD\",\"WBD\",\"WBD\",\"WDC\",\"WDC\",\"WDC\",\"WDC\",\"WEC\",\"WEC\",\"WEC\",\"WEC\",\"WELL\",\"WELL\",\"WELL\",\"WELL\",\"WFC\",\"WFC\",\"WFC\",\"WFC\",\"WM\",\"WM\",\"WM\",\"WM\",\"WMB\",\"WMB\",\"WMB\",\"WMB\",\"WMB\",\"WMT\",\"WMT\",\"WMT\",\"WMT\",\"WRB\",\"WRB\",\"WRB\",\"WRB\",\"WST\",\"WST\",\"WST\",\"WST\",\"WTW\",\"WTW\",\"WTW\",\"WTW\",\"WY\",\"WY\",\"WY\",\"WY\",\"WYNN\",\"WYNN\",\"WYNN\",\"WYNN\",\"XEL\",\"XEL\",\"XEL\",\"XEL\",\"XOM\",\"XOM\",\"XOM\",\"XOM\",\"XYL\",\"XYL\",\"XYL\",\"XYL\",\"YUM\",\"YUM\",\"YUM\",\"YUM\",\"ZBH\",\"ZBH\",\"ZBH\",\"ZBH\",\"ZBRA\",\"ZBRA\",\"ZBRA\",\"ZBRA\",\"ZTS\",\"ZTS\",\"ZTS\",\"ZTS\"]],[\"StockCluster\",[0,0,0,0,0,0,0,0,0,0,0,0,0,0,0,0,0,0,0,0,0,0,0,0,0,0,0,0,0,0,0,0,0,0,0,0,0,0,0,0,0,0,0,0,0,0,0,0,0,0,0,0,0,0,0,0,0,0,0,0,0,0,0,0,0,0,0,0,0,0,0,0,0,0,0,0,0,0,0,0,0,0,0,0,0,0,0,0,0,0,0,0,0,0,0,0,0,0,0,0,0,0,0,0,0,0,0,0,0,0,0,0,0,0,0,0,0,0,0,0,0,0,0,0,0,0,0,0,0,0,0,0,0,0,0,0,0,0,0,0,0,0,0,0,0,0,0,0,0,0,0,0,0,0,0,0,0,0,0,0,0,0,0,0,0,0,0,0,0,0,0,0,0,0,0,0,0,0,0,0,0,0,0,0,0,0,0,0,0,0,0,0,0,0,0,0,0,0,0,0,0,0,0,0,0,0,0,0,0,0,0,0,0,0,0,0,0,0,0,0,0,0,0,0,0,0,0,0,0,0,0,0,0,0,0,0,0,0,0,0,0,0,0,0,0,0,0,0,0,0,0,0,0,0,0,0,0,0,0,0,0,0,0,0,0,0,0,0,0,0,0,0,0,0,0,0,0,0,0,0,0,0,0,0,0,0,0,0,0,0,0,0,0,0,0,0,0,0,0,0,0,0,0,0,0,0,0,0,0,0,0,0,0,0,0,0,0,0,0,0,0,0,0,0,0,0,0,0,0,0,0,0,0,0,0,0,0,0,0,0,0,0,0,0,0,0,0,0,0,0,0,0,0,0,0,0,0,0,0,0,0,0,0,0,0,0,0,0,0,0,0,0,0,0,0,0,0,0,0,0,0,0,0,0,0,0,0,0,0,0,0,0,0,0,0,0,0,0,0,0,0,0,0,0,0,0,0,0,0,0,0,0,0,0,0,0,0,0,0,0,0,0,0,0,0,0,0,0,0,0,0,0,0,0,0,0,0,0,0,0,0,0,0,0,0,0,0,0,0,0,0,0,0,0,0,0,0,0,0,0,0,0,0,0,0,0,0,0,0,0,0,0,0,0,0,0,0,0,0,0,0,0,0,0,0,0,0,0,0,0,0,0,0,0,0,0,0,0,0,0,0,0,0,0,0,0,0,0,0,0,0,0,0,0,0,0,0,0,0,0,0,0,0,0,0,0,0,0,0,0,0,0,0,0,0,0,0,0,0,0,0,0,0,0,0,0,0,0,0,0,0,0,0,0,0,0,0,0,0,0,0,0,0,0,0,0,0,0,0,0,0,0,0,0,0,0,0,0,0,0,0,0,0,0,0,0,0,0,0,0,0,0,0,0,0,0,0,0,0,0,0,0,0,0,0,0,0,0,0,0,0,0,0,0,0,0,0,0,0,0,0,0,0,0,0,0,0,0,0,0,0,0,0,0,0,0,0,0,0,0,0,0,0,0,0,0,0,0,0,0,0,0,0,0,0,0,0,0,0,0,0,0,0,0,0,0,0,0,0,0,0,0,0,0,0,0,0,0,0,0,0,0,0,0,0,0,0,0,0,0,0,0,0,0,0,0,0,0,0,0,0,0,0,0,0,0,0,0,0,0,0,0,0,0,0,0,0,0,0,0,0,0,0,0,0,0,0,0,0,0,0,0,0,0,0,0,0,0,0,0,0,0,0,0,0,0,0,0,0,0,0,0,0,0,0,0,0,0,0,0,0,0,0,0,0,0,0,0,0,0,0,0,0,0,0,0,0,0,0,0,0,0,0,0,0,0,0,0,0,0,0,0,0,0,0,0,0,0,0,0,0,0,0,0,0,0,0,0,0,0,0,0,0,0,0,0,0,0,0,0,0,0,0,0,0,0,0,0,0,0,0,0,0,0,0,0,0,0,0,0,0,0,0,0,0,0,0,0,0,0,0,0,0,0,0,0,0,0,0,0,0,0,0,0,0,0,0,0,0,0,0,0,0,0,0,0,0,0,0,0,0,0,0,0,0,0,0,0,0,0,0,0,0,0,0,0,0,0,0,0,0,0,0,0,0,0,0,0,0,0,0,0,0,0,0,0,0,0,0,0,0,0,0,0,0,0,0,0,0,0,0,0,0,0,0,0,0,0,0,0,0,0,0,0,0,0,0,0,0,0,0,0,0,0,0,0,0,0,0,0,0,0,0,0,0,0,0,0,0,0,0,0,0,0,0,0,0,0,0,0,0,0,0,0,0,0,0,0,0,0,0,0,0,0,0,0,0,0,0,0,0,0,0,0,0,0,0,0,0,0,0,0,0,0,0,0,0,0,0,0,0,0,0,0,0,0,0,0,0,0,0,0,0,0,0,0,0,0,0,0,0,0,0,0,0,0,0,0,0,0,0,0,0,0,0,0,0,0,0,0,0,0,0,0,0,0,0,0,0,0,0,0,0,0,0,0,0,0,0,0,0,0,0,0,0,0,0,0,0,0,0,0,0,0,0,0,0,0,0,0,0,0,0,0,0,0,0,0,0,0,0,0,0,0,0,0,0,0,0,0,0,0,0,0,0,0,0,0,0,0,0,0,0,0,0,0,0,0,0,0,0,0,0,0,0,0,0,0,0,0,0,0,0,0,0,0,0,0,0,0,0,0,0,0,0,0,0,0,0,0,0,0,0,0,0,0,0,0,0,0,0,0,0,0,0,0,0,0,0,0,0,0,0,0,0,0,0,0,0,0,0,0,0,0,0,0,0,0,0,0,0,0,0,0,0,0,0,0,0,0,0,0,0,0,0,0,0,0,0,0,0,0,0,0,0,0,0,0,0,0,0,0,0,0,0,0,0,0,0,0,0,0,0,0,0,0,0,0,0,0,0,0,0,0,0,0,0,0,0,0,0,0,0,0,0,0,0,0,0,0,0,0,0,0,0,0,0,0,0,0,0,0,0,0,0,0,0,0,0,0,0,0,0,0,0,0,0,0,0,0,0,0,0,0,0,0,0,0,0,0,0,0,0,0,0,0,0,0,0,0,0,0,0,0,0,0,0,0,0,0,0,0,0,0,0,0,0,0,0,0,0,0,0,0,0,0,0,0,0,0,0,0,0,0,0,0,0,0,0,0,0,0,0,0,0,0,0,0,0,0,0,0,0,0,0,0,0,0,0,0,0,0,0,0,0,0,0,0,0,0,0,0,0,0,0,0,0,0,0,0,0,0,0,0,0,0,0,0,0,0,0,0,0,0,0,0,0,0,0,0,0,0,0,0,0,0,0,0,0,0,0,0,0,0,0,0,0,0,0,0,0,0,0,0,0,0,0,0,0,0,0,0,0,0,0,0,0,0,0,0,0,0,0,0,0,0,0,0,0,0,0,0,0,0,0,0,0,0,0,0,0,0,0,0,0,0,0,0,0,0,0,0,0,0,0,0,0,0,0,0,0,0,0,0,0,0,0,0,0,0,0,0,0,0,0,0,0,0,0,0,0,0,0,0,0,0,0,0,0,0,0,0,0,0,0,0,0,0,0,0,0,0,0,0,0,0,0,0,0,0,0,0,0,0,0,0,0,0,0,0,0,0,0,0,0,0,0,0,0,0,0,0,0,0,0,0,0,0,0,0,0,0,0,0,0,0,0,0,0,0,0,0,0,0,0,0,0,0,0,0,0,0,0,0,0,0,0,0,0,0,0,0,0,0,0,0,0,0,0,0,0,0,0,0,0,0,0,0,0,0,0,0,0,0,0,0,0,0,0,0,0,0,0,0,0,0,0,0,0,0,0,0,0,0,0,0,0,0,0,0,0,0,0,0,0,0,0,0,0,0,0,0,0,0,0,0,0,0,0,0,0,0,0,0,0,0,0,0,0,0,0,0,0,0,0,0,0,0,0,0,0,0,0,0,0,0,0,0,0,0,0,0,0,0,0,0,0,0,0,0,0,0,0,0,0,0,0,0,0,0,0,0,0,0,0,0,0,0,0,0,0,0,0,0,0,0,0,0,0,0,0,0,0,0,0,0,0,0,0,0,0,0,0,0,0,0,0,0,0,0,0,0,0,0,0,0,0,0,0,0,0,0,0,0,0,0,0,0,0,0,0,0,0,0,0,0,0,0,0,0,0,0,0,0,0,0,0,0,0,0,0,0,0,0,0,0,0,0,0,0,0,0,0,0,0,0,0,0,0,0,0,0,0,0,0,0,0,0,0,0,0,0,0,0,0,0,0,0,0,0,0,0,0,0,0,0,0,0,0,0,0,0,0,0,0,0,0,0,0,0,0,0,0,0,0,0,0,0,0,0,0,0,0,0,0,0,0,0,0,0,0,0,0,0,0,0,0,0,0,0,0,0,0,0,0,0,0,0,0,0,0,0,0,0,0,0,0,0,0,0,0]]]}}},\"view\":{\"type\":\"object\",\"name\":\"CDSView\",\"id\":\"p3932\",\"attributes\":{\"filter\":{\"type\":\"object\",\"name\":\"AllIndices\",\"id\":\"p3933\"}}},\"glyph\":{\"type\":\"object\",\"name\":\"Scatter\",\"id\":\"p3928\",\"attributes\":{\"tags\":[\"apply_ranges\"],\"x\":{\"type\":\"field\",\"field\":\"AnnualReturn\"},\"y\":{\"type\":\"field\",\"field\":\"AnnualVariance\"},\"size\":{\"type\":\"value\",\"value\":5.477225575051661},\"line_color\":{\"type\":\"value\",\"value\":\"#30a2da\"},\"fill_color\":{\"type\":\"value\",\"value\":\"#30a2da\"},\"hatch_color\":{\"type\":\"value\",\"value\":\"#30a2da\"}}},\"selection_glyph\":{\"type\":\"object\",\"name\":\"Scatter\",\"id\":\"p3936\",\"attributes\":{\"tags\":[\"apply_ranges\"],\"x\":{\"type\":\"field\",\"field\":\"AnnualReturn\"},\"y\":{\"type\":\"field\",\"field\":\"AnnualVariance\"},\"size\":{\"type\":\"value\",\"value\":5.477225575051661},\"angle\":{\"type\":\"value\",\"value\":0.0},\"line_color\":{\"type\":\"value\",\"value\":\"#30a2da\"},\"line_alpha\":{\"type\":\"value\",\"value\":1.0},\"line_width\":{\"type\":\"value\",\"value\":1},\"line_join\":{\"type\":\"value\",\"value\":\"bevel\"},\"line_cap\":{\"type\":\"value\",\"value\":\"butt\"},\"line_dash\":{\"type\":\"value\",\"value\":[]},\"line_dash_offset\":{\"type\":\"value\",\"value\":0},\"fill_color\":{\"type\":\"value\",\"value\":\"#30a2da\"},\"fill_alpha\":{\"type\":\"value\",\"value\":1.0},\"hatch_color\":{\"type\":\"value\",\"value\":\"#30a2da\"},\"hatch_alpha\":{\"type\":\"value\",\"value\":1.0},\"hatch_scale\":{\"type\":\"value\",\"value\":12.0},\"hatch_pattern\":{\"type\":\"value\",\"value\":null},\"hatch_weight\":{\"type\":\"value\",\"value\":1.0},\"marker\":{\"type\":\"value\",\"value\":\"circle\"}}},\"nonselection_glyph\":{\"type\":\"object\",\"name\":\"Scatter\",\"id\":\"p3929\",\"attributes\":{\"tags\":[\"apply_ranges\"],\"x\":{\"type\":\"field\",\"field\":\"AnnualReturn\"},\"y\":{\"type\":\"field\",\"field\":\"AnnualVariance\"},\"size\":{\"type\":\"value\",\"value\":5.477225575051661},\"line_color\":{\"type\":\"value\",\"value\":\"#30a2da\"},\"line_alpha\":{\"type\":\"value\",\"value\":0.1},\"fill_color\":{\"type\":\"value\",\"value\":\"#30a2da\"},\"fill_alpha\":{\"type\":\"value\",\"value\":0.1},\"hatch_color\":{\"type\":\"value\",\"value\":\"#30a2da\"},\"hatch_alpha\":{\"type\":\"value\",\"value\":0.1}}},\"muted_glyph\":{\"type\":\"object\",\"name\":\"Scatter\",\"id\":\"p3930\",\"attributes\":{\"tags\":[\"apply_ranges\"],\"x\":{\"type\":\"field\",\"field\":\"AnnualReturn\"},\"y\":{\"type\":\"field\",\"field\":\"AnnualVariance\"},\"size\":{\"type\":\"value\",\"value\":5.477225575051661},\"line_color\":{\"type\":\"value\",\"value\":\"#30a2da\"},\"line_alpha\":{\"type\":\"value\",\"value\":0.2},\"fill_color\":{\"type\":\"value\",\"value\":\"#30a2da\"},\"fill_alpha\":{\"type\":\"value\",\"value\":0.2},\"hatch_color\":{\"type\":\"value\",\"value\":\"#30a2da\"},\"hatch_alpha\":{\"type\":\"value\",\"value\":0.2}}}}},{\"type\":\"object\",\"name\":\"GlyphRenderer\",\"id\":\"p3946\",\"attributes\":{\"name\":\"1\",\"data_source\":{\"type\":\"object\",\"name\":\"ColumnDataSource\",\"id\":\"p3937\",\"attributes\":{\"selected\":{\"type\":\"object\",\"name\":\"Selection\",\"id\":\"p3938\",\"attributes\":{\"indices\":[],\"line_indices\":[]}},\"selection_policy\":{\"type\":\"object\",\"name\":\"UnionRenderers\",\"id\":\"p3939\"},\"data\":{\"type\":\"map\",\"entries\":[[\"AnnualReturn\",{\"type\":\"ndarray\",\"array\":{\"type\":\"bytes\",\"data\":\"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\"},\"shape\":[2144],\"dtype\":\"float64\",\"order\":\"little\"}],[\"AnnualVariance\",{\"type\":\"ndarray\",\"array\":{\"type\":\"bytes\",\"data\":\"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\"},\"shape\":[2144],\"dtype\":\"float64\",\"order\":\"little\"}],[\"Ticker\",[\"A\",\"A\",\"A\",\"A\",\"A\",\"AAL\",\"AAL\",\"AAL\",\"AAL\",\"AAPL\",\"AAPL\",\"AAPL\",\"AAPL\",\"AAPL\",\"ABBV\",\"ABBV\",\"ABBV\",\"ABBV\",\"ABBV\",\"ABNB\",\"ABNB\",\"ABNB\",\"ABNB\",\"ABT\",\"ABT\",\"ABT\",\"ABT\",\"ABT\",\"ACGL\",\"ACGL\",\"ACGL\",\"ACGL\",\"ACGL\",\"ACN\",\"ACN\",\"ADBE\",\"ADI\",\"ADI\",\"ADI\",\"ADI\",\"ADI\",\"ADM\",\"ADM\",\"ADM\",\"ADM\",\"ADM\",\"ADP\",\"ADP\",\"ADP\",\"ADP\",\"ADP\",\"ADSK\",\"ADSK\",\"ADSK\",\"ADSK\",\"ADSK\",\"AEE\",\"AEE\",\"AEE\",\"AEE\",\"AEE\",\"AEP\",\"AEP\",\"AEP\",\"AEP\",\"AEP\",\"AES\",\"AES\",\"AES\",\"AES\",\"AES\",\"AFL\",\"AFL\",\"AFL\",\"AFL\",\"AFL\",\"AIG\",\"AIG\",\"AIG\",\"AIG\",\"AIG\",\"AIZ\",\"AIZ\",\"AIZ\",\"AIZ\",\"AIZ\",\"AJG\",\"AJG\",\"AJG\",\"AJG\",\"AJG\",\"AKAM\",\"AKAM\",\"AKAM\",\"AKAM\",\"AKAM\",\"ALB\",\"ALB\",\"ALB\",\"ALB\",\"ALGN\",\"ALL\",\"ALL\",\"ALL\",\"ALL\",\"ALL\",\"ALLE\",\"ALLE\",\"ALLE\",\"ALLE\",\"ALLE\",\"AMAT\",\"AMAT\",\"AMAT\",\"AMAT\",\"AMAT\",\"AMCR\",\"AMCR\",\"AMCR\",\"AMCR\",\"AMD\",\"AMD\",\"AMD\",\"AMD\",\"AMD\",\"AME\",\"AME\",\"AME\",\"AME\",\"AME\",\"AMGN\",\"AMGN\",\"AMGN\",\"AMGN\",\"AMGN\",\"AMP\",\"AMP\",\"AMP\",\"AMP\",\"AMT\",\"AMT\",\"AMT\",\"AMT\",\"AMT\",\"AMZN\",\"AMZN\",\"AMZN\",\"AMZN\",\"AMZN\",\"ANET\",\"ANET\",\"ANET\",\"ANET\",\"ANSS\",\"ANSS\",\"AON\",\"AON\",\"AON\",\"AON\",\"AOS\",\"AOS\",\"AOS\",\"AOS\",\"AOS\",\"APA\",\"APA\",\"APA\",\"APA\",\"APD\",\"APD\",\"APD\",\"APD\",\"APD\",\"APH\",\"APH\",\"APH\",\"APH\",\"APH\",\"APTV\",\"APTV\",\"APTV\",\"APTV\",\"APTV\",\"ARE\",\"ARE\",\"ARE\",\"ARE\",\"ARE\",\"ATO\",\"ATO\",\"ATO\",\"ATO\",\"ATO\",\"AVB\",\"AVB\",\"AVB\",\"AVB\",\"AVB\",\"AVGO\",\"AVGO\",\"AVGO\",\"AVGO\",\"AVGO\",\"AVY\",\"AVY\",\"AVY\",\"AVY\",\"AVY\",\"AWK\",\"AWK\",\"AWK\",\"AWK\",\"AWK\",\"AXON\",\"AXON\",\"AXON\",\"AXON\",\"AXON\",\"AXP\",\"AXP\",\"AXP\",\"AXP\",\"AXP\",\"BA\",\"BA\",\"BA\",\"BA\",\"BAC\",\"BAC\",\"BAC\",\"BAC\",\"BAC\",\"BALL\",\"BALL\",\"BALL\",\"BALL\",\"BALL\",\"BAX\",\"BAX\",\"BAX\",\"BAX\",\"BAX\",\"BBWI\",\"BBWI\",\"BBWI\",\"BBWI\",\"BBY\",\"BBY\",\"BBY\",\"BBY\",\"BBY\",\"BDX\",\"BDX\",\"BDX\",\"BDX\",\"BDX\",\"BEN\",\"BEN\",\"BEN\",\"BEN\",\"BG\",\"BG\",\"BG\",\"BG\",\"BG\",\"BIIB\",\"BIIB\",\"BIIB\",\"BIIB\",\"BIIB\",\"BK\",\"BK\",\"BK\",\"BK\",\"BK\",\"BKR\",\"BKR\",\"BKR\",\"BKR\",\"BKR\",\"BLDR\",\"BLDR\",\"BLDR\",\"BLDR\",\"BLDR\",\"BMY\",\"BMY\",\"BMY\",\"BMY\",\"BMY\",\"BR\",\"BR\",\"BR\",\"BR\",\"BR\",\"BRO\",\"BRO\",\"BRO\",\"BRO\",\"BRO\",\"BSX\",\"BSX\",\"BSX\",\"BSX\",\"BSX\",\"BWA\",\"BWA\",\"BWA\",\"BWA\",\"BWA\",\"BX\",\"BX\",\"BX\",\"BX\",\"BX\",\"BXP\",\"BXP\",\"BXP\",\"BXP\",\"BXP\",\"C\",\"C\",\"C\",\"C\",\"C\",\"CAG\",\"CAG\",\"CAG\",\"CAG\",\"CAG\",\"CAH\",\"CAH\",\"CAH\",\"CAH\",\"CAH\",\"CARR\",\"CARR\",\"CARR\",\"CARR\",\"CAT\",\"CAT\",\"CAT\",\"CAT\",\"CAT\",\"CB\",\"CB\",\"CB\",\"CB\",\"CB\",\"CBOE\",\"CBOE\",\"CBOE\",\"CBOE\",\"CBOE\",\"CBRE\",\"CBRE\",\"CBRE\",\"CBRE\",\"CBRE\",\"CCI\",\"CCI\",\"CCI\",\"CCI\",\"CCI\",\"CCL\",\"CCL\",\"CCL\",\"CCL\",\"CDNS\",\"CDNS\",\"CDNS\",\"CDNS\",\"CDNS\",\"CDW\",\"CDW\",\"CDW\",\"CDW\",\"CDW\",\"CE\",\"CE\",\"CE\",\"CE\",\"CE\",\"CEG\",\"CEG\",\"CF\",\"CF\",\"CF\",\"CF\",\"CF\",\"CFG\",\"CFG\",\"CFG\",\"CFG\",\"CFG\",\"CHD\",\"CHD\",\"CHD\",\"CHD\",\"CHD\",\"CHRW\",\"CHRW\",\"CHRW\",\"CHRW\",\"CHRW\",\"CI\",\"CI\",\"CI\",\"CI\",\"CI\",\"CINF\",\"CINF\",\"CINF\",\"CINF\",\"CINF\",\"CL\",\"CL\",\"CL\",\"CL\",\"CL\",\"CLX\",\"CLX\",\"CLX\",\"CLX\",\"CLX\",\"CMCSA\",\"CMCSA\",\"CMCSA\",\"CMCSA\",\"CMCSA\",\"CME\",\"CME\",\"CME\",\"CME\",\"CME\",\"CMG\",\"CMG\",\"CMG\",\"CMG\",\"CMG\",\"CMI\",\"CMI\",\"CMI\",\"CMI\",\"CMI\",\"CMS\",\"CMS\",\"CMS\",\"CMS\",\"CMS\",\"CNC\",\"CNC\",\"CNC\",\"CNC\",\"CNC\",\"CNP\",\"CNP\",\"CNP\",\"CNP\",\"COF\",\"COF\",\"COF\",\"COF\",\"COF\",\"COO\",\"COO\",\"COO\",\"COO\",\"COO\",\"COP\",\"COP\",\"COP\",\"COP\",\"COR\",\"COR\",\"COR\",\"COR\",\"COR\",\"COST\",\"CPAY\",\"CPAY\",\"CPAY\",\"CPAY\",\"CPAY\",\"CPB\",\"CPB\",\"CPB\",\"CPB\",\"CPB\",\"CPRT\",\"CPRT\",\"CPRT\",\"CPRT\",\"CPRT\",\"CPT\",\"CPT\",\"CPT\",\"CPT\",\"CPT\",\"CRL\",\"CRL\",\"CRL\",\"CRL\",\"CRM\",\"CRM\",\"CRM\",\"CRM\",\"CRM\",\"CRWD\",\"CRWD\",\"CRWD\",\"CRWD\",\"CSCO\",\"CSCO\",\"CSCO\",\"CSCO\",\"CSCO\",\"CSGP\",\"CSGP\",\"CSGP\",\"CSGP\",\"CSGP\",\"CSX\",\"CSX\",\"CSX\",\"CSX\",\"CSX\",\"CTAS\",\"CTLT\",\"CTLT\",\"CTLT\",\"CTLT\",\"CTLT\",\"CTRA\",\"CTRA\",\"CTRA\",\"CTRA\",\"CTSH\",\"CTSH\",\"CTSH\",\"CTSH\",\"CTVA\",\"CTVA\",\"CTVA\",\"CTVA\",\"CVS\",\"CVS\",\"CVS\",\"CVS\",\"CVS\",\"CVX\",\"CVX\",\"CVX\",\"CVX\",\"CVX\",\"CZR\",\"CZR\",\"CZR\",\"CZR\",\"CZR\",\"D\",\"D\",\"D\",\"D\",\"D\",\"DAL\",\"DAL\",\"DAL\",\"DAL\",\"DAL\",\"DAY\",\"DAY\",\"DAY\",\"DAY\",\"DAY\",\"DD\",\"DD\",\"DD\",\"DD\",\"DE\",\"DE\",\"DECK\",\"DECK\",\"DFS\",\"DFS\",\"DFS\",\"DFS\",\"DFS\",\"DG\",\"DG\",\"DG\",\"DG\",\"DG\",\"DGX\",\"DGX\",\"DGX\",\"DGX\",\"DGX\",\"DHI\",\"DHI\",\"DHI\",\"DHI\",\"DHI\",\"DHR\",\"DHR\",\"DHR\",\"DHR\",\"DHR\",\"DIS\",\"DIS\",\"DIS\",\"DIS\",\"DIS\",\"DLR\",\"DLR\",\"DLR\",\"DLR\",\"DLR\",\"DLTR\",\"DLTR\",\"DLTR\",\"DLTR\",\"DLTR\",\"DOC\",\"DOC\",\"DOC\",\"DOC\",\"DOC\",\"DOV\",\"DOV\",\"DOV\",\"DOV\",\"DOV\",\"DOW\",\"DOW\",\"DOW\",\"DOW\",\"DOW\",\"DPZ\",\"DRI\",\"DRI\",\"DRI\",\"DRI\",\"DRI\",\"DTE\",\"DTE\",\"DTE\",\"DTE\",\"DTE\",\"DUK\",\"DUK\",\"DUK\",\"DUK\",\"DUK\",\"DVA\",\"DVA\",\"DVA\",\"DVA\",\"DVA\",\"DVN\",\"DVN\",\"DVN\",\"DVN\",\"DXCM\",\"DXCM\",\"DXCM\",\"DXCM\",\"DXCM\",\"EA\",\"EA\",\"EA\",\"EA\",\"EA\",\"EBAY\",\"EBAY\",\"EBAY\",\"EBAY\",\"EBAY\",\"ECL\",\"ECL\",\"ECL\",\"ECL\",\"ECL\",\"ED\",\"ED\",\"ED\",\"ED\",\"ED\",\"EFX\",\"EFX\",\"EFX\",\"EFX\",\"EFX\",\"EG\",\"EG\",\"EG\",\"EG\",\"EIX\",\"EIX\",\"EIX\",\"EIX\",\"EIX\",\"EL\",\"EL\",\"EL\",\"EL\",\"ELV\",\"ELV\",\"EMN\",\"EMN\",\"EMN\",\"EMN\",\"EMN\",\"EMR\",\"EMR\",\"EMR\",\"EMR\",\"EMR\",\"ENPH\",\"ENPH\",\"ENPH\",\"ENPH\",\"ENPH\",\"EOG\",\"EOG\",\"EOG\",\"EOG\",\"EPAM\",\"EPAM\",\"EPAM\",\"EQR\",\"EQR\",\"EQR\",\"EQR\",\"EQR\",\"EQT\",\"EQT\",\"EQT\",\"EQT\",\"ES\",\"ES\",\"ES\",\"ES\",\"ES\",\"ESS\",\"ESS\",\"ESS\",\"ETN\",\"ETN\",\"ETN\",\"ETN\",\"ETN\",\"ETR\",\"ETR\",\"ETR\",\"ETR\",\"ETR\",\"ETSY\",\"ETSY\",\"ETSY\",\"ETSY\",\"ETSY\",\"EVRG\",\"EVRG\",\"EVRG\",\"EVRG\",\"EVRG\",\"EW\",\"EW\",\"EW\",\"EW\",\"EW\",\"EXC\",\"EXC\",\"EXC\",\"EXC\",\"EXPD\",\"EXPD\",\"EXPD\",\"EXPD\",\"EXPD\",\"EXPE\",\"EXPE\",\"EXPE\",\"EXPE\",\"EXPE\",\"EXR\",\"EXR\",\"EXR\",\"EXR\",\"EXR\",\"F\",\"F\",\"F\",\"F\",\"FANG\",\"FANG\",\"FANG\",\"FANG\",\"FANG\",\"FAST\",\"FAST\",\"FAST\",\"FAST\",\"FAST\",\"FCX\",\"FCX\",\"FCX\",\"FCX\",\"FCX\",\"FDS\",\"FDX\",\"FDX\",\"FDX\",\"FDX\",\"FDX\",\"FE\",\"FE\",\"FE\",\"FE\",\"FE\",\"FFIV\",\"FFIV\",\"FFIV\",\"FFIV\",\"FFIV\",\"FI\",\"FI\",\"FI\",\"FI\",\"FI\",\"FIS\",\"FIS\",\"FIS\",\"FIS\",\"FIS\",\"FITB\",\"FITB\",\"FITB\",\"FITB\",\"FITB\",\"FMC\",\"FMC\",\"FMC\",\"FMC\",\"FMC\",\"FOXA\",\"FOXA\",\"FOXA\",\"FOXA\",\"FRT\",\"FRT\",\"FRT\",\"FRT\",\"FRT\",\"FSLR\",\"FSLR\",\"FSLR\",\"FSLR\",\"FSLR\",\"FTNT\",\"FTNT\",\"FTNT\",\"FTNT\",\"FTNT\",\"FTV\",\"FTV\",\"FTV\",\"FTV\",\"FTV\",\"GD\",\"GD\",\"GD\",\"GD\",\"GD\",\"GDDY\",\"GDDY\",\"GDDY\",\"GDDY\",\"GDDY\",\"GE\",\"GE\",\"GE\",\"GE\",\"GE\",\"GEHC\",\"GEHC\",\"GEN\",\"GEN\",\"GEN\",\"GEN\",\"GEN\",\"GILD\",\"GILD\",\"GILD\",\"GILD\",\"GIS\",\"GIS\",\"GIS\",\"GIS\",\"GIS\",\"GL\",\"GL\",\"GL\",\"GL\",\"GL\",\"GLW\",\"GLW\",\"GLW\",\"GLW\",\"GM\",\"GM\",\"GM\",\"GM\",\"GNRC\",\"GNRC\",\"GNRC\",\"GNRC\",\"GOOGL\",\"GOOGL\",\"GOOGL\",\"GOOGL\",\"GOOGL\",\"GPC\",\"GPC\",\"GPC\",\"GPC\",\"GPC\",\"GPN\",\"GPN\",\"GPN\",\"GPN\",\"GPN\",\"GRMN\",\"GRMN\",\"GRMN\",\"GRMN\",\"GRMN\",\"GS\",\"GS\",\"HAL\",\"HAL\",\"HAL\",\"HAL\",\"HAS\",\"HAS\",\"HAS\",\"HAS\",\"HAS\",\"HBAN\",\"HBAN\",\"HBAN\",\"HBAN\",\"HBAN\",\"HCA\",\"HCA\",\"HCA\",\"HCA\",\"HCA\",\"HD\",\"HD\",\"HES\",\"HES\",\"HES\",\"HES\",\"HES\",\"HIG\",\"HIG\",\"HIG\",\"HIG\",\"HIG\",\"HII\",\"HII\",\"HII\",\"HII\",\"HII\",\"HLT\",\"HLT\",\"HLT\",\"HLT\",\"HLT\",\"HOLX\",\"HOLX\",\"HOLX\",\"HOLX\",\"HOLX\",\"HON\",\"HON\",\"HON\",\"HON\",\"HON\",\"HPE\",\"HPE\",\"HPE\",\"HPE\",\"HPQ\",\"HPQ\",\"HPQ\",\"HPQ\",\"HRL\",\"HRL\",\"HRL\",\"HRL\",\"HSIC\",\"HSIC\",\"HSIC\",\"HSIC\",\"HSIC\",\"HST\",\"HST\",\"HST\",\"HST\",\"HSY\",\"HSY\",\"HSY\",\"HSY\",\"HSY\",\"HUBB\",\"HUBB\",\"HUBB\",\"HUBB\",\"HUBB\",\"HUM\",\"HWM\",\"HWM\",\"HWM\",\"HWM\",\"HWM\",\"IBM\",\"IBM\",\"IBM\",\"IBM\",\"IBM\",\"ICE\",\"ICE\",\"ICE\",\"ICE\",\"ICE\",\"IDXX\",\"IEX\",\"IEX\",\"IEX\",\"IEX\",\"IEX\",\"IFF\",\"IFF\",\"IFF\",\"IFF\",\"IFF\",\"INCY\",\"INCY\",\"INCY\",\"INCY\",\"INCY\",\"INTC\",\"INTC\",\"INTC\",\"INTC\",\"INTC\",\"INTU\",\"INVH\",\"INVH\",\"INVH\",\"INVH\",\"INVH\",\"IP\",\"IP\",\"IP\",\"IP\",\"IP\",\"IPG\",\"IPG\",\"IPG\",\"IPG\",\"IQV\",\"IQV\",\"IQV\",\"IQV\",\"IQV\",\"IR\",\"IR\",\"IR\",\"IR\",\"IR\",\"IRM\",\"IRM\",\"IRM\",\"IRM\",\"ISRG\",\"ISRG\",\"ISRG\",\"ISRG\",\"IT\",\"IT\",\"IT\",\"IT\",\"ITW\",\"ITW\",\"ITW\",\"ITW\",\"ITW\",\"IVZ\",\"IVZ\",\"IVZ\",\"IVZ\",\"J\",\"J\",\"J\",\"J\",\"J\",\"JBHT\",\"JBHT\",\"JBHT\",\"JBHT\",\"JBHT\",\"JBL\",\"JBL\",\"JBL\",\"JBL\",\"JBL\",\"JCI\",\"JCI\",\"JCI\",\"JCI\",\"JCI\",\"JKHY\",\"JKHY\",\"JKHY\",\"JKHY\",\"JKHY\",\"JNJ\",\"JNJ\",\"JNJ\",\"JNJ\",\"JNJ\",\"JNPR\",\"JNPR\",\"JNPR\",\"JNPR\",\"JPM\",\"JPM\",\"JPM\",\"JPM\",\"JPM\",\"K\",\"K\",\"K\",\"K\",\"K\",\"KDP\",\"KDP\",\"KDP\",\"KDP\",\"KDP\",\"KEY\",\"KEY\",\"KEY\",\"KEY\",\"KEY\",\"KEYS\",\"KEYS\",\"KEYS\",\"KEYS\",\"KEYS\",\"KHC\",\"KHC\",\"KHC\",\"KHC\",\"KIM\",\"KIM\",\"KIM\",\"KIM\",\"KIM\",\"KKR\",\"KKR\",\"KKR\",\"KKR\",\"KKR\",\"KLAC\",\"KLAC\",\"KMB\",\"KMB\",\"KMB\",\"KMB\",\"KMB\",\"KMI\",\"KMI\",\"KMI\",\"KMI\",\"KMI\",\"KMX\",\"KMX\",\"KMX\",\"KMX\",\"KMX\",\"KO\",\"KO\",\"KO\",\"KO\",\"KO\",\"KR\",\"KR\",\"KR\",\"KR\",\"KVUE\",\"L\",\"L\",\"L\",\"L\",\"L\",\"LDOS\",\"LDOS\",\"LDOS\",\"LDOS\",\"LDOS\",\"LEN\",\"LEN\",\"LEN\",\"LEN\",\"LEN\",\"LH\",\"LH\",\"LH\",\"LH\",\"LH\",\"LHX\",\"LHX\",\"LHX\",\"LHX\",\"LHX\",\"LIN\",\"LIN\",\"LIN\",\"LIN\",\"LKQ\",\"LKQ\",\"LKQ\",\"LKQ\",\"LKQ\",\"LLY\",\"LLY\",\"LLY\",\"LNT\",\"LNT\",\"LNT\",\"LNT\",\"LNT\",\"LOW\",\"LOW\",\"LOW\",\"LOW\",\"LOW\",\"LRCX\",\"LULU\",\"LUV\",\"LUV\",\"LUV\",\"LUV\",\"LUV\",\"LVS\",\"LVS\",\"LVS\",\"LVS\",\"LVS\",\"LW\",\"LW\",\"LW\",\"LW\",\"LW\",\"LYB\",\"LYB\",\"LYB\",\"LYB\",\"LYB\",\"LYV\",\"LYV\",\"LYV\",\"LYV\",\"LYV\",\"MA\",\"MAA\",\"MAA\",\"MAA\",\"MAA\",\"MAA\",\"MAR\",\"MAR\",\"MAR\",\"MAR\",\"MAR\",\"MAS\",\"MAS\",\"MAS\",\"MAS\",\"MAS\",\"MCD\",\"MCD\",\"MCD\",\"MCD\",\"MCD\",\"MCHP\",\"MCHP\",\"MCHP\",\"MCHP\",\"MCHP\",\"MCK\",\"MCK\",\"MCK\",\"MCO\",\"MCO\",\"MCO\",\"MDLZ\",\"MDLZ\",\"MDLZ\",\"MDLZ\",\"MDLZ\",\"MDT\",\"MDT\",\"MDT\",\"MDT\",\"MDT\",\"MET\",\"MET\",\"MET\",\"MET\",\"MET\",\"META\",\"META\",\"META\",\"META\",\"MGM\",\"MGM\",\"MGM\",\"MGM\",\"MGM\",\"MHK\",\"MHK\",\"MHK\",\"MHK\",\"MHK\",\"MKC\",\"MKC\",\"MKC\",\"MKC\",\"MKC\",\"MKTX\",\"MKTX\",\"MLM\",\"MLM\",\"MMC\",\"MMC\",\"MMC\",\"MMC\",\"MMC\",\"MMM\",\"MMM\",\"MMM\",\"MMM\",\"MMM\",\"MNST\",\"MNST\",\"MNST\",\"MNST\",\"MNST\",\"MO\",\"MO\",\"MO\",\"MO\",\"MOH\",\"MOH\",\"MOH\",\"MOS\",\"MOS\",\"MOS\",\"MOS\",\"MPC\",\"MPC\",\"MPC\",\"MPC\",\"MPWR\",\"MPWR\",\"MRK\",\"MRK\",\"MRK\",\"MRK\",\"MRK\",\"MRNA\",\"MRNA\",\"MRNA\",\"MRNA\",\"MRNA\",\"MRO\",\"MRO\",\"MRO\",\"MRO\",\"MS\",\"MS\",\"MS\",\"MS\",\"MS\",\"MSCI\",\"MSFT\",\"MSFT\",\"MSFT\",\"MSFT\",\"MSI\",\"MSI\",\"MSI\",\"MSI\",\"MSI\",\"MTB\",\"MTB\",\"MTB\",\"MTB\",\"MTB\",\"MTCH\",\"MTCH\",\"MTCH\",\"MTCH\",\"MTCH\",\"MU\",\"MU\",\"MU\",\"MU\",\"MU\",\"NCLH\",\"NCLH\",\"NCLH\",\"NCLH\",\"NCLH\",\"NDAQ\",\"NDAQ\",\"NDAQ\",\"NDAQ\",\"NDAQ\",\"NDSN\",\"NDSN\",\"NDSN\",\"NDSN\",\"NDSN\",\"NEE\",\"NEE\",\"NEE\",\"NEE\",\"NEE\",\"NEM\",\"NEM\",\"NEM\",\"NEM\",\"NEM\",\"NFLX\",\"NI\",\"NI\",\"NI\",\"NI\",\"NKE\",\"NKE\",\"NKE\",\"NKE\",\"NKE\",\"NOW\",\"NRG\",\"NRG\",\"NRG\",\"NRG\",\"NSC\",\"NSC\",\"NSC\",\"NSC\",\"NSC\",\"NTAP\",\"NTAP\",\"NTAP\",\"NTAP\",\"NTRS\",\"NTRS\",\"NTRS\",\"NTRS\",\"NTRS\",\"NUE\",\"NUE\",\"NUE\",\"NUE\",\"NUE\",\"NWSA\",\"NWSA\",\"NWSA\",\"NWSA\",\"NWSA\",\"NXPI\",\"NXPI\",\"NXPI\",\"NXPI\",\"NXPI\",\"O\",\"O\",\"O\",\"O\",\"O\",\"ODFL\",\"ODFL\",\"ODFL\",\"ODFL\",\"ODFL\",\"OKE\",\"OKE\",\"OKE\",\"OKE\",\"OKE\",\"OMC\",\"OMC\",\"OMC\",\"OMC\",\"OMC\",\"ON\",\"ON\",\"ON\",\"ON\",\"ON\",\"ORCL\",\"ORCL\",\"ORCL\",\"ORCL\",\"ORCL\",\"OTIS\",\"OTIS\",\"OTIS\",\"OTIS\",\"OXY\",\"OXY\",\"OXY\",\"OXY\",\"PANW\",\"PANW\",\"PANW\",\"PANW\",\"PANW\",\"PARA\",\"PARA\",\"PARA\",\"PARA\",\"PAYC\",\"PAYC\",\"PAYX\",\"PAYX\",\"PAYX\",\"PAYX\",\"PAYX\",\"PCAR\",\"PCAR\",\"PCAR\",\"PCAR\",\"PCAR\",\"PCG\",\"PCG\",\"PCG\",\"PCG\",\"PEG\",\"PEG\",\"PEG\",\"PEG\",\"PEG\",\"PEP\",\"PEP\",\"PEP\",\"PEP\",\"PEP\",\"PFE\",\"PFE\",\"PFE\",\"PFE\",\"PFG\",\"PFG\",\"PFG\",\"PFG\",\"PFG\",\"PG\",\"PG\",\"PG\",\"PG\",\"PG\",\"PGR\",\"PGR\",\"PGR\",\"PGR\",\"PGR\",\"PH\",\"PH\",\"PH\",\"PHM\",\"PHM\",\"PHM\",\"PHM\",\"PHM\",\"PKG\",\"PKG\",\"PKG\",\"PKG\",\"PKG\",\"PLD\",\"PLD\",\"PLD\",\"PLD\",\"PLD\",\"PM\",\"PM\",\"PM\",\"PM\",\"PM\",\"PNC\",\"PNC\",\"PNC\",\"PNC\",\"PNC\",\"PNR\",\"PNR\",\"PNR\",\"PNR\",\"PNR\",\"PNW\",\"PNW\",\"PNW\",\"PNW\",\"PNW\",\"PODD\",\"PODD\",\"PODD\",\"PODD\",\"PODD\",\"POOL\",\"POOL\",\"PPG\",\"PPG\",\"PPG\",\"PPG\",\"PPG\",\"PPL\",\"PPL\",\"PPL\",\"PPL\",\"PPL\",\"PRU\",\"PRU\",\"PRU\",\"PRU\",\"PRU\",\"PSA\",\"PSA\",\"PSA\",\"PSX\",\"PSX\",\"PSX\",\"PSX\",\"PSX\",\"PTC\",\"PTC\",\"PTC\",\"PTC\",\"PWR\",\"PWR\",\"PWR\",\"PWR\",\"PWR\",\"PYPL\",\"PYPL\",\"PYPL\",\"PYPL\",\"PYPL\",\"QCOM\",\"QCOM\",\"QCOM\",\"QCOM\",\"QCOM\",\"QRVO\",\"QRVO\",\"QRVO\",\"QRVO\",\"QRVO\",\"RCL\",\"RCL\",\"RCL\",\"RCL\",\"RCL\",\"REG\",\"REG\",\"REG\",\"REG\",\"REG\",\"RF\",\"RF\",\"RF\",\"RF\",\"RF\",\"RJF\",\"RJF\",\"RJF\",\"RJF\",\"RJF\",\"RL\",\"RL\",\"RL\",\"RL\",\"RL\",\"RMD\",\"RMD\",\"RMD\",\"RMD\",\"RMD\",\"ROK\",\"ROK\",\"ROK\",\"ROK\",\"ROK\",\"ROL\",\"ROL\",\"ROL\",\"ROL\",\"ROST\",\"ROST\",\"ROST\",\"ROST\",\"ROST\",\"RSG\",\"RSG\",\"RSG\",\"RSG\",\"RSG\",\"RTX\",\"RTX\",\"RTX\",\"RTX\",\"RTX\",\"RVTY\",\"RVTY\",\"RVTY\",\"RVTY\",\"RVTY\",\"SBAC\",\"SBAC\",\"SBAC\",\"SBUX\",\"SBUX\",\"SBUX\",\"SBUX\",\"SBUX\",\"SCHW\",\"SCHW\",\"SCHW\",\"SCHW\",\"SCHW\",\"SHW\",\"SHW\",\"SHW\",\"SHW\",\"SHW\",\"SJM\",\"SJM\",\"SJM\",\"SJM\",\"SJM\",\"SLB\",\"SLB\",\"SLB\",\"SLB\",\"SMCI\",\"SMCI\",\"SMCI\",\"SMCI\",\"SMCI\",\"SNA\",\"SNA\",\"SNA\",\"SNA\",\"SNA\",\"SNPS\",\"SNPS\",\"SNPS\",\"SO\",\"SO\",\"SO\",\"SO\",\"SO\",\"SPG\",\"SPG\",\"SPG\",\"SPG\",\"SPG\",\"SPGI\",\"SRE\",\"SRE\",\"SRE\",\"SRE\",\"SRE\",\"STE\",\"STE\",\"STE\",\"STE\",\"STE\",\"STLD\",\"STLD\",\"STLD\",\"STLD\",\"STLD\",\"STT\",\"STT\",\"STT\",\"STT\",\"STT\",\"STX\",\"STX\",\"STX\",\"STX\",\"STX\",\"STZ\",\"STZ\",\"STZ\",\"STZ\",\"STZ\",\"SWK\",\"SWK\",\"SWK\",\"SWK\",\"SWK\",\"SWKS\",\"SWKS\",\"SWKS\",\"SWKS\",\"SWKS\",\"SYF\",\"SYF\",\"SYF\",\"SYF\",\"SYF\",\"SYK\",\"SYK\",\"SYK\",\"SYK\",\"SYK\",\"SYY\",\"SYY\",\"SYY\",\"SYY\",\"SYY\",\"T\",\"T\",\"T\",\"T\",\"T\",\"TAP\",\"TAP\",\"TAP\",\"TAP\",\"TECH\",\"TECH\",\"TECH\",\"TECH\",\"TECH\",\"TEL\",\"TEL\",\"TEL\",\"TEL\",\"TEL\",\"TER\",\"TER\",\"TER\",\"TER\",\"TER\",\"TFC\",\"TFC\",\"TFC\",\"TFC\",\"TFC\",\"TFX\",\"TFX\",\"TGT\",\"TGT\",\"TGT\",\"TGT\",\"TGT\",\"TJX\",\"TJX\",\"TJX\",\"TJX\",\"TJX\",\"TMO\",\"TMUS\",\"TMUS\",\"TMUS\",\"TMUS\",\"TMUS\",\"TPR\",\"TPR\",\"TPR\",\"TPR\",\"TRGP\",\"TRGP\",\"TRGP\",\"TRGP\",\"TRMB\",\"TRMB\",\"TRMB\",\"TRMB\",\"TRMB\",\"TROW\",\"TROW\",\"TROW\",\"TROW\",\"TROW\",\"TRV\",\"TRV\",\"TRV\",\"TRV\",\"TRV\",\"TSCO\",\"TSCO\",\"TSCO\",\"TSCO\",\"TSCO\",\"TSLA\",\"TSLA\",\"TSLA\",\"TSLA\",\"TSN\",\"TSN\",\"TSN\",\"TSN\",\"TSN\",\"TT\",\"TT\",\"TT\",\"TT\",\"TT\",\"TTWO\",\"TTWO\",\"TTWO\",\"TTWO\",\"TTWO\",\"TXN\",\"TXN\",\"TXN\",\"TXN\",\"TXN\",\"TXT\",\"TXT\",\"TXT\",\"TXT\",\"TYL\",\"UAL\",\"UAL\",\"UAL\",\"UAL\",\"UAL\",\"UBER\",\"UBER\",\"UBER\",\"UBER\",\"UDR\",\"UDR\",\"UDR\",\"UDR\",\"UDR\",\"UHS\",\"UHS\",\"UHS\",\"UHS\",\"UHS\",\"ULTA\",\"UNH\",\"UNP\",\"UNP\",\"UNP\",\"UNP\",\"UNP\",\"UPS\",\"UPS\",\"UPS\",\"UPS\",\"UPS\",\"URI\",\"URI\",\"USB\",\"USB\",\"USB\",\"USB\",\"USB\",\"V\",\"V\",\"V\",\"V\",\"V\",\"VICI\",\"VICI\",\"VICI\",\"VICI\",\"VICI\",\"VLO\",\"VLO\",\"VLO\",\"VLO\",\"VLO\",\"VLTO\",\"VMC\",\"VMC\",\"VMC\",\"VMC\",\"VMC\",\"VRSK\",\"VRSK\",\"VRSK\",\"VRSK\",\"VRSK\",\"VRSN\",\"VRSN\",\"VRSN\",\"VRSN\",\"VRSN\",\"VRTX\",\"VRTX\",\"VRTX\",\"VRTX\",\"VST\",\"VST\",\"VST\",\"VST\",\"VTR\",\"VTR\",\"VTR\",\"VTR\",\"VTR\",\"VTRS\",\"VTRS\",\"VTRS\",\"VTRS\",\"VZ\",\"VZ\",\"VZ\",\"VZ\",\"VZ\",\"WAB\",\"WAB\",\"WAB\",\"WAB\",\"WAB\",\"WAT\",\"WAT\",\"WAT\",\"WBA\",\"WBA\",\"WBA\",\"WBA\",\"WBD\",\"WBD\",\"WBD\",\"WBD\",\"WBD\",\"WDC\",\"WDC\",\"WDC\",\"WDC\",\"WDC\",\"WEC\",\"WEC\",\"WEC\",\"WEC\",\"WEC\",\"WELL\",\"WELL\",\"WELL\",\"WELL\",\"WELL\",\"WFC\",\"WFC\",\"WFC\",\"WFC\",\"WFC\",\"WM\",\"WM\",\"WM\",\"WM\",\"WM\",\"WMB\",\"WMB\",\"WMB\",\"WMB\",\"WMT\",\"WMT\",\"WMT\",\"WMT\",\"WMT\",\"WRB\",\"WRB\",\"WRB\",\"WRB\",\"WRB\",\"WST\",\"WST\",\"WTW\",\"WTW\",\"WTW\",\"WTW\",\"WTW\",\"WY\",\"WY\",\"WY\",\"WY\",\"WY\",\"WYNN\",\"WYNN\",\"WYNN\",\"WYNN\",\"WYNN\",\"XEL\",\"XEL\",\"XEL\",\"XEL\",\"XEL\",\"XOM\",\"XOM\",\"XOM\",\"XOM\",\"XOM\",\"XYL\",\"XYL\",\"XYL\",\"XYL\",\"XYL\",\"YUM\",\"YUM\",\"YUM\",\"YUM\",\"YUM\",\"ZBH\",\"ZBH\",\"ZBH\",\"ZBH\",\"ZBH\",\"ZBRA\",\"ZBRA\",\"ZBRA\",\"ZTS\",\"ZTS\",\"ZTS\",\"ZTS\",\"ZTS\"]],[\"StockCluster\",[1,1,1,1,1,1,1,1,1,1,1,1,1,1,1,1,1,1,1,1,1,1,1,1,1,1,1,1,1,1,1,1,1,1,1,1,1,1,1,1,1,1,1,1,1,1,1,1,1,1,1,1,1,1,1,1,1,1,1,1,1,1,1,1,1,1,1,1,1,1,1,1,1,1,1,1,1,1,1,1,1,1,1,1,1,1,1,1,1,1,1,1,1,1,1,1,1,1,1,1,1,1,1,1,1,1,1,1,1,1,1,1,1,1,1,1,1,1,1,1,1,1,1,1,1,1,1,1,1,1,1,1,1,1,1,1,1,1,1,1,1,1,1,1,1,1,1,1,1,1,1,1,1,1,1,1,1,1,1,1,1,1,1,1,1,1,1,1,1,1,1,1,1,1,1,1,1,1,1,1,1,1,1,1,1,1,1,1,1,1,1,1,1,1,1,1,1,1,1,1,1,1,1,1,1,1,1,1,1,1,1,1,1,1,1,1,1,1,1,1,1,1,1,1,1,1,1,1,1,1,1,1,1,1,1,1,1,1,1,1,1,1,1,1,1,1,1,1,1,1,1,1,1,1,1,1,1,1,1,1,1,1,1,1,1,1,1,1,1,1,1,1,1,1,1,1,1,1,1,1,1,1,1,1,1,1,1,1,1,1,1,1,1,1,1,1,1,1,1,1,1,1,1,1,1,1,1,1,1,1,1,1,1,1,1,1,1,1,1,1,1,1,1,1,1,1,1,1,1,1,1,1,1,1,1,1,1,1,1,1,1,1,1,1,1,1,1,1,1,1,1,1,1,1,1,1,1,1,1,1,1,1,1,1,1,1,1,1,1,1,1,1,1,1,1,1,1,1,1,1,1,1,1,1,1,1,1,1,1,1,1,1,1,1,1,1,1,1,1,1,1,1,1,1,1,1,1,1,1,1,1,1,1,1,1,1,1,1,1,1,1,1,1,1,1,1,1,1,1,1,1,1,1,1,1,1,1,1,1,1,1,1,1,1,1,1,1,1,1,1,1,1,1,1,1,1,1,1,1,1,1,1,1,1,1,1,1,1,1,1,1,1,1,1,1,1,1,1,1,1,1,1,1,1,1,1,1,1,1,1,1,1,1,1,1,1,1,1,1,1,1,1,1,1,1,1,1,1,1,1,1,1,1,1,1,1,1,1,1,1,1,1,1,1,1,1,1,1,1,1,1,1,1,1,1,1,1,1,1,1,1,1,1,1,1,1,1,1,1,1,1,1,1,1,1,1,1,1,1,1,1,1,1,1,1,1,1,1,1,1,1,1,1,1,1,1,1,1,1,1,1,1,1,1,1,1,1,1,1,1,1,1,1,1,1,1,1,1,1,1,1,1,1,1,1,1,1,1,1,1,1,1,1,1,1,1,1,1,1,1,1,1,1,1,1,1,1,1,1,1,1,1,1,1,1,1,1,1,1,1,1,1,1,1,1,1,1,1,1,1,1,1,1,1,1,1,1,1,1,1,1,1,1,1,1,1,1,1,1,1,1,1,1,1,1,1,1,1,1,1,1,1,1,1,1,1,1,1,1,1,1,1,1,1,1,1,1,1,1,1,1,1,1,1,1,1,1,1,1,1,1,1,1,1,1,1,1,1,1,1,1,1,1,1,1,1,1,1,1,1,1,1,1,1,1,1,1,1,1,1,1,1,1,1,1,1,1,1,1,1,1,1,1,1,1,1,1,1,1,1,1,1,1,1,1,1,1,1,1,1,1,1,1,1,1,1,1,1,1,1,1,1,1,1,1,1,1,1,1,1,1,1,1,1,1,1,1,1,1,1,1,1,1,1,1,1,1,1,1,1,1,1,1,1,1,1,1,1,1,1,1,1,1,1,1,1,1,1,1,1,1,1,1,1,1,1,1,1,1,1,1,1,1,1,1,1,1,1,1,1,1,1,1,1,1,1,1,1,1,1,1,1,1,1,1,1,1,1,1,1,1,1,1,1,1,1,1,1,1,1,1,1,1,1,1,1,1,1,1,1,1,1,1,1,1,1,1,1,1,1,1,1,1,1,1,1,1,1,1,1,1,1,1,1,1,1,1,1,1,1,1,1,1,1,1,1,1,1,1,1,1,1,1,1,1,1,1,1,1,1,1,1,1,1,1,1,1,1,1,1,1,1,1,1,1,1,1,1,1,1,1,1,1,1,1,1,1,1,1,1,1,1,1,1,1,1,1,1,1,1,1,1,1,1,1,1,1,1,1,1,1,1,1,1,1,1,1,1,1,1,1,1,1,1,1,1,1,1,1,1,1,1,1,1,1,1,1,1,1,1,1,1,1,1,1,1,1,1,1,1,1,1,1,1,1,1,1,1,1,1,1,1,1,1,1,1,1,1,1,1,1,1,1,1,1,1,1,1,1,1,1,1,1,1,1,1,1,1,1,1,1,1,1,1,1,1,1,1,1,1,1,1,1,1,1,1,1,1,1,1,1,1,1,1,1,1,1,1,1,1,1,1,1,1,1,1,1,1,1,1,1,1,1,1,1,1,1,1,1,1,1,1,1,1,1,1,1,1,1,1,1,1,1,1,1,1,1,1,1,1,1,1,1,1,1,1,1,1,1,1,1,1,1,1,1,1,1,1,1,1,1,1,1,1,1,1,1,1,1,1,1,1,1,1,1,1,1,1,1,1,1,1,1,1,1,1,1,1,1,1,1,1,1,1,1,1,1,1,1,1,1,1,1,1,1,1,1,1,1,1,1,1,1,1,1,1,1,1,1,1,1,1,1,1,1,1,1,1,1,1,1,1,1,1,1,1,1,1,1,1,1,1,1,1,1,1,1,1,1,1,1,1,1,1,1,1,1,1,1,1,1,1,1,1,1,1,1,1,1,1,1,1,1,1,1,1,1,1,1,1,1,1,1,1,1,1,1,1,1,1,1,1,1,1,1,1,1,1,1,1,1,1,1,1,1,1,1,1,1,1,1,1,1,1,1,1,1,1,1,1,1,1,1,1,1,1,1,1,1,1,1,1,1,1,1,1,1,1,1,1,1,1,1,1,1,1,1,1,1,1,1,1,1,1,1,1,1,1,1,1,1,1,1,1,1,1,1,1,1,1,1,1,1,1,1,1,1,1,1,1,1,1,1,1,1,1,1,1,1,1,1,1,1,1,1,1,1,1,1,1,1,1,1,1,1,1,1,1,1,1,1,1,1,1,1,1,1,1,1,1,1,1,1,1,1,1,1,1,1,1,1,1,1,1,1,1,1,1,1,1,1,1,1,1,1,1,1,1,1,1,1,1,1,1,1,1,1,1,1,1,1,1,1,1,1,1,1,1,1,1,1,1,1,1,1,1,1,1,1,1,1,1,1,1,1,1,1,1,1,1,1,1,1,1,1,1,1,1,1,1,1,1,1,1,1,1,1,1,1,1,1,1,1,1,1,1,1,1,1,1,1,1,1,1,1,1,1,1,1,1,1,1,1,1,1,1,1,1,1,1,1,1,1,1,1,1,1,1,1,1,1,1,1,1,1,1,1,1,1,1,1,1,1,1,1,1,1,1,1,1,1,1,1,1,1,1,1,1,1,1,1,1,1,1,1,1,1,1,1,1,1,1,1,1,1,1,1,1,1,1,1,1,1,1,1,1,1,1,1,1,1,1,1,1,1,1,1,1,1,1,1,1,1,1,1,1,1,1,1,1,1,1,1,1,1,1,1,1,1,1,1,1,1,1,1,1,1,1,1,1,1,1,1,1,1,1,1,1,1,1,1,1,1,1,1,1,1,1,1,1,1,1,1,1,1,1,1,1,1,1,1,1,1,1,1,1,1,1,1,1,1,1,1,1,1,1,1,1,1,1,1,1,1,1,1,1,1,1,1,1,1,1,1,1,1,1,1,1,1,1,1,1,1,1,1,1,1,1,1,1,1,1,1,1,1,1,1,1,1,1,1,1,1,1,1,1,1,1,1,1,1,1,1,1,1,1,1,1,1,1,1,1,1,1,1,1,1,1,1,1,1,1,1,1,1,1,1,1,1,1,1,1,1,1,1,1,1,1,1,1,1,1,1,1,1,1,1,1,1,1,1,1,1,1,1,1,1,1,1,1,1,1,1,1,1,1,1,1,1,1,1,1,1,1,1,1,1,1,1,1,1,1,1,1,1,1,1,1,1,1,1,1,1,1,1,1,1,1,1,1,1,1,1,1,1,1,1,1,1,1,1,1,1,1,1,1,1,1,1,1,1,1,1,1,1,1,1,1,1,1,1,1,1,1,1,1,1,1,1,1,1,1,1,1,1,1,1,1,1,1,1,1,1,1,1,1,1,1,1,1,1,1,1,1,1,1,1,1,1,1,1,1,1,1,1,1,1,1,1,1,1,1,1,1,1,1,1,1,1,1,1,1,1,1,1,1,1,1,1,1,1,1,1,1,1,1,1,1,1,1,1,1,1,1,1,1,1,1,1,1,1,1,1,1,1,1,1,1,1,1,1,1,1,1,1,1,1,1,1,1,1,1,1,1,1,1,1,1,1,1,1,1,1,1,1,1,1,1,1,1,1,1,1,1,1,1,1,1,1,1,1,1,1,1,1,1,1,1,1,1,1,1,1,1,1,1,1,1,1,1,1,1,1,1,1,1,1,1,1,1,1,1,1,1,1,1,1,1,1,1,1,1,1,1,1,1,1,1,1,1,1,1,1,1,1,1,1,1,1,1,1,1,1,1,1,1,1,1,1,1,1,1,1,1,1,1,1,1,1,1,1,1,1,1,1,1,1,1,1,1,1,1,1,1,1,1,1,1,1,1,1,1,1,1,1,1,1,1,1,1,1,1,1,1,1,1,1,1,1,1,1,1,1,1]]]}}},\"view\":{\"type\":\"object\",\"name\":\"CDSView\",\"id\":\"p3947\",\"attributes\":{\"filter\":{\"type\":\"object\",\"name\":\"AllIndices\",\"id\":\"p3948\"}}},\"glyph\":{\"type\":\"object\",\"name\":\"Scatter\",\"id\":\"p3943\",\"attributes\":{\"tags\":[\"apply_ranges\"],\"x\":{\"type\":\"field\",\"field\":\"AnnualReturn\"},\"y\":{\"type\":\"field\",\"field\":\"AnnualVariance\"},\"size\":{\"type\":\"value\",\"value\":5.477225575051661},\"line_color\":{\"type\":\"value\",\"value\":\"#fc4f30\"},\"fill_color\":{\"type\":\"value\",\"value\":\"#fc4f30\"},\"hatch_color\":{\"type\":\"value\",\"value\":\"#fc4f30\"}}},\"selection_glyph\":{\"type\":\"object\",\"name\":\"Scatter\",\"id\":\"p3950\",\"attributes\":{\"tags\":[\"apply_ranges\"],\"x\":{\"type\":\"field\",\"field\":\"AnnualReturn\"},\"y\":{\"type\":\"field\",\"field\":\"AnnualVariance\"},\"size\":{\"type\":\"value\",\"value\":5.477225575051661},\"angle\":{\"type\":\"value\",\"value\":0.0},\"line_color\":{\"type\":\"value\",\"value\":\"#fc4f30\"},\"line_alpha\":{\"type\":\"value\",\"value\":1.0},\"line_width\":{\"type\":\"value\",\"value\":1},\"line_join\":{\"type\":\"value\",\"value\":\"bevel\"},\"line_cap\":{\"type\":\"value\",\"value\":\"butt\"},\"line_dash\":{\"type\":\"value\",\"value\":[]},\"line_dash_offset\":{\"type\":\"value\",\"value\":0},\"fill_color\":{\"type\":\"value\",\"value\":\"#fc4f30\"},\"fill_alpha\":{\"type\":\"value\",\"value\":1.0},\"hatch_color\":{\"type\":\"value\",\"value\":\"#fc4f30\"},\"hatch_alpha\":{\"type\":\"value\",\"value\":1.0},\"hatch_scale\":{\"type\":\"value\",\"value\":12.0},\"hatch_pattern\":{\"type\":\"value\",\"value\":null},\"hatch_weight\":{\"type\":\"value\",\"value\":1.0},\"marker\":{\"type\":\"value\",\"value\":\"circle\"}}},\"nonselection_glyph\":{\"type\":\"object\",\"name\":\"Scatter\",\"id\":\"p3944\",\"attributes\":{\"tags\":[\"apply_ranges\"],\"x\":{\"type\":\"field\",\"field\":\"AnnualReturn\"},\"y\":{\"type\":\"field\",\"field\":\"AnnualVariance\"},\"size\":{\"type\":\"value\",\"value\":5.477225575051661},\"line_color\":{\"type\":\"value\",\"value\":\"#fc4f30\"},\"line_alpha\":{\"type\":\"value\",\"value\":0.1},\"fill_color\":{\"type\":\"value\",\"value\":\"#fc4f30\"},\"fill_alpha\":{\"type\":\"value\",\"value\":0.1},\"hatch_color\":{\"type\":\"value\",\"value\":\"#fc4f30\"},\"hatch_alpha\":{\"type\":\"value\",\"value\":0.1}}},\"muted_glyph\":{\"type\":\"object\",\"name\":\"Scatter\",\"id\":\"p3945\",\"attributes\":{\"tags\":[\"apply_ranges\"],\"x\":{\"type\":\"field\",\"field\":\"AnnualReturn\"},\"y\":{\"type\":\"field\",\"field\":\"AnnualVariance\"},\"size\":{\"type\":\"value\",\"value\":5.477225575051661},\"line_color\":{\"type\":\"value\",\"value\":\"#fc4f30\"},\"line_alpha\":{\"type\":\"value\",\"value\":0.2},\"fill_color\":{\"type\":\"value\",\"value\":\"#fc4f30\"},\"fill_alpha\":{\"type\":\"value\",\"value\":0.2},\"hatch_color\":{\"type\":\"value\",\"value\":\"#fc4f30\"},\"hatch_alpha\":{\"type\":\"value\",\"value\":0.2}}}}},{\"type\":\"object\",\"name\":\"GlyphRenderer\",\"id\":\"p3960\",\"attributes\":{\"name\":\"2\",\"data_source\":{\"type\":\"object\",\"name\":\"ColumnDataSource\",\"id\":\"p3951\",\"attributes\":{\"selected\":{\"type\":\"object\",\"name\":\"Selection\",\"id\":\"p3952\",\"attributes\":{\"indices\":[],\"line_indices\":[]}},\"selection_policy\":{\"type\":\"object\",\"name\":\"UnionRenderers\",\"id\":\"p3953\"},\"data\":{\"type\":\"map\",\"entries\":[[\"AnnualReturn\",{\"type\":\"ndarray\",\"array\":{\"type\":\"bytes\",\"data\":\"m6NJ0767xz/RE2fh7QLLv7cOmhLJ3rW/AkApFp6T7L9z9vC1VgT7P8J05hUX/gVAiUIwT8IB9L/ojbQEUFbzPxaYhR4vz8C/rtFOamzL7D94MDg7yCPuv5YXsgLKNPE/\"},\"shape\":[12],\"dtype\":\"float64\",\"order\":\"little\"}],[\"AnnualVariance\",{\"type\":\"ndarray\",\"array\":{\"type\":\"bytes\",\"data\":\"UYqSCnAsEEC8JSC2k3/xPwh5V+gdhPw/3iuogAOBGUBdRreBknwmQC/7PEzYpD5AStSpexRNLECL8nTwOM4zQKEWaqDUaz9AtonVh64dMEDoagoXIQE0QHZCE8/CpTxA\"},\"shape\":[12],\"dtype\":\"float64\",\"order\":\"little\"}],[\"Ticker\",[\"AZO\",\"AZO\",\"BKNG\",\"BKNG\",\"BKNG\",\"NVR\",\"NVR\",\"NVR\",\"NVR\",\"NVR\",\"NVR\",\"NVR\"]],[\"StockCluster\",[2,2,2,2,2,2,2,2,2,2,2,2]]]}}},\"view\":{\"type\":\"object\",\"name\":\"CDSView\",\"id\":\"p3961\",\"attributes\":{\"filter\":{\"type\":\"object\",\"name\":\"AllIndices\",\"id\":\"p3962\"}}},\"glyph\":{\"type\":\"object\",\"name\":\"Scatter\",\"id\":\"p3957\",\"attributes\":{\"tags\":[\"apply_ranges\"],\"x\":{\"type\":\"field\",\"field\":\"AnnualReturn\"},\"y\":{\"type\":\"field\",\"field\":\"AnnualVariance\"},\"size\":{\"type\":\"value\",\"value\":5.477225575051661},\"line_color\":{\"type\":\"value\",\"value\":\"#e5ae38\"},\"fill_color\":{\"type\":\"value\",\"value\":\"#e5ae38\"},\"hatch_color\":{\"type\":\"value\",\"value\":\"#e5ae38\"}}},\"selection_glyph\":{\"type\":\"object\",\"name\":\"Scatter\",\"id\":\"p3964\",\"attributes\":{\"tags\":[\"apply_ranges\"],\"x\":{\"type\":\"field\",\"field\":\"AnnualReturn\"},\"y\":{\"type\":\"field\",\"field\":\"AnnualVariance\"},\"size\":{\"type\":\"value\",\"value\":5.477225575051661},\"angle\":{\"type\":\"value\",\"value\":0.0},\"line_color\":{\"type\":\"value\",\"value\":\"#e5ae38\"},\"line_alpha\":{\"type\":\"value\",\"value\":1.0},\"line_width\":{\"type\":\"value\",\"value\":1},\"line_join\":{\"type\":\"value\",\"value\":\"bevel\"},\"line_cap\":{\"type\":\"value\",\"value\":\"butt\"},\"line_dash\":{\"type\":\"value\",\"value\":[]},\"line_dash_offset\":{\"type\":\"value\",\"value\":0},\"fill_color\":{\"type\":\"value\",\"value\":\"#e5ae38\"},\"fill_alpha\":{\"type\":\"value\",\"value\":1.0},\"hatch_color\":{\"type\":\"value\",\"value\":\"#e5ae38\"},\"hatch_alpha\":{\"type\":\"value\",\"value\":1.0},\"hatch_scale\":{\"type\":\"value\",\"value\":12.0},\"hatch_pattern\":{\"type\":\"value\",\"value\":null},\"hatch_weight\":{\"type\":\"value\",\"value\":1.0},\"marker\":{\"type\":\"value\",\"value\":\"circle\"}}},\"nonselection_glyph\":{\"type\":\"object\",\"name\":\"Scatter\",\"id\":\"p3958\",\"attributes\":{\"tags\":[\"apply_ranges\"],\"x\":{\"type\":\"field\",\"field\":\"AnnualReturn\"},\"y\":{\"type\":\"field\",\"field\":\"AnnualVariance\"},\"size\":{\"type\":\"value\",\"value\":5.477225575051661},\"line_color\":{\"type\":\"value\",\"value\":\"#e5ae38\"},\"line_alpha\":{\"type\":\"value\",\"value\":0.1},\"fill_color\":{\"type\":\"value\",\"value\":\"#e5ae38\"},\"fill_alpha\":{\"type\":\"value\",\"value\":0.1},\"hatch_color\":{\"type\":\"value\",\"value\":\"#e5ae38\"},\"hatch_alpha\":{\"type\":\"value\",\"value\":0.1}}},\"muted_glyph\":{\"type\":\"object\",\"name\":\"Scatter\",\"id\":\"p3959\",\"attributes\":{\"tags\":[\"apply_ranges\"],\"x\":{\"type\":\"field\",\"field\":\"AnnualReturn\"},\"y\":{\"type\":\"field\",\"field\":\"AnnualVariance\"},\"size\":{\"type\":\"value\",\"value\":5.477225575051661},\"line_color\":{\"type\":\"value\",\"value\":\"#e5ae38\"},\"line_alpha\":{\"type\":\"value\",\"value\":0.2},\"fill_color\":{\"type\":\"value\",\"value\":\"#e5ae38\"},\"fill_alpha\":{\"type\":\"value\",\"value\":0.2},\"hatch_color\":{\"type\":\"value\",\"value\":\"#e5ae38\"},\"hatch_alpha\":{\"type\":\"value\",\"value\":0.2}}}}},{\"type\":\"object\",\"name\":\"GlyphRenderer\",\"id\":\"p3974\",\"attributes\":{\"name\":\"3\",\"data_source\":{\"type\":\"object\",\"name\":\"ColumnDataSource\",\"id\":\"p3965\",\"attributes\":{\"selected\":{\"type\":\"object\",\"name\":\"Selection\",\"id\":\"p3966\",\"attributes\":{\"indices\":[],\"line_indices\":[]}},\"selection_policy\":{\"type\":\"object\",\"name\":\"UnionRenderers\",\"id\":\"p3967\"},\"data\":{\"type\":\"map\",\"entries\":[[\"AnnualReturn\",{\"type\":\"ndarray\",\"array\":{\"type\":\"bytes\",\"data\":\"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\"},\"shape\":[276],\"dtype\":\"float64\",\"order\":\"little\"}],[\"AnnualVariance\",{\"type\":\"ndarray\",\"array\":{\"type\":\"bytes\",\"data\":\"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\"},\"shape\":[276],\"dtype\":\"float64\",\"order\":\"little\"}],[\"Ticker\",[\"ACN\",\"ACN\",\"ACN\",\"ADBE\",\"ADBE\",\"ADBE\",\"ADBE\",\"ALGN\",\"ALGN\",\"ALGN\",\"ALGN\",\"ALGN\",\"AMP\",\"ANSS\",\"ANSS\",\"ANSS\",\"AON\",\"AZO\",\"AZO\",\"AZO\",\"AZO\",\"AZO\",\"AZO\",\"AZO\",\"BA\",\"BA\",\"BIIB\",\"BIIB\",\"BIO\",\"BIO\",\"BIO\",\"BIO\",\"BIO\",\"BKNG\",\"BKNG\",\"BKNG\",\"BKNG\",\"BKNG\",\"BKNG\",\"BLK\",\"BLK\",\"BLK\",\"BLK\",\"BLK\",\"BLK\",\"BLK\",\"BLK\",\"CHTR\",\"CHTR\",\"CHTR\",\"CHTR\",\"CHTR\",\"CHTR\",\"CHTR\",\"COST\",\"COST\",\"COST\",\"COST\",\"CRL\",\"CTAS\",\"CTAS\",\"CTAS\",\"CTAS\",\"DE\",\"DE\",\"DE\",\"DECK\",\"DECK\",\"DECK\",\"DPZ\",\"DPZ\",\"DPZ\",\"DPZ\",\"EG\",\"EL\",\"ELV\",\"ELV\",\"ELV\",\"EPAM\",\"EPAM\",\"EQIX\",\"EQIX\",\"EQIX\",\"EQIX\",\"EQIX\",\"EQIX\",\"EQIX\",\"EQIX\",\"ESS\",\"ESS\",\"FDS\",\"FDS\",\"FDS\",\"FDS\",\"FICO\",\"FICO\",\"FICO\",\"FICO\",\"FICO\",\"GNRC\",\"GS\",\"GS\",\"GS\",\"GWW\",\"GWW\",\"GWW\",\"GWW\",\"GWW\",\"GWW\",\"HD\",\"HD\",\"HD\",\"HUM\",\"HUM\",\"HUM\",\"HUM\",\"HUM\",\"IDXX\",\"IDXX\",\"IDXX\",\"IDXX\",\"INTU\",\"INTU\",\"INTU\",\"INTU\",\"ISRG\",\"IT\",\"KLAC\",\"KLAC\",\"KLAC\",\"LIN\",\"LLY\",\"LLY\",\"LMT\",\"LMT\",\"LMT\",\"LMT\",\"LMT\",\"LMT\",\"LRCX\",\"LRCX\",\"LRCX\",\"LRCX\",\"LULU\",\"LULU\",\"LULU\",\"LULU\",\"MA\",\"MA\",\"MA\",\"MA\",\"MCK\",\"MCK\",\"MCO\",\"MCO\",\"META\",\"MKTX\",\"MKTX\",\"MKTX\",\"MLM\",\"MLM\",\"MLM\",\"MOH\",\"MOH\",\"MPWR\",\"MPWR\",\"MPWR\",\"MSCI\",\"MSCI\",\"MSCI\",\"MSCI\",\"MSFT\",\"MTD\",\"MTD\",\"MTD\",\"MTD\",\"MTD\",\"MTD\",\"MTD\",\"MTD\",\"NFLX\",\"NFLX\",\"NFLX\",\"NFLX\",\"NFLX\",\"NOC\",\"NOC\",\"NOC\",\"NOC\",\"NOC\",\"NOC\",\"NOW\",\"NOW\",\"NOW\",\"NOW\",\"NVR\",\"NVR\",\"ORLY\",\"ORLY\",\"ORLY\",\"ORLY\",\"ORLY\",\"ORLY\",\"PAYC\",\"PAYC\",\"PAYC\",\"PH\",\"PH\",\"POOL\",\"POOL\",\"POOL\",\"PSA\",\"PSA\",\"REGN\",\"REGN\",\"REGN\",\"REGN\",\"REGN\",\"REGN\",\"REGN\",\"REGN\",\"REGN\",\"ROP\",\"ROP\",\"ROP\",\"ROP\",\"ROP\",\"SBAC\",\"SBAC\",\"SNPS\",\"SNPS\",\"SPGI\",\"SPGI\",\"SPGI\",\"SPGI\",\"TDG\",\"TDG\",\"TDG\",\"TDG\",\"TDG\",\"TDG\",\"TDY\",\"TDY\",\"TDY\",\"TDY\",\"TDY\",\"TFX\",\"TFX\",\"TFX\",\"TMO\",\"TMO\",\"TMO\",\"TMO\",\"TYL\",\"TYL\",\"TYL\",\"TYL\",\"ULTA\",\"ULTA\",\"ULTA\",\"ULTA\",\"UNH\",\"UNH\",\"UNH\",\"UNH\",\"URI\",\"URI\",\"URI\",\"VRTX\",\"WAT\",\"WAT\",\"WST\",\"WST\",\"WST\",\"ZBRA\",\"ZBRA\"]],[\"StockCluster\",[3,3,3,3,3,3,3,3,3,3,3,3,3,3,3,3,3,3,3,3,3,3,3,3,3,3,3,3,3,3,3,3,3,3,3,3,3,3,3,3,3,3,3,3,3,3,3,3,3,3,3,3,3,3,3,3,3,3,3,3,3,3,3,3,3,3,3,3,3,3,3,3,3,3,3,3,3,3,3,3,3,3,3,3,3,3,3,3,3,3,3,3,3,3,3,3,3,3,3,3,3,3,3,3,3,3,3,3,3,3,3,3,3,3,3,3,3,3,3,3,3,3,3,3,3,3,3,3,3,3,3,3,3,3,3,3,3,3,3,3,3,3,3,3,3,3,3,3,3,3,3,3,3,3,3,3,3,3,3,3,3,3,3,3,3,3,3,3,3,3,3,3,3,3,3,3,3,3,3,3,3,3,3,3,3,3,3,3,3,3,3,3,3,3,3,3,3,3,3,3,3,3,3,3,3,3,3,3,3,3,3,3,3,3,3,3,3,3,3,3,3,3,3,3,3,3,3,3,3,3,3,3,3,3,3,3,3,3,3,3,3,3,3,3,3,3,3,3,3,3,3,3,3,3,3,3,3,3,3,3,3,3,3,3,3,3,3,3,3,3,3,3,3,3,3,3]]]}}},\"view\":{\"type\":\"object\",\"name\":\"CDSView\",\"id\":\"p3975\",\"attributes\":{\"filter\":{\"type\":\"object\",\"name\":\"AllIndices\",\"id\":\"p3976\"}}},\"glyph\":{\"type\":\"object\",\"name\":\"Scatter\",\"id\":\"p3971\",\"attributes\":{\"tags\":[\"apply_ranges\"],\"x\":{\"type\":\"field\",\"field\":\"AnnualReturn\"},\"y\":{\"type\":\"field\",\"field\":\"AnnualVariance\"},\"size\":{\"type\":\"value\",\"value\":5.477225575051661},\"line_color\":{\"type\":\"value\",\"value\":\"#6d904f\"},\"fill_color\":{\"type\":\"value\",\"value\":\"#6d904f\"},\"hatch_color\":{\"type\":\"value\",\"value\":\"#6d904f\"}}},\"selection_glyph\":{\"type\":\"object\",\"name\":\"Scatter\",\"id\":\"p3978\",\"attributes\":{\"tags\":[\"apply_ranges\"],\"x\":{\"type\":\"field\",\"field\":\"AnnualReturn\"},\"y\":{\"type\":\"field\",\"field\":\"AnnualVariance\"},\"size\":{\"type\":\"value\",\"value\":5.477225575051661},\"angle\":{\"type\":\"value\",\"value\":0.0},\"line_color\":{\"type\":\"value\",\"value\":\"#6d904f\"},\"line_alpha\":{\"type\":\"value\",\"value\":1.0},\"line_width\":{\"type\":\"value\",\"value\":1},\"line_join\":{\"type\":\"value\",\"value\":\"bevel\"},\"line_cap\":{\"type\":\"value\",\"value\":\"butt\"},\"line_dash\":{\"type\":\"value\",\"value\":[]},\"line_dash_offset\":{\"type\":\"value\",\"value\":0},\"fill_color\":{\"type\":\"value\",\"value\":\"#6d904f\"},\"fill_alpha\":{\"type\":\"value\",\"value\":1.0},\"hatch_color\":{\"type\":\"value\",\"value\":\"#6d904f\"},\"hatch_alpha\":{\"type\":\"value\",\"value\":1.0},\"hatch_scale\":{\"type\":\"value\",\"value\":12.0},\"hatch_pattern\":{\"type\":\"value\",\"value\":null},\"hatch_weight\":{\"type\":\"value\",\"value\":1.0},\"marker\":{\"type\":\"value\",\"value\":\"circle\"}}},\"nonselection_glyph\":{\"type\":\"object\",\"name\":\"Scatter\",\"id\":\"p3972\",\"attributes\":{\"tags\":[\"apply_ranges\"],\"x\":{\"type\":\"field\",\"field\":\"AnnualReturn\"},\"y\":{\"type\":\"field\",\"field\":\"AnnualVariance\"},\"size\":{\"type\":\"value\",\"value\":5.477225575051661},\"line_color\":{\"type\":\"value\",\"value\":\"#6d904f\"},\"line_alpha\":{\"type\":\"value\",\"value\":0.1},\"fill_color\":{\"type\":\"value\",\"value\":\"#6d904f\"},\"fill_alpha\":{\"type\":\"value\",\"value\":0.1},\"hatch_color\":{\"type\":\"value\",\"value\":\"#6d904f\"},\"hatch_alpha\":{\"type\":\"value\",\"value\":0.1}}},\"muted_glyph\":{\"type\":\"object\",\"name\":\"Scatter\",\"id\":\"p3973\",\"attributes\":{\"tags\":[\"apply_ranges\"],\"x\":{\"type\":\"field\",\"field\":\"AnnualReturn\"},\"y\":{\"type\":\"field\",\"field\":\"AnnualVariance\"},\"size\":{\"type\":\"value\",\"value\":5.477225575051661},\"line_color\":{\"type\":\"value\",\"value\":\"#6d904f\"},\"line_alpha\":{\"type\":\"value\",\"value\":0.2},\"fill_color\":{\"type\":\"value\",\"value\":\"#6d904f\"},\"fill_alpha\":{\"type\":\"value\",\"value\":0.2},\"hatch_color\":{\"type\":\"value\",\"value\":\"#6d904f\"},\"hatch_alpha\":{\"type\":\"value\",\"value\":0.2}}}}},{\"type\":\"object\",\"name\":\"GlyphRenderer\",\"id\":\"p3988\",\"attributes\":{\"name\":\"4\",\"data_source\":{\"type\":\"object\",\"name\":\"ColumnDataSource\",\"id\":\"p3979\",\"attributes\":{\"selected\":{\"type\":\"object\",\"name\":\"Selection\",\"id\":\"p3980\",\"attributes\":{\"indices\":[],\"line_indices\":[]}},\"selection_policy\":{\"type\":\"object\",\"name\":\"UnionRenderers\",\"id\":\"p3981\"},\"data\":{\"type\":\"map\",\"entries\":[[\"AnnualReturn\",{\"type\":\"ndarray\",\"array\":{\"type\":\"bytes\",\"data\":\"InZyKXQy9j9IK+eYHwwYQEU7LUrA4QBAw12II7Du9L+7jnnQSzX6P0Y9eETdHQdAYN9sV0SXCEB0Wdez0Cf9vw0jqVsV2hlARz6HgXWrM0A=\"},\"shape\":[10],\"dtype\":\"float64\",\"order\":\"little\"}],[\"AnnualVariance\",{\"type\":\"ndarray\",\"array\":{\"type\":\"bytes\",\"data\":\"QQFxRBlutb+821HLCWy1v9ljxHqqZ7W/d2stxC9otb/5zplYXmu1v7srfx9UMLW/vgacukp2tL8mn8nePdO0v5k/cRMDLrK/fCsHdkju0D8=\"},\"shape\":[10],\"dtype\":\"float64\",\"order\":\"little\"}],[\"Ticker\",[\"NVDA\",\"NVDA\",\"NVDA\",\"NVDA\",\"NVDA\",\"NVDA\",\"NVDA\",\"NVDA\",\"NVDA\",\"TSLA\"]],[\"StockCluster\",[4,4,4,4,4,4,4,4,4,4]]]}}},\"view\":{\"type\":\"object\",\"name\":\"CDSView\",\"id\":\"p3989\",\"attributes\":{\"filter\":{\"type\":\"object\",\"name\":\"AllIndices\",\"id\":\"p3990\"}}},\"glyph\":{\"type\":\"object\",\"name\":\"Scatter\",\"id\":\"p3985\",\"attributes\":{\"tags\":[\"apply_ranges\"],\"x\":{\"type\":\"field\",\"field\":\"AnnualReturn\"},\"y\":{\"type\":\"field\",\"field\":\"AnnualVariance\"},\"size\":{\"type\":\"value\",\"value\":5.477225575051661},\"line_color\":{\"type\":\"value\",\"value\":\"#8b8b8b\"},\"fill_color\":{\"type\":\"value\",\"value\":\"#8b8b8b\"},\"hatch_color\":{\"type\":\"value\",\"value\":\"#8b8b8b\"}}},\"selection_glyph\":{\"type\":\"object\",\"name\":\"Scatter\",\"id\":\"p3992\",\"attributes\":{\"tags\":[\"apply_ranges\"],\"x\":{\"type\":\"field\",\"field\":\"AnnualReturn\"},\"y\":{\"type\":\"field\",\"field\":\"AnnualVariance\"},\"size\":{\"type\":\"value\",\"value\":5.477225575051661},\"angle\":{\"type\":\"value\",\"value\":0.0},\"line_color\":{\"type\":\"value\",\"value\":\"#8b8b8b\"},\"line_alpha\":{\"type\":\"value\",\"value\":1.0},\"line_width\":{\"type\":\"value\",\"value\":1},\"line_join\":{\"type\":\"value\",\"value\":\"bevel\"},\"line_cap\":{\"type\":\"value\",\"value\":\"butt\"},\"line_dash\":{\"type\":\"value\",\"value\":[]},\"line_dash_offset\":{\"type\":\"value\",\"value\":0},\"fill_color\":{\"type\":\"value\",\"value\":\"#8b8b8b\"},\"fill_alpha\":{\"type\":\"value\",\"value\":1.0},\"hatch_color\":{\"type\":\"value\",\"value\":\"#8b8b8b\"},\"hatch_alpha\":{\"type\":\"value\",\"value\":1.0},\"hatch_scale\":{\"type\":\"value\",\"value\":12.0},\"hatch_pattern\":{\"type\":\"value\",\"value\":null},\"hatch_weight\":{\"type\":\"value\",\"value\":1.0},\"marker\":{\"type\":\"value\",\"value\":\"circle\"}}},\"nonselection_glyph\":{\"type\":\"object\",\"name\":\"Scatter\",\"id\":\"p3986\",\"attributes\":{\"tags\":[\"apply_ranges\"],\"x\":{\"type\":\"field\",\"field\":\"AnnualReturn\"},\"y\":{\"type\":\"field\",\"field\":\"AnnualVariance\"},\"size\":{\"type\":\"value\",\"value\":5.477225575051661},\"line_color\":{\"type\":\"value\",\"value\":\"#8b8b8b\"},\"line_alpha\":{\"type\":\"value\",\"value\":0.1},\"fill_color\":{\"type\":\"value\",\"value\":\"#8b8b8b\"},\"fill_alpha\":{\"type\":\"value\",\"value\":0.1},\"hatch_color\":{\"type\":\"value\",\"value\":\"#8b8b8b\"},\"hatch_alpha\":{\"type\":\"value\",\"value\":0.1}}},\"muted_glyph\":{\"type\":\"object\",\"name\":\"Scatter\",\"id\":\"p3987\",\"attributes\":{\"tags\":[\"apply_ranges\"],\"x\":{\"type\":\"field\",\"field\":\"AnnualReturn\"},\"y\":{\"type\":\"field\",\"field\":\"AnnualVariance\"},\"size\":{\"type\":\"value\",\"value\":5.477225575051661},\"line_color\":{\"type\":\"value\",\"value\":\"#8b8b8b\"},\"line_alpha\":{\"type\":\"value\",\"value\":0.2},\"fill_color\":{\"type\":\"value\",\"value\":\"#8b8b8b\"},\"fill_alpha\":{\"type\":\"value\",\"value\":0.2},\"hatch_color\":{\"type\":\"value\",\"value\":\"#8b8b8b\"},\"hatch_alpha\":{\"type\":\"value\",\"value\":0.2}}}}}],\"toolbar\":{\"type\":\"object\",\"name\":\"Toolbar\",\"id\":\"p3900\",\"attributes\":{\"tools\":[{\"type\":\"object\",\"name\":\"WheelZoomTool\",\"id\":\"p3877\",\"attributes\":{\"tags\":[\"hv_created\"],\"renderers\":\"auto\",\"zoom_together\":\"none\"}},{\"type\":\"object\",\"name\":\"HoverTool\",\"id\":\"p3878\",\"attributes\":{\"tags\":[\"hv_created\"],\"renderers\":[{\"id\":\"p3931\"},{\"id\":\"p3946\"},{\"id\":\"p3960\"},{\"id\":\"p3974\"},{\"id\":\"p3988\"}],\"tooltips\":[[\"StockCluster\",\"@{StockCluster}\"],[\"AnnualReturn\",\"@{AnnualReturn}\"],[\"AnnualVariance\",\"@{AnnualVariance}\"],[\"Ticker\",\"@{Ticker}\"]]}},{\"type\":\"object\",\"name\":\"SaveTool\",\"id\":\"p3913\"},{\"type\":\"object\",\"name\":\"PanTool\",\"id\":\"p3914\"},{\"type\":\"object\",\"name\":\"BoxZoomTool\",\"id\":\"p3915\",\"attributes\":{\"overlay\":{\"type\":\"object\",\"name\":\"BoxAnnotation\",\"id\":\"p3916\",\"attributes\":{\"syncable\":false,\"level\":\"overlay\",\"visible\":false,\"left\":{\"type\":\"number\",\"value\":\"nan\"},\"right\":{\"type\":\"number\",\"value\":\"nan\"},\"top\":{\"type\":\"number\",\"value\":\"nan\"},\"bottom\":{\"type\":\"number\",\"value\":\"nan\"},\"left_units\":\"canvas\",\"right_units\":\"canvas\",\"top_units\":\"canvas\",\"bottom_units\":\"canvas\",\"line_color\":\"black\",\"line_alpha\":1.0,\"line_width\":2,\"line_dash\":[4,4],\"fill_color\":\"lightgrey\",\"fill_alpha\":0.5}}}},{\"type\":\"object\",\"name\":\"ResetTool\",\"id\":\"p3921\"}],\"active_drag\":{\"id\":\"p3914\"},\"active_scroll\":{\"id\":\"p3877\"}}},\"left\":[{\"type\":\"object\",\"name\":\"LinearAxis\",\"id\":\"p3908\",\"attributes\":{\"ticker\":{\"type\":\"object\",\"name\":\"BasicTicker\",\"id\":\"p3909\",\"attributes\":{\"mantissas\":[1,2,5]}},\"formatter\":{\"type\":\"object\",\"name\":\"BasicTickFormatter\",\"id\":\"p3910\"},\"axis_label\":\"AnnualVariance\",\"major_label_policy\":{\"type\":\"object\",\"name\":\"AllLabels\",\"id\":\"p3911\"}}}],\"right\":[{\"type\":\"object\",\"name\":\"Legend\",\"id\":\"p3934\",\"attributes\":{\"location\":[0,0],\"title\":\"StockCluster\",\"click_policy\":\"mute\",\"items\":[{\"type\":\"object\",\"name\":\"LegendItem\",\"id\":\"p3935\",\"attributes\":{\"label\":{\"type\":\"value\",\"value\":\"0\"},\"renderers\":[{\"id\":\"p3931\"}]}},{\"type\":\"object\",\"name\":\"LegendItem\",\"id\":\"p3949\",\"attributes\":{\"label\":{\"type\":\"value\",\"value\":\"1\"},\"renderers\":[{\"id\":\"p3946\"}]}},{\"type\":\"object\",\"name\":\"LegendItem\",\"id\":\"p3963\",\"attributes\":{\"label\":{\"type\":\"value\",\"value\":\"2\"},\"renderers\":[{\"id\":\"p3960\"}]}},{\"type\":\"object\",\"name\":\"LegendItem\",\"id\":\"p3977\",\"attributes\":{\"label\":{\"type\":\"value\",\"value\":\"3\"},\"renderers\":[{\"id\":\"p3974\"}]}},{\"type\":\"object\",\"name\":\"LegendItem\",\"id\":\"p3991\",\"attributes\":{\"label\":{\"type\":\"value\",\"value\":\"4\"},\"renderers\":[{\"id\":\"p3988\"}]}}]}}],\"below\":[{\"type\":\"object\",\"name\":\"LinearAxis\",\"id\":\"p3903\",\"attributes\":{\"ticker\":{\"type\":\"object\",\"name\":\"BasicTicker\",\"id\":\"p3904\",\"attributes\":{\"mantissas\":[1,2,5]}},\"formatter\":{\"type\":\"object\",\"name\":\"BasicTickFormatter\",\"id\":\"p3905\"},\"axis_label\":\"AnnualReturn\",\"major_label_policy\":{\"type\":\"object\",\"name\":\"AllLabels\",\"id\":\"p3906\"}}}],\"center\":[{\"type\":\"object\",\"name\":\"Grid\",\"id\":\"p3907\",\"attributes\":{\"axis\":{\"id\":\"p3903\"},\"grid_line_color\":null}},{\"type\":\"object\",\"name\":\"Grid\",\"id\":\"p3912\",\"attributes\":{\"dimension\":1,\"axis\":{\"id\":\"p3908\"},\"grid_line_color\":null}}],\"min_border_top\":10,\"min_border_bottom\":10,\"min_border_left\":10,\"min_border_right\":10,\"output_backend\":\"webgl\"}},{\"type\":\"object\",\"name\":\"Spacer\",\"id\":\"p3994\",\"attributes\":{\"name\":\"HSpacer09879\",\"stylesheets\":[\"\\n:host(.pn-loading.pn-arc):before, .pn-loading.pn-arc:before {\\n  background-image: url(\\\"data:image/svg+xml;base64,PHN2ZyB4bWxucz0iaHR0cDovL3d3dy53My5vcmcvMjAwMC9zdmciIHN0eWxlPSJtYXJnaW46IGF1dG87IGJhY2tncm91bmQ6IG5vbmU7IGRpc3BsYXk6IGJsb2NrOyBzaGFwZS1yZW5kZXJpbmc6IGF1dG87IiB2aWV3Qm94PSIwIDAgMTAwIDEwMCIgcHJlc2VydmVBc3BlY3RSYXRpbz0ieE1pZFlNaWQiPiAgPGNpcmNsZSBjeD0iNTAiIGN5PSI1MCIgZmlsbD0ibm9uZSIgc3Ryb2tlPSIjYzNjM2MzIiBzdHJva2Utd2lkdGg9IjEwIiByPSIzNSIgc3Ryb2tlLWRhc2hhcnJheT0iMTY0LjkzMzYxNDMxMzQ2NDE1IDU2Ljk3Nzg3MTQzNzgyMTM4Ij4gICAgPGFuaW1hdGVUcmFuc2Zvcm0gYXR0cmlidXRlTmFtZT0idHJhbnNmb3JtIiB0eXBlPSJyb3RhdGUiIHJlcGVhdENvdW50PSJpbmRlZmluaXRlIiBkdXI9IjFzIiB2YWx1ZXM9IjAgNTAgNTA7MzYwIDUwIDUwIiBrZXlUaW1lcz0iMDsxIj48L2FuaW1hdGVUcmFuc2Zvcm0+ICA8L2NpcmNsZT48L3N2Zz4=\\\");\\n  background-size: auto calc(min(50%, 400px));\\n}\",{\"id\":\"p3870\"},{\"id\":\"p3868\"},{\"id\":\"p3869\"}],\"margin\":0,\"sizing_mode\":\"stretch_width\",\"align\":\"start\"}}]}}],\"defs\":[{\"type\":\"model\",\"name\":\"ReactiveHTML1\"},{\"type\":\"model\",\"name\":\"FlexBox1\",\"properties\":[{\"name\":\"align_content\",\"kind\":\"Any\",\"default\":\"flex-start\"},{\"name\":\"align_items\",\"kind\":\"Any\",\"default\":\"flex-start\"},{\"name\":\"flex_direction\",\"kind\":\"Any\",\"default\":\"row\"},{\"name\":\"flex_wrap\",\"kind\":\"Any\",\"default\":\"wrap\"},{\"name\":\"justify_content\",\"kind\":\"Any\",\"default\":\"flex-start\"}]},{\"type\":\"model\",\"name\":\"FloatPanel1\",\"properties\":[{\"name\":\"config\",\"kind\":\"Any\",\"default\":{\"type\":\"map\"}},{\"name\":\"contained\",\"kind\":\"Any\",\"default\":true},{\"name\":\"position\",\"kind\":\"Any\",\"default\":\"right-top\"},{\"name\":\"offsetx\",\"kind\":\"Any\",\"default\":null},{\"name\":\"offsety\",\"kind\":\"Any\",\"default\":null},{\"name\":\"theme\",\"kind\":\"Any\",\"default\":\"primary\"},{\"name\":\"status\",\"kind\":\"Any\",\"default\":\"normalized\"}]},{\"type\":\"model\",\"name\":\"GridStack1\",\"properties\":[{\"name\":\"mode\",\"kind\":\"Any\",\"default\":\"warn\"},{\"name\":\"ncols\",\"kind\":\"Any\",\"default\":null},{\"name\":\"nrows\",\"kind\":\"Any\",\"default\":null},{\"name\":\"allow_resize\",\"kind\":\"Any\",\"default\":true},{\"name\":\"allow_drag\",\"kind\":\"Any\",\"default\":true},{\"name\":\"state\",\"kind\":\"Any\",\"default\":[]}]},{\"type\":\"model\",\"name\":\"drag1\",\"properties\":[{\"name\":\"slider_width\",\"kind\":\"Any\",\"default\":5},{\"name\":\"slider_color\",\"kind\":\"Any\",\"default\":\"black\"},{\"name\":\"value\",\"kind\":\"Any\",\"default\":50}]},{\"type\":\"model\",\"name\":\"click1\",\"properties\":[{\"name\":\"terminal_output\",\"kind\":\"Any\",\"default\":\"\"},{\"name\":\"debug_name\",\"kind\":\"Any\",\"default\":\"\"},{\"name\":\"clears\",\"kind\":\"Any\",\"default\":0}]},{\"type\":\"model\",\"name\":\"copy_to_clipboard1\",\"properties\":[{\"name\":\"fill\",\"kind\":\"Any\",\"default\":\"none\"},{\"name\":\"value\",\"kind\":\"Any\",\"default\":null}]},{\"type\":\"model\",\"name\":\"FastWrapper1\",\"properties\":[{\"name\":\"object\",\"kind\":\"Any\",\"default\":null},{\"name\":\"style\",\"kind\":\"Any\",\"default\":null}]},{\"type\":\"model\",\"name\":\"NotificationAreaBase1\",\"properties\":[{\"name\":\"js_events\",\"kind\":\"Any\",\"default\":{\"type\":\"map\"}},{\"name\":\"position\",\"kind\":\"Any\",\"default\":\"bottom-right\"},{\"name\":\"_clear\",\"kind\":\"Any\",\"default\":0}]},{\"type\":\"model\",\"name\":\"NotificationArea1\",\"properties\":[{\"name\":\"js_events\",\"kind\":\"Any\",\"default\":{\"type\":\"map\"}},{\"name\":\"notifications\",\"kind\":\"Any\",\"default\":[]},{\"name\":\"position\",\"kind\":\"Any\",\"default\":\"bottom-right\"},{\"name\":\"_clear\",\"kind\":\"Any\",\"default\":0},{\"name\":\"types\",\"kind\":\"Any\",\"default\":[{\"type\":\"map\",\"entries\":[[\"type\",\"warning\"],[\"background\",\"#ffc107\"],[\"icon\",{\"type\":\"map\",\"entries\":[[\"className\",\"fas fa-exclamation-triangle\"],[\"tagName\",\"i\"],[\"color\",\"white\"]]}]]},{\"type\":\"map\",\"entries\":[[\"type\",\"info\"],[\"background\",\"#007bff\"],[\"icon\",{\"type\":\"map\",\"entries\":[[\"className\",\"fas fa-info-circle\"],[\"tagName\",\"i\"],[\"color\",\"white\"]]}]]}]}]},{\"type\":\"model\",\"name\":\"Notification\",\"properties\":[{\"name\":\"background\",\"kind\":\"Any\",\"default\":null},{\"name\":\"duration\",\"kind\":\"Any\",\"default\":3000},{\"name\":\"icon\",\"kind\":\"Any\",\"default\":null},{\"name\":\"message\",\"kind\":\"Any\",\"default\":\"\"},{\"name\":\"notification_type\",\"kind\":\"Any\",\"default\":null},{\"name\":\"_destroyed\",\"kind\":\"Any\",\"default\":false}]},{\"type\":\"model\",\"name\":\"TemplateActions1\",\"properties\":[{\"name\":\"open_modal\",\"kind\":\"Any\",\"default\":0},{\"name\":\"close_modal\",\"kind\":\"Any\",\"default\":0}]},{\"type\":\"model\",\"name\":\"BootstrapTemplateActions1\",\"properties\":[{\"name\":\"open_modal\",\"kind\":\"Any\",\"default\":0},{\"name\":\"close_modal\",\"kind\":\"Any\",\"default\":0}]},{\"type\":\"model\",\"name\":\"MaterialTemplateActions1\",\"properties\":[{\"name\":\"open_modal\",\"kind\":\"Any\",\"default\":0},{\"name\":\"close_modal\",\"kind\":\"Any\",\"default\":0}]}]}};\n",
       "  var render_items = [{\"docid\":\"5f755d40-32dc-4449-b145-6e8fe88451ca\",\"roots\":{\"p3867\":\"dcacd99d-c112-405f-a386-a7a84668b3b8\"},\"root_ids\":[\"p3867\"]}];\n",
       "  var docs = Object.values(docs_json)\n",
       "  if (!docs) {\n",
       "    return\n",
       "  }\n",
       "  const py_version = docs[0].version.replace('rc', '-rc.').replace('.dev', '-dev.')\n",
       "  function embed_document(root) {\n",
       "    var Bokeh = get_bokeh(root)\n",
       "    Bokeh.embed.embed_items_notebook(docs_json, render_items);\n",
       "    for (const render_item of render_items) {\n",
       "      for (const root_id of render_item.root_ids) {\n",
       "\tconst id_el = document.getElementById(root_id)\n",
       "\tif (id_el.children.length && (id_el.children[0].className === 'bk-root')) {\n",
       "\t  const root_el = id_el.children[0]\n",
       "\t  root_el.id = root_el.id + '-rendered'\n",
       "\t}\n",
       "      }\n",
       "    }\n",
       "  }\n",
       "  function get_bokeh(root) {\n",
       "    if (root.Bokeh === undefined) {\n",
       "      return null\n",
       "    } else if (root.Bokeh.version !== py_version) {\n",
       "      if (root.Bokeh.versions === undefined || !root.Bokeh.versions.has(py_version)) {\n",
       "\treturn null\n",
       "      }\n",
       "      return root.Bokeh.versions.get(py_version);\n",
       "    } else if (root.Bokeh.version === py_version) {\n",
       "      return root.Bokeh\n",
       "    }\n",
       "    return null\n",
       "  }\n",
       "  function is_loaded(root) {\n",
       "    var Bokeh = get_bokeh(root)\n",
       "    return (Bokeh != null && Bokeh.Panel !== undefined)\n",
       "  }\n",
       "  if (is_loaded(root)) {\n",
       "    embed_document(root);\n",
       "  } else {\n",
       "    var attempts = 0;\n",
       "    var timer = setInterval(function(root) {\n",
       "      if (is_loaded(root)) {\n",
       "        clearInterval(timer);\n",
       "        embed_document(root);\n",
       "      } else if (document.readyState == \"complete\") {\n",
       "        attempts++;\n",
       "        if (attempts > 200) {\n",
       "          clearInterval(timer);\n",
       "\t  var Bokeh = get_bokeh(root)\n",
       "\t  if (Bokeh == null || Bokeh.Panel == null) {\n",
       "            console.warn(\"Panel: ERROR: Unable to run Panel code because Bokeh or Panel library is missing\");\n",
       "\t  } else {\n",
       "\t    console.warn(\"Panel: WARNING: Attempting to render but not all required libraries could be resolved.\")\n",
       "\t    embed_document(root)\n",
       "\t  }\n",
       "        }\n",
       "      }\n",
       "    }, 25, root)\n",
       "  }\n",
       "})(window);</script>"
      ],
      "text/plain": [
       ":NdOverlay   [StockCluster]\n",
       "   :Scatter   [AnnualReturn]   (AnnualVariance,Ticker)"
      ]
     },
     "execution_count": 215,
     "metadata": {
      "application/vnd.holoviews_exec.v0+json": {
       "id": "p3867"
      }
     },
     "output_type": "execute_result"
    }
   ],
   "source": [
    "# Create a scatter plot - Annual Return vs Annual Variance - Color by Stock Cluster\n",
    "sp500_clustering_df.hvplot.scatter(\n",
    "    x=\"AnnualReturn\",\n",
    "    y=\"AnnualVariance\",\n",
    "    by=\"StockCluster\",\n",
    "    hover_cols = [\"Ticker\"], \n",
    "    title = \"Scatter Plot by Stock Segment\"\n",
    ")"
   ]
  },
  {
   "cell_type": "code",
   "execution_count": 218,
   "id": "bf0e3731",
   "metadata": {},
   "outputs": [
    {
     "data": {},
     "metadata": {},
     "output_type": "display_data"
    },
    {
     "data": {
      "application/vnd.holoviews_exec.v0+json": "",
      "text/html": [
       "<div id='p4092'>\n",
       "  <div id=\"c7614551-5849-4cb3-b6af-1d2fb5f9cf35\" data-root-id=\"p4092\" style=\"display: contents;\"></div>\n",
       "</div>\n",
       "<script type=\"application/javascript\">(function(root) {\n",
       "  var docs_json = {\"420407c8-0427-417a-9619-881adda5e6d3\":{\"version\":\"3.3.4\",\"title\":\"Bokeh Application\",\"roots\":[{\"type\":\"object\",\"name\":\"Row\",\"id\":\"p4092\",\"attributes\":{\"name\":\"Row10516\",\"tags\":[\"embedded\"],\"stylesheets\":[\"\\n:host(.pn-loading.pn-arc):before, .pn-loading.pn-arc:before {\\n  background-image: url(\\\"data:image/svg+xml;base64,PHN2ZyB4bWxucz0iaHR0cDovL3d3dy53My5vcmcvMjAwMC9zdmciIHN0eWxlPSJtYXJnaW46IGF1dG87IGJhY2tncm91bmQ6IG5vbmU7IGRpc3BsYXk6IGJsb2NrOyBzaGFwZS1yZW5kZXJpbmc6IGF1dG87IiB2aWV3Qm94PSIwIDAgMTAwIDEwMCIgcHJlc2VydmVBc3BlY3RSYXRpbz0ieE1pZFlNaWQiPiAgPGNpcmNsZSBjeD0iNTAiIGN5PSI1MCIgZmlsbD0ibm9uZSIgc3Ryb2tlPSIjYzNjM2MzIiBzdHJva2Utd2lkdGg9IjEwIiByPSIzNSIgc3Ryb2tlLWRhc2hhcnJheT0iMTY0LjkzMzYxNDMxMzQ2NDE1IDU2Ljk3Nzg3MTQzNzgyMTM4Ij4gICAgPGFuaW1hdGVUcmFuc2Zvcm0gYXR0cmlidXRlTmFtZT0idHJhbnNmb3JtIiB0eXBlPSJyb3RhdGUiIHJlcGVhdENvdW50PSJpbmRlZmluaXRlIiBkdXI9IjFzIiB2YWx1ZXM9IjAgNTAgNTA7MzYwIDUwIDUwIiBrZXlUaW1lcz0iMDsxIj48L2FuaW1hdGVUcmFuc2Zvcm0+ICA8L2NpcmNsZT48L3N2Zz4=\\\");\\n  background-size: auto calc(min(50%, 400px));\\n}\",{\"type\":\"object\",\"name\":\"ImportedStyleSheet\",\"id\":\"p4095\",\"attributes\":{\"url\":\"https://cdn.holoviz.org/panel/1.3.8/dist/css/loading.css\"}},{\"type\":\"object\",\"name\":\"ImportedStyleSheet\",\"id\":\"p4170\",\"attributes\":{\"url\":\"https://cdn.holoviz.org/panel/1.3.8/dist/css/listpanel.css\"}},{\"type\":\"object\",\"name\":\"ImportedStyleSheet\",\"id\":\"p4093\",\"attributes\":{\"url\":\"https://cdn.holoviz.org/panel/1.3.8/dist/bundled/theme/default.css\"}},{\"type\":\"object\",\"name\":\"ImportedStyleSheet\",\"id\":\"p4094\",\"attributes\":{\"url\":\"https://cdn.holoviz.org/panel/1.3.8/dist/bundled/theme/native.css\"}}],\"min_width\":700,\"margin\":0,\"sizing_mode\":\"stretch_width\",\"align\":\"start\",\"children\":[{\"type\":\"object\",\"name\":\"Spacer\",\"id\":\"p4096\",\"attributes\":{\"name\":\"HSpacer10523\",\"stylesheets\":[\"\\n:host(.pn-loading.pn-arc):before, .pn-loading.pn-arc:before {\\n  background-image: url(\\\"data:image/svg+xml;base64,PHN2ZyB4bWxucz0iaHR0cDovL3d3dy53My5vcmcvMjAwMC9zdmciIHN0eWxlPSJtYXJnaW46IGF1dG87IGJhY2tncm91bmQ6IG5vbmU7IGRpc3BsYXk6IGJsb2NrOyBzaGFwZS1yZW5kZXJpbmc6IGF1dG87IiB2aWV3Qm94PSIwIDAgMTAwIDEwMCIgcHJlc2VydmVBc3BlY3RSYXRpbz0ieE1pZFlNaWQiPiAgPGNpcmNsZSBjeD0iNTAiIGN5PSI1MCIgZmlsbD0ibm9uZSIgc3Ryb2tlPSIjYzNjM2MzIiBzdHJva2Utd2lkdGg9IjEwIiByPSIzNSIgc3Ryb2tlLWRhc2hhcnJheT0iMTY0LjkzMzYxNDMxMzQ2NDE1IDU2Ljk3Nzg3MTQzNzgyMTM4Ij4gICAgPGFuaW1hdGVUcmFuc2Zvcm0gYXR0cmlidXRlTmFtZT0idHJhbnNmb3JtIiB0eXBlPSJyb3RhdGUiIHJlcGVhdENvdW50PSJpbmRlZmluaXRlIiBkdXI9IjFzIiB2YWx1ZXM9IjAgNTAgNTA7MzYwIDUwIDUwIiBrZXlUaW1lcz0iMDsxIj48L2FuaW1hdGVUcmFuc2Zvcm0+ICA8L2NpcmNsZT48L3N2Zz4=\\\");\\n  background-size: auto calc(min(50%, 400px));\\n}\",{\"id\":\"p4095\"},{\"id\":\"p4093\"},{\"id\":\"p4094\"}],\"margin\":0,\"sizing_mode\":\"stretch_width\",\"align\":\"start\"}},{\"type\":\"object\",\"name\":\"Figure\",\"id\":\"p4107\",\"attributes\":{\"width\":700,\"height\":300,\"margin\":[5,10],\"sizing_mode\":\"fixed\",\"align\":\"start\",\"x_range\":{\"type\":\"object\",\"name\":\"Range1d\",\"id\":\"p4097\",\"attributes\":{\"tags\":[[[\"AnnualReturn\",\"AnnualReturn\",null]],[]],\"start\":-3.435182555198896,\"end\":20.619280007877055,\"reset_start\":-3.435182555198896,\"reset_end\":20.619280007877055}},\"y_range\":{\"type\":\"object\",\"name\":\"Range1d\",\"id\":\"p4098\",\"attributes\":{\"tags\":[[[\"AnnualVariance\",\"AnnualVariance\",null]],{\"type\":\"map\",\"entries\":[[\"invert_yaxis\",false],[\"autorange\",false]]}],\"start\":-3.2342036626055854,\"end\":34.571705614482376,\"reset_start\":-3.2342036626055854,\"reset_end\":34.571705614482376}},\"x_scale\":{\"type\":\"object\",\"name\":\"LinearScale\",\"id\":\"p4117\"},\"y_scale\":{\"type\":\"object\",\"name\":\"LinearScale\",\"id\":\"p4118\"},\"title\":{\"type\":\"object\",\"name\":\"Title\",\"id\":\"p4110\",\"attributes\":{\"text\":\"Scatter Plot by Stock Segment\",\"text_color\":\"black\",\"text_font_size\":\"12pt\"}},\"renderers\":[{\"type\":\"object\",\"name\":\"GlyphRenderer\",\"id\":\"p4147\",\"attributes\":{\"name\":\"0\",\"data_source\":{\"type\":\"object\",\"name\":\"ColumnDataSource\",\"id\":\"p4138\",\"attributes\":{\"selected\":{\"type\":\"object\",\"name\":\"Selection\",\"id\":\"p4139\",\"attributes\":{\"indices\":[],\"line_indices\":[]}},\"selection_policy\":{\"type\":\"object\",\"name\":\"UnionRenderers\",\"id\":\"p4140\"},\"data\":{\"type\":\"map\",\"entries\":[[\"AnnualReturn\",{\"type\":\"ndarray\",\"array\":{\"type\":\"bytes\",\"data\":\"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\"},\"shape\":[4071],\"dtype\":\"float64\",\"order\":\"little\"}],[\"AnnualVariance\",{\"type\":\"ndarray\",\"array\":{\"type\":\"bytes\",\"data\":\"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\"},\"shape\":[4071],\"dtype\":\"float64\",\"order\":\"little\"}],[\"Ticker\",[\"A\",\"A\",\"A\",\"A\",\"A\",\"A\",\"A\",\"A\",\"A\",\"AAL\",\"AAL\",\"AAL\",\"AAL\",\"AAL\",\"AAL\",\"AAL\",\"AAL\",\"AAL\",\"AAPL\",\"AAPL\",\"AAPL\",\"AAPL\",\"AAPL\",\"AAPL\",\"AAPL\",\"AAPL\",\"AAPL\",\"ABBV\",\"ABBV\",\"ABBV\",\"ABBV\",\"ABBV\",\"ABBV\",\"ABBV\",\"ABBV\",\"ABBV\",\"ABNB\",\"ABNB\",\"ABNB\",\"ABNB\",\"ABT\",\"ABT\",\"ABT\",\"ABT\",\"ABT\",\"ABT\",\"ABT\",\"ABT\",\"ABT\",\"ACGL\",\"ACGL\",\"ACGL\",\"ACGL\",\"ACGL\",\"ACGL\",\"ACGL\",\"ACGL\",\"ACGL\",\"ADBE\",\"ADBE\",\"ADBE\",\"ADBE\",\"ADBE\",\"ADBE\",\"ADBE\",\"ADBE\",\"ADBE\",\"ADI\",\"ADI\",\"ADI\",\"ADI\",\"ADI\",\"ADI\",\"ADI\",\"ADI\",\"ADI\",\"ADM\",\"ADM\",\"ADM\",\"ADM\",\"ADM\",\"ADM\",\"ADM\",\"ADM\",\"ADM\",\"ADP\",\"ADP\",\"ADP\",\"ADP\",\"ADP\",\"ADP\",\"ADP\",\"ADP\",\"ADP\",\"ADSK\",\"ADSK\",\"ADSK\",\"ADSK\",\"ADSK\",\"ADSK\",\"ADSK\",\"ADSK\",\"ADSK\",\"AEE\",\"AEE\",\"AEE\",\"AEE\",\"AEE\",\"AEE\",\"AEE\",\"AEE\",\"AEE\",\"AEP\",\"AEP\",\"AEP\",\"AEP\",\"AEP\",\"AEP\",\"AEP\",\"AEP\",\"AEP\",\"AES\",\"AES\",\"AES\",\"AES\",\"AES\",\"AES\",\"AES\",\"AES\",\"AES\",\"AFL\",\"AFL\",\"AFL\",\"AFL\",\"AFL\",\"AFL\",\"AFL\",\"AFL\",\"AFL\",\"AIG\",\"AIG\",\"AIG\",\"AIG\",\"AIG\",\"AIG\",\"AIG\",\"AIG\",\"AIG\",\"AIZ\",\"AIZ\",\"AIZ\",\"AIZ\",\"AIZ\",\"AIZ\",\"AIZ\",\"AIZ\",\"AIZ\",\"AJG\",\"AJG\",\"AJG\",\"AJG\",\"AJG\",\"AJG\",\"AJG\",\"AJG\",\"AJG\",\"AKAM\",\"AKAM\",\"AKAM\",\"AKAM\",\"AKAM\",\"AKAM\",\"AKAM\",\"AKAM\",\"AKAM\",\"ALB\",\"ALB\",\"ALB\",\"ALB\",\"ALB\",\"ALB\",\"ALB\",\"ALB\",\"ALB\",\"ALGN\",\"ALGN\",\"ALGN\",\"ALGN\",\"ALGN\",\"ALGN\",\"ALGN\",\"ALGN\",\"ALGN\",\"ALL\",\"ALL\",\"ALL\",\"ALL\",\"ALL\",\"ALL\",\"ALL\",\"ALL\",\"ALL\",\"ALLE\",\"ALLE\",\"ALLE\",\"ALLE\",\"ALLE\",\"ALLE\",\"ALLE\",\"ALLE\",\"ALLE\",\"AMAT\",\"AMAT\",\"AMAT\",\"AMAT\",\"AMAT\",\"AMAT\",\"AMAT\",\"AMAT\",\"AMAT\",\"AMCR\",\"AMCR\",\"AMCR\",\"AMCR\",\"AMCR\",\"AMCR\",\"AMCR\",\"AMCR\",\"AMCR\",\"AME\",\"AME\",\"AME\",\"AME\",\"AME\",\"AME\",\"AME\",\"AME\",\"AME\",\"AMGN\",\"AMGN\",\"AMGN\",\"AMGN\",\"AMGN\",\"AMGN\",\"AMGN\",\"AMGN\",\"AMGN\",\"AMP\",\"AMP\",\"AMP\",\"AMP\",\"AMP\",\"AMP\",\"AMP\",\"AMP\",\"AMP\",\"AMT\",\"AMT\",\"AMT\",\"AMT\",\"AMT\",\"AMT\",\"AMT\",\"AMT\",\"AMT\",\"AMZN\",\"AMZN\",\"AMZN\",\"AMZN\",\"AMZN\",\"AMZN\",\"AMZN\",\"AMZN\",\"AMZN\",\"ANSS\",\"ANSS\",\"ANSS\",\"ANSS\",\"ANSS\",\"ANSS\",\"ANSS\",\"ANSS\",\"ANSS\",\"AON\",\"AON\",\"AON\",\"AON\",\"AON\",\"AON\",\"AON\",\"AON\",\"AON\",\"AOS\",\"AOS\",\"AOS\",\"AOS\",\"AOS\",\"AOS\",\"AOS\",\"AOS\",\"AOS\",\"APA\",\"APA\",\"APA\",\"APA\",\"APA\",\"APA\",\"APA\",\"APA\",\"APA\",\"APD\",\"APD\",\"APD\",\"APD\",\"APD\",\"APD\",\"APD\",\"APD\",\"APD\",\"APH\",\"APH\",\"APH\",\"APH\",\"APH\",\"APH\",\"APH\",\"APH\",\"APH\",\"APTV\",\"APTV\",\"APTV\",\"APTV\",\"APTV\",\"APTV\",\"APTV\",\"APTV\",\"APTV\",\"ARE\",\"ARE\",\"ARE\",\"ARE\",\"ARE\",\"ARE\",\"ARE\",\"ARE\",\"ARE\",\"ATO\",\"ATO\",\"ATO\",\"ATO\",\"ATO\",\"ATO\",\"ATO\",\"ATO\",\"ATO\",\"AVB\",\"AVB\",\"AVB\",\"AVB\",\"AVB\",\"AVB\",\"AVB\",\"AVB\",\"AVB\",\"AVGO\",\"AVGO\",\"AVGO\",\"AVGO\",\"AVGO\",\"AVGO\",\"AVGO\",\"AVGO\",\"AVGO\",\"AVY\",\"AVY\",\"AVY\",\"AVY\",\"AVY\",\"AVY\",\"AVY\",\"AVY\",\"AVY\",\"AXON\",\"AXON\",\"AXON\",\"AXON\",\"AXON\",\"AXON\",\"AXON\",\"AXON\",\"AXON\",\"AXP\",\"AXP\",\"AXP\",\"AXP\",\"AXP\",\"AXP\",\"AXP\",\"AXP\",\"AXP\",\"AZO\",\"AZO\",\"AZO\",\"AZO\",\"AZO\",\"AZO\",\"AZO\",\"AZO\",\"AZO\",\"BA\",\"BA\",\"BA\",\"BA\",\"BA\",\"BA\",\"BA\",\"BA\",\"BA\",\"BAC\",\"BAC\",\"BAC\",\"BAC\",\"BAC\",\"BAC\",\"BAC\",\"BAC\",\"BAC\",\"BALL\",\"BALL\",\"BALL\",\"BALL\",\"BALL\",\"BALL\",\"BALL\",\"BALL\",\"BALL\",\"BAX\",\"BAX\",\"BAX\",\"BAX\",\"BAX\",\"BAX\",\"BAX\",\"BAX\",\"BAX\",\"BBWI\",\"BBWI\",\"BBWI\",\"BBWI\",\"BBWI\",\"BBWI\",\"BBWI\",\"BBWI\",\"BBWI\",\"BDX\",\"BDX\",\"BDX\",\"BDX\",\"BDX\",\"BDX\",\"BDX\",\"BDX\",\"BDX\",\"BG\",\"BG\",\"BG\",\"BG\",\"BG\",\"BG\",\"BG\",\"BG\",\"BG\",\"BIIB\",\"BIIB\",\"BIIB\",\"BIIB\",\"BIIB\",\"BIIB\",\"BIIB\",\"BIIB\",\"BIIB\",\"BIO\",\"BIO\",\"BIO\",\"BIO\",\"BIO\",\"BIO\",\"BIO\",\"BIO\",\"BIO\",\"BK\",\"BK\",\"BK\",\"BK\",\"BK\",\"BK\",\"BK\",\"BK\",\"BK\",\"BKNG\",\"BKNG\",\"BKNG\",\"BKNG\",\"BKNG\",\"BKNG\",\"BKNG\",\"BKNG\",\"BKNG\",\"BKR\",\"BKR\",\"BKR\",\"BKR\",\"BKR\",\"BKR\",\"BKR\",\"BKR\",\"BKR\",\"BLDR\",\"BLDR\",\"BLDR\",\"BLDR\",\"BLDR\",\"BLDR\",\"BLDR\",\"BLDR\",\"BLDR\",\"BLK\",\"BLK\",\"BLK\",\"BLK\",\"BLK\",\"BLK\",\"BLK\",\"BLK\",\"BLK\",\"BMY\",\"BMY\",\"BMY\",\"BMY\",\"BMY\",\"BMY\",\"BMY\",\"BMY\",\"BMY\",\"BR\",\"BR\",\"BR\",\"BR\",\"BR\",\"BR\",\"BR\",\"BR\",\"BR\",\"BRO\",\"BRO\",\"BRO\",\"BRO\",\"BRO\",\"BRO\",\"BRO\",\"BRO\",\"BRO\",\"BSX\",\"BSX\",\"BSX\",\"BSX\",\"BSX\",\"BSX\",\"BSX\",\"BSX\",\"BSX\",\"BWA\",\"BWA\",\"BWA\",\"BWA\",\"BWA\",\"BWA\",\"BWA\",\"BWA\",\"BWA\",\"BX\",\"BX\",\"BX\",\"BX\",\"BX\",\"BX\",\"BX\",\"BX\",\"BX\",\"BXP\",\"BXP\",\"BXP\",\"BXP\",\"BXP\",\"BXP\",\"BXP\",\"BXP\",\"BXP\",\"CAG\",\"CAG\",\"CAG\",\"CAG\",\"CAG\",\"CAG\",\"CAG\",\"CAG\",\"CAG\",\"CAH\",\"CAH\",\"CAH\",\"CAH\",\"CAH\",\"CAH\",\"CAH\",\"CAH\",\"CAH\",\"CARR\",\"CARR\",\"CARR\",\"CARR\",\"CAT\",\"CAT\",\"CAT\",\"CAT\",\"CAT\",\"CAT\",\"CAT\",\"CAT\",\"CAT\",\"CB\",\"CB\",\"CB\",\"CB\",\"CB\",\"CB\",\"CB\",\"CB\",\"CB\",\"CBOE\",\"CBOE\",\"CBOE\",\"CBOE\",\"CBOE\",\"CBOE\",\"CBOE\",\"CBOE\",\"CBOE\",\"CBRE\",\"CBRE\",\"CBRE\",\"CBRE\",\"CBRE\",\"CBRE\",\"CBRE\",\"CBRE\",\"CBRE\",\"CCI\",\"CCI\",\"CCI\",\"CCI\",\"CCI\",\"CCI\",\"CCI\",\"CCI\",\"CCI\",\"CCL\",\"CCL\",\"CCL\",\"CCL\",\"CCL\",\"CCL\",\"CCL\",\"CCL\",\"CCL\",\"CDNS\",\"CDNS\",\"CDNS\",\"CDNS\",\"CDNS\",\"CDNS\",\"CDNS\",\"CDNS\",\"CDNS\",\"CEG\",\"CEG\",\"CF\",\"CF\",\"CF\",\"CF\",\"CF\",\"CF\",\"CF\",\"CF\",\"CF\",\"CFG\",\"CFG\",\"CFG\",\"CFG\",\"CFG\",\"CFG\",\"CFG\",\"CFG\",\"CFG\",\"CHD\",\"CHD\",\"CHD\",\"CHD\",\"CHD\",\"CHD\",\"CHD\",\"CHD\",\"CHD\",\"CHRW\",\"CHRW\",\"CHRW\",\"CHRW\",\"CHRW\",\"CHRW\",\"CHRW\",\"CHRW\",\"CHRW\",\"CHTR\",\"CHTR\",\"CHTR\",\"CHTR\",\"CHTR\",\"CHTR\",\"CHTR\",\"CHTR\",\"CHTR\",\"CI\",\"CI\",\"CI\",\"CI\",\"CI\",\"CI\",\"CI\",\"CI\",\"CI\",\"CINF\",\"CINF\",\"CINF\",\"CINF\",\"CINF\",\"CINF\",\"CINF\",\"CINF\",\"CINF\",\"CL\",\"CL\",\"CL\",\"CL\",\"CL\",\"CL\",\"CL\",\"CL\",\"CL\",\"CMCSA\",\"CMCSA\",\"CMCSA\",\"CMCSA\",\"CMCSA\",\"CMCSA\",\"CMCSA\",\"CMCSA\",\"CMCSA\",\"CME\",\"CME\",\"CME\",\"CME\",\"CME\",\"CME\",\"CME\",\"CME\",\"CME\",\"CMG\",\"CMG\",\"CMG\",\"CMG\",\"CMG\",\"CMG\",\"CMG\",\"CMG\",\"CMG\",\"CMS\",\"CMS\",\"CMS\",\"CMS\",\"CMS\",\"CMS\",\"CMS\",\"CMS\",\"CMS\",\"CNP\",\"CNP\",\"CNP\",\"CNP\",\"CNP\",\"CNP\",\"CNP\",\"CNP\",\"CNP\",\"COF\",\"COF\",\"COF\",\"COF\",\"COF\",\"COF\",\"COF\",\"COF\",\"COF\",\"COO\",\"COO\",\"COO\",\"COO\",\"COO\",\"COO\",\"COO\",\"COO\",\"COO\",\"COP\",\"COP\",\"COP\",\"COP\",\"COP\",\"COP\",\"COP\",\"COP\",\"COP\",\"COR\",\"COR\",\"COR\",\"COR\",\"COR\",\"COR\",\"COR\",\"COR\",\"COR\",\"COST\",\"COST\",\"COST\",\"COST\",\"COST\",\"COST\",\"COST\",\"COST\",\"COST\",\"CPAY\",\"CPAY\",\"CPAY\",\"CPAY\",\"CPAY\",\"CPAY\",\"CPAY\",\"CPAY\",\"CPAY\",\"CPB\",\"CPB\",\"CPB\",\"CPB\",\"CPB\",\"CPB\",\"CPB\",\"CPB\",\"CPB\",\"CPRT\",\"CPRT\",\"CPRT\",\"CPRT\",\"CPRT\",\"CPRT\",\"CPRT\",\"CPRT\",\"CPRT\",\"CPT\",\"CPT\",\"CPT\",\"CPT\",\"CPT\",\"CPT\",\"CPT\",\"CPT\",\"CPT\",\"CRL\",\"CRL\",\"CRL\",\"CRL\",\"CRL\",\"CRL\",\"CRL\",\"CRL\",\"CRL\",\"CRM\",\"CRM\",\"CRM\",\"CRM\",\"CRM\",\"CRM\",\"CRM\",\"CRM\",\"CRM\",\"CRWD\",\"CRWD\",\"CRWD\",\"CRWD\",\"CRWD\",\"CSCO\",\"CSCO\",\"CSCO\",\"CSCO\",\"CSCO\",\"CSCO\",\"CSCO\",\"CSCO\",\"CSCO\",\"CSGP\",\"CSGP\",\"CSGP\",\"CSGP\",\"CSGP\",\"CSGP\",\"CSGP\",\"CSGP\",\"CSGP\",\"CSX\",\"CSX\",\"CSX\",\"CSX\",\"CSX\",\"CSX\",\"CSX\",\"CSX\",\"CSX\",\"CTAS\",\"CTAS\",\"CTAS\",\"CTAS\",\"CTAS\",\"CTAS\",\"CTAS\",\"CTAS\",\"CTAS\",\"CTLT\",\"CTLT\",\"CTLT\",\"CTLT\",\"CTLT\",\"CTLT\",\"CTLT\",\"CTLT\",\"CTLT\",\"CTRA\",\"CTRA\",\"CTRA\",\"CTRA\",\"CTRA\",\"CTRA\",\"CTRA\",\"CTRA\",\"CTRA\",\"CTSH\",\"CTSH\",\"CTSH\",\"CTSH\",\"CTSH\",\"CTSH\",\"CTSH\",\"CTSH\",\"CTSH\",\"CTVA\",\"CTVA\",\"CTVA\",\"CTVA\",\"CTVA\",\"CVX\",\"CVX\",\"CVX\",\"CVX\",\"CVX\",\"CVX\",\"CVX\",\"CVX\",\"CVX\",\"CZR\",\"CZR\",\"CZR\",\"CZR\",\"CZR\",\"CZR\",\"CZR\",\"CZR\",\"CZR\",\"D\",\"D\",\"D\",\"D\",\"D\",\"D\",\"D\",\"D\",\"D\",\"DAL\",\"DAL\",\"DAL\",\"DAL\",\"DAL\",\"DAL\",\"DAL\",\"DAL\",\"DAL\",\"DAY\",\"DAY\",\"DAY\",\"DAY\",\"DAY\",\"DAY\",\"DD\",\"DD\",\"DD\",\"DD\",\"DD\",\"DD\",\"DD\",\"DD\",\"DD\",\"DE\",\"DE\",\"DE\",\"DE\",\"DE\",\"DE\",\"DE\",\"DE\",\"DE\",\"DECK\",\"DECK\",\"DECK\",\"DECK\",\"DECK\",\"DECK\",\"DECK\",\"DECK\",\"DECK\",\"DFS\",\"DFS\",\"DFS\",\"DFS\",\"DFS\",\"DFS\",\"DFS\",\"DFS\",\"DFS\",\"DG\",\"DG\",\"DG\",\"DG\",\"DG\",\"DG\",\"DG\",\"DG\",\"DG\",\"DGX\",\"DGX\",\"DGX\",\"DGX\",\"DGX\",\"DGX\",\"DGX\",\"DGX\",\"DGX\",\"DHI\",\"DHI\",\"DHI\",\"DHI\",\"DHI\",\"DHI\",\"DHI\",\"DHI\",\"DHI\",\"DHR\",\"DHR\",\"DHR\",\"DHR\",\"DHR\",\"DHR\",\"DHR\",\"DHR\",\"DHR\",\"DIS\",\"DIS\",\"DIS\",\"DIS\",\"DIS\",\"DIS\",\"DIS\",\"DIS\",\"DIS\",\"DLR\",\"DLR\",\"DLR\",\"DLR\",\"DLR\",\"DLR\",\"DLR\",\"DLR\",\"DLR\",\"DLTR\",\"DLTR\",\"DLTR\",\"DLTR\",\"DLTR\",\"DLTR\",\"DLTR\",\"DLTR\",\"DLTR\",\"DOC\",\"DOC\",\"DOC\",\"DOC\",\"DOC\",\"DOC\",\"DOC\",\"DOC\",\"DOC\",\"DOV\",\"DOV\",\"DOV\",\"DOV\",\"DOV\",\"DOV\",\"DOV\",\"DOV\",\"DOV\",\"DOW\",\"DOW\",\"DOW\",\"DOW\",\"DOW\",\"DPZ\",\"DPZ\",\"DPZ\",\"DPZ\",\"DPZ\",\"DPZ\",\"DPZ\",\"DPZ\",\"DPZ\",\"DRI\",\"DRI\",\"DRI\",\"DRI\",\"DRI\",\"DRI\",\"DRI\",\"DRI\",\"DRI\",\"DTE\",\"DTE\",\"DTE\",\"DTE\",\"DTE\",\"DTE\",\"DTE\",\"DTE\",\"DTE\",\"DVA\",\"DVA\",\"DVA\",\"DVA\",\"DVA\",\"DVA\",\"DVA\",\"DVA\",\"DVA\",\"DVN\",\"DVN\",\"DVN\",\"DVN\",\"DVN\",\"DVN\",\"DVN\",\"DVN\",\"DVN\",\"DXCM\",\"DXCM\",\"DXCM\",\"DXCM\",\"DXCM\",\"DXCM\",\"DXCM\",\"DXCM\",\"DXCM\",\"EA\",\"EA\",\"EA\",\"EA\",\"EA\",\"EA\",\"EA\",\"EA\",\"EA\",\"EBAY\",\"EBAY\",\"EBAY\",\"EBAY\",\"EBAY\",\"EBAY\",\"EBAY\",\"EBAY\",\"EBAY\",\"ECL\",\"ECL\",\"ECL\",\"ECL\",\"ECL\",\"ECL\",\"ECL\",\"ECL\",\"ECL\",\"ED\",\"ED\",\"ED\",\"ED\",\"ED\",\"ED\",\"ED\",\"ED\",\"ED\",\"EFX\",\"EFX\",\"EFX\",\"EFX\",\"EFX\",\"EFX\",\"EFX\",\"EFX\",\"EFX\",\"EG\",\"EG\",\"EG\",\"EG\",\"EG\",\"EG\",\"EG\",\"EG\",\"EG\",\"EIX\",\"EIX\",\"EIX\",\"EIX\",\"EIX\",\"EIX\",\"EIX\",\"EIX\",\"EIX\",\"EL\",\"EL\",\"EL\",\"EL\",\"EL\",\"EL\",\"EL\",\"EL\",\"EL\",\"EMN\",\"EMN\",\"EMN\",\"EMN\",\"EMN\",\"EMN\",\"EMN\",\"EMN\",\"EMN\",\"EMR\",\"EMR\",\"EMR\",\"EMR\",\"EMR\",\"EMR\",\"EMR\",\"EMR\",\"EMR\",\"ENPH\",\"ENPH\",\"ENPH\",\"ENPH\",\"ENPH\",\"ENPH\",\"ENPH\",\"ENPH\",\"ENPH\",\"EOG\",\"EOG\",\"EOG\",\"EOG\",\"EOG\",\"EOG\",\"EOG\",\"EOG\",\"EOG\",\"EPAM\",\"EPAM\",\"EPAM\",\"EPAM\",\"EPAM\",\"EPAM\",\"EPAM\",\"EPAM\",\"EPAM\",\"EQIX\",\"EQIX\",\"EQIX\",\"EQIX\",\"EQIX\",\"EQIX\",\"EQIX\",\"EQIX\",\"EQIX\",\"EQR\",\"EQR\",\"EQR\",\"EQR\",\"EQR\",\"EQR\",\"EQR\",\"EQR\",\"EQR\",\"EQT\",\"EQT\",\"EQT\",\"EQT\",\"EQT\",\"EQT\",\"EQT\",\"EQT\",\"EQT\",\"ES\",\"ES\",\"ES\",\"ES\",\"ES\",\"ES\",\"ES\",\"ES\",\"ES\",\"ESS\",\"ESS\",\"ESS\",\"ESS\",\"ESS\",\"ESS\",\"ESS\",\"ESS\",\"ESS\",\"ETN\",\"ETN\",\"ETN\",\"ETN\",\"ETN\",\"ETN\",\"ETN\",\"ETN\",\"ETN\",\"ETR\",\"ETR\",\"ETR\",\"ETR\",\"ETR\",\"ETR\",\"ETR\",\"ETR\",\"ETR\",\"ETSY\",\"ETSY\",\"ETSY\",\"ETSY\",\"ETSY\",\"ETSY\",\"ETSY\",\"ETSY\",\"ETSY\",\"EVRG\",\"EVRG\",\"EVRG\",\"EVRG\",\"EVRG\",\"EVRG\",\"EVRG\",\"EVRG\",\"EVRG\",\"EW\",\"EW\",\"EW\",\"EW\",\"EW\",\"EW\",\"EW\",\"EW\",\"EW\",\"EXC\",\"EXC\",\"EXC\",\"EXC\",\"EXC\",\"EXC\",\"EXC\",\"EXC\",\"EXC\",\"EXPD\",\"EXPD\",\"EXPD\",\"EXPD\",\"EXPD\",\"EXPD\",\"EXPD\",\"EXPD\",\"EXPD\",\"EXPE\",\"EXPE\",\"EXPE\",\"EXPE\",\"EXPE\",\"EXPE\",\"EXPE\",\"EXPE\",\"EXPE\",\"EXR\",\"EXR\",\"EXR\",\"EXR\",\"EXR\",\"EXR\",\"EXR\",\"EXR\",\"EXR\",\"F\",\"F\",\"F\",\"F\",\"F\",\"F\",\"F\",\"F\",\"F\",\"FANG\",\"FANG\",\"FANG\",\"FANG\",\"FANG\",\"FANG\",\"FANG\",\"FANG\",\"FANG\",\"FAST\",\"FAST\",\"FAST\",\"FAST\",\"FAST\",\"FAST\",\"FAST\",\"FAST\",\"FAST\",\"FCX\",\"FCX\",\"FCX\",\"FCX\",\"FCX\",\"FCX\",\"FCX\",\"FCX\",\"FCX\",\"FDS\",\"FDS\",\"FDS\",\"FDS\",\"FDS\",\"FDS\",\"FDS\",\"FDS\",\"FDS\",\"FDX\",\"FDX\",\"FDX\",\"FDX\",\"FDX\",\"FDX\",\"FDX\",\"FDX\",\"FDX\",\"FE\",\"FE\",\"FE\",\"FE\",\"FE\",\"FE\",\"FE\",\"FE\",\"FE\",\"FFIV\",\"FFIV\",\"FFIV\",\"FFIV\",\"FFIV\",\"FFIV\",\"FFIV\",\"FFIV\",\"FFIV\",\"FI\",\"FI\",\"FI\",\"FI\",\"FI\",\"FI\",\"FI\",\"FI\",\"FI\",\"FICO\",\"FICO\",\"FICO\",\"FICO\",\"FICO\",\"FICO\",\"FICO\",\"FICO\",\"FICO\",\"FIS\",\"FIS\",\"FIS\",\"FIS\",\"FIS\",\"FIS\",\"FIS\",\"FIS\",\"FIS\",\"FITB\",\"FITB\",\"FITB\",\"FITB\",\"FITB\",\"FITB\",\"FITB\",\"FITB\",\"FITB\",\"FMC\",\"FMC\",\"FMC\",\"FMC\",\"FMC\",\"FMC\",\"FMC\",\"FMC\",\"FMC\",\"FOXA\",\"FOXA\",\"FOXA\",\"FOXA\",\"FOXA\",\"FRT\",\"FRT\",\"FRT\",\"FRT\",\"FRT\",\"FRT\",\"FRT\",\"FRT\",\"FRT\",\"FSLR\",\"FSLR\",\"FSLR\",\"FSLR\",\"FSLR\",\"FSLR\",\"FSLR\",\"FSLR\",\"FSLR\",\"FTNT\",\"FTNT\",\"FTNT\",\"FTNT\",\"FTNT\",\"FTNT\",\"FTNT\",\"FTNT\",\"FTNT\",\"FTV\",\"FTV\",\"FTV\",\"FTV\",\"FTV\",\"FTV\",\"FTV\",\"FTV\",\"GDDY\",\"GDDY\",\"GDDY\",\"GDDY\",\"GDDY\",\"GDDY\",\"GDDY\",\"GDDY\",\"GDDY\",\"GE\",\"GE\",\"GE\",\"GE\",\"GE\",\"GE\",\"GE\",\"GE\",\"GE\",\"GEHC\",\"GEHC\",\"GEN\",\"GEN\",\"GEN\",\"GEN\",\"GEN\",\"GEN\",\"GEN\",\"GEN\",\"GEN\",\"GILD\",\"GILD\",\"GILD\",\"GILD\",\"GILD\",\"GILD\",\"GILD\",\"GILD\",\"GILD\",\"GIS\",\"GIS\",\"GIS\",\"GIS\",\"GIS\",\"GIS\",\"GIS\",\"GIS\",\"GIS\",\"GL\",\"GL\",\"GL\",\"GL\",\"GL\",\"GL\",\"GL\",\"GL\",\"GL\",\"GLW\",\"GLW\",\"GLW\",\"GLW\",\"GLW\",\"GLW\",\"GLW\",\"GLW\",\"GLW\",\"GNRC\",\"GNRC\",\"GNRC\",\"GNRC\",\"GNRC\",\"GNRC\",\"GNRC\",\"GNRC\",\"GNRC\",\"GOOGL\",\"GOOGL\",\"GOOGL\",\"GOOGL\",\"GOOGL\",\"GOOGL\",\"GOOGL\",\"GOOGL\",\"GOOGL\",\"GPC\",\"GPC\",\"GPC\",\"GPC\",\"GPC\",\"GPC\",\"GPC\",\"GPC\",\"GPC\",\"GPN\",\"GPN\",\"GPN\",\"GPN\",\"GPN\",\"GPN\",\"GPN\",\"GPN\",\"GPN\",\"GRMN\",\"GRMN\",\"GRMN\",\"GRMN\",\"GRMN\",\"GRMN\",\"GRMN\",\"GRMN\",\"GRMN\",\"GS\",\"GS\",\"GS\",\"GS\",\"GS\",\"GS\",\"GS\",\"GS\",\"GS\",\"GWW\",\"GWW\",\"GWW\",\"GWW\",\"GWW\",\"GWW\",\"GWW\",\"GWW\",\"GWW\",\"HAL\",\"HAL\",\"HAL\",\"HAL\",\"HAL\",\"HAL\",\"HAL\",\"HAL\",\"HAL\",\"HAS\",\"HAS\",\"HAS\",\"HAS\",\"HAS\",\"HAS\",\"HAS\",\"HAS\",\"HAS\",\"HBAN\",\"HBAN\",\"HBAN\",\"HBAN\",\"HBAN\",\"HBAN\",\"HBAN\",\"HBAN\",\"HBAN\",\"HCA\",\"HCA\",\"HCA\",\"HCA\",\"HCA\",\"HCA\",\"HCA\",\"HCA\",\"HCA\",\"HD\",\"HD\",\"HD\",\"HD\",\"HD\",\"HD\",\"HD\",\"HD\",\"HD\",\"HES\",\"HES\",\"HES\",\"HES\",\"HES\",\"HES\",\"HES\",\"HES\",\"HES\",\"HIG\",\"HIG\",\"HIG\",\"HIG\",\"HIG\",\"HIG\",\"HIG\",\"HIG\",\"HIG\",\"HII\",\"HII\",\"HII\",\"HII\",\"HII\",\"HII\",\"HII\",\"HII\",\"HII\",\"HLT\",\"HLT\",\"HLT\",\"HLT\",\"HLT\",\"HLT\",\"HLT\",\"HLT\",\"HLT\",\"HOLX\",\"HOLX\",\"HOLX\",\"HOLX\",\"HOLX\",\"HOLX\",\"HOLX\",\"HOLX\",\"HOLX\",\"HON\",\"HON\",\"HON\",\"HON\",\"HON\",\"HON\",\"HON\",\"HON\",\"HON\",\"HPE\",\"HPE\",\"HPE\",\"HPE\",\"HPE\",\"HPE\",\"HPE\",\"HPE\",\"HPE\",\"HPQ\",\"HPQ\",\"HPQ\",\"HPQ\",\"HPQ\",\"HPQ\",\"HPQ\",\"HPQ\",\"HPQ\",\"HRL\",\"HRL\",\"HRL\",\"HRL\",\"HRL\",\"HRL\",\"HRL\",\"HRL\",\"HRL\",\"HSIC\",\"HSIC\",\"HSIC\",\"HSIC\",\"HSIC\",\"HSIC\",\"HSIC\",\"HSIC\",\"HSIC\",\"HST\",\"HST\",\"HST\",\"HST\",\"HST\",\"HST\",\"HST\",\"HST\",\"HST\",\"HUBB\",\"HUBB\",\"HUBB\",\"HUBB\",\"HUBB\",\"HUBB\",\"HUBB\",\"HUBB\",\"HUBB\",\"HUM\",\"HUM\",\"HUM\",\"HUM\",\"HUM\",\"HUM\",\"HUM\",\"HUM\",\"HUM\",\"HWM\",\"HWM\",\"HWM\",\"HWM\",\"HWM\",\"HWM\",\"HWM\",\"HWM\",\"IBM\",\"IBM\",\"IBM\",\"IBM\",\"IBM\",\"IBM\",\"IBM\",\"IBM\",\"IBM\",\"ICE\",\"ICE\",\"ICE\",\"ICE\",\"ICE\",\"ICE\",\"ICE\",\"ICE\",\"ICE\",\"IDXX\",\"IDXX\",\"IDXX\",\"IDXX\",\"IDXX\",\"IDXX\",\"IDXX\",\"IDXX\",\"IDXX\",\"IEX\",\"IEX\",\"IEX\",\"IEX\",\"IEX\",\"IEX\",\"IEX\",\"IEX\",\"IEX\",\"IFF\",\"IFF\",\"IFF\",\"IFF\",\"IFF\",\"IFF\",\"IFF\",\"IFF\",\"IFF\",\"INCY\",\"INCY\",\"INCY\",\"INCY\",\"INCY\",\"INCY\",\"INCY\",\"INCY\",\"INCY\",\"INTC\",\"INTC\",\"INTC\",\"INTC\",\"INTC\",\"INTC\",\"INTC\",\"INTC\",\"INTC\",\"INTU\",\"INTU\",\"INTU\",\"INTU\",\"INTU\",\"INTU\",\"INTU\",\"INTU\",\"INTU\",\"INVH\",\"INVH\",\"INVH\",\"INVH\",\"INVH\",\"INVH\",\"INVH\",\"IP\",\"IP\",\"IP\",\"IP\",\"IP\",\"IP\",\"IP\",\"IP\",\"IP\",\"IPG\",\"IPG\",\"IPG\",\"IPG\",\"IPG\",\"IPG\",\"IPG\",\"IPG\",\"IPG\",\"IQV\",\"IQV\",\"IQV\",\"IQV\",\"IQV\",\"IQV\",\"IQV\",\"IQV\",\"IQV\",\"IR\",\"IR\",\"IR\",\"IR\",\"IR\",\"IR\",\"IR\",\"IRM\",\"IRM\",\"IRM\",\"IRM\",\"IRM\",\"IRM\",\"IRM\",\"IRM\",\"IRM\",\"ISRG\",\"ISRG\",\"ISRG\",\"ISRG\",\"ISRG\",\"ISRG\",\"ISRG\",\"ISRG\",\"ISRG\",\"IT\",\"IT\",\"IT\",\"IT\",\"IT\",\"IT\",\"IT\",\"IT\",\"IT\",\"ITW\",\"ITW\",\"ITW\",\"ITW\",\"ITW\",\"ITW\",\"ITW\",\"ITW\",\"ITW\",\"IVZ\",\"IVZ\",\"IVZ\",\"IVZ\",\"IVZ\",\"IVZ\",\"IVZ\",\"IVZ\",\"IVZ\",\"J\",\"J\",\"J\",\"J\",\"J\",\"J\",\"J\",\"J\",\"J\",\"JBHT\",\"JBHT\",\"JBHT\",\"JBHT\",\"JBHT\",\"JBHT\",\"JBHT\",\"JBHT\",\"JBHT\",\"JBL\",\"JBL\",\"JBL\",\"JBL\",\"JBL\",\"JBL\",\"JBL\",\"JBL\",\"JBL\",\"JCI\",\"JCI\",\"JCI\",\"JCI\",\"JCI\",\"JCI\",\"JCI\",\"JCI\",\"JCI\",\"JKHY\",\"JKHY\",\"JKHY\",\"JKHY\",\"JKHY\",\"JKHY\",\"JKHY\",\"JKHY\",\"JKHY\",\"JNJ\",\"JNJ\",\"JNJ\",\"JNJ\",\"JNJ\",\"JNJ\",\"JNJ\",\"JNJ\",\"JNJ\",\"JNPR\",\"JNPR\",\"JNPR\",\"JNPR\",\"JNPR\",\"JNPR\",\"JNPR\",\"JNPR\",\"JNPR\",\"JPM\",\"JPM\",\"JPM\",\"JPM\",\"JPM\",\"JPM\",\"JPM\",\"JPM\",\"JPM\",\"K\",\"K\",\"K\",\"K\",\"K\",\"K\",\"K\",\"K\",\"K\",\"KDP\",\"KDP\",\"KDP\",\"KDP\",\"KDP\",\"KDP\",\"KDP\",\"KDP\",\"KDP\",\"KEY\",\"KEY\",\"KEY\",\"KEY\",\"KEY\",\"KEY\",\"KEY\",\"KEY\",\"KEY\",\"KEYS\",\"KEYS\",\"KEYS\",\"KEYS\",\"KEYS\",\"KEYS\",\"KEYS\",\"KEYS\",\"KEYS\",\"KHC\",\"KHC\",\"KHC\",\"KHC\",\"KHC\",\"KHC\",\"KHC\",\"KHC\",\"KHC\",\"KIM\",\"KIM\",\"KIM\",\"KIM\",\"KIM\",\"KIM\",\"KIM\",\"KIM\",\"KIM\",\"KKR\",\"KKR\",\"KKR\",\"KKR\",\"KKR\",\"KKR\",\"KKR\",\"KKR\",\"KKR\",\"KLAC\",\"KLAC\",\"KLAC\",\"KLAC\",\"KLAC\",\"KLAC\",\"KLAC\",\"KLAC\",\"KLAC\",\"KMB\",\"KMB\",\"KMB\",\"KMB\",\"KMB\",\"KMB\",\"KMB\",\"KMB\",\"KMB\",\"KMI\",\"KMI\",\"KMI\",\"KMI\",\"KMI\",\"KMI\",\"KMI\",\"KMI\",\"KMI\",\"KMX\",\"KMX\",\"KMX\",\"KMX\",\"KMX\",\"KMX\",\"KMX\",\"KMX\",\"KMX\",\"KO\",\"KO\",\"KO\",\"KO\",\"KO\",\"KO\",\"KO\",\"KO\",\"KO\",\"KR\",\"KR\",\"KR\",\"KR\",\"KR\",\"KR\",\"KR\",\"KR\",\"KR\",\"KVUE\",\"L\",\"L\",\"L\",\"L\",\"L\",\"L\",\"L\",\"L\",\"L\",\"LDOS\",\"LDOS\",\"LDOS\",\"LDOS\",\"LDOS\",\"LDOS\",\"LDOS\",\"LDOS\",\"LDOS\",\"LEN\",\"LEN\",\"LEN\",\"LEN\",\"LEN\",\"LEN\",\"LEN\",\"LEN\",\"LEN\",\"LH\",\"LH\",\"LH\",\"LH\",\"LH\",\"LH\",\"LH\",\"LH\",\"LH\",\"LHX\",\"LHX\",\"LHX\",\"LHX\",\"LHX\",\"LHX\",\"LHX\",\"LHX\",\"LHX\",\"LIN\",\"LIN\",\"LIN\",\"LIN\",\"LIN\",\"LIN\",\"LIN\",\"LIN\",\"LIN\",\"LKQ\",\"LKQ\",\"LKQ\",\"LKQ\",\"LKQ\",\"LKQ\",\"LKQ\",\"LKQ\",\"LKQ\",\"LLY\",\"LLY\",\"LLY\",\"LLY\",\"LLY\",\"LLY\",\"LLY\",\"LLY\",\"LLY\",\"LMT\",\"LMT\",\"LMT\",\"LMT\",\"LMT\",\"LMT\",\"LMT\",\"LMT\",\"LMT\",\"LNT\",\"LNT\",\"LNT\",\"LNT\",\"LNT\",\"LNT\",\"LNT\",\"LNT\",\"LNT\",\"LOW\",\"LOW\",\"LOW\",\"LOW\",\"LOW\",\"LOW\",\"LOW\",\"LOW\",\"LOW\",\"LRCX\",\"LRCX\",\"LRCX\",\"LRCX\",\"LRCX\",\"LRCX\",\"LRCX\",\"LRCX\",\"LRCX\",\"LULU\",\"LULU\",\"LULU\",\"LULU\",\"LULU\",\"LULU\",\"LULU\",\"LULU\",\"LULU\",\"LUV\",\"LUV\",\"LUV\",\"LUV\",\"LUV\",\"LUV\",\"LUV\",\"LUV\",\"LUV\",\"LVS\",\"LVS\",\"LVS\",\"LVS\",\"LVS\",\"LVS\",\"LVS\",\"LVS\",\"LVS\",\"LW\",\"LW\",\"LW\",\"LW\",\"LW\",\"LW\",\"LW\",\"LW\",\"LYB\",\"LYB\",\"LYB\",\"LYB\",\"LYB\",\"LYB\",\"LYB\",\"LYB\",\"LYB\",\"LYV\",\"LYV\",\"LYV\",\"LYV\",\"LYV\",\"LYV\",\"LYV\",\"LYV\",\"LYV\",\"MA\",\"MA\",\"MA\",\"MA\",\"MA\",\"MA\",\"MA\",\"MA\",\"MA\",\"MAA\",\"MAA\",\"MAA\",\"MAA\",\"MAA\",\"MAA\",\"MAA\",\"MAA\",\"MAA\",\"MAR\",\"MAR\",\"MAR\",\"MAR\",\"MAR\",\"MAR\",\"MAR\",\"MAR\",\"MAR\",\"MAS\",\"MAS\",\"MAS\",\"MAS\",\"MAS\",\"MAS\",\"MAS\",\"MAS\",\"MAS\",\"MCD\",\"MCD\",\"MCD\",\"MCD\",\"MCD\",\"MCD\",\"MCD\",\"MCD\",\"MCD\",\"MCHP\",\"MCHP\",\"MCHP\",\"MCHP\",\"MCHP\",\"MCHP\",\"MCHP\",\"MCHP\",\"MCHP\",\"MCK\",\"MCK\",\"MCK\",\"MCK\",\"MCK\",\"MCK\",\"MCK\",\"MCK\",\"MCK\",\"MCO\",\"MCO\",\"MCO\",\"MCO\",\"MCO\",\"MCO\",\"MCO\",\"MCO\",\"MCO\",\"MDLZ\",\"MDLZ\",\"MDLZ\",\"MDLZ\",\"MDLZ\",\"MDLZ\",\"MDLZ\",\"MDLZ\",\"MDLZ\",\"MDT\",\"MDT\",\"MDT\",\"MDT\",\"MDT\",\"MDT\",\"MDT\",\"MDT\",\"MDT\",\"MET\",\"MET\",\"MET\",\"MET\",\"MET\",\"MET\",\"MET\",\"MET\",\"MET\",\"META\",\"META\",\"META\",\"META\",\"META\",\"META\",\"META\",\"META\",\"META\",\"MGM\",\"MGM\",\"MGM\",\"MGM\",\"MGM\",\"MGM\",\"MGM\",\"MGM\",\"MGM\",\"MHK\",\"MHK\",\"MHK\",\"MHK\",\"MHK\",\"MHK\",\"MHK\",\"MHK\",\"MHK\",\"MKC\",\"MKC\",\"MKC\",\"MKC\",\"MKC\",\"MKC\",\"MKC\",\"MKC\",\"MKC\",\"MKTX\",\"MKTX\",\"MKTX\",\"MKTX\",\"MKTX\",\"MKTX\",\"MKTX\",\"MKTX\",\"MKTX\",\"MLM\",\"MLM\",\"MLM\",\"MLM\",\"MLM\",\"MLM\",\"MLM\",\"MLM\",\"MLM\",\"MMC\",\"MMC\",\"MMC\",\"MMC\",\"MMC\",\"MMC\",\"MMC\",\"MMC\",\"MMC\",\"MMM\",\"MMM\",\"MMM\",\"MMM\",\"MMM\",\"MMM\",\"MMM\",\"MMM\",\"MMM\",\"MNST\",\"MNST\",\"MNST\",\"MNST\",\"MNST\",\"MNST\",\"MNST\",\"MNST\",\"MNST\",\"MO\",\"MO\",\"MO\",\"MO\",\"MO\",\"MO\",\"MO\",\"MO\",\"MO\",\"MOH\",\"MOH\",\"MOH\",\"MOH\",\"MOH\",\"MOH\",\"MOH\",\"MOH\",\"MOH\",\"MOS\",\"MOS\",\"MOS\",\"MOS\",\"MOS\",\"MOS\",\"MOS\",\"MOS\",\"MOS\",\"MPC\",\"MPC\",\"MPC\",\"MPC\",\"MPC\",\"MPC\",\"MPC\",\"MPC\",\"MPC\",\"MPWR\",\"MPWR\",\"MPWR\",\"MPWR\",\"MPWR\",\"MPWR\",\"MPWR\",\"MPWR\",\"MPWR\",\"MRK\",\"MRK\",\"MRK\",\"MRK\",\"MRK\",\"MRK\",\"MRK\",\"MRK\",\"MRK\",\"MRNA\",\"MRNA\",\"MRNA\",\"MRNA\",\"MRNA\",\"MRNA\",\"MRO\",\"MRO\",\"MRO\",\"MRO\",\"MRO\",\"MRO\",\"MRO\",\"MRO\",\"MRO\",\"MS\",\"MS\",\"MS\",\"MS\",\"MS\",\"MS\",\"MS\",\"MS\",\"MS\",\"MSCI\",\"MSCI\",\"MSCI\",\"MSCI\",\"MSCI\",\"MSCI\",\"MSCI\",\"MSCI\",\"MSCI\",\"MSFT\",\"MSFT\",\"MSFT\",\"MSFT\",\"MSFT\",\"MSFT\",\"MSFT\",\"MSFT\",\"MSFT\",\"MSI\",\"MSI\",\"MSI\",\"MSI\",\"MSI\",\"MSI\",\"MSI\",\"MSI\",\"MSI\",\"MTB\",\"MTB\",\"MTB\",\"MTB\",\"MTB\",\"MTB\",\"MTB\",\"MTB\",\"MTB\",\"MTCH\",\"MTCH\",\"MTCH\",\"MTCH\",\"MTCH\",\"MTCH\",\"MTCH\",\"MTCH\",\"MTCH\",\"MTD\",\"MTD\",\"MTD\",\"MTD\",\"MTD\",\"MTD\",\"MTD\",\"MTD\",\"MTD\",\"MU\",\"MU\",\"MU\",\"MU\",\"MU\",\"MU\",\"MU\",\"MU\",\"MU\",\"NCLH\",\"NCLH\",\"NCLH\",\"NCLH\",\"NCLH\",\"NCLH\",\"NCLH\",\"NCLH\",\"NCLH\",\"NDSN\",\"NDSN\",\"NDSN\",\"NDSN\",\"NDSN\",\"NDSN\",\"NDSN\",\"NDSN\",\"NDSN\",\"NEE\",\"NEE\",\"NEE\",\"NEE\",\"NEE\",\"NEE\",\"NEE\",\"NEE\",\"NEE\",\"NEM\",\"NEM\",\"NEM\",\"NEM\",\"NEM\",\"NEM\",\"NEM\",\"NEM\",\"NEM\",\"NFLX\",\"NFLX\",\"NFLX\",\"NFLX\",\"NFLX\",\"NFLX\",\"NFLX\",\"NFLX\",\"NFLX\",\"NI\",\"NI\",\"NI\",\"NI\",\"NI\",\"NI\",\"NI\",\"NI\",\"NI\",\"NKE\",\"NKE\",\"NKE\",\"NKE\",\"NKE\",\"NKE\",\"NKE\",\"NKE\",\"NKE\",\"NOW\",\"NOW\",\"NOW\",\"NOW\",\"NOW\",\"NOW\",\"NOW\",\"NOW\",\"NOW\",\"NRG\",\"NRG\",\"NRG\",\"NRG\",\"NRG\",\"NRG\",\"NRG\",\"NRG\",\"NRG\",\"NSC\",\"NSC\",\"NSC\",\"NSC\",\"NSC\",\"NSC\",\"NSC\",\"NSC\",\"NSC\",\"NTAP\",\"NTAP\",\"NTAP\",\"NTAP\",\"NTAP\",\"NTAP\",\"NTAP\",\"NTAP\",\"NTAP\",\"NTRS\",\"NTRS\",\"NTRS\",\"NTRS\",\"NTRS\",\"NTRS\",\"NTRS\",\"NTRS\",\"NTRS\",\"NUE\",\"NUE\",\"NUE\",\"NUE\",\"NUE\",\"NUE\",\"NUE\",\"NUE\",\"NUE\",\"NVDA\",\"NVDA\",\"NVDA\",\"NVDA\",\"NVDA\",\"NVDA\",\"NVDA\",\"NVDA\",\"NVDA\",\"NVR\",\"NVR\",\"NVR\",\"NVR\",\"NVR\",\"NVR\",\"NVR\",\"NVR\",\"NVR\",\"NWSA\",\"NWSA\",\"NWSA\",\"NWSA\",\"NWSA\",\"NWSA\",\"NWSA\",\"NWSA\",\"NWSA\",\"NXPI\",\"NXPI\",\"NXPI\",\"NXPI\",\"NXPI\",\"NXPI\",\"NXPI\",\"NXPI\",\"NXPI\",\"O\",\"O\",\"O\",\"O\",\"O\",\"O\",\"O\",\"O\",\"O\",\"ODFL\",\"ODFL\",\"ODFL\",\"ODFL\",\"ODFL\",\"ODFL\",\"ODFL\",\"ODFL\",\"ODFL\",\"OKE\",\"OKE\",\"OKE\",\"OKE\",\"OKE\",\"OKE\",\"OKE\",\"OKE\",\"OKE\",\"OMC\",\"OMC\",\"OMC\",\"OMC\",\"OMC\",\"OMC\",\"OMC\",\"OMC\",\"OMC\",\"ON\",\"ON\",\"ON\",\"ON\",\"ON\",\"ON\",\"ON\",\"ON\",\"ON\",\"ORLY\",\"ORLY\",\"ORLY\",\"ORLY\",\"ORLY\",\"ORLY\",\"ORLY\",\"ORLY\",\"ORLY\",\"PANW\",\"PANW\",\"PANW\",\"PANW\",\"PANW\",\"PANW\",\"PANW\",\"PANW\",\"PANW\",\"PARA\",\"PARA\",\"PARA\",\"PARA\",\"PARA\",\"PARA\",\"PARA\",\"PARA\",\"PARA\",\"PAYC\",\"PAYC\",\"PAYC\",\"PAYC\",\"PAYC\",\"PAYC\",\"PAYC\",\"PAYC\",\"PAYC\",\"PAYX\",\"PAYX\",\"PAYX\",\"PAYX\",\"PAYX\",\"PAYX\",\"PAYX\",\"PAYX\",\"PAYX\",\"PCAR\",\"PCAR\",\"PCAR\",\"PCAR\",\"PCAR\",\"PCAR\",\"PCAR\",\"PCAR\",\"PCAR\",\"PEG\",\"PEG\",\"PEG\",\"PEG\",\"PEG\",\"PEG\",\"PEG\",\"PEG\",\"PEG\",\"PEP\",\"PEP\",\"PEP\",\"PEP\",\"PEP\",\"PEP\",\"PEP\",\"PEP\",\"PEP\",\"PFE\",\"PFE\",\"PFE\",\"PFE\",\"PFE\",\"PFE\",\"PFE\",\"PFE\",\"PFE\",\"PFG\",\"PFG\",\"PFG\",\"PFG\",\"PFG\",\"PFG\",\"PFG\",\"PFG\",\"PFG\",\"PG\",\"PG\",\"PG\",\"PG\",\"PG\",\"PG\",\"PG\",\"PG\",\"PG\",\"PHM\",\"PHM\",\"PHM\",\"PHM\",\"PHM\",\"PHM\",\"PHM\",\"PHM\",\"PHM\",\"PKG\",\"PKG\",\"PKG\",\"PKG\",\"PKG\",\"PKG\",\"PKG\",\"PKG\",\"PKG\",\"PLD\",\"PLD\",\"PLD\",\"PLD\",\"PLD\",\"PLD\",\"PLD\",\"PLD\",\"PLD\",\"PM\",\"PM\",\"PM\",\"PM\",\"PM\",\"PM\",\"PM\",\"PM\",\"PM\",\"PNC\",\"PNC\",\"PNC\",\"PNC\",\"PNC\",\"PNC\",\"PNC\",\"PNC\",\"PNC\",\"PNR\",\"PNR\",\"PNR\",\"PNR\",\"PNR\",\"PNR\",\"PNR\",\"PNR\",\"PNR\",\"PNW\",\"PNW\",\"PNW\",\"PNW\",\"PNW\",\"PNW\",\"PNW\",\"PNW\",\"PNW\",\"PODD\",\"PODD\",\"PODD\",\"PODD\",\"PODD\",\"PODD\",\"PODD\",\"PODD\",\"PODD\",\"POOL\",\"POOL\",\"POOL\",\"POOL\",\"POOL\",\"POOL\",\"POOL\",\"POOL\",\"POOL\",\"PPG\",\"PPG\",\"PPG\",\"PPG\",\"PPG\",\"PPG\",\"PPG\",\"PPG\",\"PPG\",\"PPL\",\"PPL\",\"PPL\",\"PPL\",\"PPL\",\"PPL\",\"PPL\",\"PPL\",\"PPL\",\"PRU\",\"PRU\",\"PRU\",\"PRU\",\"PRU\",\"PRU\",\"PRU\",\"PRU\",\"PRU\",\"PSA\",\"PSA\",\"PSA\",\"PSA\",\"PSA\",\"PSA\",\"PSA\",\"PSA\",\"PSA\",\"PSX\",\"PSX\",\"PSX\",\"PSX\",\"PSX\",\"PSX\",\"PSX\",\"PSX\",\"PSX\",\"PTC\",\"PTC\",\"PTC\",\"PTC\",\"PTC\",\"PTC\",\"PTC\",\"PTC\",\"PTC\",\"PWR\",\"PWR\",\"PWR\",\"PWR\",\"PWR\",\"PWR\",\"PWR\",\"PWR\",\"PWR\",\"PYPL\",\"PYPL\",\"PYPL\",\"PYPL\",\"PYPL\",\"PYPL\",\"PYPL\",\"PYPL\",\"PYPL\",\"QCOM\",\"QCOM\",\"QCOM\",\"QCOM\",\"QCOM\",\"QCOM\",\"QCOM\",\"QCOM\",\"QCOM\",\"QRVO\",\"QRVO\",\"QRVO\",\"QRVO\",\"QRVO\",\"QRVO\",\"QRVO\",\"QRVO\",\"QRVO\",\"RCL\",\"RCL\",\"RCL\",\"RCL\",\"RCL\",\"RCL\",\"RCL\",\"RCL\",\"RCL\",\"REGN\",\"REGN\",\"REGN\",\"REGN\",\"REGN\",\"REGN\",\"REGN\",\"REGN\",\"REGN\",\"RF\",\"RF\",\"RF\",\"RF\",\"RF\",\"RF\",\"RF\",\"RF\",\"RF\",\"RJF\",\"RJF\",\"RJF\",\"RJF\",\"RJF\",\"RJF\",\"RJF\",\"RJF\",\"RJF\",\"RL\",\"RL\",\"RL\",\"RL\",\"RL\",\"RL\",\"RL\",\"RL\",\"RL\",\"RMD\",\"RMD\",\"RMD\",\"RMD\",\"RMD\",\"RMD\",\"RMD\",\"RMD\",\"RMD\",\"ROK\",\"ROK\",\"ROK\",\"ROK\",\"ROK\",\"ROK\",\"ROK\",\"ROK\",\"ROK\",\"ROL\",\"ROL\",\"ROL\",\"ROL\",\"ROL\",\"ROL\",\"ROL\",\"ROL\",\"ROL\",\"ROP\",\"ROP\",\"ROP\",\"ROP\",\"ROP\",\"ROP\",\"ROP\",\"ROP\",\"ROP\",\"RSG\",\"RSG\",\"RSG\",\"RSG\",\"RSG\",\"RSG\",\"RSG\",\"RSG\",\"RSG\",\"RTX\",\"RTX\",\"RTX\",\"RTX\",\"RTX\",\"RTX\",\"RTX\",\"RTX\",\"RTX\",\"RVTY\",\"RVTY\",\"RVTY\",\"RVTY\",\"RVTY\",\"RVTY\",\"RVTY\",\"RVTY\",\"RVTY\",\"SBAC\",\"SBAC\",\"SBAC\",\"SBAC\",\"SBAC\",\"SBAC\",\"SBAC\",\"SBAC\",\"SBAC\",\"SBUX\",\"SBUX\",\"SBUX\",\"SBUX\",\"SBUX\",\"SBUX\",\"SBUX\",\"SBUX\",\"SBUX\",\"SCHW\",\"SCHW\",\"SCHW\",\"SCHW\",\"SCHW\",\"SCHW\",\"SCHW\",\"SCHW\",\"SCHW\",\"SHW\",\"SHW\",\"SHW\",\"SHW\",\"SHW\",\"SHW\",\"SHW\",\"SHW\",\"SHW\",\"SJM\",\"SJM\",\"SJM\",\"SJM\",\"SJM\",\"SJM\",\"SJM\",\"SJM\",\"SJM\",\"SLB\",\"SLB\",\"SLB\",\"SLB\",\"SLB\",\"SLB\",\"SLB\",\"SLB\",\"SLB\",\"SMCI\",\"SMCI\",\"SMCI\",\"SMCI\",\"SMCI\",\"SMCI\",\"SMCI\",\"SMCI\",\"SMCI\",\"SNA\",\"SNA\",\"SNA\",\"SNA\",\"SNA\",\"SNA\",\"SNA\",\"SNA\",\"SNA\",\"SNPS\",\"SNPS\",\"SNPS\",\"SNPS\",\"SNPS\",\"SNPS\",\"SNPS\",\"SNPS\",\"SNPS\",\"SO\",\"SO\",\"SO\",\"SO\",\"SO\",\"SO\",\"SO\",\"SO\",\"SO\",\"SPG\",\"SPG\",\"SPG\",\"SPG\",\"SPG\",\"SPG\",\"SPG\",\"SPG\",\"SPG\",\"SPGI\",\"SPGI\",\"SPGI\",\"SPGI\",\"SPGI\",\"SPGI\",\"SPGI\",\"SPGI\",\"SPGI\",\"SRE\",\"SRE\",\"SRE\",\"SRE\",\"SRE\",\"SRE\",\"SRE\",\"SRE\",\"SRE\",\"STE\",\"STE\",\"STE\",\"STE\",\"STE\",\"STE\",\"STE\",\"STE\",\"STE\",\"STLD\",\"STLD\",\"STLD\",\"STLD\",\"STLD\",\"STLD\",\"STLD\",\"STLD\",\"STLD\",\"STT\",\"STT\",\"STT\",\"STT\",\"STT\",\"STT\",\"STT\",\"STT\",\"STT\",\"STX\",\"STX\",\"STX\",\"STX\",\"STX\",\"STX\",\"STX\",\"STX\",\"STX\",\"STZ\",\"STZ\",\"STZ\",\"STZ\",\"STZ\",\"STZ\",\"STZ\",\"STZ\",\"STZ\",\"SWK\",\"SWK\",\"SWK\",\"SWK\",\"SWK\",\"SWK\",\"SWK\",\"SWK\",\"SWK\",\"SWKS\",\"SWKS\",\"SWKS\",\"SWKS\",\"SWKS\",\"SWKS\",\"SWKS\",\"SWKS\",\"SWKS\",\"SYF\",\"SYF\",\"SYF\",\"SYF\",\"SYF\",\"SYF\",\"SYF\",\"SYF\",\"SYF\",\"SYK\",\"SYK\",\"SYK\",\"SYK\",\"SYK\",\"SYK\",\"SYK\",\"SYK\",\"SYK\",\"SYY\",\"SYY\",\"SYY\",\"SYY\",\"SYY\",\"SYY\",\"SYY\",\"SYY\",\"SYY\",\"T\",\"T\",\"T\",\"T\",\"T\",\"T\",\"T\",\"T\",\"T\",\"TAP\",\"TAP\",\"TAP\",\"TAP\",\"TAP\",\"TAP\",\"TAP\",\"TAP\",\"TAP\",\"TDG\",\"TDG\",\"TDG\",\"TDG\",\"TDG\",\"TDG\",\"TDG\",\"TDG\",\"TDG\",\"TDY\",\"TDY\",\"TDY\",\"TDY\",\"TDY\",\"TDY\",\"TDY\",\"TDY\",\"TDY\",\"TECH\",\"TECH\",\"TECH\",\"TECH\",\"TECH\",\"TECH\",\"TECH\",\"TECH\",\"TECH\",\"TEL\",\"TEL\",\"TEL\",\"TEL\",\"TEL\",\"TEL\",\"TEL\",\"TEL\",\"TEL\",\"TER\",\"TER\",\"TER\",\"TER\",\"TER\",\"TER\",\"TER\",\"TER\",\"TER\",\"TFC\",\"TFC\",\"TFC\",\"TFC\",\"TFC\",\"TFC\",\"TFC\",\"TFC\",\"TFC\",\"TFX\",\"TFX\",\"TFX\",\"TFX\",\"TFX\",\"TFX\",\"TFX\",\"TFX\",\"TFX\",\"TGT\",\"TGT\",\"TGT\",\"TGT\",\"TGT\",\"TGT\",\"TGT\",\"TGT\",\"TGT\",\"TJX\",\"TJX\",\"TJX\",\"TJX\",\"TJX\",\"TJX\",\"TJX\",\"TJX\",\"TJX\",\"TMO\",\"TMO\",\"TMO\",\"TMO\",\"TMO\",\"TMO\",\"TMO\",\"TMO\",\"TMO\",\"TMUS\",\"TMUS\",\"TMUS\",\"TMUS\",\"TMUS\",\"TMUS\",\"TMUS\",\"TMUS\",\"TMUS\",\"TRGP\",\"TRGP\",\"TRGP\",\"TRGP\",\"TRGP\",\"TRGP\",\"TRGP\",\"TRGP\",\"TRGP\",\"TRMB\",\"TRMB\",\"TRMB\",\"TRMB\",\"TRMB\",\"TRMB\",\"TRMB\",\"TRMB\",\"TRMB\",\"TROW\",\"TROW\",\"TROW\",\"TROW\",\"TROW\",\"TROW\",\"TROW\",\"TROW\",\"TROW\",\"TRV\",\"TRV\",\"TRV\",\"TRV\",\"TRV\",\"TRV\",\"TRV\",\"TRV\",\"TRV\",\"TSCO\",\"TSCO\",\"TSCO\",\"TSCO\",\"TSCO\",\"TSCO\",\"TSCO\",\"TSCO\",\"TSCO\",\"TSLA\",\"TSLA\",\"TSLA\",\"TSLA\",\"TSLA\",\"TSLA\",\"TSLA\",\"TSLA\",\"TSLA\",\"TSN\",\"TSN\",\"TSN\",\"TSN\",\"TSN\",\"TSN\",\"TSN\",\"TSN\",\"TSN\",\"TT\",\"TT\",\"TT\",\"TT\",\"TT\",\"TT\",\"TT\",\"TT\",\"TT\",\"TTWO\",\"TTWO\",\"TTWO\",\"TTWO\",\"TTWO\",\"TTWO\",\"TTWO\",\"TTWO\",\"TTWO\",\"TXN\",\"TXN\",\"TXN\",\"TXN\",\"TXN\",\"TXN\",\"TXN\",\"TXN\",\"TXN\",\"TXT\",\"TXT\",\"TXT\",\"TXT\",\"TXT\",\"TXT\",\"TXT\",\"TXT\",\"TXT\",\"TYL\",\"TYL\",\"TYL\",\"TYL\",\"TYL\",\"TYL\",\"TYL\",\"TYL\",\"TYL\",\"UAL\",\"UAL\",\"UAL\",\"UAL\",\"UAL\",\"UAL\",\"UAL\",\"UAL\",\"UAL\",\"UBER\",\"UBER\",\"UBER\",\"UBER\",\"UBER\",\"UDR\",\"UDR\",\"UDR\",\"UDR\",\"UDR\",\"UDR\",\"UDR\",\"UDR\",\"UDR\",\"UHS\",\"UHS\",\"UHS\",\"UHS\",\"UHS\",\"UHS\",\"UHS\",\"UHS\",\"UHS\",\"ULTA\",\"ULTA\",\"ULTA\",\"ULTA\",\"ULTA\",\"ULTA\",\"ULTA\",\"ULTA\",\"ULTA\",\"UNH\",\"UNH\",\"UNH\",\"UNH\",\"UNH\",\"UNH\",\"UNH\",\"UNH\",\"UNH\",\"UNP\",\"UNP\",\"UNP\",\"UNP\",\"UNP\",\"UNP\",\"UNP\",\"UNP\",\"UNP\",\"URI\",\"URI\",\"URI\",\"URI\",\"URI\",\"URI\",\"URI\",\"URI\",\"URI\",\"USB\",\"USB\",\"USB\",\"USB\",\"USB\",\"USB\",\"USB\",\"USB\",\"USB\",\"V\",\"V\",\"V\",\"V\",\"V\",\"V\",\"V\",\"V\",\"V\",\"VICI\",\"VICI\",\"VICI\",\"VICI\",\"VICI\",\"VICI\",\"VLO\",\"VLO\",\"VLO\",\"VLO\",\"VLO\",\"VLO\",\"VLO\",\"VLO\",\"VLO\",\"VMC\",\"VMC\",\"VMC\",\"VMC\",\"VMC\",\"VMC\",\"VMC\",\"VMC\",\"VMC\",\"VRSK\",\"VRSK\",\"VRSK\",\"VRSK\",\"VRSK\",\"VRSK\",\"VRSK\",\"VRSK\",\"VRSK\",\"VRSN\",\"VRSN\",\"VRSN\",\"VRSN\",\"VRSN\",\"VRSN\",\"VRSN\",\"VRSN\",\"VRSN\",\"VST\",\"VST\",\"VST\",\"VST\",\"VST\",\"VST\",\"VST\",\"VST\",\"VTRS\",\"VTRS\",\"VTRS\",\"VTRS\",\"VTRS\",\"VTRS\",\"VTRS\",\"VTRS\",\"VTRS\",\"VZ\",\"VZ\",\"VZ\",\"VZ\",\"VZ\",\"VZ\",\"VZ\",\"VZ\",\"VZ\",\"WAB\",\"WAB\",\"WAB\",\"WAB\",\"WAB\",\"WAB\",\"WAB\",\"WAB\",\"WAB\",\"WAT\",\"WAT\",\"WAT\",\"WAT\",\"WAT\",\"WAT\",\"WAT\",\"WAT\",\"WAT\",\"WBD\",\"WBD\",\"WBD\",\"WBD\",\"WBD\",\"WBD\",\"WBD\",\"WBD\",\"WBD\",\"WDC\",\"WDC\",\"WDC\",\"WDC\",\"WDC\",\"WDC\",\"WDC\",\"WDC\",\"WDC\",\"WEC\",\"WEC\",\"WEC\",\"WEC\",\"WEC\",\"WEC\",\"WEC\",\"WEC\",\"WEC\",\"WELL\",\"WELL\",\"WELL\",\"WELL\",\"WELL\",\"WELL\",\"WELL\",\"WELL\",\"WELL\",\"WFC\",\"WFC\",\"WFC\",\"WFC\",\"WFC\",\"WFC\",\"WFC\",\"WFC\",\"WFC\",\"WM\",\"WM\",\"WM\",\"WM\",\"WM\",\"WM\",\"WM\",\"WM\",\"WM\",\"WMB\",\"WMB\",\"WMB\",\"WMB\",\"WMB\",\"WMB\",\"WMB\",\"WMB\",\"WMB\",\"WMT\",\"WMT\",\"WMT\",\"WMT\",\"WMT\",\"WMT\",\"WMT\",\"WMT\",\"WMT\",\"WRB\",\"WRB\",\"WRB\",\"WRB\",\"WRB\",\"WRB\",\"WRB\",\"WRB\",\"WRB\",\"WST\",\"WST\",\"WST\",\"WST\",\"WST\",\"WST\",\"WST\",\"WST\",\"WST\",\"WTW\",\"WTW\",\"WTW\",\"WTW\",\"WTW\",\"WTW\",\"WTW\",\"WTW\",\"WTW\",\"WY\",\"WY\",\"WY\",\"WY\",\"WY\",\"WY\",\"WY\",\"WY\",\"WY\",\"WYNN\",\"WYNN\",\"WYNN\",\"WYNN\",\"WYNN\",\"WYNN\",\"WYNN\",\"WYNN\",\"WYNN\",\"XEL\",\"XEL\",\"XEL\",\"XEL\",\"XEL\",\"XEL\",\"XEL\",\"XEL\",\"XEL\",\"XOM\",\"XOM\",\"XOM\",\"XOM\",\"XOM\",\"XOM\",\"XOM\",\"XOM\",\"XOM\",\"XYL\",\"XYL\",\"XYL\",\"XYL\",\"XYL\",\"XYL\",\"XYL\",\"XYL\",\"XYL\",\"YUM\",\"YUM\",\"YUM\",\"YUM\",\"YUM\",\"YUM\",\"YUM\",\"YUM\",\"YUM\",\"ZBH\",\"ZBH\",\"ZBH\",\"ZBH\",\"ZBH\",\"ZBH\",\"ZBH\",\"ZBH\",\"ZBH\",\"ZBRA\",\"ZBRA\",\"ZBRA\",\"ZBRA\",\"ZBRA\",\"ZBRA\",\"ZBRA\",\"ZBRA\",\"ZBRA\"]],[\"Gender_F\",[0,0,0,0,0,0,0,0,0,0,0,0,0,0,0,0,0,0,0,0,0,0,0,0,0,0,0,0,0,0,0,0,0,0,0,0,0,0,0,0,0,0,0,0,0,0,0,0,0,0,0,0,0,0,0,0,0,0,0,0,0,0,0,0,0,0,0,0,0,0,0,0,0,0,0,0,0,0,0,0,0,0,0,0,0,0,0,0,0,0,0,0,0,0,0,0,0,0,0,0,0,0,0,0,0,0,0,0,0,0,0,0,0,0,0,0,0,0,0,0,0,0,0,0,0,0,0,0,0,0,0,0,0,0,0,0,0,0,0,0,0,0,0,0,0,0,0,0,0,0,0,0,0,0,0,0,0,0,0,0,0,0,0,0,0,0,0,0,0,0,0,0,0,0,0,0,0,0,0,0,0,0,0,0,0,0,0,0,0,0,0,0,0,0,0,0,0,0,0,0,0,0,0,0,0,0,0,0,0,0,0,0,0,0,0,0,0,0,0,0,0,0,0,0,0,0,0,0,0,0,0,0,0,0,0,0,0,0,0,0,0,0,0,0,0,0,0,0,0,0,0,0,0,0,0,0,0,0,0,0,0,0,0,0,0,0,0,0,0,0,0,0,0,0,0,0,0,0,0,0,0,0,0,0,0,0,0,0,0,0,0,0,0,0,0,0,0,0,0,0,0,0,0,0,0,0,0,0,0,0,0,0,0,0,0,0,0,0,0,0,0,0,0,0,0,0,0,0,0,0,0,0,0,0,0,0,0,0,0,0,0,0,0,0,0,0,0,0,0,0,0,0,0,0,0,0,0,0,0,0,0,0,0,0,0,0,0,0,0,0,0,0,0,0,0,0,0,0,0,0,0,0,0,0,0,0,0,0,0,0,0,0,0,0,0,0,0,0,0,0,0,0,0,0,0,0,0,0,0,0,0,0,0,0,0,0,0,0,0,0,0,0,0,0,0,0,0,0,0,0,0,0,0,0,0,0,0,0,0,0,0,0,0,0,0,0,0,0,0,0,0,0,0,0,0,0,0,0,0,0,0,0,0,0,0,0,0,0,0,0,0,0,0,0,0,0,0,0,0,0,0,0,0,0,0,0,0,0,0,0,0,0,0,0,0,0,0,0,0,0,0,0,0,0,0,0,0,0,0,0,0,0,0,0,0,0,0,0,0,0,0,0,0,0,0,0,0,0,0,0,0,0,0,0,0,0,0,0,0,0,0,0,0,0,0,0,0,0,0,0,0,0,0,0,0,0,0,0,0,0,0,0,0,0,0,0,0,0,0,0,0,0,0,0,0,0,0,0,0,0,0,0,0,0,0,0,0,0,0,0,0,0,0,0,0,0,0,0,0,0,0,0,0,0,0,0,0,0,0,0,0,0,0,0,0,0,0,0,0,0,0,0,0,0,0,0,0,0,0,0,0,0,0,0,0,0,0,0,0,0,0,0,0,0,0,0,0,0,0,0,0,0,0,0,0,0,0,0,0,0,0,0,0,0,0,0,0,0,0,0,0,0,0,0,0,0,0,0,0,0,0,0,0,0,0,0,0,0,0,0,0,0,0,0,0,0,0,0,0,0,0,0,0,0,0,0,0,0,0,0,0,0,0,0,0,0,0,0,0,0,0,0,0,0,0,0,0,0,0,0,0,0,0,0,0,0,0,0,0,0,0,0,0,0,0,0,0,0,0,0,0,0,0,0,0,0,0,0,0,0,0,0,0,0,0,0,0,0,0,0,0,0,0,0,0,0,0,0,0,0,0,0,0,0,0,0,0,0,0,0,0,0,0,0,0,0,0,0,0,0,0,0,0,0,0,0,0,0,0,0,0,0,0,0,0,0,0,0,0,0,0,0,0,0,0,0,0,0,0,0,0,0,0,0,0,0,0,0,0,0,0,0,0,0,0,0,0,0,0,0,0,0,0,0,0,0,0,0,0,0,0,0,0,0,0,0,0,0,0,0,0,0,0,0,0,0,0,0,0,0,0,0,0,0,0,0,0,0,0,0,0,0,0,0,0,0,0,0,0,0,0,0,0,0,0,0,0,0,0,0,0,0,0,0,0,0,0,0,0,0,0,0,0,0,0,0,0,0,0,0,0,0,0,0,0,0,0,0,0,0,0,0,0,0,0,0,0,0,0,0,0,0,0,0,0,0,0,0,0,0,0,0,0,0,0,0,0,0,0,0,0,0,0,0,0,0,0,0,0,0,0,0,0,0,0,0,0,0,0,0,0,0,0,0,0,0,0,0,0,0,0,0,0,0,0,0,0,0,0,0,0,0,0,0,0,0,0,0,0,0,0,0,0,0,0,0,0,0,0,0,0,0,0,0,0,0,0,0,0,0,0,0,0,0,0,0,0,0,0,0,0,0,0,0,0,0,0,0,0,0,0,0,0,0,0,0,0,0,0,0,0,0,0,0,0,0,0,0,0,0,0,0,0,0,0,0,0,0,0,0,0,0,0,0,0,0,0,0,0,0,0,0,0,0,0,0,0,0,0,0,0,0,0,0,0,0,0,0,0,0,0,0,0,0,0,0,0,0,0,0,0,0,0,0,0,0,0,0,0,0,0,0,0,0,0,0,0,0,0,0,0,0,0,0,0,0,0,0,0,0,0,0,0,0,0,0,0,0,0,0,0,0,0,0,0,0,0,0,0,0,0,0,0,0,0,0,0,0,0,0,0,0,0,0,0,0,0,0,0,0,0,0,0,0,0,0,0,0,0,0,0,0,0,0,0,0,0,0,0,0,0,0,0,0,0,0,0,0,0,0,0,0,0,0,0,0,0,0,0,0,0,0,0,0,0,0,0,0,0,0,0,0,0,0,0,0,0,0,0,0,0,0,0,0,0,0,0,0,0,0,0,0,0,0,0,0,0,0,0,0,0,0,0,0,0,0,0,0,0,0,0,0,0,0,0,0,0,0,0,0,0,0,0,0,0,0,0,0,0,0,0,0,0,0,0,0,0,0,0,0,0,0,0,0,0,0,0,0,0,0,0,0,0,0,0,0,0,0,0,0,0,0,0,0,0,0,0,0,0,0,0,0,0,0,0,0,0,0,0,0,0,0,0,0,0,0,0,0,0,0,0,0,0,0,0,0,0,0,0,0,0,0,0,0,0,0,0,0,0,0,0,0,0,0,0,0,0,0,0,0,0,0,0,0,0,0,0,0,0,0,0,0,0,0,0,0,0,0,0,0,0,0,0,0,0,0,0,0,0,0,0,0,0,0,0,0,0,0,0,0,0,0,0,0,0,0,0,0,0,0,0,0,0,0,0,0,0,0,0,0,0,0,0,0,0,0,0,0,0,0,0,0,0,0,0,0,0,0,0,0,0,0,0,0,0,0,0,0,0,0,0,0,0,0,0,0,0,0,0,0,0,0,0,0,0,0,0,0,0,0,0,0,0,0,0,0,0,0,0,0,0,0,0,0,0,0,0,0,0,0,0,0,0,0,0,0,0,0,0,0,0,0,0,0,0,0,0,0,0,0,0,0,0,0,0,0,0,0,0,0,0,0,0,0,0,0,0,0,0,0,0,0,0,0,0,0,0,0,0,0,0,0,0,0,0,0,0,0,0,0,0,0,0,0,0,0,0,0,0,0,0,0,0,0,0,0,0,0,0,0,0,0,0,0,0,0,0,0,0,0,0,0,0,0,0,0,0,0,0,0,0,0,0,0,0,0,0,0,0,0,0,0,0,0,0,0,0,0,0,0,0,0,0,0,0,0,0,0,0,0,0,0,0,0,0,0,0,0,0,0,0,0,0,0,0,0,0,0,0,0,0,0,0,0,0,0,0,0,0,0,0,0,0,0,0,0,0,0,0,0,0,0,0,0,0,0,0,0,0,0,0,0,0,0,0,0,0,0,0,0,0,0,0,0,0,0,0,0,0,0,0,0,0,0,0,0,0,0,0,0,0,0,0,0,0,0,0,0,0,0,0,0,0,0,0,0,0,0,0,0,0,0,0,0,0,0,0,0,0,0,0,0,0,0,0,0,0,0,0,0,0,0,0,0,0,0,0,0,0,0,0,0,0,0,0,0,0,0,0,0,0,0,0,0,0,0,0,0,0,0,0,0,0,0,0,0,0,0,0,0,0,0,0,0,0,0,0,0,0,0,0,0,0,0,0,0,0,0,0,0,0,0,0,0,0,0,0,0,0,0,0,0,0,0,0,0,0,0,0,0,0,0,0,0,0,0,0,0,0,0,0,0,0,0,0,0,0,0,0,0,0,0,0,0,0,0,0,0,0,0,0,0,0,0,0,0,0,0,0,0,0,0,0,0,0,0,0,0,0,0,0,0,0,0,0,0,0,0,0,0,0,0,0,0,0,0,0,0,0,0,0,0,0,0,0,0,0,0,0,0,0,0,0,0,0,0,0,0,0,0,0,0,0,0,0,0,0,0,0,0,0,0,0,0,0,0,0,0,0,0,0,0,0,0,0,0,0,0,0,0,0,0,0,0,0,0,0,0,0,0,0,0,0,0,0,0,0,0,0,0,0,0,0,0,0,0,0,0,0,0,0,0,0,0,0,0,0,0,0,0,0,0,0,0,0,0,0,0,0,0,0,0,0,0,0,0,0,0,0,0,0,0,0,0,0,0,0,0,0,0,0,0,0,0,0,0,0,0,0,0,0,0,0,0,0,0,0,0,0,0,0,0,0,0,0,0,0,0,0,0,0,0,0,0,0,0,0,0,0,0,0,0,0,0,0,0,0,0,0,0,0,0,0,0,0,0,0,0,0,0,0,0,0,0,0,0,0,0,0,0,0,0,0,0,0,0,0,0,0,0,0,0,0,0,0,0,0,0,0,0,0,0,0,0,0,0,0,0,0,0,0,0,0,0,0,0,0,0,0,0,0,0,0,0,0,0,0,0,0,0,0,0,0,0,0,0,0,0,0,0,0,0,0,0,0,0,0,0,0,0,0,0,0,0,0,0,0,0,0,0,0,0,0,0,0,0,0,0,0,0,0,0,0,0,0,0,0,0,0,0,0,0,0,0,0,0,0,0,0,0,0,0,0,0,0,0,0,0,0,0,0,0,0,0,0,0,0,0,0,0,0,0,0,0,0,0,0,0,0,0,0,0,0,0,0,0,0,0,0,0,0,0,0,0,0,0,0,0,0,0,0,0,0,0,0,0,0,0,0,0,0,0,0,0,0,0,0,0,0,0,0,0,0,0,0,0,0,0,0,0,0,0,0,0,0,0,0,0,0,0,0,0,0,0,0,0,0,0,0,0,0,0,0,0,0,0,0,0,0,0,0,0,0,0,0,0,0,0,0,0,0,0,0,0,0,0,0,0,0,0,0,0,0,0,0,0,0,0,0,0,0,0,0,0,0,0,0,0,0,0,0,0,0,0,0,0,0,0,0,0,0,0,0,0,0,0,0,0,0,0,0,0,0,0,0,0,0,0,0,0,0,0,0,0,0,0,0,0,0,0,0,0,0,0,0,0,0,0,0,0,0,0,0,0,0,0,0,0,0,0,0,0,0,0,0,0,0,0,0,0,0,0,0,0,0,0,0,0,0,0,0,0,0,0,0,0,0,0,0,0,0,0,0,0,0,0,0,0,0,0,0,0,0,0,0,0,0,0,0,0,0,0,0,0,0,0,0,0,0,0,0,0,0,0,0,0,0,0,0,0,0,0,0,0,0,0,0,0,0,0,0,0,0,0,0,0,0,0,0,0,0,0,0,0,0,0,0,0,0,0,0,0,0,0,0,0,0,0,0,0,0,0,0,0,0,0,0,0,0,0,0,0,0,0,0,0,0,0,0,0,0,0,0,0,0,0,0,0,0,0,0,0,0,0,0,0,0,0,0,0,0,0,0,0,0,0,0,0,0,0,0,0,0,0,0,0,0,0,0,0,0,0,0,0,0,0,0,0,0,0,0,0,0,0,0,0,0,0,0,0,0,0,0,0,0,0,0,0,0,0,0,0,0,0,0,0,0,0,0,0,0,0,0,0,0,0,0,0,0,0,0,0,0,0,0,0,0,0,0,0,0,0,0,0,0,0,0,0,0,0,0,0,0,0,0,0,0,0,0,0,0,0,0,0,0,0,0,0,0,0,0,0,0,0,0,0,0,0,0,0,0,0,0,0,0,0,0,0,0,0,0,0,0,0,0,0,0,0,0,0,0,0,0,0,0,0,0,0,0,0,0,0,0,0,0,0,0,0,0,0,0,0,0,0,0,0,0,0,0,0,0,0,0,0,0,0,0,0,0,0,0,0,0,0,0,0,0,0,0,0,0,0,0,0,0,0,0,0,0,0,0,0,0,0,0,0,0,0,0,0,0,0,0,0,0,0,0,0,0,0,0,0,0,0,0,0,0,0,0,0,0,0,0,0,0,0,0,0,0,0,0,0,0,0,0,0,0,0,0,0,0,0,0,0,0,0,0,0,0,0,0,0,0,0,0,0,0,0,0,0,0,0,0,0,0,0,0,0,0,0,0,0,0,0,0,0,0,0,0,0,0,0,0,0,0,0,0,0,0,0,0,0,0,0,0,0,0,0,0,0,0,0,0,0,0,0,0,0,0,0,0,0,0,0,0,0,0,0,0,0,0,0,0,0,0,0,0,0,0,0,0,0,0,0,0,0,0,0,0,0,0,0,0,0,0,0,0,0,0,0,0,0,0,0,0,0,0,0,0,0,0,0,0,0,0,0,0,0,0,0,0,0,0,0,0,0,0,0,0,0,0,0,0,0,0,0,0,0,0,0,0,0,0,0,0,0,0,0,0,0,0,0,0,0,0,0,0,0,0,0,0,0,0,0,0,0,0,0,0,0,0,0,0,0,0,0,0,0,0,0,0,0,0,0,0,0,0,0,0,0,0,0,0,0,0,0,0,0,0,0,0,0,0,0,0,0,0,0,0,0,0,0,0,0,0,0,0,0,0,0,0,0,0,0,0,0,0,0,0,0,0,0,0,0,0,0,0,0,0,0,0,0,0,0,0,0,0,0,0,0,0,0,0,0,0,0,0,0,0,0,0,0,0,0,0,0,0,0,0,0,0,0,0,0,0,0,0,0,0,0,0,0,0,0,0,0,0,0,0,0,0,0,0,0,0,0,0,0,0,0,0,0,0,0,0,0,0,0,0,0,0,0,0,0,0,0,0,0,0,0,0,0,0,0,0,0,0,0,0,0,0,0,0,0,0,0,0,0,0,0,0,0,0,0,0,0,0,0,0,0,0,0,0,0,0,0,0,0,0,0,0,0,0,0,0,0,0,0,0,0,0,0,0,0,0,0,0,0,0,0,0,0,0,0,0,0,0,0,0,0,0,0,0,0,0,0,0,0,0,0,0,0,0,0,0,0,0,0,0,0,0,0,0,0,0,0,0,0,0,0,0,0,0,0,0,0,0,0,0,0,0,0,0,0,0,0,0,0,0,0,0,0,0,0,0,0,0,0,0,0,0,0,0,0,0,0,0,0,0,0,0,0,0,0,0,0,0,0,0,0,0,0,0,0,0,0,0,0,0,0,0,0,0,0,0,0,0,0,0,0,0,0,0,0,0,0,0,0,0,0,0,0,0,0,0,0,0,0,0,0,0,0,0,0,0,0,0,0,0,0,0,0,0,0,0,0,0,0,0,0,0,0,0,0,0,0,0,0,0,0,0,0,0,0,0,0,0,0,0,0,0,0,0,0,0,0,0,0,0,0,0,0,0,0,0,0,0,0,0,0,0,0,0,0,0,0,0,0,0,0,0,0,0,0,0,0,0,0,0,0,0,0,0,0,0,0,0,0,0,0,0,0,0,0,0,0,0,0,0,0,0,0,0,0,0,0,0,0,0,0,0,0,0,0,0,0,0,0,0,0,0,0,0,0,0,0,0,0,0,0,0,0,0,0,0,0,0,0,0,0,0,0,0,0,0,0,0,0,0,0,0,0,0,0,0,0,0,0,0,0,0,0,0,0,0,0,0,0,0,0,0,0,0,0,0,0,0,0,0,0,0,0,0,0,0,0,0,0,0,0,0,0,0,0,0,0,0,0,0,0,0,0,0,0,0,0,0,0,0,0,0,0,0,0,0,0,0,0,0,0,0,0,0,0,0,0,0,0,0,0,0,0,0,0,0,0,0,0,0,0,0,0,0,0,0,0,0,0,0,0,0,0,0,0,0,0,0,0,0,0,0,0,0,0,0,0,0,0,0,0,0,0,0,0,0,0,0,0,0,0,0,0,0,0,0,0,0,0,0,0,0,0,0,0,0,0,0,0,0,0,0,0,0,0,0,0,0,0,0,0,0,0,0,0,0,0,0,0,0,0,0,0,0,0,0,0,0,0,0,0,0,0,0,0,0,0,0,0,0,0,0,0,0,0,0,0,0,0,0,0,0,0,0,0,0,0,0,0,0,0,0,0,0,0,0,0,0,0,0,0,0,0,0,0,0,0,0,0,0,0,0,0,0,0,0,0,0,0,0,0,0,0,0,0,0,0,0,0,0,0,0,0,0,0,0,0,0,0,0,0,0,0,0,0,0,0,0,0,0,0,0,0,0,0,0,0,0,0,0,0,0,0,0,0,0,0,0,0,0,0,0,0,0,0,0,0,0,0,0,0,0,0,0,0,0,0,0,0,0,0,0,0,0,0,0,0,0,0,0,0,0,0,0,0,0,0,0,0,0,0,0,0,0,0,0,0,0,0,0,0,0,0,0,0,0,0,0,0,0,0,0,0,0,0,0,0,0,0,0,0,0,0,0,0,0,0,0,0,0,0,0,0,0,0,0,0,0,0,0,0,0,0,0,0,0,0,0,0,0,0,0,0,0,0,0,0,0,0,0,0,0,0,0,0,0,0,0,0,0,0,0,0,0,0,0,0,0,0,0,0,0,0,0,0,0,0,0,0,0,0,0,0,0,0,0,0,0,0,0,0,0,0,0,0,0,0,0,0,0,0,0,0,0,0,0,0,0,0,0,0,0,0,0,0,0,0,0,0,0,0,0,0,0,0,0,0,0,0,0,0,0,0,0,0,0,0,0,0,0,0,0,0,0,0,0,0,0,0,0,0,0,0,0,0,0,0,0,0,0,0,0,0,0,0,0,0,0,0,0,0,0,0,0,0,0,0,0,0,0,0,0,0,0,0,0,0,0,0,0,0,0,0,0,0,0,0,0,0,0,0,0,0,0,0,0,0,0,0,0,0,0]]]}}},\"view\":{\"type\":\"object\",\"name\":\"CDSView\",\"id\":\"p4148\",\"attributes\":{\"filter\":{\"type\":\"object\",\"name\":\"AllIndices\",\"id\":\"p4149\"}}},\"glyph\":{\"type\":\"object\",\"name\":\"Scatter\",\"id\":\"p4144\",\"attributes\":{\"tags\":[\"apply_ranges\"],\"x\":{\"type\":\"field\",\"field\":\"AnnualReturn\"},\"y\":{\"type\":\"field\",\"field\":\"AnnualVariance\"},\"size\":{\"type\":\"value\",\"value\":5.477225575051661},\"line_color\":{\"type\":\"value\",\"value\":\"#30a2da\"},\"fill_color\":{\"type\":\"value\",\"value\":\"#30a2da\"},\"hatch_color\":{\"type\":\"value\",\"value\":\"#30a2da\"}}},\"selection_glyph\":{\"type\":\"object\",\"name\":\"Scatter\",\"id\":\"p4152\",\"attributes\":{\"tags\":[\"apply_ranges\"],\"x\":{\"type\":\"field\",\"field\":\"AnnualReturn\"},\"y\":{\"type\":\"field\",\"field\":\"AnnualVariance\"},\"size\":{\"type\":\"value\",\"value\":5.477225575051661},\"angle\":{\"type\":\"value\",\"value\":0.0},\"line_color\":{\"type\":\"value\",\"value\":\"#30a2da\"},\"line_alpha\":{\"type\":\"value\",\"value\":1.0},\"line_width\":{\"type\":\"value\",\"value\":1},\"line_join\":{\"type\":\"value\",\"value\":\"bevel\"},\"line_cap\":{\"type\":\"value\",\"value\":\"butt\"},\"line_dash\":{\"type\":\"value\",\"value\":[]},\"line_dash_offset\":{\"type\":\"value\",\"value\":0},\"fill_color\":{\"type\":\"value\",\"value\":\"#30a2da\"},\"fill_alpha\":{\"type\":\"value\",\"value\":1.0},\"hatch_color\":{\"type\":\"value\",\"value\":\"#30a2da\"},\"hatch_alpha\":{\"type\":\"value\",\"value\":1.0},\"hatch_scale\":{\"type\":\"value\",\"value\":12.0},\"hatch_pattern\":{\"type\":\"value\",\"value\":null},\"hatch_weight\":{\"type\":\"value\",\"value\":1.0},\"marker\":{\"type\":\"value\",\"value\":\"circle\"}}},\"nonselection_glyph\":{\"type\":\"object\",\"name\":\"Scatter\",\"id\":\"p4145\",\"attributes\":{\"tags\":[\"apply_ranges\"],\"x\":{\"type\":\"field\",\"field\":\"AnnualReturn\"},\"y\":{\"type\":\"field\",\"field\":\"AnnualVariance\"},\"size\":{\"type\":\"value\",\"value\":5.477225575051661},\"line_color\":{\"type\":\"value\",\"value\":\"#30a2da\"},\"line_alpha\":{\"type\":\"value\",\"value\":0.1},\"fill_color\":{\"type\":\"value\",\"value\":\"#30a2da\"},\"fill_alpha\":{\"type\":\"value\",\"value\":0.1},\"hatch_color\":{\"type\":\"value\",\"value\":\"#30a2da\"},\"hatch_alpha\":{\"type\":\"value\",\"value\":0.1}}},\"muted_glyph\":{\"type\":\"object\",\"name\":\"Scatter\",\"id\":\"p4146\",\"attributes\":{\"tags\":[\"apply_ranges\"],\"x\":{\"type\":\"field\",\"field\":\"AnnualReturn\"},\"y\":{\"type\":\"field\",\"field\":\"AnnualVariance\"},\"size\":{\"type\":\"value\",\"value\":5.477225575051661},\"line_color\":{\"type\":\"value\",\"value\":\"#30a2da\"},\"line_alpha\":{\"type\":\"value\",\"value\":0.2},\"fill_color\":{\"type\":\"value\",\"value\":\"#30a2da\"},\"fill_alpha\":{\"type\":\"value\",\"value\":0.2},\"hatch_color\":{\"type\":\"value\",\"value\":\"#30a2da\"},\"hatch_alpha\":{\"type\":\"value\",\"value\":0.2}}}}},{\"type\":\"object\",\"name\":\"GlyphRenderer\",\"id\":\"p4162\",\"attributes\":{\"name\":\"1\",\"data_source\":{\"type\":\"object\",\"name\":\"ColumnDataSource\",\"id\":\"p4153\",\"attributes\":{\"selected\":{\"type\":\"object\",\"name\":\"Selection\",\"id\":\"p4154\",\"attributes\":{\"indices\":[],\"line_indices\":[]}},\"selection_policy\":{\"type\":\"object\",\"name\":\"UnionRenderers\",\"id\":\"p4155\"},\"data\":{\"type\":\"map\",\"entries\":[[\"AnnualReturn\",{\"type\":\"ndarray\",\"array\":{\"type\":\"bytes\",\"data\":\"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\"},\"shape\":[302],\"dtype\":\"float64\",\"order\":\"little\"}],[\"AnnualVariance\",{\"type\":\"ndarray\",\"array\":{\"type\":\"bytes\",\"data\":\"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\"},\"shape\":[302],\"dtype\":\"float64\",\"order\":\"little\"}],[\"Ticker\",[\"ACN\",\"ACN\",\"ACN\",\"ACN\",\"ACN\",\"ACN\",\"ACN\",\"ACN\",\"ACN\",\"AMD\",\"AMD\",\"AMD\",\"AMD\",\"AMD\",\"AMD\",\"AMD\",\"AMD\",\"AMD\",\"ANET\",\"ANET\",\"ANET\",\"ANET\",\"ANET\",\"ANET\",\"ANET\",\"ANET\",\"ANET\",\"AWK\",\"AWK\",\"AWK\",\"AWK\",\"AWK\",\"AWK\",\"AWK\",\"AWK\",\"AWK\",\"BBY\",\"BBY\",\"BBY\",\"BBY\",\"BBY\",\"BBY\",\"BBY\",\"BBY\",\"BBY\",\"BEN\",\"BEN\",\"BEN\",\"BEN\",\"BEN\",\"BEN\",\"BEN\",\"BEN\",\"BEN\",\"C\",\"C\",\"C\",\"C\",\"C\",\"C\",\"C\",\"C\",\"C\",\"CDW\",\"CDW\",\"CDW\",\"CDW\",\"CDW\",\"CDW\",\"CDW\",\"CDW\",\"CDW\",\"CE\",\"CE\",\"CE\",\"CE\",\"CE\",\"CE\",\"CE\",\"CE\",\"CE\",\"CLX\",\"CLX\",\"CLX\",\"CLX\",\"CLX\",\"CLX\",\"CLX\",\"CLX\",\"CLX\",\"CMI\",\"CMI\",\"CMI\",\"CMI\",\"CMI\",\"CMI\",\"CMI\",\"CMI\",\"CMI\",\"CNC\",\"CNC\",\"CNC\",\"CNC\",\"CNC\",\"CNC\",\"CNC\",\"CNC\",\"CNC\",\"CVS\",\"CVS\",\"CVS\",\"CVS\",\"CVS\",\"CVS\",\"CVS\",\"CVS\",\"CVS\",\"DUK\",\"DUK\",\"DUK\",\"DUK\",\"DUK\",\"DUK\",\"DUK\",\"DUK\",\"DUK\",\"ELV\",\"ELV\",\"ELV\",\"ELV\",\"ELV\",\"ELV\",\"ELV\",\"ELV\",\"ELV\",\"GD\",\"GD\",\"GD\",\"GD\",\"GD\",\"GD\",\"GD\",\"GD\",\"GD\",\"GM\",\"GM\",\"GM\",\"GM\",\"GM\",\"GM\",\"GM\",\"GM\",\"GM\",\"HSY\",\"HSY\",\"HSY\",\"HSY\",\"HSY\",\"HSY\",\"HSY\",\"HSY\",\"HSY\",\"NDAQ\",\"NDAQ\",\"NDAQ\",\"NDAQ\",\"NDAQ\",\"NDAQ\",\"NDAQ\",\"NDAQ\",\"NDAQ\",\"NOC\",\"NOC\",\"NOC\",\"NOC\",\"NOC\",\"NOC\",\"NOC\",\"NOC\",\"NOC\",\"ORCL\",\"ORCL\",\"ORCL\",\"ORCL\",\"ORCL\",\"ORCL\",\"ORCL\",\"ORCL\",\"ORCL\",\"OTIS\",\"OTIS\",\"OTIS\",\"OTIS\",\"OXY\",\"OXY\",\"OXY\",\"OXY\",\"OXY\",\"OXY\",\"OXY\",\"OXY\",\"OXY\",\"PCG\",\"PCG\",\"PCG\",\"PCG\",\"PCG\",\"PCG\",\"PCG\",\"PCG\",\"PCG\",\"PGR\",\"PGR\",\"PGR\",\"PGR\",\"PGR\",\"PGR\",\"PGR\",\"PGR\",\"PGR\",\"PH\",\"PH\",\"PH\",\"PH\",\"PH\",\"PH\",\"PH\",\"PH\",\"PH\",\"REG\",\"REG\",\"REG\",\"REG\",\"REG\",\"REG\",\"REG\",\"REG\",\"REG\",\"ROST\",\"ROST\",\"ROST\",\"ROST\",\"ROST\",\"ROST\",\"ROST\",\"ROST\",\"ROST\",\"TPR\",\"TPR\",\"TPR\",\"TPR\",\"TPR\",\"TPR\",\"TPR\",\"TPR\",\"TPR\",\"UPS\",\"UPS\",\"UPS\",\"UPS\",\"UPS\",\"UPS\",\"UPS\",\"UPS\",\"UPS\",\"VLTO\",\"VRTX\",\"VRTX\",\"VRTX\",\"VRTX\",\"VRTX\",\"VRTX\",\"VRTX\",\"VRTX\",\"VRTX\",\"VTR\",\"VTR\",\"VTR\",\"VTR\",\"VTR\",\"VTR\",\"VTR\",\"VTR\",\"VTR\",\"WBA\",\"WBA\",\"WBA\",\"WBA\",\"WBA\",\"WBA\",\"WBA\",\"WBA\",\"WBA\",\"ZTS\",\"ZTS\",\"ZTS\",\"ZTS\",\"ZTS\",\"ZTS\",\"ZTS\",\"ZTS\",\"ZTS\"]],[\"Gender_F\",[1,1,1,1,1,1,1,1,1,1,1,1,1,1,1,1,1,1,1,1,1,1,1,1,1,1,1,1,1,1,1,1,1,1,1,1,1,1,1,1,1,1,1,1,1,1,1,1,1,1,1,1,1,1,1,1,1,1,1,1,1,1,1,1,1,1,1,1,1,1,1,1,1,1,1,1,1,1,1,1,1,1,1,1,1,1,1,1,1,1,1,1,1,1,1,1,1,1,1,1,1,1,1,1,1,1,1,1,1,1,1,1,1,1,1,1,1,1,1,1,1,1,1,1,1,1,1,1,1,1,1,1,1,1,1,1,1,1,1,1,1,1,1,1,1,1,1,1,1,1,1,1,1,1,1,1,1,1,1,1,1,1,1,1,1,1,1,1,1,1,1,1,1,1,1,1,1,1,1,1,1,1,1,1,1,1,1,1,1,1,1,1,1,1,1,1,1,1,1,1,1,1,1,1,1,1,1,1,1,1,1,1,1,1,1,1,1,1,1,1,1,1,1,1,1,1,1,1,1,1,1,1,1,1,1,1,1,1,1,1,1,1,1,1,1,1,1,1,1,1,1,1,1,1,1,1,1,1,1,1,1,1,1,1,1,1,1,1,1,1,1,1,1,1,1,1,1,1,1,1,1,1,1,1,1,1,1,1,1,1,1,1,1,1,1,1,1,1,1,1,1,1]]]}}},\"view\":{\"type\":\"object\",\"name\":\"CDSView\",\"id\":\"p4163\",\"attributes\":{\"filter\":{\"type\":\"object\",\"name\":\"AllIndices\",\"id\":\"p4164\"}}},\"glyph\":{\"type\":\"object\",\"name\":\"Scatter\",\"id\":\"p4159\",\"attributes\":{\"tags\":[\"apply_ranges\"],\"x\":{\"type\":\"field\",\"field\":\"AnnualReturn\"},\"y\":{\"type\":\"field\",\"field\":\"AnnualVariance\"},\"size\":{\"type\":\"value\",\"value\":5.477225575051661},\"line_color\":{\"type\":\"value\",\"value\":\"#fc4f30\"},\"fill_color\":{\"type\":\"value\",\"value\":\"#fc4f30\"},\"hatch_color\":{\"type\":\"value\",\"value\":\"#fc4f30\"}}},\"selection_glyph\":{\"type\":\"object\",\"name\":\"Scatter\",\"id\":\"p4166\",\"attributes\":{\"tags\":[\"apply_ranges\"],\"x\":{\"type\":\"field\",\"field\":\"AnnualReturn\"},\"y\":{\"type\":\"field\",\"field\":\"AnnualVariance\"},\"size\":{\"type\":\"value\",\"value\":5.477225575051661},\"angle\":{\"type\":\"value\",\"value\":0.0},\"line_color\":{\"type\":\"value\",\"value\":\"#fc4f30\"},\"line_alpha\":{\"type\":\"value\",\"value\":1.0},\"line_width\":{\"type\":\"value\",\"value\":1},\"line_join\":{\"type\":\"value\",\"value\":\"bevel\"},\"line_cap\":{\"type\":\"value\",\"value\":\"butt\"},\"line_dash\":{\"type\":\"value\",\"value\":[]},\"line_dash_offset\":{\"type\":\"value\",\"value\":0},\"fill_color\":{\"type\":\"value\",\"value\":\"#fc4f30\"},\"fill_alpha\":{\"type\":\"value\",\"value\":1.0},\"hatch_color\":{\"type\":\"value\",\"value\":\"#fc4f30\"},\"hatch_alpha\":{\"type\":\"value\",\"value\":1.0},\"hatch_scale\":{\"type\":\"value\",\"value\":12.0},\"hatch_pattern\":{\"type\":\"value\",\"value\":null},\"hatch_weight\":{\"type\":\"value\",\"value\":1.0},\"marker\":{\"type\":\"value\",\"value\":\"circle\"}}},\"nonselection_glyph\":{\"type\":\"object\",\"name\":\"Scatter\",\"id\":\"p4160\",\"attributes\":{\"tags\":[\"apply_ranges\"],\"x\":{\"type\":\"field\",\"field\":\"AnnualReturn\"},\"y\":{\"type\":\"field\",\"field\":\"AnnualVariance\"},\"size\":{\"type\":\"value\",\"value\":5.477225575051661},\"line_color\":{\"type\":\"value\",\"value\":\"#fc4f30\"},\"line_alpha\":{\"type\":\"value\",\"value\":0.1},\"fill_color\":{\"type\":\"value\",\"value\":\"#fc4f30\"},\"fill_alpha\":{\"type\":\"value\",\"value\":0.1},\"hatch_color\":{\"type\":\"value\",\"value\":\"#fc4f30\"},\"hatch_alpha\":{\"type\":\"value\",\"value\":0.1}}},\"muted_glyph\":{\"type\":\"object\",\"name\":\"Scatter\",\"id\":\"p4161\",\"attributes\":{\"tags\":[\"apply_ranges\"],\"x\":{\"type\":\"field\",\"field\":\"AnnualReturn\"},\"y\":{\"type\":\"field\",\"field\":\"AnnualVariance\"},\"size\":{\"type\":\"value\",\"value\":5.477225575051661},\"line_color\":{\"type\":\"value\",\"value\":\"#fc4f30\"},\"line_alpha\":{\"type\":\"value\",\"value\":0.2},\"fill_color\":{\"type\":\"value\",\"value\":\"#fc4f30\"},\"fill_alpha\":{\"type\":\"value\",\"value\":0.2},\"hatch_color\":{\"type\":\"value\",\"value\":\"#fc4f30\"},\"hatch_alpha\":{\"type\":\"value\",\"value\":0.2}}}}}],\"toolbar\":{\"type\":\"object\",\"name\":\"Toolbar\",\"id\":\"p4116\",\"attributes\":{\"tools\":[{\"type\":\"object\",\"name\":\"WheelZoomTool\",\"id\":\"p4102\",\"attributes\":{\"tags\":[\"hv_created\"],\"renderers\":\"auto\",\"zoom_together\":\"none\"}},{\"type\":\"object\",\"name\":\"HoverTool\",\"id\":\"p4103\",\"attributes\":{\"tags\":[\"hv_created\"],\"renderers\":[{\"id\":\"p4147\"},{\"id\":\"p4162\"}],\"tooltips\":[[\"Gender_F\",\"@{Gender_F}\"],[\"AnnualReturn\",\"@{AnnualReturn}\"],[\"AnnualVariance\",\"@{AnnualVariance}\"],[\"Ticker\",\"@{Ticker}\"]]}},{\"type\":\"object\",\"name\":\"SaveTool\",\"id\":\"p4129\"},{\"type\":\"object\",\"name\":\"PanTool\",\"id\":\"p4130\"},{\"type\":\"object\",\"name\":\"BoxZoomTool\",\"id\":\"p4131\",\"attributes\":{\"overlay\":{\"type\":\"object\",\"name\":\"BoxAnnotation\",\"id\":\"p4132\",\"attributes\":{\"syncable\":false,\"level\":\"overlay\",\"visible\":false,\"left\":{\"type\":\"number\",\"value\":\"nan\"},\"right\":{\"type\":\"number\",\"value\":\"nan\"},\"top\":{\"type\":\"number\",\"value\":\"nan\"},\"bottom\":{\"type\":\"number\",\"value\":\"nan\"},\"left_units\":\"canvas\",\"right_units\":\"canvas\",\"top_units\":\"canvas\",\"bottom_units\":\"canvas\",\"line_color\":\"black\",\"line_alpha\":1.0,\"line_width\":2,\"line_dash\":[4,4],\"fill_color\":\"lightgrey\",\"fill_alpha\":0.5}}}},{\"type\":\"object\",\"name\":\"ResetTool\",\"id\":\"p4137\"}],\"active_drag\":{\"id\":\"p4130\"},\"active_scroll\":{\"id\":\"p4102\"}}},\"left\":[{\"type\":\"object\",\"name\":\"LinearAxis\",\"id\":\"p4124\",\"attributes\":{\"ticker\":{\"type\":\"object\",\"name\":\"BasicTicker\",\"id\":\"p4125\",\"attributes\":{\"mantissas\":[1,2,5]}},\"formatter\":{\"type\":\"object\",\"name\":\"BasicTickFormatter\",\"id\":\"p4126\"},\"axis_label\":\"AnnualVariance\",\"major_label_policy\":{\"type\":\"object\",\"name\":\"AllLabels\",\"id\":\"p4127\"}}}],\"right\":[{\"type\":\"object\",\"name\":\"Legend\",\"id\":\"p4150\",\"attributes\":{\"location\":[0,0],\"title\":\"Gender_F\",\"click_policy\":\"mute\",\"items\":[{\"type\":\"object\",\"name\":\"LegendItem\",\"id\":\"p4151\",\"attributes\":{\"label\":{\"type\":\"value\",\"value\":\"0\"},\"renderers\":[{\"id\":\"p4147\"}]}},{\"type\":\"object\",\"name\":\"LegendItem\",\"id\":\"p4165\",\"attributes\":{\"label\":{\"type\":\"value\",\"value\":\"1\"},\"renderers\":[{\"id\":\"p4162\"}]}}]}}],\"below\":[{\"type\":\"object\",\"name\":\"LinearAxis\",\"id\":\"p4119\",\"attributes\":{\"ticker\":{\"type\":\"object\",\"name\":\"BasicTicker\",\"id\":\"p4120\",\"attributes\":{\"mantissas\":[1,2,5]}},\"formatter\":{\"type\":\"object\",\"name\":\"BasicTickFormatter\",\"id\":\"p4121\"},\"axis_label\":\"AnnualReturn\",\"major_label_policy\":{\"type\":\"object\",\"name\":\"AllLabels\",\"id\":\"p4122\"}}}],\"center\":[{\"type\":\"object\",\"name\":\"Grid\",\"id\":\"p4123\",\"attributes\":{\"axis\":{\"id\":\"p4119\"},\"grid_line_color\":null}},{\"type\":\"object\",\"name\":\"Grid\",\"id\":\"p4128\",\"attributes\":{\"dimension\":1,\"axis\":{\"id\":\"p4124\"},\"grid_line_color\":null}}],\"min_border_top\":10,\"min_border_bottom\":10,\"min_border_left\":10,\"min_border_right\":10,\"output_backend\":\"webgl\"}},{\"type\":\"object\",\"name\":\"Spacer\",\"id\":\"p4168\",\"attributes\":{\"name\":\"HSpacer10524\",\"stylesheets\":[\"\\n:host(.pn-loading.pn-arc):before, .pn-loading.pn-arc:before {\\n  background-image: url(\\\"data:image/svg+xml;base64,PHN2ZyB4bWxucz0iaHR0cDovL3d3dy53My5vcmcvMjAwMC9zdmciIHN0eWxlPSJtYXJnaW46IGF1dG87IGJhY2tncm91bmQ6IG5vbmU7IGRpc3BsYXk6IGJsb2NrOyBzaGFwZS1yZW5kZXJpbmc6IGF1dG87IiB2aWV3Qm94PSIwIDAgMTAwIDEwMCIgcHJlc2VydmVBc3BlY3RSYXRpbz0ieE1pZFlNaWQiPiAgPGNpcmNsZSBjeD0iNTAiIGN5PSI1MCIgZmlsbD0ibm9uZSIgc3Ryb2tlPSIjYzNjM2MzIiBzdHJva2Utd2lkdGg9IjEwIiByPSIzNSIgc3Ryb2tlLWRhc2hhcnJheT0iMTY0LjkzMzYxNDMxMzQ2NDE1IDU2Ljk3Nzg3MTQzNzgyMTM4Ij4gICAgPGFuaW1hdGVUcmFuc2Zvcm0gYXR0cmlidXRlTmFtZT0idHJhbnNmb3JtIiB0eXBlPSJyb3RhdGUiIHJlcGVhdENvdW50PSJpbmRlZmluaXRlIiBkdXI9IjFzIiB2YWx1ZXM9IjAgNTAgNTA7MzYwIDUwIDUwIiBrZXlUaW1lcz0iMDsxIj48L2FuaW1hdGVUcmFuc2Zvcm0+ICA8L2NpcmNsZT48L3N2Zz4=\\\");\\n  background-size: auto calc(min(50%, 400px));\\n}\",{\"id\":\"p4095\"},{\"id\":\"p4093\"},{\"id\":\"p4094\"}],\"margin\":0,\"sizing_mode\":\"stretch_width\",\"align\":\"start\"}}]}}],\"defs\":[{\"type\":\"model\",\"name\":\"ReactiveHTML1\"},{\"type\":\"model\",\"name\":\"FlexBox1\",\"properties\":[{\"name\":\"align_content\",\"kind\":\"Any\",\"default\":\"flex-start\"},{\"name\":\"align_items\",\"kind\":\"Any\",\"default\":\"flex-start\"},{\"name\":\"flex_direction\",\"kind\":\"Any\",\"default\":\"row\"},{\"name\":\"flex_wrap\",\"kind\":\"Any\",\"default\":\"wrap\"},{\"name\":\"justify_content\",\"kind\":\"Any\",\"default\":\"flex-start\"}]},{\"type\":\"model\",\"name\":\"FloatPanel1\",\"properties\":[{\"name\":\"config\",\"kind\":\"Any\",\"default\":{\"type\":\"map\"}},{\"name\":\"contained\",\"kind\":\"Any\",\"default\":true},{\"name\":\"position\",\"kind\":\"Any\",\"default\":\"right-top\"},{\"name\":\"offsetx\",\"kind\":\"Any\",\"default\":null},{\"name\":\"offsety\",\"kind\":\"Any\",\"default\":null},{\"name\":\"theme\",\"kind\":\"Any\",\"default\":\"primary\"},{\"name\":\"status\",\"kind\":\"Any\",\"default\":\"normalized\"}]},{\"type\":\"model\",\"name\":\"GridStack1\",\"properties\":[{\"name\":\"mode\",\"kind\":\"Any\",\"default\":\"warn\"},{\"name\":\"ncols\",\"kind\":\"Any\",\"default\":null},{\"name\":\"nrows\",\"kind\":\"Any\",\"default\":null},{\"name\":\"allow_resize\",\"kind\":\"Any\",\"default\":true},{\"name\":\"allow_drag\",\"kind\":\"Any\",\"default\":true},{\"name\":\"state\",\"kind\":\"Any\",\"default\":[]}]},{\"type\":\"model\",\"name\":\"drag1\",\"properties\":[{\"name\":\"slider_width\",\"kind\":\"Any\",\"default\":5},{\"name\":\"slider_color\",\"kind\":\"Any\",\"default\":\"black\"},{\"name\":\"value\",\"kind\":\"Any\",\"default\":50}]},{\"type\":\"model\",\"name\":\"click1\",\"properties\":[{\"name\":\"terminal_output\",\"kind\":\"Any\",\"default\":\"\"},{\"name\":\"debug_name\",\"kind\":\"Any\",\"default\":\"\"},{\"name\":\"clears\",\"kind\":\"Any\",\"default\":0}]},{\"type\":\"model\",\"name\":\"copy_to_clipboard1\",\"properties\":[{\"name\":\"fill\",\"kind\":\"Any\",\"default\":\"none\"},{\"name\":\"value\",\"kind\":\"Any\",\"default\":null}]},{\"type\":\"model\",\"name\":\"FastWrapper1\",\"properties\":[{\"name\":\"object\",\"kind\":\"Any\",\"default\":null},{\"name\":\"style\",\"kind\":\"Any\",\"default\":null}]},{\"type\":\"model\",\"name\":\"NotificationAreaBase1\",\"properties\":[{\"name\":\"js_events\",\"kind\":\"Any\",\"default\":{\"type\":\"map\"}},{\"name\":\"position\",\"kind\":\"Any\",\"default\":\"bottom-right\"},{\"name\":\"_clear\",\"kind\":\"Any\",\"default\":0}]},{\"type\":\"model\",\"name\":\"NotificationArea1\",\"properties\":[{\"name\":\"js_events\",\"kind\":\"Any\",\"default\":{\"type\":\"map\"}},{\"name\":\"notifications\",\"kind\":\"Any\",\"default\":[]},{\"name\":\"position\",\"kind\":\"Any\",\"default\":\"bottom-right\"},{\"name\":\"_clear\",\"kind\":\"Any\",\"default\":0},{\"name\":\"types\",\"kind\":\"Any\",\"default\":[{\"type\":\"map\",\"entries\":[[\"type\",\"warning\"],[\"background\",\"#ffc107\"],[\"icon\",{\"type\":\"map\",\"entries\":[[\"className\",\"fas fa-exclamation-triangle\"],[\"tagName\",\"i\"],[\"color\",\"white\"]]}]]},{\"type\":\"map\",\"entries\":[[\"type\",\"info\"],[\"background\",\"#007bff\"],[\"icon\",{\"type\":\"map\",\"entries\":[[\"className\",\"fas fa-info-circle\"],[\"tagName\",\"i\"],[\"color\",\"white\"]]}]]}]}]},{\"type\":\"model\",\"name\":\"Notification\",\"properties\":[{\"name\":\"background\",\"kind\":\"Any\",\"default\":null},{\"name\":\"duration\",\"kind\":\"Any\",\"default\":3000},{\"name\":\"icon\",\"kind\":\"Any\",\"default\":null},{\"name\":\"message\",\"kind\":\"Any\",\"default\":\"\"},{\"name\":\"notification_type\",\"kind\":\"Any\",\"default\":null},{\"name\":\"_destroyed\",\"kind\":\"Any\",\"default\":false}]},{\"type\":\"model\",\"name\":\"TemplateActions1\",\"properties\":[{\"name\":\"open_modal\",\"kind\":\"Any\",\"default\":0},{\"name\":\"close_modal\",\"kind\":\"Any\",\"default\":0}]},{\"type\":\"model\",\"name\":\"BootstrapTemplateActions1\",\"properties\":[{\"name\":\"open_modal\",\"kind\":\"Any\",\"default\":0},{\"name\":\"close_modal\",\"kind\":\"Any\",\"default\":0}]},{\"type\":\"model\",\"name\":\"MaterialTemplateActions1\",\"properties\":[{\"name\":\"open_modal\",\"kind\":\"Any\",\"default\":0},{\"name\":\"close_modal\",\"kind\":\"Any\",\"default\":0}]}]}};\n",
       "  var render_items = [{\"docid\":\"420407c8-0427-417a-9619-881adda5e6d3\",\"roots\":{\"p4092\":\"c7614551-5849-4cb3-b6af-1d2fb5f9cf35\"},\"root_ids\":[\"p4092\"]}];\n",
       "  var docs = Object.values(docs_json)\n",
       "  if (!docs) {\n",
       "    return\n",
       "  }\n",
       "  const py_version = docs[0].version.replace('rc', '-rc.').replace('.dev', '-dev.')\n",
       "  function embed_document(root) {\n",
       "    var Bokeh = get_bokeh(root)\n",
       "    Bokeh.embed.embed_items_notebook(docs_json, render_items);\n",
       "    for (const render_item of render_items) {\n",
       "      for (const root_id of render_item.root_ids) {\n",
       "\tconst id_el = document.getElementById(root_id)\n",
       "\tif (id_el.children.length && (id_el.children[0].className === 'bk-root')) {\n",
       "\t  const root_el = id_el.children[0]\n",
       "\t  root_el.id = root_el.id + '-rendered'\n",
       "\t}\n",
       "      }\n",
       "    }\n",
       "  }\n",
       "  function get_bokeh(root) {\n",
       "    if (root.Bokeh === undefined) {\n",
       "      return null\n",
       "    } else if (root.Bokeh.version !== py_version) {\n",
       "      if (root.Bokeh.versions === undefined || !root.Bokeh.versions.has(py_version)) {\n",
       "\treturn null\n",
       "      }\n",
       "      return root.Bokeh.versions.get(py_version);\n",
       "    } else if (root.Bokeh.version === py_version) {\n",
       "      return root.Bokeh\n",
       "    }\n",
       "    return null\n",
       "  }\n",
       "  function is_loaded(root) {\n",
       "    var Bokeh = get_bokeh(root)\n",
       "    return (Bokeh != null && Bokeh.Panel !== undefined)\n",
       "  }\n",
       "  if (is_loaded(root)) {\n",
       "    embed_document(root);\n",
       "  } else {\n",
       "    var attempts = 0;\n",
       "    var timer = setInterval(function(root) {\n",
       "      if (is_loaded(root)) {\n",
       "        clearInterval(timer);\n",
       "        embed_document(root);\n",
       "      } else if (document.readyState == \"complete\") {\n",
       "        attempts++;\n",
       "        if (attempts > 200) {\n",
       "          clearInterval(timer);\n",
       "\t  var Bokeh = get_bokeh(root)\n",
       "\t  if (Bokeh == null || Bokeh.Panel == null) {\n",
       "            console.warn(\"Panel: ERROR: Unable to run Panel code because Bokeh or Panel library is missing\");\n",
       "\t  } else {\n",
       "\t    console.warn(\"Panel: WARNING: Attempting to render but not all required libraries could be resolved.\")\n",
       "\t    embed_document(root)\n",
       "\t  }\n",
       "        }\n",
       "      }\n",
       "    }, 25, root)\n",
       "  }\n",
       "})(window);</script>"
      ],
      "text/plain": [
       ":NdOverlay   [Gender_F]\n",
       "   :Scatter   [AnnualReturn]   (AnnualVariance,Ticker)"
      ]
     },
     "execution_count": 218,
     "metadata": {
      "application/vnd.holoviews_exec.v0+json": {
       "id": "p4092"
      }
     },
     "output_type": "execute_result"
    }
   ],
   "source": [
    "# Create a scatter plot - Annual Return vs Annual Variance - Color by CEO Gender\n",
    "sp500_clustering_df.hvplot.scatter(\n",
    "    x=\"AnnualReturn\",\n",
    "    y=\"AnnualVariance\",\n",
    "    by=\"Gender_F\",\n",
    "    hover_cols = [\"Ticker\"], \n",
    "    title = \"Scatter Plot by Stock Segment\"\n",
    ")"
   ]
  },
  {
   "cell_type": "code",
   "execution_count": null,
   "id": "ff74b2ae",
   "metadata": {},
   "outputs": [],
   "source": []
  }
 ],
 "metadata": {
  "kernelspec": {
   "display_name": "Python [conda env:dev]",
   "language": "python",
   "name": "conda-env-dev-py"
  },
  "language_info": {
   "codemirror_mode": {
    "name": "ipython",
    "version": 3
   },
   "file_extension": ".py",
   "mimetype": "text/x-python",
   "name": "python",
   "nbconvert_exporter": "python",
   "pygments_lexer": "ipython3",
   "version": "3.10.13"
  }
 },
 "nbformat": 4,
 "nbformat_minor": 5
}
