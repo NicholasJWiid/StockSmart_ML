{
 "cells": [
  {
   "cell_type": "code",
   "execution_count": 149,
   "id": "520d5ff3",
   "metadata": {},
   "outputs": [],
   "source": [
    "# Import dependencies\n",
    "import pandas as pd\n",
    "import yfinance as yf\n",
    "from datetime import datetime, timedelta\n",
    "from dateutil.relativedelta import relativedelta"
   ]
  },
  {
   "cell_type": "code",
   "execution_count": 150,
   "id": "433047f0",
   "metadata": {},
   "outputs": [
    {
     "data": {
      "text/html": [
       "<div>\n",
       "<style scoped>\n",
       "    .dataframe tbody tr th:only-of-type {\n",
       "        vertical-align: middle;\n",
       "    }\n",
       "\n",
       "    .dataframe tbody tr th {\n",
       "        vertical-align: top;\n",
       "    }\n",
       "\n",
       "    .dataframe thead th {\n",
       "        text-align: right;\n",
       "    }\n",
       "</style>\n",
       "<table border=\"1\" class=\"dataframe\">\n",
       "  <thead>\n",
       "    <tr style=\"text-align: right;\">\n",
       "      <th></th>\n",
       "      <th>Ticker</th>\n",
       "      <th>Year</th>\n",
       "      <th>GICS Sector</th>\n",
       "      <th>GICS Sub-Industry</th>\n",
       "      <th>Headquarters Location</th>\n",
       "      <th>Date Added</th>\n",
       "      <th>Founded</th>\n",
       "      <th>CEO Name</th>\n",
       "      <th>Gender</th>\n",
       "      <th>Salary</th>\n",
       "      <th>Date</th>\n",
       "      <th>CEO Transition</th>\n",
       "      <th>Tenure Bucket</th>\n",
       "    </tr>\n",
       "  </thead>\n",
       "  <tbody>\n",
       "    <tr>\n",
       "      <th>0</th>\n",
       "      <td>A</td>\n",
       "      <td>2015</td>\n",
       "      <td>Health Care</td>\n",
       "      <td>Life Sciences Tools &amp; Services</td>\n",
       "      <td>Santa Clara, California</td>\n",
       "      <td>6/5/00</td>\n",
       "      <td>1999</td>\n",
       "      <td>Michael McMullen</td>\n",
       "      <td>M</td>\n",
       "      <td>$16,647,413</td>\n",
       "      <td>3/18/15</td>\n",
       "      <td>1</td>\n",
       "      <td>&lt;= 2 years</td>\n",
       "    </tr>\n",
       "    <tr>\n",
       "      <th>1</th>\n",
       "      <td>A</td>\n",
       "      <td>2016</td>\n",
       "      <td>Health Care</td>\n",
       "      <td>Life Sciences Tools &amp; Services</td>\n",
       "      <td>Santa Clara, California</td>\n",
       "      <td>6/5/00</td>\n",
       "      <td>1999</td>\n",
       "      <td>Michael McMullen</td>\n",
       "      <td>M</td>\n",
       "      <td>$16,647,413</td>\n",
       "      <td>3/18/15</td>\n",
       "      <td>0</td>\n",
       "      <td>&lt;= 2 years</td>\n",
       "    </tr>\n",
       "    <tr>\n",
       "      <th>2</th>\n",
       "      <td>A</td>\n",
       "      <td>2017</td>\n",
       "      <td>Health Care</td>\n",
       "      <td>Life Sciences Tools &amp; Services</td>\n",
       "      <td>Santa Clara, California</td>\n",
       "      <td>6/5/00</td>\n",
       "      <td>1999</td>\n",
       "      <td>Michael McMullen</td>\n",
       "      <td>M</td>\n",
       "      <td>$16,647,413</td>\n",
       "      <td>3/18/15</td>\n",
       "      <td>0</td>\n",
       "      <td>&lt;= 2 years</td>\n",
       "    </tr>\n",
       "    <tr>\n",
       "      <th>3</th>\n",
       "      <td>A</td>\n",
       "      <td>2018</td>\n",
       "      <td>Health Care</td>\n",
       "      <td>Life Sciences Tools &amp; Services</td>\n",
       "      <td>Santa Clara, California</td>\n",
       "      <td>6/5/00</td>\n",
       "      <td>1999</td>\n",
       "      <td>Michael McMullen</td>\n",
       "      <td>M</td>\n",
       "      <td>$16,647,413</td>\n",
       "      <td>3/18/15</td>\n",
       "      <td>0</td>\n",
       "      <td>2 to 5 years</td>\n",
       "    </tr>\n",
       "    <tr>\n",
       "      <th>4</th>\n",
       "      <td>A</td>\n",
       "      <td>2019</td>\n",
       "      <td>Health Care</td>\n",
       "      <td>Life Sciences Tools &amp; Services</td>\n",
       "      <td>Santa Clara, California</td>\n",
       "      <td>6/5/00</td>\n",
       "      <td>1999</td>\n",
       "      <td>Michael McMullen</td>\n",
       "      <td>M</td>\n",
       "      <td>$16,647,413</td>\n",
       "      <td>3/18/15</td>\n",
       "      <td>0</td>\n",
       "      <td>2 to 5 years</td>\n",
       "    </tr>\n",
       "  </tbody>\n",
       "</table>\n",
       "</div>"
      ],
      "text/plain": [
       "  Ticker  Year  GICS Sector               GICS Sub-Industry  \\\n",
       "0      A  2015  Health Care  Life Sciences Tools & Services   \n",
       "1      A  2016  Health Care  Life Sciences Tools & Services   \n",
       "2      A  2017  Health Care  Life Sciences Tools & Services   \n",
       "3      A  2018  Health Care  Life Sciences Tools & Services   \n",
       "4      A  2019  Health Care  Life Sciences Tools & Services   \n",
       "\n",
       "     Headquarters Location Date Added Founded          CEO Name Gender  \\\n",
       "0  Santa Clara, California     6/5/00    1999  Michael McMullen      M   \n",
       "1  Santa Clara, California     6/5/00    1999  Michael McMullen      M   \n",
       "2  Santa Clara, California     6/5/00    1999  Michael McMullen      M   \n",
       "3  Santa Clara, California     6/5/00    1999  Michael McMullen      M   \n",
       "4  Santa Clara, California     6/5/00    1999  Michael McMullen      M   \n",
       "\n",
       "         Salary     Date  CEO Transition Tenure Bucket  \n",
       "0  $16,647,413   3/18/15               1    <= 2 years  \n",
       "1  $16,647,413   3/18/15               0    <= 2 years  \n",
       "2  $16,647,413   3/18/15               0    <= 2 years  \n",
       "3  $16,647,413   3/18/15               0  2 to 5 years  \n",
       "4  $16,647,413   3/18/15               0  2 to 5 years  "
      ]
     },
     "execution_count": 150,
     "metadata": {},
     "output_type": "execute_result"
    }
   ],
   "source": [
    "company_df = pd.read_csv('data/Company_expanded.csv')\n",
    "company_df.head()"
   ]
  },
  {
   "cell_type": "code",
   "execution_count": 151,
   "id": "e6dd77ac",
   "metadata": {},
   "outputs": [
    {
     "name": "stdout",
     "output_type": "stream",
     "text": [
      "<class 'pandas.core.frame.DataFrame'>\n",
      "RangeIndex: 4367 entries, 0 to 4366\n",
      "Data columns (total 13 columns):\n",
      " #   Column                 Non-Null Count  Dtype \n",
      "---  ------                 --------------  ----- \n",
      " 0   Ticker                 4367 non-null   object\n",
      " 1   Year                   4367 non-null   int64 \n",
      " 2   GICS Sector            4367 non-null   object\n",
      " 3   GICS Sub-Industry      4367 non-null   object\n",
      " 4   Headquarters Location  4367 non-null   object\n",
      " 5   Date Added             4367 non-null   object\n",
      " 6   Founded                4367 non-null   object\n",
      " 7   CEO Name               4362 non-null   object\n",
      " 8   Gender                 4367 non-null   object\n",
      " 9   Salary                 4367 non-null   object\n",
      " 10  Date                   4361 non-null   object\n",
      " 11  CEO Transition         4367 non-null   int64 \n",
      " 12  Tenure Bucket          4367 non-null   object\n",
      "dtypes: int64(2), object(11)\n",
      "memory usage: 443.6+ KB\n"
     ]
    }
   ],
   "source": [
    "company_df.info()"
   ]
  },
  {
   "cell_type": "code",
   "execution_count": 152,
   "id": "c8de9282",
   "metadata": {},
   "outputs": [
    {
     "data": {
      "text/plain": [
       "Index(['Ticker', 'Year', 'GICS Sector', 'GICS Sub-Industry',\n",
       "       'Headquarters Location', 'Date Added', 'Founded', 'CEO Name', 'Gender',\n",
       "       'Salary', 'Date', 'CEO Transition', 'Tenure Bucket'],\n",
       "      dtype='object')"
      ]
     },
     "execution_count": 152,
     "metadata": {},
     "output_type": "execute_result"
    }
   ],
   "source": [
    "company_df.columns"
   ]
  },
  {
   "cell_type": "code",
   "execution_count": 153,
   "id": "f4d41819",
   "metadata": {},
   "outputs": [],
   "source": [
    "company_df['HQ_US_State_or_Country'] = company_df.apply(lambda row: row['Headquarters Location'].split(\",\")[1].strip(), axis=1)"
   ]
  },
  {
   "cell_type": "code",
   "execution_count": 154,
   "id": "bdf1f6ae",
   "metadata": {},
   "outputs": [
    {
     "data": {
      "text/html": [
       "<div>\n",
       "<style scoped>\n",
       "    .dataframe tbody tr th:only-of-type {\n",
       "        vertical-align: middle;\n",
       "    }\n",
       "\n",
       "    .dataframe tbody tr th {\n",
       "        vertical-align: top;\n",
       "    }\n",
       "\n",
       "    .dataframe thead th {\n",
       "        text-align: right;\n",
       "    }\n",
       "</style>\n",
       "<table border=\"1\" class=\"dataframe\">\n",
       "  <thead>\n",
       "    <tr style=\"text-align: right;\">\n",
       "      <th></th>\n",
       "      <th>Ticker</th>\n",
       "      <th>Year</th>\n",
       "      <th>GICS Sector</th>\n",
       "      <th>GICS Sub-Industry</th>\n",
       "      <th>Headquarters Location</th>\n",
       "      <th>Date Added</th>\n",
       "      <th>Founded</th>\n",
       "      <th>CEO Name</th>\n",
       "      <th>Gender</th>\n",
       "      <th>Salary</th>\n",
       "      <th>Date</th>\n",
       "      <th>CEO Transition</th>\n",
       "      <th>Tenure Bucket</th>\n",
       "      <th>HQ_US_State_or_Country</th>\n",
       "    </tr>\n",
       "  </thead>\n",
       "  <tbody>\n",
       "    <tr>\n",
       "      <th>0</th>\n",
       "      <td>A</td>\n",
       "      <td>2015</td>\n",
       "      <td>Health Care</td>\n",
       "      <td>Life Sciences Tools &amp; Services</td>\n",
       "      <td>Santa Clara, California</td>\n",
       "      <td>6/5/00</td>\n",
       "      <td>1999</td>\n",
       "      <td>Michael McMullen</td>\n",
       "      <td>M</td>\n",
       "      <td>16647413</td>\n",
       "      <td>3/18/15</td>\n",
       "      <td>1</td>\n",
       "      <td>&lt;= 2 years</td>\n",
       "      <td>California</td>\n",
       "    </tr>\n",
       "    <tr>\n",
       "      <th>1</th>\n",
       "      <td>A</td>\n",
       "      <td>2016</td>\n",
       "      <td>Health Care</td>\n",
       "      <td>Life Sciences Tools &amp; Services</td>\n",
       "      <td>Santa Clara, California</td>\n",
       "      <td>6/5/00</td>\n",
       "      <td>1999</td>\n",
       "      <td>Michael McMullen</td>\n",
       "      <td>M</td>\n",
       "      <td>16647413</td>\n",
       "      <td>3/18/15</td>\n",
       "      <td>0</td>\n",
       "      <td>&lt;= 2 years</td>\n",
       "      <td>California</td>\n",
       "    </tr>\n",
       "    <tr>\n",
       "      <th>2</th>\n",
       "      <td>A</td>\n",
       "      <td>2017</td>\n",
       "      <td>Health Care</td>\n",
       "      <td>Life Sciences Tools &amp; Services</td>\n",
       "      <td>Santa Clara, California</td>\n",
       "      <td>6/5/00</td>\n",
       "      <td>1999</td>\n",
       "      <td>Michael McMullen</td>\n",
       "      <td>M</td>\n",
       "      <td>16647413</td>\n",
       "      <td>3/18/15</td>\n",
       "      <td>0</td>\n",
       "      <td>&lt;= 2 years</td>\n",
       "      <td>California</td>\n",
       "    </tr>\n",
       "    <tr>\n",
       "      <th>3</th>\n",
       "      <td>A</td>\n",
       "      <td>2018</td>\n",
       "      <td>Health Care</td>\n",
       "      <td>Life Sciences Tools &amp; Services</td>\n",
       "      <td>Santa Clara, California</td>\n",
       "      <td>6/5/00</td>\n",
       "      <td>1999</td>\n",
       "      <td>Michael McMullen</td>\n",
       "      <td>M</td>\n",
       "      <td>16647413</td>\n",
       "      <td>3/18/15</td>\n",
       "      <td>0</td>\n",
       "      <td>2 to 5 years</td>\n",
       "      <td>California</td>\n",
       "    </tr>\n",
       "    <tr>\n",
       "      <th>4</th>\n",
       "      <td>A</td>\n",
       "      <td>2019</td>\n",
       "      <td>Health Care</td>\n",
       "      <td>Life Sciences Tools &amp; Services</td>\n",
       "      <td>Santa Clara, California</td>\n",
       "      <td>6/5/00</td>\n",
       "      <td>1999</td>\n",
       "      <td>Michael McMullen</td>\n",
       "      <td>M</td>\n",
       "      <td>16647413</td>\n",
       "      <td>3/18/15</td>\n",
       "      <td>0</td>\n",
       "      <td>2 to 5 years</td>\n",
       "      <td>California</td>\n",
       "    </tr>\n",
       "    <tr>\n",
       "      <th>...</th>\n",
       "      <td>...</td>\n",
       "      <td>...</td>\n",
       "      <td>...</td>\n",
       "      <td>...</td>\n",
       "      <td>...</td>\n",
       "      <td>...</td>\n",
       "      <td>...</td>\n",
       "      <td>...</td>\n",
       "      <td>...</td>\n",
       "      <td>...</td>\n",
       "      <td>...</td>\n",
       "      <td>...</td>\n",
       "      <td>...</td>\n",
       "      <td>...</td>\n",
       "    </tr>\n",
       "    <tr>\n",
       "      <th>4362</th>\n",
       "      <td>ZTS</td>\n",
       "      <td>2019</td>\n",
       "      <td>Health Care</td>\n",
       "      <td>Pharmaceuticals</td>\n",
       "      <td>Parsippany, New Jersey</td>\n",
       "      <td>6/21/13</td>\n",
       "      <td>1952</td>\n",
       "      <td>Juan Alaix</td>\n",
       "      <td>M</td>\n",
       "      <td>15237853</td>\n",
       "      <td>1/1/20</td>\n",
       "      <td>0</td>\n",
       "      <td>&lt;= 2 years</td>\n",
       "      <td>New Jersey</td>\n",
       "    </tr>\n",
       "    <tr>\n",
       "      <th>4363</th>\n",
       "      <td>ZTS</td>\n",
       "      <td>2020</td>\n",
       "      <td>Health Care</td>\n",
       "      <td>Pharmaceuticals</td>\n",
       "      <td>Parsippany, New Jersey</td>\n",
       "      <td>6/21/13</td>\n",
       "      <td>1952</td>\n",
       "      <td>Kristin C. Peck</td>\n",
       "      <td>F</td>\n",
       "      <td>15237853</td>\n",
       "      <td>1/1/20</td>\n",
       "      <td>1</td>\n",
       "      <td>&lt;= 2 years</td>\n",
       "      <td>New Jersey</td>\n",
       "    </tr>\n",
       "    <tr>\n",
       "      <th>4364</th>\n",
       "      <td>ZTS</td>\n",
       "      <td>2021</td>\n",
       "      <td>Health Care</td>\n",
       "      <td>Pharmaceuticals</td>\n",
       "      <td>Parsippany, New Jersey</td>\n",
       "      <td>6/21/13</td>\n",
       "      <td>1952</td>\n",
       "      <td>Kristin C. Peck</td>\n",
       "      <td>F</td>\n",
       "      <td>15237853</td>\n",
       "      <td>1/1/20</td>\n",
       "      <td>0</td>\n",
       "      <td>&lt;= 2 years</td>\n",
       "      <td>New Jersey</td>\n",
       "    </tr>\n",
       "    <tr>\n",
       "      <th>4365</th>\n",
       "      <td>ZTS</td>\n",
       "      <td>2022</td>\n",
       "      <td>Health Care</td>\n",
       "      <td>Pharmaceuticals</td>\n",
       "      <td>Parsippany, New Jersey</td>\n",
       "      <td>6/21/13</td>\n",
       "      <td>1952</td>\n",
       "      <td>Kristin C. Peck</td>\n",
       "      <td>F</td>\n",
       "      <td>15237853</td>\n",
       "      <td>1/1/20</td>\n",
       "      <td>0</td>\n",
       "      <td>&lt;= 2 years</td>\n",
       "      <td>New Jersey</td>\n",
       "    </tr>\n",
       "    <tr>\n",
       "      <th>4366</th>\n",
       "      <td>ZTS</td>\n",
       "      <td>2023</td>\n",
       "      <td>Health Care</td>\n",
       "      <td>Pharmaceuticals</td>\n",
       "      <td>Parsippany, New Jersey</td>\n",
       "      <td>6/21/13</td>\n",
       "      <td>1952</td>\n",
       "      <td>Kristin C. Peck</td>\n",
       "      <td>F</td>\n",
       "      <td>15237853</td>\n",
       "      <td>1/1/20</td>\n",
       "      <td>0</td>\n",
       "      <td>2 to 5 years</td>\n",
       "      <td>New Jersey</td>\n",
       "    </tr>\n",
       "  </tbody>\n",
       "</table>\n",
       "<p>4367 rows × 14 columns</p>\n",
       "</div>"
      ],
      "text/plain": [
       "     Ticker  Year  GICS Sector               GICS Sub-Industry  \\\n",
       "0         A  2015  Health Care  Life Sciences Tools & Services   \n",
       "1         A  2016  Health Care  Life Sciences Tools & Services   \n",
       "2         A  2017  Health Care  Life Sciences Tools & Services   \n",
       "3         A  2018  Health Care  Life Sciences Tools & Services   \n",
       "4         A  2019  Health Care  Life Sciences Tools & Services   \n",
       "...     ...   ...          ...                             ...   \n",
       "4362    ZTS  2019  Health Care                 Pharmaceuticals   \n",
       "4363    ZTS  2020  Health Care                 Pharmaceuticals   \n",
       "4364    ZTS  2021  Health Care                 Pharmaceuticals   \n",
       "4365    ZTS  2022  Health Care                 Pharmaceuticals   \n",
       "4366    ZTS  2023  Health Care                 Pharmaceuticals   \n",
       "\n",
       "        Headquarters Location Date Added Founded          CEO Name Gender  \\\n",
       "0     Santa Clara, California     6/5/00    1999  Michael McMullen      M   \n",
       "1     Santa Clara, California     6/5/00    1999  Michael McMullen      M   \n",
       "2     Santa Clara, California     6/5/00    1999  Michael McMullen      M   \n",
       "3     Santa Clara, California     6/5/00    1999  Michael McMullen      M   \n",
       "4     Santa Clara, California     6/5/00    1999  Michael McMullen      M   \n",
       "...                       ...        ...     ...               ...    ...   \n",
       "4362   Parsippany, New Jersey    6/21/13    1952        Juan Alaix      M   \n",
       "4363   Parsippany, New Jersey    6/21/13    1952   Kristin C. Peck      F   \n",
       "4364   Parsippany, New Jersey    6/21/13    1952   Kristin C. Peck      F   \n",
       "4365   Parsippany, New Jersey    6/21/13    1952   Kristin C. Peck      F   \n",
       "4366   Parsippany, New Jersey    6/21/13    1952   Kristin C. Peck      F   \n",
       "\n",
       "        Salary     Date  CEO Transition Tenure Bucket HQ_US_State_or_Country  \n",
       "0     16647413  3/18/15               1    <= 2 years             California  \n",
       "1     16647413  3/18/15               0    <= 2 years             California  \n",
       "2     16647413  3/18/15               0    <= 2 years             California  \n",
       "3     16647413  3/18/15               0  2 to 5 years             California  \n",
       "4     16647413  3/18/15               0  2 to 5 years             California  \n",
       "...        ...      ...             ...           ...                    ...  \n",
       "4362  15237853   1/1/20               0    <= 2 years             New Jersey  \n",
       "4363  15237853   1/1/20               1    <= 2 years             New Jersey  \n",
       "4364  15237853   1/1/20               0    <= 2 years             New Jersey  \n",
       "4365  15237853   1/1/20               0    <= 2 years             New Jersey  \n",
       "4366  15237853   1/1/20               0  2 to 5 years             New Jersey  \n",
       "\n",
       "[4367 rows x 14 columns]"
      ]
     },
     "execution_count": 154,
     "metadata": {},
     "output_type": "execute_result"
    }
   ],
   "source": [
    "company_df['Salary'] = company_df['Salary'].replace('[\\$,]', '', regex=True).astype(float).astype(int)\n",
    "company_df"
   ]
  },
  {
   "cell_type": "code",
   "execution_count": 155,
   "id": "2d021a4a",
   "metadata": {},
   "outputs": [
    {
     "data": {
      "text/html": [
       "<div>\n",
       "<style scoped>\n",
       "    .dataframe tbody tr th:only-of-type {\n",
       "        vertical-align: middle;\n",
       "    }\n",
       "\n",
       "    .dataframe tbody tr th {\n",
       "        vertical-align: top;\n",
       "    }\n",
       "\n",
       "    .dataframe thead th {\n",
       "        text-align: right;\n",
       "    }\n",
       "</style>\n",
       "<table border=\"1\" class=\"dataframe\">\n",
       "  <thead>\n",
       "    <tr style=\"text-align: right;\">\n",
       "      <th></th>\n",
       "      <th>Ticker</th>\n",
       "      <th>Year</th>\n",
       "      <th>GICS Sector</th>\n",
       "      <th>GICS Sub-Industry</th>\n",
       "      <th>Headquarters Location</th>\n",
       "      <th>Date Added</th>\n",
       "      <th>Founded</th>\n",
       "      <th>CEO Name</th>\n",
       "      <th>Gender</th>\n",
       "      <th>Salary</th>\n",
       "      <th>Date</th>\n",
       "      <th>CEO Transition</th>\n",
       "      <th>Tenure Bucket</th>\n",
       "      <th>HQ_US_State_or_Country</th>\n",
       "      <th>Salary_Bucket</th>\n",
       "    </tr>\n",
       "  </thead>\n",
       "  <tbody>\n",
       "    <tr>\n",
       "      <th>0</th>\n",
       "      <td>A</td>\n",
       "      <td>2015</td>\n",
       "      <td>Health Care</td>\n",
       "      <td>Life Sciences Tools &amp; Services</td>\n",
       "      <td>Santa Clara, California</td>\n",
       "      <td>6/5/00</td>\n",
       "      <td>1999</td>\n",
       "      <td>Michael McMullen</td>\n",
       "      <td>M</td>\n",
       "      <td>16647413</td>\n",
       "      <td>3/18/15</td>\n",
       "      <td>1</td>\n",
       "      <td>&lt;= 2 years</td>\n",
       "      <td>California</td>\n",
       "      <td>(15000000, 20000000]</td>\n",
       "    </tr>\n",
       "    <tr>\n",
       "      <th>1</th>\n",
       "      <td>A</td>\n",
       "      <td>2016</td>\n",
       "      <td>Health Care</td>\n",
       "      <td>Life Sciences Tools &amp; Services</td>\n",
       "      <td>Santa Clara, California</td>\n",
       "      <td>6/5/00</td>\n",
       "      <td>1999</td>\n",
       "      <td>Michael McMullen</td>\n",
       "      <td>M</td>\n",
       "      <td>16647413</td>\n",
       "      <td>3/18/15</td>\n",
       "      <td>0</td>\n",
       "      <td>&lt;= 2 years</td>\n",
       "      <td>California</td>\n",
       "      <td>(15000000, 20000000]</td>\n",
       "    </tr>\n",
       "    <tr>\n",
       "      <th>2</th>\n",
       "      <td>A</td>\n",
       "      <td>2017</td>\n",
       "      <td>Health Care</td>\n",
       "      <td>Life Sciences Tools &amp; Services</td>\n",
       "      <td>Santa Clara, California</td>\n",
       "      <td>6/5/00</td>\n",
       "      <td>1999</td>\n",
       "      <td>Michael McMullen</td>\n",
       "      <td>M</td>\n",
       "      <td>16647413</td>\n",
       "      <td>3/18/15</td>\n",
       "      <td>0</td>\n",
       "      <td>&lt;= 2 years</td>\n",
       "      <td>California</td>\n",
       "      <td>(15000000, 20000000]</td>\n",
       "    </tr>\n",
       "    <tr>\n",
       "      <th>3</th>\n",
       "      <td>A</td>\n",
       "      <td>2018</td>\n",
       "      <td>Health Care</td>\n",
       "      <td>Life Sciences Tools &amp; Services</td>\n",
       "      <td>Santa Clara, California</td>\n",
       "      <td>6/5/00</td>\n",
       "      <td>1999</td>\n",
       "      <td>Michael McMullen</td>\n",
       "      <td>M</td>\n",
       "      <td>16647413</td>\n",
       "      <td>3/18/15</td>\n",
       "      <td>0</td>\n",
       "      <td>2 to 5 years</td>\n",
       "      <td>California</td>\n",
       "      <td>(15000000, 20000000]</td>\n",
       "    </tr>\n",
       "    <tr>\n",
       "      <th>4</th>\n",
       "      <td>A</td>\n",
       "      <td>2019</td>\n",
       "      <td>Health Care</td>\n",
       "      <td>Life Sciences Tools &amp; Services</td>\n",
       "      <td>Santa Clara, California</td>\n",
       "      <td>6/5/00</td>\n",
       "      <td>1999</td>\n",
       "      <td>Michael McMullen</td>\n",
       "      <td>M</td>\n",
       "      <td>16647413</td>\n",
       "      <td>3/18/15</td>\n",
       "      <td>0</td>\n",
       "      <td>2 to 5 years</td>\n",
       "      <td>California</td>\n",
       "      <td>(15000000, 20000000]</td>\n",
       "    </tr>\n",
       "    <tr>\n",
       "      <th>...</th>\n",
       "      <td>...</td>\n",
       "      <td>...</td>\n",
       "      <td>...</td>\n",
       "      <td>...</td>\n",
       "      <td>...</td>\n",
       "      <td>...</td>\n",
       "      <td>...</td>\n",
       "      <td>...</td>\n",
       "      <td>...</td>\n",
       "      <td>...</td>\n",
       "      <td>...</td>\n",
       "      <td>...</td>\n",
       "      <td>...</td>\n",
       "      <td>...</td>\n",
       "      <td>...</td>\n",
       "    </tr>\n",
       "    <tr>\n",
       "      <th>4362</th>\n",
       "      <td>ZTS</td>\n",
       "      <td>2019</td>\n",
       "      <td>Health Care</td>\n",
       "      <td>Pharmaceuticals</td>\n",
       "      <td>Parsippany, New Jersey</td>\n",
       "      <td>6/21/13</td>\n",
       "      <td>1952</td>\n",
       "      <td>Juan Alaix</td>\n",
       "      <td>M</td>\n",
       "      <td>15237853</td>\n",
       "      <td>1/1/20</td>\n",
       "      <td>0</td>\n",
       "      <td>&lt;= 2 years</td>\n",
       "      <td>New Jersey</td>\n",
       "      <td>(15000000, 20000000]</td>\n",
       "    </tr>\n",
       "    <tr>\n",
       "      <th>4363</th>\n",
       "      <td>ZTS</td>\n",
       "      <td>2020</td>\n",
       "      <td>Health Care</td>\n",
       "      <td>Pharmaceuticals</td>\n",
       "      <td>Parsippany, New Jersey</td>\n",
       "      <td>6/21/13</td>\n",
       "      <td>1952</td>\n",
       "      <td>Kristin C. Peck</td>\n",
       "      <td>F</td>\n",
       "      <td>15237853</td>\n",
       "      <td>1/1/20</td>\n",
       "      <td>1</td>\n",
       "      <td>&lt;= 2 years</td>\n",
       "      <td>New Jersey</td>\n",
       "      <td>(15000000, 20000000]</td>\n",
       "    </tr>\n",
       "    <tr>\n",
       "      <th>4364</th>\n",
       "      <td>ZTS</td>\n",
       "      <td>2021</td>\n",
       "      <td>Health Care</td>\n",
       "      <td>Pharmaceuticals</td>\n",
       "      <td>Parsippany, New Jersey</td>\n",
       "      <td>6/21/13</td>\n",
       "      <td>1952</td>\n",
       "      <td>Kristin C. Peck</td>\n",
       "      <td>F</td>\n",
       "      <td>15237853</td>\n",
       "      <td>1/1/20</td>\n",
       "      <td>0</td>\n",
       "      <td>&lt;= 2 years</td>\n",
       "      <td>New Jersey</td>\n",
       "      <td>(15000000, 20000000]</td>\n",
       "    </tr>\n",
       "    <tr>\n",
       "      <th>4365</th>\n",
       "      <td>ZTS</td>\n",
       "      <td>2022</td>\n",
       "      <td>Health Care</td>\n",
       "      <td>Pharmaceuticals</td>\n",
       "      <td>Parsippany, New Jersey</td>\n",
       "      <td>6/21/13</td>\n",
       "      <td>1952</td>\n",
       "      <td>Kristin C. Peck</td>\n",
       "      <td>F</td>\n",
       "      <td>15237853</td>\n",
       "      <td>1/1/20</td>\n",
       "      <td>0</td>\n",
       "      <td>&lt;= 2 years</td>\n",
       "      <td>New Jersey</td>\n",
       "      <td>(15000000, 20000000]</td>\n",
       "    </tr>\n",
       "    <tr>\n",
       "      <th>4366</th>\n",
       "      <td>ZTS</td>\n",
       "      <td>2023</td>\n",
       "      <td>Health Care</td>\n",
       "      <td>Pharmaceuticals</td>\n",
       "      <td>Parsippany, New Jersey</td>\n",
       "      <td>6/21/13</td>\n",
       "      <td>1952</td>\n",
       "      <td>Kristin C. Peck</td>\n",
       "      <td>F</td>\n",
       "      <td>15237853</td>\n",
       "      <td>1/1/20</td>\n",
       "      <td>0</td>\n",
       "      <td>2 to 5 years</td>\n",
       "      <td>New Jersey</td>\n",
       "      <td>(15000000, 20000000]</td>\n",
       "    </tr>\n",
       "  </tbody>\n",
       "</table>\n",
       "<p>4367 rows × 15 columns</p>\n",
       "</div>"
      ],
      "text/plain": [
       "     Ticker  Year  GICS Sector               GICS Sub-Industry  \\\n",
       "0         A  2015  Health Care  Life Sciences Tools & Services   \n",
       "1         A  2016  Health Care  Life Sciences Tools & Services   \n",
       "2         A  2017  Health Care  Life Sciences Tools & Services   \n",
       "3         A  2018  Health Care  Life Sciences Tools & Services   \n",
       "4         A  2019  Health Care  Life Sciences Tools & Services   \n",
       "...     ...   ...          ...                             ...   \n",
       "4362    ZTS  2019  Health Care                 Pharmaceuticals   \n",
       "4363    ZTS  2020  Health Care                 Pharmaceuticals   \n",
       "4364    ZTS  2021  Health Care                 Pharmaceuticals   \n",
       "4365    ZTS  2022  Health Care                 Pharmaceuticals   \n",
       "4366    ZTS  2023  Health Care                 Pharmaceuticals   \n",
       "\n",
       "        Headquarters Location Date Added Founded          CEO Name Gender  \\\n",
       "0     Santa Clara, California     6/5/00    1999  Michael McMullen      M   \n",
       "1     Santa Clara, California     6/5/00    1999  Michael McMullen      M   \n",
       "2     Santa Clara, California     6/5/00    1999  Michael McMullen      M   \n",
       "3     Santa Clara, California     6/5/00    1999  Michael McMullen      M   \n",
       "4     Santa Clara, California     6/5/00    1999  Michael McMullen      M   \n",
       "...                       ...        ...     ...               ...    ...   \n",
       "4362   Parsippany, New Jersey    6/21/13    1952        Juan Alaix      M   \n",
       "4363   Parsippany, New Jersey    6/21/13    1952   Kristin C. Peck      F   \n",
       "4364   Parsippany, New Jersey    6/21/13    1952   Kristin C. Peck      F   \n",
       "4365   Parsippany, New Jersey    6/21/13    1952   Kristin C. Peck      F   \n",
       "4366   Parsippany, New Jersey    6/21/13    1952   Kristin C. Peck      F   \n",
       "\n",
       "        Salary     Date  CEO Transition Tenure Bucket HQ_US_State_or_Country  \\\n",
       "0     16647413  3/18/15               1    <= 2 years             California   \n",
       "1     16647413  3/18/15               0    <= 2 years             California   \n",
       "2     16647413  3/18/15               0    <= 2 years             California   \n",
       "3     16647413  3/18/15               0  2 to 5 years             California   \n",
       "4     16647413  3/18/15               0  2 to 5 years             California   \n",
       "...        ...      ...             ...           ...                    ...   \n",
       "4362  15237853   1/1/20               0    <= 2 years             New Jersey   \n",
       "4363  15237853   1/1/20               1    <= 2 years             New Jersey   \n",
       "4364  15237853   1/1/20               0    <= 2 years             New Jersey   \n",
       "4365  15237853   1/1/20               0    <= 2 years             New Jersey   \n",
       "4366  15237853   1/1/20               0  2 to 5 years             New Jersey   \n",
       "\n",
       "             Salary_Bucket  \n",
       "0     (15000000, 20000000]  \n",
       "1     (15000000, 20000000]  \n",
       "2     (15000000, 20000000]  \n",
       "3     (15000000, 20000000]  \n",
       "4     (15000000, 20000000]  \n",
       "...                    ...  \n",
       "4362  (15000000, 20000000]  \n",
       "4363  (15000000, 20000000]  \n",
       "4364  (15000000, 20000000]  \n",
       "4365  (15000000, 20000000]  \n",
       "4366  (15000000, 20000000]  \n",
       "\n",
       "[4367 rows x 15 columns]"
      ]
     },
     "execution_count": 155,
     "metadata": {},
     "output_type": "execute_result"
    }
   ],
   "source": [
    "bin_edges = [0, 5000000, 10000000, 15000000, 20000000, 25000000, 50000000, 300000000]\n",
    "company_df['Salary_Bucket'] = pd.cut(company_df['Salary'], bins=bin_edges)\n",
    "company_df"
   ]
  },
  {
   "cell_type": "code",
   "execution_count": 156,
   "id": "99cbe283",
   "metadata": {},
   "outputs": [
    {
     "data": {
      "text/plain": [
       "Salary_Bucket\n",
       "(10000000, 15000000]     1306\n",
       "(15000000, 20000000]      865\n",
       "(5000000, 10000000]       858\n",
       "(20000000, 25000000]      585\n",
       "(25000000, 50000000]      482\n",
       "(0, 5000000]              171\n",
       "(50000000, 300000000]     100\n",
       "Name: count, dtype: int64"
      ]
     },
     "execution_count": 156,
     "metadata": {},
     "output_type": "execute_result"
    }
   ],
   "source": [
    "company_df['Salary_Bucket'].value_counts()"
   ]
  },
  {
   "cell_type": "code",
   "execution_count": 157,
   "id": "d27bd475",
   "metadata": {},
   "outputs": [],
   "source": [
    "company_df = company_df.drop(columns=['Headquarters Location', \n",
    "                                      'Date Added', 'CEO Name', 'Salary', 'Date'], axis=1)"
   ]
  },
  {
   "cell_type": "code",
   "execution_count": 158,
   "id": "be5ff0c1",
   "metadata": {},
   "outputs": [
    {
     "data": {
      "text/html": [
       "<div>\n",
       "<style scoped>\n",
       "    .dataframe tbody tr th:only-of-type {\n",
       "        vertical-align: middle;\n",
       "    }\n",
       "\n",
       "    .dataframe tbody tr th {\n",
       "        vertical-align: top;\n",
       "    }\n",
       "\n",
       "    .dataframe thead th {\n",
       "        text-align: right;\n",
       "    }\n",
       "</style>\n",
       "<table border=\"1\" class=\"dataframe\">\n",
       "  <thead>\n",
       "    <tr style=\"text-align: right;\">\n",
       "      <th></th>\n",
       "      <th>Ticker</th>\n",
       "      <th>Year</th>\n",
       "      <th>GICS Sector</th>\n",
       "      <th>GICS Sub-Industry</th>\n",
       "      <th>Founded</th>\n",
       "      <th>Gender</th>\n",
       "      <th>CEO Transition</th>\n",
       "      <th>Tenure Bucket</th>\n",
       "      <th>HQ_US_State_or_Country</th>\n",
       "      <th>Salary_Bucket</th>\n",
       "    </tr>\n",
       "  </thead>\n",
       "  <tbody>\n",
       "    <tr>\n",
       "      <th>0</th>\n",
       "      <td>A</td>\n",
       "      <td>2015</td>\n",
       "      <td>Health Care</td>\n",
       "      <td>Life Sciences Tools &amp; Services</td>\n",
       "      <td>1999</td>\n",
       "      <td>M</td>\n",
       "      <td>1</td>\n",
       "      <td>&lt;= 2 years</td>\n",
       "      <td>California</td>\n",
       "      <td>(15000000, 20000000]</td>\n",
       "    </tr>\n",
       "    <tr>\n",
       "      <th>1</th>\n",
       "      <td>A</td>\n",
       "      <td>2016</td>\n",
       "      <td>Health Care</td>\n",
       "      <td>Life Sciences Tools &amp; Services</td>\n",
       "      <td>1999</td>\n",
       "      <td>M</td>\n",
       "      <td>0</td>\n",
       "      <td>&lt;= 2 years</td>\n",
       "      <td>California</td>\n",
       "      <td>(15000000, 20000000]</td>\n",
       "    </tr>\n",
       "    <tr>\n",
       "      <th>2</th>\n",
       "      <td>A</td>\n",
       "      <td>2017</td>\n",
       "      <td>Health Care</td>\n",
       "      <td>Life Sciences Tools &amp; Services</td>\n",
       "      <td>1999</td>\n",
       "      <td>M</td>\n",
       "      <td>0</td>\n",
       "      <td>&lt;= 2 years</td>\n",
       "      <td>California</td>\n",
       "      <td>(15000000, 20000000]</td>\n",
       "    </tr>\n",
       "    <tr>\n",
       "      <th>3</th>\n",
       "      <td>A</td>\n",
       "      <td>2018</td>\n",
       "      <td>Health Care</td>\n",
       "      <td>Life Sciences Tools &amp; Services</td>\n",
       "      <td>1999</td>\n",
       "      <td>M</td>\n",
       "      <td>0</td>\n",
       "      <td>2 to 5 years</td>\n",
       "      <td>California</td>\n",
       "      <td>(15000000, 20000000]</td>\n",
       "    </tr>\n",
       "    <tr>\n",
       "      <th>4</th>\n",
       "      <td>A</td>\n",
       "      <td>2019</td>\n",
       "      <td>Health Care</td>\n",
       "      <td>Life Sciences Tools &amp; Services</td>\n",
       "      <td>1999</td>\n",
       "      <td>M</td>\n",
       "      <td>0</td>\n",
       "      <td>2 to 5 years</td>\n",
       "      <td>California</td>\n",
       "      <td>(15000000, 20000000]</td>\n",
       "    </tr>\n",
       "    <tr>\n",
       "      <th>...</th>\n",
       "      <td>...</td>\n",
       "      <td>...</td>\n",
       "      <td>...</td>\n",
       "      <td>...</td>\n",
       "      <td>...</td>\n",
       "      <td>...</td>\n",
       "      <td>...</td>\n",
       "      <td>...</td>\n",
       "      <td>...</td>\n",
       "      <td>...</td>\n",
       "    </tr>\n",
       "    <tr>\n",
       "      <th>4362</th>\n",
       "      <td>ZTS</td>\n",
       "      <td>2019</td>\n",
       "      <td>Health Care</td>\n",
       "      <td>Pharmaceuticals</td>\n",
       "      <td>1952</td>\n",
       "      <td>M</td>\n",
       "      <td>0</td>\n",
       "      <td>&lt;= 2 years</td>\n",
       "      <td>New Jersey</td>\n",
       "      <td>(15000000, 20000000]</td>\n",
       "    </tr>\n",
       "    <tr>\n",
       "      <th>4363</th>\n",
       "      <td>ZTS</td>\n",
       "      <td>2020</td>\n",
       "      <td>Health Care</td>\n",
       "      <td>Pharmaceuticals</td>\n",
       "      <td>1952</td>\n",
       "      <td>F</td>\n",
       "      <td>1</td>\n",
       "      <td>&lt;= 2 years</td>\n",
       "      <td>New Jersey</td>\n",
       "      <td>(15000000, 20000000]</td>\n",
       "    </tr>\n",
       "    <tr>\n",
       "      <th>4364</th>\n",
       "      <td>ZTS</td>\n",
       "      <td>2021</td>\n",
       "      <td>Health Care</td>\n",
       "      <td>Pharmaceuticals</td>\n",
       "      <td>1952</td>\n",
       "      <td>F</td>\n",
       "      <td>0</td>\n",
       "      <td>&lt;= 2 years</td>\n",
       "      <td>New Jersey</td>\n",
       "      <td>(15000000, 20000000]</td>\n",
       "    </tr>\n",
       "    <tr>\n",
       "      <th>4365</th>\n",
       "      <td>ZTS</td>\n",
       "      <td>2022</td>\n",
       "      <td>Health Care</td>\n",
       "      <td>Pharmaceuticals</td>\n",
       "      <td>1952</td>\n",
       "      <td>F</td>\n",
       "      <td>0</td>\n",
       "      <td>&lt;= 2 years</td>\n",
       "      <td>New Jersey</td>\n",
       "      <td>(15000000, 20000000]</td>\n",
       "    </tr>\n",
       "    <tr>\n",
       "      <th>4366</th>\n",
       "      <td>ZTS</td>\n",
       "      <td>2023</td>\n",
       "      <td>Health Care</td>\n",
       "      <td>Pharmaceuticals</td>\n",
       "      <td>1952</td>\n",
       "      <td>F</td>\n",
       "      <td>0</td>\n",
       "      <td>2 to 5 years</td>\n",
       "      <td>New Jersey</td>\n",
       "      <td>(15000000, 20000000]</td>\n",
       "    </tr>\n",
       "  </tbody>\n",
       "</table>\n",
       "<p>4367 rows × 10 columns</p>\n",
       "</div>"
      ],
      "text/plain": [
       "     Ticker  Year  GICS Sector               GICS Sub-Industry Founded Gender  \\\n",
       "0         A  2015  Health Care  Life Sciences Tools & Services    1999      M   \n",
       "1         A  2016  Health Care  Life Sciences Tools & Services    1999      M   \n",
       "2         A  2017  Health Care  Life Sciences Tools & Services    1999      M   \n",
       "3         A  2018  Health Care  Life Sciences Tools & Services    1999      M   \n",
       "4         A  2019  Health Care  Life Sciences Tools & Services    1999      M   \n",
       "...     ...   ...          ...                             ...     ...    ...   \n",
       "4362    ZTS  2019  Health Care                 Pharmaceuticals    1952      M   \n",
       "4363    ZTS  2020  Health Care                 Pharmaceuticals    1952      F   \n",
       "4364    ZTS  2021  Health Care                 Pharmaceuticals    1952      F   \n",
       "4365    ZTS  2022  Health Care                 Pharmaceuticals    1952      F   \n",
       "4366    ZTS  2023  Health Care                 Pharmaceuticals    1952      F   \n",
       "\n",
       "      CEO Transition Tenure Bucket HQ_US_State_or_Country  \\\n",
       "0                  1    <= 2 years             California   \n",
       "1                  0    <= 2 years             California   \n",
       "2                  0    <= 2 years             California   \n",
       "3                  0  2 to 5 years             California   \n",
       "4                  0  2 to 5 years             California   \n",
       "...              ...           ...                    ...   \n",
       "4362               0    <= 2 years             New Jersey   \n",
       "4363               1    <= 2 years             New Jersey   \n",
       "4364               0    <= 2 years             New Jersey   \n",
       "4365               0    <= 2 years             New Jersey   \n",
       "4366               0  2 to 5 years             New Jersey   \n",
       "\n",
       "             Salary_Bucket  \n",
       "0     (15000000, 20000000]  \n",
       "1     (15000000, 20000000]  \n",
       "2     (15000000, 20000000]  \n",
       "3     (15000000, 20000000]  \n",
       "4     (15000000, 20000000]  \n",
       "...                    ...  \n",
       "4362  (15000000, 20000000]  \n",
       "4363  (15000000, 20000000]  \n",
       "4364  (15000000, 20000000]  \n",
       "4365  (15000000, 20000000]  \n",
       "4366  (15000000, 20000000]  \n",
       "\n",
       "[4367 rows x 10 columns]"
      ]
     },
     "execution_count": 158,
     "metadata": {},
     "output_type": "execute_result"
    }
   ],
   "source": [
    "company_df"
   ]
  },
  {
   "cell_type": "code",
   "execution_count": 159,
   "id": "666af46f",
   "metadata": {},
   "outputs": [],
   "source": [
    "company_df.to_csv(\"data/company_clean.csv\", index=False)"
   ]
  },
  {
   "cell_type": "code",
   "execution_count": 128,
   "id": "43767ad4",
   "metadata": {},
   "outputs": [],
   "source": [
    "# Create unique tickers list\n",
    "unique_tickers_df = pd.DataFrame(company_df['Ticker'].unique(), columns=[\"Ticker\"])"
   ]
  },
  {
   "cell_type": "code",
   "execution_count": 88,
   "id": "6313d047",
   "metadata": {},
   "outputs": [
    {
     "name": "stdout",
     "output_type": "stream",
     "text": [
      "Download complete for ticker A\n"
     ]
    },
    {
     "name": "stderr",
     "output_type": "stream",
     "text": [
      "[*********************100%%**********************]  1 of 1 completed\n",
      "/var/folders/pp/jydch3xn6ys5qzxqnlsfwm180000gn/T/ipykernel_7739/2016622793.py:29: FutureWarning: The behavior of DataFrame concatenation with empty or all-NA entries is deprecated. In a future version, this will no longer exclude empty or all-NA columns when determining the result dtypes. To retain the old behavior, exclude the relevant entries before the concat operation.\n",
      "  yearly_stocks_df = pd.concat([yearly_stocks_df, new_year_df], ignore_index=True)\n",
      "[*********************100%%**********************]  1 of 1 completed\n"
     ]
    },
    {
     "name": "stdout",
     "output_type": "stream",
     "text": [
      "Download complete for ticker AAL\n",
      "Download complete for ticker AAPL\n"
     ]
    },
    {
     "name": "stderr",
     "output_type": "stream",
     "text": [
      "[*********************100%%**********************]  1 of 1 completed\n",
      "[*********************100%%**********************]  1 of 1 completed\n",
      "[*********************100%%**********************]  1 of 1 completed"
     ]
    },
    {
     "name": "stdout",
     "output_type": "stream",
     "text": [
      "Download complete for ticker ABBV\n",
      "Download complete for ticker ABNB\n",
      "Download complete for ticker ABT\n"
     ]
    },
    {
     "name": "stderr",
     "output_type": "stream",
     "text": [
      "\n",
      "[*********************100%%**********************]  1 of 1 completed\n",
      "[*********************100%%**********************]  1 of 1 completed\n"
     ]
    },
    {
     "name": "stdout",
     "output_type": "stream",
     "text": [
      "Download complete for ticker ACGL\n",
      "Download complete for ticker ACN\n"
     ]
    },
    {
     "name": "stderr",
     "output_type": "stream",
     "text": [
      "[*********************100%%**********************]  1 of 1 completed\n",
      "[*********************100%%**********************]  1 of 1 completed\n"
     ]
    },
    {
     "name": "stdout",
     "output_type": "stream",
     "text": [
      "Download complete for ticker ADBE\n",
      "Download complete for ticker ADI\n"
     ]
    },
    {
     "name": "stderr",
     "output_type": "stream",
     "text": [
      "[*********************100%%**********************]  1 of 1 completed\n",
      "[*********************100%%**********************]  1 of 1 completed\n"
     ]
    },
    {
     "name": "stdout",
     "output_type": "stream",
     "text": [
      "Download complete for ticker ADM\n",
      "Download complete for ticker ADP\n"
     ]
    },
    {
     "name": "stderr",
     "output_type": "stream",
     "text": [
      "[*********************100%%**********************]  1 of 1 completed\n",
      "[*********************100%%**********************]  1 of 1 completed\n"
     ]
    },
    {
     "name": "stdout",
     "output_type": "stream",
     "text": [
      "Download complete for ticker ADSK\n",
      "Download complete for ticker AEE\n"
     ]
    },
    {
     "name": "stderr",
     "output_type": "stream",
     "text": [
      "[*********************100%%**********************]  1 of 1 completed\n",
      "[*********************100%%**********************]  1 of 1 completed"
     ]
    },
    {
     "name": "stdout",
     "output_type": "stream",
     "text": [
      "Download complete for ticker AEP\n"
     ]
    },
    {
     "name": "stderr",
     "output_type": "stream",
     "text": [
      "\n",
      "[*********************100%%**********************]  1 of 1 completed\n"
     ]
    },
    {
     "name": "stdout",
     "output_type": "stream",
     "text": [
      "Download complete for ticker AES\n",
      "Download complete for ticker AFL\n"
     ]
    },
    {
     "name": "stderr",
     "output_type": "stream",
     "text": [
      "[*********************100%%**********************]  1 of 1 completed\n",
      "[*********************100%%**********************]  1 of 1 completed\n"
     ]
    },
    {
     "name": "stdout",
     "output_type": "stream",
     "text": [
      "Download complete for ticker AIG\n",
      "Download complete for ticker AIZ\n"
     ]
    },
    {
     "name": "stderr",
     "output_type": "stream",
     "text": [
      "[*********************100%%**********************]  1 of 1 completed\n",
      "[*********************100%%**********************]  1 of 1 completed\n"
     ]
    },
    {
     "name": "stdout",
     "output_type": "stream",
     "text": [
      "Download complete for ticker AJG\n",
      "Download complete for ticker AKAM\n"
     ]
    },
    {
     "name": "stderr",
     "output_type": "stream",
     "text": [
      "[*********************100%%**********************]  1 of 1 completed\n",
      "[*********************100%%**********************]  1 of 1 completed\n"
     ]
    },
    {
     "name": "stdout",
     "output_type": "stream",
     "text": [
      "Download complete for ticker ALB\n",
      "Download complete for ticker ALGN\n"
     ]
    },
    {
     "name": "stderr",
     "output_type": "stream",
     "text": [
      "[*********************100%%**********************]  1 of 1 completed\n",
      "[*********************100%%**********************]  1 of 1 completed\n"
     ]
    },
    {
     "name": "stdout",
     "output_type": "stream",
     "text": [
      "Download complete for ticker ALL\n",
      "Download complete for ticker ALLE\n"
     ]
    },
    {
     "name": "stderr",
     "output_type": "stream",
     "text": [
      "[*********************100%%**********************]  1 of 1 completed\n",
      "[*********************100%%**********************]  1 of 1 completed\n"
     ]
    },
    {
     "name": "stdout",
     "output_type": "stream",
     "text": [
      "Download complete for ticker AMAT\n",
      "Download complete for ticker AMCR\n"
     ]
    },
    {
     "name": "stderr",
     "output_type": "stream",
     "text": [
      "[*********************100%%**********************]  1 of 1 completed\n",
      "[*********************100%%**********************]  1 of 1 completed\n"
     ]
    },
    {
     "name": "stdout",
     "output_type": "stream",
     "text": [
      "Download complete for ticker AMD\n",
      "Download complete for ticker AME\n"
     ]
    },
    {
     "name": "stderr",
     "output_type": "stream",
     "text": [
      "[*********************100%%**********************]  1 of 1 completed\n",
      "[*********************100%%**********************]  1 of 1 completed\n"
     ]
    },
    {
     "name": "stdout",
     "output_type": "stream",
     "text": [
      "Download complete for ticker AMGN\n",
      "Download complete for ticker AMP\n"
     ]
    },
    {
     "name": "stderr",
     "output_type": "stream",
     "text": [
      "[*********************100%%**********************]  1 of 1 completed\n",
      "[*********************100%%**********************]  1 of 1 completed\n"
     ]
    },
    {
     "name": "stdout",
     "output_type": "stream",
     "text": [
      "Download complete for ticker AMT\n",
      "Download complete for ticker AMZN\n"
     ]
    },
    {
     "name": "stderr",
     "output_type": "stream",
     "text": [
      "[*********************100%%**********************]  1 of 1 completed\n",
      "[*********************100%%**********************]  1 of 1 completed\n"
     ]
    },
    {
     "name": "stdout",
     "output_type": "stream",
     "text": [
      "Download complete for ticker ANET\n",
      "Download complete for ticker ANSS\n"
     ]
    },
    {
     "name": "stderr",
     "output_type": "stream",
     "text": [
      "[*********************100%%**********************]  1 of 1 completed\n",
      "[*********************100%%**********************]  1 of 1 completed\n"
     ]
    },
    {
     "name": "stdout",
     "output_type": "stream",
     "text": [
      "Download complete for ticker AON\n",
      "Download complete for ticker AOS\n"
     ]
    },
    {
     "name": "stderr",
     "output_type": "stream",
     "text": [
      "[*********************100%%**********************]  1 of 1 completed\n",
      "[*********************100%%**********************]  1 of 1 completed\n"
     ]
    },
    {
     "name": "stdout",
     "output_type": "stream",
     "text": [
      "Download complete for ticker APA\n",
      "Download complete for ticker APD\n"
     ]
    },
    {
     "name": "stderr",
     "output_type": "stream",
     "text": [
      "[*********************100%%**********************]  1 of 1 completed\n",
      "[*********************100%%**********************]  1 of 1 completed\n"
     ]
    },
    {
     "name": "stdout",
     "output_type": "stream",
     "text": [
      "Download complete for ticker APH\n",
      "Download complete for ticker APTV\n"
     ]
    },
    {
     "name": "stderr",
     "output_type": "stream",
     "text": [
      "[*********************100%%**********************]  1 of 1 completed\n",
      "[*********************100%%**********************]  1 of 1 completed\n"
     ]
    },
    {
     "name": "stdout",
     "output_type": "stream",
     "text": [
      "Download complete for ticker ARE\n",
      "Download complete for ticker ATO\n"
     ]
    },
    {
     "name": "stderr",
     "output_type": "stream",
     "text": [
      "[*********************100%%**********************]  1 of 1 completed\n",
      "[*********************100%%**********************]  1 of 1 completed\n"
     ]
    },
    {
     "name": "stdout",
     "output_type": "stream",
     "text": [
      "Download complete for ticker AVB\n",
      "Download complete for ticker AVGO\n"
     ]
    },
    {
     "name": "stderr",
     "output_type": "stream",
     "text": [
      "[*********************100%%**********************]  1 of 1 completed\n",
      "[*********************100%%**********************]  1 of 1 completed\n"
     ]
    },
    {
     "name": "stdout",
     "output_type": "stream",
     "text": [
      "Download complete for ticker AVY\n",
      "Download complete for ticker AWK\n"
     ]
    },
    {
     "name": "stderr",
     "output_type": "stream",
     "text": [
      "[*********************100%%**********************]  1 of 1 completed\n",
      "[*********************100%%**********************]  1 of 1 completed\n"
     ]
    },
    {
     "name": "stdout",
     "output_type": "stream",
     "text": [
      "Download complete for ticker AXON\n",
      "Download complete for ticker AXP\n"
     ]
    },
    {
     "name": "stderr",
     "output_type": "stream",
     "text": [
      "[*********************100%%**********************]  1 of 1 completed\n",
      "[*********************100%%**********************]  1 of 1 completed\n"
     ]
    },
    {
     "name": "stdout",
     "output_type": "stream",
     "text": [
      "Download complete for ticker AZO\n",
      "Download complete for ticker BA\n"
     ]
    },
    {
     "name": "stderr",
     "output_type": "stream",
     "text": [
      "[*********************100%%**********************]  1 of 1 completed\n"
     ]
    },
    {
     "name": "stdout",
     "output_type": "stream",
     "text": [
      "Download complete for ticker BAC\n"
     ]
    },
    {
     "name": "stderr",
     "output_type": "stream",
     "text": [
      "[*********************100%%**********************]  1 of 1 completed\n",
      "[*********************100%%**********************]  1 of 1 completed\n"
     ]
    },
    {
     "name": "stdout",
     "output_type": "stream",
     "text": [
      "Download complete for ticker BALL\n",
      "Download complete for ticker BAX\n"
     ]
    },
    {
     "name": "stderr",
     "output_type": "stream",
     "text": [
      "[*********************100%%**********************]  1 of 1 completed\n",
      "[*********************100%%**********************]  1 of 1 completed\n"
     ]
    },
    {
     "name": "stdout",
     "output_type": "stream",
     "text": [
      "Download complete for ticker BBWI\n",
      "Download complete for ticker BBY\n"
     ]
    },
    {
     "name": "stderr",
     "output_type": "stream",
     "text": [
      "[*********************100%%**********************]  1 of 1 completed\n",
      "[*********************100%%**********************]  1 of 1 completed\n"
     ]
    },
    {
     "name": "stdout",
     "output_type": "stream",
     "text": [
      "Download complete for ticker BDX\n",
      "Download complete for ticker BEN\n"
     ]
    },
    {
     "name": "stderr",
     "output_type": "stream",
     "text": [
      "[*********************100%%**********************]  1 of 1 completed\n",
      "[*********************100%%**********************]  1 of 1 completed\n"
     ]
    },
    {
     "name": "stdout",
     "output_type": "stream",
     "text": [
      "Download complete for ticker BG\n",
      "Download complete for ticker BIIB\n"
     ]
    },
    {
     "name": "stderr",
     "output_type": "stream",
     "text": [
      "[*********************100%%**********************]  1 of 1 completed\n",
      "[*********************100%%**********************]  1 of 1 completed\n"
     ]
    },
    {
     "name": "stdout",
     "output_type": "stream",
     "text": [
      "Download complete for ticker BIO\n",
      "Download complete for ticker BK\n"
     ]
    },
    {
     "name": "stderr",
     "output_type": "stream",
     "text": [
      "[*********************100%%**********************]  1 of 1 completed\n",
      "[*********************100%%**********************]  1 of 1 completed\n"
     ]
    },
    {
     "name": "stdout",
     "output_type": "stream",
     "text": [
      "Download complete for ticker BKNG\n",
      "Download complete for ticker BKR\n"
     ]
    },
    {
     "name": "stderr",
     "output_type": "stream",
     "text": [
      "[*********************100%%**********************]  1 of 1 completed\n",
      "[*********************100%%**********************]  1 of 1 completed\n"
     ]
    },
    {
     "name": "stdout",
     "output_type": "stream",
     "text": [
      "Download complete for ticker BLDR\n",
      "Download complete for ticker BLK\n"
     ]
    },
    {
     "name": "stderr",
     "output_type": "stream",
     "text": [
      "[*********************100%%**********************]  1 of 1 completed\n",
      "[*********************100%%**********************]  1 of 1 completed\n"
     ]
    },
    {
     "name": "stdout",
     "output_type": "stream",
     "text": [
      "Download complete for ticker BMY\n",
      "Download complete for ticker BR\n"
     ]
    },
    {
     "name": "stderr",
     "output_type": "stream",
     "text": [
      "[*********************100%%**********************]  1 of 1 completed\n",
      "[*********************100%%**********************]  1 of 1 completed\n"
     ]
    },
    {
     "name": "stdout",
     "output_type": "stream",
     "text": [
      "Download complete for ticker BRO\n",
      "Download complete for ticker BSX\n"
     ]
    },
    {
     "name": "stderr",
     "output_type": "stream",
     "text": [
      "[*********************100%%**********************]  1 of 1 completed\n",
      "[*********************100%%**********************]  1 of 1 completed\n"
     ]
    },
    {
     "name": "stdout",
     "output_type": "stream",
     "text": [
      "Download complete for ticker BWA\n",
      "Download complete for ticker BX\n"
     ]
    },
    {
     "name": "stderr",
     "output_type": "stream",
     "text": [
      "[*********************100%%**********************]  1 of 1 completed\n",
      "[*********************100%%**********************]  1 of 1 completed\n"
     ]
    },
    {
     "name": "stdout",
     "output_type": "stream",
     "text": [
      "Download complete for ticker BXP\n",
      "Download complete for ticker C\n"
     ]
    },
    {
     "name": "stderr",
     "output_type": "stream",
     "text": [
      "[*********************100%%**********************]  1 of 1 completed\n",
      "[*********************100%%**********************]  1 of 1 completed\n"
     ]
    },
    {
     "name": "stdout",
     "output_type": "stream",
     "text": [
      "Download complete for ticker CAG\n",
      "Download complete for ticker CAH\n"
     ]
    },
    {
     "name": "stderr",
     "output_type": "stream",
     "text": [
      "[*********************100%%**********************]  1 of 1 completed\n",
      "[*********************100%%**********************]  1 of 1 completed\n"
     ]
    },
    {
     "name": "stdout",
     "output_type": "stream",
     "text": [
      "Download complete for ticker CARR\n",
      "Download complete for ticker CAT\n"
     ]
    },
    {
     "name": "stderr",
     "output_type": "stream",
     "text": [
      "[*********************100%%**********************]  1 of 1 completed\n",
      "[*********************100%%**********************]  1 of 1 completed\n"
     ]
    },
    {
     "name": "stdout",
     "output_type": "stream",
     "text": [
      "Download complete for ticker CB\n",
      "Download complete for ticker CBOE\n"
     ]
    },
    {
     "name": "stderr",
     "output_type": "stream",
     "text": [
      "[*********************100%%**********************]  1 of 1 completed\n",
      "[*********************100%%**********************]  1 of 1 completed\n"
     ]
    },
    {
     "name": "stdout",
     "output_type": "stream",
     "text": [
      "Download complete for ticker CBRE\n",
      "Download complete for ticker CCI\n"
     ]
    },
    {
     "name": "stderr",
     "output_type": "stream",
     "text": [
      "[*********************100%%**********************]  1 of 1 completed\n",
      "[*********************100%%**********************]  1 of 1 completed\n"
     ]
    },
    {
     "name": "stdout",
     "output_type": "stream",
     "text": [
      "Download complete for ticker CCL\n",
      "Download complete for ticker CDNS\n"
     ]
    },
    {
     "name": "stderr",
     "output_type": "stream",
     "text": [
      "[*********************100%%**********************]  1 of 1 completed\n",
      "[*********************100%%**********************]  1 of 1 completed\n"
     ]
    },
    {
     "name": "stdout",
     "output_type": "stream",
     "text": [
      "Download complete for ticker CDW\n",
      "Download complete for ticker CE\n"
     ]
    },
    {
     "name": "stderr",
     "output_type": "stream",
     "text": [
      "[*********************100%%**********************]  1 of 1 completed\n",
      "[*********************100%%**********************]  1 of 1 completed\n"
     ]
    },
    {
     "name": "stdout",
     "output_type": "stream",
     "text": [
      "Download complete for ticker CEG\n",
      "Download complete for ticker CF\n"
     ]
    },
    {
     "name": "stderr",
     "output_type": "stream",
     "text": [
      "[*********************100%%**********************]  1 of 1 completed\n",
      "[*********************100%%**********************]  1 of 1 completed\n"
     ]
    },
    {
     "name": "stdout",
     "output_type": "stream",
     "text": [
      "Download complete for ticker CFG\n",
      "Download complete for ticker CHD\n"
     ]
    },
    {
     "name": "stderr",
     "output_type": "stream",
     "text": [
      "[*********************100%%**********************]  1 of 1 completed\n",
      "[*********************100%%**********************]  1 of 1 completed\n"
     ]
    },
    {
     "name": "stdout",
     "output_type": "stream",
     "text": [
      "Download complete for ticker CHRW\n",
      "Download complete for ticker CHTR\n"
     ]
    },
    {
     "name": "stderr",
     "output_type": "stream",
     "text": [
      "[*********************100%%**********************]  1 of 1 completed\n",
      "[*********************100%%**********************]  1 of 1 completed\n"
     ]
    },
    {
     "name": "stdout",
     "output_type": "stream",
     "text": [
      "Download complete for ticker CI\n",
      "Download complete for ticker CINF\n"
     ]
    },
    {
     "name": "stderr",
     "output_type": "stream",
     "text": [
      "[*********************100%%**********************]  1 of 1 completed\n",
      "[*********************100%%**********************]  1 of 1 completed"
     ]
    },
    {
     "name": "stdout",
     "output_type": "stream",
     "text": [
      "Download complete for ticker CL\n"
     ]
    },
    {
     "name": "stderr",
     "output_type": "stream",
     "text": [
      "\n",
      "[*********************100%%**********************]  1 of 1 completed\n"
     ]
    },
    {
     "name": "stdout",
     "output_type": "stream",
     "text": [
      "Download complete for ticker CLX\n",
      "Download complete for ticker CMCSA\n"
     ]
    },
    {
     "name": "stderr",
     "output_type": "stream",
     "text": [
      "[*********************100%%**********************]  1 of 1 completed\n",
      "[*********************100%%**********************]  1 of 1 completed\n"
     ]
    },
    {
     "name": "stdout",
     "output_type": "stream",
     "text": [
      "Download complete for ticker CME\n",
      "Download complete for ticker CMG\n"
     ]
    },
    {
     "name": "stderr",
     "output_type": "stream",
     "text": [
      "[*********************100%%**********************]  1 of 1 completed\n"
     ]
    },
    {
     "name": "stdout",
     "output_type": "stream",
     "text": [
      "Download complete for ticker CMI\n"
     ]
    },
    {
     "name": "stderr",
     "output_type": "stream",
     "text": [
      "[*********************100%%**********************]  1 of 1 completed\n",
      "[*********************100%%**********************]  1 of 1 completed\n"
     ]
    },
    {
     "name": "stdout",
     "output_type": "stream",
     "text": [
      "Download complete for ticker CMS\n",
      "Download complete for ticker CNC\n"
     ]
    },
    {
     "name": "stderr",
     "output_type": "stream",
     "text": [
      "[*********************100%%**********************]  1 of 1 completed\n"
     ]
    },
    {
     "name": "stdout",
     "output_type": "stream",
     "text": [
      "Download complete for ticker CNP\n"
     ]
    },
    {
     "name": "stderr",
     "output_type": "stream",
     "text": [
      "[*********************100%%**********************]  1 of 1 completed\n",
      "[*********************100%%**********************]  1 of 1 completed\n"
     ]
    },
    {
     "name": "stdout",
     "output_type": "stream",
     "text": [
      "Download complete for ticker COF\n",
      "Download complete for ticker COO\n"
     ]
    },
    {
     "name": "stderr",
     "output_type": "stream",
     "text": [
      "[*********************100%%**********************]  1 of 1 completed\n",
      "[*********************100%%**********************]  1 of 1 completed\n"
     ]
    },
    {
     "name": "stdout",
     "output_type": "stream",
     "text": [
      "Download complete for ticker COP\n",
      "Download complete for ticker COR\n"
     ]
    },
    {
     "name": "stderr",
     "output_type": "stream",
     "text": [
      "[*********************100%%**********************]  1 of 1 completed\n",
      "[*********************100%%**********************]  1 of 1 completed\n",
      "[*********************100%%**********************]  1 of 1 completed\n"
     ]
    },
    {
     "name": "stdout",
     "output_type": "stream",
     "text": [
      "Download complete for ticker COST\n",
      "Download complete for ticker CPAY\n",
      "Download complete for ticker CPB\n"
     ]
    },
    {
     "name": "stderr",
     "output_type": "stream",
     "text": [
      "[*********************100%%**********************]  1 of 1 completed\n",
      "[*********************100%%**********************]  1 of 1 completed\n"
     ]
    },
    {
     "name": "stdout",
     "output_type": "stream",
     "text": [
      "Download complete for ticker CPRT\n",
      "Download complete for ticker CPT\n"
     ]
    },
    {
     "name": "stderr",
     "output_type": "stream",
     "text": [
      "[*********************100%%**********************]  1 of 1 completed\n",
      "[*********************100%%**********************]  1 of 1 completed\n"
     ]
    },
    {
     "name": "stdout",
     "output_type": "stream",
     "text": [
      "Download complete for ticker CRL\n",
      "Download complete for ticker CRM\n"
     ]
    },
    {
     "name": "stderr",
     "output_type": "stream",
     "text": [
      "[*********************100%%**********************]  1 of 1 completed\n",
      "[*********************100%%**********************]  1 of 1 completed\n"
     ]
    },
    {
     "name": "stdout",
     "output_type": "stream",
     "text": [
      "Download complete for ticker CRWD\n",
      "Download complete for ticker CSCO\n"
     ]
    },
    {
     "name": "stderr",
     "output_type": "stream",
     "text": [
      "[*********************100%%**********************]  1 of 1 completed\n",
      "[*********************100%%**********************]  1 of 1 completed\n"
     ]
    },
    {
     "name": "stdout",
     "output_type": "stream",
     "text": [
      "Download complete for ticker CSGP\n",
      "Download complete for ticker CSX\n"
     ]
    },
    {
     "name": "stderr",
     "output_type": "stream",
     "text": [
      "[*********************100%%**********************]  1 of 1 completed\n",
      "[*********************100%%**********************]  1 of 1 completed\n"
     ]
    },
    {
     "name": "stdout",
     "output_type": "stream",
     "text": [
      "Download complete for ticker CTAS\n",
      "Download complete for ticker CTLT\n"
     ]
    },
    {
     "name": "stderr",
     "output_type": "stream",
     "text": [
      "[*********************100%%**********************]  1 of 1 completed\n",
      "[*********************100%%**********************]  1 of 1 completed\n"
     ]
    },
    {
     "name": "stdout",
     "output_type": "stream",
     "text": [
      "Download complete for ticker CTRA\n",
      "Download complete for ticker CTSH\n"
     ]
    },
    {
     "name": "stderr",
     "output_type": "stream",
     "text": [
      "[*********************100%%**********************]  1 of 1 completed\n",
      "[*********************100%%**********************]  1 of 1 completed\n"
     ]
    },
    {
     "name": "stdout",
     "output_type": "stream",
     "text": [
      "Download complete for ticker CTVA\n",
      "Download complete for ticker CVS\n"
     ]
    },
    {
     "name": "stderr",
     "output_type": "stream",
     "text": [
      "[*********************100%%**********************]  1 of 1 completed\n",
      "[*********************100%%**********************]  1 of 1 completed\n"
     ]
    },
    {
     "name": "stdout",
     "output_type": "stream",
     "text": [
      "Download complete for ticker CVX\n",
      "Download complete for ticker CZR\n"
     ]
    },
    {
     "name": "stderr",
     "output_type": "stream",
     "text": [
      "[*********************100%%**********************]  1 of 1 completed\n",
      "[*********************100%%**********************]  1 of 1 completed\n"
     ]
    },
    {
     "name": "stdout",
     "output_type": "stream",
     "text": [
      "Download complete for ticker D\n",
      "Download complete for ticker DAL\n"
     ]
    },
    {
     "name": "stderr",
     "output_type": "stream",
     "text": [
      "[*********************100%%**********************]  1 of 1 completed\n",
      "[*********************100%%**********************]  1 of 1 completed\n"
     ]
    },
    {
     "name": "stdout",
     "output_type": "stream",
     "text": [
      "Download complete for ticker DAY\n",
      "Download complete for ticker DD\n"
     ]
    },
    {
     "name": "stderr",
     "output_type": "stream",
     "text": [
      "[*********************100%%**********************]  1 of 1 completed\n",
      "[*********************100%%**********************]  1 of 1 completed\n"
     ]
    },
    {
     "name": "stdout",
     "output_type": "stream",
     "text": [
      "Download complete for ticker DE\n",
      "Download complete for ticker DECK\n"
     ]
    },
    {
     "name": "stderr",
     "output_type": "stream",
     "text": [
      "[*********************100%%**********************]  1 of 1 completed\n",
      "[*********************100%%**********************]  1 of 1 completed\n"
     ]
    },
    {
     "name": "stdout",
     "output_type": "stream",
     "text": [
      "Download complete for ticker DFS\n",
      "Download complete for ticker DG\n"
     ]
    },
    {
     "name": "stderr",
     "output_type": "stream",
     "text": [
      "[*********************100%%**********************]  1 of 1 completed\n",
      "[*********************100%%**********************]  1 of 1 completed\n"
     ]
    },
    {
     "name": "stdout",
     "output_type": "stream",
     "text": [
      "Download complete for ticker DGX\n",
      "Download complete for ticker DHI\n"
     ]
    },
    {
     "name": "stderr",
     "output_type": "stream",
     "text": [
      "[*********************100%%**********************]  1 of 1 completed\n",
      "[*********************100%%**********************]  1 of 1 completed\n"
     ]
    },
    {
     "name": "stdout",
     "output_type": "stream",
     "text": [
      "Download complete for ticker DHR\n",
      "Download complete for ticker DIS\n"
     ]
    },
    {
     "name": "stderr",
     "output_type": "stream",
     "text": [
      "[*********************100%%**********************]  1 of 1 completed\n",
      "[*********************100%%**********************]  1 of 1 completed\n"
     ]
    },
    {
     "name": "stdout",
     "output_type": "stream",
     "text": [
      "Download complete for ticker DLR\n",
      "Download complete for ticker DLTR\n"
     ]
    },
    {
     "name": "stderr",
     "output_type": "stream",
     "text": [
      "[*********************100%%**********************]  1 of 1 completed\n",
      "[*********************100%%**********************]  1 of 1 completed\n"
     ]
    },
    {
     "name": "stdout",
     "output_type": "stream",
     "text": [
      "Download complete for ticker DOC\n",
      "Download complete for ticker DOV\n"
     ]
    },
    {
     "name": "stderr",
     "output_type": "stream",
     "text": [
      "[*********************100%%**********************]  1 of 1 completed\n",
      "[*********************100%%**********************]  1 of 1 completed\n"
     ]
    },
    {
     "name": "stdout",
     "output_type": "stream",
     "text": [
      "Download complete for ticker DOW\n",
      "Download complete for ticker DPZ\n"
     ]
    },
    {
     "name": "stderr",
     "output_type": "stream",
     "text": [
      "[*********************100%%**********************]  1 of 1 completed\n",
      "[*********************100%%**********************]  1 of 1 completed\n"
     ]
    },
    {
     "name": "stdout",
     "output_type": "stream",
     "text": [
      "Download complete for ticker DRI\n",
      "Download complete for ticker DTE\n"
     ]
    },
    {
     "name": "stderr",
     "output_type": "stream",
     "text": [
      "[*********************100%%**********************]  1 of 1 completed\n"
     ]
    },
    {
     "name": "stdout",
     "output_type": "stream",
     "text": [
      "Download complete for ticker DUK\n"
     ]
    },
    {
     "name": "stderr",
     "output_type": "stream",
     "text": [
      "[*********************100%%**********************]  1 of 1 completed\n",
      "[*********************100%%**********************]  1 of 1 completed\n",
      "[*********************100%%**********************]  1 of 1 completed"
     ]
    },
    {
     "name": "stdout",
     "output_type": "stream",
     "text": [
      "Download complete for ticker DVA\n",
      "Download complete for ticker DVN\n"
     ]
    },
    {
     "name": "stderr",
     "output_type": "stream",
     "text": [
      "\n",
      "[*********************100%%**********************]  1 of 1 completed\n"
     ]
    },
    {
     "name": "stdout",
     "output_type": "stream",
     "text": [
      "Download complete for ticker DXCM\n",
      "Download complete for ticker EA\n"
     ]
    },
    {
     "name": "stderr",
     "output_type": "stream",
     "text": [
      "[*********************100%%**********************]  1 of 1 completed\n",
      "[*********************100%%**********************]  1 of 1 completed\n"
     ]
    },
    {
     "name": "stdout",
     "output_type": "stream",
     "text": [
      "Download complete for ticker EBAY\n",
      "Download complete for ticker ECL\n"
     ]
    },
    {
     "name": "stderr",
     "output_type": "stream",
     "text": [
      "[*********************100%%**********************]  1 of 1 completed\n",
      "[*********************100%%**********************]  1 of 1 completed\n"
     ]
    },
    {
     "name": "stdout",
     "output_type": "stream",
     "text": [
      "Download complete for ticker ED\n",
      "Download complete for ticker EFX\n"
     ]
    },
    {
     "name": "stderr",
     "output_type": "stream",
     "text": [
      "[*********************100%%**********************]  1 of 1 completed\n",
      "[*********************100%%**********************]  1 of 1 completed\n"
     ]
    },
    {
     "name": "stdout",
     "output_type": "stream",
     "text": [
      "Download complete for ticker EG\n",
      "Download complete for ticker EIX\n"
     ]
    },
    {
     "name": "stderr",
     "output_type": "stream",
     "text": [
      "[*********************100%%**********************]  1 of 1 completed\n",
      "[*********************100%%**********************]  1 of 1 completed\n"
     ]
    },
    {
     "name": "stdout",
     "output_type": "stream",
     "text": [
      "Download complete for ticker EL\n",
      "Download complete for ticker ELV\n"
     ]
    },
    {
     "name": "stderr",
     "output_type": "stream",
     "text": [
      "[*********************100%%**********************]  1 of 1 completed\n",
      "[*********************100%%**********************]  1 of 1 completed\n"
     ]
    },
    {
     "name": "stdout",
     "output_type": "stream",
     "text": [
      "Download complete for ticker EMN\n",
      "Download complete for ticker EMR\n"
     ]
    },
    {
     "name": "stderr",
     "output_type": "stream",
     "text": [
      "[*********************100%%**********************]  1 of 1 completed\n",
      "[*********************100%%**********************]  1 of 1 completed\n"
     ]
    },
    {
     "name": "stdout",
     "output_type": "stream",
     "text": [
      "Download complete for ticker ENPH\n",
      "Download complete for ticker EOG\n"
     ]
    },
    {
     "name": "stderr",
     "output_type": "stream",
     "text": [
      "[*********************100%%**********************]  1 of 1 completed\n",
      "[*********************100%%**********************]  1 of 1 completed\n",
      "[*********************100%%**********************]  1 of 1 completed\n"
     ]
    },
    {
     "name": "stdout",
     "output_type": "stream",
     "text": [
      "Download complete for ticker EPAM\n",
      "Download complete for ticker EQIX\n",
      "Download complete for ticker EQR\n"
     ]
    },
    {
     "name": "stderr",
     "output_type": "stream",
     "text": [
      "[*********************100%%**********************]  1 of 1 completed\n",
      "[*********************100%%**********************]  1 of 1 completed\n"
     ]
    },
    {
     "name": "stdout",
     "output_type": "stream",
     "text": [
      "Download complete for ticker EQT\n",
      "Download complete for ticker ES\n"
     ]
    },
    {
     "name": "stderr",
     "output_type": "stream",
     "text": [
      "[*********************100%%**********************]  1 of 1 completed\n",
      "[*********************100%%**********************]  1 of 1 completed\n"
     ]
    },
    {
     "name": "stdout",
     "output_type": "stream",
     "text": [
      "Download complete for ticker ESS\n",
      "Download complete for ticker ETN\n"
     ]
    },
    {
     "name": "stderr",
     "output_type": "stream",
     "text": [
      "[*********************100%%**********************]  1 of 1 completed\n",
      "[*********************100%%**********************]  1 of 1 completed\n"
     ]
    },
    {
     "name": "stdout",
     "output_type": "stream",
     "text": [
      "Download complete for ticker ETR\n",
      "Download complete for ticker ETSY\n"
     ]
    },
    {
     "name": "stderr",
     "output_type": "stream",
     "text": [
      "[*********************100%%**********************]  1 of 1 completed\n",
      "[*********************100%%**********************]  1 of 1 completed\n"
     ]
    },
    {
     "name": "stdout",
     "output_type": "stream",
     "text": [
      "Download complete for ticker EVRG\n",
      "Download complete for ticker EW\n"
     ]
    },
    {
     "name": "stderr",
     "output_type": "stream",
     "text": [
      "[*********************100%%**********************]  1 of 1 completed\n",
      "[*********************100%%**********************]  1 of 1 completed\n"
     ]
    },
    {
     "name": "stdout",
     "output_type": "stream",
     "text": [
      "Download complete for ticker EXC\n",
      "Download complete for ticker EXPD\n"
     ]
    },
    {
     "name": "stderr",
     "output_type": "stream",
     "text": [
      "[*********************100%%**********************]  1 of 1 completed\n",
      "[*********************100%%**********************]  1 of 1 completed\n"
     ]
    },
    {
     "name": "stdout",
     "output_type": "stream",
     "text": [
      "Download complete for ticker EXPE\n",
      "Download complete for ticker EXR\n"
     ]
    },
    {
     "name": "stderr",
     "output_type": "stream",
     "text": [
      "[*********************100%%**********************]  1 of 1 completed\n",
      "[*********************100%%**********************]  1 of 1 completed\n"
     ]
    },
    {
     "name": "stdout",
     "output_type": "stream",
     "text": [
      "Download complete for ticker F\n",
      "Download complete for ticker FANG\n"
     ]
    },
    {
     "name": "stderr",
     "output_type": "stream",
     "text": [
      "[*********************100%%**********************]  1 of 1 completed\n",
      "[*********************100%%**********************]  1 of 1 completed\n"
     ]
    },
    {
     "name": "stdout",
     "output_type": "stream",
     "text": [
      "Download complete for ticker FAST\n",
      "Download complete for ticker FCX\n"
     ]
    },
    {
     "name": "stderr",
     "output_type": "stream",
     "text": [
      "[*********************100%%**********************]  1 of 1 completed\n",
      "[*********************100%%**********************]  1 of 1 completed\n"
     ]
    },
    {
     "name": "stdout",
     "output_type": "stream",
     "text": [
      "Download complete for ticker FDS\n",
      "Download complete for ticker FDX\n"
     ]
    },
    {
     "name": "stderr",
     "output_type": "stream",
     "text": [
      "[*********************100%%**********************]  1 of 1 completed\n",
      "[*********************100%%**********************]  1 of 1 completed\n"
     ]
    },
    {
     "name": "stdout",
     "output_type": "stream",
     "text": [
      "Download complete for ticker FE\n",
      "Download complete for ticker FFIV\n"
     ]
    },
    {
     "name": "stderr",
     "output_type": "stream",
     "text": [
      "[*********************100%%**********************]  1 of 1 completed\n",
      "[*********************100%%**********************]  1 of 1 completed\n"
     ]
    },
    {
     "name": "stdout",
     "output_type": "stream",
     "text": [
      "Download complete for ticker FI\n",
      "Download complete for ticker FICO\n"
     ]
    },
    {
     "name": "stderr",
     "output_type": "stream",
     "text": [
      "[*********************100%%**********************]  1 of 1 completed\n",
      "[*********************100%%**********************]  1 of 1 completed\n"
     ]
    },
    {
     "name": "stdout",
     "output_type": "stream",
     "text": [
      "Download complete for ticker FIS\n",
      "Download complete for ticker FITB\n"
     ]
    },
    {
     "name": "stderr",
     "output_type": "stream",
     "text": [
      "[*********************100%%**********************]  1 of 1 completed\n",
      "[*********************100%%**********************]  1 of 1 completed\n"
     ]
    },
    {
     "name": "stdout",
     "output_type": "stream",
     "text": [
      "Download complete for ticker FMC\n",
      "Download complete for ticker FOXA\n"
     ]
    },
    {
     "name": "stderr",
     "output_type": "stream",
     "text": [
      "[*********************100%%**********************]  1 of 1 completed\n",
      "[*********************100%%**********************]  1 of 1 completed\n"
     ]
    },
    {
     "name": "stdout",
     "output_type": "stream",
     "text": [
      "Download complete for ticker FRT\n",
      "Download complete for ticker FSLR\n"
     ]
    },
    {
     "name": "stderr",
     "output_type": "stream",
     "text": [
      "[*********************100%%**********************]  1 of 1 completed\n",
      "[*********************100%%**********************]  1 of 1 completed\n"
     ]
    },
    {
     "name": "stdout",
     "output_type": "stream",
     "text": [
      "Download complete for ticker FTNT\n",
      "Download complete for ticker FTV\n"
     ]
    },
    {
     "name": "stderr",
     "output_type": "stream",
     "text": [
      "[*********************100%%**********************]  1 of 1 completed\n",
      "[*********************100%%**********************]  1 of 1 completed\n"
     ]
    },
    {
     "name": "stdout",
     "output_type": "stream",
     "text": [
      "Download complete for ticker GD\n",
      "Download complete for ticker GDDY\n"
     ]
    },
    {
     "name": "stderr",
     "output_type": "stream",
     "text": [
      "[*********************100%%**********************]  1 of 1 completed\n",
      "[*********************100%%**********************]  1 of 1 completed\n"
     ]
    },
    {
     "name": "stdout",
     "output_type": "stream",
     "text": [
      "Download complete for ticker GE\n",
      "Download complete for ticker GEHC\n"
     ]
    },
    {
     "name": "stderr",
     "output_type": "stream",
     "text": [
      "[*********************100%%**********************]  1 of 1 completed\n",
      "[*********************100%%**********************]  1 of 1 completed\n"
     ]
    },
    {
     "name": "stdout",
     "output_type": "stream",
     "text": [
      "Download complete for ticker GEN\n",
      "Download complete for ticker GILD\n"
     ]
    },
    {
     "name": "stderr",
     "output_type": "stream",
     "text": [
      "[*********************100%%**********************]  1 of 1 completed\n",
      "[*********************100%%**********************]  1 of 1 completed\n"
     ]
    },
    {
     "name": "stdout",
     "output_type": "stream",
     "text": [
      "Download complete for ticker GIS\n",
      "Download complete for ticker GL\n"
     ]
    },
    {
     "name": "stderr",
     "output_type": "stream",
     "text": [
      "[*********************100%%**********************]  1 of 1 completed\n",
      "[*********************100%%**********************]  1 of 1 completed\n"
     ]
    },
    {
     "name": "stdout",
     "output_type": "stream",
     "text": [
      "Download complete for ticker GLW\n",
      "Download complete for ticker GM\n"
     ]
    },
    {
     "name": "stderr",
     "output_type": "stream",
     "text": [
      "[*********************100%%**********************]  1 of 1 completed\n",
      "[*********************100%%**********************]  1 of 1 completed\n"
     ]
    },
    {
     "name": "stdout",
     "output_type": "stream",
     "text": [
      "Download complete for ticker GNRC\n",
      "Download complete for ticker GOOGL\n"
     ]
    },
    {
     "name": "stderr",
     "output_type": "stream",
     "text": [
      "[*********************100%%**********************]  1 of 1 completed\n",
      "[*********************100%%**********************]  1 of 1 completed\n"
     ]
    },
    {
     "name": "stdout",
     "output_type": "stream",
     "text": [
      "Download complete for ticker GPC\n",
      "Download complete for ticker GPN\n"
     ]
    },
    {
     "name": "stderr",
     "output_type": "stream",
     "text": [
      "[*********************100%%**********************]  1 of 1 completed\n",
      "[*********************100%%**********************]  1 of 1 completed\n"
     ]
    },
    {
     "name": "stdout",
     "output_type": "stream",
     "text": [
      "Download complete for ticker GRMN\n",
      "Download complete for ticker GS\n"
     ]
    },
    {
     "name": "stderr",
     "output_type": "stream",
     "text": [
      "[*********************100%%**********************]  1 of 1 completed\n",
      "[*********************100%%**********************]  1 of 1 completed\n"
     ]
    },
    {
     "name": "stdout",
     "output_type": "stream",
     "text": [
      "Download complete for ticker GWW\n",
      "Download complete for ticker HAL\n"
     ]
    },
    {
     "name": "stderr",
     "output_type": "stream",
     "text": [
      "[*********************100%%**********************]  1 of 1 completed\n",
      "[*********************100%%**********************]  1 of 1 completed\n"
     ]
    },
    {
     "name": "stdout",
     "output_type": "stream",
     "text": [
      "Download complete for ticker HAS\n",
      "Download complete for ticker HBAN\n"
     ]
    },
    {
     "name": "stderr",
     "output_type": "stream",
     "text": [
      "[*********************100%%**********************]  1 of 1 completed\n",
      "[*********************100%%**********************]  1 of 1 completed\n"
     ]
    },
    {
     "name": "stdout",
     "output_type": "stream",
     "text": [
      "Download complete for ticker HCA\n",
      "Download complete for ticker HD\n"
     ]
    },
    {
     "name": "stderr",
     "output_type": "stream",
     "text": [
      "[*********************100%%**********************]  1 of 1 completed\n",
      "[*********************100%%**********************]  1 of 1 completed\n"
     ]
    },
    {
     "name": "stdout",
     "output_type": "stream",
     "text": [
      "Download complete for ticker HES\n",
      "Download complete for ticker HIG\n"
     ]
    },
    {
     "name": "stderr",
     "output_type": "stream",
     "text": [
      "[*********************100%%**********************]  1 of 1 completed\n",
      "[*********************100%%**********************]  1 of 1 completed\n",
      "[*********************100%%**********************]  1 of 1 completed"
     ]
    },
    {
     "name": "stdout",
     "output_type": "stream",
     "text": [
      "Download complete for ticker HII\n",
      "Download complete for ticker HLT\n"
     ]
    },
    {
     "name": "stderr",
     "output_type": "stream",
     "text": [
      "\n",
      "[*********************100%%**********************]  1 of 1 completed\n"
     ]
    },
    {
     "name": "stdout",
     "output_type": "stream",
     "text": [
      "Download complete for ticker HOLX\n",
      "Download complete for ticker HON\n"
     ]
    },
    {
     "name": "stderr",
     "output_type": "stream",
     "text": [
      "[*********************100%%**********************]  1 of 1 completed\n",
      "[*********************100%%**********************]  1 of 1 completed\n"
     ]
    },
    {
     "name": "stdout",
     "output_type": "stream",
     "text": [
      "Download complete for ticker HPE\n",
      "Download complete for ticker HPQ\n"
     ]
    },
    {
     "name": "stderr",
     "output_type": "stream",
     "text": [
      "[*********************100%%**********************]  1 of 1 completed\n",
      "[*********************100%%**********************]  1 of 1 completed\n"
     ]
    },
    {
     "name": "stdout",
     "output_type": "stream",
     "text": [
      "Download complete for ticker HRL\n",
      "Download complete for ticker HSIC\n"
     ]
    },
    {
     "name": "stderr",
     "output_type": "stream",
     "text": [
      "[*********************100%%**********************]  1 of 1 completed\n",
      "[*********************100%%**********************]  1 of 1 completed\n"
     ]
    },
    {
     "name": "stdout",
     "output_type": "stream",
     "text": [
      "Download complete for ticker HST\n",
      "Download complete for ticker HSY\n"
     ]
    },
    {
     "name": "stderr",
     "output_type": "stream",
     "text": [
      "[*********************100%%**********************]  1 of 1 completed\n",
      "[*********************100%%**********************]  1 of 1 completed\n"
     ]
    },
    {
     "name": "stdout",
     "output_type": "stream",
     "text": [
      "Download complete for ticker HUBB\n",
      "Download complete for ticker HUM\n"
     ]
    },
    {
     "name": "stderr",
     "output_type": "stream",
     "text": [
      "[*********************100%%**********************]  1 of 1 completed\n",
      "[*********************100%%**********************]  1 of 1 completed\n"
     ]
    },
    {
     "name": "stdout",
     "output_type": "stream",
     "text": [
      "Download complete for ticker HWM\n",
      "Download complete for ticker IBM\n"
     ]
    },
    {
     "name": "stderr",
     "output_type": "stream",
     "text": [
      "[*********************100%%**********************]  1 of 1 completed\n",
      "[*********************100%%**********************]  1 of 1 completed\n"
     ]
    },
    {
     "name": "stdout",
     "output_type": "stream",
     "text": [
      "Download complete for ticker ICE\n",
      "Download complete for ticker IDXX\n"
     ]
    },
    {
     "name": "stderr",
     "output_type": "stream",
     "text": [
      "[*********************100%%**********************]  1 of 1 completed\n",
      "[*********************100%%**********************]  1 of 1 completed\n"
     ]
    },
    {
     "name": "stdout",
     "output_type": "stream",
     "text": [
      "Download complete for ticker IEX\n",
      "Download complete for ticker IFF\n"
     ]
    },
    {
     "name": "stderr",
     "output_type": "stream",
     "text": [
      "[*********************100%%**********************]  1 of 1 completed\n",
      "[*********************100%%**********************]  1 of 1 completed\n"
     ]
    },
    {
     "name": "stdout",
     "output_type": "stream",
     "text": [
      "Download complete for ticker INCY\n",
      "Download complete for ticker INTC\n"
     ]
    },
    {
     "name": "stderr",
     "output_type": "stream",
     "text": [
      "[*********************100%%**********************]  1 of 1 completed\n",
      "[*********************100%%**********************]  1 of 1 completed\n",
      "[*********************100%%**********************]  1 of 1 completed\n"
     ]
    },
    {
     "name": "stdout",
     "output_type": "stream",
     "text": [
      "Download complete for ticker INTU\n",
      "Download complete for ticker INVH\n",
      "Download complete for ticker IP\n"
     ]
    },
    {
     "name": "stderr",
     "output_type": "stream",
     "text": [
      "[*********************100%%**********************]  1 of 1 completed\n",
      "[*********************100%%**********************]  1 of 1 completed\n"
     ]
    },
    {
     "name": "stdout",
     "output_type": "stream",
     "text": [
      "Download complete for ticker IPG\n",
      "Download complete for ticker IQV\n"
     ]
    },
    {
     "name": "stderr",
     "output_type": "stream",
     "text": [
      "[*********************100%%**********************]  1 of 1 completed\n",
      "[*********************100%%**********************]  1 of 1 completed\n"
     ]
    },
    {
     "name": "stdout",
     "output_type": "stream",
     "text": [
      "Download complete for ticker IR\n",
      "Download complete for ticker IRM\n"
     ]
    },
    {
     "name": "stderr",
     "output_type": "stream",
     "text": [
      "[*********************100%%**********************]  1 of 1 completed\n",
      "[*********************100%%**********************]  1 of 1 completed\n",
      "[*********************100%%**********************]  1 of 1 completed\n"
     ]
    },
    {
     "name": "stdout",
     "output_type": "stream",
     "text": [
      "Download complete for ticker ISRG\n",
      "Download complete for ticker IT\n",
      "Download complete for ticker ITW\n"
     ]
    },
    {
     "name": "stderr",
     "output_type": "stream",
     "text": [
      "[*********************100%%**********************]  1 of 1 completed\n",
      "[*********************100%%**********************]  1 of 1 completed\n"
     ]
    },
    {
     "name": "stdout",
     "output_type": "stream",
     "text": [
      "Download complete for ticker IVZ\n",
      "Download complete for ticker J\n"
     ]
    },
    {
     "name": "stderr",
     "output_type": "stream",
     "text": [
      "[*********************100%%**********************]  1 of 1 completed\n",
      "[*********************100%%**********************]  1 of 1 completed\n"
     ]
    },
    {
     "name": "stdout",
     "output_type": "stream",
     "text": [
      "Download complete for ticker JBHT\n",
      "Download complete for ticker JBL\n"
     ]
    },
    {
     "name": "stderr",
     "output_type": "stream",
     "text": [
      "[*********************100%%**********************]  1 of 1 completed\n",
      "[*********************100%%**********************]  1 of 1 completed\n"
     ]
    },
    {
     "name": "stdout",
     "output_type": "stream",
     "text": [
      "Download complete for ticker JCI\n",
      "Download complete for ticker JKHY\n"
     ]
    },
    {
     "name": "stderr",
     "output_type": "stream",
     "text": [
      "[*********************100%%**********************]  1 of 1 completed\n"
     ]
    },
    {
     "name": "stdout",
     "output_type": "stream",
     "text": [
      "Download complete for ticker JNJ\n"
     ]
    },
    {
     "name": "stderr",
     "output_type": "stream",
     "text": [
      "[*********************100%%**********************]  1 of 1 completed\n",
      "[*********************100%%**********************]  1 of 1 completed\n"
     ]
    },
    {
     "name": "stdout",
     "output_type": "stream",
     "text": [
      "Download complete for ticker JNPR\n",
      "Download complete for ticker JPM\n"
     ]
    },
    {
     "name": "stderr",
     "output_type": "stream",
     "text": [
      "[*********************100%%**********************]  1 of 1 completed\n",
      "[*********************100%%**********************]  1 of 1 completed\n"
     ]
    },
    {
     "name": "stdout",
     "output_type": "stream",
     "text": [
      "Download complete for ticker K\n",
      "Download complete for ticker KDP\n"
     ]
    },
    {
     "name": "stderr",
     "output_type": "stream",
     "text": [
      "[*********************100%%**********************]  1 of 1 completed\n",
      "[*********************100%%**********************]  1 of 1 completed\n"
     ]
    },
    {
     "name": "stdout",
     "output_type": "stream",
     "text": [
      "Download complete for ticker KEY\n",
      "Download complete for ticker KEYS\n"
     ]
    },
    {
     "name": "stderr",
     "output_type": "stream",
     "text": [
      "[*********************100%%**********************]  1 of 1 completed\n",
      "[*********************100%%**********************]  1 of 1 completed\n"
     ]
    },
    {
     "name": "stdout",
     "output_type": "stream",
     "text": [
      "Download complete for ticker KHC\n",
      "Download complete for ticker KIM\n"
     ]
    },
    {
     "name": "stderr",
     "output_type": "stream",
     "text": [
      "[*********************100%%**********************]  1 of 1 completed\n",
      "[*********************100%%**********************]  1 of 1 completed\n"
     ]
    },
    {
     "name": "stdout",
     "output_type": "stream",
     "text": [
      "Download complete for ticker KKR\n",
      "Download complete for ticker KLAC\n"
     ]
    },
    {
     "name": "stderr",
     "output_type": "stream",
     "text": [
      "[*********************100%%**********************]  1 of 1 completed\n",
      "[*********************100%%**********************]  1 of 1 completed\n"
     ]
    },
    {
     "name": "stdout",
     "output_type": "stream",
     "text": [
      "Download complete for ticker KMB\n",
      "Download complete for ticker KMI\n"
     ]
    },
    {
     "name": "stderr",
     "output_type": "stream",
     "text": [
      "[*********************100%%**********************]  1 of 1 completed\n",
      "[*********************100%%**********************]  1 of 1 completed\n"
     ]
    },
    {
     "name": "stdout",
     "output_type": "stream",
     "text": [
      "Download complete for ticker KMX\n",
      "Download complete for ticker KO\n"
     ]
    },
    {
     "name": "stderr",
     "output_type": "stream",
     "text": [
      "[*********************100%%**********************]  1 of 1 completed\n",
      "[*********************100%%**********************]  1 of 1 completed\n"
     ]
    },
    {
     "name": "stdout",
     "output_type": "stream",
     "text": [
      "Download complete for ticker KR\n",
      "Download complete for ticker KVUE\n"
     ]
    },
    {
     "name": "stderr",
     "output_type": "stream",
     "text": [
      "[*********************100%%**********************]  1 of 1 completed\n",
      "[*********************100%%**********************]  1 of 1 completed\n"
     ]
    },
    {
     "name": "stdout",
     "output_type": "stream",
     "text": [
      "Download complete for ticker L\n",
      "Download complete for ticker LDOS\n"
     ]
    },
    {
     "name": "stderr",
     "output_type": "stream",
     "text": [
      "[*********************100%%**********************]  1 of 1 completed\n",
      "[*********************100%%**********************]  1 of 1 completed\n"
     ]
    },
    {
     "name": "stdout",
     "output_type": "stream",
     "text": [
      "Download complete for ticker LEN\n",
      "Download complete for ticker LH\n"
     ]
    },
    {
     "name": "stderr",
     "output_type": "stream",
     "text": [
      "[*********************100%%**********************]  1 of 1 completed\n",
      "[*********************100%%**********************]  1 of 1 completed\n"
     ]
    },
    {
     "name": "stdout",
     "output_type": "stream",
     "text": [
      "Download complete for ticker LHX\n",
      "Download complete for ticker LIN\n"
     ]
    },
    {
     "name": "stderr",
     "output_type": "stream",
     "text": [
      "[*********************100%%**********************]  1 of 1 completed\n",
      "[*********************100%%**********************]  1 of 1 completed\n"
     ]
    },
    {
     "name": "stdout",
     "output_type": "stream",
     "text": [
      "Download complete for ticker LKQ\n",
      "Download complete for ticker LLY\n"
     ]
    },
    {
     "name": "stderr",
     "output_type": "stream",
     "text": [
      "[*********************100%%**********************]  1 of 1 completed\n",
      "[*********************100%%**********************]  1 of 1 completed\n"
     ]
    },
    {
     "name": "stdout",
     "output_type": "stream",
     "text": [
      "Download complete for ticker LMT\n",
      "Download complete for ticker LNT\n"
     ]
    },
    {
     "name": "stderr",
     "output_type": "stream",
     "text": [
      "[*********************100%%**********************]  1 of 1 completed\n",
      "[*********************100%%**********************]  1 of 1 completed\n"
     ]
    },
    {
     "name": "stdout",
     "output_type": "stream",
     "text": [
      "Download complete for ticker LOW\n",
      "Download complete for ticker LRCX\n"
     ]
    },
    {
     "name": "stderr",
     "output_type": "stream",
     "text": [
      "[*********************100%%**********************]  1 of 1 completed\n",
      "[*********************100%%**********************]  1 of 1 completed\n"
     ]
    },
    {
     "name": "stdout",
     "output_type": "stream",
     "text": [
      "Download complete for ticker LULU\n",
      "Download complete for ticker LUV\n"
     ]
    },
    {
     "name": "stderr",
     "output_type": "stream",
     "text": [
      "[*********************100%%**********************]  1 of 1 completed\n",
      "[*********************100%%**********************]  1 of 1 completed\n"
     ]
    },
    {
     "name": "stdout",
     "output_type": "stream",
     "text": [
      "Download complete for ticker LVS\n",
      "Download complete for ticker LW\n"
     ]
    },
    {
     "name": "stderr",
     "output_type": "stream",
     "text": [
      "[*********************100%%**********************]  1 of 1 completed\n",
      "[*********************100%%**********************]  1 of 1 completed\n"
     ]
    },
    {
     "name": "stdout",
     "output_type": "stream",
     "text": [
      "Download complete for ticker LYB\n",
      "Download complete for ticker LYV\n"
     ]
    },
    {
     "name": "stderr",
     "output_type": "stream",
     "text": [
      "[*********************100%%**********************]  1 of 1 completed\n",
      "[*********************100%%**********************]  1 of 1 completed\n"
     ]
    },
    {
     "name": "stdout",
     "output_type": "stream",
     "text": [
      "Download complete for ticker MA\n",
      "Download complete for ticker MAA\n"
     ]
    },
    {
     "name": "stderr",
     "output_type": "stream",
     "text": [
      "[*********************100%%**********************]  1 of 1 completed\n",
      "[*********************100%%**********************]  1 of 1 completed\n"
     ]
    },
    {
     "name": "stdout",
     "output_type": "stream",
     "text": [
      "Download complete for ticker MAR\n",
      "Download complete for ticker MAS\n"
     ]
    },
    {
     "name": "stderr",
     "output_type": "stream",
     "text": [
      "[*********************100%%**********************]  1 of 1 completed\n",
      "[*********************100%%**********************]  1 of 1 completed\n"
     ]
    },
    {
     "name": "stdout",
     "output_type": "stream",
     "text": [
      "Download complete for ticker MCD\n",
      "Download complete for ticker MCHP\n"
     ]
    },
    {
     "name": "stderr",
     "output_type": "stream",
     "text": [
      "[*********************100%%**********************]  1 of 1 completed\n",
      "[*********************100%%**********************]  1 of 1 completed\n"
     ]
    },
    {
     "name": "stdout",
     "output_type": "stream",
     "text": [
      "Download complete for ticker MCK\n",
      "Download complete for ticker MCO\n"
     ]
    },
    {
     "name": "stderr",
     "output_type": "stream",
     "text": [
      "[*********************100%%**********************]  1 of 1 completed\n",
      "[*********************100%%**********************]  1 of 1 completed\n"
     ]
    },
    {
     "name": "stdout",
     "output_type": "stream",
     "text": [
      "Download complete for ticker MDLZ\n",
      "Download complete for ticker MDT\n"
     ]
    },
    {
     "name": "stderr",
     "output_type": "stream",
     "text": [
      "[*********************100%%**********************]  1 of 1 completed\n",
      "[*********************100%%**********************]  1 of 1 completed\n"
     ]
    },
    {
     "name": "stdout",
     "output_type": "stream",
     "text": [
      "Download complete for ticker MET\n",
      "Download complete for ticker META\n"
     ]
    },
    {
     "name": "stderr",
     "output_type": "stream",
     "text": [
      "[*********************100%%**********************]  1 of 1 completed\n",
      "[*********************100%%**********************]  1 of 1 completed\n"
     ]
    },
    {
     "name": "stdout",
     "output_type": "stream",
     "text": [
      "Download complete for ticker MGM\n",
      "Download complete for ticker MHK\n"
     ]
    },
    {
     "name": "stderr",
     "output_type": "stream",
     "text": [
      "[*********************100%%**********************]  1 of 1 completed\n",
      "[*********************100%%**********************]  1 of 1 completed\n"
     ]
    },
    {
     "name": "stdout",
     "output_type": "stream",
     "text": [
      "Download complete for ticker MKC\n",
      "Download complete for ticker MKTX\n"
     ]
    },
    {
     "name": "stderr",
     "output_type": "stream",
     "text": [
      "[*********************100%%**********************]  1 of 1 completed\n",
      "[*********************100%%**********************]  1 of 1 completed\n"
     ]
    },
    {
     "name": "stdout",
     "output_type": "stream",
     "text": [
      "Download complete for ticker MLM\n",
      "Download complete for ticker MMC\n"
     ]
    },
    {
     "name": "stderr",
     "output_type": "stream",
     "text": [
      "[*********************100%%**********************]  1 of 1 completed\n",
      "[*********************100%%**********************]  1 of 1 completed\n"
     ]
    },
    {
     "name": "stdout",
     "output_type": "stream",
     "text": [
      "Download complete for ticker MMM\n",
      "Download complete for ticker MNST\n"
     ]
    },
    {
     "name": "stderr",
     "output_type": "stream",
     "text": [
      "[*********************100%%**********************]  1 of 1 completed\n",
      "[*********************100%%**********************]  1 of 1 completed"
     ]
    },
    {
     "name": "stdout",
     "output_type": "stream",
     "text": [
      "Download complete for ticker MO\n",
      "Download complete for ticker MOH\n"
     ]
    },
    {
     "name": "stderr",
     "output_type": "stream",
     "text": [
      "\n",
      "[*********************100%%**********************]  1 of 1 completed\n",
      "[*********************100%%**********************]  1 of 1 completed\n"
     ]
    },
    {
     "name": "stdout",
     "output_type": "stream",
     "text": [
      "Download complete for ticker MOS\n",
      "Download complete for ticker MPC\n"
     ]
    },
    {
     "name": "stderr",
     "output_type": "stream",
     "text": [
      "[*********************100%%**********************]  1 of 1 completed\n",
      "[*********************100%%**********************]  1 of 1 completed\n"
     ]
    },
    {
     "name": "stdout",
     "output_type": "stream",
     "text": [
      "Download complete for ticker MPWR\n",
      "Download complete for ticker MRK\n"
     ]
    },
    {
     "name": "stderr",
     "output_type": "stream",
     "text": [
      "[*********************100%%**********************]  1 of 1 completed\n",
      "[*********************100%%**********************]  1 of 1 completed\n"
     ]
    },
    {
     "name": "stdout",
     "output_type": "stream",
     "text": [
      "Download complete for ticker MRNA\n",
      "Download complete for ticker MRO\n"
     ]
    },
    {
     "name": "stderr",
     "output_type": "stream",
     "text": [
      "[*********************100%%**********************]  1 of 1 completed\n",
      "[*********************100%%**********************]  1 of 1 completed\n"
     ]
    },
    {
     "name": "stdout",
     "output_type": "stream",
     "text": [
      "Download complete for ticker MS\n",
      "Download complete for ticker MSCI\n"
     ]
    },
    {
     "name": "stderr",
     "output_type": "stream",
     "text": [
      "[*********************100%%**********************]  1 of 1 completed\n",
      "[*********************100%%**********************]  1 of 1 completed\n"
     ]
    },
    {
     "name": "stdout",
     "output_type": "stream",
     "text": [
      "Download complete for ticker MSFT\n",
      "Download complete for ticker MSI\n"
     ]
    },
    {
     "name": "stderr",
     "output_type": "stream",
     "text": [
      "[*********************100%%**********************]  1 of 1 completed\n",
      "[*********************100%%**********************]  1 of 1 completed\n"
     ]
    },
    {
     "name": "stdout",
     "output_type": "stream",
     "text": [
      "Download complete for ticker MTB\n",
      "Download complete for ticker MTCH\n"
     ]
    },
    {
     "name": "stderr",
     "output_type": "stream",
     "text": [
      "[*********************100%%**********************]  1 of 1 completed\n",
      "[*********************100%%**********************]  1 of 1 completed\n"
     ]
    },
    {
     "name": "stdout",
     "output_type": "stream",
     "text": [
      "Download complete for ticker MTD\n",
      "Download complete for ticker MU\n"
     ]
    },
    {
     "name": "stderr",
     "output_type": "stream",
     "text": [
      "[*********************100%%**********************]  1 of 1 completed\n",
      "[*********************100%%**********************]  1 of 1 completed\n"
     ]
    },
    {
     "name": "stdout",
     "output_type": "stream",
     "text": [
      "Download complete for ticker NCLH\n",
      "Download complete for ticker NDAQ\n"
     ]
    },
    {
     "name": "stderr",
     "output_type": "stream",
     "text": [
      "[*********************100%%**********************]  1 of 1 completed\n",
      "[*********************100%%**********************]  1 of 1 completed\n"
     ]
    },
    {
     "name": "stdout",
     "output_type": "stream",
     "text": [
      "Download complete for ticker NDSN\n",
      "Download complete for ticker NEE\n"
     ]
    },
    {
     "name": "stderr",
     "output_type": "stream",
     "text": [
      "[*********************100%%**********************]  1 of 1 completed\n",
      "[*********************100%%**********************]  1 of 1 completed\n"
     ]
    },
    {
     "name": "stdout",
     "output_type": "stream",
     "text": [
      "Download complete for ticker NEM\n",
      "Download complete for ticker NFLX\n"
     ]
    },
    {
     "name": "stderr",
     "output_type": "stream",
     "text": [
      "[*********************100%%**********************]  1 of 1 completed\n",
      "[*********************100%%**********************]  1 of 1 completed\n"
     ]
    },
    {
     "name": "stdout",
     "output_type": "stream",
     "text": [
      "Download complete for ticker NI\n",
      "Download complete for ticker NKE\n"
     ]
    },
    {
     "name": "stderr",
     "output_type": "stream",
     "text": [
      "[*********************100%%**********************]  1 of 1 completed\n",
      "[*********************100%%**********************]  1 of 1 completed\n"
     ]
    },
    {
     "name": "stdout",
     "output_type": "stream",
     "text": [
      "Download complete for ticker NOC\n",
      "Download complete for ticker NOW\n"
     ]
    },
    {
     "name": "stderr",
     "output_type": "stream",
     "text": [
      "[*********************100%%**********************]  1 of 1 completed\n",
      "[*********************100%%**********************]  1 of 1 completed\n"
     ]
    },
    {
     "name": "stdout",
     "output_type": "stream",
     "text": [
      "Download complete for ticker NRG\n",
      "Download complete for ticker NSC\n"
     ]
    },
    {
     "name": "stderr",
     "output_type": "stream",
     "text": [
      "[*********************100%%**********************]  1 of 1 completed\n",
      "[*********************100%%**********************]  1 of 1 completed\n"
     ]
    },
    {
     "name": "stdout",
     "output_type": "stream",
     "text": [
      "Download complete for ticker NTAP\n",
      "Download complete for ticker NTRS\n"
     ]
    },
    {
     "name": "stderr",
     "output_type": "stream",
     "text": [
      "[*********************100%%**********************]  1 of 1 completed\n",
      "[*********************100%%**********************]  1 of 1 completed\n"
     ]
    },
    {
     "name": "stdout",
     "output_type": "stream",
     "text": [
      "Download complete for ticker NUE\n",
      "Download complete for ticker NVDA\n"
     ]
    },
    {
     "name": "stderr",
     "output_type": "stream",
     "text": [
      "[*********************100%%**********************]  1 of 1 completed\n"
     ]
    },
    {
     "name": "stdout",
     "output_type": "stream",
     "text": [
      "Download complete for ticker NVR\n"
     ]
    },
    {
     "name": "stderr",
     "output_type": "stream",
     "text": [
      "[*********************100%%**********************]  1 of 1 completed\n",
      "[*********************100%%**********************]  1 of 1 completed\n"
     ]
    },
    {
     "name": "stdout",
     "output_type": "stream",
     "text": [
      "Download complete for ticker NWSA\n",
      "Download complete for ticker NXPI\n"
     ]
    },
    {
     "name": "stderr",
     "output_type": "stream",
     "text": [
      "[*********************100%%**********************]  1 of 1 completed\n",
      "[*********************100%%**********************]  1 of 1 completed\n"
     ]
    },
    {
     "name": "stdout",
     "output_type": "stream",
     "text": [
      "Download complete for ticker O\n",
      "Download complete for ticker ODFL\n"
     ]
    },
    {
     "name": "stderr",
     "output_type": "stream",
     "text": [
      "[*********************100%%**********************]  1 of 1 completed\n",
      "[*********************100%%**********************]  1 of 1 completed\n"
     ]
    },
    {
     "name": "stdout",
     "output_type": "stream",
     "text": [
      "Download complete for ticker OKE\n",
      "Download complete for ticker OMC\n"
     ]
    },
    {
     "name": "stderr",
     "output_type": "stream",
     "text": [
      "[*********************100%%**********************]  1 of 1 completed\n",
      "[*********************100%%**********************]  1 of 1 completed\n"
     ]
    },
    {
     "name": "stdout",
     "output_type": "stream",
     "text": [
      "Download complete for ticker ON\n",
      "Download complete for ticker ORCL\n"
     ]
    },
    {
     "name": "stderr",
     "output_type": "stream",
     "text": [
      "[*********************100%%**********************]  1 of 1 completed\n",
      "[*********************100%%**********************]  1 of 1 completed\n"
     ]
    },
    {
     "name": "stdout",
     "output_type": "stream",
     "text": [
      "Download complete for ticker ORLY\n",
      "Download complete for ticker OTIS\n"
     ]
    },
    {
     "name": "stderr",
     "output_type": "stream",
     "text": [
      "[*********************100%%**********************]  1 of 1 completed\n",
      "[*********************100%%**********************]  1 of 1 completed"
     ]
    },
    {
     "name": "stdout",
     "output_type": "stream",
     "text": [
      "Download complete for ticker OXY\n",
      "Download complete for ticker PANW\n"
     ]
    },
    {
     "name": "stderr",
     "output_type": "stream",
     "text": [
      "\n",
      "[*********************100%%**********************]  1 of 1 completed\n",
      "[*********************100%%**********************]  1 of 1 completed\n"
     ]
    },
    {
     "name": "stdout",
     "output_type": "stream",
     "text": [
      "Download complete for ticker PARA\n",
      "Download complete for ticker PAYC\n"
     ]
    },
    {
     "name": "stderr",
     "output_type": "stream",
     "text": [
      "[*********************100%%**********************]  1 of 1 completed\n",
      "[*********************100%%**********************]  1 of 1 completed\n"
     ]
    },
    {
     "name": "stdout",
     "output_type": "stream",
     "text": [
      "Download complete for ticker PAYX\n",
      "Download complete for ticker PCAR\n"
     ]
    },
    {
     "name": "stderr",
     "output_type": "stream",
     "text": [
      "[*********************100%%**********************]  1 of 1 completed\n",
      "[*********************100%%**********************]  1 of 1 completed\n"
     ]
    },
    {
     "name": "stdout",
     "output_type": "stream",
     "text": [
      "Download complete for ticker PCG\n",
      "Download complete for ticker PEG\n"
     ]
    },
    {
     "name": "stderr",
     "output_type": "stream",
     "text": [
      "[*********************100%%**********************]  1 of 1 completed\n",
      "[*********************100%%**********************]  1 of 1 completed\n"
     ]
    },
    {
     "name": "stdout",
     "output_type": "stream",
     "text": [
      "Download complete for ticker PEP\n",
      "Download complete for ticker PFE\n"
     ]
    },
    {
     "name": "stderr",
     "output_type": "stream",
     "text": [
      "[*********************100%%**********************]  1 of 1 completed\n",
      "[*********************100%%**********************]  1 of 1 completed\n"
     ]
    },
    {
     "name": "stdout",
     "output_type": "stream",
     "text": [
      "Download complete for ticker PFG\n",
      "Download complete for ticker PG\n"
     ]
    },
    {
     "name": "stderr",
     "output_type": "stream",
     "text": [
      "[*********************100%%**********************]  1 of 1 completed\n",
      "[*********************100%%**********************]  1 of 1 completed\n"
     ]
    },
    {
     "name": "stdout",
     "output_type": "stream",
     "text": [
      "Download complete for ticker PGR\n",
      "Download complete for ticker PH\n"
     ]
    },
    {
     "name": "stderr",
     "output_type": "stream",
     "text": [
      "[*********************100%%**********************]  1 of 1 completed\n",
      "[*********************100%%**********************]  1 of 1 completed\n"
     ]
    },
    {
     "name": "stdout",
     "output_type": "stream",
     "text": [
      "Download complete for ticker PHM\n",
      "Download complete for ticker PKG\n"
     ]
    },
    {
     "name": "stderr",
     "output_type": "stream",
     "text": [
      "[*********************100%%**********************]  1 of 1 completed\n",
      "[*********************100%%**********************]  1 of 1 completed\n"
     ]
    },
    {
     "name": "stdout",
     "output_type": "stream",
     "text": [
      "Download complete for ticker PLD\n",
      "Download complete for ticker PM\n"
     ]
    },
    {
     "name": "stderr",
     "output_type": "stream",
     "text": [
      "[*********************100%%**********************]  1 of 1 completed\n",
      "[*********************100%%**********************]  1 of 1 completed\n"
     ]
    },
    {
     "name": "stdout",
     "output_type": "stream",
     "text": [
      "Download complete for ticker PNC\n",
      "Download complete for ticker PNR\n"
     ]
    },
    {
     "name": "stderr",
     "output_type": "stream",
     "text": [
      "[*********************100%%**********************]  1 of 1 completed\n",
      "[*********************100%%**********************]  1 of 1 completed\n"
     ]
    },
    {
     "name": "stdout",
     "output_type": "stream",
     "text": [
      "Download complete for ticker PNW\n",
      "Download complete for ticker PODD\n"
     ]
    },
    {
     "name": "stderr",
     "output_type": "stream",
     "text": [
      "[*********************100%%**********************]  1 of 1 completed\n",
      "[*********************100%%**********************]  1 of 1 completed\n"
     ]
    },
    {
     "name": "stdout",
     "output_type": "stream",
     "text": [
      "Download complete for ticker POOL\n",
      "Download complete for ticker PPG\n"
     ]
    },
    {
     "name": "stderr",
     "output_type": "stream",
     "text": [
      "[*********************100%%**********************]  1 of 1 completed\n",
      "[*********************100%%**********************]  1 of 1 completed\n"
     ]
    },
    {
     "name": "stdout",
     "output_type": "stream",
     "text": [
      "Download complete for ticker PPL\n",
      "Download complete for ticker PRU\n"
     ]
    },
    {
     "name": "stderr",
     "output_type": "stream",
     "text": [
      "[*********************100%%**********************]  1 of 1 completed\n",
      "[*********************100%%**********************]  1 of 1 completed\n"
     ]
    },
    {
     "name": "stdout",
     "output_type": "stream",
     "text": [
      "Download complete for ticker PSA\n",
      "Download complete for ticker PSX\n"
     ]
    },
    {
     "name": "stderr",
     "output_type": "stream",
     "text": [
      "[*********************100%%**********************]  1 of 1 completed\n",
      "[*********************100%%**********************]  1 of 1 completed\n"
     ]
    },
    {
     "name": "stdout",
     "output_type": "stream",
     "text": [
      "Download complete for ticker PTC\n",
      "Download complete for ticker PWR\n"
     ]
    },
    {
     "name": "stderr",
     "output_type": "stream",
     "text": [
      "[*********************100%%**********************]  1 of 1 completed\n",
      "[*********************100%%**********************]  1 of 1 completed\n"
     ]
    },
    {
     "name": "stdout",
     "output_type": "stream",
     "text": [
      "Download complete for ticker PYPL\n",
      "Download complete for ticker QCOM\n"
     ]
    },
    {
     "name": "stderr",
     "output_type": "stream",
     "text": [
      "[*********************100%%**********************]  1 of 1 completed\n",
      "[*********************100%%**********************]  1 of 1 completed\n"
     ]
    },
    {
     "name": "stdout",
     "output_type": "stream",
     "text": [
      "Download complete for ticker QRVO\n",
      "Download complete for ticker RCL\n"
     ]
    },
    {
     "name": "stderr",
     "output_type": "stream",
     "text": [
      "[*********************100%%**********************]  1 of 1 completed\n",
      "[*********************100%%**********************]  1 of 1 completed\n"
     ]
    },
    {
     "name": "stdout",
     "output_type": "stream",
     "text": [
      "Download complete for ticker REG\n",
      "Download complete for ticker REGN\n"
     ]
    },
    {
     "name": "stderr",
     "output_type": "stream",
     "text": [
      "[*********************100%%**********************]  1 of 1 completed\n",
      "[*********************100%%**********************]  1 of 1 completed\n"
     ]
    },
    {
     "name": "stdout",
     "output_type": "stream",
     "text": [
      "Download complete for ticker RF\n",
      "Download complete for ticker RJF\n"
     ]
    },
    {
     "name": "stderr",
     "output_type": "stream",
     "text": [
      "[*********************100%%**********************]  1 of 1 completed\n",
      "[*********************100%%**********************]  1 of 1 completed\n"
     ]
    },
    {
     "name": "stdout",
     "output_type": "stream",
     "text": [
      "Download complete for ticker RL\n",
      "Download complete for ticker RMD\n"
     ]
    },
    {
     "name": "stderr",
     "output_type": "stream",
     "text": [
      "[*********************100%%**********************]  1 of 1 completed\n",
      "[*********************100%%**********************]  1 of 1 completed\n"
     ]
    },
    {
     "name": "stdout",
     "output_type": "stream",
     "text": [
      "Download complete for ticker ROK\n",
      "Download complete for ticker ROL\n"
     ]
    },
    {
     "name": "stderr",
     "output_type": "stream",
     "text": [
      "[*********************100%%**********************]  1 of 1 completed\n",
      "[*********************100%%**********************]  1 of 1 completed\n"
     ]
    },
    {
     "name": "stdout",
     "output_type": "stream",
     "text": [
      "Download complete for ticker ROP\n",
      "Download complete for ticker ROST\n"
     ]
    },
    {
     "name": "stderr",
     "output_type": "stream",
     "text": [
      "[*********************100%%**********************]  1 of 1 completed\n",
      "[*********************100%%**********************]  1 of 1 completed\n"
     ]
    },
    {
     "name": "stdout",
     "output_type": "stream",
     "text": [
      "Download complete for ticker RSG\n",
      "Download complete for ticker RTX\n"
     ]
    },
    {
     "name": "stderr",
     "output_type": "stream",
     "text": [
      "[*********************100%%**********************]  1 of 1 completed\n",
      "[*********************100%%**********************]  1 of 1 completed\n"
     ]
    },
    {
     "name": "stdout",
     "output_type": "stream",
     "text": [
      "Download complete for ticker RVTY\n",
      "Download complete for ticker SBAC\n"
     ]
    },
    {
     "name": "stderr",
     "output_type": "stream",
     "text": [
      "[*********************100%%**********************]  1 of 1 completed\n",
      "[*********************100%%**********************]  1 of 1 completed\n"
     ]
    },
    {
     "name": "stdout",
     "output_type": "stream",
     "text": [
      "Download complete for ticker SBUX\n",
      "Download complete for ticker SCHW\n"
     ]
    },
    {
     "name": "stderr",
     "output_type": "stream",
     "text": [
      "[*********************100%%**********************]  1 of 1 completed\n",
      "[*********************100%%**********************]  1 of 1 completed\n"
     ]
    },
    {
     "name": "stdout",
     "output_type": "stream",
     "text": [
      "Download complete for ticker SHW\n",
      "Download complete for ticker SJM\n"
     ]
    },
    {
     "name": "stderr",
     "output_type": "stream",
     "text": [
      "[*********************100%%**********************]  1 of 1 completed\n",
      "[*********************100%%**********************]  1 of 1 completed\n"
     ]
    },
    {
     "name": "stdout",
     "output_type": "stream",
     "text": [
      "Download complete for ticker SLB\n",
      "Download complete for ticker SMCI\n"
     ]
    },
    {
     "name": "stderr",
     "output_type": "stream",
     "text": [
      "[*********************100%%**********************]  1 of 1 completed\n"
     ]
    },
    {
     "name": "stdout",
     "output_type": "stream",
     "text": [
      "Download complete for ticker SNA\n"
     ]
    },
    {
     "name": "stderr",
     "output_type": "stream",
     "text": [
      "[*********************100%%**********************]  1 of 1 completed\n",
      "[*********************100%%**********************]  1 of 1 completed\n"
     ]
    },
    {
     "name": "stdout",
     "output_type": "stream",
     "text": [
      "Download complete for ticker SNPS\n",
      "Download complete for ticker SO\n"
     ]
    },
    {
     "name": "stderr",
     "output_type": "stream",
     "text": [
      "[*********************100%%**********************]  1 of 1 completed\n",
      "[*********************100%%**********************]  1 of 1 completed\n"
     ]
    },
    {
     "name": "stdout",
     "output_type": "stream",
     "text": [
      "Download complete for ticker SPG\n",
      "Download complete for ticker SPGI\n"
     ]
    },
    {
     "name": "stderr",
     "output_type": "stream",
     "text": [
      "[*********************100%%**********************]  1 of 1 completed\n",
      "[*********************100%%**********************]  1 of 1 completed\n"
     ]
    },
    {
     "name": "stdout",
     "output_type": "stream",
     "text": [
      "Download complete for ticker SRE\n",
      "Download complete for ticker STE\n"
     ]
    },
    {
     "name": "stderr",
     "output_type": "stream",
     "text": [
      "[*********************100%%**********************]  1 of 1 completed\n",
      "[*********************100%%**********************]  1 of 1 completed\n"
     ]
    },
    {
     "name": "stdout",
     "output_type": "stream",
     "text": [
      "Download complete for ticker STLD\n",
      "Download complete for ticker STT\n"
     ]
    },
    {
     "name": "stderr",
     "output_type": "stream",
     "text": [
      "[*********************100%%**********************]  1 of 1 completed\n",
      "[*********************100%%**********************]  1 of 1 completed\n"
     ]
    },
    {
     "name": "stdout",
     "output_type": "stream",
     "text": [
      "Download complete for ticker STX\n",
      "Download complete for ticker STZ\n"
     ]
    },
    {
     "name": "stderr",
     "output_type": "stream",
     "text": [
      "[*********************100%%**********************]  1 of 1 completed\n",
      "[*********************100%%**********************]  1 of 1 completed\n"
     ]
    },
    {
     "name": "stdout",
     "output_type": "stream",
     "text": [
      "Download complete for ticker SWK\n",
      "Download complete for ticker SWKS\n"
     ]
    },
    {
     "name": "stderr",
     "output_type": "stream",
     "text": [
      "[*********************100%%**********************]  1 of 1 completed\n",
      "[*********************100%%**********************]  1 of 1 completed\n"
     ]
    },
    {
     "name": "stdout",
     "output_type": "stream",
     "text": [
      "Download complete for ticker SYF\n",
      "Download complete for ticker SYK\n"
     ]
    },
    {
     "name": "stderr",
     "output_type": "stream",
     "text": [
      "[*********************100%%**********************]  1 of 1 completed\n",
      "[*********************100%%**********************]  1 of 1 completed\n"
     ]
    },
    {
     "name": "stdout",
     "output_type": "stream",
     "text": [
      "Download complete for ticker SYY\n",
      "Download complete for ticker T\n"
     ]
    },
    {
     "name": "stderr",
     "output_type": "stream",
     "text": [
      "[*********************100%%**********************]  1 of 1 completed\n",
      "[*********************100%%**********************]  1 of 1 completed\n"
     ]
    },
    {
     "name": "stdout",
     "output_type": "stream",
     "text": [
      "Download complete for ticker TAP\n",
      "Download complete for ticker TDG\n"
     ]
    },
    {
     "name": "stderr",
     "output_type": "stream",
     "text": [
      "[*********************100%%**********************]  1 of 1 completed\n",
      "[*********************100%%**********************]  1 of 1 completed\n"
     ]
    },
    {
     "name": "stdout",
     "output_type": "stream",
     "text": [
      "Download complete for ticker TDY\n",
      "Download complete for ticker TECH\n"
     ]
    },
    {
     "name": "stderr",
     "output_type": "stream",
     "text": [
      "[*********************100%%**********************]  1 of 1 completed\n",
      "[*********************100%%**********************]  1 of 1 completed\n"
     ]
    },
    {
     "name": "stdout",
     "output_type": "stream",
     "text": [
      "Download complete for ticker TEL\n",
      "Download complete for ticker TER\n"
     ]
    },
    {
     "name": "stderr",
     "output_type": "stream",
     "text": [
      "[*********************100%%**********************]  1 of 1 completed\n",
      "[*********************100%%**********************]  1 of 1 completed\n"
     ]
    },
    {
     "name": "stdout",
     "output_type": "stream",
     "text": [
      "Download complete for ticker TFC\n",
      "Download complete for ticker TFX\n"
     ]
    },
    {
     "name": "stderr",
     "output_type": "stream",
     "text": [
      "[*********************100%%**********************]  1 of 1 completed\n",
      "[*********************100%%**********************]  1 of 1 completed\n"
     ]
    },
    {
     "name": "stdout",
     "output_type": "stream",
     "text": [
      "Download complete for ticker TGT\n",
      "Download complete for ticker TJX\n"
     ]
    },
    {
     "name": "stderr",
     "output_type": "stream",
     "text": [
      "[*********************100%%**********************]  1 of 1 completed\n",
      "[*********************100%%**********************]  1 of 1 completed\n"
     ]
    },
    {
     "name": "stdout",
     "output_type": "stream",
     "text": [
      "Download complete for ticker TMO\n",
      "Download complete for ticker TMUS\n"
     ]
    },
    {
     "name": "stderr",
     "output_type": "stream",
     "text": [
      "[*********************100%%**********************]  1 of 1 completed\n",
      "[*********************100%%**********************]  1 of 1 completed\n"
     ]
    },
    {
     "name": "stdout",
     "output_type": "stream",
     "text": [
      "Download complete for ticker TPR\n",
      "Download complete for ticker TRGP\n"
     ]
    },
    {
     "name": "stderr",
     "output_type": "stream",
     "text": [
      "[*********************100%%**********************]  1 of 1 completed\n",
      "[*********************100%%**********************]  1 of 1 completed\n"
     ]
    },
    {
     "name": "stdout",
     "output_type": "stream",
     "text": [
      "Download complete for ticker TRMB\n",
      "Download complete for ticker TROW\n"
     ]
    },
    {
     "name": "stderr",
     "output_type": "stream",
     "text": [
      "[*********************100%%**********************]  1 of 1 completed\n",
      "[*********************100%%**********************]  1 of 1 completed\n"
     ]
    },
    {
     "name": "stdout",
     "output_type": "stream",
     "text": [
      "Download complete for ticker TRV\n",
      "Download complete for ticker TSCO\n"
     ]
    },
    {
     "name": "stderr",
     "output_type": "stream",
     "text": [
      "[*********************100%%**********************]  1 of 1 completed\n",
      "[*********************100%%**********************]  1 of 1 completed\n"
     ]
    },
    {
     "name": "stdout",
     "output_type": "stream",
     "text": [
      "Download complete for ticker TSLA\n",
      "Download complete for ticker TSN\n"
     ]
    },
    {
     "name": "stderr",
     "output_type": "stream",
     "text": [
      "[*********************100%%**********************]  1 of 1 completed\n",
      "[*********************100%%**********************]  1 of 1 completed\n"
     ]
    },
    {
     "name": "stdout",
     "output_type": "stream",
     "text": [
      "Download complete for ticker TT\n",
      "Download complete for ticker TTWO\n"
     ]
    },
    {
     "name": "stderr",
     "output_type": "stream",
     "text": [
      "[*********************100%%**********************]  1 of 1 completed\n"
     ]
    },
    {
     "name": "stdout",
     "output_type": "stream",
     "text": [
      "Download complete for ticker TXN\n"
     ]
    },
    {
     "name": "stderr",
     "output_type": "stream",
     "text": [
      "[*********************100%%**********************]  1 of 1 completed\n"
     ]
    },
    {
     "name": "stdout",
     "output_type": "stream",
     "text": [
      "Download complete for ticker TXT\n"
     ]
    },
    {
     "name": "stderr",
     "output_type": "stream",
     "text": [
      "[*********************100%%**********************]  1 of 1 completed\n",
      "[*********************100%%**********************]  1 of 1 completed\n",
      "[*********************100%%**********************]  1 of 1 completed\n"
     ]
    },
    {
     "name": "stdout",
     "output_type": "stream",
     "text": [
      "Download complete for ticker TYL\n",
      "Download complete for ticker UAL\n",
      "Download complete for ticker UBER\n"
     ]
    },
    {
     "name": "stderr",
     "output_type": "stream",
     "text": [
      "[*********************100%%**********************]  1 of 1 completed\n",
      "[*********************100%%**********************]  1 of 1 completed\n"
     ]
    },
    {
     "name": "stdout",
     "output_type": "stream",
     "text": [
      "Download complete for ticker UDR\n",
      "Download complete for ticker UHS\n"
     ]
    },
    {
     "name": "stderr",
     "output_type": "stream",
     "text": [
      "[*********************100%%**********************]  1 of 1 completed\n",
      "[*********************100%%**********************]  1 of 1 completed\n"
     ]
    },
    {
     "name": "stdout",
     "output_type": "stream",
     "text": [
      "Download complete for ticker ULTA\n",
      "Download complete for ticker UNH\n"
     ]
    },
    {
     "name": "stderr",
     "output_type": "stream",
     "text": [
      "[*********************100%%**********************]  1 of 1 completed\n",
      "[*********************100%%**********************]  1 of 1 completed\n"
     ]
    },
    {
     "name": "stdout",
     "output_type": "stream",
     "text": [
      "Download complete for ticker UNP\n",
      "Download complete for ticker UPS\n"
     ]
    },
    {
     "name": "stderr",
     "output_type": "stream",
     "text": [
      "[*********************100%%**********************]  1 of 1 completed\n",
      "[*********************100%%**********************]  1 of 1 completed\n"
     ]
    },
    {
     "name": "stdout",
     "output_type": "stream",
     "text": [
      "Download complete for ticker URI\n",
      "Download complete for ticker USB\n"
     ]
    },
    {
     "name": "stderr",
     "output_type": "stream",
     "text": [
      "[*********************100%%**********************]  1 of 1 completed\n",
      "[*********************100%%**********************]  1 of 1 completed\n"
     ]
    },
    {
     "name": "stdout",
     "output_type": "stream",
     "text": [
      "Download complete for ticker V\n",
      "Download complete for ticker VICI\n"
     ]
    },
    {
     "name": "stderr",
     "output_type": "stream",
     "text": [
      "[*********************100%%**********************]  1 of 1 completed\n",
      "[*********************100%%**********************]  1 of 1 completed\n"
     ]
    },
    {
     "name": "stdout",
     "output_type": "stream",
     "text": [
      "Download complete for ticker VLO\n",
      "Download complete for ticker VLTO\n"
     ]
    },
    {
     "name": "stderr",
     "output_type": "stream",
     "text": [
      "[*********************100%%**********************]  1 of 1 completed\n",
      "[*********************100%%**********************]  1 of 1 completed\n"
     ]
    },
    {
     "name": "stdout",
     "output_type": "stream",
     "text": [
      "Download complete for ticker VMC\n",
      "Download complete for ticker VRSK\n"
     ]
    },
    {
     "name": "stderr",
     "output_type": "stream",
     "text": [
      "[*********************100%%**********************]  1 of 1 completed\n",
      "[*********************100%%**********************]  1 of 1 completed\n"
     ]
    },
    {
     "name": "stdout",
     "output_type": "stream",
     "text": [
      "Download complete for ticker VRSN\n",
      "Download complete for ticker VRTX\n"
     ]
    },
    {
     "name": "stderr",
     "output_type": "stream",
     "text": [
      "[*********************100%%**********************]  1 of 1 completed\n",
      "[*********************100%%**********************]  1 of 1 completed\n"
     ]
    },
    {
     "name": "stdout",
     "output_type": "stream",
     "text": [
      "Download complete for ticker VST\n",
      "Download complete for ticker VTR\n"
     ]
    },
    {
     "name": "stderr",
     "output_type": "stream",
     "text": [
      "[*********************100%%**********************]  1 of 1 completed\n",
      "[*********************100%%**********************]  1 of 1 completed\n"
     ]
    },
    {
     "name": "stdout",
     "output_type": "stream",
     "text": [
      "Download complete for ticker VTRS\n",
      "Download complete for ticker VZ\n"
     ]
    },
    {
     "name": "stderr",
     "output_type": "stream",
     "text": [
      "[*********************100%%**********************]  1 of 1 completed\n",
      "[*********************100%%**********************]  1 of 1 completed\n"
     ]
    },
    {
     "name": "stdout",
     "output_type": "stream",
     "text": [
      "Download complete for ticker WAB\n",
      "Download complete for ticker WAT\n"
     ]
    },
    {
     "name": "stderr",
     "output_type": "stream",
     "text": [
      "[*********************100%%**********************]  1 of 1 completed\n",
      "[*********************100%%**********************]  1 of 1 completed\n"
     ]
    },
    {
     "name": "stdout",
     "output_type": "stream",
     "text": [
      "Download complete for ticker WBA\n",
      "Download complete for ticker WBD\n"
     ]
    },
    {
     "name": "stderr",
     "output_type": "stream",
     "text": [
      "[*********************100%%**********************]  1 of 1 completed\n",
      "[*********************100%%**********************]  1 of 1 completed\n"
     ]
    },
    {
     "name": "stdout",
     "output_type": "stream",
     "text": [
      "Download complete for ticker WDC\n",
      "Download complete for ticker WEC\n"
     ]
    },
    {
     "name": "stderr",
     "output_type": "stream",
     "text": [
      "[*********************100%%**********************]  1 of 1 completed\n",
      "[*********************100%%**********************]  1 of 1 completed\n"
     ]
    },
    {
     "name": "stdout",
     "output_type": "stream",
     "text": [
      "Download complete for ticker WELL\n",
      "Download complete for ticker WFC\n"
     ]
    },
    {
     "name": "stderr",
     "output_type": "stream",
     "text": [
      "[*********************100%%**********************]  1 of 1 completed\n",
      "[*********************100%%**********************]  1 of 1 completed\n"
     ]
    },
    {
     "name": "stdout",
     "output_type": "stream",
     "text": [
      "Download complete for ticker WM\n",
      "Download complete for ticker WMB\n"
     ]
    },
    {
     "name": "stderr",
     "output_type": "stream",
     "text": [
      "[*********************100%%**********************]  1 of 1 completed\n",
      "[*********************100%%**********************]  1 of 1 completed\n"
     ]
    },
    {
     "name": "stdout",
     "output_type": "stream",
     "text": [
      "Download complete for ticker WMT\n",
      "Download complete for ticker WRB\n"
     ]
    },
    {
     "name": "stderr",
     "output_type": "stream",
     "text": [
      "[*********************100%%**********************]  1 of 1 completed\n",
      "[*********************100%%**********************]  1 of 1 completed\n"
     ]
    },
    {
     "name": "stdout",
     "output_type": "stream",
     "text": [
      "Download complete for ticker WST\n",
      "Download complete for ticker WTW\n"
     ]
    },
    {
     "name": "stderr",
     "output_type": "stream",
     "text": [
      "[*********************100%%**********************]  1 of 1 completed\n",
      "[*********************100%%**********************]  1 of 1 completed\n"
     ]
    },
    {
     "name": "stdout",
     "output_type": "stream",
     "text": [
      "Download complete for ticker WY\n",
      "Download complete for ticker WYNN\n"
     ]
    },
    {
     "name": "stderr",
     "output_type": "stream",
     "text": [
      "[*********************100%%**********************]  1 of 1 completed\n",
      "[*********************100%%**********************]  1 of 1 completed\n"
     ]
    },
    {
     "name": "stdout",
     "output_type": "stream",
     "text": [
      "Download complete for ticker XEL\n",
      "Download complete for ticker XOM\n"
     ]
    },
    {
     "name": "stderr",
     "output_type": "stream",
     "text": [
      "[*********************100%%**********************]  1 of 1 completed\n",
      "[*********************100%%**********************]  1 of 1 completed\n"
     ]
    },
    {
     "name": "stdout",
     "output_type": "stream",
     "text": [
      "Download complete for ticker XYL\n",
      "Download complete for ticker YUM\n"
     ]
    },
    {
     "name": "stderr",
     "output_type": "stream",
     "text": [
      "[*********************100%%**********************]  1 of 1 completed\n",
      "[*********************100%%**********************]  1 of 1 completed\n"
     ]
    },
    {
     "name": "stdout",
     "output_type": "stream",
     "text": [
      "Download complete for ticker ZBH\n",
      "Download complete for ticker ZBRA\n"
     ]
    },
    {
     "name": "stderr",
     "output_type": "stream",
     "text": [
      "[*********************100%%**********************]  1 of 1 completed\n",
      "[*********************100%%**********************]  1 of 1 completed"
     ]
    },
    {
     "name": "stdout",
     "output_type": "stream",
     "text": [
      "Download complete for ticker ZTS\n"
     ]
    },
    {
     "name": "stderr",
     "output_type": "stream",
     "text": [
      "\n"
     ]
    }
   ],
   "source": [
    "# Extract SP 500 stock data for each ticker and available year from yfinance\n",
    "bad_tickers = []\n",
    "\n",
    "# Setup years and df\n",
    "years = [2015, 2016, 2017, 2018, 2019, 2020, 2021, 2022, 2023]\n",
    "yearly_stocks_df = pd.DataFrame(columns=['Ticker', 'Year', 'Year_Open', 'Year_High', 'Year_Low', 'Year_Close', 'Year_Volume'])\n",
    "good_years = 0\n",
    "\n",
    "# Loop through unique tickers\n",
    "for index,row in unique_tickers_df.iterrows():\n",
    "    try:\n",
    "        # Extract monthly data\n",
    "        ticker = row[\"Ticker\"]\n",
    "        print(f'Download complete for ticker {ticker}')\n",
    "        stock_data = yf.download(ticker, start=\"2015-01-01\", end=\"2024-01-01\", interval=\"1mo\")\n",
    "        # Save to a dataframe\n",
    "        stock_df = pd.DataFrame(stock_data).reset_index()\n",
    "        \n",
    "        # Loop through all years in dataframe\n",
    "        for year in years:\n",
    "            #Extract the year\n",
    "            year_stocks = stock_df.loc[stock_df['Date'].dt.year == year].reset_index(drop=True)\n",
    "            # If year exists calculate Year values and save to a dictionary\n",
    "            if year_stocks.empty:\n",
    "                continue\n",
    "            else:\n",
    "                new_year = {\"Ticker\": ticker,\n",
    "                            \"Year\": [year_stocks[\"Date\"].iloc[0].year],\n",
    "                            \"Year_Open\": [year_stocks[\"Open\"].iloc[0]],\n",
    "                            \"Year_High\": [year_stocks[\"High\"].max()],\n",
    "                            \"Year_Low\": [year_stocks[\"Low\"].min()],\n",
    "                            \"Year_Close\": [year_stocks[\"Close\"].iloc[-1]],\n",
    "                            \"Year_Volume\": [year_stocks[\"Volume\"].sum()]\n",
    "                   }\n",
    "                # Create a new dataframe from the dictionary and concatenate to master dataframe\n",
    "                new_year_df = pd.DataFrame(new_year)\n",
    "                good_years += 1\n",
    "                yearly_stocks_df = pd.concat([yearly_stocks_df, new_year_df], ignore_index=True)\n",
    "        \n",
    "    except Exception as e:\n",
    "        print(f'Error occured in stock download: {e}')\n",
    "        bad_tickers.append(ticker)"
   ]
  },
  {
   "cell_type": "code",
   "execution_count": 89,
   "id": "a05b7ea5",
   "metadata": {},
   "outputs": [
    {
     "data": {
      "text/plain": [
       "[]"
      ]
     },
     "execution_count": 89,
     "metadata": {},
     "output_type": "execute_result"
    }
   ],
   "source": [
    "# Print bad tickers\n",
    "bad_tickers"
   ]
  },
  {
   "cell_type": "code",
   "execution_count": 160,
   "id": "75a1d892",
   "metadata": {},
   "outputs": [
    {
     "data": {
      "text/html": [
       "<div>\n",
       "<style scoped>\n",
       "    .dataframe tbody tr th:only-of-type {\n",
       "        vertical-align: middle;\n",
       "    }\n",
       "\n",
       "    .dataframe tbody tr th {\n",
       "        vertical-align: top;\n",
       "    }\n",
       "\n",
       "    .dataframe thead th {\n",
       "        text-align: right;\n",
       "    }\n",
       "</style>\n",
       "<table border=\"1\" class=\"dataframe\">\n",
       "  <thead>\n",
       "    <tr style=\"text-align: right;\">\n",
       "      <th></th>\n",
       "      <th>Ticker</th>\n",
       "      <th>Year</th>\n",
       "      <th>Year_Open</th>\n",
       "      <th>Year_High</th>\n",
       "      <th>Year_Low</th>\n",
       "      <th>Year_Close</th>\n",
       "      <th>Year_Volume</th>\n",
       "      <th>Stock_CAGR</th>\n",
       "    </tr>\n",
       "  </thead>\n",
       "  <tbody>\n",
       "    <tr>\n",
       "      <th>0</th>\n",
       "      <td>A</td>\n",
       "      <td>2015</td>\n",
       "      <td>41.180000</td>\n",
       "      <td>43.590000</td>\n",
       "      <td>33.119999</td>\n",
       "      <td>41.810001</td>\n",
       "      <td>645291900</td>\n",
       "      <td>0.015299</td>\n",
       "    </tr>\n",
       "    <tr>\n",
       "      <th>1</th>\n",
       "      <td>A</td>\n",
       "      <td>2016</td>\n",
       "      <td>41.060001</td>\n",
       "      <td>48.630001</td>\n",
       "      <td>34.150002</td>\n",
       "      <td>45.560001</td>\n",
       "      <td>524933400</td>\n",
       "      <td>0.109596</td>\n",
       "    </tr>\n",
       "    <tr>\n",
       "      <th>2</th>\n",
       "      <td>A</td>\n",
       "      <td>2017</td>\n",
       "      <td>45.930000</td>\n",
       "      <td>70.930000</td>\n",
       "      <td>45.740002</td>\n",
       "      <td>66.970001</td>\n",
       "      <td>464585300</td>\n",
       "      <td>0.458088</td>\n",
       "    </tr>\n",
       "    <tr>\n",
       "      <th>3</th>\n",
       "      <td>A</td>\n",
       "      <td>2018</td>\n",
       "      <td>67.419998</td>\n",
       "      <td>75.110001</td>\n",
       "      <td>60.419998</td>\n",
       "      <td>67.459999</td>\n",
       "      <td>650604400</td>\n",
       "      <td>0.000593</td>\n",
       "    </tr>\n",
       "    <tr>\n",
       "      <th>4</th>\n",
       "      <td>A</td>\n",
       "      <td>2019</td>\n",
       "      <td>66.500000</td>\n",
       "      <td>85.680000</td>\n",
       "      <td>62.000000</td>\n",
       "      <td>85.309998</td>\n",
       "      <td>543573000</td>\n",
       "      <td>0.282857</td>\n",
       "    </tr>\n",
       "    <tr>\n",
       "      <th>...</th>\n",
       "      <td>...</td>\n",
       "      <td>...</td>\n",
       "      <td>...</td>\n",
       "      <td>...</td>\n",
       "      <td>...</td>\n",
       "      <td>...</td>\n",
       "      <td>...</td>\n",
       "      <td>...</td>\n",
       "    </tr>\n",
       "    <tr>\n",
       "      <th>4365</th>\n",
       "      <td>ZTS</td>\n",
       "      <td>2019</td>\n",
       "      <td>84.510002</td>\n",
       "      <td>133.660004</td>\n",
       "      <td>81.370003</td>\n",
       "      <td>132.350006</td>\n",
       "      <td>531567200</td>\n",
       "      <td>0.566087</td>\n",
       "    </tr>\n",
       "    <tr>\n",
       "      <th>4366</th>\n",
       "      <td>ZTS</td>\n",
       "      <td>2020</td>\n",
       "      <td>132.050003</td>\n",
       "      <td>176.639999</td>\n",
       "      <td>90.139999</td>\n",
       "      <td>165.500000</td>\n",
       "      <td>512124700</td>\n",
       "      <td>0.253313</td>\n",
       "    </tr>\n",
       "    <tr>\n",
       "      <th>4367</th>\n",
       "      <td>ZTS</td>\n",
       "      <td>2021</td>\n",
       "      <td>166.000000</td>\n",
       "      <td>249.270004</td>\n",
       "      <td>141.410004</td>\n",
       "      <td>244.029999</td>\n",
       "      <td>428719800</td>\n",
       "      <td>0.470060</td>\n",
       "    </tr>\n",
       "    <tr>\n",
       "      <th>4368</th>\n",
       "      <td>ZTS</td>\n",
       "      <td>2022</td>\n",
       "      <td>242.289993</td>\n",
       "      <td>243.240005</td>\n",
       "      <td>124.150002</td>\n",
       "      <td>146.550003</td>\n",
       "      <td>549233100</td>\n",
       "      <td>-0.395146</td>\n",
       "    </tr>\n",
       "    <tr>\n",
       "      <th>4369</th>\n",
       "      <td>ZTS</td>\n",
       "      <td>2023</td>\n",
       "      <td>148.660004</td>\n",
       "      <td>201.919998</td>\n",
       "      <td>141.520004</td>\n",
       "      <td>197.369995</td>\n",
       "      <td>485415000</td>\n",
       "      <td>0.327660</td>\n",
       "    </tr>\n",
       "  </tbody>\n",
       "</table>\n",
       "<p>4370 rows × 8 columns</p>\n",
       "</div>"
      ],
      "text/plain": [
       "     Ticker  Year   Year_Open   Year_High    Year_Low  Year_Close Year_Volume  \\\n",
       "0         A  2015   41.180000   43.590000   33.119999   41.810001   645291900   \n",
       "1         A  2016   41.060001   48.630001   34.150002   45.560001   524933400   \n",
       "2         A  2017   45.930000   70.930000   45.740002   66.970001   464585300   \n",
       "3         A  2018   67.419998   75.110001   60.419998   67.459999   650604400   \n",
       "4         A  2019   66.500000   85.680000   62.000000   85.309998   543573000   \n",
       "...     ...   ...         ...         ...         ...         ...         ...   \n",
       "4365    ZTS  2019   84.510002  133.660004   81.370003  132.350006   531567200   \n",
       "4366    ZTS  2020  132.050003  176.639999   90.139999  165.500000   512124700   \n",
       "4367    ZTS  2021  166.000000  249.270004  141.410004  244.029999   428719800   \n",
       "4368    ZTS  2022  242.289993  243.240005  124.150002  146.550003   549233100   \n",
       "4369    ZTS  2023  148.660004  201.919998  141.520004  197.369995   485415000   \n",
       "\n",
       "      Stock_CAGR  \n",
       "0       0.015299  \n",
       "1       0.109596  \n",
       "2       0.458088  \n",
       "3       0.000593  \n",
       "4       0.282857  \n",
       "...          ...  \n",
       "4365    0.566087  \n",
       "4366    0.253313  \n",
       "4367    0.470060  \n",
       "4368   -0.395146  \n",
       "4369    0.327660  \n",
       "\n",
       "[4370 rows x 8 columns]"
      ]
     },
     "execution_count": 160,
     "metadata": {},
     "output_type": "execute_result"
    }
   ],
   "source": [
    "yearly_stocks_df['Stock_CAGR'] = yearly_stocks_df.apply(lambda row: (row['Year_Close']/row['Year_Open']) ** (1/1) - 1, axis=1)\n",
    "yearly_stocks_df"
   ]
  },
  {
   "cell_type": "code",
   "execution_count": 161,
   "id": "dce27b25",
   "metadata": {},
   "outputs": [
    {
     "data": {
      "text/html": [
       "<div>\n",
       "<style scoped>\n",
       "    .dataframe tbody tr th:only-of-type {\n",
       "        vertical-align: middle;\n",
       "    }\n",
       "\n",
       "    .dataframe tbody tr th {\n",
       "        vertical-align: top;\n",
       "    }\n",
       "\n",
       "    .dataframe thead th {\n",
       "        text-align: right;\n",
       "    }\n",
       "</style>\n",
       "<table border=\"1\" class=\"dataframe\">\n",
       "  <thead>\n",
       "    <tr style=\"text-align: right;\">\n",
       "      <th></th>\n",
       "      <th>Year_Open</th>\n",
       "      <th>Year_High</th>\n",
       "      <th>Year_Low</th>\n",
       "      <th>Year_Close</th>\n",
       "      <th>Stock_CAGR</th>\n",
       "    </tr>\n",
       "  </thead>\n",
       "  <tbody>\n",
       "    <tr>\n",
       "      <th>count</th>\n",
       "      <td>4370.000000</td>\n",
       "      <td>4370.000000</td>\n",
       "      <td>4370.000000</td>\n",
       "      <td>4370.000000</td>\n",
       "      <td>4370.000000</td>\n",
       "    </tr>\n",
       "    <tr>\n",
       "      <th>mean</th>\n",
       "      <td>118.963952</td>\n",
       "      <td>151.392378</td>\n",
       "      <td>95.327447</td>\n",
       "      <td>132.766466</td>\n",
       "      <td>0.136916</td>\n",
       "    </tr>\n",
       "    <tr>\n",
       "      <th>std</th>\n",
       "      <td>211.460237</td>\n",
       "      <td>272.291050</td>\n",
       "      <td>167.659251</td>\n",
       "      <td>249.163149</td>\n",
       "      <td>0.361891</td>\n",
       "    </tr>\n",
       "    <tr>\n",
       "      <th>min</th>\n",
       "      <td>0.503250</td>\n",
       "      <td>0.848500</td>\n",
       "      <td>0.473500</td>\n",
       "      <td>0.824000</td>\n",
       "      <td>-0.754545</td>\n",
       "    </tr>\n",
       "    <tr>\n",
       "      <th>25%</th>\n",
       "      <td>43.923248</td>\n",
       "      <td>55.730124</td>\n",
       "      <td>34.580002</td>\n",
       "      <td>46.682500</td>\n",
       "      <td>-0.067219</td>\n",
       "    </tr>\n",
       "    <tr>\n",
       "      <th>50%</th>\n",
       "      <td>75.084999</td>\n",
       "      <td>93.559719</td>\n",
       "      <td>61.930000</td>\n",
       "      <td>82.099434</td>\n",
       "      <td>0.109747</td>\n",
       "    </tr>\n",
       "    <tr>\n",
       "      <th>75%</th>\n",
       "      <td>132.147495</td>\n",
       "      <td>166.959995</td>\n",
       "      <td>107.597500</td>\n",
       "      <td>146.310001</td>\n",
       "      <td>0.298811</td>\n",
       "    </tr>\n",
       "    <tr>\n",
       "      <th>max</th>\n",
       "      <td>5870.000000</td>\n",
       "      <td>7075.000000</td>\n",
       "      <td>4519.049805</td>\n",
       "      <td>7000.450195</td>\n",
       "      <td>7.311779</td>\n",
       "    </tr>\n",
       "  </tbody>\n",
       "</table>\n",
       "</div>"
      ],
      "text/plain": [
       "         Year_Open    Year_High     Year_Low   Year_Close   Stock_CAGR\n",
       "count  4370.000000  4370.000000  4370.000000  4370.000000  4370.000000\n",
       "mean    118.963952   151.392378    95.327447   132.766466     0.136916\n",
       "std     211.460237   272.291050   167.659251   249.163149     0.361891\n",
       "min       0.503250     0.848500     0.473500     0.824000    -0.754545\n",
       "25%      43.923248    55.730124    34.580002    46.682500    -0.067219\n",
       "50%      75.084999    93.559719    61.930000    82.099434     0.109747\n",
       "75%     132.147495   166.959995   107.597500   146.310001     0.298811\n",
       "max    5870.000000  7075.000000  4519.049805  7000.450195     7.311779"
      ]
     },
     "execution_count": 161,
     "metadata": {},
     "output_type": "execute_result"
    }
   ],
   "source": [
    "yearly_stocks_df.describe()"
   ]
  },
  {
   "cell_type": "code",
   "execution_count": 162,
   "id": "297f1d37",
   "metadata": {},
   "outputs": [
    {
     "data": {
      "text/html": [
       "<div>\n",
       "<style scoped>\n",
       "    .dataframe tbody tr th:only-of-type {\n",
       "        vertical-align: middle;\n",
       "    }\n",
       "\n",
       "    .dataframe tbody tr th {\n",
       "        vertical-align: top;\n",
       "    }\n",
       "\n",
       "    .dataframe thead th {\n",
       "        text-align: right;\n",
       "    }\n",
       "</style>\n",
       "<table border=\"1\" class=\"dataframe\">\n",
       "  <thead>\n",
       "    <tr style=\"text-align: right;\">\n",
       "      <th></th>\n",
       "      <th>Date</th>\n",
       "      <th>Open</th>\n",
       "      <th>High</th>\n",
       "      <th>Low</th>\n",
       "      <th>Close</th>\n",
       "    </tr>\n",
       "  </thead>\n",
       "  <tbody>\n",
       "    <tr>\n",
       "      <th>0</th>\n",
       "      <td>2024-07-30</td>\n",
       "      <td>5478.73</td>\n",
       "      <td>5489.46</td>\n",
       "      <td>5401.70</td>\n",
       "      <td>5436.44</td>\n",
       "    </tr>\n",
       "    <tr>\n",
       "      <th>1</th>\n",
       "      <td>2024-07-29</td>\n",
       "      <td>5476.55</td>\n",
       "      <td>5487.74</td>\n",
       "      <td>5444.44</td>\n",
       "      <td>5463.54</td>\n",
       "    </tr>\n",
       "    <tr>\n",
       "      <th>2</th>\n",
       "      <td>2024-07-26</td>\n",
       "      <td>5433.67</td>\n",
       "      <td>5488.32</td>\n",
       "      <td>5430.70</td>\n",
       "      <td>5459.10</td>\n",
       "    </tr>\n",
       "    <tr>\n",
       "      <th>3</th>\n",
       "      <td>2024-07-25</td>\n",
       "      <td>5428.70</td>\n",
       "      <td>5491.59</td>\n",
       "      <td>5390.95</td>\n",
       "      <td>5399.22</td>\n",
       "    </tr>\n",
       "    <tr>\n",
       "      <th>4</th>\n",
       "      <td>2024-07-24</td>\n",
       "      <td>5505.84</td>\n",
       "      <td>5508.04</td>\n",
       "      <td>5419.98</td>\n",
       "      <td>5427.13</td>\n",
       "    </tr>\n",
       "  </tbody>\n",
       "</table>\n",
       "</div>"
      ],
      "text/plain": [
       "         Date     Open     High      Low    Close\n",
       "0  2024-07-30  5478.73  5489.46  5401.70  5436.44\n",
       "1  2024-07-29  5476.55  5487.74  5444.44  5463.54\n",
       "2  2024-07-26  5433.67  5488.32  5430.70  5459.10\n",
       "3  2024-07-25  5428.70  5491.59  5390.95  5399.22\n",
       "4  2024-07-24  5505.84  5508.04  5419.98  5427.13"
      ]
     },
     "execution_count": 162,
     "metadata": {},
     "output_type": "execute_result"
    }
   ],
   "source": [
    "sp500_df = pd.read_csv('data/SP500.csv')\n",
    "\n",
    "sp500_df.head()"
   ]
  },
  {
   "cell_type": "code",
   "execution_count": 163,
   "id": "0976d74a",
   "metadata": {},
   "outputs": [],
   "source": [
    "sp500_df = sp500_df.sort_values('Date').reset_index(drop=True)"
   ]
  },
  {
   "cell_type": "code",
   "execution_count": 164,
   "id": "35f2437c",
   "metadata": {},
   "outputs": [],
   "source": [
    "sp500_df['Date'] = pd.to_datetime(sp500_df['Date'])"
   ]
  },
  {
   "cell_type": "code",
   "execution_count": 165,
   "id": "0e84fc92",
   "metadata": {},
   "outputs": [
    {
     "name": "stderr",
     "output_type": "stream",
     "text": [
      "/var/folders/pp/jydch3xn6ys5qzxqnlsfwm180000gn/T/ipykernel_7739/3173712272.py:13: FutureWarning: The behavior of DataFrame concatenation with empty or all-NA entries is deprecated. In a future version, this will no longer exclude empty or all-NA columns when determining the result dtypes. To retain the old behavior, exclude the relevant entries before the concat operation.\n",
      "  yearly_sp500_df = pd.concat([yearly_sp500_df, new_sp500_year_df], ignore_index=True)\n"
     ]
    },
    {
     "data": {
      "text/html": [
       "<div>\n",
       "<style scoped>\n",
       "    .dataframe tbody tr th:only-of-type {\n",
       "        vertical-align: middle;\n",
       "    }\n",
       "\n",
       "    .dataframe tbody tr th {\n",
       "        vertical-align: top;\n",
       "    }\n",
       "\n",
       "    .dataframe thead th {\n",
       "        text-align: right;\n",
       "    }\n",
       "</style>\n",
       "<table border=\"1\" class=\"dataframe\">\n",
       "  <thead>\n",
       "    <tr style=\"text-align: right;\">\n",
       "      <th></th>\n",
       "      <th>Year</th>\n",
       "      <th>SP500_Open</th>\n",
       "      <th>SP500_High</th>\n",
       "      <th>SP500_Low</th>\n",
       "      <th>SP500_Close</th>\n",
       "    </tr>\n",
       "  </thead>\n",
       "  <tbody>\n",
       "    <tr>\n",
       "      <th>0</th>\n",
       "      <td>2015</td>\n",
       "      <td>2058.90</td>\n",
       "      <td>2134.72</td>\n",
       "      <td>1867.01</td>\n",
       "      <td>2043.94</td>\n",
       "    </tr>\n",
       "    <tr>\n",
       "      <th>1</th>\n",
       "      <td>2016</td>\n",
       "      <td>2038.20</td>\n",
       "      <td>2277.53</td>\n",
       "      <td>1810.10</td>\n",
       "      <td>2238.83</td>\n",
       "    </tr>\n",
       "    <tr>\n",
       "      <th>2</th>\n",
       "      <td>2017</td>\n",
       "      <td>2251.57</td>\n",
       "      <td>2694.97</td>\n",
       "      <td>2245.13</td>\n",
       "      <td>2673.61</td>\n",
       "    </tr>\n",
       "    <tr>\n",
       "      <th>3</th>\n",
       "      <td>2018</td>\n",
       "      <td>2683.73</td>\n",
       "      <td>2940.91</td>\n",
       "      <td>2346.58</td>\n",
       "      <td>2506.85</td>\n",
       "    </tr>\n",
       "    <tr>\n",
       "      <th>4</th>\n",
       "      <td>2019</td>\n",
       "      <td>2476.96</td>\n",
       "      <td>3247.93</td>\n",
       "      <td>2443.96</td>\n",
       "      <td>3230.78</td>\n",
       "    </tr>\n",
       "    <tr>\n",
       "      <th>5</th>\n",
       "      <td>2020</td>\n",
       "      <td>3244.67</td>\n",
       "      <td>3760.20</td>\n",
       "      <td>2191.86</td>\n",
       "      <td>3756.07</td>\n",
       "    </tr>\n",
       "    <tr>\n",
       "      <th>6</th>\n",
       "      <td>2021</td>\n",
       "      <td>3764.61</td>\n",
       "      <td>4808.93</td>\n",
       "      <td>3662.71</td>\n",
       "      <td>4766.18</td>\n",
       "    </tr>\n",
       "    <tr>\n",
       "      <th>7</th>\n",
       "      <td>2022</td>\n",
       "      <td>4778.14</td>\n",
       "      <td>4818.62</td>\n",
       "      <td>3491.58</td>\n",
       "      <td>3839.50</td>\n",
       "    </tr>\n",
       "    <tr>\n",
       "      <th>8</th>\n",
       "      <td>2023</td>\n",
       "      <td>3853.29</td>\n",
       "      <td>4793.30</td>\n",
       "      <td>3794.33</td>\n",
       "      <td>4769.83</td>\n",
       "    </tr>\n",
       "  </tbody>\n",
       "</table>\n",
       "</div>"
      ],
      "text/plain": [
       "   Year  SP500_Open  SP500_High  SP500_Low  SP500_Close\n",
       "0  2015     2058.90     2134.72    1867.01      2043.94\n",
       "1  2016     2038.20     2277.53    1810.10      2238.83\n",
       "2  2017     2251.57     2694.97    2245.13      2673.61\n",
       "3  2018     2683.73     2940.91    2346.58      2506.85\n",
       "4  2019     2476.96     3247.93    2443.96      3230.78\n",
       "5  2020     3244.67     3760.20    2191.86      3756.07\n",
       "6  2021     3764.61     4808.93    3662.71      4766.18\n",
       "7  2022     4778.14     4818.62    3491.58      3839.50\n",
       "8  2023     3853.29     4793.30    3794.33      4769.83"
      ]
     },
     "execution_count": 165,
     "metadata": {},
     "output_type": "execute_result"
    }
   ],
   "source": [
    "yearly_sp500_df = pd.DataFrame(columns=['Year', 'SP500_Open', 'SP500_High', 'SP500_Low', 'SP500_Close'])\n",
    "\n",
    "\n",
    "for year in years:\n",
    "    year_sp500 = sp500_df.loc[sp500_df['Date'].dt.year == year].reset_index(drop=True)\n",
    "    new_sp500_year = {\"Year\": [year_sp500[\"Date\"].iloc[0].year],\n",
    "                \"SP500_Open\": [year_sp500[\"Open\"].iloc[0]],\n",
    "                \"SP500_High\": [year_sp500[\"High\"].max()],\n",
    "                \"SP500_Low\": [year_sp500[\"Low\"].min()],\n",
    "                \"SP500_Close\": [year_sp500[\"Close\"].iloc[-1]]\n",
    "               }\n",
    "    new_sp500_year_df = pd.DataFrame(new_sp500_year)\n",
    "    yearly_sp500_df = pd.concat([yearly_sp500_df, new_sp500_year_df], ignore_index=True)\n",
    "\n",
    "yearly_sp500_df"
   ]
  },
  {
   "cell_type": "code",
   "execution_count": 166,
   "id": "ca3d0d5c",
   "metadata": {},
   "outputs": [
    {
     "data": {
      "text/html": [
       "<div>\n",
       "<style scoped>\n",
       "    .dataframe tbody tr th:only-of-type {\n",
       "        vertical-align: middle;\n",
       "    }\n",
       "\n",
       "    .dataframe tbody tr th {\n",
       "        vertical-align: top;\n",
       "    }\n",
       "\n",
       "    .dataframe thead th {\n",
       "        text-align: right;\n",
       "    }\n",
       "</style>\n",
       "<table border=\"1\" class=\"dataframe\">\n",
       "  <thead>\n",
       "    <tr style=\"text-align: right;\">\n",
       "      <th></th>\n",
       "      <th>Year</th>\n",
       "      <th>SP500_Open</th>\n",
       "      <th>SP500_High</th>\n",
       "      <th>SP500_Low</th>\n",
       "      <th>SP500_Close</th>\n",
       "      <th>SP500_CAGR</th>\n",
       "    </tr>\n",
       "  </thead>\n",
       "  <tbody>\n",
       "    <tr>\n",
       "      <th>0</th>\n",
       "      <td>2015</td>\n",
       "      <td>2058.90</td>\n",
       "      <td>2134.72</td>\n",
       "      <td>1867.01</td>\n",
       "      <td>2043.94</td>\n",
       "      <td>-0.007266</td>\n",
       "    </tr>\n",
       "    <tr>\n",
       "      <th>1</th>\n",
       "      <td>2016</td>\n",
       "      <td>2038.20</td>\n",
       "      <td>2277.53</td>\n",
       "      <td>1810.10</td>\n",
       "      <td>2238.83</td>\n",
       "      <td>0.098435</td>\n",
       "    </tr>\n",
       "    <tr>\n",
       "      <th>2</th>\n",
       "      <td>2017</td>\n",
       "      <td>2251.57</td>\n",
       "      <td>2694.97</td>\n",
       "      <td>2245.13</td>\n",
       "      <td>2673.61</td>\n",
       "      <td>0.187443</td>\n",
       "    </tr>\n",
       "    <tr>\n",
       "      <th>3</th>\n",
       "      <td>2018</td>\n",
       "      <td>2683.73</td>\n",
       "      <td>2940.91</td>\n",
       "      <td>2346.58</td>\n",
       "      <td>2506.85</td>\n",
       "      <td>-0.065908</td>\n",
       "    </tr>\n",
       "    <tr>\n",
       "      <th>4</th>\n",
       "      <td>2019</td>\n",
       "      <td>2476.96</td>\n",
       "      <td>3247.93</td>\n",
       "      <td>2443.96</td>\n",
       "      <td>3230.78</td>\n",
       "      <td>0.304333</td>\n",
       "    </tr>\n",
       "    <tr>\n",
       "      <th>5</th>\n",
       "      <td>2020</td>\n",
       "      <td>3244.67</td>\n",
       "      <td>3760.20</td>\n",
       "      <td>2191.86</td>\n",
       "      <td>3756.07</td>\n",
       "      <td>0.157612</td>\n",
       "    </tr>\n",
       "    <tr>\n",
       "      <th>6</th>\n",
       "      <td>2021</td>\n",
       "      <td>3764.61</td>\n",
       "      <td>4808.93</td>\n",
       "      <td>3662.71</td>\n",
       "      <td>4766.18</td>\n",
       "      <td>0.266049</td>\n",
       "    </tr>\n",
       "    <tr>\n",
       "      <th>7</th>\n",
       "      <td>2022</td>\n",
       "      <td>4778.14</td>\n",
       "      <td>4818.62</td>\n",
       "      <td>3491.58</td>\n",
       "      <td>3839.50</td>\n",
       "      <td>-0.196445</td>\n",
       "    </tr>\n",
       "    <tr>\n",
       "      <th>8</th>\n",
       "      <td>2023</td>\n",
       "      <td>3853.29</td>\n",
       "      <td>4793.30</td>\n",
       "      <td>3794.33</td>\n",
       "      <td>4769.83</td>\n",
       "      <td>0.237859</td>\n",
       "    </tr>\n",
       "  </tbody>\n",
       "</table>\n",
       "</div>"
      ],
      "text/plain": [
       "   Year  SP500_Open  SP500_High  SP500_Low  SP500_Close  SP500_CAGR\n",
       "0  2015     2058.90     2134.72    1867.01      2043.94   -0.007266\n",
       "1  2016     2038.20     2277.53    1810.10      2238.83    0.098435\n",
       "2  2017     2251.57     2694.97    2245.13      2673.61    0.187443\n",
       "3  2018     2683.73     2940.91    2346.58      2506.85   -0.065908\n",
       "4  2019     2476.96     3247.93    2443.96      3230.78    0.304333\n",
       "5  2020     3244.67     3760.20    2191.86      3756.07    0.157612\n",
       "6  2021     3764.61     4808.93    3662.71      4766.18    0.266049\n",
       "7  2022     4778.14     4818.62    3491.58      3839.50   -0.196445\n",
       "8  2023     3853.29     4793.30    3794.33      4769.83    0.237859"
      ]
     },
     "execution_count": 166,
     "metadata": {},
     "output_type": "execute_result"
    }
   ],
   "source": [
    "yearly_sp500_df['SP500_CAGR'] = yearly_sp500_df.apply(lambda row: (row['SP500_Close']/row['SP500_Open']) ** (1/1) - 1, axis=1)\n",
    "yearly_sp500_df"
   ]
  },
  {
   "cell_type": "code",
   "execution_count": 167,
   "id": "11af6b62",
   "metadata": {},
   "outputs": [],
   "source": [
    "stock_and_sp500_df = pd.merge(yearly_stocks_df, yearly_sp500_df, on='Year', how='left')"
   ]
  },
  {
   "cell_type": "code",
   "execution_count": 168,
   "id": "25ce998a",
   "metadata": {},
   "outputs": [
    {
     "data": {
      "text/html": [
       "<div>\n",
       "<style scoped>\n",
       "    .dataframe tbody tr th:only-of-type {\n",
       "        vertical-align: middle;\n",
       "    }\n",
       "\n",
       "    .dataframe tbody tr th {\n",
       "        vertical-align: top;\n",
       "    }\n",
       "\n",
       "    .dataframe thead th {\n",
       "        text-align: right;\n",
       "    }\n",
       "</style>\n",
       "<table border=\"1\" class=\"dataframe\">\n",
       "  <thead>\n",
       "    <tr style=\"text-align: right;\">\n",
       "      <th></th>\n",
       "      <th>Ticker</th>\n",
       "      <th>Year</th>\n",
       "      <th>Year_Open</th>\n",
       "      <th>Year_High</th>\n",
       "      <th>Year_Low</th>\n",
       "      <th>Year_Close</th>\n",
       "      <th>Year_Volume</th>\n",
       "      <th>Stock_CAGR</th>\n",
       "      <th>SP500_Open</th>\n",
       "      <th>SP500_High</th>\n",
       "      <th>SP500_Low</th>\n",
       "      <th>SP500_Close</th>\n",
       "      <th>SP500_CAGR</th>\n",
       "    </tr>\n",
       "  </thead>\n",
       "  <tbody>\n",
       "    <tr>\n",
       "      <th>0</th>\n",
       "      <td>A</td>\n",
       "      <td>2015</td>\n",
       "      <td>41.180000</td>\n",
       "      <td>43.590000</td>\n",
       "      <td>33.119999</td>\n",
       "      <td>41.810001</td>\n",
       "      <td>645291900</td>\n",
       "      <td>0.015299</td>\n",
       "      <td>2058.90</td>\n",
       "      <td>2134.72</td>\n",
       "      <td>1867.01</td>\n",
       "      <td>2043.94</td>\n",
       "      <td>-0.007266</td>\n",
       "    </tr>\n",
       "    <tr>\n",
       "      <th>1</th>\n",
       "      <td>A</td>\n",
       "      <td>2016</td>\n",
       "      <td>41.060001</td>\n",
       "      <td>48.630001</td>\n",
       "      <td>34.150002</td>\n",
       "      <td>45.560001</td>\n",
       "      <td>524933400</td>\n",
       "      <td>0.109596</td>\n",
       "      <td>2038.20</td>\n",
       "      <td>2277.53</td>\n",
       "      <td>1810.10</td>\n",
       "      <td>2238.83</td>\n",
       "      <td>0.098435</td>\n",
       "    </tr>\n",
       "    <tr>\n",
       "      <th>2</th>\n",
       "      <td>A</td>\n",
       "      <td>2017</td>\n",
       "      <td>45.930000</td>\n",
       "      <td>70.930000</td>\n",
       "      <td>45.740002</td>\n",
       "      <td>66.970001</td>\n",
       "      <td>464585300</td>\n",
       "      <td>0.458088</td>\n",
       "      <td>2251.57</td>\n",
       "      <td>2694.97</td>\n",
       "      <td>2245.13</td>\n",
       "      <td>2673.61</td>\n",
       "      <td>0.187443</td>\n",
       "    </tr>\n",
       "    <tr>\n",
       "      <th>3</th>\n",
       "      <td>A</td>\n",
       "      <td>2018</td>\n",
       "      <td>67.419998</td>\n",
       "      <td>75.110001</td>\n",
       "      <td>60.419998</td>\n",
       "      <td>67.459999</td>\n",
       "      <td>650604400</td>\n",
       "      <td>0.000593</td>\n",
       "      <td>2683.73</td>\n",
       "      <td>2940.91</td>\n",
       "      <td>2346.58</td>\n",
       "      <td>2506.85</td>\n",
       "      <td>-0.065908</td>\n",
       "    </tr>\n",
       "    <tr>\n",
       "      <th>4</th>\n",
       "      <td>A</td>\n",
       "      <td>2019</td>\n",
       "      <td>66.500000</td>\n",
       "      <td>85.680000</td>\n",
       "      <td>62.000000</td>\n",
       "      <td>85.309998</td>\n",
       "      <td>543573000</td>\n",
       "      <td>0.282857</td>\n",
       "      <td>2476.96</td>\n",
       "      <td>3247.93</td>\n",
       "      <td>2443.96</td>\n",
       "      <td>3230.78</td>\n",
       "      <td>0.304333</td>\n",
       "    </tr>\n",
       "    <tr>\n",
       "      <th>...</th>\n",
       "      <td>...</td>\n",
       "      <td>...</td>\n",
       "      <td>...</td>\n",
       "      <td>...</td>\n",
       "      <td>...</td>\n",
       "      <td>...</td>\n",
       "      <td>...</td>\n",
       "      <td>...</td>\n",
       "      <td>...</td>\n",
       "      <td>...</td>\n",
       "      <td>...</td>\n",
       "      <td>...</td>\n",
       "      <td>...</td>\n",
       "    </tr>\n",
       "    <tr>\n",
       "      <th>4365</th>\n",
       "      <td>ZTS</td>\n",
       "      <td>2019</td>\n",
       "      <td>84.510002</td>\n",
       "      <td>133.660004</td>\n",
       "      <td>81.370003</td>\n",
       "      <td>132.350006</td>\n",
       "      <td>531567200</td>\n",
       "      <td>0.566087</td>\n",
       "      <td>2476.96</td>\n",
       "      <td>3247.93</td>\n",
       "      <td>2443.96</td>\n",
       "      <td>3230.78</td>\n",
       "      <td>0.304333</td>\n",
       "    </tr>\n",
       "    <tr>\n",
       "      <th>4366</th>\n",
       "      <td>ZTS</td>\n",
       "      <td>2020</td>\n",
       "      <td>132.050003</td>\n",
       "      <td>176.639999</td>\n",
       "      <td>90.139999</td>\n",
       "      <td>165.500000</td>\n",
       "      <td>512124700</td>\n",
       "      <td>0.253313</td>\n",
       "      <td>3244.67</td>\n",
       "      <td>3760.20</td>\n",
       "      <td>2191.86</td>\n",
       "      <td>3756.07</td>\n",
       "      <td>0.157612</td>\n",
       "    </tr>\n",
       "    <tr>\n",
       "      <th>4367</th>\n",
       "      <td>ZTS</td>\n",
       "      <td>2021</td>\n",
       "      <td>166.000000</td>\n",
       "      <td>249.270004</td>\n",
       "      <td>141.410004</td>\n",
       "      <td>244.029999</td>\n",
       "      <td>428719800</td>\n",
       "      <td>0.470060</td>\n",
       "      <td>3764.61</td>\n",
       "      <td>4808.93</td>\n",
       "      <td>3662.71</td>\n",
       "      <td>4766.18</td>\n",
       "      <td>0.266049</td>\n",
       "    </tr>\n",
       "    <tr>\n",
       "      <th>4368</th>\n",
       "      <td>ZTS</td>\n",
       "      <td>2022</td>\n",
       "      <td>242.289993</td>\n",
       "      <td>243.240005</td>\n",
       "      <td>124.150002</td>\n",
       "      <td>146.550003</td>\n",
       "      <td>549233100</td>\n",
       "      <td>-0.395146</td>\n",
       "      <td>4778.14</td>\n",
       "      <td>4818.62</td>\n",
       "      <td>3491.58</td>\n",
       "      <td>3839.50</td>\n",
       "      <td>-0.196445</td>\n",
       "    </tr>\n",
       "    <tr>\n",
       "      <th>4369</th>\n",
       "      <td>ZTS</td>\n",
       "      <td>2023</td>\n",
       "      <td>148.660004</td>\n",
       "      <td>201.919998</td>\n",
       "      <td>141.520004</td>\n",
       "      <td>197.369995</td>\n",
       "      <td>485415000</td>\n",
       "      <td>0.327660</td>\n",
       "      <td>3853.29</td>\n",
       "      <td>4793.30</td>\n",
       "      <td>3794.33</td>\n",
       "      <td>4769.83</td>\n",
       "      <td>0.237859</td>\n",
       "    </tr>\n",
       "  </tbody>\n",
       "</table>\n",
       "<p>4370 rows × 13 columns</p>\n",
       "</div>"
      ],
      "text/plain": [
       "     Ticker  Year   Year_Open   Year_High    Year_Low  Year_Close Year_Volume  \\\n",
       "0         A  2015   41.180000   43.590000   33.119999   41.810001   645291900   \n",
       "1         A  2016   41.060001   48.630001   34.150002   45.560001   524933400   \n",
       "2         A  2017   45.930000   70.930000   45.740002   66.970001   464585300   \n",
       "3         A  2018   67.419998   75.110001   60.419998   67.459999   650604400   \n",
       "4         A  2019   66.500000   85.680000   62.000000   85.309998   543573000   \n",
       "...     ...   ...         ...         ...         ...         ...         ...   \n",
       "4365    ZTS  2019   84.510002  133.660004   81.370003  132.350006   531567200   \n",
       "4366    ZTS  2020  132.050003  176.639999   90.139999  165.500000   512124700   \n",
       "4367    ZTS  2021  166.000000  249.270004  141.410004  244.029999   428719800   \n",
       "4368    ZTS  2022  242.289993  243.240005  124.150002  146.550003   549233100   \n",
       "4369    ZTS  2023  148.660004  201.919998  141.520004  197.369995   485415000   \n",
       "\n",
       "      Stock_CAGR  SP500_Open  SP500_High  SP500_Low  SP500_Close  SP500_CAGR  \n",
       "0       0.015299     2058.90     2134.72    1867.01      2043.94   -0.007266  \n",
       "1       0.109596     2038.20     2277.53    1810.10      2238.83    0.098435  \n",
       "2       0.458088     2251.57     2694.97    2245.13      2673.61    0.187443  \n",
       "3       0.000593     2683.73     2940.91    2346.58      2506.85   -0.065908  \n",
       "4       0.282857     2476.96     3247.93    2443.96      3230.78    0.304333  \n",
       "...          ...         ...         ...        ...          ...         ...  \n",
       "4365    0.566087     2476.96     3247.93    2443.96      3230.78    0.304333  \n",
       "4366    0.253313     3244.67     3760.20    2191.86      3756.07    0.157612  \n",
       "4367    0.470060     3764.61     4808.93    3662.71      4766.18    0.266049  \n",
       "4368   -0.395146     4778.14     4818.62    3491.58      3839.50   -0.196445  \n",
       "4369    0.327660     3853.29     4793.30    3794.33      4769.83    0.237859  \n",
       "\n",
       "[4370 rows x 13 columns]"
      ]
     },
     "execution_count": 168,
     "metadata": {},
     "output_type": "execute_result"
    }
   ],
   "source": [
    "stock_and_sp500_df"
   ]
  },
  {
   "cell_type": "code",
   "execution_count": 169,
   "id": "7ae63073",
   "metadata": {},
   "outputs": [
    {
     "data": {
      "text/html": [
       "<div>\n",
       "<style scoped>\n",
       "    .dataframe tbody tr th:only-of-type {\n",
       "        vertical-align: middle;\n",
       "    }\n",
       "\n",
       "    .dataframe tbody tr th {\n",
       "        vertical-align: top;\n",
       "    }\n",
       "\n",
       "    .dataframe thead th {\n",
       "        text-align: right;\n",
       "    }\n",
       "</style>\n",
       "<table border=\"1\" class=\"dataframe\">\n",
       "  <thead>\n",
       "    <tr style=\"text-align: right;\">\n",
       "      <th></th>\n",
       "      <th>Ticker</th>\n",
       "      <th>Year</th>\n",
       "      <th>Year_Open</th>\n",
       "      <th>Year_High</th>\n",
       "      <th>Year_Low</th>\n",
       "      <th>Year_Close</th>\n",
       "      <th>Year_Volume</th>\n",
       "      <th>Stock_CAGR</th>\n",
       "      <th>SP500_Open</th>\n",
       "      <th>SP500_High</th>\n",
       "      <th>SP500_Low</th>\n",
       "      <th>SP500_Close</th>\n",
       "      <th>SP500_CAGR</th>\n",
       "      <th>Outperformed?</th>\n",
       "    </tr>\n",
       "  </thead>\n",
       "  <tbody>\n",
       "    <tr>\n",
       "      <th>0</th>\n",
       "      <td>A</td>\n",
       "      <td>2015</td>\n",
       "      <td>41.180000</td>\n",
       "      <td>43.590000</td>\n",
       "      <td>33.119999</td>\n",
       "      <td>41.810001</td>\n",
       "      <td>645291900</td>\n",
       "      <td>0.015299</td>\n",
       "      <td>2058.90</td>\n",
       "      <td>2134.72</td>\n",
       "      <td>1867.01</td>\n",
       "      <td>2043.94</td>\n",
       "      <td>-0.007266</td>\n",
       "      <td>1</td>\n",
       "    </tr>\n",
       "    <tr>\n",
       "      <th>1</th>\n",
       "      <td>A</td>\n",
       "      <td>2016</td>\n",
       "      <td>41.060001</td>\n",
       "      <td>48.630001</td>\n",
       "      <td>34.150002</td>\n",
       "      <td>45.560001</td>\n",
       "      <td>524933400</td>\n",
       "      <td>0.109596</td>\n",
       "      <td>2038.20</td>\n",
       "      <td>2277.53</td>\n",
       "      <td>1810.10</td>\n",
       "      <td>2238.83</td>\n",
       "      <td>0.098435</td>\n",
       "      <td>1</td>\n",
       "    </tr>\n",
       "    <tr>\n",
       "      <th>2</th>\n",
       "      <td>A</td>\n",
       "      <td>2017</td>\n",
       "      <td>45.930000</td>\n",
       "      <td>70.930000</td>\n",
       "      <td>45.740002</td>\n",
       "      <td>66.970001</td>\n",
       "      <td>464585300</td>\n",
       "      <td>0.458088</td>\n",
       "      <td>2251.57</td>\n",
       "      <td>2694.97</td>\n",
       "      <td>2245.13</td>\n",
       "      <td>2673.61</td>\n",
       "      <td>0.187443</td>\n",
       "      <td>1</td>\n",
       "    </tr>\n",
       "    <tr>\n",
       "      <th>3</th>\n",
       "      <td>A</td>\n",
       "      <td>2018</td>\n",
       "      <td>67.419998</td>\n",
       "      <td>75.110001</td>\n",
       "      <td>60.419998</td>\n",
       "      <td>67.459999</td>\n",
       "      <td>650604400</td>\n",
       "      <td>0.000593</td>\n",
       "      <td>2683.73</td>\n",
       "      <td>2940.91</td>\n",
       "      <td>2346.58</td>\n",
       "      <td>2506.85</td>\n",
       "      <td>-0.065908</td>\n",
       "      <td>1</td>\n",
       "    </tr>\n",
       "    <tr>\n",
       "      <th>4</th>\n",
       "      <td>A</td>\n",
       "      <td>2019</td>\n",
       "      <td>66.500000</td>\n",
       "      <td>85.680000</td>\n",
       "      <td>62.000000</td>\n",
       "      <td>85.309998</td>\n",
       "      <td>543573000</td>\n",
       "      <td>0.282857</td>\n",
       "      <td>2476.96</td>\n",
       "      <td>3247.93</td>\n",
       "      <td>2443.96</td>\n",
       "      <td>3230.78</td>\n",
       "      <td>0.304333</td>\n",
       "      <td>0</td>\n",
       "    </tr>\n",
       "    <tr>\n",
       "      <th>...</th>\n",
       "      <td>...</td>\n",
       "      <td>...</td>\n",
       "      <td>...</td>\n",
       "      <td>...</td>\n",
       "      <td>...</td>\n",
       "      <td>...</td>\n",
       "      <td>...</td>\n",
       "      <td>...</td>\n",
       "      <td>...</td>\n",
       "      <td>...</td>\n",
       "      <td>...</td>\n",
       "      <td>...</td>\n",
       "      <td>...</td>\n",
       "      <td>...</td>\n",
       "    </tr>\n",
       "    <tr>\n",
       "      <th>4365</th>\n",
       "      <td>ZTS</td>\n",
       "      <td>2019</td>\n",
       "      <td>84.510002</td>\n",
       "      <td>133.660004</td>\n",
       "      <td>81.370003</td>\n",
       "      <td>132.350006</td>\n",
       "      <td>531567200</td>\n",
       "      <td>0.566087</td>\n",
       "      <td>2476.96</td>\n",
       "      <td>3247.93</td>\n",
       "      <td>2443.96</td>\n",
       "      <td>3230.78</td>\n",
       "      <td>0.304333</td>\n",
       "      <td>1</td>\n",
       "    </tr>\n",
       "    <tr>\n",
       "      <th>4366</th>\n",
       "      <td>ZTS</td>\n",
       "      <td>2020</td>\n",
       "      <td>132.050003</td>\n",
       "      <td>176.639999</td>\n",
       "      <td>90.139999</td>\n",
       "      <td>165.500000</td>\n",
       "      <td>512124700</td>\n",
       "      <td>0.253313</td>\n",
       "      <td>3244.67</td>\n",
       "      <td>3760.20</td>\n",
       "      <td>2191.86</td>\n",
       "      <td>3756.07</td>\n",
       "      <td>0.157612</td>\n",
       "      <td>1</td>\n",
       "    </tr>\n",
       "    <tr>\n",
       "      <th>4367</th>\n",
       "      <td>ZTS</td>\n",
       "      <td>2021</td>\n",
       "      <td>166.000000</td>\n",
       "      <td>249.270004</td>\n",
       "      <td>141.410004</td>\n",
       "      <td>244.029999</td>\n",
       "      <td>428719800</td>\n",
       "      <td>0.470060</td>\n",
       "      <td>3764.61</td>\n",
       "      <td>4808.93</td>\n",
       "      <td>3662.71</td>\n",
       "      <td>4766.18</td>\n",
       "      <td>0.266049</td>\n",
       "      <td>1</td>\n",
       "    </tr>\n",
       "    <tr>\n",
       "      <th>4368</th>\n",
       "      <td>ZTS</td>\n",
       "      <td>2022</td>\n",
       "      <td>242.289993</td>\n",
       "      <td>243.240005</td>\n",
       "      <td>124.150002</td>\n",
       "      <td>146.550003</td>\n",
       "      <td>549233100</td>\n",
       "      <td>-0.395146</td>\n",
       "      <td>4778.14</td>\n",
       "      <td>4818.62</td>\n",
       "      <td>3491.58</td>\n",
       "      <td>3839.50</td>\n",
       "      <td>-0.196445</td>\n",
       "      <td>0</td>\n",
       "    </tr>\n",
       "    <tr>\n",
       "      <th>4369</th>\n",
       "      <td>ZTS</td>\n",
       "      <td>2023</td>\n",
       "      <td>148.660004</td>\n",
       "      <td>201.919998</td>\n",
       "      <td>141.520004</td>\n",
       "      <td>197.369995</td>\n",
       "      <td>485415000</td>\n",
       "      <td>0.327660</td>\n",
       "      <td>3853.29</td>\n",
       "      <td>4793.30</td>\n",
       "      <td>3794.33</td>\n",
       "      <td>4769.83</td>\n",
       "      <td>0.237859</td>\n",
       "      <td>1</td>\n",
       "    </tr>\n",
       "  </tbody>\n",
       "</table>\n",
       "<p>4370 rows × 14 columns</p>\n",
       "</div>"
      ],
      "text/plain": [
       "     Ticker  Year   Year_Open   Year_High    Year_Low  Year_Close Year_Volume  \\\n",
       "0         A  2015   41.180000   43.590000   33.119999   41.810001   645291900   \n",
       "1         A  2016   41.060001   48.630001   34.150002   45.560001   524933400   \n",
       "2         A  2017   45.930000   70.930000   45.740002   66.970001   464585300   \n",
       "3         A  2018   67.419998   75.110001   60.419998   67.459999   650604400   \n",
       "4         A  2019   66.500000   85.680000   62.000000   85.309998   543573000   \n",
       "...     ...   ...         ...         ...         ...         ...         ...   \n",
       "4365    ZTS  2019   84.510002  133.660004   81.370003  132.350006   531567200   \n",
       "4366    ZTS  2020  132.050003  176.639999   90.139999  165.500000   512124700   \n",
       "4367    ZTS  2021  166.000000  249.270004  141.410004  244.029999   428719800   \n",
       "4368    ZTS  2022  242.289993  243.240005  124.150002  146.550003   549233100   \n",
       "4369    ZTS  2023  148.660004  201.919998  141.520004  197.369995   485415000   \n",
       "\n",
       "      Stock_CAGR  SP500_Open  SP500_High  SP500_Low  SP500_Close  SP500_CAGR  \\\n",
       "0       0.015299     2058.90     2134.72    1867.01      2043.94   -0.007266   \n",
       "1       0.109596     2038.20     2277.53    1810.10      2238.83    0.098435   \n",
       "2       0.458088     2251.57     2694.97    2245.13      2673.61    0.187443   \n",
       "3       0.000593     2683.73     2940.91    2346.58      2506.85   -0.065908   \n",
       "4       0.282857     2476.96     3247.93    2443.96      3230.78    0.304333   \n",
       "...          ...         ...         ...        ...          ...         ...   \n",
       "4365    0.566087     2476.96     3247.93    2443.96      3230.78    0.304333   \n",
       "4366    0.253313     3244.67     3760.20    2191.86      3756.07    0.157612   \n",
       "4367    0.470060     3764.61     4808.93    3662.71      4766.18    0.266049   \n",
       "4368   -0.395146     4778.14     4818.62    3491.58      3839.50   -0.196445   \n",
       "4369    0.327660     3853.29     4793.30    3794.33      4769.83    0.237859   \n",
       "\n",
       "      Outperformed?  \n",
       "0                 1  \n",
       "1                 1  \n",
       "2                 1  \n",
       "3                 1  \n",
       "4                 0  \n",
       "...             ...  \n",
       "4365              1  \n",
       "4366              1  \n",
       "4367              1  \n",
       "4368              0  \n",
       "4369              1  \n",
       "\n",
       "[4370 rows x 14 columns]"
      ]
     },
     "execution_count": 169,
     "metadata": {},
     "output_type": "execute_result"
    }
   ],
   "source": [
    "stock_and_sp500_df['Outperformed?'] = stock_and_sp500_df.apply(\n",
    "    lambda row: 1 if row['Stock_CAGR'] > row['SP500_CAGR'] else 0, axis=1\n",
    ")\n",
    "        \n",
    "stock_and_sp500_df"
   ]
  },
  {
   "cell_type": "code",
   "execution_count": 170,
   "id": "1c721da4",
   "metadata": {},
   "outputs": [
    {
     "data": {
      "text/html": [
       "<div>\n",
       "<style scoped>\n",
       "    .dataframe tbody tr th:only-of-type {\n",
       "        vertical-align: middle;\n",
       "    }\n",
       "\n",
       "    .dataframe tbody tr th {\n",
       "        vertical-align: top;\n",
       "    }\n",
       "\n",
       "    .dataframe thead th {\n",
       "        text-align: right;\n",
       "    }\n",
       "</style>\n",
       "<table border=\"1\" class=\"dataframe\">\n",
       "  <thead>\n",
       "    <tr style=\"text-align: right;\">\n",
       "      <th></th>\n",
       "      <th>Year</th>\n",
       "      <th>Interest Rate (Federal Funds Effective Rate)</th>\n",
       "      <th>CPI</th>\n",
       "      <th>UnemploymentRate</th>\n",
       "      <th>GDPGrowthRate</th>\n",
       "    </tr>\n",
       "  </thead>\n",
       "  <tbody>\n",
       "    <tr>\n",
       "      <th>0</th>\n",
       "      <td>2015</td>\n",
       "      <td>0.11</td>\n",
       "      <td>0.1</td>\n",
       "      <td>5.3</td>\n",
       "      <td>2.9</td>\n",
       "    </tr>\n",
       "    <tr>\n",
       "      <th>1</th>\n",
       "      <td>2016</td>\n",
       "      <td>0.34</td>\n",
       "      <td>1.3</td>\n",
       "      <td>4.9</td>\n",
       "      <td>1.8</td>\n",
       "    </tr>\n",
       "    <tr>\n",
       "      <th>2</th>\n",
       "      <td>2017</td>\n",
       "      <td>0.65</td>\n",
       "      <td>2.1</td>\n",
       "      <td>4.4</td>\n",
       "      <td>2.5</td>\n",
       "    </tr>\n",
       "    <tr>\n",
       "      <th>3</th>\n",
       "      <td>2018</td>\n",
       "      <td>1.41</td>\n",
       "      <td>2.4</td>\n",
       "      <td>3.9</td>\n",
       "      <td>3.0</td>\n",
       "    </tr>\n",
       "    <tr>\n",
       "      <th>4</th>\n",
       "      <td>2019</td>\n",
       "      <td>2.40</td>\n",
       "      <td>1.8</td>\n",
       "      <td>3.7</td>\n",
       "      <td>2.5</td>\n",
       "    </tr>\n",
       "    <tr>\n",
       "      <th>5</th>\n",
       "      <td>2020</td>\n",
       "      <td>1.55</td>\n",
       "      <td>1.2</td>\n",
       "      <td>8.1</td>\n",
       "      <td>-2.2</td>\n",
       "    </tr>\n",
       "    <tr>\n",
       "      <th>6</th>\n",
       "      <td>2021</td>\n",
       "      <td>0.09</td>\n",
       "      <td>4.7</td>\n",
       "      <td>5.4</td>\n",
       "      <td>5.8</td>\n",
       "    </tr>\n",
       "    <tr>\n",
       "      <th>7</th>\n",
       "      <td>2022</td>\n",
       "      <td>0.08</td>\n",
       "      <td>8.0</td>\n",
       "      <td>3.6</td>\n",
       "      <td>1.9</td>\n",
       "    </tr>\n",
       "    <tr>\n",
       "      <th>8</th>\n",
       "      <td>2023</td>\n",
       "      <td>4.33</td>\n",
       "      <td>3.2</td>\n",
       "      <td>3.5</td>\n",
       "      <td>2.5</td>\n",
       "    </tr>\n",
       "  </tbody>\n",
       "</table>\n",
       "</div>"
      ],
      "text/plain": [
       "   Year  Interest Rate (Federal Funds Effective Rate)  CPI  UnemploymentRate  \\\n",
       "0  2015                                          0.11  0.1               5.3   \n",
       "1  2016                                          0.34  1.3               4.9   \n",
       "2  2017                                          0.65  2.1               4.4   \n",
       "3  2018                                          1.41  2.4               3.9   \n",
       "4  2019                                          2.40  1.8               3.7   \n",
       "5  2020                                          1.55  1.2               8.1   \n",
       "6  2021                                          0.09  4.7               5.4   \n",
       "7  2022                                          0.08  8.0               3.6   \n",
       "8  2023                                          4.33  3.2               3.5   \n",
       "\n",
       "   GDPGrowthRate  \n",
       "0            2.9  \n",
       "1            1.8  \n",
       "2            2.5  \n",
       "3            3.0  \n",
       "4            2.5  \n",
       "5           -2.2  \n",
       "6            5.8  \n",
       "7            1.9  \n",
       "8            2.5  "
      ]
     },
     "execution_count": 170,
     "metadata": {},
     "output_type": "execute_result"
    }
   ],
   "source": [
    "annual_metrics_df = pd.read_csv('data/Annual_metrics.csv')\n",
    "annual_metrics_df"
   ]
  },
  {
   "cell_type": "code",
   "execution_count": 171,
   "id": "12c62c14",
   "metadata": {},
   "outputs": [
    {
     "data": {
      "text/html": [
       "<div>\n",
       "<style scoped>\n",
       "    .dataframe tbody tr th:only-of-type {\n",
       "        vertical-align: middle;\n",
       "    }\n",
       "\n",
       "    .dataframe tbody tr th {\n",
       "        vertical-align: top;\n",
       "    }\n",
       "\n",
       "    .dataframe thead th {\n",
       "        text-align: right;\n",
       "    }\n",
       "</style>\n",
       "<table border=\"1\" class=\"dataframe\">\n",
       "  <thead>\n",
       "    <tr style=\"text-align: right;\">\n",
       "      <th></th>\n",
       "      <th>Ticker</th>\n",
       "      <th>Year</th>\n",
       "      <th>Year_Open</th>\n",
       "      <th>Year_High</th>\n",
       "      <th>Year_Low</th>\n",
       "      <th>Year_Close</th>\n",
       "      <th>Year_Volume</th>\n",
       "      <th>Stock_CAGR</th>\n",
       "      <th>SP500_Open</th>\n",
       "      <th>SP500_High</th>\n",
       "      <th>SP500_Low</th>\n",
       "      <th>SP500_Close</th>\n",
       "      <th>SP500_CAGR</th>\n",
       "      <th>Outperformed?</th>\n",
       "      <th>Interest Rate (Federal Funds Effective Rate)</th>\n",
       "      <th>CPI</th>\n",
       "      <th>UnemploymentRate</th>\n",
       "      <th>GDPGrowthRate</th>\n",
       "    </tr>\n",
       "  </thead>\n",
       "  <tbody>\n",
       "    <tr>\n",
       "      <th>0</th>\n",
       "      <td>A</td>\n",
       "      <td>2015</td>\n",
       "      <td>41.180000</td>\n",
       "      <td>43.590000</td>\n",
       "      <td>33.119999</td>\n",
       "      <td>41.810001</td>\n",
       "      <td>645291900</td>\n",
       "      <td>0.015299</td>\n",
       "      <td>2058.90</td>\n",
       "      <td>2134.72</td>\n",
       "      <td>1867.01</td>\n",
       "      <td>2043.94</td>\n",
       "      <td>-0.007266</td>\n",
       "      <td>1</td>\n",
       "      <td>0.11</td>\n",
       "      <td>0.1</td>\n",
       "      <td>5.3</td>\n",
       "      <td>2.9</td>\n",
       "    </tr>\n",
       "    <tr>\n",
       "      <th>1</th>\n",
       "      <td>A</td>\n",
       "      <td>2016</td>\n",
       "      <td>41.060001</td>\n",
       "      <td>48.630001</td>\n",
       "      <td>34.150002</td>\n",
       "      <td>45.560001</td>\n",
       "      <td>524933400</td>\n",
       "      <td>0.109596</td>\n",
       "      <td>2038.20</td>\n",
       "      <td>2277.53</td>\n",
       "      <td>1810.10</td>\n",
       "      <td>2238.83</td>\n",
       "      <td>0.098435</td>\n",
       "      <td>1</td>\n",
       "      <td>0.34</td>\n",
       "      <td>1.3</td>\n",
       "      <td>4.9</td>\n",
       "      <td>1.8</td>\n",
       "    </tr>\n",
       "    <tr>\n",
       "      <th>2</th>\n",
       "      <td>A</td>\n",
       "      <td>2017</td>\n",
       "      <td>45.930000</td>\n",
       "      <td>70.930000</td>\n",
       "      <td>45.740002</td>\n",
       "      <td>66.970001</td>\n",
       "      <td>464585300</td>\n",
       "      <td>0.458088</td>\n",
       "      <td>2251.57</td>\n",
       "      <td>2694.97</td>\n",
       "      <td>2245.13</td>\n",
       "      <td>2673.61</td>\n",
       "      <td>0.187443</td>\n",
       "      <td>1</td>\n",
       "      <td>0.65</td>\n",
       "      <td>2.1</td>\n",
       "      <td>4.4</td>\n",
       "      <td>2.5</td>\n",
       "    </tr>\n",
       "    <tr>\n",
       "      <th>3</th>\n",
       "      <td>A</td>\n",
       "      <td>2018</td>\n",
       "      <td>67.419998</td>\n",
       "      <td>75.110001</td>\n",
       "      <td>60.419998</td>\n",
       "      <td>67.459999</td>\n",
       "      <td>650604400</td>\n",
       "      <td>0.000593</td>\n",
       "      <td>2683.73</td>\n",
       "      <td>2940.91</td>\n",
       "      <td>2346.58</td>\n",
       "      <td>2506.85</td>\n",
       "      <td>-0.065908</td>\n",
       "      <td>1</td>\n",
       "      <td>1.41</td>\n",
       "      <td>2.4</td>\n",
       "      <td>3.9</td>\n",
       "      <td>3.0</td>\n",
       "    </tr>\n",
       "    <tr>\n",
       "      <th>4</th>\n",
       "      <td>A</td>\n",
       "      <td>2019</td>\n",
       "      <td>66.500000</td>\n",
       "      <td>85.680000</td>\n",
       "      <td>62.000000</td>\n",
       "      <td>85.309998</td>\n",
       "      <td>543573000</td>\n",
       "      <td>0.282857</td>\n",
       "      <td>2476.96</td>\n",
       "      <td>3247.93</td>\n",
       "      <td>2443.96</td>\n",
       "      <td>3230.78</td>\n",
       "      <td>0.304333</td>\n",
       "      <td>0</td>\n",
       "      <td>2.40</td>\n",
       "      <td>1.8</td>\n",
       "      <td>3.7</td>\n",
       "      <td>2.5</td>\n",
       "    </tr>\n",
       "    <tr>\n",
       "      <th>...</th>\n",
       "      <td>...</td>\n",
       "      <td>...</td>\n",
       "      <td>...</td>\n",
       "      <td>...</td>\n",
       "      <td>...</td>\n",
       "      <td>...</td>\n",
       "      <td>...</td>\n",
       "      <td>...</td>\n",
       "      <td>...</td>\n",
       "      <td>...</td>\n",
       "      <td>...</td>\n",
       "      <td>...</td>\n",
       "      <td>...</td>\n",
       "      <td>...</td>\n",
       "      <td>...</td>\n",
       "      <td>...</td>\n",
       "      <td>...</td>\n",
       "      <td>...</td>\n",
       "    </tr>\n",
       "    <tr>\n",
       "      <th>4365</th>\n",
       "      <td>ZTS</td>\n",
       "      <td>2019</td>\n",
       "      <td>84.510002</td>\n",
       "      <td>133.660004</td>\n",
       "      <td>81.370003</td>\n",
       "      <td>132.350006</td>\n",
       "      <td>531567200</td>\n",
       "      <td>0.566087</td>\n",
       "      <td>2476.96</td>\n",
       "      <td>3247.93</td>\n",
       "      <td>2443.96</td>\n",
       "      <td>3230.78</td>\n",
       "      <td>0.304333</td>\n",
       "      <td>1</td>\n",
       "      <td>2.40</td>\n",
       "      <td>1.8</td>\n",
       "      <td>3.7</td>\n",
       "      <td>2.5</td>\n",
       "    </tr>\n",
       "    <tr>\n",
       "      <th>4366</th>\n",
       "      <td>ZTS</td>\n",
       "      <td>2020</td>\n",
       "      <td>132.050003</td>\n",
       "      <td>176.639999</td>\n",
       "      <td>90.139999</td>\n",
       "      <td>165.500000</td>\n",
       "      <td>512124700</td>\n",
       "      <td>0.253313</td>\n",
       "      <td>3244.67</td>\n",
       "      <td>3760.20</td>\n",
       "      <td>2191.86</td>\n",
       "      <td>3756.07</td>\n",
       "      <td>0.157612</td>\n",
       "      <td>1</td>\n",
       "      <td>1.55</td>\n",
       "      <td>1.2</td>\n",
       "      <td>8.1</td>\n",
       "      <td>-2.2</td>\n",
       "    </tr>\n",
       "    <tr>\n",
       "      <th>4367</th>\n",
       "      <td>ZTS</td>\n",
       "      <td>2021</td>\n",
       "      <td>166.000000</td>\n",
       "      <td>249.270004</td>\n",
       "      <td>141.410004</td>\n",
       "      <td>244.029999</td>\n",
       "      <td>428719800</td>\n",
       "      <td>0.470060</td>\n",
       "      <td>3764.61</td>\n",
       "      <td>4808.93</td>\n",
       "      <td>3662.71</td>\n",
       "      <td>4766.18</td>\n",
       "      <td>0.266049</td>\n",
       "      <td>1</td>\n",
       "      <td>0.09</td>\n",
       "      <td>4.7</td>\n",
       "      <td>5.4</td>\n",
       "      <td>5.8</td>\n",
       "    </tr>\n",
       "    <tr>\n",
       "      <th>4368</th>\n",
       "      <td>ZTS</td>\n",
       "      <td>2022</td>\n",
       "      <td>242.289993</td>\n",
       "      <td>243.240005</td>\n",
       "      <td>124.150002</td>\n",
       "      <td>146.550003</td>\n",
       "      <td>549233100</td>\n",
       "      <td>-0.395146</td>\n",
       "      <td>4778.14</td>\n",
       "      <td>4818.62</td>\n",
       "      <td>3491.58</td>\n",
       "      <td>3839.50</td>\n",
       "      <td>-0.196445</td>\n",
       "      <td>0</td>\n",
       "      <td>0.08</td>\n",
       "      <td>8.0</td>\n",
       "      <td>3.6</td>\n",
       "      <td>1.9</td>\n",
       "    </tr>\n",
       "    <tr>\n",
       "      <th>4369</th>\n",
       "      <td>ZTS</td>\n",
       "      <td>2023</td>\n",
       "      <td>148.660004</td>\n",
       "      <td>201.919998</td>\n",
       "      <td>141.520004</td>\n",
       "      <td>197.369995</td>\n",
       "      <td>485415000</td>\n",
       "      <td>0.327660</td>\n",
       "      <td>3853.29</td>\n",
       "      <td>4793.30</td>\n",
       "      <td>3794.33</td>\n",
       "      <td>4769.83</td>\n",
       "      <td>0.237859</td>\n",
       "      <td>1</td>\n",
       "      <td>4.33</td>\n",
       "      <td>3.2</td>\n",
       "      <td>3.5</td>\n",
       "      <td>2.5</td>\n",
       "    </tr>\n",
       "  </tbody>\n",
       "</table>\n",
       "<p>4370 rows × 18 columns</p>\n",
       "</div>"
      ],
      "text/plain": [
       "     Ticker  Year   Year_Open   Year_High    Year_Low  Year_Close Year_Volume  \\\n",
       "0         A  2015   41.180000   43.590000   33.119999   41.810001   645291900   \n",
       "1         A  2016   41.060001   48.630001   34.150002   45.560001   524933400   \n",
       "2         A  2017   45.930000   70.930000   45.740002   66.970001   464585300   \n",
       "3         A  2018   67.419998   75.110001   60.419998   67.459999   650604400   \n",
       "4         A  2019   66.500000   85.680000   62.000000   85.309998   543573000   \n",
       "...     ...   ...         ...         ...         ...         ...         ...   \n",
       "4365    ZTS  2019   84.510002  133.660004   81.370003  132.350006   531567200   \n",
       "4366    ZTS  2020  132.050003  176.639999   90.139999  165.500000   512124700   \n",
       "4367    ZTS  2021  166.000000  249.270004  141.410004  244.029999   428719800   \n",
       "4368    ZTS  2022  242.289993  243.240005  124.150002  146.550003   549233100   \n",
       "4369    ZTS  2023  148.660004  201.919998  141.520004  197.369995   485415000   \n",
       "\n",
       "      Stock_CAGR  SP500_Open  SP500_High  SP500_Low  SP500_Close  SP500_CAGR  \\\n",
       "0       0.015299     2058.90     2134.72    1867.01      2043.94   -0.007266   \n",
       "1       0.109596     2038.20     2277.53    1810.10      2238.83    0.098435   \n",
       "2       0.458088     2251.57     2694.97    2245.13      2673.61    0.187443   \n",
       "3       0.000593     2683.73     2940.91    2346.58      2506.85   -0.065908   \n",
       "4       0.282857     2476.96     3247.93    2443.96      3230.78    0.304333   \n",
       "...          ...         ...         ...        ...          ...         ...   \n",
       "4365    0.566087     2476.96     3247.93    2443.96      3230.78    0.304333   \n",
       "4366    0.253313     3244.67     3760.20    2191.86      3756.07    0.157612   \n",
       "4367    0.470060     3764.61     4808.93    3662.71      4766.18    0.266049   \n",
       "4368   -0.395146     4778.14     4818.62    3491.58      3839.50   -0.196445   \n",
       "4369    0.327660     3853.29     4793.30    3794.33      4769.83    0.237859   \n",
       "\n",
       "      Outperformed?  Interest Rate (Federal Funds Effective Rate)  CPI  \\\n",
       "0                 1                                          0.11  0.1   \n",
       "1                 1                                          0.34  1.3   \n",
       "2                 1                                          0.65  2.1   \n",
       "3                 1                                          1.41  2.4   \n",
       "4                 0                                          2.40  1.8   \n",
       "...             ...                                           ...  ...   \n",
       "4365              1                                          2.40  1.8   \n",
       "4366              1                                          1.55  1.2   \n",
       "4367              1                                          0.09  4.7   \n",
       "4368              0                                          0.08  8.0   \n",
       "4369              1                                          4.33  3.2   \n",
       "\n",
       "      UnemploymentRate  GDPGrowthRate  \n",
       "0                  5.3            2.9  \n",
       "1                  4.9            1.8  \n",
       "2                  4.4            2.5  \n",
       "3                  3.9            3.0  \n",
       "4                  3.7            2.5  \n",
       "...                ...            ...  \n",
       "4365               3.7            2.5  \n",
       "4366               8.1           -2.2  \n",
       "4367               5.4            5.8  \n",
       "4368               3.6            1.9  \n",
       "4369               3.5            2.5  \n",
       "\n",
       "[4370 rows x 18 columns]"
      ]
     },
     "execution_count": 171,
     "metadata": {},
     "output_type": "execute_result"
    }
   ],
   "source": [
    "stock_sp500_metrics_df = pd.merge(stock_and_sp500_df, annual_metrics_df, on='Year', how='left')\n",
    "stock_sp500_metrics_df"
   ]
  },
  {
   "cell_type": "code",
   "execution_count": 172,
   "id": "acb648c1",
   "metadata": {},
   "outputs": [
    {
     "data": {
      "text/html": [
       "<div>\n",
       "<style scoped>\n",
       "    .dataframe tbody tr th:only-of-type {\n",
       "        vertical-align: middle;\n",
       "    }\n",
       "\n",
       "    .dataframe tbody tr th {\n",
       "        vertical-align: top;\n",
       "    }\n",
       "\n",
       "    .dataframe thead th {\n",
       "        text-align: right;\n",
       "    }\n",
       "</style>\n",
       "<table border=\"1\" class=\"dataframe\">\n",
       "  <thead>\n",
       "    <tr style=\"text-align: right;\">\n",
       "      <th></th>\n",
       "      <th>Ticker</th>\n",
       "      <th>Year</th>\n",
       "      <th>Year_Open</th>\n",
       "      <th>Year_High</th>\n",
       "      <th>Year_Low</th>\n",
       "      <th>Year_Close</th>\n",
       "      <th>Year_Volume</th>\n",
       "      <th>Stock_CAGR</th>\n",
       "      <th>SP500_Open</th>\n",
       "      <th>SP500_High</th>\n",
       "      <th>...</th>\n",
       "      <th>UnemploymentRate</th>\n",
       "      <th>GDPGrowthRate</th>\n",
       "      <th>GICS Sector</th>\n",
       "      <th>GICS Sub-Industry</th>\n",
       "      <th>Founded</th>\n",
       "      <th>Gender</th>\n",
       "      <th>CEO Transition</th>\n",
       "      <th>Tenure Bucket</th>\n",
       "      <th>HQ_US_State_or_Country</th>\n",
       "      <th>Salary_Bucket</th>\n",
       "    </tr>\n",
       "  </thead>\n",
       "  <tbody>\n",
       "    <tr>\n",
       "      <th>0</th>\n",
       "      <td>A</td>\n",
       "      <td>2015</td>\n",
       "      <td>41.180000</td>\n",
       "      <td>43.590000</td>\n",
       "      <td>33.119999</td>\n",
       "      <td>41.810001</td>\n",
       "      <td>645291900</td>\n",
       "      <td>0.015299</td>\n",
       "      <td>2058.90</td>\n",
       "      <td>2134.72</td>\n",
       "      <td>...</td>\n",
       "      <td>5.3</td>\n",
       "      <td>2.9</td>\n",
       "      <td>Health Care</td>\n",
       "      <td>Life Sciences Tools &amp; Services</td>\n",
       "      <td>1999</td>\n",
       "      <td>M</td>\n",
       "      <td>1.0</td>\n",
       "      <td>&lt;= 2 years</td>\n",
       "      <td>California</td>\n",
       "      <td>(15000000, 20000000]</td>\n",
       "    </tr>\n",
       "    <tr>\n",
       "      <th>1</th>\n",
       "      <td>A</td>\n",
       "      <td>2016</td>\n",
       "      <td>41.060001</td>\n",
       "      <td>48.630001</td>\n",
       "      <td>34.150002</td>\n",
       "      <td>45.560001</td>\n",
       "      <td>524933400</td>\n",
       "      <td>0.109596</td>\n",
       "      <td>2038.20</td>\n",
       "      <td>2277.53</td>\n",
       "      <td>...</td>\n",
       "      <td>4.9</td>\n",
       "      <td>1.8</td>\n",
       "      <td>Health Care</td>\n",
       "      <td>Life Sciences Tools &amp; Services</td>\n",
       "      <td>1999</td>\n",
       "      <td>M</td>\n",
       "      <td>0.0</td>\n",
       "      <td>&lt;= 2 years</td>\n",
       "      <td>California</td>\n",
       "      <td>(15000000, 20000000]</td>\n",
       "    </tr>\n",
       "    <tr>\n",
       "      <th>2</th>\n",
       "      <td>A</td>\n",
       "      <td>2017</td>\n",
       "      <td>45.930000</td>\n",
       "      <td>70.930000</td>\n",
       "      <td>45.740002</td>\n",
       "      <td>66.970001</td>\n",
       "      <td>464585300</td>\n",
       "      <td>0.458088</td>\n",
       "      <td>2251.57</td>\n",
       "      <td>2694.97</td>\n",
       "      <td>...</td>\n",
       "      <td>4.4</td>\n",
       "      <td>2.5</td>\n",
       "      <td>Health Care</td>\n",
       "      <td>Life Sciences Tools &amp; Services</td>\n",
       "      <td>1999</td>\n",
       "      <td>M</td>\n",
       "      <td>0.0</td>\n",
       "      <td>&lt;= 2 years</td>\n",
       "      <td>California</td>\n",
       "      <td>(15000000, 20000000]</td>\n",
       "    </tr>\n",
       "    <tr>\n",
       "      <th>3</th>\n",
       "      <td>A</td>\n",
       "      <td>2018</td>\n",
       "      <td>67.419998</td>\n",
       "      <td>75.110001</td>\n",
       "      <td>60.419998</td>\n",
       "      <td>67.459999</td>\n",
       "      <td>650604400</td>\n",
       "      <td>0.000593</td>\n",
       "      <td>2683.73</td>\n",
       "      <td>2940.91</td>\n",
       "      <td>...</td>\n",
       "      <td>3.9</td>\n",
       "      <td>3.0</td>\n",
       "      <td>Health Care</td>\n",
       "      <td>Life Sciences Tools &amp; Services</td>\n",
       "      <td>1999</td>\n",
       "      <td>M</td>\n",
       "      <td>0.0</td>\n",
       "      <td>2 to 5 years</td>\n",
       "      <td>California</td>\n",
       "      <td>(15000000, 20000000]</td>\n",
       "    </tr>\n",
       "    <tr>\n",
       "      <th>4</th>\n",
       "      <td>A</td>\n",
       "      <td>2019</td>\n",
       "      <td>66.500000</td>\n",
       "      <td>85.680000</td>\n",
       "      <td>62.000000</td>\n",
       "      <td>85.309998</td>\n",
       "      <td>543573000</td>\n",
       "      <td>0.282857</td>\n",
       "      <td>2476.96</td>\n",
       "      <td>3247.93</td>\n",
       "      <td>...</td>\n",
       "      <td>3.7</td>\n",
       "      <td>2.5</td>\n",
       "      <td>Health Care</td>\n",
       "      <td>Life Sciences Tools &amp; Services</td>\n",
       "      <td>1999</td>\n",
       "      <td>M</td>\n",
       "      <td>0.0</td>\n",
       "      <td>2 to 5 years</td>\n",
       "      <td>California</td>\n",
       "      <td>(15000000, 20000000]</td>\n",
       "    </tr>\n",
       "    <tr>\n",
       "      <th>...</th>\n",
       "      <td>...</td>\n",
       "      <td>...</td>\n",
       "      <td>...</td>\n",
       "      <td>...</td>\n",
       "      <td>...</td>\n",
       "      <td>...</td>\n",
       "      <td>...</td>\n",
       "      <td>...</td>\n",
       "      <td>...</td>\n",
       "      <td>...</td>\n",
       "      <td>...</td>\n",
       "      <td>...</td>\n",
       "      <td>...</td>\n",
       "      <td>...</td>\n",
       "      <td>...</td>\n",
       "      <td>...</td>\n",
       "      <td>...</td>\n",
       "      <td>...</td>\n",
       "      <td>...</td>\n",
       "      <td>...</td>\n",
       "      <td>...</td>\n",
       "    </tr>\n",
       "    <tr>\n",
       "      <th>4369</th>\n",
       "      <td>ZTS</td>\n",
       "      <td>2019</td>\n",
       "      <td>84.510002</td>\n",
       "      <td>133.660004</td>\n",
       "      <td>81.370003</td>\n",
       "      <td>132.350006</td>\n",
       "      <td>531567200</td>\n",
       "      <td>0.566087</td>\n",
       "      <td>2476.96</td>\n",
       "      <td>3247.93</td>\n",
       "      <td>...</td>\n",
       "      <td>3.7</td>\n",
       "      <td>2.5</td>\n",
       "      <td>Health Care</td>\n",
       "      <td>Pharmaceuticals</td>\n",
       "      <td>1952</td>\n",
       "      <td>M</td>\n",
       "      <td>0.0</td>\n",
       "      <td>&lt;= 2 years</td>\n",
       "      <td>New Jersey</td>\n",
       "      <td>(15000000, 20000000]</td>\n",
       "    </tr>\n",
       "    <tr>\n",
       "      <th>4370</th>\n",
       "      <td>ZTS</td>\n",
       "      <td>2020</td>\n",
       "      <td>132.050003</td>\n",
       "      <td>176.639999</td>\n",
       "      <td>90.139999</td>\n",
       "      <td>165.500000</td>\n",
       "      <td>512124700</td>\n",
       "      <td>0.253313</td>\n",
       "      <td>3244.67</td>\n",
       "      <td>3760.20</td>\n",
       "      <td>...</td>\n",
       "      <td>8.1</td>\n",
       "      <td>-2.2</td>\n",
       "      <td>Health Care</td>\n",
       "      <td>Pharmaceuticals</td>\n",
       "      <td>1952</td>\n",
       "      <td>F</td>\n",
       "      <td>1.0</td>\n",
       "      <td>&lt;= 2 years</td>\n",
       "      <td>New Jersey</td>\n",
       "      <td>(15000000, 20000000]</td>\n",
       "    </tr>\n",
       "    <tr>\n",
       "      <th>4371</th>\n",
       "      <td>ZTS</td>\n",
       "      <td>2021</td>\n",
       "      <td>166.000000</td>\n",
       "      <td>249.270004</td>\n",
       "      <td>141.410004</td>\n",
       "      <td>244.029999</td>\n",
       "      <td>428719800</td>\n",
       "      <td>0.470060</td>\n",
       "      <td>3764.61</td>\n",
       "      <td>4808.93</td>\n",
       "      <td>...</td>\n",
       "      <td>5.4</td>\n",
       "      <td>5.8</td>\n",
       "      <td>Health Care</td>\n",
       "      <td>Pharmaceuticals</td>\n",
       "      <td>1952</td>\n",
       "      <td>F</td>\n",
       "      <td>0.0</td>\n",
       "      <td>&lt;= 2 years</td>\n",
       "      <td>New Jersey</td>\n",
       "      <td>(15000000, 20000000]</td>\n",
       "    </tr>\n",
       "    <tr>\n",
       "      <th>4372</th>\n",
       "      <td>ZTS</td>\n",
       "      <td>2022</td>\n",
       "      <td>242.289993</td>\n",
       "      <td>243.240005</td>\n",
       "      <td>124.150002</td>\n",
       "      <td>146.550003</td>\n",
       "      <td>549233100</td>\n",
       "      <td>-0.395146</td>\n",
       "      <td>4778.14</td>\n",
       "      <td>4818.62</td>\n",
       "      <td>...</td>\n",
       "      <td>3.6</td>\n",
       "      <td>1.9</td>\n",
       "      <td>Health Care</td>\n",
       "      <td>Pharmaceuticals</td>\n",
       "      <td>1952</td>\n",
       "      <td>F</td>\n",
       "      <td>0.0</td>\n",
       "      <td>&lt;= 2 years</td>\n",
       "      <td>New Jersey</td>\n",
       "      <td>(15000000, 20000000]</td>\n",
       "    </tr>\n",
       "    <tr>\n",
       "      <th>4373</th>\n",
       "      <td>ZTS</td>\n",
       "      <td>2023</td>\n",
       "      <td>148.660004</td>\n",
       "      <td>201.919998</td>\n",
       "      <td>141.520004</td>\n",
       "      <td>197.369995</td>\n",
       "      <td>485415000</td>\n",
       "      <td>0.327660</td>\n",
       "      <td>3853.29</td>\n",
       "      <td>4793.30</td>\n",
       "      <td>...</td>\n",
       "      <td>3.5</td>\n",
       "      <td>2.5</td>\n",
       "      <td>Health Care</td>\n",
       "      <td>Pharmaceuticals</td>\n",
       "      <td>1952</td>\n",
       "      <td>F</td>\n",
       "      <td>0.0</td>\n",
       "      <td>2 to 5 years</td>\n",
       "      <td>New Jersey</td>\n",
       "      <td>(15000000, 20000000]</td>\n",
       "    </tr>\n",
       "  </tbody>\n",
       "</table>\n",
       "<p>4366 rows × 26 columns</p>\n",
       "</div>"
      ],
      "text/plain": [
       "     Ticker  Year   Year_Open   Year_High    Year_Low  Year_Close Year_Volume  \\\n",
       "0         A  2015   41.180000   43.590000   33.119999   41.810001   645291900   \n",
       "1         A  2016   41.060001   48.630001   34.150002   45.560001   524933400   \n",
       "2         A  2017   45.930000   70.930000   45.740002   66.970001   464585300   \n",
       "3         A  2018   67.419998   75.110001   60.419998   67.459999   650604400   \n",
       "4         A  2019   66.500000   85.680000   62.000000   85.309998   543573000   \n",
       "...     ...   ...         ...         ...         ...         ...         ...   \n",
       "4369    ZTS  2019   84.510002  133.660004   81.370003  132.350006   531567200   \n",
       "4370    ZTS  2020  132.050003  176.639999   90.139999  165.500000   512124700   \n",
       "4371    ZTS  2021  166.000000  249.270004  141.410004  244.029999   428719800   \n",
       "4372    ZTS  2022  242.289993  243.240005  124.150002  146.550003   549233100   \n",
       "4373    ZTS  2023  148.660004  201.919998  141.520004  197.369995   485415000   \n",
       "\n",
       "      Stock_CAGR  SP500_Open  SP500_High  ...  UnemploymentRate  \\\n",
       "0       0.015299     2058.90     2134.72  ...               5.3   \n",
       "1       0.109596     2038.20     2277.53  ...               4.9   \n",
       "2       0.458088     2251.57     2694.97  ...               4.4   \n",
       "3       0.000593     2683.73     2940.91  ...               3.9   \n",
       "4       0.282857     2476.96     3247.93  ...               3.7   \n",
       "...          ...         ...         ...  ...               ...   \n",
       "4369    0.566087     2476.96     3247.93  ...               3.7   \n",
       "4370    0.253313     3244.67     3760.20  ...               8.1   \n",
       "4371    0.470060     3764.61     4808.93  ...               5.4   \n",
       "4372   -0.395146     4778.14     4818.62  ...               3.6   \n",
       "4373    0.327660     3853.29     4793.30  ...               3.5   \n",
       "\n",
       "      GDPGrowthRate  GICS Sector               GICS Sub-Industry  Founded  \\\n",
       "0               2.9  Health Care  Life Sciences Tools & Services     1999   \n",
       "1               1.8  Health Care  Life Sciences Tools & Services     1999   \n",
       "2               2.5  Health Care  Life Sciences Tools & Services     1999   \n",
       "3               3.0  Health Care  Life Sciences Tools & Services     1999   \n",
       "4               2.5  Health Care  Life Sciences Tools & Services     1999   \n",
       "...             ...          ...                             ...      ...   \n",
       "4369            2.5  Health Care                 Pharmaceuticals     1952   \n",
       "4370           -2.2  Health Care                 Pharmaceuticals     1952   \n",
       "4371            5.8  Health Care                 Pharmaceuticals     1952   \n",
       "4372            1.9  Health Care                 Pharmaceuticals     1952   \n",
       "4373            2.5  Health Care                 Pharmaceuticals     1952   \n",
       "\n",
       "      Gender  CEO Transition  Tenure Bucket HQ_US_State_or_Country  \\\n",
       "0          M             1.0     <= 2 years             California   \n",
       "1          M             0.0     <= 2 years             California   \n",
       "2          M             0.0     <= 2 years             California   \n",
       "3          M             0.0   2 to 5 years             California   \n",
       "4          M             0.0   2 to 5 years             California   \n",
       "...      ...             ...            ...                    ...   \n",
       "4369       M             0.0     <= 2 years             New Jersey   \n",
       "4370       F             1.0     <= 2 years             New Jersey   \n",
       "4371       F             0.0     <= 2 years             New Jersey   \n",
       "4372       F             0.0     <= 2 years             New Jersey   \n",
       "4373       F             0.0   2 to 5 years             New Jersey   \n",
       "\n",
       "             Salary_Bucket  \n",
       "0     (15000000, 20000000]  \n",
       "1     (15000000, 20000000]  \n",
       "2     (15000000, 20000000]  \n",
       "3     (15000000, 20000000]  \n",
       "4     (15000000, 20000000]  \n",
       "...                    ...  \n",
       "4369  (15000000, 20000000]  \n",
       "4370  (15000000, 20000000]  \n",
       "4371  (15000000, 20000000]  \n",
       "4372  (15000000, 20000000]  \n",
       "4373  (15000000, 20000000]  \n",
       "\n",
       "[4366 rows x 26 columns]"
      ]
     },
     "execution_count": 172,
     "metadata": {},
     "output_type": "execute_result"
    }
   ],
   "source": [
    "sp500_complete_df  = pd.merge(stock_sp500_metrics_df, company_df,  on=['Ticker', 'Year'], how='left').dropna()\n",
    "sp500_complete_df"
   ]
  },
  {
   "cell_type": "code",
   "execution_count": 173,
   "id": "5e0c9131",
   "metadata": {},
   "outputs": [
    {
     "name": "stdout",
     "output_type": "stream",
     "text": [
      "<class 'pandas.core.frame.DataFrame'>\n",
      "Index: 4366 entries, 0 to 4373\n",
      "Data columns (total 26 columns):\n",
      " #   Column                                        Non-Null Count  Dtype   \n",
      "---  ------                                        --------------  -----   \n",
      " 0   Ticker                                        4366 non-null   object  \n",
      " 1   Year                                          4366 non-null   object  \n",
      " 2   Year_Open                                     4366 non-null   float64 \n",
      " 3   Year_High                                     4366 non-null   float64 \n",
      " 4   Year_Low                                      4366 non-null   float64 \n",
      " 5   Year_Close                                    4366 non-null   float64 \n",
      " 6   Year_Volume                                   4366 non-null   object  \n",
      " 7   Stock_CAGR                                    4366 non-null   float64 \n",
      " 8   SP500_Open                                    4366 non-null   float64 \n",
      " 9   SP500_High                                    4366 non-null   float64 \n",
      " 10  SP500_Low                                     4366 non-null   float64 \n",
      " 11  SP500_Close                                   4366 non-null   float64 \n",
      " 12  SP500_CAGR                                    4366 non-null   float64 \n",
      " 13  Outperformed?                                 4366 non-null   int64   \n",
      " 14  Interest Rate (Federal Funds Effective Rate)  4366 non-null   float64 \n",
      " 15  CPI                                           4366 non-null   float64 \n",
      " 16  UnemploymentRate                              4366 non-null   float64 \n",
      " 17  GDPGrowthRate                                 4366 non-null   float64 \n",
      " 18  GICS Sector                                   4366 non-null   object  \n",
      " 19  GICS Sub-Industry                             4366 non-null   object  \n",
      " 20  Founded                                       4366 non-null   object  \n",
      " 21  Gender                                        4366 non-null   object  \n",
      " 22  CEO Transition                                4366 non-null   float64 \n",
      " 23  Tenure Bucket                                 4366 non-null   object  \n",
      " 24  HQ_US_State_or_Country                        4366 non-null   object  \n",
      " 25  Salary_Bucket                                 4366 non-null   category\n",
      "dtypes: category(1), float64(15), int64(1), object(9)\n",
      "memory usage: 891.5+ KB\n"
     ]
    }
   ],
   "source": [
    "sp500_complete_df.info()"
   ]
  },
  {
   "cell_type": "code",
   "execution_count": 174,
   "id": "b8454735",
   "metadata": {},
   "outputs": [],
   "source": [
    "sp500_complete_df.to_csv('data/sp500_complete.csv', index=False)"
   ]
  },
  {
   "cell_type": "code",
   "execution_count": 175,
   "id": "2505c137",
   "metadata": {},
   "outputs": [
    {
     "data": {
      "text/plain": [
       "Index(['Ticker', 'Year', 'Year_Open', 'Year_High', 'Year_Low', 'Year_Close',\n",
       "       'Year_Volume', 'Stock_CAGR', 'SP500_Open', 'SP500_High', 'SP500_Low',\n",
       "       'SP500_Close', 'SP500_CAGR', 'Outperformed?',\n",
       "       'Interest Rate (Federal Funds Effective Rate)', 'CPI',\n",
       "       'UnemploymentRate', 'GDPGrowthRate', 'GICS Sector', 'GICS Sub-Industry',\n",
       "       'Founded', 'Gender', 'CEO Transition', 'Tenure Bucket',\n",
       "       'HQ_US_State_or_Country', 'Salary_Bucket'],\n",
       "      dtype='object')"
      ]
     },
     "execution_count": 175,
     "metadata": {},
     "output_type": "execute_result"
    }
   ],
   "source": [
    "# Show data columns\n",
    "sp500_complete_df.columns"
   ]
  },
  {
   "cell_type": "code",
   "execution_count": 176,
   "id": "36a96281",
   "metadata": {},
   "outputs": [],
   "source": [
    "sp500_company_ml_df = sp500_complete_df.drop(columns=['Year_Open', 'Year_High', 'Year_Low', 'Year_Close',\n",
    "       'Year_Volume', 'Stock_CAGR', 'SP500_Open', 'SP500_High', 'SP500_Low',\n",
    "       'SP500_Close', 'SP500_CAGR'], axis=1)"
   ]
  },
  {
   "cell_type": "code",
   "execution_count": 177,
   "id": "a8987864",
   "metadata": {},
   "outputs": [
    {
     "data": {
      "text/html": [
       "<div>\n",
       "<style scoped>\n",
       "    .dataframe tbody tr th:only-of-type {\n",
       "        vertical-align: middle;\n",
       "    }\n",
       "\n",
       "    .dataframe tbody tr th {\n",
       "        vertical-align: top;\n",
       "    }\n",
       "\n",
       "    .dataframe thead th {\n",
       "        text-align: right;\n",
       "    }\n",
       "</style>\n",
       "<table border=\"1\" class=\"dataframe\">\n",
       "  <thead>\n",
       "    <tr style=\"text-align: right;\">\n",
       "      <th></th>\n",
       "      <th>Year</th>\n",
       "      <th>Outperformed?</th>\n",
       "      <th>Interest Rate (Federal Funds Effective Rate)</th>\n",
       "      <th>CPI</th>\n",
       "      <th>UnemploymentRate</th>\n",
       "      <th>GDPGrowthRate</th>\n",
       "      <th>GICS Sector</th>\n",
       "      <th>GICS Sub-Industry</th>\n",
       "      <th>Founded</th>\n",
       "      <th>Gender</th>\n",
       "      <th>CEO Transition</th>\n",
       "      <th>Tenure Bucket</th>\n",
       "      <th>HQ_US_State_or_Country</th>\n",
       "      <th>Salary_Bucket</th>\n",
       "    </tr>\n",
       "    <tr>\n",
       "      <th>Ticker</th>\n",
       "      <th></th>\n",
       "      <th></th>\n",
       "      <th></th>\n",
       "      <th></th>\n",
       "      <th></th>\n",
       "      <th></th>\n",
       "      <th></th>\n",
       "      <th></th>\n",
       "      <th></th>\n",
       "      <th></th>\n",
       "      <th></th>\n",
       "      <th></th>\n",
       "      <th></th>\n",
       "      <th></th>\n",
       "    </tr>\n",
       "  </thead>\n",
       "  <tbody>\n",
       "    <tr>\n",
       "      <th>A</th>\n",
       "      <td>2015</td>\n",
       "      <td>1</td>\n",
       "      <td>0.11</td>\n",
       "      <td>0.1</td>\n",
       "      <td>5.3</td>\n",
       "      <td>2.9</td>\n",
       "      <td>Health Care</td>\n",
       "      <td>Life Sciences Tools &amp; Services</td>\n",
       "      <td>1999</td>\n",
       "      <td>M</td>\n",
       "      <td>1.0</td>\n",
       "      <td>&lt;= 2 years</td>\n",
       "      <td>California</td>\n",
       "      <td>(15000000, 20000000]</td>\n",
       "    </tr>\n",
       "    <tr>\n",
       "      <th>A</th>\n",
       "      <td>2016</td>\n",
       "      <td>1</td>\n",
       "      <td>0.34</td>\n",
       "      <td>1.3</td>\n",
       "      <td>4.9</td>\n",
       "      <td>1.8</td>\n",
       "      <td>Health Care</td>\n",
       "      <td>Life Sciences Tools &amp; Services</td>\n",
       "      <td>1999</td>\n",
       "      <td>M</td>\n",
       "      <td>0.0</td>\n",
       "      <td>&lt;= 2 years</td>\n",
       "      <td>California</td>\n",
       "      <td>(15000000, 20000000]</td>\n",
       "    </tr>\n",
       "    <tr>\n",
       "      <th>A</th>\n",
       "      <td>2017</td>\n",
       "      <td>1</td>\n",
       "      <td>0.65</td>\n",
       "      <td>2.1</td>\n",
       "      <td>4.4</td>\n",
       "      <td>2.5</td>\n",
       "      <td>Health Care</td>\n",
       "      <td>Life Sciences Tools &amp; Services</td>\n",
       "      <td>1999</td>\n",
       "      <td>M</td>\n",
       "      <td>0.0</td>\n",
       "      <td>&lt;= 2 years</td>\n",
       "      <td>California</td>\n",
       "      <td>(15000000, 20000000]</td>\n",
       "    </tr>\n",
       "    <tr>\n",
       "      <th>A</th>\n",
       "      <td>2018</td>\n",
       "      <td>1</td>\n",
       "      <td>1.41</td>\n",
       "      <td>2.4</td>\n",
       "      <td>3.9</td>\n",
       "      <td>3.0</td>\n",
       "      <td>Health Care</td>\n",
       "      <td>Life Sciences Tools &amp; Services</td>\n",
       "      <td>1999</td>\n",
       "      <td>M</td>\n",
       "      <td>0.0</td>\n",
       "      <td>2 to 5 years</td>\n",
       "      <td>California</td>\n",
       "      <td>(15000000, 20000000]</td>\n",
       "    </tr>\n",
       "    <tr>\n",
       "      <th>A</th>\n",
       "      <td>2019</td>\n",
       "      <td>0</td>\n",
       "      <td>2.40</td>\n",
       "      <td>1.8</td>\n",
       "      <td>3.7</td>\n",
       "      <td>2.5</td>\n",
       "      <td>Health Care</td>\n",
       "      <td>Life Sciences Tools &amp; Services</td>\n",
       "      <td>1999</td>\n",
       "      <td>M</td>\n",
       "      <td>0.0</td>\n",
       "      <td>2 to 5 years</td>\n",
       "      <td>California</td>\n",
       "      <td>(15000000, 20000000]</td>\n",
       "    </tr>\n",
       "    <tr>\n",
       "      <th>...</th>\n",
       "      <td>...</td>\n",
       "      <td>...</td>\n",
       "      <td>...</td>\n",
       "      <td>...</td>\n",
       "      <td>...</td>\n",
       "      <td>...</td>\n",
       "      <td>...</td>\n",
       "      <td>...</td>\n",
       "      <td>...</td>\n",
       "      <td>...</td>\n",
       "      <td>...</td>\n",
       "      <td>...</td>\n",
       "      <td>...</td>\n",
       "      <td>...</td>\n",
       "    </tr>\n",
       "    <tr>\n",
       "      <th>ZTS</th>\n",
       "      <td>2019</td>\n",
       "      <td>1</td>\n",
       "      <td>2.40</td>\n",
       "      <td>1.8</td>\n",
       "      <td>3.7</td>\n",
       "      <td>2.5</td>\n",
       "      <td>Health Care</td>\n",
       "      <td>Pharmaceuticals</td>\n",
       "      <td>1952</td>\n",
       "      <td>M</td>\n",
       "      <td>0.0</td>\n",
       "      <td>&lt;= 2 years</td>\n",
       "      <td>New Jersey</td>\n",
       "      <td>(15000000, 20000000]</td>\n",
       "    </tr>\n",
       "    <tr>\n",
       "      <th>ZTS</th>\n",
       "      <td>2020</td>\n",
       "      <td>1</td>\n",
       "      <td>1.55</td>\n",
       "      <td>1.2</td>\n",
       "      <td>8.1</td>\n",
       "      <td>-2.2</td>\n",
       "      <td>Health Care</td>\n",
       "      <td>Pharmaceuticals</td>\n",
       "      <td>1952</td>\n",
       "      <td>F</td>\n",
       "      <td>1.0</td>\n",
       "      <td>&lt;= 2 years</td>\n",
       "      <td>New Jersey</td>\n",
       "      <td>(15000000, 20000000]</td>\n",
       "    </tr>\n",
       "    <tr>\n",
       "      <th>ZTS</th>\n",
       "      <td>2021</td>\n",
       "      <td>1</td>\n",
       "      <td>0.09</td>\n",
       "      <td>4.7</td>\n",
       "      <td>5.4</td>\n",
       "      <td>5.8</td>\n",
       "      <td>Health Care</td>\n",
       "      <td>Pharmaceuticals</td>\n",
       "      <td>1952</td>\n",
       "      <td>F</td>\n",
       "      <td>0.0</td>\n",
       "      <td>&lt;= 2 years</td>\n",
       "      <td>New Jersey</td>\n",
       "      <td>(15000000, 20000000]</td>\n",
       "    </tr>\n",
       "    <tr>\n",
       "      <th>ZTS</th>\n",
       "      <td>2022</td>\n",
       "      <td>0</td>\n",
       "      <td>0.08</td>\n",
       "      <td>8.0</td>\n",
       "      <td>3.6</td>\n",
       "      <td>1.9</td>\n",
       "      <td>Health Care</td>\n",
       "      <td>Pharmaceuticals</td>\n",
       "      <td>1952</td>\n",
       "      <td>F</td>\n",
       "      <td>0.0</td>\n",
       "      <td>&lt;= 2 years</td>\n",
       "      <td>New Jersey</td>\n",
       "      <td>(15000000, 20000000]</td>\n",
       "    </tr>\n",
       "    <tr>\n",
       "      <th>ZTS</th>\n",
       "      <td>2023</td>\n",
       "      <td>1</td>\n",
       "      <td>4.33</td>\n",
       "      <td>3.2</td>\n",
       "      <td>3.5</td>\n",
       "      <td>2.5</td>\n",
       "      <td>Health Care</td>\n",
       "      <td>Pharmaceuticals</td>\n",
       "      <td>1952</td>\n",
       "      <td>F</td>\n",
       "      <td>0.0</td>\n",
       "      <td>2 to 5 years</td>\n",
       "      <td>New Jersey</td>\n",
       "      <td>(15000000, 20000000]</td>\n",
       "    </tr>\n",
       "  </tbody>\n",
       "</table>\n",
       "<p>4366 rows × 14 columns</p>\n",
       "</div>"
      ],
      "text/plain": [
       "        Year  Outperformed?  Interest Rate (Federal Funds Effective Rate)  \\\n",
       "Ticker                                                                      \n",
       "A       2015              1                                          0.11   \n",
       "A       2016              1                                          0.34   \n",
       "A       2017              1                                          0.65   \n",
       "A       2018              1                                          1.41   \n",
       "A       2019              0                                          2.40   \n",
       "...      ...            ...                                           ...   \n",
       "ZTS     2019              1                                          2.40   \n",
       "ZTS     2020              1                                          1.55   \n",
       "ZTS     2021              1                                          0.09   \n",
       "ZTS     2022              0                                          0.08   \n",
       "ZTS     2023              1                                          4.33   \n",
       "\n",
       "        CPI  UnemploymentRate  GDPGrowthRate  GICS Sector  \\\n",
       "Ticker                                                      \n",
       "A       0.1               5.3            2.9  Health Care   \n",
       "A       1.3               4.9            1.8  Health Care   \n",
       "A       2.1               4.4            2.5  Health Care   \n",
       "A       2.4               3.9            3.0  Health Care   \n",
       "A       1.8               3.7            2.5  Health Care   \n",
       "...     ...               ...            ...          ...   \n",
       "ZTS     1.8               3.7            2.5  Health Care   \n",
       "ZTS     1.2               8.1           -2.2  Health Care   \n",
       "ZTS     4.7               5.4            5.8  Health Care   \n",
       "ZTS     8.0               3.6            1.9  Health Care   \n",
       "ZTS     3.2               3.5            2.5  Health Care   \n",
       "\n",
       "                     GICS Sub-Industry Founded Gender  CEO Transition  \\\n",
       "Ticker                                                                  \n",
       "A       Life Sciences Tools & Services    1999      M             1.0   \n",
       "A       Life Sciences Tools & Services    1999      M             0.0   \n",
       "A       Life Sciences Tools & Services    1999      M             0.0   \n",
       "A       Life Sciences Tools & Services    1999      M             0.0   \n",
       "A       Life Sciences Tools & Services    1999      M             0.0   \n",
       "...                                ...     ...    ...             ...   \n",
       "ZTS                    Pharmaceuticals    1952      M             0.0   \n",
       "ZTS                    Pharmaceuticals    1952      F             1.0   \n",
       "ZTS                    Pharmaceuticals    1952      F             0.0   \n",
       "ZTS                    Pharmaceuticals    1952      F             0.0   \n",
       "ZTS                    Pharmaceuticals    1952      F             0.0   \n",
       "\n",
       "       Tenure Bucket HQ_US_State_or_Country         Salary_Bucket  \n",
       "Ticker                                                             \n",
       "A         <= 2 years             California  (15000000, 20000000]  \n",
       "A         <= 2 years             California  (15000000, 20000000]  \n",
       "A         <= 2 years             California  (15000000, 20000000]  \n",
       "A       2 to 5 years             California  (15000000, 20000000]  \n",
       "A       2 to 5 years             California  (15000000, 20000000]  \n",
       "...              ...                    ...                   ...  \n",
       "ZTS       <= 2 years             New Jersey  (15000000, 20000000]  \n",
       "ZTS       <= 2 years             New Jersey  (15000000, 20000000]  \n",
       "ZTS       <= 2 years             New Jersey  (15000000, 20000000]  \n",
       "ZTS       <= 2 years             New Jersey  (15000000, 20000000]  \n",
       "ZTS     2 to 5 years             New Jersey  (15000000, 20000000]  \n",
       "\n",
       "[4366 rows x 14 columns]"
      ]
     },
     "execution_count": 177,
     "metadata": {},
     "output_type": "execute_result"
    }
   ],
   "source": [
    "sp500_company_ml_df = sp500_company_ml_df.set_index('Ticker')\n",
    "sp500_company_ml_df"
   ]
  },
  {
   "cell_type": "code",
   "execution_count": 178,
   "id": "e019b70d",
   "metadata": {},
   "outputs": [],
   "source": [
    "sp500_company_ml_df.to_csv('data/sp500_company_ml.csv', index=False)"
   ]
  },
  {
   "cell_type": "code",
   "execution_count": null,
   "id": "0ab1030f",
   "metadata": {},
   "outputs": [],
   "source": []
  }
 ],
 "metadata": {
  "kernelspec": {
   "display_name": "Python [conda env:dev]",
   "language": "python",
   "name": "conda-env-dev-py"
  },
  "language_info": {
   "codemirror_mode": {
    "name": "ipython",
    "version": 3
   },
   "file_extension": ".py",
   "mimetype": "text/x-python",
   "name": "python",
   "nbconvert_exporter": "python",
   "pygments_lexer": "ipython3",
   "version": "3.10.13"
  }
 },
 "nbformat": 4,
 "nbformat_minor": 5
}
